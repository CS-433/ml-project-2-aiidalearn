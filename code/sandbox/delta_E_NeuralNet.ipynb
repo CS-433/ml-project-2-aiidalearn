{
 "cells": [
  {
   "cell_type": "code",
   "execution_count": 1,
   "id": "98391daa",
   "metadata": {},
   "outputs": [],
   "source": [
    "import os\n",
    "import sys\n",
    "\n",
    "import matplotlib.pyplot as plt\n",
    "import numpy as np\n",
    "from rich.console import Console\n",
    "import torch\n",
    "import torch.nn as nn\n",
    "from sklearn.preprocessing import StandardScaler\n",
    "from copy import deepcopy\n",
    "\n",
    "sys.path.append(os.path.dirname(os.getcwd()))\n",
    "from tools.utils import (\n",
    "    StructureEncoding,\n",
    "    Target,\n",
    ")\n",
    "from tools.data_loader import TestSet, TestSplit, data_loader\n",
    "from tools.transform import CustomLogTargetTransformer\n",
    "from tools.train import evaluate_models\n",
    "%load_ext autoreload\n",
    "%load_ext rich\n",
    "%autoreload 2"
   ]
  },
  {
   "cell_type": "code",
   "execution_count": 2,
   "id": "af524e88",
   "metadata": {},
   "outputs": [],
   "source": [
    "console = Console()"
   ]
  },
  {
   "cell_type": "code",
   "execution_count": 3,
   "id": "a0621691",
   "metadata": {},
   "outputs": [],
   "source": [
    "device = torch.device(\"cuda:0\" if torch.cuda.is_available() else \"cpu\")"
   ]
  },
  {
   "cell_type": "markdown",
   "id": "d6fbb891",
   "metadata": {},
   "source": [
    "# Loading Data"
   ]
  },
  {
   "cell_type": "code",
   "execution_count": 4,
   "id": "2fab3f67",
   "metadata": {},
   "outputs": [],
   "source": [
    "DATA_DIR = os.path.join(\n",
    "    os.path.dirname(os.path.dirname(os.getcwd())), \"data/\"\n",
    ")\n",
    "DATA_PATH = os.path.join(DATA_DIR, \"data.csv\")"
   ]
  },
  {
   "cell_type": "code",
   "execution_count": 5,
   "id": "17a78dc0",
   "metadata": {},
   "outputs": [
    {
     "data": {
      "text/html": [
       "<pre style=\"white-space:pre;overflow-x:auto;line-height:normal;font-family:Menlo,'DejaVu Sans Mono',consolas,'Courier New',monospace\"><span style=\"color: #008000; text-decoration-color: #008000\">⠴</span> Loading data\n",
       "</pre>\n"
      ],
      "text/plain": [
       "\u001b[32m⠴\u001b[0m Loading data\n"
      ]
     },
     "metadata": {},
     "output_type": "display_data"
    },
    {
     "data": {
      "text/html": [
       "<pre style=\"white-space:pre;overflow-x:auto;line-height:normal;font-family:Menlo,'DejaVu Sans Mono',consolas,'Courier New',monospace\"></pre>\n"
      ],
      "text/plain": []
     },
     "metadata": {},
     "output_type": "display_data"
    },
    {
     "data": {
      "text/html": [
       "<pre style=\"white-space:pre;overflow-x:auto;line-height:normal;font-family:Menlo,'DejaVu Sans Mono',consolas,'Courier New',monospace\">╭───────── Loaded Dataset ─────────╮\n",
       "│ Train set: 80%                   │\n",
       "│ Test set 0 (Parameter gen.): 10% │\n",
       "│ Test set 1 (Structure gen.): 10% │\n",
       "│ Total datapoints: 539583         │\n",
       "│ Size: ~388.5MB                   │\n",
       "╰──────────────────────────────────╯\n",
       "</pre>\n"
      ],
      "text/plain": [
       "╭───────── Loaded Dataset ─────────╮\n",
       "│ Train set: 80%                   │\n",
       "│ Test set 0 (Parameter gen.): 10% │\n",
       "│ Test set 1 (Structure gen.): 10% │\n",
       "│ Total datapoints: 539583         │\n",
       "│ Size: ~388.5MB                   │\n",
       "╰──────────────────────────────────╯\n"
      ]
     },
     "metadata": {},
     "output_type": "display_data"
    }
   ],
   "source": [
    "encoding = StructureEncoding.ATOMIC\n",
    "target = Target.DELTA_E\n",
    "test_sets_cfg = [\n",
    "    TestSet(\"Parameter gen.\", size=0.1, split=TestSplit.ROW),\n",
    "    TestSet(\"Structure gen.\", size=0.1, split=TestSplit.STRUCTURE),\n",
    "]\n",
    "\n",
    "# Data Loading\n",
    "X_train_raw, y_train_raw, test_sets_raw = data_loader(\n",
    "    target=target,\n",
    "    encoding=encoding,\n",
    "    data_path=DATA_PATH,\n",
    "    test_sets_cfg=test_sets_cfg,\n",
    "    console=console,\n",
    "    remove_ref_rows=True,\n",
    ")"
   ]
  },
  {
   "cell_type": "code",
   "execution_count": 6,
   "id": "bed00b1d",
   "metadata": {},
   "outputs": [],
   "source": [
    "std_scaler = StandardScaler().fit(X_train_raw)\n",
    "target_transformer = CustomLogTargetTransformer().fit(y_train_raw)"
   ]
  },
  {
   "cell_type": "code",
   "execution_count": 7,
   "id": "79e51f04",
   "metadata": {},
   "outputs": [],
   "source": [
    "X_train = torch.Tensor(std_scaler.transform(X_train_raw)).to(device)\n",
    "y_train = torch.Tensor(y_train_raw.values).reshape(-1, 1).to(device)\n",
    "logy_train = torch.Tensor(target_transformer.transform(y_train_raw).values).reshape(-1,1).to(device)\n",
    "\n",
    "test_sets = []\n",
    "test_sets_log = []\n",
    "for name, X_test_raw, y_test_raw in test_sets_raw:\n",
    "    X_test = torch.Tensor(std_scaler.transform(X_test_raw)).to(device)\n",
    "    y_test = torch.Tensor(y_test_raw.values).reshape(-1, 1).to(device)\n",
    "    logy_test = torch.Tensor(target_transformer.transform(y_test_raw).values).reshape(-1, 1).to(device)\n",
    "    test_sets.append((name, X_test, y_test))\n",
    "    test_sets_log.append((name, X_test, logy_test))"
   ]
  },
  {
   "cell_type": "markdown",
   "id": "01c31922",
   "metadata": {},
   "source": [
    "# Model definition"
   ]
  },
  {
   "cell_type": "code",
   "execution_count": 85,
   "id": "6112f86b",
   "metadata": {},
   "outputs": [],
   "source": [
    "class MLP(nn.Module):\n",
    "    def __init__(self, input_size):\n",
    "        super(MLP, self).__init__()\n",
    "        N = 200\n",
    "        self.layers = nn.Sequential(\n",
    "            # nn.Linear(input_size, 1),\n",
    "            nn.Linear(input_size, N),\n",
    "            nn.ReLU(),\n",
    "            nn.Linear(N, N),\n",
    "            nn.ReLU(),\n",
    "            nn.Linear(N, N),\n",
    "            nn.ReLU(),\n",
    "            nn.Linear(N, 1),\n",
    "        )\n",
    "        \n",
    "    def forward(self, x):\n",
    "        return torch.abs(self.layers(x))\n",
    "    \n",
    "    def predict(self, x):\n",
    "        return self.forward(x).detach()"
   ]
  },
  {
   "cell_type": "code",
   "execution_count": 86,
   "id": "62ed00b2",
   "metadata": {},
   "outputs": [
    {
     "name": "stdout",
     "output_type": "stream",
     "text": [
      "MLP(\n",
      "  (layers): Sequential(\n",
      "    (0): Linear(in_features=89, out_features=200, bias=True)\n",
      "    (1): ReLU()\n",
      "    (2): Linear(in_features=200, out_features=200, bias=True)\n",
      "    (3): ReLU()\n",
      "    (4): Linear(in_features=200, out_features=200, bias=True)\n",
      "    (5): ReLU()\n",
      "    (6): Linear(in_features=200, out_features=1, bias=True)\n",
      "  )\n",
      ")\n"
     ]
    }
   ],
   "source": [
    "model = MLP(X_train.shape[1])\n",
    "model = model.to(device)\n",
    "print(model)"
   ]
  },
  {
   "cell_type": "code",
   "execution_count": 87,
   "id": "698473f9",
   "metadata": {},
   "outputs": [],
   "source": [
    "class MAPELoss(nn.Module):\n",
    "    def __init__(self):\n",
    "        super(MAPELoss, self).__init__()\n",
    " \n",
    "    def forward(self, output, target):\n",
    "        return torch.mean((target - output).abs() / target.abs())\n",
    "\n",
    "class CustomLoss(nn.Module):\n",
    "    def __init__(self, mu = 1.0):\n",
    "        super(CustomLoss, self).__init__()\n",
    "        self.mu = mu\n",
    " \n",
    "    def forward(self, output, target):\n",
    "        return torch.mean((target - output).abs() * (self.mu + 1.0 / target.abs()))"
   ]
  },
  {
   "cell_type": "code",
   "execution_count": 90,
   "id": "81c1d647",
   "metadata": {},
   "outputs": [
    {
     "name": "stdout",
     "output_type": "stream",
     "text": [
      "[Epoch 50/50]: train 1.7012E+02 1.4213e+00\ttests Parameter gen.: 1.4237E+00\tStructure gen.: 1.4768E+00\r"
     ]
    }
   ],
   "source": [
    "optimizer = torch.optim.Adam(model.parameters(), lr=1e-4)\n",
    "\n",
    "loss_train = CustomLoss(mu=3e3)\n",
    "loss_test = MAPELoss()\n",
    "\n",
    "epochs = 50\n",
    "\n",
    "for epoch in range(epochs):\n",
    "    # train phase\n",
    "    model.train()\n",
    "    y_pred = model(X_train)\n",
    "    loss = loss_train(y_pred, y_train)\n",
    "    optimizer.zero_grad()\n",
    "    loss.backward()\n",
    "    optimizer.step()\n",
    "\n",
    "    # eval phase\n",
    "    model.eval()\n",
    "    print(\n",
    "        f\"[Epoch {epoch+1}/{epochs}]: train {loss.item():.4E} {loss_test(model(X_train), y_train):.4e}\"\n",
    "        +\"\\ttests \"\n",
    "        + \"\\t\".join([f\"{name}: {loss_test(model(X_test), y_test):.4E}\" for name, X_test, y_test in test_sets]),\n",
    "        end=\"\\r\"\n",
    "    )"
   ]
  },
  {
   "cell_type": "code",
   "execution_count": 91,
   "id": "e0932315",
   "metadata": {},
   "outputs": [
    {
     "data": {
      "text/html": [
       "<pre style=\"white-space:pre;overflow-x:auto;line-height:normal;font-family:Menlo,'DejaVu Sans Mono',consolas,'Courier New',monospace\"><span style=\"color: #008000; text-decoration-color: #008000\">⠙</span> <span style=\"color: #000080; text-decoration-color: #000080; font-weight: bold\">Evaluating MLP...</span>\n",
       "</pre>\n"
      ],
      "text/plain": [
       "\u001b[32m⠙\u001b[0m \u001b[1;34mEvaluating MLP...\u001b[0m\n"
      ]
     },
     "metadata": {},
     "output_type": "display_data"
    },
    {
     "data": {
      "text/html": [
       "<pre style=\"white-space:pre;overflow-x:auto;line-height:normal;font-family:Menlo,'DejaVu Sans Mono',consolas,'Courier New',monospace\"><span style=\"font-style: italic\">                                    MLP                                     </span>\n",
       "┏━━━━━━━━━━━━━┳━━━━━━━━━━━━┳━━━━━━━━━━━━━━━━━━━━━━━┳━━━━━━━━━━━━━━━━━━━━━━━┓\n",
       "┃<span style=\"font-weight: bold\">  Loss name  </span>┃<span style=\"font-weight: bold\">   Train    </span>┃<span style=\"font-weight: bold\"> Test - Parameter gen. </span>┃<span style=\"font-weight: bold\"> Test - Structure gen. </span>┃\n",
       "┡━━━━━━━━━━━━━╇━━━━━━━━━━━━╇━━━━━━━━━━━━━━━━━━━━━━━╇━━━━━━━━━━━━━━━━━━━━━━━┩\n",
       "│<span style=\"color: #008080; text-decoration-color: #008080\">     MSE     </span>│<span style=\"color: #008000; text-decoration-color: #008000\"> 5.4198E-02 </span>│<span style=\"color: #008000; text-decoration-color: #008000\">      5.1681E-02       </span>│<span style=\"color: #008000; text-decoration-color: #008000\">      4.3621E-02       </span>│\n",
       "│<span style=\"color: #008080; text-decoration-color: #008080\">     MAE     </span>│<span style=\"color: #008000; text-decoration-color: #008000\"> 5.6003E-02 </span>│<span style=\"color: #008000; text-decoration-color: #008000\">      5.4714E-02       </span>│<span style=\"color: #008000; text-decoration-color: #008000\">      4.8771E-02       </span>│\n",
       "│<span style=\"color: #008080; text-decoration-color: #008080\">    MAPE     </span>│<span style=\"color: #008000; text-decoration-color: #008000\"> 1.4212E+00 </span>│<span style=\"color: #008000; text-decoration-color: #008000\">      1.4237E+00       </span>│<span style=\"color: #008000; text-decoration-color: #008000\">      1.4767E+00       </span>│\n",
       "│<span style=\"color: #008080; text-decoration-color: #008080\"> Custom MAPE </span>│<span style=\"color: #008000; text-decoration-color: #008000\"> 2.5934E+04 </span>│<span style=\"color: #008000; text-decoration-color: #008000\">      2.3709E+05       </span>│<span style=\"color: #008000; text-decoration-color: #008000\">      2.8422E+00       </span>│\n",
       "│<span style=\"color: #008080; text-decoration-color: #008080\">   50%-APE   </span>│<span style=\"color: #008000; text-decoration-color: #008000\"> 9.9599E-01 </span>│<span style=\"color: #008000; text-decoration-color: #008000\">      9.9609E-01       </span>│<span style=\"color: #008000; text-decoration-color: #008000\">      9.9590E-01       </span>│\n",
       "│<span style=\"color: #008080; text-decoration-color: #008080\">   90%-APE   </span>│<span style=\"color: #008000; text-decoration-color: #008000\"> 9.9991E-01 </span>│<span style=\"color: #008000; text-decoration-color: #008000\">      9.9991E-01       </span>│<span style=\"color: #008000; text-decoration-color: #008000\">      9.9989E-01       </span>│\n",
       "└─────────────┴────────────┴───────────────────────┴───────────────────────┘\n",
       "</pre>\n"
      ],
      "text/plain": [
       "\u001b[3m                                    MLP                                     \u001b[0m\n",
       "┏━━━━━━━━━━━━━┳━━━━━━━━━━━━┳━━━━━━━━━━━━━━━━━━━━━━━┳━━━━━━━━━━━━━━━━━━━━━━━┓\n",
       "┃\u001b[1m \u001b[0m\u001b[1m Loss name \u001b[0m\u001b[1m \u001b[0m┃\u001b[1m \u001b[0m\u001b[1m  Train   \u001b[0m\u001b[1m \u001b[0m┃\u001b[1m \u001b[0m\u001b[1mTest - Parameter gen.\u001b[0m\u001b[1m \u001b[0m┃\u001b[1m \u001b[0m\u001b[1mTest - Structure gen.\u001b[0m\u001b[1m \u001b[0m┃\n",
       "┡━━━━━━━━━━━━━╇━━━━━━━━━━━━╇━━━━━━━━━━━━━━━━━━━━━━━╇━━━━━━━━━━━━━━━━━━━━━━━┩\n",
       "│\u001b[36m \u001b[0m\u001b[36m    MSE    \u001b[0m\u001b[36m \u001b[0m│\u001b[32m \u001b[0m\u001b[32m5.4198E-02\u001b[0m\u001b[32m \u001b[0m│\u001b[32m \u001b[0m\u001b[32m     5.1681E-02      \u001b[0m\u001b[32m \u001b[0m│\u001b[32m \u001b[0m\u001b[32m     4.3621E-02      \u001b[0m\u001b[32m \u001b[0m│\n",
       "│\u001b[36m \u001b[0m\u001b[36m    MAE    \u001b[0m\u001b[36m \u001b[0m│\u001b[32m \u001b[0m\u001b[32m5.6003E-02\u001b[0m\u001b[32m \u001b[0m│\u001b[32m \u001b[0m\u001b[32m     5.4714E-02      \u001b[0m\u001b[32m \u001b[0m│\u001b[32m \u001b[0m\u001b[32m     4.8771E-02      \u001b[0m\u001b[32m \u001b[0m│\n",
       "│\u001b[36m \u001b[0m\u001b[36m   MAPE    \u001b[0m\u001b[36m \u001b[0m│\u001b[32m \u001b[0m\u001b[32m1.4212E+00\u001b[0m\u001b[32m \u001b[0m│\u001b[32m \u001b[0m\u001b[32m     1.4237E+00      \u001b[0m\u001b[32m \u001b[0m│\u001b[32m \u001b[0m\u001b[32m     1.4767E+00      \u001b[0m\u001b[32m \u001b[0m│\n",
       "│\u001b[36m \u001b[0m\u001b[36mCustom MAPE\u001b[0m\u001b[36m \u001b[0m│\u001b[32m \u001b[0m\u001b[32m2.5934E+04\u001b[0m\u001b[32m \u001b[0m│\u001b[32m \u001b[0m\u001b[32m     2.3709E+05      \u001b[0m\u001b[32m \u001b[0m│\u001b[32m \u001b[0m\u001b[32m     2.8422E+00      \u001b[0m\u001b[32m \u001b[0m│\n",
       "│\u001b[36m \u001b[0m\u001b[36m  50%-APE  \u001b[0m\u001b[36m \u001b[0m│\u001b[32m \u001b[0m\u001b[32m9.9599E-01\u001b[0m\u001b[32m \u001b[0m│\u001b[32m \u001b[0m\u001b[32m     9.9609E-01      \u001b[0m\u001b[32m \u001b[0m│\u001b[32m \u001b[0m\u001b[32m     9.9590E-01      \u001b[0m\u001b[32m \u001b[0m│\n",
       "│\u001b[36m \u001b[0m\u001b[36m  90%-APE  \u001b[0m\u001b[36m \u001b[0m│\u001b[32m \u001b[0m\u001b[32m9.9991E-01\u001b[0m\u001b[32m \u001b[0m│\u001b[32m \u001b[0m\u001b[32m     9.9991E-01      \u001b[0m\u001b[32m \u001b[0m│\u001b[32m \u001b[0m\u001b[32m     9.9989E-01      \u001b[0m\u001b[32m \u001b[0m│\n",
       "└─────────────┴────────────┴───────────────────────┴───────────────────────┘\n"
      ]
     },
     "metadata": {},
     "output_type": "display_data"
    },
    {
     "data": {
      "text/html": [
       "<pre style=\"white-space:pre;overflow-x:auto;line-height:normal;font-family:Menlo,'DejaVu Sans Mono',consolas,'Courier New',monospace\"></pre>\n"
      ],
      "text/plain": []
     },
     "metadata": {},
     "output_type": "display_data"
    }
   ],
   "source": [
    "evaluate_models(\n",
    "    {\"MLP\": deepcopy(model).to(\"cpu\")},\n",
    "    X_train.cpu(),\n",
    "    y_train.cpu(),\n",
    "    [(name, X_test.cpu(), y_test.cpu()) for name, X_test, y_test in test_sets],\n",
    "    console,\n",
    ")"
   ]
  },
  {
   "cell_type": "code",
   "execution_count": 92,
   "id": "6501b30f",
   "metadata": {},
   "outputs": [
    {
     "data": {
      "image/png": "[encoded data removed]"
     },
     "metadata": {
      "needs_background": "light"
     },
     "output_type": "display_data"
    }
   ],
   "source": [
    "# plot hist of predictions and true values\n",
    "plt.figure(figsize=(10, 10))\n",
    "# plt.hist(y_train.cpu().numpy(), bins=100, label=\"train\")\n",
    "plt.hist(model(X_train).detach().cpu().numpy(), bins=100, label=\"pred\")\n",
    "plt.legend()\n",
    "plt.show()"
   ]
  },
  {
   "cell_type": "code",
   "execution_count": 93,
   "id": "b8ea11b9",
   "metadata": {},
   "outputs": [
    {
     "data": {
      "text/html": [
       "<pre style=\"white-space:pre;overflow-x:auto;line-height:normal;font-family:Menlo,'DejaVu Sans Mono',consolas,'Courier New',monospace\"><span style=\"color: #800080; text-decoration-color: #800080; font-weight: bold\">Text</span><span style=\"font-weight: bold\">(</span><span style=\"color: #008080; text-decoration-color: #008080; font-weight: bold\">0.5</span>, <span style=\"color: #008080; text-decoration-color: #008080; font-weight: bold\">0</span>, <span style=\"color: #008000; text-decoration-color: #008000\">'ecutwfc'</span><span style=\"font-weight: bold\">)</span>\n",
       "</pre>\n"
      ],
      "text/plain": [
       "\u001b[1;35mText\u001b[0m\u001b[1m(\u001b[0m\u001b[1;36m0.5\u001b[0m, \u001b[1;36m0\u001b[0m, \u001b[32m'ecutwfc'\u001b[0m\u001b[1m)\u001b[0m\n"
      ]
     },
     "metadata": {},
     "output_type": "display_data"
    },
    {
     "data": {
      "image/png": "[encoded data removed]"
     },
     "metadata": {
      "needs_background": "light"
     },
     "output_type": "display_data"
    }
   ],
   "source": [
    "fig, ax = plt.subplots(1,3,figsize=(18,6), sharey=True)\n",
    "for i in range(3):\n",
    "    ax[i].scatter(X_train.cpu().numpy()[:,i], y_train.cpu())\n",
    "    ax[i].scatter(X_test.cpu().numpy()[:,i], y_test.cpu())\n",
    "    ax[i].scatter(X_test.cpu().numpy()[:,i], model(X_test).cpu().detach())\n",
    "ax[0].set_xlabel(\"ecutrho\")\n",
    "ax[1].set_xlabel('k_density')\n",
    "ax[2].set_xlabel('ecutwfc')"
   ]
  }
 ],
 "metadata": {
  "kernelspec": {
   "display_name": "Python 3",
   "language": "python",
   "name": "python3"
  },
  "language_info": {
   "codemirror_mode": {
    "name": "ipython",
    "version": 3
   },
   "file_extension": ".py",
   "mimetype": "text/x-python",
   "name": "python",
   "nbconvert_exporter": "python",
   "pygments_lexer": "ipython3",
   "version": "3.8.10"
  }
 },
 "nbformat": 4,
 "nbformat_minor": 5
}
