{
 "cells": [
  {
   "cell_type": "code",
   "execution_count": 2,
   "id": "99aca399",
   "metadata": {},
   "outputs": [],
   "source": [
    "import json, requests\n",
    "import pandas as pd"
   ]
  },
  {
   "cell_type": "markdown",
   "id": "4bde7cf8",
   "metadata": {},
   "source": [
    "## Investigation of json file"
   ]
  },
  {
   "cell_type": "code",
   "execution_count": 3,
   "id": "c5b2c585",
   "metadata": {},
   "outputs": [],
   "source": [
    "base_url = \"https://www.materialscloud.org/mcloud/api/v2/discover/sssp/elements/\"\n",
    "element = 'H'\n",
    "url = requests.get(base_url + element)\n",
    "rawj = json.loads(url.text)"
   ]
  },
  {
   "cell_type": "code",
   "execution_count": 4,
   "id": "f3337d22",
   "metadata": {},
   "outputs": [
    {
     "data": {
      "text/plain": [
       "dict_keys(['bands_filenames', 'chessboards_filenames', 'data', 'efficiency_filenames', 'eos_filenames', 'method', 'path', 'precision_filenames', 'url', 'url_root'])"
      ]
     },
     "execution_count": 4,
     "metadata": {},
     "output_type": "execute_result"
    }
   ],
   "source": [
    "rawj.keys()"
   ]
  },
  {
   "cell_type": "code",
   "execution_count": 5,
   "id": "021060e1",
   "metadata": {},
   "outputs": [
    {
     "data": {
      "text/plain": [
       "dict_keys(['X_series', 'Y_series', 'default', 'framework'])"
      ]
     },
     "execution_count": 5,
     "metadata": {},
     "output_type": "execute_result"
    }
   ],
   "source": [
    "rawj['data'].keys()"
   ]
  },
  {
   "cell_type": "code",
   "execution_count": 6,
   "id": "3391425c",
   "metadata": {},
   "outputs": [
    {
     "data": {
      "text/plain": [
       "dict_keys(['B0', 'B1', 'V0', 'cohesive_energy', 'cohesive_energy_percentage', 'delta', 'phonon_frequencies', 'phonon_frequencies_percentage', 'pressure', 'pressure_percentage'])"
      ]
     },
     "execution_count": 6,
     "metadata": {},
     "output_type": "execute_result"
    }
   ],
   "source": [
    "data = rawj['data']\n",
    "data['Y_series'].keys()"
   ]
  },
  {
   "cell_type": "code",
   "execution_count": 7,
   "id": "686d0906",
   "metadata": {},
   "outputs": [
    {
     "name": "stdout",
     "output_type": "stream",
     "text": [
      "dict_keys(['GBRV_1.2', 'GBRV_1.4', 'Goedecker', 'SG15', 'pslib.0.3.1_PBE_PAW', 'pslib.0.3.1_PBE_US', 'pslib.1.0.0_PBE_PAW', 'pslib.1.0.0_PBE_US'])\n",
      "dict_keys(['GBRV_1.2', 'GBRV_1.4', 'Goedecker', 'SG15', 'pslib.0.3.1_PBE_PAW', 'pslib.0.3.1_PBE_US', 'pslib.1.0.0_PBE_PAW', 'pslib.1.0.0_PBE_US'])\n",
      "dict_keys(['GBRV_1.2', 'GBRV_1.4', 'Goedecker', 'SG15', 'pslib.0.3.1_PBE_PAW', 'pslib.0.3.1_PBE_US', 'pslib.1.0.0_PBE_PAW', 'pslib.1.0.0_PBE_US'])\n",
      "dict_keys(['GBRV_1.2', 'GBRV_1.4', 'Goedecker', 'SG15', 'pslib.0.3.1_PBE_PAW', 'pslib.0.3.1_PBE_US', 'pslib.1.0.0_PBE_PAW', 'pslib.1.0.0_PBE_US'])\n",
      "dict_keys(['GBRV_1.2', 'GBRV_1.4', 'Goedecker', 'SG15', 'pslib.0.3.1_PBE_PAW', 'pslib.0.3.1_PBE_US', 'pslib.1.0.0_PBE_PAW', 'pslib.1.0.0_PBE_US'])\n",
      "dict_keys(['GBRV_1.2', 'GBRV_1.4', 'Goedecker', 'SG15', 'pslib.0.3.1_PBE_PAW', 'pslib.0.3.1_PBE_US', 'pslib.1.0.0_PBE_PAW', 'pslib.1.0.0_PBE_US'])\n",
      "dict_keys(['GBRV_1.2', 'GBRV_1.4', 'Goedecker', 'SG15', 'pslib.0.3.1_PBE_PAW', 'pslib.0.3.1_PBE_US', 'pslib.1.0.0_PBE_PAW', 'pslib.1.0.0_PBE_US'])\n",
      "dict_keys(['GBRV_1.2', 'GBRV_1.4', 'Goedecker', 'SG15', 'pslib.0.3.1_PBE_PAW', 'pslib.0.3.1_PBE_US', 'pslib.1.0.0_PBE_PAW', 'pslib.1.0.0_PBE_US'])\n",
      "dict_keys(['GBRV_1.2', 'GBRV_1.4', 'Goedecker', 'SG15', 'pslib.0.3.1_PBE_PAW', 'pslib.0.3.1_PBE_US', 'pslib.1.0.0_PBE_PAW', 'pslib.1.0.0_PBE_US'])\n",
      "dict_keys(['GBRV_1.2', 'GBRV_1.4', 'Goedecker', 'SG15', 'pslib.0.3.1_PBE_PAW', 'pslib.0.3.1_PBE_US', 'pslib.1.0.0_PBE_PAW', 'pslib.1.0.0_PBE_US'])\n"
     ]
    }
   ],
   "source": [
    "datay = data['Y_series']\n",
    "for key in list(datay.keys()):\n",
    "    print(datay[key].keys())"
   ]
  },
  {
   "cell_type": "markdown",
   "id": "d545c697",
   "metadata": {},
   "source": [
    "The correct Pseudo for Ag is 'SG15'"
   ]
  },
  {
   "cell_type": "code",
   "execution_count": 8,
   "id": "2fb98656",
   "metadata": {},
   "outputs": [
    {
     "name": "stdout",
     "output_type": "stream",
     "text": [
      "dict_keys(['4.0'])\n",
      "dict_keys(['4.0'])\n",
      "dict_keys(['4.0'])\n",
      "dict_keys(['4.0'])\n",
      "dict_keys(['4.0'])\n",
      "dict_keys(['4.0'])\n",
      "dict_keys(['4.0'])\n",
      "dict_keys(['4.0'])\n",
      "dict_keys(['4.0'])\n",
      "dict_keys(['4.0'])\n"
     ]
    }
   ],
   "source": [
    "datay = data['Y_series']\n",
    "for key in list(datay.keys()):\n",
    "    print(datay[key]['SG15'].keys())"
   ]
  },
  {
   "cell_type": "code",
   "execution_count": 9,
   "id": "f32b8cfb",
   "metadata": {},
   "outputs": [
    {
     "name": "stdout",
     "output_type": "stream",
     "text": [
      "dict_keys(['B0', 'B1', 'V0', 'cohesive_energy', 'cohesive_energy_percentage', 'delta', 'phonon_frequencies', 'phonon_frequencies_percentage', 'pressure', 'pressure_percentage'])\n",
      "dict_keys(['X_series', 'points', 'type', 'units'])\n",
      "dict_keys(['X_series', 'points', 'type', 'units'])\n",
      "dict_keys(['X_series', 'points', 'type', 'units'])\n",
      "dict_keys(['X_series', 'points', 'type', 'units'])\n",
      "dict_keys(['X_series', 'points', 'type', 'units'])\n",
      "dict_keys(['X_series', 'points', 'type', 'units'])\n",
      "dict_keys(['X_series', 'points', 'type', 'units'])\n",
      "dict_keys(['X_series', 'points', 'type', 'units'])\n",
      "dict_keys(['X_series', 'points', 'type', 'units'])\n",
      "dict_keys(['X_series', 'points', 'type', 'units'])\n"
     ]
    }
   ],
   "source": [
    "datay = data['Y_series']\n",
    "print(datay.keys())\n",
    "for key in list(datay.keys()):\n",
    "    print(datay[key]['SG15']['4.0'].keys())"
   ]
  },
  {
   "cell_type": "code",
   "execution_count": 31,
   "id": "d8a0304d",
   "metadata": {},
   "outputs": [],
   "source": [
    "datay = data['Y_series']\n",
    "E_val = []\n",
    "\n",
    "nodes_list = datay['cohesive_energy']['SG15']['4.0']['points']\n",
    "for k in range(len(nodes_list)):\n",
    "    node = nodes_list[k]\n",
    "    E_val.append(node['value'])"
   ]
  },
  {
   "cell_type": "code",
   "execution_count": 32,
   "id": "1372da4d",
   "metadata": {},
   "outputs": [],
   "source": [
    "datax = data['X_series']\n",
    "Ecutoff_val = datax['Ecutoff']['values']"
   ]
  },
  {
   "cell_type": "code",
   "execution_count": 28,
   "id": "444705e0",
   "metadata": {},
   "outputs": [],
   "source": [
    "max_cutoff = max(Ecutoff_val)\n",
    "max_idx = Ecutoff_val.index(max_cutoff)"
   ]
  },
  {
   "cell_type": "code",
   "execution_count": 29,
   "id": "6eb9fb43",
   "metadata": {},
   "outputs": [
    {
     "data": {
      "text/plain": [
       "15"
      ]
     },
     "execution_count": 29,
     "metadata": {},
     "output_type": "execute_result"
    }
   ],
   "source": [
    "max_idx"
   ]
  },
  {
   "cell_type": "code",
   "execution_count": 33,
   "id": "a56a2cce",
   "metadata": {},
   "outputs": [
    {
     "data": {
      "text/plain": [
       "-2948.784969414"
      ]
     },
     "execution_count": 33,
     "metadata": {},
     "output_type": "execute_result"
    }
   ],
   "source": [
    "E_val[max_idx]"
   ]
  },
  {
   "cell_type": "code",
   "execution_count": 34,
   "id": "4836a45d",
   "metadata": {},
   "outputs": [
    {
     "name": "stdout",
     "output_type": "stream",
     "text": [
      "47.43090396619982\n",
      "26.551813529899846\n",
      "14.832653004999884\n",
      "7.9047028069999214\n",
      "4.435421488200063\n",
      "2.4101462465000623\n",
      "1.3549908388999938\n",
      "0.7476327602998936\n",
      "0.3961637286997757\n",
      "0.19901725569980044\n",
      "0.1169749344999218\n",
      "0.05840243169996029\n",
      "0.06527330600010828\n",
      "0.06268822460015144\n",
      "0.017381271100020967\n",
      "0.0\n"
     ]
    }
   ],
   "source": [
    "nodes_list = datay['cohesive_energy']['SG15']['4.0']['points']\n",
    "for k in range(len(nodes_list)):\n",
    "    node = nodes_list[k]\n",
    "    print(node['value'] - E_val[max_idx])"
   ]
  },
  {
   "cell_type": "markdown",
   "id": "0e67de8c",
   "metadata": {},
   "source": [
    "## Investigation of csv"
   ]
  },
  {
   "cell_type": "code",
   "execution_count": 47,
   "id": "38543a04",
   "metadata": {},
   "outputs": [],
   "source": [
    "import os\n",
    "import matplotlib.pyplot as plt\n",
    "import plotly.express as px"
   ]
  },
  {
   "cell_type": "code",
   "execution_count": 48,
   "id": "41bbe5c5",
   "metadata": {},
   "outputs": [],
   "source": [
    "DATA_PATH = os.path.join(os.path.dirname(os.path.dirname(os.getcwd())), \"data/sssp_data.csv\")"
   ]
  },
  {
   "cell_type": "code",
   "execution_count": 49,
   "id": "6e767ae4",
   "metadata": {},
   "outputs": [],
   "source": [
    "df = pd.read_csv(DATA_PATH)"
   ]
  },
  {
   "cell_type": "code",
   "execution_count": 58,
   "id": "cb63caf7",
   "metadata": {},
   "outputs": [
    {
     "data": {
      "application/vnd.plotly.v1+json": {
       "config": {
        "plotlyServerURL": "https://plot.ly"
       },
       "data": [
        {
         "hovertemplate": "color=Ag<br>x=%{x}<br>y=%{y}<extra></extra>",
         "legendgroup": "Ag",
         "marker": {
          "color": "#636efa",
          "symbol": "circle"
         },
         "mode": "markers",
         "name": "Ag",
         "showlegend": true,
         "type": "scattergl",
         "x": [
          30,
          35,
          40,
          45,
          50,
          55,
          60,
          65,
          70,
          75,
          80,
          90,
          100,
          120,
          150,
          200
         ],
         "xaxis": "x",
         "y": [
          -92.35761235000018,
          -42.569250174899935,
          1.466829634900023,
          -1.3159084801000065,
          -0.2833385351000288,
          -0.0661576855000021,
          -0.0754435704998286,
          -0.0709536853000827,
          -0.0594228599002235,
          -0.0358169900000575,
          -0.0177554251999936,
          -0.0060545402998286,
          -0.0025850900001387,
          0.0010204299001088,
          0.0002721248997659,
          0
         ],
         "yaxis": "y"
        },
        {
         "hovertemplate": "color=Al<br>x=%{x}<br>y=%{y}<extra></extra>",
         "legendgroup": "Al",
         "marker": {
          "color": "#EF553B",
          "symbol": "circle"
         },
         "mode": "markers",
         "name": "Al",
         "showlegend": true,
         "type": "scattergl",
         "x": [
          30,
          35,
          40,
          45,
          50,
          55,
          60,
          65,
          70,
          75,
          80,
          90,
          100,
          120,
          150,
          200
         ],
         "xaxis": "x",
         "y": [
          0.2901413734998641,
          0.3088491999997131,
          0.199833595799646,
          0.09993380529977,
          0.06115758299984,
          0.0312250598999526,
          0.0360890963997917,
          0.0061225603999446,
          0.0064967173998411,
          0.0057824188997983,
          0.0051361468999857,
          0.0163948568997511,
          -0.0047279802001867,
          -0.0023809971003174,
          -0.0018027555001935,
          0
         ],
         "yaxis": "y"
        },
        {
         "hovertemplate": "color=Ar<br>x=%{x}<br>y=%{y}<extra></extra>",
         "legendgroup": "Ar",
         "marker": {
          "color": "#00cc96",
          "symbol": "circle"
         },
         "mode": "markers",
         "name": "Ar",
         "showlegend": true,
         "type": "scattergl",
         "x": [
          30,
          35,
          40,
          45,
          50,
          55,
          60,
          65,
          70,
          75,
          80,
          90,
          100,
          120,
          150,
          200
         ],
         "xaxis": "x",
         "y": [
          -0.1835407820000227,
          -0.583446077499957,
          0.5240232150999873,
          0.193098778000035,
          0.0138778056000319,
          0.0001700705000757,
          0.0068368586000815,
          0.0061565734999931,
          -0.0299665369999502,
          -0.0224493915000039,
          -0.0094219430000066,
          0.0040136790000815,
          3.401290007332136e-05,
          0.0004081688999804,
          0.0007483120000415,
          0
         ],
         "yaxis": "y"
        },
        {
         "hovertemplate": "color=As<br>x=%{x}<br>y=%{y}<extra></extra>",
         "legendgroup": "As",
         "marker": {
          "color": "#ab63fa",
          "symbol": "circle"
         },
         "mode": "markers",
         "name": "As",
         "showlegend": true,
         "type": "scattergl",
         "x": [
          30,
          35,
          40,
          45,
          50,
          55,
          60,
          65,
          70,
          75,
          80,
          90,
          100,
          120,
          150,
          200
         ],
         "xaxis": "x",
         "y": [
          2.5630402077003964,
          0.6411455477000345,
          0.2613199860002169,
          0.2352650867001102,
          0.2017270559999815,
          0.1059203110003181,
          0.0632664674003535,
          0.0630623810002362,
          0.0597516620000533,
          0.0546948807000262,
          0.0205445944002349,
          0.0348532464004165,
          0.0144673867002893,
          0.0151249934001498,
          -0.0034014230000138,
          0
         ],
         "yaxis": "y"
        },
        {
         "hovertemplate": "color=Au<br>x=%{x}<br>y=%{y}<extra></extra>",
         "legendgroup": "Au",
         "marker": {
          "color": "#FFA15A",
          "symbol": "circle"
         },
         "mode": "markers",
         "name": "Au",
         "showlegend": true,
         "type": "scattergl",
         "x": [
          30,
          35,
          40,
          45,
          50,
          55,
          60,
          65,
          70,
          75,
          80,
          90,
          100,
          120,
          150,
          200
         ],
         "xaxis": "x",
         "y": [
          -84.2002518401996,
          -31.0662500597,
          -1.376419800199983,
          -1.4605029700996963,
          -1.222199295199971,
          -1.094611900000018,
          -0.8085182352997435,
          -0.3377272701000038,
          -0.0770422252999196,
          0.0084695603,
          0.0242861752003591,
          0.0113947749000544,
          0.0041837497001324,
          0.0004081603001395,
          -6.801969993830426e-05,
          0
         ],
         "yaxis": "y"
        },
        {
         "hovertemplate": "color=B<br>x=%{x}<br>y=%{y}<extra></extra>",
         "legendgroup": "B",
         "marker": {
          "color": "#19d3f3",
          "symbol": "circle"
         },
         "mode": "markers",
         "name": "B",
         "showlegend": true,
         "type": "scattergl",
         "x": [
          30,
          35,
          40,
          45,
          50,
          55,
          60,
          65,
          70,
          75,
          80,
          90,
          100,
          120,
          150,
          200
         ],
         "xaxis": "x",
         "y": [
          5.274053650500719,
          1.556581838400234,
          1.429039816900513,
          1.4191076612005418,
          1.290499860700038,
          0.9493824927003516,
          0.62439920810084,
          0.3708117901005607,
          0.2494490200006112,
          0.1945954059001451,
          0.137088682700778,
          0.1407055288000265,
          0.1247415172001638,
          0.0479033731007803,
          0.0381979799003602,
          0
         ],
         "yaxis": "y"
        },
        {
         "hovertemplate": "color=Ba<br>x=%{x}<br>y=%{y}<extra></extra>",
         "legendgroup": "Ba",
         "marker": {
          "color": "#FF6692",
          "symbol": "circle"
         },
         "mode": "markers",
         "name": "Ba",
         "showlegend": true,
         "type": "scattergl",
         "x": [
          30,
          35,
          40,
          45,
          50,
          55,
          60,
          65,
          70,
          75,
          80,
          90,
          100,
          120,
          150,
          200
         ],
         "xaxis": "x",
         "y": [
          -1405.3133448599,
          -1405.0279654905,
          -1404.8283019704,
          -1404.8057165294,
          -1404.8333360799,
          -1404.7804099202,
          -1404.8982352399,
          -1404.8683707499,
          -1404.8380980696,
          -1404.9089157099,
          -1404.8901398103,
          -1404.8870785393,
          -1404.8740851406,
          -1404.8744252507,
          0,
          0
         ],
         "yaxis": "y"
        },
        {
         "hovertemplate": "color=Be<br>x=%{x}<br>y=%{y}<extra></extra>",
         "legendgroup": "Be",
         "marker": {
          "color": "#B6E880",
          "symbol": "circle"
         },
         "mode": "markers",
         "name": "Be",
         "showlegend": true,
         "type": "scattergl",
         "x": [
          30,
          35,
          40,
          45,
          50,
          55,
          60,
          65,
          70,
          75,
          80,
          90,
          100,
          120,
          140,
          150,
          160,
          200
         ],
         "xaxis": "x",
         "y": [
          -0.1734725699998307,
          -0.008911728500152,
          0.3843607905000681,
          0.2098677945000417,
          0.1968063304998395,
          0.2187795224999718,
          0.1859217774999706,
          0.1410910224999497,
          0.1031991714999094,
          0.1149000655000236,
          0.0896615084998302,
          0.1039474839999456,
          0.0988453499999195,
          0.0556472789999134,
          3920.9973093575,
          0.0300005495000732,
          3920.9973093575,
          0
         ],
         "yaxis": "y"
        },
        {
         "hovertemplate": "color=Bi<br>x=%{x}<br>y=%{y}<extra></extra>",
         "legendgroup": "Bi",
         "marker": {
          "color": "#FF97FF",
          "symbol": "circle"
         },
         "mode": "markers",
         "name": "Bi",
         "showlegend": true,
         "type": "scattergl",
         "x": [
          30,
          35,
          40,
          45,
          50,
          55,
          60,
          65,
          70,
          75,
          80,
          90,
          100,
          120,
          150,
          200
         ],
         "xaxis": "x",
         "y": [
          -2.5291393600996344,
          -0.731215220499962,
          -0.2115911768996738,
          -0.4114814631998342,
          -0.0394111603000055,
          -0.0736067968996394,
          -0.0489351235996764,
          -0.006893540299643,
          -0.0064173436999226,
          -0.0093198905997269,
          -0.0028118468999309,
          0.0119049764002738,
          0.0019501496999509,
          0.0244675763001396,
          0.0053062367001075,
          0
         ],
         "yaxis": "y"
        },
        {
         "hovertemplate": "color=Br<br>x=%{x}<br>y=%{y}<extra></extra>",
         "legendgroup": "Br",
         "marker": {
          "color": "#FECB52",
          "symbol": "circle"
         },
         "mode": "markers",
         "name": "Br",
         "showlegend": true,
         "type": "scattergl",
         "x": [
          30,
          35,
          40,
          45,
          50,
          55,
          60,
          65,
          70,
          75,
          80,
          90,
          100,
          120,
          150,
          200
         ],
         "xaxis": "x",
         "y": [
          0.1332847568999113,
          -0.2114834716001041,
          -0.2367390367999178,
          -0.0667359189999388,
          -0.4875259494999682,
          -0.0453239605001272,
          -0.1858537489999889,
          -0.2891889780000838,
          -0.039575556200134,
          -0.0901717235001342,
          -0.1685405069999888,
          -0.0150002760999541,
          -0.0513274720999561,
          -0.0331638745999498,
          -0.0037415658000554,
          0
         ],
         "yaxis": "y"
        },
        {
         "hovertemplate": "color=C<br>x=%{x}<br>y=%{y}<extra></extra>",
         "legendgroup": "C",
         "marker": {
          "color": "#636efa",
          "symbol": "circle"
         },
         "mode": "markers",
         "name": "C",
         "showlegend": true,
         "type": "scattergl",
         "x": [
          30,
          35,
          40,
          45,
          50,
          55,
          60,
          65,
          70,
          75,
          80,
          90,
          100,
          120,
          150,
          200
         ],
         "xaxis": "x",
         "y": [
          35.7801460565006,
          12.12406591150011,
          2.6791307715002404,
          0.9298469865007064,
          1.494517208000616,
          1.9428247495006872,
          1.5118644650001445,
          0.7588914699999805,
          0.2616374525005085,
          0.0514635290001024,
          0.0816001360008158,
          0.0682665580006869,
          0.0123811805005971,
          0.034898598500149,
          0.0026531085004535,
          0
         ],
         "yaxis": "y"
        },
        {
         "hovertemplate": "color=Ca<br>x=%{x}<br>y=%{y}<extra></extra>",
         "legendgroup": "Ca",
         "marker": {
          "color": "#EF553B",
          "symbol": "circle"
         },
         "mode": "markers",
         "name": "Ca",
         "showlegend": true,
         "type": "scattergl",
         "x": [
          30,
          35,
          40,
          45,
          50,
          55,
          60,
          65,
          70,
          75,
          80,
          90,
          100,
          120
         ],
         "xaxis": "x",
         "y": [
          0.0948996974998408,
          0.0593208100999618,
          -0.0230276375000357,
          0.2059561574999406,
          0.1013283800000408,
          -3.402250013095909e-05,
          0.1291520275999573,
          0.1478598475998751,
          0.1076890423998975,
          0.0684706424999603,
          0.0828246425999168,
          0.0679264150999188,
          0.0287420249999286,
          0
         ],
         "yaxis": "y"
        },
        {
         "hovertemplate": "color=Cd<br>x=%{x}<br>y=%{y}<extra></extra>",
         "legendgroup": "Cd",
         "marker": {
          "color": "#00cc96",
          "symbol": "circle"
         },
         "mode": "markers",
         "name": "Cd",
         "showlegend": true,
         "type": "scattergl",
         "x": [
          30,
          35,
          40,
          45,
          50,
          55,
          60,
          65,
          70,
          75,
          80,
          90,
          100,
          120,
          150,
          200
         ],
         "xaxis": "x",
         "y": [
          3.049511714999994,
          -2.491134124800056,
          0.0665998649999437,
          -0.1235396749000301,
          0.2304123952000054,
          -0.0774163798000699,
          0.0758517350999454,
          0.1040835501999026,
          0.0399327049999556,
          -0.0768721599999935,
          -0.0215650147999895,
          -0.0304767449999872,
          -0.1055801697000333,
          -0.017823449800062,
          -0.0330618300000651,
          0
         ],
         "yaxis": "y"
        },
        {
         "hovertemplate": "color=Ce<br>x=%{x}<br>y=%{y}<extra></extra>",
         "legendgroup": "Ce",
         "marker": {
          "color": "#ab63fa",
          "symbol": "circle"
         },
         "mode": "markers",
         "name": "Ce",
         "showlegend": true,
         "type": "scattergl",
         "x": [
          30,
          35,
          40,
          45,
          50,
          55,
          60,
          65,
          70,
          75,
          80,
          90,
          100,
          120,
          150,
          200
         ],
         "xaxis": "x",
         "y": [
          11.142857437800558,
          3.704761826700633,
          2.536577136700544,
          2.214938583700132,
          2.0027578225999605,
          1.682683927900143,
          1.1515857496005992,
          0.6570188562000112,
          0.3108220240001174,
          0.1649009837001358,
          0.1251723611003399,
          0.1238117971006431,
          0.0971446389003176,
          0.0329257746006987,
          0.017279225200582,
          0
         ],
         "yaxis": "y"
        },
        {
         "hovertemplate": "color=Cl<br>x=%{x}<br>y=%{y}<extra></extra>",
         "legendgroup": "Cl",
         "marker": {
          "color": "#FFA15A",
          "symbol": "circle"
         },
         "mode": "markers",
         "name": "Cl",
         "showlegend": true,
         "type": "scattergl",
         "x": [
          30,
          35,
          40,
          45,
          50,
          55,
          60,
          65,
          70,
          75,
          80,
          90,
          100,
          120,
          140,
          150,
          160,
          200
         ],
         "xaxis": "x",
         "y": [
          1.7570390297000813,
          0.4125415804001022,
          0.2607530817001589,
          0.2105480797001746,
          0.1823332760000084,
          0.1310568250000869,
          0.0847464519001732,
          0.0843893030000799,
          0.0763619452000057,
          0.0775694504000057,
          0.0753755327000362,
          0.0534193465000498,
          0.0454770245000872,
          0.0424157437000758,
          1426.9677556582,
          0.0206806510000205,
          1426.9677556582,
          0
         ],
         "yaxis": "y"
        },
        {
         "hovertemplate": "color=Co<br>x=%{x}<br>y=%{y}<extra></extra>",
         "legendgroup": "Co",
         "marker": {
          "color": "#19d3f3",
          "symbol": "circle"
         },
         "mode": "markers",
         "name": "Co",
         "showlegend": true,
         "type": "scattergl",
         "x": [
          30,
          35,
          40,
          45,
          50,
          55,
          60,
          65,
          70,
          75,
          80,
          90,
          100,
          120,
          140,
          150,
          160,
          200
         ],
         "xaxis": "x",
         "y": [
          47.40964506530054,
          -4.670085659699907,
          -5.480848829899514,
          -2.4466435197991814,
          -3.2144807345994195,
          -2.7835204395996698,
          -1.5507767443996272,
          0.0834028851004404,
          -2.898964744399564,
          -2.430520774399156,
          0.5729356703004669,
          -2.394193574699784,
          0.1172810657008085,
          -2.7818877547997545,
          5500.6003632354,
          -0.8881115345993749,
          5500.6003632354,
          0
         ],
         "yaxis": "y"
        },
        {
         "hovertemplate": "color=Cr<br>x=%{x}<br>y=%{y}<extra></extra>",
         "legendgroup": "Cr",
         "marker": {
          "color": "#FF6692",
          "symbol": "circle"
         },
         "mode": "markers",
         "name": "Cr",
         "showlegend": true,
         "type": "scattergl",
         "x": [
          30,
          35,
          40,
          45,
          50,
          55,
          60,
          65,
          70,
          75,
          80,
          90,
          100,
          120,
          150,
          200
         ],
         "xaxis": "x",
         "y": [
          20.21656127999995,
          -1.095394229999329,
          -1.3262147995001214,
          -0.5067439846998241,
          -0.6647060594996219,
          -0.1739487647000714,
          -1.3322012995995465,
          -2.122419874899606,
          -2.241333619599573,
          -1.5611850898994817,
          -0.4288513945994054,
          -1.873299659499935,
          -1.733092999499604,
          -0.8591313949000323,
          0.1001378906003083,
          0
         ],
         "yaxis": "y"
        },
        {
         "hovertemplate": "color=Cs<br>x=%{x}<br>y=%{y}<extra></extra>",
         "legendgroup": "Cs",
         "marker": {
          "color": "#B6E880",
          "symbol": "circle"
         },
         "mode": "markers",
         "name": "Cs",
         "showlegend": true,
         "type": "scattergl",
         "x": [
          30,
          35,
          40,
          45,
          50,
          55,
          60,
          65,
          70,
          75,
          80,
          90,
          100,
          120,
          150,
          200
         ],
         "xaxis": "x",
         "y": [
          -257.134190344,
          -257.187252539,
          -257.169565142,
          -257.230858782,
          -257.264464843,
          -257.256165372,
          -257.2881387459,
          -257.2280696171,
          -257.274533054,
          -257.263852587,
          -257.2761657379,
          -257.2252804521,
          -257.238205855,
          -257.2377296591,
          0,
          0
         ],
         "yaxis": "y"
        },
        {
         "hovertemplate": "color=Cu<br>x=%{x}<br>y=%{y}<extra></extra>",
         "legendgroup": "Cu",
         "marker": {
          "color": "#FF97FF",
          "symbol": "circle"
         },
         "mode": "markers",
         "name": "Cu",
         "showlegend": true,
         "type": "scattergl",
         "x": [
          30,
          35,
          40,
          45,
          50,
          55,
          60,
          65,
          70,
          75,
          80,
          90,
          100,
          120,
          150,
          200
         ],
         "xaxis": "x",
         "y": [
          22.45949355980065,
          -4.895463955099331,
          -3.532411749799394,
          -3.542786080300175,
          -1.92173594040014,
          -2.2763002607998715,
          -2.5926325851996808,
          -1.3294461550995038,
          -2.4759297802993387,
          -2.2349049458998707,
          -0.9386906894997082,
          -1.2487303856996732,
          -1.04831855519933,
          -0.7564764701000968,
          -0.3478975449997961,
          0
         ],
         "yaxis": "y"
        },
        {
         "hovertemplate": "color=Dy<br>x=%{x}<br>y=%{y}<extra></extra>",
         "legendgroup": "Dy",
         "marker": {
          "color": "#FECB52",
          "symbol": "circle"
         },
         "mode": "markers",
         "name": "Dy",
         "showlegend": true,
         "type": "scattergl",
         "x": [
          30,
          35,
          40,
          45,
          50,
          55,
          60,
          65,
          70,
          75,
          80,
          90,
          100,
          120,
          150,
          200
         ],
         "xaxis": "x",
         "y": [
          8.152326411700415,
          2.067452915999638,
          0.9238945359002172,
          0.7671569675003411,
          1.2745812410003057,
          1.2971666475004895,
          0.87851956420036,
          0.3820478695997735,
          0.1800033041999995,
          0.0221092678002605,
          0.0561915559001136,
          0.051837726499798,
          0.0380279326000163,
          0.0104764285997589,
          0.0118370135996883,
          0
         ],
         "yaxis": "y"
        },
        {
         "hovertemplate": "color=Er<br>x=%{x}<br>y=%{y}<extra></extra>",
         "legendgroup": "Er",
         "marker": {
          "color": "#636efa",
          "symbol": "circle"
         },
         "mode": "markers",
         "name": "Er",
         "showlegend": true,
         "type": "scattergl",
         "x": [
          30,
          35,
          40,
          45,
          50,
          55,
          60,
          65,
          70,
          75,
          80,
          90,
          100,
          120,
          150,
          200
         ],
         "xaxis": "x",
         "y": [
          6.710667262200332,
          1.8516666167997755,
          0.8473624866001046,
          0.6305557690002388,
          1.1926069419005216,
          1.175123597899983,
          0.901377064999906,
          0.3776940202005789,
          0.1307507045003149,
          0.0129254185003446,
          0.0184357058997193,
          0.0278236266003659,
          0.0384360836997075,
          0.0182996790999823,
          0.013265514100567,
          0
         ],
         "yaxis": "y"
        },
        {
         "hovertemplate": "color=Eu<br>x=%{x}<br>y=%{y}<extra></extra>",
         "legendgroup": "Eu",
         "marker": {
          "color": "#EF553B",
          "symbol": "circle"
         },
         "mode": "markers",
         "name": "Eu",
         "showlegend": true,
         "type": "scattergl",
         "x": [
          30,
          35,
          40,
          45,
          50,
          55,
          60,
          65,
          70,
          75,
          80,
          90,
          100,
          120,
          150,
          200
         ],
         "xaxis": "x",
         "y": [
          15.117556192300071,
          3.7806815870999344,
          1.4523395612004606,
          1.7203716934000113,
          1.8577891769000416,
          1.4217947881998043,
          0.9271598655004708,
          0.4979002896998281,
          0.2191876938004497,
          0.0993895790998067,
          0.0370755160001863,
          0.0514295161001427,
          0.0427899040005286,
          0.01639485889973,
          -0.0039456499998777,
          0
         ],
         "yaxis": "y"
        },
        {
         "hovertemplate": "color=Fe<br>x=%{x}<br>y=%{y}<extra></extra>",
         "legendgroup": "Fe",
         "marker": {
          "color": "#00cc96",
          "symbol": "circle"
         },
         "mode": "markers",
         "name": "Fe",
         "showlegend": true,
         "type": "scattergl",
         "x": [
          30,
          35,
          40,
          45,
          50,
          55,
          60,
          65,
          70,
          75,
          80,
          90,
          100,
          120,
          140,
          150,
          160,
          180,
          200
         ],
         "xaxis": "x",
         "y": [
          -4021.2279232403,
          -4446.6268141198,
          -4977.8891432945,
          -5501.8695021556,
          -5680.1609355545,
          -5690.3111897502,
          -5685.7172279399,
          -5700.5326017199,
          -5721.2417570702,
          -5726.8866224997,
          -5734.7739100253,
          -5737.2954528693,
          -5738.8575903753,
          -5740.4457147352,
          0,
          -5738.4930938954,
          0,
          0,
          0
         ],
         "yaxis": "y"
        },
        {
         "hovertemplate": "color=Ga<br>x=%{x}<br>y=%{y}<extra></extra>",
         "legendgroup": "Ga",
         "marker": {
          "color": "#ab63fa",
          "symbol": "circle"
         },
         "mode": "markers",
         "name": "Ga",
         "showlegend": true,
         "type": "scattergl",
         "x": [
          30,
          35,
          40,
          45,
          50,
          55,
          60,
          65,
          70,
          75,
          80,
          90,
          100,
          120,
          150,
          200
         ],
         "xaxis": "x",
         "y": [
          271.4425126701001,
          185.67809948490003,
          78.7664957129,
          20.059636635299967,
          9.245849860199996,
          8.385834077600066,
          6.733762964800008,
          3.659318812399988,
          1.6191283324999404,
          1.0904961950000145,
          0.9360375802000362,
          0.8175490001999606,
          0.2871821374999399,
          0.1600879650000024,
          0.0260719002001224,
          0
         ],
         "yaxis": "y"
        },
        {
         "hovertemplate": "color=Gd<br>x=%{x}<br>y=%{y}<extra></extra>",
         "legendgroup": "Gd",
         "marker": {
          "color": "#FFA15A",
          "symbol": "circle"
         },
         "mode": "markers",
         "name": "Gd",
         "showlegend": true,
         "type": "scattergl",
         "x": [
          30,
          35,
          40,
          45,
          50,
          55,
          60,
          65,
          70,
          75,
          80,
          90,
          100,
          120,
          150,
          200
         ],
         "xaxis": "x",
         "y": [
          8.966422961700118,
          2.800663612100834,
          1.1711099168005603,
          1.032876088100238,
          1.569076402100109,
          1.3737666977003755,
          0.8649818546000461,
          0.4145654302001276,
          0.1438801891008552,
          0.0487083789003008,
          0.030748866200156,
          0.0292522354002358,
          0.0358509978004804,
          0.02108882380071,
          0.0029252241001813,
          0
         ],
         "yaxis": "y"
        },
        {
         "hovertemplate": "color=Ge<br>x=%{x}<br>y=%{y}<extra></extra>",
         "legendgroup": "Ge",
         "marker": {
          "color": "#19d3f3",
          "symbol": "circle"
         },
         "mode": "markers",
         "name": "Ge",
         "showlegend": true,
         "type": "scattergl",
         "x": [
          30,
          35,
          40,
          45,
          50,
          55,
          60,
          65,
          70,
          75,
          80,
          90,
          100,
          120,
          150,
          200
         ],
         "xaxis": "x",
         "y": [
          1.2575740893998957,
          -1.139068515300096,
          -0.9143705051001234,
          -0.0473478003000309,
          -0.8755942902998868,
          -0.9330783405002876,
          -0.3582378652999978,
          -0.1417032754002321,
          -0.1715677699003208,
          -0.3058559500000228,
          -0.3803471148999051,
          -0.0996616900001754,
          -0.1135394900002211,
          -0.0410891903002266,
          0.0004081748998032,
          0
         ],
         "yaxis": "y"
        },
        {
         "hovertemplate": "color=H<br>x=%{x}<br>y=%{y}<extra></extra>",
         "legendgroup": "H",
         "marker": {
          "color": "#FF6692",
          "symbol": "circle"
         },
         "mode": "markers",
         "name": "H",
         "showlegend": true,
         "type": "scattergl",
         "x": [
          30,
          35,
          40,
          45,
          50,
          55,
          60,
          65,
          70,
          75,
          80,
          90,
          100,
          120,
          150,
          200
         ],
         "xaxis": "x",
         "y": [
          14.008556257299915,
          6.251509219800028,
          2.7127368305000346,
          1.0935574723998798,
          0.496641762299987,
          0.243439839200164,
          0.1524177616001907,
          0.1205464286999813,
          0.1040495275001376,
          0.0954439275001277,
          0.0861240285998974,
          0.0516336001001036,
          0.0229255905001082,
          0.0036395225001797,
          0.0022109248998276,
          0
         ],
         "yaxis": "y"
        },
        {
         "hovertemplate": "color=He<br>x=%{x}<br>y=%{y}<extra></extra>",
         "legendgroup": "He",
         "marker": {
          "color": "#B6E880",
          "symbol": "circle"
         },
         "mode": "markers",
         "name": "He",
         "showlegend": true,
         "type": "scattergl",
         "x": [
          30,
          35,
          40,
          45,
          50,
          55,
          60,
          65,
          70,
          75,
          80,
          90,
          100,
          120,
          150,
          200
         ],
         "xaxis": "x",
         "y": [
          2.0544594506,
          -0.322522922400001,
          0.0155785168999997,
          -0.0274834974000004,
          0.0059184760999997,
          0.0098641265000001,
          0.0091158133999993,
          0.0097280697999995,
          0.0087076428999992,
          0.0073470738000001,
          0.0074151022999995,
          0.0075511590000001,
          0.0061225613999997,
          0.0036055081999997,
          0.0015646544999992,
          0
         ],
         "yaxis": "y"
        },
        {
         "hovertemplate": "color=Hf<br>x=%{x}<br>y=%{y}<extra></extra>",
         "legendgroup": "Hf",
         "marker": {
          "color": "#FF97FF",
          "symbol": "circle"
         },
         "mode": "markers",
         "name": "Hf",
         "showlegend": true,
         "type": "scattergl",
         "x": [
          30,
          35,
          40,
          45,
          50,
          55,
          60,
          65,
          70,
          75,
          80,
          90,
          100,
          120,
          140,
          150,
          160,
          200
         ],
         "xaxis": "x",
         "y": [
          -29.82816614010062,
          -13.958283220100384,
          1.3000918751995414,
          1.4740406450000592,
          0.6877677248994587,
          0.3778980951992707,
          0.3774218950993599,
          0.3871499603001211,
          0.3258563250992665,
          0.258372089999284,
          0.224834059999921,
          0.2378955301001042,
          0.2435418851000577,
          0.1338800152998374,
          5582.3047189651,
          0.05639559500014,
          5582.3047189651,
          0
         ],
         "yaxis": "y"
        },
        {
         "hovertemplate": "color=Hg<br>x=%{x}<br>y=%{y}<extra></extra>",
         "legendgroup": "Hg",
         "marker": {
          "color": "#FECB52",
          "symbol": "circle"
         },
         "mode": "markers",
         "name": "Hg",
         "showlegend": true,
         "type": "scattergl",
         "x": [
          30,
          35,
          40,
          45,
          50,
          55,
          60,
          65,
          70,
          75,
          80,
          90,
          100,
          120,
          140,
          150,
          160,
          200
         ],
         "xaxis": "x",
         "y": [
          6.63971361519998,
          -33.28101858460002,
          2.622973274799961,
          0.5179006493999623,
          0.0654433743000026,
          0.0238779848999683,
          0.031293084299989,
          0.0273474397999962,
          0.0249664353999605,
          0.01979627999998,
          0.0114968052000108,
          -0.0009524056000032,
          -0.0003401454999902,
          -0.0006802856000263,
          396.7372950849,
          0.0006802847999551,
          396.7372950849,
          0
         ],
         "yaxis": "y"
        },
        {
         "hovertemplate": "color=Ho<br>x=%{x}<br>y=%{y}<extra></extra>",
         "legendgroup": "Ho",
         "marker": {
          "color": "#636efa",
          "symbol": "circle"
         },
         "mode": "markers",
         "name": "Ho",
         "showlegend": true,
         "type": "scattergl",
         "x": [
          30,
          35,
          40,
          45,
          50,
          55,
          60,
          65,
          70,
          75,
          80,
          90,
          100,
          120,
          150,
          200
         ],
         "xaxis": "x",
         "y": [
          3.515710711300017,
          0.4868116666002606,
          0.8636212860001251,
          0.631304116699539,
          0.9687252412995804,
          1.12682339660023,
          0.8498795140994844,
          0.3523193689998152,
          0.1097979537998981,
          -0.0342863822997969,
          0.0180955548003112,
          0.0265310755003156,
          0.03013658259988,
          0.0058504282997091,
          0.0223813639995569,
          0
         ],
         "yaxis": "y"
        },
        {
         "hovertemplate": "color=I<br>x=%{x}<br>y=%{y}<extra></extra>",
         "legendgroup": "I",
         "marker": {
          "color": "#EF553B",
          "symbol": "circle"
         },
         "mode": "markers",
         "name": "I",
         "showlegend": true,
         "type": "scattergl",
         "x": [
          30,
          35,
          40,
          45,
          50,
          55,
          60,
          65,
          70,
          75,
          80,
          90,
          100,
          120,
          150,
          200
         ],
         "xaxis": "x",
         "y": [
          0.6670870651998939,
          -0.0587085496999861,
          -0.1335568704000707,
          0.1020937151999987,
          0.0282318177999059,
          0.0278576671998962,
          0.0470586855999499,
          -0.0248644019000039,
          0.0452729472999635,
          -0.0091668226000365,
          0.0045749201999569,
          0.0058504501998868,
          0.0086396176000107,
          0.0084185231000901,
          0.0089287378000335,
          0
         ],
         "yaxis": "y"
        },
        {
         "hovertemplate": "color=In<br>x=%{x}<br>y=%{y}<extra></extra>",
         "legendgroup": "In",
         "marker": {
          "color": "#00cc96",
          "symbol": "circle"
         },
         "mode": "markers",
         "name": "In",
         "showlegend": true,
         "type": "scattergl",
         "x": [
          30,
          35,
          40,
          45,
          50,
          55,
          60,
          65,
          70,
          75,
          80,
          90,
          100,
          120,
          150,
          200
         ],
         "xaxis": "x",
         "y": [
          18.58483067499992,
          2.716104245099814,
          1.0334203249999518,
          0.0647630949999893,
          0.0622460499998851,
          0.2230653198998879,
          -0.2927944852001474,
          -0.0508852750001551,
          -0.010612440099976,
          -0.1513633148999815,
          -0.0559193852000134,
          -0.0659875999999712,
          -0.0032653552000283,
          -0.0051701552001759,
          -0.0123811698999816,
          0
         ],
         "yaxis": "y"
        },
        {
         "hovertemplate": "color=Ir<br>x=%{x}<br>y=%{y}<extra></extra>",
         "legendgroup": "Ir",
         "marker": {
          "color": "#ab63fa",
          "symbol": "circle"
         },
         "mode": "markers",
         "name": "Ir",
         "showlegend": true,
         "type": "scattergl",
         "x": [
          30,
          35,
          40,
          45,
          50,
          55,
          60,
          65,
          70,
          75,
          80,
          90,
          100,
          120,
          150,
          200
         ],
         "xaxis": "x",
         "y": [
          2.430180635200486,
          -2.2049383973999284,
          -4.345725967199542,
          -3.166146504999233,
          -4.336576132099253,
          -2.455113057299968,
          -2.914135082399298,
          -1.9787777896999612,
          -1.728943267199611,
          -1.7044190098995389,
          -1.6653366624996124,
          -1.4313527799995427,
          -1.488326614899961,
          -1.1681506748991524,
          -0.4152457072996185,
          0
         ],
         "yaxis": "y"
        },
        {
         "hovertemplate": "color=K<br>x=%{x}<br>y=%{y}<extra></extra>",
         "legendgroup": "K",
         "marker": {
          "color": "#FFA15A",
          "symbol": "circle"
         },
         "mode": "markers",
         "name": "K",
         "showlegend": true,
         "type": "scattergl",
         "x": [
          30,
          35,
          40,
          45,
          50,
          55,
          60,
          65,
          70,
          75,
          80,
          90,
          100,
          120,
          150,
          200
         ],
         "xaxis": "x",
         "y": [
          -506.8492466801,
          -505.4994259949,
          -511.7221931950001,
          -509.7678716349,
          -511.581374285,
          -512.218596855,
          -511.85893040020005,
          -511.982470075,
          -512.1553984199,
          -512.1300918349,
          -512.03471594,
          -512.14703092,
          -512.14192878,
          -512.1925419651,
          0,
          0
         ],
         "yaxis": "y"
        },
        {
         "hovertemplate": "color=Kr<br>x=%{x}<br>y=%{y}<extra></extra>",
         "legendgroup": "Kr",
         "marker": {
          "color": "#19d3f3",
          "symbol": "circle"
         },
         "mode": "markers",
         "name": "Kr",
         "showlegend": true,
         "type": "scattergl",
         "x": [
          30,
          35,
          40,
          45,
          50,
          55,
          60,
          65,
          70,
          75,
          80,
          90,
          100,
          120,
          150,
          200
         ],
         "xaxis": "x",
         "y": [
          0.106702635999909,
          0.061123569499955,
          0.006054532500002,
          0.0103063104999137,
          0.0148302044999582,
          0.0119730079999271,
          0.0037755794999156,
          0.0061225623999234,
          -0.0021088835,
          -0.0027211390000729,
          -0.0008503560000008,
          0.0037755794999156,
          0.0029592374999083,
          0.0023469824999438,
          0.0010884544999498,
          0
         ],
         "yaxis": "y"
        },
        {
         "hovertemplate": "color=La<br>x=%{x}<br>y=%{y}<extra></extra>",
         "legendgroup": "La",
         "marker": {
          "color": "#FF6692",
          "symbol": "circle"
         },
         "mode": "markers",
         "name": "La",
         "showlegend": true,
         "type": "scattergl",
         "x": [
          30,
          35,
          40,
          45,
          50,
          55,
          60,
          65,
          70,
          75,
          80,
          90,
          100,
          120,
          150,
          200
         ],
         "xaxis": "x",
         "y": [
          15.149461537799652,
          3.774831142000039,
          1.918606621499748,
          1.871054728800118,
          1.7958832822996555,
          1.3194119528998272,
          0.8282464897993123,
          0.4330011409992949,
          0.2049697490992912,
          0.1106142735998219,
          0.0734027061998858,
          0.0742190517994458,
          0.0744911639994825,
          0.0067348191996643,
          0.007891299399489,
          0
         ],
         "yaxis": "y"
        },
        {
         "hovertemplate": "color=Li<br>x=%{x}<br>y=%{y}<extra></extra>",
         "legendgroup": "Li",
         "marker": {
          "color": "#B6E880",
          "symbol": "circle"
         },
         "mode": "markers",
         "name": "Li",
         "showlegend": true,
         "type": "scattergl",
         "x": [
          30,
          35,
          40,
          45,
          50,
          55,
          60,
          65,
          70,
          75,
          80,
          90,
          100,
          120,
          150,
          200
         ],
         "xaxis": "x",
         "y": [
          -0.6039113040001212,
          -0.2629980217000138,
          -0.1794137214001239,
          -0.1814545754000391,
          -0.1804114724000101,
          -0.0853983916999823,
          -0.1082559537001088,
          -0.0679377537001073,
          -0.0973260480000135,
          -0.0983237990001271,
          -0.0474838641000587,
          -0.0401367911001671,
          -0.0239460174000214,
          -0.0248984160000418,
          0.0071203113000137,
          0
         ],
         "yaxis": "y"
        },
        {
         "hovertemplate": "color=Lu<br>x=%{x}<br>y=%{y}<extra></extra>",
         "legendgroup": "Lu",
         "marker": {
          "color": "#FF97FF",
          "symbol": "circle"
         },
         "mode": "markers",
         "name": "Lu",
         "showlegend": true,
         "type": "scattergl",
         "x": [
          30,
          35,
          40,
          45,
          50,
          55,
          60,
          65,
          70,
          75,
          80,
          90,
          100,
          120,
          150,
          200
         ],
         "xaxis": "x",
         "y": [
          19.34171531139964,
          4.542124115700062,
          2.4421536354993805,
          2.040173468300054,
          2.040853791199879,
          1.5860835473995394,
          0.9670925646996692,
          0.6407600695001747,
          0.1770101034999243,
          0.1337439671997344,
          -0.0056463950004399,
          0.0313611253995986,
          0.0477559824994386,
          0.035102728399579,
          0.0161908128993673,
          0
         ],
         "yaxis": "y"
        },
        {
         "hovertemplate": "color=Mg<br>x=%{x}<br>y=%{y}<extra></extra>",
         "legendgroup": "Mg",
         "marker": {
          "color": "#FECB52",
          "symbol": "circle"
         },
         "mode": "markers",
         "name": "Mg",
         "showlegend": true,
         "type": "scattergl",
         "x": [
          30,
          35,
          40,
          45,
          50,
          55,
          60,
          65,
          70,
          75,
          80,
          90,
          100,
          120,
          150,
          200
         ],
         "xaxis": "x",
         "y": [
          0.0825865485001031,
          0.0920425050001085,
          0.0382319939999433,
          0.0072790450001321,
          0.0102042690000416,
          0.009387927500029,
          0.0080953870001394,
          0.0073470740001084,
          0.0071429879999413,
          0.0044218499999715,
          0.0053742484999474,
          0.0043538214999898,
          0.0040817081001023,
          0.0012925405001169,
          0.0025170535000142,
          0
         ],
         "yaxis": "y"
        },
        {
         "hovertemplate": "color=Mn<br>x=%{x}<br>y=%{y}<extra></extra>",
         "legendgroup": "Mn",
         "marker": {
          "color": "#636efa",
          "symbol": "circle"
         },
         "mode": "markers",
         "name": "Mn",
         "showlegend": true,
         "type": "scattergl",
         "x": [
          30,
          35,
          40,
          45,
          50,
          55,
          60,
          65,
          70,
          75,
          80,
          90,
          100,
          120,
          140,
          150,
          160,
          180,
          200
         ],
         "xaxis": "x",
         "y": [
          41.031602905600266,
          6.0367093500999545,
          4.107864460300334,
          -0.3900071497000681,
          1.2732206205000691,
          7.173362855600317,
          1.0190662901004544,
          0.7318501402005495,
          2.566543660100251,
          13.550520644900644,
          19.26201995000065,
          6.371817535200535,
          1.0342026303005696,
          4.028577285200299,
          6362.4905253052,
          -0.2590183549000358,
          6362.4905253052,
          6362.4905253052,
          0
         ],
         "yaxis": "y"
        },
        {
         "hovertemplate": "color=Mo<br>x=%{x}<br>y=%{y}<extra></extra>",
         "legendgroup": "Mo",
         "marker": {
          "color": "#EF553B",
          "symbol": "circle"
         },
         "mode": "markers",
         "name": "Mo",
         "showlegend": true,
         "type": "scattergl",
         "x": [
          30,
          35,
          40,
          45,
          50,
          55,
          60,
          65,
          70,
          75,
          80,
          90,
          100,
          120,
          150,
          200
         ],
         "xaxis": "x",
         "y": [
          -0.3035429900010058,
          0.0722462150988576,
          -0.2363308749008865,
          0.1760576448996289,
          0.1832686650996038,
          -0.0005442350011435,
          -0.1474857048997364,
          -0.0923826501002622,
          -0.0875526350009749,
          -0.0516336049004166,
          -0.0400687649998872,
          0.0006802749994676,
          0.0008843600990076,
          0.005442269899504,
          0.0001360451988148,
          0
         ],
         "yaxis": "y"
        },
        {
         "hovertemplate": "color=Na<br>x=%{x}<br>y=%{y}<extra></extra>",
         "legendgroup": "Na",
         "marker": {
          "color": "#00cc96",
          "symbol": "circle"
         },
         "mode": "markers",
         "name": "Na",
         "showlegend": true,
         "type": "scattergl",
         "x": [
          30,
          35,
          40,
          45,
          50,
          55,
          60,
          65,
          70,
          75,
          80,
          90,
          100,
          120,
          150,
          200
         ],
         "xaxis": "x",
         "y": [
          4.850882616700005,
          0.4065380631000153,
          0.5716658101000576,
          0.472026790100017,
          0.226444053199998,
          0.1913413765000768,
          0.1601843432999885,
          0.1073942566000596,
          -0.0057597533999569,
          -0.0624047798999072,
          -0.0469396466999114,
          -0.0395018700999116,
          -0.0915663098999175,
          -0.0622687267999708,
          -0.0236739068000133,
          0
         ],
         "yaxis": "y"
        },
        {
         "hovertemplate": "color=Nb<br>x=%{x}<br>y=%{y}<extra></extra>",
         "legendgroup": "Nb",
         "marker": {
          "color": "#ab63fa",
          "symbol": "circle"
         },
         "mode": "markers",
         "name": "Nb",
         "showlegend": true,
         "type": "scattergl",
         "x": [
          30,
          35,
          40,
          45,
          50,
          55,
          60,
          65,
          70,
          75,
          80,
          90,
          100,
          120,
          150,
          200
         ],
         "xaxis": "x",
         "y": [
          -21.70223478970001,
          -1.1493408101005116,
          -0.5621191594000265,
          -0.441232584300451,
          -0.1336759250998511,
          -0.2463990795004065,
          -0.0940833552003823,
          0.0570078509999802,
          0.0485042910995616,
          0.0230616460994497,
          0.0143540100998507,
          0.0159866903995862,
          6.802569987485185e-05,
          -0.0187078294002276,
          0.0067348109996601,
          0
         ],
         "yaxis": "y"
        },
        {
         "hovertemplate": "color=Nd<br>x=%{x}<br>y=%{y}<extra></extra>",
         "legendgroup": "Nd",
         "marker": {
          "color": "#FFA15A",
          "symbol": "circle"
         },
         "mode": "markers",
         "name": "Nd",
         "showlegend": true,
         "type": "scattergl",
         "x": [
          30,
          35,
          40,
          45,
          50,
          55,
          60,
          65,
          70,
          75,
          80,
          90,
          100,
          120,
          150,
          200
         ],
         "xaxis": "x",
         "y": [
          12.334239832500316,
          4.049802171100055,
          1.6730919112997071,
          1.623703248599668,
          1.8243191719002425,
          1.4814557421996142,
          0.934506934700039,
          0.4641581705000135,
          0.2176910637999753,
          0.0959881536000466,
          0.0671440910000455,
          0.0706135416003235,
          0.0772122980997664,
          0.0282998339998812,
          0.0274834996998833,
          0
         ],
         "yaxis": "y"
        },
        {
         "hovertemplate": "color=Ne<br>x=%{x}<br>y=%{y}<extra></extra>",
         "legendgroup": "Ne",
         "marker": {
          "color": "#19d3f3",
          "symbol": "circle"
         },
         "mode": "markers",
         "name": "Ne",
         "showlegend": true,
         "type": "scattergl",
         "x": [
          30,
          35,
          40,
          45,
          50,
          55,
          60,
          65,
          70,
          75,
          80,
          90,
          100,
          120,
          140,
          150,
          160,
          180,
          200
         ],
         "xaxis": "x",
         "y": [
          4.097115964900013,
          -0.5319485315000065,
          0.016156760000058,
          0.0461573114999964,
          -0.0127553349000208,
          0.1251383500000429,
          0.0733686940000097,
          0.0673481750000064,
          -0.0548309375000144,
          -0.0461232939999263,
          -0.0374156494000317,
          0.0059184765000281,
          0.0087416595000604,
          0.0056123484999943,
          684.446279579,
          0.0020748685000171,
          684.446279579,
          684.446279579,
          0
         ],
         "yaxis": "y"
        },
        {
         "hovertemplate": "color=Ni<br>x=%{x}<br>y=%{y}<extra></extra>",
         "legendgroup": "Ni",
         "marker": {
          "color": "#FF6692",
          "symbol": "circle"
         },
         "mode": "markers",
         "name": "Ni",
         "showlegend": true,
         "type": "scattergl",
         "x": [
          30,
          35,
          40,
          45,
          50,
          55,
          60,
          65,
          70,
          75,
          80,
          90,
          100,
          120,
          150,
          200
         ],
         "xaxis": "x",
         "y": [
          69.55722817469996,
          -4.927675400800581,
          3.140057599899592,
          1.6067981851001605,
          0.0505451598000945,
          1.6720715047995327,
          2.6436199250001664,
          2.7265126000002056,
          2.6200140599994484,
          1.7968356741994285,
          0.934030739699665,
          2.4450448653997228,
          1.7193172597999364,
          3.0045109150996723,
          4969.9722293846,
          0
         ],
         "yaxis": "y"
        },
        {
         "hovertemplate": "color=O<br>x=%{x}<br>y=%{y}<extra></extra>",
         "legendgroup": "O",
         "marker": {
          "color": "#B6E880",
          "symbol": "circle"
         },
         "mode": "markers",
         "name": "O",
         "showlegend": true,
         "type": "scattergl",
         "x": [
          30,
          35,
          40,
          45,
          50,
          55,
          60,
          65,
          70,
          75,
          80,
          90,
          100,
          120,
          140,
          150,
          160,
          200
         ],
         "xaxis": "x",
         "y": [
          -42.79952650430005,
          -12.10290905940019,
          3.6142159495998394,
          3.1482550206997075,
          2.3633426650999354,
          1.467203781599892,
          1.0257671131998904,
          0.5277307670999107,
          0.0415313725998203,
          0.049252603199875,
          0.2275211775995558,
          0.049524717699569,
          0.1708194586999525,
          0.0707495960996311,
          3691.8049763806,
          0.0162247874995955,
          3691.8049763806,
          0
         ],
         "yaxis": "y"
        },
        {
         "hovertemplate": "color=Os<br>x=%{x}<br>y=%{y}<extra></extra>",
         "legendgroup": "Os",
         "marker": {
          "color": "#FF97FF",
          "symbol": "circle"
         },
         "mode": "markers",
         "name": "Os",
         "showlegend": true,
         "type": "scattergl",
         "x": [
          30,
          35,
          40,
          45,
          50,
          55,
          60,
          65,
          70,
          75,
          80,
          90,
          100,
          120,
          150,
          200
         ],
         "xaxis": "x",
         "y": [
          -26.937568899500548,
          -4.150144139701297,
          -0.0129254045004927,
          -1.1296805891997792,
          -0.1783025896002072,
          -0.2085072242007299,
          -0.3907554647012148,
          -0.3319108446012251,
          -0.4585798397001781,
          -0.5215061647013499,
          -0.5240912446006405,
          9057.1864806204,
          9057.1864806204,
          9057.1864806204,
          -0.1826564098009839,
          0
         ],
         "yaxis": "y"
        },
        {
         "hovertemplate": "color=P<br>x=%{x}<br>y=%{y}<extra></extra>",
         "legendgroup": "P",
         "marker": {
          "color": "#FECB52",
          "symbol": "circle"
         },
         "mode": "markers",
         "name": "P",
         "showlegend": true,
         "type": "scattergl",
         "x": [
          30,
          35,
          40,
          45,
          50,
          55,
          60,
          65,
          70,
          75,
          80,
          90,
          100,
          120,
          150,
          200
         ],
         "xaxis": "x",
         "y": [
          0.5731907853996745,
          0.376860653699623,
          0.3586970553997162,
          0.3016041706996475,
          0.1852755072000036,
          0.1166347925000081,
          0.1116687157000342,
          0.1055631614999583,
          0.0919064473996513,
          0.071548931399775,
          0.052705048000007,
          0.038214987199808,
          0.0222453056999256,
          0.0098131054996883,
          0.0059184763999837,
          0
         ],
         "yaxis": "y"
        },
        {
         "hovertemplate": "color=Pb<br>x=%{x}<br>y=%{y}<extra></extra>",
         "legendgroup": "Pb",
         "marker": {
          "color": "#636efa",
          "symbol": "circle"
         },
         "mode": "markers",
         "name": "Pb",
         "showlegend": true,
         "type": "scattergl",
         "x": [
          30,
          35,
          40,
          45,
          50,
          55,
          60,
          65,
          70,
          75,
          80,
          90,
          100,
          120,
          150,
          200
         ],
         "xaxis": "x",
         "y": [
          24.809672675399725,
          4.159089874499841,
          1.7199975263997658,
          1.453155924499697,
          0.8597096765997776,
          0.3348020253997674,
          0.1182675022996591,
          0.1675881266996839,
          0.0711917254998297,
          0.112246901999697,
          0.0183676747997196,
          0.0296263769996585,
          0.0074150757000097,
          0.0303747255998132,
          0.0016326247996403,
          0
         ],
         "yaxis": "y"
        },
        {
         "hovertemplate": "color=Pd<br>x=%{x}<br>y=%{y}<extra></extra>",
         "legendgroup": "Pd",
         "marker": {
          "color": "#EF553B",
          "symbol": "circle"
         },
         "mode": "markers",
         "name": "Pd",
         "showlegend": true,
         "type": "scattergl",
         "x": [
          30,
          35,
          40,
          45,
          50,
          55,
          60,
          65,
          70,
          75,
          80,
          90,
          100,
          120,
          150,
          200
         ],
         "xaxis": "x",
         "y": [
          -155.26808591989993,
          -50.19527438980003,
          2.8641341801003364,
          0.2878964401006669,
          -0.2204462148001766,
          -0.3825239945999783,
          -0.4238853247998122,
          -0.3847009151995735,
          -0.3751089101997422,
          -0.3455505451993304,
          -0.2744948150993878,
          -0.0721441801997571,
          -0.0131294949997027,
          -0.0061905797992949,
          6.804019994888222e-05,
          0
         ],
         "yaxis": "y"
        },
        {
         "hovertemplate": "color=Pm<br>x=%{x}<br>y=%{y}<extra></extra>",
         "legendgroup": "Pm",
         "marker": {
          "color": "#00cc96",
          "symbol": "circle"
         },
         "mode": "markers",
         "name": "Pm",
         "showlegend": true,
         "type": "scattergl",
         "x": [
          30,
          35,
          40,
          45,
          50,
          55,
          60,
          65,
          70,
          75,
          80,
          90,
          100,
          120,
          150,
          200
         ],
         "xaxis": "x",
         "y": [
          11.1658510579,
          3.649114551799357,
          1.4573056416993495,
          1.3871683039997151,
          1.7438415122996958,
          1.4141075727002317,
          0.9047104744995522,
          0.430416060799871,
          0.1919763143996533,
          0.0752394788996753,
          0.0617018115999599,
          0.0537424871999974,
          0.028027729099449,
          0.0278916695997395,
          -0.0081634153002596,
          0
         ],
         "yaxis": "y"
        },
        {
         "hovertemplate": "color=Po<br>x=%{x}<br>y=%{y}<extra></extra>",
         "legendgroup": "Po",
         "marker": {
          "color": "#ab63fa",
          "symbol": "circle"
         },
         "mode": "markers",
         "name": "Po",
         "showlegend": true,
         "type": "scattergl",
         "x": [
          30,
          35,
          40,
          45,
          50,
          55,
          60,
          65,
          70,
          75,
          80,
          90,
          100,
          120,
          140,
          150,
          160,
          200
         ],
         "xaxis": "x",
         "y": [
          86.04443533020003,
          -88.34066790999987,
          2.37106390020017,
          -4.681854579799847,
          -3.4113550897000096,
          -0.2862637497999003,
          -1.476217549699868,
          -2.114188430000013,
          -1.3597528295999837,
          0.0127893599001254,
          -0.502594249699996,
          -0.9630108497999572,
          -0.0066667798998878,
          0.061361680300024,
          1923.0522967602,
          0.1315670400999806,
          1923.0522967602,
          0
         ],
         "yaxis": "y"
        },
        {
         "hovertemplate": "color=Pr<br>x=%{x}<br>y=%{y}<extra></extra>",
         "legendgroup": "Pr",
         "marker": {
          "color": "#FFA15A",
          "symbol": "circle"
         },
         "mode": "markers",
         "name": "Pr",
         "showlegend": true,
         "type": "scattergl",
         "x": [
          30,
          35,
          40,
          45,
          50,
          55,
          60,
          65,
          70,
          75,
          80,
          90,
          100,
          120,
          150,
          200
         ],
         "xaxis": "x",
         "y": [
          13.825559707999671,
          4.197764072199789,
          1.7896926969997369,
          1.664792438999939,
          1.849557737399664,
          1.5232932527997036,
          0.9765485246998652,
          0.5204857456992613,
          0.230616479299897,
          0.1174171238999406,
          0.0661916914996254,
          0.0668039519996455,
          0.0689808588995219,
          0.0251705295995634,
          0.0162588052999126,
          0
         ],
         "yaxis": "y"
        },
        {
         "hovertemplate": "color=Pt<br>x=%{x}<br>y=%{y}<extra></extra>",
         "legendgroup": "Pt",
         "marker": {
          "color": "#19d3f3",
          "symbol": "circle"
         },
         "mode": "markers",
         "name": "Pt",
         "showlegend": true,
         "type": "scattergl",
         "x": [
          30,
          35,
          40,
          45,
          50,
          55,
          60,
          65,
          70,
          75,
          80,
          90,
          100,
          120,
          150,
          200
         ],
         "xaxis": "x",
         "y": [
          -3.152608834999228,
          -1.8846604002001184,
          -1.7957132098999864,
          -3.165228114999991,
          -1.1114489547999256,
          -2.335212895100085,
          -0.9554256798001006,
          -0.9386226551996516,
          -0.6494677000000593,
          -0.3687142247999873,
          -0.3336455646995091,
          -0.3422851845998593,
          -0.4102796196993949,
          -0.4332732495995515,
          -0.0802395597993381,
          0
         ],
         "yaxis": "y"
        },
        {
         "hovertemplate": "color=Rb<br>x=%{x}<br>y=%{y}<extra></extra>",
         "legendgroup": "Rb",
         "marker": {
          "color": "#FF6692",
          "symbol": "circle"
         },
         "mode": "markers",
         "name": "Rb",
         "showlegend": true,
         "type": "scattergl",
         "x": [
          30,
          35,
          40,
          45,
          50,
          55,
          60,
          65,
          70,
          75,
          80,
          90,
          100,
          120,
          150,
          200
         ],
         "xaxis": "x",
         "y": [
          -396.686341772,
          -396.6989950661,
          -396.702804658,
          -396.7109680719,
          -396.716614434,
          -396.71641035,
          -396.718451207,
          -396.717634864,
          -396.721104316,
          -396.721920656,
          -396.72001586,
          -396.720900229,
          -396.7206281161,
          -396.7201519169,
          0,
          0
         ],
         "yaxis": "y"
        },
        {
         "hovertemplate": "color=Re<br>x=%{x}<br>y=%{y}<extra></extra>",
         "legendgroup": "Re",
         "marker": {
          "color": "#B6E880",
          "symbol": "circle"
         },
         "mode": "markers",
         "name": "Re",
         "showlegend": true,
         "type": "scattergl",
         "x": [
          30,
          35,
          40,
          45,
          50,
          55,
          60,
          65,
          70,
          75,
          80,
          90,
          100,
          120,
          150,
          200
         ],
         "xaxis": "x",
         "y": [
          -0.3950412602007418,
          -0.4361304505000589,
          0.9458676844988076,
          1.2864181493987417,
          1.1986614444995212,
          0.5965415543996642,
          -0.2509569804005878,
          -0.3889867202997266,
          -0.3368769253011123,
          -0.2393921500006399,
          -0.1588464507003664,
          9481.9535231747,
          9481.9535231747,
          9481.9535231747,
          0.0399327044997335,
          0
         ],
         "yaxis": "y"
        },
        {
         "hovertemplate": "color=Rh<br>x=%{x}<br>y=%{y}<extra></extra>",
         "legendgroup": "Rh",
         "marker": {
          "color": "#FF97FF",
          "symbol": "circle"
         },
         "mode": "markers",
         "name": "Rh",
         "showlegend": true,
         "type": "scattergl",
         "x": [
          30,
          35,
          40,
          45,
          50,
          55,
          60,
          65,
          70,
          75,
          80,
          90,
          100,
          120,
          150,
          200
         ],
         "xaxis": "x",
         "y": [
          -0.0862260750000132,
          -2.0167036705006467,
          -2.677055895200283,
          -2.6406947000004948,
          -2.505828260400449,
          -2.0601058199999898,
          -1.4354344952998872,
          -0.7315780604003521,
          -0.213031130499985,
          -0.0769401854004172,
          -0.0443205354004021,
          -0.0248644001003413,
          -0.0024150050003299,
          3.400959940336179e-05,
          -6.802520056226058e-05,
          0
         ],
         "yaxis": "y"
        },
        {
         "hovertemplate": "color=Rn<br>x=%{x}<br>y=%{y}<extra></extra>",
         "legendgroup": "Rn",
         "marker": {
          "color": "#FECB52",
          "symbol": "circle"
         },
         "mode": "markers",
         "name": "Rn",
         "showlegend": true,
         "type": "scattergl",
         "x": [
          30,
          35,
          40,
          45,
          50,
          55,
          60,
          65,
          70,
          75,
          80,
          90,
          100,
          120,
          150,
          200
         ],
         "xaxis": "x",
         "y": [
          191.92933667359995,
          -110.92268072570003,
          15.12452919989994,
          1.9412261498999897,
          -0.0930289243000288,
          -0.1853435006000836,
          0.3339857484999129,
          0.3184072501999253,
          -0.2281673770000907,
          -0.2220788993000724,
          -0.061191574800091,
          0.0417355239999324,
          -0.0292862497000214,
          0.0098981744999946,
          697.2821272995,
          0
         ],
         "yaxis": "y"
        },
        {
         "hovertemplate": "color=Ru<br>x=%{x}<br>y=%{y}<extra></extra>",
         "legendgroup": "Ru",
         "marker": {
          "color": "#636efa",
          "symbol": "circle"
         },
         "mode": "markers",
         "name": "Ru",
         "showlegend": true,
         "type": "scattergl",
         "x": [
          30,
          35,
          40,
          45,
          50,
          55,
          60,
          65,
          70,
          75,
          80,
          90,
          100,
          120,
          150,
          200
         ],
         "xaxis": "x",
         "y": [
          -6.7685595200000535,
          -0.0004762000999107,
          -0.3136792201994467,
          -0.540962309999486,
          -0.5338193150000734,
          -0.4713691900997219,
          -0.3495302198998615,
          -0.1993233900002451,
          -0.0775524450000375,
          -0.0270753303002493,
          -0.0172792351995667,
          -0.0067348150996622,
          0.0053742401005365,
          0.0013605650001409,
          0.0013605700005427,
          0
         ],
         "yaxis": "y"
        },
        {
         "hovertemplate": "color=S<br>x=%{x}<br>y=%{y}<extra></extra>",
         "legendgroup": "S",
         "marker": {
          "color": "#EF553B",
          "symbol": "circle"
         },
         "mode": "markers",
         "name": "S",
         "showlegend": true,
         "type": "scattergl",
         "x": [
          30,
          35,
          40,
          45,
          50,
          55,
          60,
          65,
          70,
          75,
          80,
          90,
          100,
          120,
          150,
          200
         ],
         "xaxis": "x",
         "y": [
          0.5914394189999257,
          0.0627222399998572,
          0.0292522370000369,
          -0.0020408539999152,
          0.0140138619999561,
          -0.0027211380001972,
          0.0020408539999152,
          0.0097960980001516,
          -0.0036735369999405,
          0.0031293100000766,
          0.0008163420002347,
          0.0034014230000138,
          -0.0016326830000252,
          0.0072110169999177,
          0.0004081709998899,
          0
         ],
         "yaxis": "y"
        },
        {
         "hovertemplate": "color=Sb<br>x=%{x}<br>y=%{y}<extra></extra>",
         "legendgroup": "Sb",
         "marker": {
          "color": "#00cc96",
          "symbol": "circle"
         },
         "mode": "markers",
         "name": "Sb",
         "showlegend": true,
         "type": "scattergl",
         "x": [
          30,
          35,
          40,
          45,
          50,
          55,
          60,
          65,
          70,
          75,
          80,
          90,
          100,
          120,
          150,
          200
         ],
         "xaxis": "x",
         "y": [
          -0.893553813500148,
          -3.815285400100038,
          -0.1443110302002423,
          -1.1032855467001357,
          -0.3829321998000523,
          0.0355108534999999,
          -0.4161527604001094,
          -0.449894883500292,
          -0.0148982334999345,
          -0.215015283500179,
          -0.4321848030999717,
          0.028073076399778,
          -0.1338119667002502,
          0.002358326400099,
          0.0202498000999185,
          0
         ],
         "yaxis": "y"
        },
        {
         "hovertemplate": "color=Sc<br>x=%{x}<br>y=%{y}<extra></extra>",
         "legendgroup": "Sc",
         "marker": {
          "color": "#ab63fa",
          "symbol": "circle"
         },
         "mode": "markers",
         "name": "Sc",
         "showlegend": true,
         "type": "scattergl",
         "x": [
          30,
          35,
          40,
          45,
          50,
          55,
          60,
          65,
          70,
          75,
          80,
          90,
          100,
          120,
          150,
          200
         ],
         "xaxis": "x",
         "y": [
          -3422.4255797851,
          -3360.1156614149,
          -3346.0698255701,
          -3344.9574242102,
          -3345.19538776,
          -3345.4144393999,
          -3345.4834202498,
          -3345.4813113699,
          -3345.503828795,
          -3345.5252577551,
          -3345.548931655,
          -3345.5751226102,
          -3345.5833540602,
          -3345.5941705852,
          0,
          0
         ],
         "yaxis": "y"
        },
        {
         "hovertemplate": "color=Se<br>x=%{x}<br>y=%{y}<extra></extra>",
         "legendgroup": "Se",
         "marker": {
          "color": "#FFA15A",
          "symbol": "circle"
         },
         "mode": "markers",
         "name": "Se",
         "showlegend": true,
         "type": "scattergl",
         "x": [
          30,
          35,
          40,
          45,
          50,
          55,
          60,
          65,
          70,
          75,
          80,
          90,
          100,
          120,
          150,
          200
         ],
         "xaxis": "x",
         "y": [
          1.4188015320000886,
          0.6179705190002096,
          0.0533796624999922,
          0.0516109244999825,
          -0.2084845490999214,
          0.0005895803001294,
          -0.0454430120998949,
          -0.0775524433997816,
          0.0261229293000724,
          -0.0010884547000387,
          -0.0160093633999167,
          0.0256694035001601,
          0.0088437009999324,
          0.0056236845998682,
          0.0004535244001999,
          0
         ],
         "yaxis": "y"
        },
        {
         "hovertemplate": "color=Si<br>x=%{x}<br>y=%{y}<extra></extra>",
         "legendgroup": "Si",
         "marker": {
          "color": "#19d3f3",
          "symbol": "circle"
         },
         "mode": "markers",
         "name": "Si",
         "showlegend": true,
         "type": "scattergl",
         "x": [
          30,
          35,
          40,
          45,
          50,
          55,
          60,
          65,
          70,
          75,
          80,
          90,
          100,
          120,
          150,
          200
         ],
         "xaxis": "x",
         "y": [
          0.6351817175000178,
          0.2183033239998622,
          0.271637635499701,
          0.1922484239998994,
          0.0297964649998903,
          -0.0006802850002713,
          -0.0005442275000859,
          0.0138097774997731,
          0.0226534759999594,
          0.016394857999785,
          0.0131975209997108,
          0.0257147564998376,
          0.0171431710000433,
          0.0214969929998005,
          0.0217010774999835,
          0
         ],
         "yaxis": "y"
        },
        {
         "hovertemplate": "color=Sm<br>x=%{x}<br>y=%{y}<extra></extra>",
         "legendgroup": "Sm",
         "marker": {
          "color": "#FF6692",
          "symbol": "circle"
         },
         "mode": "markers",
         "name": "Sm",
         "showlegend": true,
         "type": "scattergl",
         "x": [
          30,
          35,
          40,
          45,
          50,
          55,
          60,
          65,
          70,
          75,
          80,
          90,
          100,
          120,
          150,
          200
         ],
         "xaxis": "x",
         "y": [
          14.502714976499192,
          3.7576879667994953,
          1.4138354563992834,
          1.6167643425997085,
          1.8526190124994173,
          1.4685983623994616,
          0.9389287842996056,
          0.5170162848999098,
          0.2344940939992739,
          0.1114306132994897,
          0.042381725499581,
          0.0608174413991946,
          0.0687767687995801,
          0.018299654600014,
          0.0390483346991459,
          0
         ],
         "yaxis": "y"
        },
        {
         "hovertemplate": "color=Sn<br>x=%{x}<br>y=%{y}<extra></extra>",
         "legendgroup": "Sn",
         "marker": {
          "color": "#B6E880",
          "symbol": "circle"
         },
         "mode": "markers",
         "name": "Sn",
         "showlegend": true,
         "type": "scattergl",
         "x": [
          30,
          35,
          40,
          45,
          50,
          55,
          60,
          65,
          70,
          75,
          80,
          90,
          100,
          120,
          150,
          200
         ],
         "xaxis": "x",
         "y": [
          -3.672720425100124,
          -0.2786445652000111,
          -2.57889084010003,
          -0.1380977756002721,
          -0.5946367605001797,
          -0.6723252554002102,
          0.2395282044999476,
          -0.3519112101002974,
          -0.2565353152003808,
          0.1004780301996106,
          0.0210207899999659,
          0.04727978469964,
          -0.0364632501000414,
          0.0167350048996013,
          0.0134016094998514,
          0
         ],
         "yaxis": "y"
        },
        {
         "hovertemplate": "color=Sr<br>x=%{x}<br>y=%{y}<extra></extra>",
         "legendgroup": "Sr",
         "marker": {
          "color": "#FF97FF",
          "symbol": "circle"
         },
         "mode": "markers",
         "name": "Sr",
         "showlegend": true,
         "type": "scattergl",
         "x": [
          30,
          35,
          40,
          45,
          50,
          55,
          60,
          65,
          70,
          75,
          80,
          90,
          100,
          120
         ],
         "xaxis": "x",
         "y": [
          0.8133822648999285,
          -0.0672801456000797,
          0.1015324749998853,
          -0.0411572171001353,
          -0.1171109920001072,
          -0.0968725249999806,
          -0.0375857230001202,
          -0.0768381435000264,
          -0.0446946980000575,
          -0.0053062189999764,
          -0.0196262105000641,
          -0.0026531109999723,
          -0.008299471500095,
          0
         ],
         "yaxis": "y"
        },
        {
         "hovertemplate": "color=Ta<br>x=%{x}<br>y=%{y}<extra></extra>",
         "legendgroup": "Ta",
         "marker": {
          "color": "#FECB52",
          "symbol": "circle"
         },
         "mode": "markers",
         "name": "Ta",
         "showlegend": true,
         "type": "scattergl",
         "x": [
          30,
          35,
          40,
          45,
          50,
          55,
          60,
          65,
          70,
          75,
          80,
          90,
          100,
          120,
          150,
          200
         ],
         "xaxis": "x",
         "y": [
          -3.4535327301000507,
          -2.961006695099968,
          -2.315824794999571,
          -0.5759969598993848,
          -0.4481034651998925,
          -0.3717755349998697,
          0.0402728449998903,
          -0.146601329999612,
          -0.0631304100998022,
          0.0628582950002965,
          -0.028503930199804,
          0.0102722900001026,
          -0.0359190351000506,
          7696.347643275,
          0.0085035550000611,
          0
         ],
         "yaxis": "y"
        },
        {
         "hovertemplate": "color=Tb<br>x=%{x}<br>y=%{y}<extra></extra>",
         "legendgroup": "Tb",
         "marker": {
          "color": "#636efa",
          "symbol": "circle"
         },
         "mode": "markers",
         "name": "Tb",
         "showlegend": true,
         "type": "scattergl",
         "x": [
          30,
          35,
          40,
          45,
          50,
          55,
          60,
          65,
          70,
          75,
          80,
          90,
          100,
          120,
          150,
          200
         ],
         "xaxis": "x",
         "y": [
          5.817657706799764,
          1.33029649170021,
          1.009134150999671,
          0.7229383881995091,
          1.1792052820001118,
          1.2156005069000455,
          0.8928054694997627,
          0.385653294900294,
          0.137145369099926,
          0.0033333536002828,
          0.031429105600182,
          0.0483682006997696,
          0.0578922235999925,
          0.0109525735997522,
          -0.0053742906002298,
          0
         ],
         "yaxis": "y"
        },
        {
         "hovertemplate": "color=Tc<br>x=%{x}<br>y=%{y}<extra></extra>",
         "legendgroup": "Tc",
         "marker": {
          "color": "#EF553B",
          "symbol": "circle"
         },
         "mode": "markers",
         "name": "Tc",
         "showlegend": true,
         "type": "scattergl",
         "x": [
          30,
          35,
          40,
          45,
          50,
          55,
          60,
          65,
          70,
          75,
          80,
          90,
          100,
          120,
          150,
          200
         ],
         "xaxis": "x",
         "y": [
          2.0224860850003097,
          1.3175751900998875,
          0.012449210300474,
          -0.0841512000997681,
          -0.1885748797994892,
          -0.1877585400998214,
          -0.194561389899718,
          -0.0935391248995074,
          -0.0302726598993103,
          -0.0164628796001125,
          -0.0121090548000211,
          0.0047619951001252,
          0.0069389052005135,
          0.0033334054005536,
          0.0010204303007412,
          0
         ],
         "yaxis": "y"
        },
        {
         "hovertemplate": "color=Te<br>x=%{x}<br>y=%{y}<extra></extra>",
         "legendgroup": "Te",
         "marker": {
          "color": "#00cc96",
          "symbol": "circle"
         },
         "mode": "markers",
         "name": "Te",
         "showlegend": true,
         "type": "scattergl",
         "x": [
          30,
          35,
          40,
          45,
          50,
          55,
          60,
          65,
          70,
          75,
          80,
          90,
          100,
          120,
          150,
          200
         ],
         "xaxis": "x",
         "y": [
          2.7175101612997423,
          2.577507592399797,
          2.521678904399778,
          2.4650792279999223,
          2.4033547389999512,
          2.3791366056998413,
          2.385259170399877,
          2.385077758999614,
          2.363172594999924,
          2.3386369986997124,
          2.3514717012999427,
          2.35981652369992,
          2.3472085859998515,
          2.34503167369985,
          2.2785451919999105,
          0
         ],
         "yaxis": "y"
        },
        {
         "hovertemplate": "color=Ti<br>x=%{x}<br>y=%{y}<extra></extra>",
         "legendgroup": "Ti",
         "marker": {
          "color": "#ab63fa",
          "symbol": "circle"
         },
         "mode": "markers",
         "name": "Ti",
         "showlegend": true,
         "type": "scattergl",
         "x": [
          30,
          35,
          40,
          45,
          50,
          55,
          60,
          65,
          70,
          75,
          80,
          90,
          100,
          120,
          150,
          200
         ],
         "xaxis": "x",
         "y": [
          -4727.6025798799,
          -4727.47706737,
          -4728.20395145,
          -4728.4379013201,
          -4728.2161965702,
          -4727.4132566799,
          -4728.2108223298,
          -4728.6695382199,
          -4728.54354952,
          -4727.9731308949,
          -4727.7131261251,
          -4728.02054673,
          -4727.28107738,
          -4727.5003331051,
          0,
          0
         ],
         "yaxis": "y"
        },
        {
         "hovertemplate": "color=Tl<br>x=%{x}<br>y=%{y}<extra></extra>",
         "legendgroup": "Tl",
         "marker": {
          "color": "#FFA15A",
          "symbol": "circle"
         },
         "mode": "markers",
         "name": "Tl",
         "showlegend": true,
         "type": "scattergl",
         "x": [
          30,
          35,
          40,
          45,
          50,
          55,
          60,
          65,
          70,
          75,
          80,
          90,
          100,
          120,
          150,
          200
         ],
         "xaxis": "x",
         "y": [
          -1.6128867150998758,
          -3.041552384999932,
          -0.7948445100000754,
          -1.285193634899997,
          -0.1964661851000073,
          -1.3213167450999208,
          -1.431454819999999,
          -0.6157255749999422,
          -0.4421849701000155,
          -1.1289322651998646,
          -0.95076573489996,
          -0.2050377650000427,
          -0.6568147648999911,
          -0.4415046848998827,
          -0.0327897048998693,
          0
         ],
         "yaxis": "y"
        },
        {
         "hovertemplate": "color=Tm<br>x=%{x}<br>y=%{y}<extra></extra>",
         "legendgroup": "Tm",
         "marker": {
          "color": "#19d3f3",
          "symbol": "circle"
         },
         "mode": "markers",
         "name": "Tm",
         "showlegend": true,
         "type": "scattergl",
         "x": [
          30,
          35,
          40,
          45,
          50,
          55,
          60,
          65,
          70,
          75,
          80,
          90,
          100,
          120,
          150,
          200
         ],
         "xaxis": "x",
         "y": [
          6.8890379123004095,
          1.8107815167004448,
          0.8540973362005388,
          0.6250455176004834,
          1.0855981913000503,
          1.159749196800476,
          0.8996764145003908,
          0.3551085699000396,
          0.1279616035999424,
          -0.0112927317995854,
          0.0182316566006193,
          0.0297284766002121,
          0.0325856337003642,
          0.0074151295002593,
          0.0177554644005795,
          0
         ],
         "yaxis": "y"
        },
        {
         "hovertemplate": "color=V<br>x=%{x}<br>y=%{y}<extra></extra>",
         "legendgroup": "V",
         "marker": {
          "color": "#FF6692",
          "symbol": "circle"
         },
         "mode": "markers",
         "name": "V",
         "showlegend": true,
         "type": "scattergl",
         "x": [
          30,
          35,
          40,
          45,
          50,
          55,
          60,
          65,
          70,
          75,
          80,
          90,
          100,
          120,
          150,
          200
         ],
         "xaxis": "x",
         "y": [
          0.8485189599005025,
          -2.313035619999937,
          -1.2473698200001309,
          -1.5705049999996843,
          -0.4595322449995365,
          -1.285601810199296,
          -1.7632976449995112,
          -1.3366231550999146,
          -0.4273547800994492,
          -0.7040265198993438,
          -1.265397360099996,
          -1.0625364948000424,
          -0.3673536797996348,
          -0.3534758750001856,
          -0.260276885199346,
          0
         ],
         "yaxis": "y"
        },
        {
         "hovertemplate": "color=W<br>x=%{x}<br>y=%{y}<extra></extra>",
         "legendgroup": "W",
         "marker": {
          "color": "#B6E880",
          "symbol": "circle"
         },
         "mode": "markers",
         "name": "W",
         "showlegend": true,
         "type": "scattergl",
         "x": [
          30,
          35,
          40,
          45,
          50,
          55,
          60,
          65,
          70,
          75,
          80,
          90,
          100,
          120,
          150,
          200
         ],
         "xaxis": "x",
         "y": [
          1.8952048349001416,
          -1.1638308702003997,
          -0.8397432848996687,
          -0.8639614248004364,
          -0.5506903649002197,
          -0.2408207346998097,
          0.0140818951003893,
          -0.1324514050993457,
          0.024014044800424,
          0.1236757448004937,
          0.0265991298001608,
          -0.0225854501004505,
          -0.0456470898006955,
          9344.30038617,
          -0.0072110102009901,
          0
         ],
         "yaxis": "y"
        },
        {
         "hovertemplate": "color=Xe<br>x=%{x}<br>y=%{y}<extra></extra>",
         "legendgroup": "Xe",
         "marker": {
          "color": "#FF97FF",
          "symbol": "circle"
         },
         "mode": "markers",
         "name": "Xe",
         "showlegend": true,
         "type": "scattergl",
         "x": [
          30,
          35,
          40,
          45,
          50,
          55,
          60,
          65,
          70,
          75,
          80,
          90,
          100,
          120,
          150,
          200
         ],
         "xaxis": "x",
         "y": [
          46.27632497030004,
          -29.062233730199974,
          3.264345570200021,
          -0.6169500847998961,
          -0.1234376449999672,
          -0.1243220043999144,
          0.0718040306001057,
          0.0710217155000236,
          -0.6295013348999419,
          -0.2785084997999547,
          -0.0258167951999439,
          -0.0736067849999244,
          -0.0213609395999583,
          -0.0212928997999597,
          -0.0112927195999645,
          0
         ],
         "yaxis": "y"
        },
        {
         "hovertemplate": "color=Y<br>x=%{x}<br>y=%{y}<extra></extra>",
         "legendgroup": "Y",
         "marker": {
          "color": "#FECB52",
          "symbol": "circle"
         },
         "mode": "markers",
         "name": "Y",
         "showlegend": true,
         "type": "scattergl",
         "x": [
          30,
          35,
          40,
          45,
          50,
          55,
          60,
          65,
          70,
          75,
          80,
          90,
          100,
          120,
          150,
          200
         ],
         "xaxis": "x",
         "y": [
          -3492.6236700401,
          -3491.558684525,
          -3492.50128685,
          -3492.35332495,
          -3492.3664544401,
          -3492.018897045,
          -3492.33822263,
          -3492.408700115,
          -3492.03461162,
          -3492.043455315,
          -3492.2997185149,
          -3491.863315955,
          -3492.17236924,
          -3492.051210565,
          0,
          0
         ],
         "yaxis": "y"
        },
        {
         "hovertemplate": "color=Yb<br>x=%{x}<br>y=%{y}<extra></extra>",
         "legendgroup": "Yb",
         "marker": {
          "color": "#636efa",
          "symbol": "circle"
         },
         "mode": "markers",
         "name": "Yb",
         "showlegend": true,
         "type": "scattergl",
         "x": [
          30,
          35,
          40,
          45,
          50,
          55,
          60,
          65,
          70,
          75,
          80,
          90,
          100,
          120,
          150,
          200
         ],
         "xaxis": "x",
         "y": [
          11.246056612400023,
          2.8465828172002148,
          0.9549834867002572,
          0.7388570683997386,
          1.404719641799602,
          1.233492047499567,
          0.8872271655000077,
          0.4067421705003653,
          0.1108864043999346,
          0.0448987684003441,
          -0.0123131440004726,
          -0.0016326739996657,
          0.0160546841998439,
          0.0065987296002276,
          -0.0079593356003897,
          0
         ],
         "yaxis": "y"
        },
        {
         "hovertemplate": "color=Zn<br>x=%{x}<br>y=%{y}<extra></extra>",
         "legendgroup": "Zn",
         "marker": {
          "color": "#EF553B",
          "symbol": "circle"
         },
         "mode": "markers",
         "name": "Zn",
         "showlegend": true,
         "type": "scattergl",
         "x": [
          30,
          35,
          40,
          45,
          50,
          55,
          60,
          65,
          70,
          75,
          80,
          90,
          100,
          120,
          140,
          150,
          160,
          200
         ],
         "xaxis": "x",
         "y": [
          -1295.7531041004,
          -1302.28213542,
          -1297.9932812097,
          -1298.0856638898,
          -1297.7948422197,
          -1298.1882508104,
          -1297.9387904408,
          -1297.9768863899,
          -1297.9771584898,
          -1298.0926027596,
          -1297.9279739195,
          -1297.9993357496,
          -1298.0474318895,
          -1298.04974486,
          0,
          0,
          0,
          0
         ],
         "yaxis": "y"
        },
        {
         "hovertemplate": "color=Zr<br>x=%{x}<br>y=%{y}<extra></extra>",
         "legendgroup": "Zr",
         "marker": {
          "color": "#00cc96",
          "symbol": "circle"
         },
         "mode": "markers",
         "name": "Zr",
         "showlegend": true,
         "type": "scattergl",
         "x": [
          30,
          35,
          40,
          45,
          50,
          55,
          60,
          65,
          70,
          75,
          80,
          90,
          100,
          120,
          150,
          200
         ],
         "xaxis": "x",
         "y": [
          -5468.4379366001,
          -5468.4982098099,
          -5468.56970772,
          -5468.5819528399,
          -5468.6156949601,
          -5468.63263404,
          -5468.6588250049,
          -5468.6148105852,
          -5468.6012048999,
          -5468.57147646,
          -5468.5933135949,
          -5468.57161252,
          -5468.5908645749,
          -5468.5882114599,
          0,
          0
         ],
         "yaxis": "y"
        }
       ],
       "layout": {
        "legend": {
         "title": {
          "text": "color"
         },
         "tracegroupgap": 0
        },
        "margin": {
         "t": 60
        },
        "template": {
         "data": {
          "bar": [
           {
            "error_x": {
             "color": "#2a3f5f"
            },
            "error_y": {
             "color": "#2a3f5f"
            },
            "marker": {
             "line": {
              "color": "#E5ECF6",
              "width": 0.5
             },
             "pattern": {
              "fillmode": "overlay",
              "size": 10,
              "solidity": 0.2
             }
            },
            "type": "bar"
           }
          ],
          "barpolar": [
           {
            "marker": {
             "line": {
              "color": "#E5ECF6",
              "width": 0.5
             },
             "pattern": {
              "fillmode": "overlay",
              "size": 10,
              "solidity": 0.2
             }
            },
            "type": "barpolar"
           }
          ],
          "carpet": [
           {
            "aaxis": {
             "endlinecolor": "#2a3f5f",
             "gridcolor": "white",
             "linecolor": "white",
             "minorgridcolor": "white",
             "startlinecolor": "#2a3f5f"
            },
            "baxis": {
             "endlinecolor": "#2a3f5f",
             "gridcolor": "white",
             "linecolor": "white",
             "minorgridcolor": "white",
             "startlinecolor": "#2a3f5f"
            },
            "type": "carpet"
           }
          ],
          "choropleth": [
           {
            "colorbar": {
             "outlinewidth": 0,
             "ticks": ""
            },
            "type": "choropleth"
           }
          ],
          "contour": [
           {
            "colorbar": {
             "outlinewidth": 0,
             "ticks": ""
            },
            "colorscale": [
             [
              0,
              "#0d0887"
             ],
             [
              0.1111111111111111,
              "#46039f"
             ],
             [
              0.2222222222222222,
              "#7201a8"
             ],
             [
              0.3333333333333333,
              "#9c179e"
             ],
             [
              0.4444444444444444,
              "#bd3786"
             ],
             [
              0.5555555555555556,
              "#d8576b"
             ],
             [
              0.6666666666666666,
              "#ed7953"
             ],
             [
              0.7777777777777778,
              "#fb9f3a"
             ],
             [
              0.8888888888888888,
              "#fdca26"
             ],
             [
              1,
              "#f0f921"
             ]
            ],
            "type": "contour"
           }
          ],
          "contourcarpet": [
           {
            "colorbar": {
             "outlinewidth": 0,
             "ticks": ""
            },
            "type": "contourcarpet"
           }
          ],
          "heatmap": [
           {
            "colorbar": {
             "outlinewidth": 0,
             "ticks": ""
            },
            "colorscale": [
             [
              0,
              "#0d0887"
             ],
             [
              0.1111111111111111,
              "#46039f"
             ],
             [
              0.2222222222222222,
              "#7201a8"
             ],
             [
              0.3333333333333333,
              "#9c179e"
             ],
             [
              0.4444444444444444,
              "#bd3786"
             ],
             [
              0.5555555555555556,
              "#d8576b"
             ],
             [
              0.6666666666666666,
              "#ed7953"
             ],
             [
              0.7777777777777778,
              "#fb9f3a"
             ],
             [
              0.8888888888888888,
              "#fdca26"
             ],
             [
              1,
              "#f0f921"
             ]
            ],
            "type": "heatmap"
           }
          ],
          "heatmapgl": [
           {
            "colorbar": {
             "outlinewidth": 0,
             "ticks": ""
            },
            "colorscale": [
             [
              0,
              "#0d0887"
             ],
             [
              0.1111111111111111,
              "#46039f"
             ],
             [
              0.2222222222222222,
              "#7201a8"
             ],
             [
              0.3333333333333333,
              "#9c179e"
             ],
             [
              0.4444444444444444,
              "#bd3786"
             ],
             [
              0.5555555555555556,
              "#d8576b"
             ],
             [
              0.6666666666666666,
              "#ed7953"
             ],
             [
              0.7777777777777778,
              "#fb9f3a"
             ],
             [
              0.8888888888888888,
              "#fdca26"
             ],
             [
              1,
              "#f0f921"
             ]
            ],
            "type": "heatmapgl"
           }
          ],
          "histogram": [
           {
            "marker": {
             "pattern": {
              "fillmode": "overlay",
              "size": 10,
              "solidity": 0.2
             }
            },
            "type": "histogram"
           }
          ],
          "histogram2d": [
           {
            "colorbar": {
             "outlinewidth": 0,
             "ticks": ""
            },
            "colorscale": [
             [
              0,
              "#0d0887"
             ],
             [
              0.1111111111111111,
              "#46039f"
             ],
             [
              0.2222222222222222,
              "#7201a8"
             ],
             [
              0.3333333333333333,
              "#9c179e"
             ],
             [
              0.4444444444444444,
              "#bd3786"
             ],
             [
              0.5555555555555556,
              "#d8576b"
             ],
             [
              0.6666666666666666,
              "#ed7953"
             ],
             [
              0.7777777777777778,
              "#fb9f3a"
             ],
             [
              0.8888888888888888,
              "#fdca26"
             ],
             [
              1,
              "#f0f921"
             ]
            ],
            "type": "histogram2d"
           }
          ],
          "histogram2dcontour": [
           {
            "colorbar": {
             "outlinewidth": 0,
             "ticks": ""
            },
            "colorscale": [
             [
              0,
              "#0d0887"
             ],
             [
              0.1111111111111111,
              "#46039f"
             ],
             [
              0.2222222222222222,
              "#7201a8"
             ],
             [
              0.3333333333333333,
              "#9c179e"
             ],
             [
              0.4444444444444444,
              "#bd3786"
             ],
             [
              0.5555555555555556,
              "#d8576b"
             ],
             [
              0.6666666666666666,
              "#ed7953"
             ],
             [
              0.7777777777777778,
              "#fb9f3a"
             ],
             [
              0.8888888888888888,
              "#fdca26"
             ],
             [
              1,
              "#f0f921"
             ]
            ],
            "type": "histogram2dcontour"
           }
          ],
          "mesh3d": [
           {
            "colorbar": {
             "outlinewidth": 0,
             "ticks": ""
            },
            "type": "mesh3d"
           }
          ],
          "parcoords": [
           {
            "line": {
             "colorbar": {
              "outlinewidth": 0,
              "ticks": ""
             }
            },
            "type": "parcoords"
           }
          ],
          "pie": [
           {
            "automargin": true,
            "type": "pie"
           }
          ],
          "scatter": [
           {
            "marker": {
             "colorbar": {
              "outlinewidth": 0,
              "ticks": ""
             }
            },
            "type": "scatter"
           }
          ],
          "scatter3d": [
           {
            "line": {
             "colorbar": {
              "outlinewidth": 0,
              "ticks": ""
             }
            },
            "marker": {
             "colorbar": {
              "outlinewidth": 0,
              "ticks": ""
             }
            },
            "type": "scatter3d"
           }
          ],
          "scattercarpet": [
           {
            "marker": {
             "colorbar": {
              "outlinewidth": 0,
              "ticks": ""
             }
            },
            "type": "scattercarpet"
           }
          ],
          "scattergeo": [
           {
            "marker": {
             "colorbar": {
              "outlinewidth": 0,
              "ticks": ""
             }
            },
            "type": "scattergeo"
           }
          ],
          "scattergl": [
           {
            "marker": {
             "colorbar": {
              "outlinewidth": 0,
              "ticks": ""
             }
            },
            "type": "scattergl"
           }
          ],
          "scattermapbox": [
           {
            "marker": {
             "colorbar": {
              "outlinewidth": 0,
              "ticks": ""
             }
            },
            "type": "scattermapbox"
           }
          ],
          "scatterpolar": [
           {
            "marker": {
             "colorbar": {
              "outlinewidth": 0,
              "ticks": ""
             }
            },
            "type": "scatterpolar"
           }
          ],
          "scatterpolargl": [
           {
            "marker": {
             "colorbar": {
              "outlinewidth": 0,
              "ticks": ""
             }
            },
            "type": "scatterpolargl"
           }
          ],
          "scatterternary": [
           {
            "marker": {
             "colorbar": {
              "outlinewidth": 0,
              "ticks": ""
             }
            },
            "type": "scatterternary"
           }
          ],
          "surface": [
           {
            "colorbar": {
             "outlinewidth": 0,
             "ticks": ""
            },
            "colorscale": [
             [
              0,
              "#0d0887"
             ],
             [
              0.1111111111111111,
              "#46039f"
             ],
             [
              0.2222222222222222,
              "#7201a8"
             ],
             [
              0.3333333333333333,
              "#9c179e"
             ],
             [
              0.4444444444444444,
              "#bd3786"
             ],
             [
              0.5555555555555556,
              "#d8576b"
             ],
             [
              0.6666666666666666,
              "#ed7953"
             ],
             [
              0.7777777777777778,
              "#fb9f3a"
             ],
             [
              0.8888888888888888,
              "#fdca26"
             ],
             [
              1,
              "#f0f921"
             ]
            ],
            "type": "surface"
           }
          ],
          "table": [
           {
            "cells": {
             "fill": {
              "color": "#EBF0F8"
             },
             "line": {
              "color": "white"
             }
            },
            "header": {
             "fill": {
              "color": "#C8D4E3"
             },
             "line": {
              "color": "white"
             }
            },
            "type": "table"
           }
          ]
         },
         "layout": {
          "annotationdefaults": {
           "arrowcolor": "#2a3f5f",
           "arrowhead": 0,
           "arrowwidth": 1
          },
          "autotypenumbers": "strict",
          "coloraxis": {
           "colorbar": {
            "outlinewidth": 0,
            "ticks": ""
           }
          },
          "colorscale": {
           "diverging": [
            [
             0,
             "#8e0152"
            ],
            [
             0.1,
             "#c51b7d"
            ],
            [
             0.2,
             "#de77ae"
            ],
            [
             0.3,
             "#f1b6da"
            ],
            [
             0.4,
             "#fde0ef"
            ],
            [
             0.5,
             "#f7f7f7"
            ],
            [
             0.6,
             "#e6f5d0"
            ],
            [
             0.7,
             "#b8e186"
            ],
            [
             0.8,
             "#7fbc41"
            ],
            [
             0.9,
             "#4d9221"
            ],
            [
             1,
             "#276419"
            ]
           ],
           "sequential": [
            [
             0,
             "#0d0887"
            ],
            [
             0.1111111111111111,
             "#46039f"
            ],
            [
             0.2222222222222222,
             "#7201a8"
            ],
            [
             0.3333333333333333,
             "#9c179e"
            ],
            [
             0.4444444444444444,
             "#bd3786"
            ],
            [
             0.5555555555555556,
             "#d8576b"
            ],
            [
             0.6666666666666666,
             "#ed7953"
            ],
            [
             0.7777777777777778,
             "#fb9f3a"
            ],
            [
             0.8888888888888888,
             "#fdca26"
            ],
            [
             1,
             "#f0f921"
            ]
           ],
           "sequentialminus": [
            [
             0,
             "#0d0887"
            ],
            [
             0.1111111111111111,
             "#46039f"
            ],
            [
             0.2222222222222222,
             "#7201a8"
            ],
            [
             0.3333333333333333,
             "#9c179e"
            ],
            [
             0.4444444444444444,
             "#bd3786"
            ],
            [
             0.5555555555555556,
             "#d8576b"
            ],
            [
             0.6666666666666666,
             "#ed7953"
            ],
            [
             0.7777777777777778,
             "#fb9f3a"
            ],
            [
             0.8888888888888888,
             "#fdca26"
            ],
            [
             1,
             "#f0f921"
            ]
           ]
          },
          "colorway": [
           "#636efa",
           "#EF553B",
           "#00cc96",
           "#ab63fa",
           "#FFA15A",
           "#19d3f3",
           "#FF6692",
           "#B6E880",
           "#FF97FF",
           "#FECB52"
          ],
          "font": {
           "color": "#2a3f5f"
          },
          "geo": {
           "bgcolor": "white",
           "lakecolor": "white",
           "landcolor": "#E5ECF6",
           "showlakes": true,
           "showland": true,
           "subunitcolor": "white"
          },
          "hoverlabel": {
           "align": "left"
          },
          "hovermode": "closest",
          "mapbox": {
           "style": "light"
          },
          "paper_bgcolor": "white",
          "plot_bgcolor": "#E5ECF6",
          "polar": {
           "angularaxis": {
            "gridcolor": "white",
            "linecolor": "white",
            "ticks": ""
           },
           "bgcolor": "#E5ECF6",
           "radialaxis": {
            "gridcolor": "white",
            "linecolor": "white",
            "ticks": ""
           }
          },
          "scene": {
           "xaxis": {
            "backgroundcolor": "#E5ECF6",
            "gridcolor": "white",
            "gridwidth": 2,
            "linecolor": "white",
            "showbackground": true,
            "ticks": "",
            "zerolinecolor": "white"
           },
           "yaxis": {
            "backgroundcolor": "#E5ECF6",
            "gridcolor": "white",
            "gridwidth": 2,
            "linecolor": "white",
            "showbackground": true,
            "ticks": "",
            "zerolinecolor": "white"
           },
           "zaxis": {
            "backgroundcolor": "#E5ECF6",
            "gridcolor": "white",
            "gridwidth": 2,
            "linecolor": "white",
            "showbackground": true,
            "ticks": "",
            "zerolinecolor": "white"
           }
          },
          "shapedefaults": {
           "line": {
            "color": "#2a3f5f"
           }
          },
          "ternary": {
           "aaxis": {
            "gridcolor": "white",
            "linecolor": "white",
            "ticks": ""
           },
           "baxis": {
            "gridcolor": "white",
            "linecolor": "white",
            "ticks": ""
           },
           "bgcolor": "#E5ECF6",
           "caxis": {
            "gridcolor": "white",
            "linecolor": "white",
            "ticks": ""
           }
          },
          "title": {
           "x": 0.05
          },
          "xaxis": {
           "automargin": true,
           "gridcolor": "white",
           "linecolor": "white",
           "ticks": "",
           "title": {
            "standoff": 15
           },
           "zerolinecolor": "white",
           "zerolinewidth": 2
          },
          "yaxis": {
           "automargin": true,
           "gridcolor": "white",
           "linecolor": "white",
           "ticks": "",
           "title": {
            "standoff": 15
           },
           "zerolinecolor": "white",
           "zerolinewidth": 2
          }
         }
        },
        "xaxis": {
         "anchor": "y",
         "domain": [
          0,
          1
         ],
         "title": {
          "text": "x"
         }
        },
        "yaxis": {
         "anchor": "x",
         "domain": [
          0,
          1
         ],
         "title": {
          "text": "y"
         }
        }
       }
      },
      "text/html": [
       "<div>                            <div id=\"4f2d5e43-da6a-461d-bb15-bcb8ee4f675b\" class=\"plotly-graph-div\" style=\"height:525px; width:100%;\"></div>            <script type=\"text/javascript\">                require([\"plotly\"], function(Plotly) {                    window.PLOTLYENV=window.PLOTLYENV || {};                                    if (document.getElementById(\"4f2d5e43-da6a-461d-bb15-bcb8ee4f675b\")) {                    Plotly.newPlot(                        \"4f2d5e43-da6a-461d-bb15-bcb8ee4f675b\",                        [{\"hovertemplate\":\"color=Ag<br>x=%{x}<br>y=%{y}<extra></extra>\",\"legendgroup\":\"Ag\",\"marker\":{\"color\":\"#636efa\",\"symbol\":\"circle\"},\"mode\":\"markers\",\"name\":\"Ag\",\"showlegend\":true,\"type\":\"scattergl\",\"x\":[30.0,35.0,40.0,45.0,50.0,55.0,60.0,65.0,70.0,75.0,80.0,90.0,100.0,120.0,150.0,200.0],\"xaxis\":\"x\",\"y\":[-92.35761235000018,-42.569250174899935,1.466829634900023,-1.3159084801000065,-0.2833385351000288,-0.0661576855000021,-0.0754435704998286,-0.0709536853000827,-0.0594228599002235,-0.0358169900000575,-0.0177554251999936,-0.0060545402998286,-0.0025850900001387,0.0010204299001088,0.0002721248997659,0.0],\"yaxis\":\"y\"},{\"hovertemplate\":\"color=Al<br>x=%{x}<br>y=%{y}<extra></extra>\",\"legendgroup\":\"Al\",\"marker\":{\"color\":\"#EF553B\",\"symbol\":\"circle\"},\"mode\":\"markers\",\"name\":\"Al\",\"showlegend\":true,\"type\":\"scattergl\",\"x\":[30.0,35.0,40.0,45.0,50.0,55.0,60.0,65.0,70.0,75.0,80.0,90.0,100.0,120.0,150.0,200.0],\"xaxis\":\"x\",\"y\":[0.2901413734998641,0.3088491999997131,0.199833595799646,0.09993380529977,0.06115758299984,0.0312250598999526,0.0360890963997917,0.0061225603999446,0.0064967173998411,0.0057824188997983,0.0051361468999857,0.0163948568997511,-0.0047279802001867,-0.0023809971003174,-0.0018027555001935,0.0],\"yaxis\":\"y\"},{\"hovertemplate\":\"color=Ar<br>x=%{x}<br>y=%{y}<extra></extra>\",\"legendgroup\":\"Ar\",\"marker\":{\"color\":\"#00cc96\",\"symbol\":\"circle\"},\"mode\":\"markers\",\"name\":\"Ar\",\"showlegend\":true,\"type\":\"scattergl\",\"x\":[30.0,35.0,40.0,45.0,50.0,55.0,60.0,65.0,70.0,75.0,80.0,90.0,100.0,120.0,150.0,200.0],\"xaxis\":\"x\",\"y\":[-0.1835407820000227,-0.583446077499957,0.5240232150999873,0.193098778000035,0.0138778056000319,0.0001700705000757,0.0068368586000815,0.0061565734999931,-0.0299665369999502,-0.0224493915000039,-0.0094219430000066,0.0040136790000815,3.401290007332136e-05,0.0004081688999804,0.0007483120000415,0.0],\"yaxis\":\"y\"},{\"hovertemplate\":\"color=As<br>x=%{x}<br>y=%{y}<extra></extra>\",\"legendgroup\":\"As\",\"marker\":{\"color\":\"#ab63fa\",\"symbol\":\"circle\"},\"mode\":\"markers\",\"name\":\"As\",\"showlegend\":true,\"type\":\"scattergl\",\"x\":[30.0,35.0,40.0,45.0,50.0,55.0,60.0,65.0,70.0,75.0,80.0,90.0,100.0,120.0,150.0,200.0],\"xaxis\":\"x\",\"y\":[2.5630402077003964,0.6411455477000345,0.2613199860002169,0.2352650867001102,0.2017270559999815,0.1059203110003181,0.0632664674003535,0.0630623810002362,0.0597516620000533,0.0546948807000262,0.0205445944002349,0.0348532464004165,0.0144673867002893,0.0151249934001498,-0.0034014230000138,0.0],\"yaxis\":\"y\"},{\"hovertemplate\":\"color=Au<br>x=%{x}<br>y=%{y}<extra></extra>\",\"legendgroup\":\"Au\",\"marker\":{\"color\":\"#FFA15A\",\"symbol\":\"circle\"},\"mode\":\"markers\",\"name\":\"Au\",\"showlegend\":true,\"type\":\"scattergl\",\"x\":[30.0,35.0,40.0,45.0,50.0,55.0,60.0,65.0,70.0,75.0,80.0,90.0,100.0,120.0,150.0,200.0],\"xaxis\":\"x\",\"y\":[-84.2002518401996,-31.0662500597,-1.376419800199983,-1.4605029700996963,-1.222199295199971,-1.094611900000018,-0.8085182352997435,-0.3377272701000038,-0.0770422252999196,0.0084695603,0.0242861752003591,0.0113947749000544,0.0041837497001324,0.0004081603001395,-6.801969993830426e-05,0.0],\"yaxis\":\"y\"},{\"hovertemplate\":\"color=B<br>x=%{x}<br>y=%{y}<extra></extra>\",\"legendgroup\":\"B\",\"marker\":{\"color\":\"#19d3f3\",\"symbol\":\"circle\"},\"mode\":\"markers\",\"name\":\"B\",\"showlegend\":true,\"type\":\"scattergl\",\"x\":[30.0,35.0,40.0,45.0,50.0,55.0,60.0,65.0,70.0,75.0,80.0,90.0,100.0,120.0,150.0,200.0],\"xaxis\":\"x\",\"y\":[5.274053650500719,1.556581838400234,1.429039816900513,1.4191076612005418,1.290499860700038,0.9493824927003516,0.62439920810084,0.3708117901005607,0.2494490200006112,0.1945954059001451,0.137088682700778,0.1407055288000265,0.1247415172001638,0.0479033731007803,0.0381979799003602,0.0],\"yaxis\":\"y\"},{\"hovertemplate\":\"color=Ba<br>x=%{x}<br>y=%{y}<extra></extra>\",\"legendgroup\":\"Ba\",\"marker\":{\"color\":\"#FF6692\",\"symbol\":\"circle\"},\"mode\":\"markers\",\"name\":\"Ba\",\"showlegend\":true,\"type\":\"scattergl\",\"x\":[30.0,35.0,40.0,45.0,50.0,55.0,60.0,65.0,70.0,75.0,80.0,90.0,100.0,120.0,150.0,200.0],\"xaxis\":\"x\",\"y\":[-1405.3133448599,-1405.0279654905,-1404.8283019704,-1404.8057165294,-1404.8333360799,-1404.7804099202,-1404.8982352399,-1404.8683707499,-1404.8380980696,-1404.9089157099,-1404.8901398103,-1404.8870785393,-1404.8740851406,-1404.8744252507,0.0,0.0],\"yaxis\":\"y\"},{\"hovertemplate\":\"color=Be<br>x=%{x}<br>y=%{y}<extra></extra>\",\"legendgroup\":\"Be\",\"marker\":{\"color\":\"#B6E880\",\"symbol\":\"circle\"},\"mode\":\"markers\",\"name\":\"Be\",\"showlegend\":true,\"type\":\"scattergl\",\"x\":[30.0,35.0,40.0,45.0,50.0,55.0,60.0,65.0,70.0,75.0,80.0,90.0,100.0,120.0,140.0,150.0,160.0,200.0],\"xaxis\":\"x\",\"y\":[-0.1734725699998307,-0.008911728500152,0.3843607905000681,0.2098677945000417,0.1968063304998395,0.2187795224999718,0.1859217774999706,0.1410910224999497,0.1031991714999094,0.1149000655000236,0.0896615084998302,0.1039474839999456,0.0988453499999195,0.0556472789999134,3920.9973093575,0.0300005495000732,3920.9973093575,0.0],\"yaxis\":\"y\"},{\"hovertemplate\":\"color=Bi<br>x=%{x}<br>y=%{y}<extra></extra>\",\"legendgroup\":\"Bi\",\"marker\":{\"color\":\"#FF97FF\",\"symbol\":\"circle\"},\"mode\":\"markers\",\"name\":\"Bi\",\"showlegend\":true,\"type\":\"scattergl\",\"x\":[30.0,35.0,40.0,45.0,50.0,55.0,60.0,65.0,70.0,75.0,80.0,90.0,100.0,120.0,150.0,200.0],\"xaxis\":\"x\",\"y\":[-2.5291393600996344,-0.731215220499962,-0.2115911768996738,-0.4114814631998342,-0.0394111603000055,-0.0736067968996394,-0.0489351235996764,-0.006893540299643,-0.0064173436999226,-0.0093198905997269,-0.0028118468999309,0.0119049764002738,0.0019501496999509,0.0244675763001396,0.0053062367001075,0.0],\"yaxis\":\"y\"},{\"hovertemplate\":\"color=Br<br>x=%{x}<br>y=%{y}<extra></extra>\",\"legendgroup\":\"Br\",\"marker\":{\"color\":\"#FECB52\",\"symbol\":\"circle\"},\"mode\":\"markers\",\"name\":\"Br\",\"showlegend\":true,\"type\":\"scattergl\",\"x\":[30.0,35.0,40.0,45.0,50.0,55.0,60.0,65.0,70.0,75.0,80.0,90.0,100.0,120.0,150.0,200.0],\"xaxis\":\"x\",\"y\":[0.1332847568999113,-0.2114834716001041,-0.2367390367999178,-0.0667359189999388,-0.4875259494999682,-0.0453239605001272,-0.1858537489999889,-0.2891889780000838,-0.039575556200134,-0.0901717235001342,-0.1685405069999888,-0.0150002760999541,-0.0513274720999561,-0.0331638745999498,-0.0037415658000554,0.0],\"yaxis\":\"y\"},{\"hovertemplate\":\"color=C<br>x=%{x}<br>y=%{y}<extra></extra>\",\"legendgroup\":\"C\",\"marker\":{\"color\":\"#636efa\",\"symbol\":\"circle\"},\"mode\":\"markers\",\"name\":\"C\",\"showlegend\":true,\"type\":\"scattergl\",\"x\":[30.0,35.0,40.0,45.0,50.0,55.0,60.0,65.0,70.0,75.0,80.0,90.0,100.0,120.0,150.0,200.0],\"xaxis\":\"x\",\"y\":[35.7801460565006,12.12406591150011,2.6791307715002404,0.9298469865007064,1.494517208000616,1.9428247495006872,1.5118644650001445,0.7588914699999805,0.2616374525005085,0.0514635290001024,0.0816001360008158,0.0682665580006869,0.0123811805005971,0.034898598500149,0.0026531085004535,0.0],\"yaxis\":\"y\"},{\"hovertemplate\":\"color=Ca<br>x=%{x}<br>y=%{y}<extra></extra>\",\"legendgroup\":\"Ca\",\"marker\":{\"color\":\"#EF553B\",\"symbol\":\"circle\"},\"mode\":\"markers\",\"name\":\"Ca\",\"showlegend\":true,\"type\":\"scattergl\",\"x\":[30.0,35.0,40.0,45.0,50.0,55.0,60.0,65.0,70.0,75.0,80.0,90.0,100.0,120.0],\"xaxis\":\"x\",\"y\":[0.0948996974998408,0.0593208100999618,-0.0230276375000357,0.2059561574999406,0.1013283800000408,-3.402250013095909e-05,0.1291520275999573,0.1478598475998751,0.1076890423998975,0.0684706424999603,0.0828246425999168,0.0679264150999188,0.0287420249999286,0.0],\"yaxis\":\"y\"},{\"hovertemplate\":\"color=Cd<br>x=%{x}<br>y=%{y}<extra></extra>\",\"legendgroup\":\"Cd\",\"marker\":{\"color\":\"#00cc96\",\"symbol\":\"circle\"},\"mode\":\"markers\",\"name\":\"Cd\",\"showlegend\":true,\"type\":\"scattergl\",\"x\":[30.0,35.0,40.0,45.0,50.0,55.0,60.0,65.0,70.0,75.0,80.0,90.0,100.0,120.0,150.0,200.0],\"xaxis\":\"x\",\"y\":[3.049511714999994,-2.491134124800056,0.0665998649999437,-0.1235396749000301,0.2304123952000054,-0.0774163798000699,0.0758517350999454,0.1040835501999026,0.0399327049999556,-0.0768721599999935,-0.0215650147999895,-0.0304767449999872,-0.1055801697000333,-0.017823449800062,-0.0330618300000651,0.0],\"yaxis\":\"y\"},{\"hovertemplate\":\"color=Ce<br>x=%{x}<br>y=%{y}<extra></extra>\",\"legendgroup\":\"Ce\",\"marker\":{\"color\":\"#ab63fa\",\"symbol\":\"circle\"},\"mode\":\"markers\",\"name\":\"Ce\",\"showlegend\":true,\"type\":\"scattergl\",\"x\":[30.0,35.0,40.0,45.0,50.0,55.0,60.0,65.0,70.0,75.0,80.0,90.0,100.0,120.0,150.0,200.0],\"xaxis\":\"x\",\"y\":[11.142857437800558,3.704761826700633,2.536577136700544,2.214938583700132,2.0027578225999605,1.682683927900143,1.1515857496005992,0.6570188562000112,0.3108220240001174,0.1649009837001358,0.1251723611003399,0.1238117971006431,0.0971446389003176,0.0329257746006987,0.017279225200582,0.0],\"yaxis\":\"y\"},{\"hovertemplate\":\"color=Cl<br>x=%{x}<br>y=%{y}<extra></extra>\",\"legendgroup\":\"Cl\",\"marker\":{\"color\":\"#FFA15A\",\"symbol\":\"circle\"},\"mode\":\"markers\",\"name\":\"Cl\",\"showlegend\":true,\"type\":\"scattergl\",\"x\":[30.0,35.0,40.0,45.0,50.0,55.0,60.0,65.0,70.0,75.0,80.0,90.0,100.0,120.0,140.0,150.0,160.0,200.0],\"xaxis\":\"x\",\"y\":[1.7570390297000813,0.4125415804001022,0.2607530817001589,0.2105480797001746,0.1823332760000084,0.1310568250000869,0.0847464519001732,0.0843893030000799,0.0763619452000057,0.0775694504000057,0.0753755327000362,0.0534193465000498,0.0454770245000872,0.0424157437000758,1426.9677556582,0.0206806510000205,1426.9677556582,0.0],\"yaxis\":\"y\"},{\"hovertemplate\":\"color=Co<br>x=%{x}<br>y=%{y}<extra></extra>\",\"legendgroup\":\"Co\",\"marker\":{\"color\":\"#19d3f3\",\"symbol\":\"circle\"},\"mode\":\"markers\",\"name\":\"Co\",\"showlegend\":true,\"type\":\"scattergl\",\"x\":[30.0,35.0,40.0,45.0,50.0,55.0,60.0,65.0,70.0,75.0,80.0,90.0,100.0,120.0,140.0,150.0,160.0,200.0],\"xaxis\":\"x\",\"y\":[47.40964506530054,-4.670085659699907,-5.480848829899514,-2.4466435197991814,-3.2144807345994195,-2.7835204395996698,-1.5507767443996272,0.0834028851004404,-2.898964744399564,-2.430520774399156,0.5729356703004669,-2.394193574699784,0.1172810657008085,-2.7818877547997545,5500.6003632354,-0.8881115345993749,5500.6003632354,0.0],\"yaxis\":\"y\"},{\"hovertemplate\":\"color=Cr<br>x=%{x}<br>y=%{y}<extra></extra>\",\"legendgroup\":\"Cr\",\"marker\":{\"color\":\"#FF6692\",\"symbol\":\"circle\"},\"mode\":\"markers\",\"name\":\"Cr\",\"showlegend\":true,\"type\":\"scattergl\",\"x\":[30.0,35.0,40.0,45.0,50.0,55.0,60.0,65.0,70.0,75.0,80.0,90.0,100.0,120.0,150.0,200.0],\"xaxis\":\"x\",\"y\":[20.21656127999995,-1.095394229999329,-1.3262147995001214,-0.5067439846998241,-0.6647060594996219,-0.1739487647000714,-1.3322012995995465,-2.122419874899606,-2.241333619599573,-1.5611850898994817,-0.4288513945994054,-1.873299659499935,-1.733092999499604,-0.8591313949000323,0.1001378906003083,0.0],\"yaxis\":\"y\"},{\"hovertemplate\":\"color=Cs<br>x=%{x}<br>y=%{y}<extra></extra>\",\"legendgroup\":\"Cs\",\"marker\":{\"color\":\"#B6E880\",\"symbol\":\"circle\"},\"mode\":\"markers\",\"name\":\"Cs\",\"showlegend\":true,\"type\":\"scattergl\",\"x\":[30.0,35.0,40.0,45.0,50.0,55.0,60.0,65.0,70.0,75.0,80.0,90.0,100.0,120.0,150.0,200.0],\"xaxis\":\"x\",\"y\":[-257.134190344,-257.187252539,-257.169565142,-257.230858782,-257.264464843,-257.256165372,-257.2881387459,-257.2280696171,-257.274533054,-257.263852587,-257.2761657379,-257.2252804521,-257.238205855,-257.2377296591,0.0,0.0],\"yaxis\":\"y\"},{\"hovertemplate\":\"color=Cu<br>x=%{x}<br>y=%{y}<extra></extra>\",\"legendgroup\":\"Cu\",\"marker\":{\"color\":\"#FF97FF\",\"symbol\":\"circle\"},\"mode\":\"markers\",\"name\":\"Cu\",\"showlegend\":true,\"type\":\"scattergl\",\"x\":[30.0,35.0,40.0,45.0,50.0,55.0,60.0,65.0,70.0,75.0,80.0,90.0,100.0,120.0,150.0,200.0],\"xaxis\":\"x\",\"y\":[22.45949355980065,-4.895463955099331,-3.532411749799394,-3.542786080300175,-1.92173594040014,-2.2763002607998715,-2.5926325851996808,-1.3294461550995038,-2.4759297802993387,-2.2349049458998707,-0.9386906894997082,-1.2487303856996732,-1.04831855519933,-0.7564764701000968,-0.3478975449997961,0.0],\"yaxis\":\"y\"},{\"hovertemplate\":\"color=Dy<br>x=%{x}<br>y=%{y}<extra></extra>\",\"legendgroup\":\"Dy\",\"marker\":{\"color\":\"#FECB52\",\"symbol\":\"circle\"},\"mode\":\"markers\",\"name\":\"Dy\",\"showlegend\":true,\"type\":\"scattergl\",\"x\":[30.0,35.0,40.0,45.0,50.0,55.0,60.0,65.0,70.0,75.0,80.0,90.0,100.0,120.0,150.0,200.0],\"xaxis\":\"x\",\"y\":[8.152326411700415,2.067452915999638,0.9238945359002172,0.7671569675003411,1.2745812410003057,1.2971666475004895,0.87851956420036,0.3820478695997735,0.1800033041999995,0.0221092678002605,0.0561915559001136,0.051837726499798,0.0380279326000163,0.0104764285997589,0.0118370135996883,0.0],\"yaxis\":\"y\"},{\"hovertemplate\":\"color=Er<br>x=%{x}<br>y=%{y}<extra></extra>\",\"legendgroup\":\"Er\",\"marker\":{\"color\":\"#636efa\",\"symbol\":\"circle\"},\"mode\":\"markers\",\"name\":\"Er\",\"showlegend\":true,\"type\":\"scattergl\",\"x\":[30.0,35.0,40.0,45.0,50.0,55.0,60.0,65.0,70.0,75.0,80.0,90.0,100.0,120.0,150.0,200.0],\"xaxis\":\"x\",\"y\":[6.710667262200332,1.8516666167997755,0.8473624866001046,0.6305557690002388,1.1926069419005216,1.175123597899983,0.901377064999906,0.3776940202005789,0.1307507045003149,0.0129254185003446,0.0184357058997193,0.0278236266003659,0.0384360836997075,0.0182996790999823,0.013265514100567,0.0],\"yaxis\":\"y\"},{\"hovertemplate\":\"color=Eu<br>x=%{x}<br>y=%{y}<extra></extra>\",\"legendgroup\":\"Eu\",\"marker\":{\"color\":\"#EF553B\",\"symbol\":\"circle\"},\"mode\":\"markers\",\"name\":\"Eu\",\"showlegend\":true,\"type\":\"scattergl\",\"x\":[30.0,35.0,40.0,45.0,50.0,55.0,60.0,65.0,70.0,75.0,80.0,90.0,100.0,120.0,150.0,200.0],\"xaxis\":\"x\",\"y\":[15.117556192300071,3.7806815870999344,1.4523395612004606,1.7203716934000113,1.8577891769000416,1.4217947881998043,0.9271598655004708,0.4979002896998281,0.2191876938004497,0.0993895790998067,0.0370755160001863,0.0514295161001427,0.0427899040005286,0.01639485889973,-0.0039456499998777,0.0],\"yaxis\":\"y\"},{\"hovertemplate\":\"color=Fe<br>x=%{x}<br>y=%{y}<extra></extra>\",\"legendgroup\":\"Fe\",\"marker\":{\"color\":\"#00cc96\",\"symbol\":\"circle\"},\"mode\":\"markers\",\"name\":\"Fe\",\"showlegend\":true,\"type\":\"scattergl\",\"x\":[30.0,35.0,40.0,45.0,50.0,55.0,60.0,65.0,70.0,75.0,80.0,90.0,100.0,120.0,140.0,150.0,160.0,180.0,200.0],\"xaxis\":\"x\",\"y\":[-4021.2279232403,-4446.6268141198,-4977.8891432945,-5501.8695021556,-5680.1609355545,-5690.3111897502,-5685.7172279399,-5700.5326017199,-5721.2417570702,-5726.8866224997,-5734.7739100253,-5737.2954528693,-5738.8575903753,-5740.4457147352,0.0,-5738.4930938954,0.0,0.0,0.0],\"yaxis\":\"y\"},{\"hovertemplate\":\"color=Ga<br>x=%{x}<br>y=%{y}<extra></extra>\",\"legendgroup\":\"Ga\",\"marker\":{\"color\":\"#ab63fa\",\"symbol\":\"circle\"},\"mode\":\"markers\",\"name\":\"Ga\",\"showlegend\":true,\"type\":\"scattergl\",\"x\":[30.0,35.0,40.0,45.0,50.0,55.0,60.0,65.0,70.0,75.0,80.0,90.0,100.0,120.0,150.0,200.0],\"xaxis\":\"x\",\"y\":[271.4425126701001,185.67809948490003,78.7664957129,20.059636635299967,9.245849860199996,8.385834077600066,6.733762964800008,3.659318812399988,1.6191283324999404,1.0904961950000145,0.9360375802000362,0.8175490001999606,0.2871821374999399,0.1600879650000024,0.0260719002001224,0.0],\"yaxis\":\"y\"},{\"hovertemplate\":\"color=Gd<br>x=%{x}<br>y=%{y}<extra></extra>\",\"legendgroup\":\"Gd\",\"marker\":{\"color\":\"#FFA15A\",\"symbol\":\"circle\"},\"mode\":\"markers\",\"name\":\"Gd\",\"showlegend\":true,\"type\":\"scattergl\",\"x\":[30.0,35.0,40.0,45.0,50.0,55.0,60.0,65.0,70.0,75.0,80.0,90.0,100.0,120.0,150.0,200.0],\"xaxis\":\"x\",\"y\":[8.966422961700118,2.800663612100834,1.1711099168005603,1.032876088100238,1.569076402100109,1.3737666977003755,0.8649818546000461,0.4145654302001276,0.1438801891008552,0.0487083789003008,0.030748866200156,0.0292522354002358,0.0358509978004804,0.02108882380071,0.0029252241001813,0.0],\"yaxis\":\"y\"},{\"hovertemplate\":\"color=Ge<br>x=%{x}<br>y=%{y}<extra></extra>\",\"legendgroup\":\"Ge\",\"marker\":{\"color\":\"#19d3f3\",\"symbol\":\"circle\"},\"mode\":\"markers\",\"name\":\"Ge\",\"showlegend\":true,\"type\":\"scattergl\",\"x\":[30.0,35.0,40.0,45.0,50.0,55.0,60.0,65.0,70.0,75.0,80.0,90.0,100.0,120.0,150.0,200.0],\"xaxis\":\"x\",\"y\":[1.2575740893998957,-1.139068515300096,-0.9143705051001234,-0.0473478003000309,-0.8755942902998868,-0.9330783405002876,-0.3582378652999978,-0.1417032754002321,-0.1715677699003208,-0.3058559500000228,-0.3803471148999051,-0.0996616900001754,-0.1135394900002211,-0.0410891903002266,0.0004081748998032,0.0],\"yaxis\":\"y\"},{\"hovertemplate\":\"color=H<br>x=%{x}<br>y=%{y}<extra></extra>\",\"legendgroup\":\"H\",\"marker\":{\"color\":\"#FF6692\",\"symbol\":\"circle\"},\"mode\":\"markers\",\"name\":\"H\",\"showlegend\":true,\"type\":\"scattergl\",\"x\":[30.0,35.0,40.0,45.0,50.0,55.0,60.0,65.0,70.0,75.0,80.0,90.0,100.0,120.0,150.0,200.0],\"xaxis\":\"x\",\"y\":[14.008556257299915,6.251509219800028,2.7127368305000346,1.0935574723998798,0.496641762299987,0.243439839200164,0.1524177616001907,0.1205464286999813,0.1040495275001376,0.0954439275001277,0.0861240285998974,0.0516336001001036,0.0229255905001082,0.0036395225001797,0.0022109248998276,0.0],\"yaxis\":\"y\"},{\"hovertemplate\":\"color=He<br>x=%{x}<br>y=%{y}<extra></extra>\",\"legendgroup\":\"He\",\"marker\":{\"color\":\"#B6E880\",\"symbol\":\"circle\"},\"mode\":\"markers\",\"name\":\"He\",\"showlegend\":true,\"type\":\"scattergl\",\"x\":[30.0,35.0,40.0,45.0,50.0,55.0,60.0,65.0,70.0,75.0,80.0,90.0,100.0,120.0,150.0,200.0],\"xaxis\":\"x\",\"y\":[2.0544594506,-0.322522922400001,0.0155785168999997,-0.0274834974000004,0.0059184760999997,0.0098641265000001,0.0091158133999993,0.0097280697999995,0.0087076428999992,0.0073470738000001,0.0074151022999995,0.0075511590000001,0.0061225613999997,0.0036055081999997,0.0015646544999992,0.0],\"yaxis\":\"y\"},{\"hovertemplate\":\"color=Hf<br>x=%{x}<br>y=%{y}<extra></extra>\",\"legendgroup\":\"Hf\",\"marker\":{\"color\":\"#FF97FF\",\"symbol\":\"circle\"},\"mode\":\"markers\",\"name\":\"Hf\",\"showlegend\":true,\"type\":\"scattergl\",\"x\":[30.0,35.0,40.0,45.0,50.0,55.0,60.0,65.0,70.0,75.0,80.0,90.0,100.0,120.0,140.0,150.0,160.0,200.0],\"xaxis\":\"x\",\"y\":[-29.82816614010062,-13.958283220100384,1.3000918751995414,1.4740406450000592,0.6877677248994587,0.3778980951992707,0.3774218950993599,0.3871499603001211,0.3258563250992665,0.258372089999284,0.224834059999921,0.2378955301001042,0.2435418851000577,0.1338800152998374,5582.3047189651,0.05639559500014,5582.3047189651,0.0],\"yaxis\":\"y\"},{\"hovertemplate\":\"color=Hg<br>x=%{x}<br>y=%{y}<extra></extra>\",\"legendgroup\":\"Hg\",\"marker\":{\"color\":\"#FECB52\",\"symbol\":\"circle\"},\"mode\":\"markers\",\"name\":\"Hg\",\"showlegend\":true,\"type\":\"scattergl\",\"x\":[30.0,35.0,40.0,45.0,50.0,55.0,60.0,65.0,70.0,75.0,80.0,90.0,100.0,120.0,140.0,150.0,160.0,200.0],\"xaxis\":\"x\",\"y\":[6.63971361519998,-33.28101858460002,2.622973274799961,0.5179006493999623,0.0654433743000026,0.0238779848999683,0.031293084299989,0.0273474397999962,0.0249664353999605,0.01979627999998,0.0114968052000108,-0.0009524056000032,-0.0003401454999902,-0.0006802856000263,396.7372950849,0.0006802847999551,396.7372950849,0.0],\"yaxis\":\"y\"},{\"hovertemplate\":\"color=Ho<br>x=%{x}<br>y=%{y}<extra></extra>\",\"legendgroup\":\"Ho\",\"marker\":{\"color\":\"#636efa\",\"symbol\":\"circle\"},\"mode\":\"markers\",\"name\":\"Ho\",\"showlegend\":true,\"type\":\"scattergl\",\"x\":[30.0,35.0,40.0,45.0,50.0,55.0,60.0,65.0,70.0,75.0,80.0,90.0,100.0,120.0,150.0,200.0],\"xaxis\":\"x\",\"y\":[3.515710711300017,0.4868116666002606,0.8636212860001251,0.631304116699539,0.9687252412995804,1.12682339660023,0.8498795140994844,0.3523193689998152,0.1097979537998981,-0.0342863822997969,0.0180955548003112,0.0265310755003156,0.03013658259988,0.0058504282997091,0.0223813639995569,0.0],\"yaxis\":\"y\"},{\"hovertemplate\":\"color=I<br>x=%{x}<br>y=%{y}<extra></extra>\",\"legendgroup\":\"I\",\"marker\":{\"color\":\"#EF553B\",\"symbol\":\"circle\"},\"mode\":\"markers\",\"name\":\"I\",\"showlegend\":true,\"type\":\"scattergl\",\"x\":[30.0,35.0,40.0,45.0,50.0,55.0,60.0,65.0,70.0,75.0,80.0,90.0,100.0,120.0,150.0,200.0],\"xaxis\":\"x\",\"y\":[0.6670870651998939,-0.0587085496999861,-0.1335568704000707,0.1020937151999987,0.0282318177999059,0.0278576671998962,0.0470586855999499,-0.0248644019000039,0.0452729472999635,-0.0091668226000365,0.0045749201999569,0.0058504501998868,0.0086396176000107,0.0084185231000901,0.0089287378000335,0.0],\"yaxis\":\"y\"},{\"hovertemplate\":\"color=In<br>x=%{x}<br>y=%{y}<extra></extra>\",\"legendgroup\":\"In\",\"marker\":{\"color\":\"#00cc96\",\"symbol\":\"circle\"},\"mode\":\"markers\",\"name\":\"In\",\"showlegend\":true,\"type\":\"scattergl\",\"x\":[30.0,35.0,40.0,45.0,50.0,55.0,60.0,65.0,70.0,75.0,80.0,90.0,100.0,120.0,150.0,200.0],\"xaxis\":\"x\",\"y\":[18.58483067499992,2.716104245099814,1.0334203249999518,0.0647630949999893,0.0622460499998851,0.2230653198998879,-0.2927944852001474,-0.0508852750001551,-0.010612440099976,-0.1513633148999815,-0.0559193852000134,-0.0659875999999712,-0.0032653552000283,-0.0051701552001759,-0.0123811698999816,0.0],\"yaxis\":\"y\"},{\"hovertemplate\":\"color=Ir<br>x=%{x}<br>y=%{y}<extra></extra>\",\"legendgroup\":\"Ir\",\"marker\":{\"color\":\"#ab63fa\",\"symbol\":\"circle\"},\"mode\":\"markers\",\"name\":\"Ir\",\"showlegend\":true,\"type\":\"scattergl\",\"x\":[30.0,35.0,40.0,45.0,50.0,55.0,60.0,65.0,70.0,75.0,80.0,90.0,100.0,120.0,150.0,200.0],\"xaxis\":\"x\",\"y\":[2.430180635200486,-2.2049383973999284,-4.345725967199542,-3.166146504999233,-4.336576132099253,-2.455113057299968,-2.914135082399298,-1.9787777896999612,-1.728943267199611,-1.7044190098995389,-1.6653366624996124,-1.4313527799995427,-1.488326614899961,-1.1681506748991524,-0.4152457072996185,0.0],\"yaxis\":\"y\"},{\"hovertemplate\":\"color=K<br>x=%{x}<br>y=%{y}<extra></extra>\",\"legendgroup\":\"K\",\"marker\":{\"color\":\"#FFA15A\",\"symbol\":\"circle\"},\"mode\":\"markers\",\"name\":\"K\",\"showlegend\":true,\"type\":\"scattergl\",\"x\":[30.0,35.0,40.0,45.0,50.0,55.0,60.0,65.0,70.0,75.0,80.0,90.0,100.0,120.0,150.0,200.0],\"xaxis\":\"x\",\"y\":[-506.8492466801,-505.4994259949,-511.7221931950001,-509.7678716349,-511.581374285,-512.218596855,-511.85893040020005,-511.982470075,-512.1553984199,-512.1300918349,-512.03471594,-512.14703092,-512.14192878,-512.1925419651,0.0,0.0],\"yaxis\":\"y\"},{\"hovertemplate\":\"color=Kr<br>x=%{x}<br>y=%{y}<extra></extra>\",\"legendgroup\":\"Kr\",\"marker\":{\"color\":\"#19d3f3\",\"symbol\":\"circle\"},\"mode\":\"markers\",\"name\":\"Kr\",\"showlegend\":true,\"type\":\"scattergl\",\"x\":[30.0,35.0,40.0,45.0,50.0,55.0,60.0,65.0,70.0,75.0,80.0,90.0,100.0,120.0,150.0,200.0],\"xaxis\":\"x\",\"y\":[0.106702635999909,0.061123569499955,0.006054532500002,0.0103063104999137,0.0148302044999582,0.0119730079999271,0.0037755794999156,0.0061225623999234,-0.0021088835,-0.0027211390000729,-0.0008503560000008,0.0037755794999156,0.0029592374999083,0.0023469824999438,0.0010884544999498,0.0],\"yaxis\":\"y\"},{\"hovertemplate\":\"color=La<br>x=%{x}<br>y=%{y}<extra></extra>\",\"legendgroup\":\"La\",\"marker\":{\"color\":\"#FF6692\",\"symbol\":\"circle\"},\"mode\":\"markers\",\"name\":\"La\",\"showlegend\":true,\"type\":\"scattergl\",\"x\":[30.0,35.0,40.0,45.0,50.0,55.0,60.0,65.0,70.0,75.0,80.0,90.0,100.0,120.0,150.0,200.0],\"xaxis\":\"x\",\"y\":[15.149461537799652,3.774831142000039,1.918606621499748,1.871054728800118,1.7958832822996555,1.3194119528998272,0.8282464897993123,0.4330011409992949,0.2049697490992912,0.1106142735998219,0.0734027061998858,0.0742190517994458,0.0744911639994825,0.0067348191996643,0.007891299399489,0.0],\"yaxis\":\"y\"},{\"hovertemplate\":\"color=Li<br>x=%{x}<br>y=%{y}<extra></extra>\",\"legendgroup\":\"Li\",\"marker\":{\"color\":\"#B6E880\",\"symbol\":\"circle\"},\"mode\":\"markers\",\"name\":\"Li\",\"showlegend\":true,\"type\":\"scattergl\",\"x\":[30.0,35.0,40.0,45.0,50.0,55.0,60.0,65.0,70.0,75.0,80.0,90.0,100.0,120.0,150.0,200.0],\"xaxis\":\"x\",\"y\":[-0.6039113040001212,-0.2629980217000138,-0.1794137214001239,-0.1814545754000391,-0.1804114724000101,-0.0853983916999823,-0.1082559537001088,-0.0679377537001073,-0.0973260480000135,-0.0983237990001271,-0.0474838641000587,-0.0401367911001671,-0.0239460174000214,-0.0248984160000418,0.0071203113000137,0.0],\"yaxis\":\"y\"},{\"hovertemplate\":\"color=Lu<br>x=%{x}<br>y=%{y}<extra></extra>\",\"legendgroup\":\"Lu\",\"marker\":{\"color\":\"#FF97FF\",\"symbol\":\"circle\"},\"mode\":\"markers\",\"name\":\"Lu\",\"showlegend\":true,\"type\":\"scattergl\",\"x\":[30.0,35.0,40.0,45.0,50.0,55.0,60.0,65.0,70.0,75.0,80.0,90.0,100.0,120.0,150.0,200.0],\"xaxis\":\"x\",\"y\":[19.34171531139964,4.542124115700062,2.4421536354993805,2.040173468300054,2.040853791199879,1.5860835473995394,0.9670925646996692,0.6407600695001747,0.1770101034999243,0.1337439671997344,-0.0056463950004399,0.0313611253995986,0.0477559824994386,0.035102728399579,0.0161908128993673,0.0],\"yaxis\":\"y\"},{\"hovertemplate\":\"color=Mg<br>x=%{x}<br>y=%{y}<extra></extra>\",\"legendgroup\":\"Mg\",\"marker\":{\"color\":\"#FECB52\",\"symbol\":\"circle\"},\"mode\":\"markers\",\"name\":\"Mg\",\"showlegend\":true,\"type\":\"scattergl\",\"x\":[30.0,35.0,40.0,45.0,50.0,55.0,60.0,65.0,70.0,75.0,80.0,90.0,100.0,120.0,150.0,200.0],\"xaxis\":\"x\",\"y\":[0.0825865485001031,0.0920425050001085,0.0382319939999433,0.0072790450001321,0.0102042690000416,0.009387927500029,0.0080953870001394,0.0073470740001084,0.0071429879999413,0.0044218499999715,0.0053742484999474,0.0043538214999898,0.0040817081001023,0.0012925405001169,0.0025170535000142,0.0],\"yaxis\":\"y\"},{\"hovertemplate\":\"color=Mn<br>x=%{x}<br>y=%{y}<extra></extra>\",\"legendgroup\":\"Mn\",\"marker\":{\"color\":\"#636efa\",\"symbol\":\"circle\"},\"mode\":\"markers\",\"name\":\"Mn\",\"showlegend\":true,\"type\":\"scattergl\",\"x\":[30.0,35.0,40.0,45.0,50.0,55.0,60.0,65.0,70.0,75.0,80.0,90.0,100.0,120.0,140.0,150.0,160.0,180.0,200.0],\"xaxis\":\"x\",\"y\":[41.031602905600266,6.0367093500999545,4.107864460300334,-0.3900071497000681,1.2732206205000691,7.173362855600317,1.0190662901004544,0.7318501402005495,2.566543660100251,13.550520644900644,19.26201995000065,6.371817535200535,1.0342026303005696,4.028577285200299,6362.4905253052,-0.2590183549000358,6362.4905253052,6362.4905253052,0.0],\"yaxis\":\"y\"},{\"hovertemplate\":\"color=Mo<br>x=%{x}<br>y=%{y}<extra></extra>\",\"legendgroup\":\"Mo\",\"marker\":{\"color\":\"#EF553B\",\"symbol\":\"circle\"},\"mode\":\"markers\",\"name\":\"Mo\",\"showlegend\":true,\"type\":\"scattergl\",\"x\":[30.0,35.0,40.0,45.0,50.0,55.0,60.0,65.0,70.0,75.0,80.0,90.0,100.0,120.0,150.0,200.0],\"xaxis\":\"x\",\"y\":[-0.3035429900010058,0.0722462150988576,-0.2363308749008865,0.1760576448996289,0.1832686650996038,-0.0005442350011435,-0.1474857048997364,-0.0923826501002622,-0.0875526350009749,-0.0516336049004166,-0.0400687649998872,0.0006802749994676,0.0008843600990076,0.005442269899504,0.0001360451988148,0.0],\"yaxis\":\"y\"},{\"hovertemplate\":\"color=Na<br>x=%{x}<br>y=%{y}<extra></extra>\",\"legendgroup\":\"Na\",\"marker\":{\"color\":\"#00cc96\",\"symbol\":\"circle\"},\"mode\":\"markers\",\"name\":\"Na\",\"showlegend\":true,\"type\":\"scattergl\",\"x\":[30.0,35.0,40.0,45.0,50.0,55.0,60.0,65.0,70.0,75.0,80.0,90.0,100.0,120.0,150.0,200.0],\"xaxis\":\"x\",\"y\":[4.850882616700005,0.4065380631000153,0.5716658101000576,0.472026790100017,0.226444053199998,0.1913413765000768,0.1601843432999885,0.1073942566000596,-0.0057597533999569,-0.0624047798999072,-0.0469396466999114,-0.0395018700999116,-0.0915663098999175,-0.0622687267999708,-0.0236739068000133,0.0],\"yaxis\":\"y\"},{\"hovertemplate\":\"color=Nb<br>x=%{x}<br>y=%{y}<extra></extra>\",\"legendgroup\":\"Nb\",\"marker\":{\"color\":\"#ab63fa\",\"symbol\":\"circle\"},\"mode\":\"markers\",\"name\":\"Nb\",\"showlegend\":true,\"type\":\"scattergl\",\"x\":[30.0,35.0,40.0,45.0,50.0,55.0,60.0,65.0,70.0,75.0,80.0,90.0,100.0,120.0,150.0,200.0],\"xaxis\":\"x\",\"y\":[-21.70223478970001,-1.1493408101005116,-0.5621191594000265,-0.441232584300451,-0.1336759250998511,-0.2463990795004065,-0.0940833552003823,0.0570078509999802,0.0485042910995616,0.0230616460994497,0.0143540100998507,0.0159866903995862,6.802569987485185e-05,-0.0187078294002276,0.0067348109996601,0.0],\"yaxis\":\"y\"},{\"hovertemplate\":\"color=Nd<br>x=%{x}<br>y=%{y}<extra></extra>\",\"legendgroup\":\"Nd\",\"marker\":{\"color\":\"#FFA15A\",\"symbol\":\"circle\"},\"mode\":\"markers\",\"name\":\"Nd\",\"showlegend\":true,\"type\":\"scattergl\",\"x\":[30.0,35.0,40.0,45.0,50.0,55.0,60.0,65.0,70.0,75.0,80.0,90.0,100.0,120.0,150.0,200.0],\"xaxis\":\"x\",\"y\":[12.334239832500316,4.049802171100055,1.6730919112997071,1.623703248599668,1.8243191719002425,1.4814557421996142,0.934506934700039,0.4641581705000135,0.2176910637999753,0.0959881536000466,0.0671440910000455,0.0706135416003235,0.0772122980997664,0.0282998339998812,0.0274834996998833,0.0],\"yaxis\":\"y\"},{\"hovertemplate\":\"color=Ne<br>x=%{x}<br>y=%{y}<extra></extra>\",\"legendgroup\":\"Ne\",\"marker\":{\"color\":\"#19d3f3\",\"symbol\":\"circle\"},\"mode\":\"markers\",\"name\":\"Ne\",\"showlegend\":true,\"type\":\"scattergl\",\"x\":[30.0,35.0,40.0,45.0,50.0,55.0,60.0,65.0,70.0,75.0,80.0,90.0,100.0,120.0,140.0,150.0,160.0,180.0,200.0],\"xaxis\":\"x\",\"y\":[4.097115964900013,-0.5319485315000065,0.016156760000058,0.0461573114999964,-0.0127553349000208,0.1251383500000429,0.0733686940000097,0.0673481750000064,-0.0548309375000144,-0.0461232939999263,-0.0374156494000317,0.0059184765000281,0.0087416595000604,0.0056123484999943,684.446279579,0.0020748685000171,684.446279579,684.446279579,0.0],\"yaxis\":\"y\"},{\"hovertemplate\":\"color=Ni<br>x=%{x}<br>y=%{y}<extra></extra>\",\"legendgroup\":\"Ni\",\"marker\":{\"color\":\"#FF6692\",\"symbol\":\"circle\"},\"mode\":\"markers\",\"name\":\"Ni\",\"showlegend\":true,\"type\":\"scattergl\",\"x\":[30.0,35.0,40.0,45.0,50.0,55.0,60.0,65.0,70.0,75.0,80.0,90.0,100.0,120.0,150.0,200.0],\"xaxis\":\"x\",\"y\":[69.55722817469996,-4.927675400800581,3.140057599899592,1.6067981851001605,0.0505451598000945,1.6720715047995327,2.6436199250001664,2.7265126000002056,2.6200140599994484,1.7968356741994285,0.934030739699665,2.4450448653997228,1.7193172597999364,3.0045109150996723,4969.9722293846,0.0],\"yaxis\":\"y\"},{\"hovertemplate\":\"color=O<br>x=%{x}<br>y=%{y}<extra></extra>\",\"legendgroup\":\"O\",\"marker\":{\"color\":\"#B6E880\",\"symbol\":\"circle\"},\"mode\":\"markers\",\"name\":\"O\",\"showlegend\":true,\"type\":\"scattergl\",\"x\":[30.0,35.0,40.0,45.0,50.0,55.0,60.0,65.0,70.0,75.0,80.0,90.0,100.0,120.0,140.0,150.0,160.0,200.0],\"xaxis\":\"x\",\"y\":[-42.79952650430005,-12.10290905940019,3.6142159495998394,3.1482550206997075,2.3633426650999354,1.467203781599892,1.0257671131998904,0.5277307670999107,0.0415313725998203,0.049252603199875,0.2275211775995558,0.049524717699569,0.1708194586999525,0.0707495960996311,3691.8049763806,0.0162247874995955,3691.8049763806,0.0],\"yaxis\":\"y\"},{\"hovertemplate\":\"color=Os<br>x=%{x}<br>y=%{y}<extra></extra>\",\"legendgroup\":\"Os\",\"marker\":{\"color\":\"#FF97FF\",\"symbol\":\"circle\"},\"mode\":\"markers\",\"name\":\"Os\",\"showlegend\":true,\"type\":\"scattergl\",\"x\":[30.0,35.0,40.0,45.0,50.0,55.0,60.0,65.0,70.0,75.0,80.0,90.0,100.0,120.0,150.0,200.0],\"xaxis\":\"x\",\"y\":[-26.937568899500548,-4.150144139701297,-0.0129254045004927,-1.1296805891997792,-0.1783025896002072,-0.2085072242007299,-0.3907554647012148,-0.3319108446012251,-0.4585798397001781,-0.5215061647013499,-0.5240912446006405,9057.1864806204,9057.1864806204,9057.1864806204,-0.1826564098009839,0.0],\"yaxis\":\"y\"},{\"hovertemplate\":\"color=P<br>x=%{x}<br>y=%{y}<extra></extra>\",\"legendgroup\":\"P\",\"marker\":{\"color\":\"#FECB52\",\"symbol\":\"circle\"},\"mode\":\"markers\",\"name\":\"P\",\"showlegend\":true,\"type\":\"scattergl\",\"x\":[30.0,35.0,40.0,45.0,50.0,55.0,60.0,65.0,70.0,75.0,80.0,90.0,100.0,120.0,150.0,200.0],\"xaxis\":\"x\",\"y\":[0.5731907853996745,0.376860653699623,0.3586970553997162,0.3016041706996475,0.1852755072000036,0.1166347925000081,0.1116687157000342,0.1055631614999583,0.0919064473996513,0.071548931399775,0.052705048000007,0.038214987199808,0.0222453056999256,0.0098131054996883,0.0059184763999837,0.0],\"yaxis\":\"y\"},{\"hovertemplate\":\"color=Pb<br>x=%{x}<br>y=%{y}<extra></extra>\",\"legendgroup\":\"Pb\",\"marker\":{\"color\":\"#636efa\",\"symbol\":\"circle\"},\"mode\":\"markers\",\"name\":\"Pb\",\"showlegend\":true,\"type\":\"scattergl\",\"x\":[30.0,35.0,40.0,45.0,50.0,55.0,60.0,65.0,70.0,75.0,80.0,90.0,100.0,120.0,150.0,200.0],\"xaxis\":\"x\",\"y\":[24.809672675399725,4.159089874499841,1.7199975263997658,1.453155924499697,0.8597096765997776,0.3348020253997674,0.1182675022996591,0.1675881266996839,0.0711917254998297,0.112246901999697,0.0183676747997196,0.0296263769996585,0.0074150757000097,0.0303747255998132,0.0016326247996403,0.0],\"yaxis\":\"y\"},{\"hovertemplate\":\"color=Pd<br>x=%{x}<br>y=%{y}<extra></extra>\",\"legendgroup\":\"Pd\",\"marker\":{\"color\":\"#EF553B\",\"symbol\":\"circle\"},\"mode\":\"markers\",\"name\":\"Pd\",\"showlegend\":true,\"type\":\"scattergl\",\"x\":[30.0,35.0,40.0,45.0,50.0,55.0,60.0,65.0,70.0,75.0,80.0,90.0,100.0,120.0,150.0,200.0],\"xaxis\":\"x\",\"y\":[-155.26808591989993,-50.19527438980003,2.8641341801003364,0.2878964401006669,-0.2204462148001766,-0.3825239945999783,-0.4238853247998122,-0.3847009151995735,-0.3751089101997422,-0.3455505451993304,-0.2744948150993878,-0.0721441801997571,-0.0131294949997027,-0.0061905797992949,6.804019994888222e-05,0.0],\"yaxis\":\"y\"},{\"hovertemplate\":\"color=Pm<br>x=%{x}<br>y=%{y}<extra></extra>\",\"legendgroup\":\"Pm\",\"marker\":{\"color\":\"#00cc96\",\"symbol\":\"circle\"},\"mode\":\"markers\",\"name\":\"Pm\",\"showlegend\":true,\"type\":\"scattergl\",\"x\":[30.0,35.0,40.0,45.0,50.0,55.0,60.0,65.0,70.0,75.0,80.0,90.0,100.0,120.0,150.0,200.0],\"xaxis\":\"x\",\"y\":[11.1658510579,3.649114551799357,1.4573056416993495,1.3871683039997151,1.7438415122996958,1.4141075727002317,0.9047104744995522,0.430416060799871,0.1919763143996533,0.0752394788996753,0.0617018115999599,0.0537424871999974,0.028027729099449,0.0278916695997395,-0.0081634153002596,0.0],\"yaxis\":\"y\"},{\"hovertemplate\":\"color=Po<br>x=%{x}<br>y=%{y}<extra></extra>\",\"legendgroup\":\"Po\",\"marker\":{\"color\":\"#ab63fa\",\"symbol\":\"circle\"},\"mode\":\"markers\",\"name\":\"Po\",\"showlegend\":true,\"type\":\"scattergl\",\"x\":[30.0,35.0,40.0,45.0,50.0,55.0,60.0,65.0,70.0,75.0,80.0,90.0,100.0,120.0,140.0,150.0,160.0,200.0],\"xaxis\":\"x\",\"y\":[86.04443533020003,-88.34066790999987,2.37106390020017,-4.681854579799847,-3.4113550897000096,-0.2862637497999003,-1.476217549699868,-2.114188430000013,-1.3597528295999837,0.0127893599001254,-0.502594249699996,-0.9630108497999572,-0.0066667798998878,0.061361680300024,1923.0522967602,0.1315670400999806,1923.0522967602,0.0],\"yaxis\":\"y\"},{\"hovertemplate\":\"color=Pr<br>x=%{x}<br>y=%{y}<extra></extra>\",\"legendgroup\":\"Pr\",\"marker\":{\"color\":\"#FFA15A\",\"symbol\":\"circle\"},\"mode\":\"markers\",\"name\":\"Pr\",\"showlegend\":true,\"type\":\"scattergl\",\"x\":[30.0,35.0,40.0,45.0,50.0,55.0,60.0,65.0,70.0,75.0,80.0,90.0,100.0,120.0,150.0,200.0],\"xaxis\":\"x\",\"y\":[13.825559707999671,4.197764072199789,1.7896926969997369,1.664792438999939,1.849557737399664,1.5232932527997036,0.9765485246998652,0.5204857456992613,0.230616479299897,0.1174171238999406,0.0661916914996254,0.0668039519996455,0.0689808588995219,0.0251705295995634,0.0162588052999126,0.0],\"yaxis\":\"y\"},{\"hovertemplate\":\"color=Pt<br>x=%{x}<br>y=%{y}<extra></extra>\",\"legendgroup\":\"Pt\",\"marker\":{\"color\":\"#19d3f3\",\"symbol\":\"circle\"},\"mode\":\"markers\",\"name\":\"Pt\",\"showlegend\":true,\"type\":\"scattergl\",\"x\":[30.0,35.0,40.0,45.0,50.0,55.0,60.0,65.0,70.0,75.0,80.0,90.0,100.0,120.0,150.0,200.0],\"xaxis\":\"x\",\"y\":[-3.152608834999228,-1.8846604002001184,-1.7957132098999864,-3.165228114999991,-1.1114489547999256,-2.335212895100085,-0.9554256798001006,-0.9386226551996516,-0.6494677000000593,-0.3687142247999873,-0.3336455646995091,-0.3422851845998593,-0.4102796196993949,-0.4332732495995515,-0.0802395597993381,0.0],\"yaxis\":\"y\"},{\"hovertemplate\":\"color=Rb<br>x=%{x}<br>y=%{y}<extra></extra>\",\"legendgroup\":\"Rb\",\"marker\":{\"color\":\"#FF6692\",\"symbol\":\"circle\"},\"mode\":\"markers\",\"name\":\"Rb\",\"showlegend\":true,\"type\":\"scattergl\",\"x\":[30.0,35.0,40.0,45.0,50.0,55.0,60.0,65.0,70.0,75.0,80.0,90.0,100.0,120.0,150.0,200.0],\"xaxis\":\"x\",\"y\":[-396.686341772,-396.6989950661,-396.702804658,-396.7109680719,-396.716614434,-396.71641035,-396.718451207,-396.717634864,-396.721104316,-396.721920656,-396.72001586,-396.720900229,-396.7206281161,-396.7201519169,0.0,0.0],\"yaxis\":\"y\"},{\"hovertemplate\":\"color=Re<br>x=%{x}<br>y=%{y}<extra></extra>\",\"legendgroup\":\"Re\",\"marker\":{\"color\":\"#B6E880\",\"symbol\":\"circle\"},\"mode\":\"markers\",\"name\":\"Re\",\"showlegend\":true,\"type\":\"scattergl\",\"x\":[30.0,35.0,40.0,45.0,50.0,55.0,60.0,65.0,70.0,75.0,80.0,90.0,100.0,120.0,150.0,200.0],\"xaxis\":\"x\",\"y\":[-0.3950412602007418,-0.4361304505000589,0.9458676844988076,1.2864181493987417,1.1986614444995212,0.5965415543996642,-0.2509569804005878,-0.3889867202997266,-0.3368769253011123,-0.2393921500006399,-0.1588464507003664,9481.9535231747,9481.9535231747,9481.9535231747,0.0399327044997335,0.0],\"yaxis\":\"y\"},{\"hovertemplate\":\"color=Rh<br>x=%{x}<br>y=%{y}<extra></extra>\",\"legendgroup\":\"Rh\",\"marker\":{\"color\":\"#FF97FF\",\"symbol\":\"circle\"},\"mode\":\"markers\",\"name\":\"Rh\",\"showlegend\":true,\"type\":\"scattergl\",\"x\":[30.0,35.0,40.0,45.0,50.0,55.0,60.0,65.0,70.0,75.0,80.0,90.0,100.0,120.0,150.0,200.0],\"xaxis\":\"x\",\"y\":[-0.0862260750000132,-2.0167036705006467,-2.677055895200283,-2.6406947000004948,-2.505828260400449,-2.0601058199999898,-1.4354344952998872,-0.7315780604003521,-0.213031130499985,-0.0769401854004172,-0.0443205354004021,-0.0248644001003413,-0.0024150050003299,3.400959940336179e-05,-6.802520056226058e-05,0.0],\"yaxis\":\"y\"},{\"hovertemplate\":\"color=Rn<br>x=%{x}<br>y=%{y}<extra></extra>\",\"legendgroup\":\"Rn\",\"marker\":{\"color\":\"#FECB52\",\"symbol\":\"circle\"},\"mode\":\"markers\",\"name\":\"Rn\",\"showlegend\":true,\"type\":\"scattergl\",\"x\":[30.0,35.0,40.0,45.0,50.0,55.0,60.0,65.0,70.0,75.0,80.0,90.0,100.0,120.0,150.0,200.0],\"xaxis\":\"x\",\"y\":[191.92933667359995,-110.92268072570003,15.12452919989994,1.9412261498999897,-0.0930289243000288,-0.1853435006000836,0.3339857484999129,0.3184072501999253,-0.2281673770000907,-0.2220788993000724,-0.061191574800091,0.0417355239999324,-0.0292862497000214,0.0098981744999946,697.2821272995,0.0],\"yaxis\":\"y\"},{\"hovertemplate\":\"color=Ru<br>x=%{x}<br>y=%{y}<extra></extra>\",\"legendgroup\":\"Ru\",\"marker\":{\"color\":\"#636efa\",\"symbol\":\"circle\"},\"mode\":\"markers\",\"name\":\"Ru\",\"showlegend\":true,\"type\":\"scattergl\",\"x\":[30.0,35.0,40.0,45.0,50.0,55.0,60.0,65.0,70.0,75.0,80.0,90.0,100.0,120.0,150.0,200.0],\"xaxis\":\"x\",\"y\":[-6.7685595200000535,-0.0004762000999107,-0.3136792201994467,-0.540962309999486,-0.5338193150000734,-0.4713691900997219,-0.3495302198998615,-0.1993233900002451,-0.0775524450000375,-0.0270753303002493,-0.0172792351995667,-0.0067348150996622,0.0053742401005365,0.0013605650001409,0.0013605700005427,0.0],\"yaxis\":\"y\"},{\"hovertemplate\":\"color=S<br>x=%{x}<br>y=%{y}<extra></extra>\",\"legendgroup\":\"S\",\"marker\":{\"color\":\"#EF553B\",\"symbol\":\"circle\"},\"mode\":\"markers\",\"name\":\"S\",\"showlegend\":true,\"type\":\"scattergl\",\"x\":[30.0,35.0,40.0,45.0,50.0,55.0,60.0,65.0,70.0,75.0,80.0,90.0,100.0,120.0,150.0,200.0],\"xaxis\":\"x\",\"y\":[0.5914394189999257,0.0627222399998572,0.0292522370000369,-0.0020408539999152,0.0140138619999561,-0.0027211380001972,0.0020408539999152,0.0097960980001516,-0.0036735369999405,0.0031293100000766,0.0008163420002347,0.0034014230000138,-0.0016326830000252,0.0072110169999177,0.0004081709998899,0.0],\"yaxis\":\"y\"},{\"hovertemplate\":\"color=Sb<br>x=%{x}<br>y=%{y}<extra></extra>\",\"legendgroup\":\"Sb\",\"marker\":{\"color\":\"#00cc96\",\"symbol\":\"circle\"},\"mode\":\"markers\",\"name\":\"Sb\",\"showlegend\":true,\"type\":\"scattergl\",\"x\":[30.0,35.0,40.0,45.0,50.0,55.0,60.0,65.0,70.0,75.0,80.0,90.0,100.0,120.0,150.0,200.0],\"xaxis\":\"x\",\"y\":[-0.893553813500148,-3.815285400100038,-0.1443110302002423,-1.1032855467001357,-0.3829321998000523,0.0355108534999999,-0.4161527604001094,-0.449894883500292,-0.0148982334999345,-0.215015283500179,-0.4321848030999717,0.028073076399778,-0.1338119667002502,0.002358326400099,0.0202498000999185,0.0],\"yaxis\":\"y\"},{\"hovertemplate\":\"color=Sc<br>x=%{x}<br>y=%{y}<extra></extra>\",\"legendgroup\":\"Sc\",\"marker\":{\"color\":\"#ab63fa\",\"symbol\":\"circle\"},\"mode\":\"markers\",\"name\":\"Sc\",\"showlegend\":true,\"type\":\"scattergl\",\"x\":[30.0,35.0,40.0,45.0,50.0,55.0,60.0,65.0,70.0,75.0,80.0,90.0,100.0,120.0,150.0,200.0],\"xaxis\":\"x\",\"y\":[-3422.4255797851,-3360.1156614149,-3346.0698255701,-3344.9574242102,-3345.19538776,-3345.4144393999,-3345.4834202498,-3345.4813113699,-3345.503828795,-3345.5252577551,-3345.548931655,-3345.5751226102,-3345.5833540602,-3345.5941705852,0.0,0.0],\"yaxis\":\"y\"},{\"hovertemplate\":\"color=Se<br>x=%{x}<br>y=%{y}<extra></extra>\",\"legendgroup\":\"Se\",\"marker\":{\"color\":\"#FFA15A\",\"symbol\":\"circle\"},\"mode\":\"markers\",\"name\":\"Se\",\"showlegend\":true,\"type\":\"scattergl\",\"x\":[30.0,35.0,40.0,45.0,50.0,55.0,60.0,65.0,70.0,75.0,80.0,90.0,100.0,120.0,150.0,200.0],\"xaxis\":\"x\",\"y\":[1.4188015320000886,0.6179705190002096,0.0533796624999922,0.0516109244999825,-0.2084845490999214,0.0005895803001294,-0.0454430120998949,-0.0775524433997816,0.0261229293000724,-0.0010884547000387,-0.0160093633999167,0.0256694035001601,0.0088437009999324,0.0056236845998682,0.0004535244001999,0.0],\"yaxis\":\"y\"},{\"hovertemplate\":\"color=Si<br>x=%{x}<br>y=%{y}<extra></extra>\",\"legendgroup\":\"Si\",\"marker\":{\"color\":\"#19d3f3\",\"symbol\":\"circle\"},\"mode\":\"markers\",\"name\":\"Si\",\"showlegend\":true,\"type\":\"scattergl\",\"x\":[30.0,35.0,40.0,45.0,50.0,55.0,60.0,65.0,70.0,75.0,80.0,90.0,100.0,120.0,150.0,200.0],\"xaxis\":\"x\",\"y\":[0.6351817175000178,0.2183033239998622,0.271637635499701,0.1922484239998994,0.0297964649998903,-0.0006802850002713,-0.0005442275000859,0.0138097774997731,0.0226534759999594,0.016394857999785,0.0131975209997108,0.0257147564998376,0.0171431710000433,0.0214969929998005,0.0217010774999835,0.0],\"yaxis\":\"y\"},{\"hovertemplate\":\"color=Sm<br>x=%{x}<br>y=%{y}<extra></extra>\",\"legendgroup\":\"Sm\",\"marker\":{\"color\":\"#FF6692\",\"symbol\":\"circle\"},\"mode\":\"markers\",\"name\":\"Sm\",\"showlegend\":true,\"type\":\"scattergl\",\"x\":[30.0,35.0,40.0,45.0,50.0,55.0,60.0,65.0,70.0,75.0,80.0,90.0,100.0,120.0,150.0,200.0],\"xaxis\":\"x\",\"y\":[14.502714976499192,3.7576879667994953,1.4138354563992834,1.6167643425997085,1.8526190124994173,1.4685983623994616,0.9389287842996056,0.5170162848999098,0.2344940939992739,0.1114306132994897,0.042381725499581,0.0608174413991946,0.0687767687995801,0.018299654600014,0.0390483346991459,0.0],\"yaxis\":\"y\"},{\"hovertemplate\":\"color=Sn<br>x=%{x}<br>y=%{y}<extra></extra>\",\"legendgroup\":\"Sn\",\"marker\":{\"color\":\"#B6E880\",\"symbol\":\"circle\"},\"mode\":\"markers\",\"name\":\"Sn\",\"showlegend\":true,\"type\":\"scattergl\",\"x\":[30.0,35.0,40.0,45.0,50.0,55.0,60.0,65.0,70.0,75.0,80.0,90.0,100.0,120.0,150.0,200.0],\"xaxis\":\"x\",\"y\":[-3.672720425100124,-0.2786445652000111,-2.57889084010003,-0.1380977756002721,-0.5946367605001797,-0.6723252554002102,0.2395282044999476,-0.3519112101002974,-0.2565353152003808,0.1004780301996106,0.0210207899999659,0.04727978469964,-0.0364632501000414,0.0167350048996013,0.0134016094998514,0.0],\"yaxis\":\"y\"},{\"hovertemplate\":\"color=Sr<br>x=%{x}<br>y=%{y}<extra></extra>\",\"legendgroup\":\"Sr\",\"marker\":{\"color\":\"#FF97FF\",\"symbol\":\"circle\"},\"mode\":\"markers\",\"name\":\"Sr\",\"showlegend\":true,\"type\":\"scattergl\",\"x\":[30.0,35.0,40.0,45.0,50.0,55.0,60.0,65.0,70.0,75.0,80.0,90.0,100.0,120.0],\"xaxis\":\"x\",\"y\":[0.8133822648999285,-0.0672801456000797,0.1015324749998853,-0.0411572171001353,-0.1171109920001072,-0.0968725249999806,-0.0375857230001202,-0.0768381435000264,-0.0446946980000575,-0.0053062189999764,-0.0196262105000641,-0.0026531109999723,-0.008299471500095,0.0],\"yaxis\":\"y\"},{\"hovertemplate\":\"color=Ta<br>x=%{x}<br>y=%{y}<extra></extra>\",\"legendgroup\":\"Ta\",\"marker\":{\"color\":\"#FECB52\",\"symbol\":\"circle\"},\"mode\":\"markers\",\"name\":\"Ta\",\"showlegend\":true,\"type\":\"scattergl\",\"x\":[30.0,35.0,40.0,45.0,50.0,55.0,60.0,65.0,70.0,75.0,80.0,90.0,100.0,120.0,150.0,200.0],\"xaxis\":\"x\",\"y\":[-3.4535327301000507,-2.961006695099968,-2.315824794999571,-0.5759969598993848,-0.4481034651998925,-0.3717755349998697,0.0402728449998903,-0.146601329999612,-0.0631304100998022,0.0628582950002965,-0.028503930199804,0.0102722900001026,-0.0359190351000506,7696.347643275,0.0085035550000611,0.0],\"yaxis\":\"y\"},{\"hovertemplate\":\"color=Tb<br>x=%{x}<br>y=%{y}<extra></extra>\",\"legendgroup\":\"Tb\",\"marker\":{\"color\":\"#636efa\",\"symbol\":\"circle\"},\"mode\":\"markers\",\"name\":\"Tb\",\"showlegend\":true,\"type\":\"scattergl\",\"x\":[30.0,35.0,40.0,45.0,50.0,55.0,60.0,65.0,70.0,75.0,80.0,90.0,100.0,120.0,150.0,200.0],\"xaxis\":\"x\",\"y\":[5.817657706799764,1.33029649170021,1.009134150999671,0.7229383881995091,1.1792052820001118,1.2156005069000455,0.8928054694997627,0.385653294900294,0.137145369099926,0.0033333536002828,0.031429105600182,0.0483682006997696,0.0578922235999925,0.0109525735997522,-0.0053742906002298,0.0],\"yaxis\":\"y\"},{\"hovertemplate\":\"color=Tc<br>x=%{x}<br>y=%{y}<extra></extra>\",\"legendgroup\":\"Tc\",\"marker\":{\"color\":\"#EF553B\",\"symbol\":\"circle\"},\"mode\":\"markers\",\"name\":\"Tc\",\"showlegend\":true,\"type\":\"scattergl\",\"x\":[30.0,35.0,40.0,45.0,50.0,55.0,60.0,65.0,70.0,75.0,80.0,90.0,100.0,120.0,150.0,200.0],\"xaxis\":\"x\",\"y\":[2.0224860850003097,1.3175751900998875,0.012449210300474,-0.0841512000997681,-0.1885748797994892,-0.1877585400998214,-0.194561389899718,-0.0935391248995074,-0.0302726598993103,-0.0164628796001125,-0.0121090548000211,0.0047619951001252,0.0069389052005135,0.0033334054005536,0.0010204303007412,0.0],\"yaxis\":\"y\"},{\"hovertemplate\":\"color=Te<br>x=%{x}<br>y=%{y}<extra></extra>\",\"legendgroup\":\"Te\",\"marker\":{\"color\":\"#00cc96\",\"symbol\":\"circle\"},\"mode\":\"markers\",\"name\":\"Te\",\"showlegend\":true,\"type\":\"scattergl\",\"x\":[30.0,35.0,40.0,45.0,50.0,55.0,60.0,65.0,70.0,75.0,80.0,90.0,100.0,120.0,150.0,200.0],\"xaxis\":\"x\",\"y\":[2.7175101612997423,2.577507592399797,2.521678904399778,2.4650792279999223,2.4033547389999512,2.3791366056998413,2.385259170399877,2.385077758999614,2.363172594999924,2.3386369986997124,2.3514717012999427,2.35981652369992,2.3472085859998515,2.34503167369985,2.2785451919999105,0.0],\"yaxis\":\"y\"},{\"hovertemplate\":\"color=Ti<br>x=%{x}<br>y=%{y}<extra></extra>\",\"legendgroup\":\"Ti\",\"marker\":{\"color\":\"#ab63fa\",\"symbol\":\"circle\"},\"mode\":\"markers\",\"name\":\"Ti\",\"showlegend\":true,\"type\":\"scattergl\",\"x\":[30.0,35.0,40.0,45.0,50.0,55.0,60.0,65.0,70.0,75.0,80.0,90.0,100.0,120.0,150.0,200.0],\"xaxis\":\"x\",\"y\":[-4727.6025798799,-4727.47706737,-4728.20395145,-4728.4379013201,-4728.2161965702,-4727.4132566799,-4728.2108223298,-4728.6695382199,-4728.54354952,-4727.9731308949,-4727.7131261251,-4728.02054673,-4727.28107738,-4727.5003331051,0.0,0.0],\"yaxis\":\"y\"},{\"hovertemplate\":\"color=Tl<br>x=%{x}<br>y=%{y}<extra></extra>\",\"legendgroup\":\"Tl\",\"marker\":{\"color\":\"#FFA15A\",\"symbol\":\"circle\"},\"mode\":\"markers\",\"name\":\"Tl\",\"showlegend\":true,\"type\":\"scattergl\",\"x\":[30.0,35.0,40.0,45.0,50.0,55.0,60.0,65.0,70.0,75.0,80.0,90.0,100.0,120.0,150.0,200.0],\"xaxis\":\"x\",\"y\":[-1.6128867150998758,-3.041552384999932,-0.7948445100000754,-1.285193634899997,-0.1964661851000073,-1.3213167450999208,-1.431454819999999,-0.6157255749999422,-0.4421849701000155,-1.1289322651998646,-0.95076573489996,-0.2050377650000427,-0.6568147648999911,-0.4415046848998827,-0.0327897048998693,0.0],\"yaxis\":\"y\"},{\"hovertemplate\":\"color=Tm<br>x=%{x}<br>y=%{y}<extra></extra>\",\"legendgroup\":\"Tm\",\"marker\":{\"color\":\"#19d3f3\",\"symbol\":\"circle\"},\"mode\":\"markers\",\"name\":\"Tm\",\"showlegend\":true,\"type\":\"scattergl\",\"x\":[30.0,35.0,40.0,45.0,50.0,55.0,60.0,65.0,70.0,75.0,80.0,90.0,100.0,120.0,150.0,200.0],\"xaxis\":\"x\",\"y\":[6.8890379123004095,1.8107815167004448,0.8540973362005388,0.6250455176004834,1.0855981913000503,1.159749196800476,0.8996764145003908,0.3551085699000396,0.1279616035999424,-0.0112927317995854,0.0182316566006193,0.0297284766002121,0.0325856337003642,0.0074151295002593,0.0177554644005795,0.0],\"yaxis\":\"y\"},{\"hovertemplate\":\"color=V<br>x=%{x}<br>y=%{y}<extra></extra>\",\"legendgroup\":\"V\",\"marker\":{\"color\":\"#FF6692\",\"symbol\":\"circle\"},\"mode\":\"markers\",\"name\":\"V\",\"showlegend\":true,\"type\":\"scattergl\",\"x\":[30.0,35.0,40.0,45.0,50.0,55.0,60.0,65.0,70.0,75.0,80.0,90.0,100.0,120.0,150.0,200.0],\"xaxis\":\"x\",\"y\":[0.8485189599005025,-2.313035619999937,-1.2473698200001309,-1.5705049999996843,-0.4595322449995365,-1.285601810199296,-1.7632976449995112,-1.3366231550999146,-0.4273547800994492,-0.7040265198993438,-1.265397360099996,-1.0625364948000424,-0.3673536797996348,-0.3534758750001856,-0.260276885199346,0.0],\"yaxis\":\"y\"},{\"hovertemplate\":\"color=W<br>x=%{x}<br>y=%{y}<extra></extra>\",\"legendgroup\":\"W\",\"marker\":{\"color\":\"#B6E880\",\"symbol\":\"circle\"},\"mode\":\"markers\",\"name\":\"W\",\"showlegend\":true,\"type\":\"scattergl\",\"x\":[30.0,35.0,40.0,45.0,50.0,55.0,60.0,65.0,70.0,75.0,80.0,90.0,100.0,120.0,150.0,200.0],\"xaxis\":\"x\",\"y\":[1.8952048349001416,-1.1638308702003997,-0.8397432848996687,-0.8639614248004364,-0.5506903649002197,-0.2408207346998097,0.0140818951003893,-0.1324514050993457,0.024014044800424,0.1236757448004937,0.0265991298001608,-0.0225854501004505,-0.0456470898006955,9344.30038617,-0.0072110102009901,0.0],\"yaxis\":\"y\"},{\"hovertemplate\":\"color=Xe<br>x=%{x}<br>y=%{y}<extra></extra>\",\"legendgroup\":\"Xe\",\"marker\":{\"color\":\"#FF97FF\",\"symbol\":\"circle\"},\"mode\":\"markers\",\"name\":\"Xe\",\"showlegend\":true,\"type\":\"scattergl\",\"x\":[30.0,35.0,40.0,45.0,50.0,55.0,60.0,65.0,70.0,75.0,80.0,90.0,100.0,120.0,150.0,200.0],\"xaxis\":\"x\",\"y\":[46.27632497030004,-29.062233730199974,3.264345570200021,-0.6169500847998961,-0.1234376449999672,-0.1243220043999144,0.0718040306001057,0.0710217155000236,-0.6295013348999419,-0.2785084997999547,-0.0258167951999439,-0.0736067849999244,-0.0213609395999583,-0.0212928997999597,-0.0112927195999645,0.0],\"yaxis\":\"y\"},{\"hovertemplate\":\"color=Y<br>x=%{x}<br>y=%{y}<extra></extra>\",\"legendgroup\":\"Y\",\"marker\":{\"color\":\"#FECB52\",\"symbol\":\"circle\"},\"mode\":\"markers\",\"name\":\"Y\",\"showlegend\":true,\"type\":\"scattergl\",\"x\":[30.0,35.0,40.0,45.0,50.0,55.0,60.0,65.0,70.0,75.0,80.0,90.0,100.0,120.0,150.0,200.0],\"xaxis\":\"x\",\"y\":[-3492.6236700401,-3491.558684525,-3492.50128685,-3492.35332495,-3492.3664544401,-3492.018897045,-3492.33822263,-3492.408700115,-3492.03461162,-3492.043455315,-3492.2997185149,-3491.863315955,-3492.17236924,-3492.051210565,0.0,0.0],\"yaxis\":\"y\"},{\"hovertemplate\":\"color=Yb<br>x=%{x}<br>y=%{y}<extra></extra>\",\"legendgroup\":\"Yb\",\"marker\":{\"color\":\"#636efa\",\"symbol\":\"circle\"},\"mode\":\"markers\",\"name\":\"Yb\",\"showlegend\":true,\"type\":\"scattergl\",\"x\":[30.0,35.0,40.0,45.0,50.0,55.0,60.0,65.0,70.0,75.0,80.0,90.0,100.0,120.0,150.0,200.0],\"xaxis\":\"x\",\"y\":[11.246056612400023,2.8465828172002148,0.9549834867002572,0.7388570683997386,1.404719641799602,1.233492047499567,0.8872271655000077,0.4067421705003653,0.1108864043999346,0.0448987684003441,-0.0123131440004726,-0.0016326739996657,0.0160546841998439,0.0065987296002276,-0.0079593356003897,0.0],\"yaxis\":\"y\"},{\"hovertemplate\":\"color=Zn<br>x=%{x}<br>y=%{y}<extra></extra>\",\"legendgroup\":\"Zn\",\"marker\":{\"color\":\"#EF553B\",\"symbol\":\"circle\"},\"mode\":\"markers\",\"name\":\"Zn\",\"showlegend\":true,\"type\":\"scattergl\",\"x\":[30.0,35.0,40.0,45.0,50.0,55.0,60.0,65.0,70.0,75.0,80.0,90.0,100.0,120.0,140.0,150.0,160.0,200.0],\"xaxis\":\"x\",\"y\":[-1295.7531041004,-1302.28213542,-1297.9932812097,-1298.0856638898,-1297.7948422197,-1298.1882508104,-1297.9387904408,-1297.9768863899,-1297.9771584898,-1298.0926027596,-1297.9279739195,-1297.9993357496,-1298.0474318895,-1298.04974486,0.0,0.0,0.0,0.0],\"yaxis\":\"y\"},{\"hovertemplate\":\"color=Zr<br>x=%{x}<br>y=%{y}<extra></extra>\",\"legendgroup\":\"Zr\",\"marker\":{\"color\":\"#00cc96\",\"symbol\":\"circle\"},\"mode\":\"markers\",\"name\":\"Zr\",\"showlegend\":true,\"type\":\"scattergl\",\"x\":[30.0,35.0,40.0,45.0,50.0,55.0,60.0,65.0,70.0,75.0,80.0,90.0,100.0,120.0,150.0,200.0],\"xaxis\":\"x\",\"y\":[-5468.4379366001,-5468.4982098099,-5468.56970772,-5468.5819528399,-5468.6156949601,-5468.63263404,-5468.6588250049,-5468.6148105852,-5468.6012048999,-5468.57147646,-5468.5933135949,-5468.57161252,-5468.5908645749,-5468.5882114599,0.0,0.0],\"yaxis\":\"y\"}],                        {\"legend\":{\"title\":{\"text\":\"color\"},\"tracegroupgap\":0},\"margin\":{\"t\":60},\"template\":{\"data\":{\"bar\":[{\"error_x\":{\"color\":\"#2a3f5f\"},\"error_y\":{\"color\":\"#2a3f5f\"},\"marker\":{\"line\":{\"color\":\"#E5ECF6\",\"width\":0.5},\"pattern\":{\"fillmode\":\"overlay\",\"size\":10,\"solidity\":0.2}},\"type\":\"bar\"}],\"barpolar\":[{\"marker\":{\"line\":{\"color\":\"#E5ECF6\",\"width\":0.5},\"pattern\":{\"fillmode\":\"overlay\",\"size\":10,\"solidity\":0.2}},\"type\":\"barpolar\"}],\"carpet\":[{\"aaxis\":{\"endlinecolor\":\"#2a3f5f\",\"gridcolor\":\"white\",\"linecolor\":\"white\",\"minorgridcolor\":\"white\",\"startlinecolor\":\"#2a3f5f\"},\"baxis\":{\"endlinecolor\":\"#2a3f5f\",\"gridcolor\":\"white\",\"linecolor\":\"white\",\"minorgridcolor\":\"white\",\"startlinecolor\":\"#2a3f5f\"},\"type\":\"carpet\"}],\"choropleth\":[{\"colorbar\":{\"outlinewidth\":0,\"ticks\":\"\"},\"type\":\"choropleth\"}],\"contour\":[{\"colorbar\":{\"outlinewidth\":0,\"ticks\":\"\"},\"colorscale\":[[0.0,\"#0d0887\"],[0.1111111111111111,\"#46039f\"],[0.2222222222222222,\"#7201a8\"],[0.3333333333333333,\"#9c179e\"],[0.4444444444444444,\"#bd3786\"],[0.5555555555555556,\"#d8576b\"],[0.6666666666666666,\"#ed7953\"],[0.7777777777777778,\"#fb9f3a\"],[0.8888888888888888,\"#fdca26\"],[1.0,\"#f0f921\"]],\"type\":\"contour\"}],\"contourcarpet\":[{\"colorbar\":{\"outlinewidth\":0,\"ticks\":\"\"},\"type\":\"contourcarpet\"}],\"heatmap\":[{\"colorbar\":{\"outlinewidth\":0,\"ticks\":\"\"},\"colorscale\":[[0.0,\"#0d0887\"],[0.1111111111111111,\"#46039f\"],[0.2222222222222222,\"#7201a8\"],[0.3333333333333333,\"#9c179e\"],[0.4444444444444444,\"#bd3786\"],[0.5555555555555556,\"#d8576b\"],[0.6666666666666666,\"#ed7953\"],[0.7777777777777778,\"#fb9f3a\"],[0.8888888888888888,\"#fdca26\"],[1.0,\"#f0f921\"]],\"type\":\"heatmap\"}],\"heatmapgl\":[{\"colorbar\":{\"outlinewidth\":0,\"ticks\":\"\"},\"colorscale\":[[0.0,\"#0d0887\"],[0.1111111111111111,\"#46039f\"],[0.2222222222222222,\"#7201a8\"],[0.3333333333333333,\"#9c179e\"],[0.4444444444444444,\"#bd3786\"],[0.5555555555555556,\"#d8576b\"],[0.6666666666666666,\"#ed7953\"],[0.7777777777777778,\"#fb9f3a\"],[0.8888888888888888,\"#fdca26\"],[1.0,\"#f0f921\"]],\"type\":\"heatmapgl\"}],\"histogram\":[{\"marker\":{\"pattern\":{\"fillmode\":\"overlay\",\"size\":10,\"solidity\":0.2}},\"type\":\"histogram\"}],\"histogram2d\":[{\"colorbar\":{\"outlinewidth\":0,\"ticks\":\"\"},\"colorscale\":[[0.0,\"#0d0887\"],[0.1111111111111111,\"#46039f\"],[0.2222222222222222,\"#7201a8\"],[0.3333333333333333,\"#9c179e\"],[0.4444444444444444,\"#bd3786\"],[0.5555555555555556,\"#d8576b\"],[0.6666666666666666,\"#ed7953\"],[0.7777777777777778,\"#fb9f3a\"],[0.8888888888888888,\"#fdca26\"],[1.0,\"#f0f921\"]],\"type\":\"histogram2d\"}],\"histogram2dcontour\":[{\"colorbar\":{\"outlinewidth\":0,\"ticks\":\"\"},\"colorscale\":[[0.0,\"#0d0887\"],[0.1111111111111111,\"#46039f\"],[0.2222222222222222,\"#7201a8\"],[0.3333333333333333,\"#9c179e\"],[0.4444444444444444,\"#bd3786\"],[0.5555555555555556,\"#d8576b\"],[0.6666666666666666,\"#ed7953\"],[0.7777777777777778,\"#fb9f3a\"],[0.8888888888888888,\"#fdca26\"],[1.0,\"#f0f921\"]],\"type\":\"histogram2dcontour\"}],\"mesh3d\":[{\"colorbar\":{\"outlinewidth\":0,\"ticks\":\"\"},\"type\":\"mesh3d\"}],\"parcoords\":[{\"line\":{\"colorbar\":{\"outlinewidth\":0,\"ticks\":\"\"}},\"type\":\"parcoords\"}],\"pie\":[{\"automargin\":true,\"type\":\"pie\"}],\"scatter\":[{\"marker\":{\"colorbar\":{\"outlinewidth\":0,\"ticks\":\"\"}},\"type\":\"scatter\"}],\"scatter3d\":[{\"line\":{\"colorbar\":{\"outlinewidth\":0,\"ticks\":\"\"}},\"marker\":{\"colorbar\":{\"outlinewidth\":0,\"ticks\":\"\"}},\"type\":\"scatter3d\"}],\"scattercarpet\":[{\"marker\":{\"colorbar\":{\"outlinewidth\":0,\"ticks\":\"\"}},\"type\":\"scattercarpet\"}],\"scattergeo\":[{\"marker\":{\"colorbar\":{\"outlinewidth\":0,\"ticks\":\"\"}},\"type\":\"scattergeo\"}],\"scattergl\":[{\"marker\":{\"colorbar\":{\"outlinewidth\":0,\"ticks\":\"\"}},\"type\":\"scattergl\"}],\"scattermapbox\":[{\"marker\":{\"colorbar\":{\"outlinewidth\":0,\"ticks\":\"\"}},\"type\":\"scattermapbox\"}],\"scatterpolar\":[{\"marker\":{\"colorbar\":{\"outlinewidth\":0,\"ticks\":\"\"}},\"type\":\"scatterpolar\"}],\"scatterpolargl\":[{\"marker\":{\"colorbar\":{\"outlinewidth\":0,\"ticks\":\"\"}},\"type\":\"scatterpolargl\"}],\"scatterternary\":[{\"marker\":{\"colorbar\":{\"outlinewidth\":0,\"ticks\":\"\"}},\"type\":\"scatterternary\"}],\"surface\":[{\"colorbar\":{\"outlinewidth\":0,\"ticks\":\"\"},\"colorscale\":[[0.0,\"#0d0887\"],[0.1111111111111111,\"#46039f\"],[0.2222222222222222,\"#7201a8\"],[0.3333333333333333,\"#9c179e\"],[0.4444444444444444,\"#bd3786\"],[0.5555555555555556,\"#d8576b\"],[0.6666666666666666,\"#ed7953\"],[0.7777777777777778,\"#fb9f3a\"],[0.8888888888888888,\"#fdca26\"],[1.0,\"#f0f921\"]],\"type\":\"surface\"}],\"table\":[{\"cells\":{\"fill\":{\"color\":\"#EBF0F8\"},\"line\":{\"color\":\"white\"}},\"header\":{\"fill\":{\"color\":\"#C8D4E3\"},\"line\":{\"color\":\"white\"}},\"type\":\"table\"}]},\"layout\":{\"annotationdefaults\":{\"arrowcolor\":\"#2a3f5f\",\"arrowhead\":0,\"arrowwidth\":1},\"autotypenumbers\":\"strict\",\"coloraxis\":{\"colorbar\":{\"outlinewidth\":0,\"ticks\":\"\"}},\"colorscale\":{\"diverging\":[[0,\"#8e0152\"],[0.1,\"#c51b7d\"],[0.2,\"#de77ae\"],[0.3,\"#f1b6da\"],[0.4,\"#fde0ef\"],[0.5,\"#f7f7f7\"],[0.6,\"#e6f5d0\"],[0.7,\"#b8e186\"],[0.8,\"#7fbc41\"],[0.9,\"#4d9221\"],[1,\"#276419\"]],\"sequential\":[[0.0,\"#0d0887\"],[0.1111111111111111,\"#46039f\"],[0.2222222222222222,\"#7201a8\"],[0.3333333333333333,\"#9c179e\"],[0.4444444444444444,\"#bd3786\"],[0.5555555555555556,\"#d8576b\"],[0.6666666666666666,\"#ed7953\"],[0.7777777777777778,\"#fb9f3a\"],[0.8888888888888888,\"#fdca26\"],[1.0,\"#f0f921\"]],\"sequentialminus\":[[0.0,\"#0d0887\"],[0.1111111111111111,\"#46039f\"],[0.2222222222222222,\"#7201a8\"],[0.3333333333333333,\"#9c179e\"],[0.4444444444444444,\"#bd3786\"],[0.5555555555555556,\"#d8576b\"],[0.6666666666666666,\"#ed7953\"],[0.7777777777777778,\"#fb9f3a\"],[0.8888888888888888,\"#fdca26\"],[1.0,\"#f0f921\"]]},\"colorway\":[\"#636efa\",\"#EF553B\",\"#00cc96\",\"#ab63fa\",\"#FFA15A\",\"#19d3f3\",\"#FF6692\",\"#B6E880\",\"#FF97FF\",\"#FECB52\"],\"font\":{\"color\":\"#2a3f5f\"},\"geo\":{\"bgcolor\":\"white\",\"lakecolor\":\"white\",\"landcolor\":\"#E5ECF6\",\"showlakes\":true,\"showland\":true,\"subunitcolor\":\"white\"},\"hoverlabel\":{\"align\":\"left\"},\"hovermode\":\"closest\",\"mapbox\":{\"style\":\"light\"},\"paper_bgcolor\":\"white\",\"plot_bgcolor\":\"#E5ECF6\",\"polar\":{\"angularaxis\":{\"gridcolor\":\"white\",\"linecolor\":\"white\",\"ticks\":\"\"},\"bgcolor\":\"#E5ECF6\",\"radialaxis\":{\"gridcolor\":\"white\",\"linecolor\":\"white\",\"ticks\":\"\"}},\"scene\":{\"xaxis\":{\"backgroundcolor\":\"#E5ECF6\",\"gridcolor\":\"white\",\"gridwidth\":2,\"linecolor\":\"white\",\"showbackground\":true,\"ticks\":\"\",\"zerolinecolor\":\"white\"},\"yaxis\":{\"backgroundcolor\":\"#E5ECF6\",\"gridcolor\":\"white\",\"gridwidth\":2,\"linecolor\":\"white\",\"showbackground\":true,\"ticks\":\"\",\"zerolinecolor\":\"white\"},\"zaxis\":{\"backgroundcolor\":\"#E5ECF6\",\"gridcolor\":\"white\",\"gridwidth\":2,\"linecolor\":\"white\",\"showbackground\":true,\"ticks\":\"\",\"zerolinecolor\":\"white\"}},\"shapedefaults\":{\"line\":{\"color\":\"#2a3f5f\"}},\"ternary\":{\"aaxis\":{\"gridcolor\":\"white\",\"linecolor\":\"white\",\"ticks\":\"\"},\"baxis\":{\"gridcolor\":\"white\",\"linecolor\":\"white\",\"ticks\":\"\"},\"bgcolor\":\"#E5ECF6\",\"caxis\":{\"gridcolor\":\"white\",\"linecolor\":\"white\",\"ticks\":\"\"}},\"title\":{\"x\":0.05},\"xaxis\":{\"automargin\":true,\"gridcolor\":\"white\",\"linecolor\":\"white\",\"ticks\":\"\",\"title\":{\"standoff\":15},\"zerolinecolor\":\"white\",\"zerolinewidth\":2},\"yaxis\":{\"automargin\":true,\"gridcolor\":\"white\",\"linecolor\":\"white\",\"ticks\":\"\",\"title\":{\"standoff\":15},\"zerolinecolor\":\"white\",\"zerolinewidth\":2}}},\"xaxis\":{\"anchor\":\"y\",\"domain\":[0.0,1.0],\"title\":{\"text\":\"x\"}},\"yaxis\":{\"anchor\":\"x\",\"domain\":[0.0,1.0],\"title\":{\"text\":\"y\"}}},                        {\"responsive\": true}                    ).then(function(){\n",
       "                            \n",
       "var gd = document.getElementById('4f2d5e43-da6a-461d-bb15-bcb8ee4f675b');\n",
       "var x = new MutationObserver(function (mutations, observer) {{\n",
       "        var display = window.getComputedStyle(gd).display;\n",
       "        if (!display || display === 'none') {{\n",
       "            console.log([gd, 'removed!']);\n",
       "            Plotly.purge(gd);\n",
       "            observer.disconnect();\n",
       "        }}\n",
       "}});\n",
       "\n",
       "// Listen for the removal of the full notebook cells\n",
       "var notebookContainer = gd.closest('#notebook-container');\n",
       "if (notebookContainer) {{\n",
       "    x.observe(notebookContainer, {childList: true});\n",
       "}}\n",
       "\n",
       "// Listen for the clearing of the current output cell\n",
       "var outputEl = gd.closest('.output');\n",
       "if (outputEl) {{\n",
       "    x.observe(outputEl, {childList: true});\n",
       "}}\n",
       "\n",
       "                        })                };                });            </script>        </div>"
      ]
     },
     "metadata": {},
     "output_type": "display_data"
    }
   ],
   "source": [
    "fig = px.scatter(x=df['ecutwfc'], y=df['dE'], color=df['element'])\n",
    "fig"
   ]
  },
  {
   "cell_type": "markdown",
   "id": "84f82f93",
   "metadata": {},
   "source": [
    "### Filtering elements with missing values"
   ]
  },
  {
   "cell_type": "markdown",
   "id": "605b734c",
   "metadata": {},
   "source": [
    "Disclaimer: There is no big difference!"
   ]
  },
  {
   "cell_type": "markdown",
   "id": "4f680e4b",
   "metadata": {},
   "source": [
    "Results from parsing:\n",
    "\n",
    "ELEMENTS WITH MISSING VALUES:  ['Ba', 'Be', 'Cl', 'Co', 'Cs', 'Fe', 'Hf', 'Hg', 'K', 'Mn', 'Ne', 'Ni', 'O', 'Os', 'Po', 'Rb', 'Re', 'Rn', 'Sc', 'Ta', 'Ti', 'W', 'Y', 'Zn', 'Zr']"
   ]
  },
  {
   "cell_type": "code",
   "execution_count": 61,
   "id": "0e20bf06",
   "metadata": {},
   "outputs": [],
   "source": [
    "elements_w_missing = ['Ba', 'Be', 'Cl', 'Co', 'Cs', 'Fe', 'Hf', 'Hg', 'K', 'Mn', 'Ne', 'Ni', 'O', 'Os', 'Po', 'Rb', 'Re', 'Rn', 'Sc', 'Ta', 'Ti', 'W', 'Y', 'Zn', 'Zr']\n",
    "\n",
    "mask = (df['element'].isin(elements_w_missing))\n",
    "df_imputed = df[mask]"
   ]
  },
  {
   "cell_type": "code",
   "execution_count": 62,
   "id": "ab017c48",
   "metadata": {},
   "outputs": [
    {
     "data": {
      "application/vnd.plotly.v1+json": {
       "config": {
        "plotlyServerURL": "https://plot.ly"
       },
       "data": [
        {
         "hovertemplate": "color=Ag<br>x=%{x}<br>y=%{y}<extra></extra>",
         "legendgroup": "Ag",
         "marker": {
          "color": "#636efa",
          "symbol": "circle"
         },
         "mode": "markers",
         "name": "Ag",
         "showlegend": true,
         "type": "scattergl",
         "x": [
          30,
          35,
          40,
          45,
          50,
          55,
          60,
          65,
          70,
          75,
          80,
          90,
          100,
          120,
          150,
          200
         ],
         "xaxis": "x",
         "y": [
          -92.35761235000018,
          -42.569250174899935,
          1.466829634900023,
          -1.3159084801000065,
          -0.2833385351000288,
          -0.0661576855000021,
          -0.0754435704998286,
          -0.0709536853000827,
          -0.0594228599002235,
          -0.0358169900000575,
          -0.0177554251999936,
          -0.0060545402998286,
          -0.0025850900001387,
          0.0010204299001088,
          0.0002721248997659,
          0
         ],
         "yaxis": "y"
        },
        {
         "hovertemplate": "color=Al<br>x=%{x}<br>y=%{y}<extra></extra>",
         "legendgroup": "Al",
         "marker": {
          "color": "#EF553B",
          "symbol": "circle"
         },
         "mode": "markers",
         "name": "Al",
         "showlegend": true,
         "type": "scattergl",
         "x": [
          30,
          35,
          40,
          45,
          50,
          55,
          60,
          65,
          70,
          75,
          80,
          90,
          100,
          120,
          150,
          200
         ],
         "xaxis": "x",
         "y": [
          0.2901413734998641,
          0.3088491999997131,
          0.199833595799646,
          0.09993380529977,
          0.06115758299984,
          0.0312250598999526,
          0.0360890963997917,
          0.0061225603999446,
          0.0064967173998411,
          0.0057824188997983,
          0.0051361468999857,
          0.0163948568997511,
          -0.0047279802001867,
          -0.0023809971003174,
          -0.0018027555001935,
          0
         ],
         "yaxis": "y"
        },
        {
         "hovertemplate": "color=Ar<br>x=%{x}<br>y=%{y}<extra></extra>",
         "legendgroup": "Ar",
         "marker": {
          "color": "#00cc96",
          "symbol": "circle"
         },
         "mode": "markers",
         "name": "Ar",
         "showlegend": true,
         "type": "scattergl",
         "x": [
          30,
          35,
          40,
          45,
          50,
          55,
          60,
          65,
          70,
          75,
          80,
          90,
          100,
          120,
          150,
          200
         ],
         "xaxis": "x",
         "y": [
          -0.1835407820000227,
          -0.583446077499957,
          0.5240232150999873,
          0.193098778000035,
          0.0138778056000319,
          0.0001700705000757,
          0.0068368586000815,
          0.0061565734999931,
          -0.0299665369999502,
          -0.0224493915000039,
          -0.0094219430000066,
          0.0040136790000815,
          3.401290007332136e-05,
          0.0004081688999804,
          0.0007483120000415,
          0
         ],
         "yaxis": "y"
        },
        {
         "hovertemplate": "color=As<br>x=%{x}<br>y=%{y}<extra></extra>",
         "legendgroup": "As",
         "marker": {
          "color": "#ab63fa",
          "symbol": "circle"
         },
         "mode": "markers",
         "name": "As",
         "showlegend": true,
         "type": "scattergl",
         "x": [
          30,
          35,
          40,
          45,
          50,
          55,
          60,
          65,
          70,
          75,
          80,
          90,
          100,
          120,
          150,
          200
         ],
         "xaxis": "x",
         "y": [
          2.5630402077003964,
          0.6411455477000345,
          0.2613199860002169,
          0.2352650867001102,
          0.2017270559999815,
          0.1059203110003181,
          0.0632664674003535,
          0.0630623810002362,
          0.0597516620000533,
          0.0546948807000262,
          0.0205445944002349,
          0.0348532464004165,
          0.0144673867002893,
          0.0151249934001498,
          -0.0034014230000138,
          0
         ],
         "yaxis": "y"
        },
        {
         "hovertemplate": "color=Au<br>x=%{x}<br>y=%{y}<extra></extra>",
         "legendgroup": "Au",
         "marker": {
          "color": "#FFA15A",
          "symbol": "circle"
         },
         "mode": "markers",
         "name": "Au",
         "showlegend": true,
         "type": "scattergl",
         "x": [
          30,
          35,
          40,
          45,
          50,
          55,
          60,
          65,
          70,
          75,
          80,
          90,
          100,
          120,
          150,
          200
         ],
         "xaxis": "x",
         "y": [
          -84.2002518401996,
          -31.0662500597,
          -1.376419800199983,
          -1.4605029700996963,
          -1.222199295199971,
          -1.094611900000018,
          -0.8085182352997435,
          -0.3377272701000038,
          -0.0770422252999196,
          0.0084695603,
          0.0242861752003591,
          0.0113947749000544,
          0.0041837497001324,
          0.0004081603001395,
          -6.801969993830426e-05,
          0
         ],
         "yaxis": "y"
        },
        {
         "hovertemplate": "color=B<br>x=%{x}<br>y=%{y}<extra></extra>",
         "legendgroup": "B",
         "marker": {
          "color": "#19d3f3",
          "symbol": "circle"
         },
         "mode": "markers",
         "name": "B",
         "showlegend": true,
         "type": "scattergl",
         "x": [
          30,
          35,
          40,
          45,
          50,
          55,
          60,
          65,
          70,
          75,
          80,
          90,
          100,
          120,
          150,
          200
         ],
         "xaxis": "x",
         "y": [
          5.274053650500719,
          1.556581838400234,
          1.429039816900513,
          1.4191076612005418,
          1.290499860700038,
          0.9493824927003516,
          0.62439920810084,
          0.3708117901005607,
          0.2494490200006112,
          0.1945954059001451,
          0.137088682700778,
          0.1407055288000265,
          0.1247415172001638,
          0.0479033731007803,
          0.0381979799003602,
          0
         ],
         "yaxis": "y"
        },
        {
         "hovertemplate": "color=Ba<br>x=%{x}<br>y=%{y}<extra></extra>",
         "legendgroup": "Ba",
         "marker": {
          "color": "#FF6692",
          "symbol": "circle"
         },
         "mode": "markers",
         "name": "Ba",
         "showlegend": true,
         "type": "scattergl",
         "x": [
          30,
          35,
          40,
          45,
          50,
          55,
          60,
          65,
          70,
          75,
          80,
          90,
          100,
          120,
          150,
          200
         ],
         "xaxis": "x",
         "y": [
          -1405.3133448599,
          -1405.0279654905,
          -1404.8283019704,
          -1404.8057165294,
          -1404.8333360799,
          -1404.7804099202,
          -1404.8982352399,
          -1404.8683707499,
          -1404.8380980696,
          -1404.9089157099,
          -1404.8901398103,
          -1404.8870785393,
          -1404.8740851406,
          -1404.8744252507,
          0,
          0
         ],
         "yaxis": "y"
        },
        {
         "hovertemplate": "color=Be<br>x=%{x}<br>y=%{y}<extra></extra>",
         "legendgroup": "Be",
         "marker": {
          "color": "#B6E880",
          "symbol": "circle"
         },
         "mode": "markers",
         "name": "Be",
         "showlegend": true,
         "type": "scattergl",
         "x": [
          30,
          35,
          40,
          45,
          50,
          55,
          60,
          65,
          70,
          75,
          80,
          90,
          100,
          120,
          140,
          150,
          160,
          200
         ],
         "xaxis": "x",
         "y": [
          -0.1734725699998307,
          -0.008911728500152,
          0.3843607905000681,
          0.2098677945000417,
          0.1968063304998395,
          0.2187795224999718,
          0.1859217774999706,
          0.1410910224999497,
          0.1031991714999094,
          0.1149000655000236,
          0.0896615084998302,
          0.1039474839999456,
          0.0988453499999195,
          0.0556472789999134,
          3920.9973093575,
          0.0300005495000732,
          3920.9973093575,
          0
         ],
         "yaxis": "y"
        },
        {
         "hovertemplate": "color=Bi<br>x=%{x}<br>y=%{y}<extra></extra>",
         "legendgroup": "Bi",
         "marker": {
          "color": "#FF97FF",
          "symbol": "circle"
         },
         "mode": "markers",
         "name": "Bi",
         "showlegend": true,
         "type": "scattergl",
         "x": [
          30,
          35,
          40,
          45,
          50,
          55,
          60,
          65,
          70,
          75,
          80,
          90,
          100,
          120,
          150,
          200
         ],
         "xaxis": "x",
         "y": [
          -2.5291393600996344,
          -0.731215220499962,
          -0.2115911768996738,
          -0.4114814631998342,
          -0.0394111603000055,
          -0.0736067968996394,
          -0.0489351235996764,
          -0.006893540299643,
          -0.0064173436999226,
          -0.0093198905997269,
          -0.0028118468999309,
          0.0119049764002738,
          0.0019501496999509,
          0.0244675763001396,
          0.0053062367001075,
          0
         ],
         "yaxis": "y"
        },
        {
         "hovertemplate": "color=Br<br>x=%{x}<br>y=%{y}<extra></extra>",
         "legendgroup": "Br",
         "marker": {
          "color": "#FECB52",
          "symbol": "circle"
         },
         "mode": "markers",
         "name": "Br",
         "showlegend": true,
         "type": "scattergl",
         "x": [
          30,
          35,
          40,
          45,
          50,
          55,
          60,
          65,
          70,
          75,
          80,
          90,
          100,
          120,
          150,
          200
         ],
         "xaxis": "x",
         "y": [
          0.1332847568999113,
          -0.2114834716001041,
          -0.2367390367999178,
          -0.0667359189999388,
          -0.4875259494999682,
          -0.0453239605001272,
          -0.1858537489999889,
          -0.2891889780000838,
          -0.039575556200134,
          -0.0901717235001342,
          -0.1685405069999888,
          -0.0150002760999541,
          -0.0513274720999561,
          -0.0331638745999498,
          -0.0037415658000554,
          0
         ],
         "yaxis": "y"
        },
        {
         "hovertemplate": "color=C<br>x=%{x}<br>y=%{y}<extra></extra>",
         "legendgroup": "C",
         "marker": {
          "color": "#636efa",
          "symbol": "circle"
         },
         "mode": "markers",
         "name": "C",
         "showlegend": true,
         "type": "scattergl",
         "x": [
          30,
          35,
          40,
          45,
          50,
          55,
          60,
          65,
          70,
          75,
          80,
          90,
          100,
          120,
          150,
          200
         ],
         "xaxis": "x",
         "y": [
          35.7801460565006,
          12.12406591150011,
          2.6791307715002404,
          0.9298469865007064,
          1.494517208000616,
          1.9428247495006872,
          1.5118644650001445,
          0.7588914699999805,
          0.2616374525005085,
          0.0514635290001024,
          0.0816001360008158,
          0.0682665580006869,
          0.0123811805005971,
          0.034898598500149,
          0.0026531085004535,
          0
         ],
         "yaxis": "y"
        },
        {
         "hovertemplate": "color=Ca<br>x=%{x}<br>y=%{y}<extra></extra>",
         "legendgroup": "Ca",
         "marker": {
          "color": "#EF553B",
          "symbol": "circle"
         },
         "mode": "markers",
         "name": "Ca",
         "showlegend": true,
         "type": "scattergl",
         "x": [
          30,
          35,
          40,
          45,
          50,
          55,
          60,
          65,
          70,
          75,
          80,
          90,
          100,
          120
         ],
         "xaxis": "x",
         "y": [
          0.0948996974998408,
          0.0593208100999618,
          -0.0230276375000357,
          0.2059561574999406,
          0.1013283800000408,
          -3.402250013095909e-05,
          0.1291520275999573,
          0.1478598475998751,
          0.1076890423998975,
          0.0684706424999603,
          0.0828246425999168,
          0.0679264150999188,
          0.0287420249999286,
          0
         ],
         "yaxis": "y"
        },
        {
         "hovertemplate": "color=Cd<br>x=%{x}<br>y=%{y}<extra></extra>",
         "legendgroup": "Cd",
         "marker": {
          "color": "#00cc96",
          "symbol": "circle"
         },
         "mode": "markers",
         "name": "Cd",
         "showlegend": true,
         "type": "scattergl",
         "x": [
          30,
          35,
          40,
          45,
          50,
          55,
          60,
          65,
          70,
          75,
          80,
          90,
          100,
          120,
          150,
          200
         ],
         "xaxis": "x",
         "y": [
          3.049511714999994,
          -2.491134124800056,
          0.0665998649999437,
          -0.1235396749000301,
          0.2304123952000054,
          -0.0774163798000699,
          0.0758517350999454,
          0.1040835501999026,
          0.0399327049999556,
          -0.0768721599999935,
          -0.0215650147999895,
          -0.0304767449999872,
          -0.1055801697000333,
          -0.017823449800062,
          -0.0330618300000651,
          0
         ],
         "yaxis": "y"
        },
        {
         "hovertemplate": "color=Ce<br>x=%{x}<br>y=%{y}<extra></extra>",
         "legendgroup": "Ce",
         "marker": {
          "color": "#ab63fa",
          "symbol": "circle"
         },
         "mode": "markers",
         "name": "Ce",
         "showlegend": true,
         "type": "scattergl",
         "x": [
          30,
          35,
          40,
          45,
          50,
          55,
          60,
          65,
          70,
          75,
          80,
          90,
          100,
          120,
          150,
          200
         ],
         "xaxis": "x",
         "y": [
          11.142857437800558,
          3.704761826700633,
          2.536577136700544,
          2.214938583700132,
          2.0027578225999605,
          1.682683927900143,
          1.1515857496005992,
          0.6570188562000112,
          0.3108220240001174,
          0.1649009837001358,
          0.1251723611003399,
          0.1238117971006431,
          0.0971446389003176,
          0.0329257746006987,
          0.017279225200582,
          0
         ],
         "yaxis": "y"
        },
        {
         "hovertemplate": "color=Cl<br>x=%{x}<br>y=%{y}<extra></extra>",
         "legendgroup": "Cl",
         "marker": {
          "color": "#FFA15A",
          "symbol": "circle"
         },
         "mode": "markers",
         "name": "Cl",
         "showlegend": true,
         "type": "scattergl",
         "x": [
          30,
          35,
          40,
          45,
          50,
          55,
          60,
          65,
          70,
          75,
          80,
          90,
          100,
          120,
          140,
          150,
          160,
          200
         ],
         "xaxis": "x",
         "y": [
          1.7570390297000813,
          0.4125415804001022,
          0.2607530817001589,
          0.2105480797001746,
          0.1823332760000084,
          0.1310568250000869,
          0.0847464519001732,
          0.0843893030000799,
          0.0763619452000057,
          0.0775694504000057,
          0.0753755327000362,
          0.0534193465000498,
          0.0454770245000872,
          0.0424157437000758,
          1426.9677556582,
          0.0206806510000205,
          1426.9677556582,
          0
         ],
         "yaxis": "y"
        },
        {
         "hovertemplate": "color=Co<br>x=%{x}<br>y=%{y}<extra></extra>",
         "legendgroup": "Co",
         "marker": {
          "color": "#19d3f3",
          "symbol": "circle"
         },
         "mode": "markers",
         "name": "Co",
         "showlegend": true,
         "type": "scattergl",
         "x": [
          30,
          35,
          40,
          45,
          50,
          55,
          60,
          65,
          70,
          75,
          80,
          90,
          100,
          120,
          140,
          150,
          160,
          200
         ],
         "xaxis": "x",
         "y": [
          47.40964506530054,
          -4.670085659699907,
          -5.480848829899514,
          -2.4466435197991814,
          -3.2144807345994195,
          -2.7835204395996698,
          -1.5507767443996272,
          0.0834028851004404,
          -2.898964744399564,
          -2.430520774399156,
          0.5729356703004669,
          -2.394193574699784,
          0.1172810657008085,
          -2.7818877547997545,
          5500.6003632354,
          -0.8881115345993749,
          5500.6003632354,
          0
         ],
         "yaxis": "y"
        },
        {
         "hovertemplate": "color=Cr<br>x=%{x}<br>y=%{y}<extra></extra>",
         "legendgroup": "Cr",
         "marker": {
          "color": "#FF6692",
          "symbol": "circle"
         },
         "mode": "markers",
         "name": "Cr",
         "showlegend": true,
         "type": "scattergl",
         "x": [
          30,
          35,
          40,
          45,
          50,
          55,
          60,
          65,
          70,
          75,
          80,
          90,
          100,
          120,
          150,
          200
         ],
         "xaxis": "x",
         "y": [
          20.21656127999995,
          -1.095394229999329,
          -1.3262147995001214,
          -0.5067439846998241,
          -0.6647060594996219,
          -0.1739487647000714,
          -1.3322012995995465,
          -2.122419874899606,
          -2.241333619599573,
          -1.5611850898994817,
          -0.4288513945994054,
          -1.873299659499935,
          -1.733092999499604,
          -0.8591313949000323,
          0.1001378906003083,
          0
         ],
         "yaxis": "y"
        },
        {
         "hovertemplate": "color=Cs<br>x=%{x}<br>y=%{y}<extra></extra>",
         "legendgroup": "Cs",
         "marker": {
          "color": "#B6E880",
          "symbol": "circle"
         },
         "mode": "markers",
         "name": "Cs",
         "showlegend": true,
         "type": "scattergl",
         "x": [
          30,
          35,
          40,
          45,
          50,
          55,
          60,
          65,
          70,
          75,
          80,
          90,
          100,
          120,
          150,
          200
         ],
         "xaxis": "x",
         "y": [
          -257.134190344,
          -257.187252539,
          -257.169565142,
          -257.230858782,
          -257.264464843,
          -257.256165372,
          -257.2881387459,
          -257.2280696171,
          -257.274533054,
          -257.263852587,
          -257.2761657379,
          -257.2252804521,
          -257.238205855,
          -257.2377296591,
          0,
          0
         ],
         "yaxis": "y"
        },
        {
         "hovertemplate": "color=Cu<br>x=%{x}<br>y=%{y}<extra></extra>",
         "legendgroup": "Cu",
         "marker": {
          "color": "#FF97FF",
          "symbol": "circle"
         },
         "mode": "markers",
         "name": "Cu",
         "showlegend": true,
         "type": "scattergl",
         "x": [
          30,
          35,
          40,
          45,
          50,
          55,
          60,
          65,
          70,
          75,
          80,
          90,
          100,
          120,
          150,
          200
         ],
         "xaxis": "x",
         "y": [
          22.45949355980065,
          -4.895463955099331,
          -3.532411749799394,
          -3.542786080300175,
          -1.92173594040014,
          -2.2763002607998715,
          -2.5926325851996808,
          -1.3294461550995038,
          -2.4759297802993387,
          -2.2349049458998707,
          -0.9386906894997082,
          -1.2487303856996732,
          -1.04831855519933,
          -0.7564764701000968,
          -0.3478975449997961,
          0
         ],
         "yaxis": "y"
        },
        {
         "hovertemplate": "color=Dy<br>x=%{x}<br>y=%{y}<extra></extra>",
         "legendgroup": "Dy",
         "marker": {
          "color": "#FECB52",
          "symbol": "circle"
         },
         "mode": "markers",
         "name": "Dy",
         "showlegend": true,
         "type": "scattergl",
         "x": [
          30,
          35,
          40,
          45,
          50,
          55,
          60,
          65,
          70,
          75,
          80,
          90,
          100,
          120,
          150,
          200
         ],
         "xaxis": "x",
         "y": [
          8.152326411700415,
          2.067452915999638,
          0.9238945359002172,
          0.7671569675003411,
          1.2745812410003057,
          1.2971666475004895,
          0.87851956420036,
          0.3820478695997735,
          0.1800033041999995,
          0.0221092678002605,
          0.0561915559001136,
          0.051837726499798,
          0.0380279326000163,
          0.0104764285997589,
          0.0118370135996883,
          0
         ],
         "yaxis": "y"
        },
        {
         "hovertemplate": "color=Er<br>x=%{x}<br>y=%{y}<extra></extra>",
         "legendgroup": "Er",
         "marker": {
          "color": "#636efa",
          "symbol": "circle"
         },
         "mode": "markers",
         "name": "Er",
         "showlegend": true,
         "type": "scattergl",
         "x": [
          30,
          35,
          40,
          45,
          50,
          55,
          60,
          65,
          70,
          75,
          80,
          90,
          100,
          120,
          150,
          200
         ],
         "xaxis": "x",
         "y": [
          6.710667262200332,
          1.8516666167997755,
          0.8473624866001046,
          0.6305557690002388,
          1.1926069419005216,
          1.175123597899983,
          0.901377064999906,
          0.3776940202005789,
          0.1307507045003149,
          0.0129254185003446,
          0.0184357058997193,
          0.0278236266003659,
          0.0384360836997075,
          0.0182996790999823,
          0.013265514100567,
          0
         ],
         "yaxis": "y"
        },
        {
         "hovertemplate": "color=Eu<br>x=%{x}<br>y=%{y}<extra></extra>",
         "legendgroup": "Eu",
         "marker": {
          "color": "#EF553B",
          "symbol": "circle"
         },
         "mode": "markers",
         "name": "Eu",
         "showlegend": true,
         "type": "scattergl",
         "x": [
          30,
          35,
          40,
          45,
          50,
          55,
          60,
          65,
          70,
          75,
          80,
          90,
          100,
          120,
          150,
          200
         ],
         "xaxis": "x",
         "y": [
          15.117556192300071,
          3.7806815870999344,
          1.4523395612004606,
          1.7203716934000113,
          1.8577891769000416,
          1.4217947881998043,
          0.9271598655004708,
          0.4979002896998281,
          0.2191876938004497,
          0.0993895790998067,
          0.0370755160001863,
          0.0514295161001427,
          0.0427899040005286,
          0.01639485889973,
          -0.0039456499998777,
          0
         ],
         "yaxis": "y"
        },
        {
         "hovertemplate": "color=Fe<br>x=%{x}<br>y=%{y}<extra></extra>",
         "legendgroup": "Fe",
         "marker": {
          "color": "#00cc96",
          "symbol": "circle"
         },
         "mode": "markers",
         "name": "Fe",
         "showlegend": true,
         "type": "scattergl",
         "x": [
          30,
          35,
          40,
          45,
          50,
          55,
          60,
          65,
          70,
          75,
          80,
          90,
          100,
          120,
          140,
          150,
          160,
          180,
          200
         ],
         "xaxis": "x",
         "y": [
          -4021.2279232403,
          -4446.6268141198,
          -4977.8891432945,
          -5501.8695021556,
          -5680.1609355545,
          -5690.3111897502,
          -5685.7172279399,
          -5700.5326017199,
          -5721.2417570702,
          -5726.8866224997,
          -5734.7739100253,
          -5737.2954528693,
          -5738.8575903753,
          -5740.4457147352,
          0,
          -5738.4930938954,
          0,
          0,
          0
         ],
         "yaxis": "y"
        },
        {
         "hovertemplate": "color=Ga<br>x=%{x}<br>y=%{y}<extra></extra>",
         "legendgroup": "Ga",
         "marker": {
          "color": "#ab63fa",
          "symbol": "circle"
         },
         "mode": "markers",
         "name": "Ga",
         "showlegend": true,
         "type": "scattergl",
         "x": [
          30,
          35,
          40,
          45,
          50,
          55,
          60,
          65,
          70,
          75,
          80,
          90,
          100,
          120,
          150,
          200
         ],
         "xaxis": "x",
         "y": [
          271.4425126701001,
          185.67809948490003,
          78.7664957129,
          20.059636635299967,
          9.245849860199996,
          8.385834077600066,
          6.733762964800008,
          3.659318812399988,
          1.6191283324999404,
          1.0904961950000145,
          0.9360375802000362,
          0.8175490001999606,
          0.2871821374999399,
          0.1600879650000024,
          0.0260719002001224,
          0
         ],
         "yaxis": "y"
        },
        {
         "hovertemplate": "color=Gd<br>x=%{x}<br>y=%{y}<extra></extra>",
         "legendgroup": "Gd",
         "marker": {
          "color": "#FFA15A",
          "symbol": "circle"
         },
         "mode": "markers",
         "name": "Gd",
         "showlegend": true,
         "type": "scattergl",
         "x": [
          30,
          35,
          40,
          45,
          50,
          55,
          60,
          65,
          70,
          75,
          80,
          90,
          100,
          120,
          150,
          200
         ],
         "xaxis": "x",
         "y": [
          8.966422961700118,
          2.800663612100834,
          1.1711099168005603,
          1.032876088100238,
          1.569076402100109,
          1.3737666977003755,
          0.8649818546000461,
          0.4145654302001276,
          0.1438801891008552,
          0.0487083789003008,
          0.030748866200156,
          0.0292522354002358,
          0.0358509978004804,
          0.02108882380071,
          0.0029252241001813,
          0
         ],
         "yaxis": "y"
        },
        {
         "hovertemplate": "color=Ge<br>x=%{x}<br>y=%{y}<extra></extra>",
         "legendgroup": "Ge",
         "marker": {
          "color": "#19d3f3",
          "symbol": "circle"
         },
         "mode": "markers",
         "name": "Ge",
         "showlegend": true,
         "type": "scattergl",
         "x": [
          30,
          35,
          40,
          45,
          50,
          55,
          60,
          65,
          70,
          75,
          80,
          90,
          100,
          120,
          150,
          200
         ],
         "xaxis": "x",
         "y": [
          1.2575740893998957,
          -1.139068515300096,
          -0.9143705051001234,
          -0.0473478003000309,
          -0.8755942902998868,
          -0.9330783405002876,
          -0.3582378652999978,
          -0.1417032754002321,
          -0.1715677699003208,
          -0.3058559500000228,
          -0.3803471148999051,
          -0.0996616900001754,
          -0.1135394900002211,
          -0.0410891903002266,
          0.0004081748998032,
          0
         ],
         "yaxis": "y"
        },
        {
         "hovertemplate": "color=H<br>x=%{x}<br>y=%{y}<extra></extra>",
         "legendgroup": "H",
         "marker": {
          "color": "#FF6692",
          "symbol": "circle"
         },
         "mode": "markers",
         "name": "H",
         "showlegend": true,
         "type": "scattergl",
         "x": [
          30,
          35,
          40,
          45,
          50,
          55,
          60,
          65,
          70,
          75,
          80,
          90,
          100,
          120,
          150,
          200
         ],
         "xaxis": "x",
         "y": [
          14.008556257299915,
          6.251509219800028,
          2.7127368305000346,
          1.0935574723998798,
          0.496641762299987,
          0.243439839200164,
          0.1524177616001907,
          0.1205464286999813,
          0.1040495275001376,
          0.0954439275001277,
          0.0861240285998974,
          0.0516336001001036,
          0.0229255905001082,
          0.0036395225001797,
          0.0022109248998276,
          0
         ],
         "yaxis": "y"
        },
        {
         "hovertemplate": "color=He<br>x=%{x}<br>y=%{y}<extra></extra>",
         "legendgroup": "He",
         "marker": {
          "color": "#B6E880",
          "symbol": "circle"
         },
         "mode": "markers",
         "name": "He",
         "showlegend": true,
         "type": "scattergl",
         "x": [
          30,
          35,
          40,
          45,
          50,
          55,
          60,
          65,
          70,
          75,
          80,
          90,
          100,
          120,
          150,
          200
         ],
         "xaxis": "x",
         "y": [
          2.0544594506,
          -0.322522922400001,
          0.0155785168999997,
          -0.0274834974000004,
          0.0059184760999997,
          0.0098641265000001,
          0.0091158133999993,
          0.0097280697999995,
          0.0087076428999992,
          0.0073470738000001,
          0.0074151022999995,
          0.0075511590000001,
          0.0061225613999997,
          0.0036055081999997,
          0.0015646544999992,
          0
         ],
         "yaxis": "y"
        },
        {
         "hovertemplate": "color=Hf<br>x=%{x}<br>y=%{y}<extra></extra>",
         "legendgroup": "Hf",
         "marker": {
          "color": "#FF97FF",
          "symbol": "circle"
         },
         "mode": "markers",
         "name": "Hf",
         "showlegend": true,
         "type": "scattergl",
         "x": [
          30,
          35,
          40,
          45,
          50,
          55,
          60,
          65,
          70,
          75,
          80,
          90,
          100,
          120,
          140,
          150,
          160,
          200
         ],
         "xaxis": "x",
         "y": [
          -29.82816614010062,
          -13.958283220100384,
          1.3000918751995414,
          1.4740406450000592,
          0.6877677248994587,
          0.3778980951992707,
          0.3774218950993599,
          0.3871499603001211,
          0.3258563250992665,
          0.258372089999284,
          0.224834059999921,
          0.2378955301001042,
          0.2435418851000577,
          0.1338800152998374,
          5582.3047189651,
          0.05639559500014,
          5582.3047189651,
          0
         ],
         "yaxis": "y"
        },
        {
         "hovertemplate": "color=Hg<br>x=%{x}<br>y=%{y}<extra></extra>",
         "legendgroup": "Hg",
         "marker": {
          "color": "#FECB52",
          "symbol": "circle"
         },
         "mode": "markers",
         "name": "Hg",
         "showlegend": true,
         "type": "scattergl",
         "x": [
          30,
          35,
          40,
          45,
          50,
          55,
          60,
          65,
          70,
          75,
          80,
          90,
          100,
          120,
          140,
          150,
          160,
          200
         ],
         "xaxis": "x",
         "y": [
          6.63971361519998,
          -33.28101858460002,
          2.622973274799961,
          0.5179006493999623,
          0.0654433743000026,
          0.0238779848999683,
          0.031293084299989,
          0.0273474397999962,
          0.0249664353999605,
          0.01979627999998,
          0.0114968052000108,
          -0.0009524056000032,
          -0.0003401454999902,
          -0.0006802856000263,
          396.7372950849,
          0.0006802847999551,
          396.7372950849,
          0
         ],
         "yaxis": "y"
        },
        {
         "hovertemplate": "color=Ho<br>x=%{x}<br>y=%{y}<extra></extra>",
         "legendgroup": "Ho",
         "marker": {
          "color": "#636efa",
          "symbol": "circle"
         },
         "mode": "markers",
         "name": "Ho",
         "showlegend": true,
         "type": "scattergl",
         "x": [
          30,
          35,
          40,
          45,
          50,
          55,
          60,
          65,
          70,
          75,
          80,
          90,
          100,
          120,
          150,
          200
         ],
         "xaxis": "x",
         "y": [
          3.515710711300017,
          0.4868116666002606,
          0.8636212860001251,
          0.631304116699539,
          0.9687252412995804,
          1.12682339660023,
          0.8498795140994844,
          0.3523193689998152,
          0.1097979537998981,
          -0.0342863822997969,
          0.0180955548003112,
          0.0265310755003156,
          0.03013658259988,
          0.0058504282997091,
          0.0223813639995569,
          0
         ],
         "yaxis": "y"
        },
        {
         "hovertemplate": "color=I<br>x=%{x}<br>y=%{y}<extra></extra>",
         "legendgroup": "I",
         "marker": {
          "color": "#EF553B",
          "symbol": "circle"
         },
         "mode": "markers",
         "name": "I",
         "showlegend": true,
         "type": "scattergl",
         "x": [
          30,
          35,
          40,
          45,
          50,
          55,
          60,
          65,
          70,
          75,
          80,
          90,
          100,
          120,
          150,
          200
         ],
         "xaxis": "x",
         "y": [
          0.6670870651998939,
          -0.0587085496999861,
          -0.1335568704000707,
          0.1020937151999987,
          0.0282318177999059,
          0.0278576671998962,
          0.0470586855999499,
          -0.0248644019000039,
          0.0452729472999635,
          -0.0091668226000365,
          0.0045749201999569,
          0.0058504501998868,
          0.0086396176000107,
          0.0084185231000901,
          0.0089287378000335,
          0
         ],
         "yaxis": "y"
        },
        {
         "hovertemplate": "color=In<br>x=%{x}<br>y=%{y}<extra></extra>",
         "legendgroup": "In",
         "marker": {
          "color": "#00cc96",
          "symbol": "circle"
         },
         "mode": "markers",
         "name": "In",
         "showlegend": true,
         "type": "scattergl",
         "x": [
          30,
          35,
          40,
          45,
          50,
          55,
          60,
          65,
          70,
          75,
          80,
          90,
          100,
          120,
          150,
          200
         ],
         "xaxis": "x",
         "y": [
          18.58483067499992,
          2.716104245099814,
          1.0334203249999518,
          0.0647630949999893,
          0.0622460499998851,
          0.2230653198998879,
          -0.2927944852001474,
          -0.0508852750001551,
          -0.010612440099976,
          -0.1513633148999815,
          -0.0559193852000134,
          -0.0659875999999712,
          -0.0032653552000283,
          -0.0051701552001759,
          -0.0123811698999816,
          0
         ],
         "yaxis": "y"
        },
        {
         "hovertemplate": "color=Ir<br>x=%{x}<br>y=%{y}<extra></extra>",
         "legendgroup": "Ir",
         "marker": {
          "color": "#ab63fa",
          "symbol": "circle"
         },
         "mode": "markers",
         "name": "Ir",
         "showlegend": true,
         "type": "scattergl",
         "x": [
          30,
          35,
          40,
          45,
          50,
          55,
          60,
          65,
          70,
          75,
          80,
          90,
          100,
          120,
          150,
          200
         ],
         "xaxis": "x",
         "y": [
          2.430180635200486,
          -2.2049383973999284,
          -4.345725967199542,
          -3.166146504999233,
          -4.336576132099253,
          -2.455113057299968,
          -2.914135082399298,
          -1.9787777896999612,
          -1.728943267199611,
          -1.7044190098995389,
          -1.6653366624996124,
          -1.4313527799995427,
          -1.488326614899961,
          -1.1681506748991524,
          -0.4152457072996185,
          0
         ],
         "yaxis": "y"
        },
        {
         "hovertemplate": "color=K<br>x=%{x}<br>y=%{y}<extra></extra>",
         "legendgroup": "K",
         "marker": {
          "color": "#FFA15A",
          "symbol": "circle"
         },
         "mode": "markers",
         "name": "K",
         "showlegend": true,
         "type": "scattergl",
         "x": [
          30,
          35,
          40,
          45,
          50,
          55,
          60,
          65,
          70,
          75,
          80,
          90,
          100,
          120,
          150,
          200
         ],
         "xaxis": "x",
         "y": [
          -506.8492466801,
          -505.4994259949,
          -511.7221931950001,
          -509.7678716349,
          -511.581374285,
          -512.218596855,
          -511.85893040020005,
          -511.982470075,
          -512.1553984199,
          -512.1300918349,
          -512.03471594,
          -512.14703092,
          -512.14192878,
          -512.1925419651,
          0,
          0
         ],
         "yaxis": "y"
        },
        {
         "hovertemplate": "color=Kr<br>x=%{x}<br>y=%{y}<extra></extra>",
         "legendgroup": "Kr",
         "marker": {
          "color": "#19d3f3",
          "symbol": "circle"
         },
         "mode": "markers",
         "name": "Kr",
         "showlegend": true,
         "type": "scattergl",
         "x": [
          30,
          35,
          40,
          45,
          50,
          55,
          60,
          65,
          70,
          75,
          80,
          90,
          100,
          120,
          150,
          200
         ],
         "xaxis": "x",
         "y": [
          0.106702635999909,
          0.061123569499955,
          0.006054532500002,
          0.0103063104999137,
          0.0148302044999582,
          0.0119730079999271,
          0.0037755794999156,
          0.0061225623999234,
          -0.0021088835,
          -0.0027211390000729,
          -0.0008503560000008,
          0.0037755794999156,
          0.0029592374999083,
          0.0023469824999438,
          0.0010884544999498,
          0
         ],
         "yaxis": "y"
        },
        {
         "hovertemplate": "color=La<br>x=%{x}<br>y=%{y}<extra></extra>",
         "legendgroup": "La",
         "marker": {
          "color": "#FF6692",
          "symbol": "circle"
         },
         "mode": "markers",
         "name": "La",
         "showlegend": true,
         "type": "scattergl",
         "x": [
          30,
          35,
          40,
          45,
          50,
          55,
          60,
          65,
          70,
          75,
          80,
          90,
          100,
          120,
          150,
          200
         ],
         "xaxis": "x",
         "y": [
          15.149461537799652,
          3.774831142000039,
          1.918606621499748,
          1.871054728800118,
          1.7958832822996555,
          1.3194119528998272,
          0.8282464897993123,
          0.4330011409992949,
          0.2049697490992912,
          0.1106142735998219,
          0.0734027061998858,
          0.0742190517994458,
          0.0744911639994825,
          0.0067348191996643,
          0.007891299399489,
          0
         ],
         "yaxis": "y"
        },
        {
         "hovertemplate": "color=Li<br>x=%{x}<br>y=%{y}<extra></extra>",
         "legendgroup": "Li",
         "marker": {
          "color": "#B6E880",
          "symbol": "circle"
         },
         "mode": "markers",
         "name": "Li",
         "showlegend": true,
         "type": "scattergl",
         "x": [
          30,
          35,
          40,
          45,
          50,
          55,
          60,
          65,
          70,
          75,
          80,
          90,
          100,
          120,
          150,
          200
         ],
         "xaxis": "x",
         "y": [
          -0.6039113040001212,
          -0.2629980217000138,
          -0.1794137214001239,
          -0.1814545754000391,
          -0.1804114724000101,
          -0.0853983916999823,
          -0.1082559537001088,
          -0.0679377537001073,
          -0.0973260480000135,
          -0.0983237990001271,
          -0.0474838641000587,
          -0.0401367911001671,
          -0.0239460174000214,
          -0.0248984160000418,
          0.0071203113000137,
          0
         ],
         "yaxis": "y"
        },
        {
         "hovertemplate": "color=Lu<br>x=%{x}<br>y=%{y}<extra></extra>",
         "legendgroup": "Lu",
         "marker": {
          "color": "#FF97FF",
          "symbol": "circle"
         },
         "mode": "markers",
         "name": "Lu",
         "showlegend": true,
         "type": "scattergl",
         "x": [
          30,
          35,
          40,
          45,
          50,
          55,
          60,
          65,
          70,
          75,
          80,
          90,
          100,
          120,
          150,
          200
         ],
         "xaxis": "x",
         "y": [
          19.34171531139964,
          4.542124115700062,
          2.4421536354993805,
          2.040173468300054,
          2.040853791199879,
          1.5860835473995394,
          0.9670925646996692,
          0.6407600695001747,
          0.1770101034999243,
          0.1337439671997344,
          -0.0056463950004399,
          0.0313611253995986,
          0.0477559824994386,
          0.035102728399579,
          0.0161908128993673,
          0
         ],
         "yaxis": "y"
        },
        {
         "hovertemplate": "color=Mg<br>x=%{x}<br>y=%{y}<extra></extra>",
         "legendgroup": "Mg",
         "marker": {
          "color": "#FECB52",
          "symbol": "circle"
         },
         "mode": "markers",
         "name": "Mg",
         "showlegend": true,
         "type": "scattergl",
         "x": [
          30,
          35,
          40,
          45,
          50,
          55,
          60,
          65,
          70,
          75,
          80,
          90,
          100,
          120,
          150,
          200
         ],
         "xaxis": "x",
         "y": [
          0.0825865485001031,
          0.0920425050001085,
          0.0382319939999433,
          0.0072790450001321,
          0.0102042690000416,
          0.009387927500029,
          0.0080953870001394,
          0.0073470740001084,
          0.0071429879999413,
          0.0044218499999715,
          0.0053742484999474,
          0.0043538214999898,
          0.0040817081001023,
          0.0012925405001169,
          0.0025170535000142,
          0
         ],
         "yaxis": "y"
        },
        {
         "hovertemplate": "color=Mn<br>x=%{x}<br>y=%{y}<extra></extra>",
         "legendgroup": "Mn",
         "marker": {
          "color": "#636efa",
          "symbol": "circle"
         },
         "mode": "markers",
         "name": "Mn",
         "showlegend": true,
         "type": "scattergl",
         "x": [
          30,
          35,
          40,
          45,
          50,
          55,
          60,
          65,
          70,
          75,
          80,
          90,
          100,
          120,
          140,
          150,
          160,
          180,
          200
         ],
         "xaxis": "x",
         "y": [
          41.031602905600266,
          6.0367093500999545,
          4.107864460300334,
          -0.3900071497000681,
          1.2732206205000691,
          7.173362855600317,
          1.0190662901004544,
          0.7318501402005495,
          2.566543660100251,
          13.550520644900644,
          19.26201995000065,
          6.371817535200535,
          1.0342026303005696,
          4.028577285200299,
          6362.4905253052,
          -0.2590183549000358,
          6362.4905253052,
          6362.4905253052,
          0
         ],
         "yaxis": "y"
        },
        {
         "hovertemplate": "color=Mo<br>x=%{x}<br>y=%{y}<extra></extra>",
         "legendgroup": "Mo",
         "marker": {
          "color": "#EF553B",
          "symbol": "circle"
         },
         "mode": "markers",
         "name": "Mo",
         "showlegend": true,
         "type": "scattergl",
         "x": [
          30,
          35,
          40,
          45,
          50,
          55,
          60,
          65,
          70,
          75,
          80,
          90,
          100,
          120,
          150,
          200
         ],
         "xaxis": "x",
         "y": [
          -0.3035429900010058,
          0.0722462150988576,
          -0.2363308749008865,
          0.1760576448996289,
          0.1832686650996038,
          -0.0005442350011435,
          -0.1474857048997364,
          -0.0923826501002622,
          -0.0875526350009749,
          -0.0516336049004166,
          -0.0400687649998872,
          0.0006802749994676,
          0.0008843600990076,
          0.005442269899504,
          0.0001360451988148,
          0
         ],
         "yaxis": "y"
        },
        {
         "hovertemplate": "color=Na<br>x=%{x}<br>y=%{y}<extra></extra>",
         "legendgroup": "Na",
         "marker": {
          "color": "#00cc96",
          "symbol": "circle"
         },
         "mode": "markers",
         "name": "Na",
         "showlegend": true,
         "type": "scattergl",
         "x": [
          30,
          35,
          40,
          45,
          50,
          55,
          60,
          65,
          70,
          75,
          80,
          90,
          100,
          120,
          150,
          200
         ],
         "xaxis": "x",
         "y": [
          4.850882616700005,
          0.4065380631000153,
          0.5716658101000576,
          0.472026790100017,
          0.226444053199998,
          0.1913413765000768,
          0.1601843432999885,
          0.1073942566000596,
          -0.0057597533999569,
          -0.0624047798999072,
          -0.0469396466999114,
          -0.0395018700999116,
          -0.0915663098999175,
          -0.0622687267999708,
          -0.0236739068000133,
          0
         ],
         "yaxis": "y"
        },
        {
         "hovertemplate": "color=Nb<br>x=%{x}<br>y=%{y}<extra></extra>",
         "legendgroup": "Nb",
         "marker": {
          "color": "#ab63fa",
          "symbol": "circle"
         },
         "mode": "markers",
         "name": "Nb",
         "showlegend": true,
         "type": "scattergl",
         "x": [
          30,
          35,
          40,
          45,
          50,
          55,
          60,
          65,
          70,
          75,
          80,
          90,
          100,
          120,
          150,
          200
         ],
         "xaxis": "x",
         "y": [
          -21.70223478970001,
          -1.1493408101005116,
          -0.5621191594000265,
          -0.441232584300451,
          -0.1336759250998511,
          -0.2463990795004065,
          -0.0940833552003823,
          0.0570078509999802,
          0.0485042910995616,
          0.0230616460994497,
          0.0143540100998507,
          0.0159866903995862,
          6.802569987485185e-05,
          -0.0187078294002276,
          0.0067348109996601,
          0
         ],
         "yaxis": "y"
        },
        {
         "hovertemplate": "color=Nd<br>x=%{x}<br>y=%{y}<extra></extra>",
         "legendgroup": "Nd",
         "marker": {
          "color": "#FFA15A",
          "symbol": "circle"
         },
         "mode": "markers",
         "name": "Nd",
         "showlegend": true,
         "type": "scattergl",
         "x": [
          30,
          35,
          40,
          45,
          50,
          55,
          60,
          65,
          70,
          75,
          80,
          90,
          100,
          120,
          150,
          200
         ],
         "xaxis": "x",
         "y": [
          12.334239832500316,
          4.049802171100055,
          1.6730919112997071,
          1.623703248599668,
          1.8243191719002425,
          1.4814557421996142,
          0.934506934700039,
          0.4641581705000135,
          0.2176910637999753,
          0.0959881536000466,
          0.0671440910000455,
          0.0706135416003235,
          0.0772122980997664,
          0.0282998339998812,
          0.0274834996998833,
          0
         ],
         "yaxis": "y"
        },
        {
         "hovertemplate": "color=Ne<br>x=%{x}<br>y=%{y}<extra></extra>",
         "legendgroup": "Ne",
         "marker": {
          "color": "#19d3f3",
          "symbol": "circle"
         },
         "mode": "markers",
         "name": "Ne",
         "showlegend": true,
         "type": "scattergl",
         "x": [
          30,
          35,
          40,
          45,
          50,
          55,
          60,
          65,
          70,
          75,
          80,
          90,
          100,
          120,
          140,
          150,
          160,
          180,
          200
         ],
         "xaxis": "x",
         "y": [
          4.097115964900013,
          -0.5319485315000065,
          0.016156760000058,
          0.0461573114999964,
          -0.0127553349000208,
          0.1251383500000429,
          0.0733686940000097,
          0.0673481750000064,
          -0.0548309375000144,
          -0.0461232939999263,
          -0.0374156494000317,
          0.0059184765000281,
          0.0087416595000604,
          0.0056123484999943,
          684.446279579,
          0.0020748685000171,
          684.446279579,
          684.446279579,
          0
         ],
         "yaxis": "y"
        },
        {
         "hovertemplate": "color=Ni<br>x=%{x}<br>y=%{y}<extra></extra>",
         "legendgroup": "Ni",
         "marker": {
          "color": "#FF6692",
          "symbol": "circle"
         },
         "mode": "markers",
         "name": "Ni",
         "showlegend": true,
         "type": "scattergl",
         "x": [
          30,
          35,
          40,
          45,
          50,
          55,
          60,
          65,
          70,
          75,
          80,
          90,
          100,
          120,
          150,
          200
         ],
         "xaxis": "x",
         "y": [
          69.55722817469996,
          -4.927675400800581,
          3.140057599899592,
          1.6067981851001605,
          0.0505451598000945,
          1.6720715047995327,
          2.6436199250001664,
          2.7265126000002056,
          2.6200140599994484,
          1.7968356741994285,
          0.934030739699665,
          2.4450448653997228,
          1.7193172597999364,
          3.0045109150996723,
          4969.9722293846,
          0
         ],
         "yaxis": "y"
        },
        {
         "hovertemplate": "color=O<br>x=%{x}<br>y=%{y}<extra></extra>",
         "legendgroup": "O",
         "marker": {
          "color": "#B6E880",
          "symbol": "circle"
         },
         "mode": "markers",
         "name": "O",
         "showlegend": true,
         "type": "scattergl",
         "x": [
          30,
          35,
          40,
          45,
          50,
          55,
          60,
          65,
          70,
          75,
          80,
          90,
          100,
          120,
          140,
          150,
          160,
          200
         ],
         "xaxis": "x",
         "y": [
          -42.79952650430005,
          -12.10290905940019,
          3.6142159495998394,
          3.1482550206997075,
          2.3633426650999354,
          1.467203781599892,
          1.0257671131998904,
          0.5277307670999107,
          0.0415313725998203,
          0.049252603199875,
          0.2275211775995558,
          0.049524717699569,
          0.1708194586999525,
          0.0707495960996311,
          3691.8049763806,
          0.0162247874995955,
          3691.8049763806,
          0
         ],
         "yaxis": "y"
        },
        {
         "hovertemplate": "color=Os<br>x=%{x}<br>y=%{y}<extra></extra>",
         "legendgroup": "Os",
         "marker": {
          "color": "#FF97FF",
          "symbol": "circle"
         },
         "mode": "markers",
         "name": "Os",
         "showlegend": true,
         "type": "scattergl",
         "x": [
          30,
          35,
          40,
          45,
          50,
          55,
          60,
          65,
          70,
          75,
          80,
          90,
          100,
          120,
          150,
          200
         ],
         "xaxis": "x",
         "y": [
          -26.937568899500548,
          -4.150144139701297,
          -0.0129254045004927,
          -1.1296805891997792,
          -0.1783025896002072,
          -0.2085072242007299,
          -0.3907554647012148,
          -0.3319108446012251,
          -0.4585798397001781,
          -0.5215061647013499,
          -0.5240912446006405,
          9057.1864806204,
          9057.1864806204,
          9057.1864806204,
          -0.1826564098009839,
          0
         ],
         "yaxis": "y"
        },
        {
         "hovertemplate": "color=P<br>x=%{x}<br>y=%{y}<extra></extra>",
         "legendgroup": "P",
         "marker": {
          "color": "#FECB52",
          "symbol": "circle"
         },
         "mode": "markers",
         "name": "P",
         "showlegend": true,
         "type": "scattergl",
         "x": [
          30,
          35,
          40,
          45,
          50,
          55,
          60,
          65,
          70,
          75,
          80,
          90,
          100,
          120,
          150,
          200
         ],
         "xaxis": "x",
         "y": [
          0.5731907853996745,
          0.376860653699623,
          0.3586970553997162,
          0.3016041706996475,
          0.1852755072000036,
          0.1166347925000081,
          0.1116687157000342,
          0.1055631614999583,
          0.0919064473996513,
          0.071548931399775,
          0.052705048000007,
          0.038214987199808,
          0.0222453056999256,
          0.0098131054996883,
          0.0059184763999837,
          0
         ],
         "yaxis": "y"
        },
        {
         "hovertemplate": "color=Pb<br>x=%{x}<br>y=%{y}<extra></extra>",
         "legendgroup": "Pb",
         "marker": {
          "color": "#636efa",
          "symbol": "circle"
         },
         "mode": "markers",
         "name": "Pb",
         "showlegend": true,
         "type": "scattergl",
         "x": [
          30,
          35,
          40,
          45,
          50,
          55,
          60,
          65,
          70,
          75,
          80,
          90,
          100,
          120,
          150,
          200
         ],
         "xaxis": "x",
         "y": [
          24.809672675399725,
          4.159089874499841,
          1.7199975263997658,
          1.453155924499697,
          0.8597096765997776,
          0.3348020253997674,
          0.1182675022996591,
          0.1675881266996839,
          0.0711917254998297,
          0.112246901999697,
          0.0183676747997196,
          0.0296263769996585,
          0.0074150757000097,
          0.0303747255998132,
          0.0016326247996403,
          0
         ],
         "yaxis": "y"
        },
        {
         "hovertemplate": "color=Pd<br>x=%{x}<br>y=%{y}<extra></extra>",
         "legendgroup": "Pd",
         "marker": {
          "color": "#EF553B",
          "symbol": "circle"
         },
         "mode": "markers",
         "name": "Pd",
         "showlegend": true,
         "type": "scattergl",
         "x": [
          30,
          35,
          40,
          45,
          50,
          55,
          60,
          65,
          70,
          75,
          80,
          90,
          100,
          120,
          150,
          200
         ],
         "xaxis": "x",
         "y": [
          -155.26808591989993,
          -50.19527438980003,
          2.8641341801003364,
          0.2878964401006669,
          -0.2204462148001766,
          -0.3825239945999783,
          -0.4238853247998122,
          -0.3847009151995735,
          -0.3751089101997422,
          -0.3455505451993304,
          -0.2744948150993878,
          -0.0721441801997571,
          -0.0131294949997027,
          -0.0061905797992949,
          6.804019994888222e-05,
          0
         ],
         "yaxis": "y"
        },
        {
         "hovertemplate": "color=Pm<br>x=%{x}<br>y=%{y}<extra></extra>",
         "legendgroup": "Pm",
         "marker": {
          "color": "#00cc96",
          "symbol": "circle"
         },
         "mode": "markers",
         "name": "Pm",
         "showlegend": true,
         "type": "scattergl",
         "x": [
          30,
          35,
          40,
          45,
          50,
          55,
          60,
          65,
          70,
          75,
          80,
          90,
          100,
          120,
          150,
          200
         ],
         "xaxis": "x",
         "y": [
          11.1658510579,
          3.649114551799357,
          1.4573056416993495,
          1.3871683039997151,
          1.7438415122996958,
          1.4141075727002317,
          0.9047104744995522,
          0.430416060799871,
          0.1919763143996533,
          0.0752394788996753,
          0.0617018115999599,
          0.0537424871999974,
          0.028027729099449,
          0.0278916695997395,
          -0.0081634153002596,
          0
         ],
         "yaxis": "y"
        },
        {
         "hovertemplate": "color=Po<br>x=%{x}<br>y=%{y}<extra></extra>",
         "legendgroup": "Po",
         "marker": {
          "color": "#ab63fa",
          "symbol": "circle"
         },
         "mode": "markers",
         "name": "Po",
         "showlegend": true,
         "type": "scattergl",
         "x": [
          30,
          35,
          40,
          45,
          50,
          55,
          60,
          65,
          70,
          75,
          80,
          90,
          100,
          120,
          140,
          150,
          160,
          200
         ],
         "xaxis": "x",
         "y": [
          86.04443533020003,
          -88.34066790999987,
          2.37106390020017,
          -4.681854579799847,
          -3.4113550897000096,
          -0.2862637497999003,
          -1.476217549699868,
          -2.114188430000013,
          -1.3597528295999837,
          0.0127893599001254,
          -0.502594249699996,
          -0.9630108497999572,
          -0.0066667798998878,
          0.061361680300024,
          1923.0522967602,
          0.1315670400999806,
          1923.0522967602,
          0
         ],
         "yaxis": "y"
        },
        {
         "hovertemplate": "color=Pr<br>x=%{x}<br>y=%{y}<extra></extra>",
         "legendgroup": "Pr",
         "marker": {
          "color": "#FFA15A",
          "symbol": "circle"
         },
         "mode": "markers",
         "name": "Pr",
         "showlegend": true,
         "type": "scattergl",
         "x": [
          30,
          35,
          40,
          45,
          50,
          55,
          60,
          65,
          70,
          75,
          80,
          90,
          100,
          120,
          150,
          200
         ],
         "xaxis": "x",
         "y": [
          13.825559707999671,
          4.197764072199789,
          1.7896926969997369,
          1.664792438999939,
          1.849557737399664,
          1.5232932527997036,
          0.9765485246998652,
          0.5204857456992613,
          0.230616479299897,
          0.1174171238999406,
          0.0661916914996254,
          0.0668039519996455,
          0.0689808588995219,
          0.0251705295995634,
          0.0162588052999126,
          0
         ],
         "yaxis": "y"
        },
        {
         "hovertemplate": "color=Pt<br>x=%{x}<br>y=%{y}<extra></extra>",
         "legendgroup": "Pt",
         "marker": {
          "color": "#19d3f3",
          "symbol": "circle"
         },
         "mode": "markers",
         "name": "Pt",
         "showlegend": true,
         "type": "scattergl",
         "x": [
          30,
          35,
          40,
          45,
          50,
          55,
          60,
          65,
          70,
          75,
          80,
          90,
          100,
          120,
          150,
          200
         ],
         "xaxis": "x",
         "y": [
          -3.152608834999228,
          -1.8846604002001184,
          -1.7957132098999864,
          -3.165228114999991,
          -1.1114489547999256,
          -2.335212895100085,
          -0.9554256798001006,
          -0.9386226551996516,
          -0.6494677000000593,
          -0.3687142247999873,
          -0.3336455646995091,
          -0.3422851845998593,
          -0.4102796196993949,
          -0.4332732495995515,
          -0.0802395597993381,
          0
         ],
         "yaxis": "y"
        },
        {
         "hovertemplate": "color=Rb<br>x=%{x}<br>y=%{y}<extra></extra>",
         "legendgroup": "Rb",
         "marker": {
          "color": "#FF6692",
          "symbol": "circle"
         },
         "mode": "markers",
         "name": "Rb",
         "showlegend": true,
         "type": "scattergl",
         "x": [
          30,
          35,
          40,
          45,
          50,
          55,
          60,
          65,
          70,
          75,
          80,
          90,
          100,
          120,
          150,
          200
         ],
         "xaxis": "x",
         "y": [
          -396.686341772,
          -396.6989950661,
          -396.702804658,
          -396.7109680719,
          -396.716614434,
          -396.71641035,
          -396.718451207,
          -396.717634864,
          -396.721104316,
          -396.721920656,
          -396.72001586,
          -396.720900229,
          -396.7206281161,
          -396.7201519169,
          0,
          0
         ],
         "yaxis": "y"
        },
        {
         "hovertemplate": "color=Re<br>x=%{x}<br>y=%{y}<extra></extra>",
         "legendgroup": "Re",
         "marker": {
          "color": "#B6E880",
          "symbol": "circle"
         },
         "mode": "markers",
         "name": "Re",
         "showlegend": true,
         "type": "scattergl",
         "x": [
          30,
          35,
          40,
          45,
          50,
          55,
          60,
          65,
          70,
          75,
          80,
          90,
          100,
          120,
          150,
          200
         ],
         "xaxis": "x",
         "y": [
          -0.3950412602007418,
          -0.4361304505000589,
          0.9458676844988076,
          1.2864181493987417,
          1.1986614444995212,
          0.5965415543996642,
          -0.2509569804005878,
          -0.3889867202997266,
          -0.3368769253011123,
          -0.2393921500006399,
          -0.1588464507003664,
          9481.9535231747,
          9481.9535231747,
          9481.9535231747,
          0.0399327044997335,
          0
         ],
         "yaxis": "y"
        },
        {
         "hovertemplate": "color=Rh<br>x=%{x}<br>y=%{y}<extra></extra>",
         "legendgroup": "Rh",
         "marker": {
          "color": "#FF97FF",
          "symbol": "circle"
         },
         "mode": "markers",
         "name": "Rh",
         "showlegend": true,
         "type": "scattergl",
         "x": [
          30,
          35,
          40,
          45,
          50,
          55,
          60,
          65,
          70,
          75,
          80,
          90,
          100,
          120,
          150,
          200
         ],
         "xaxis": "x",
         "y": [
          -0.0862260750000132,
          -2.0167036705006467,
          -2.677055895200283,
          -2.6406947000004948,
          -2.505828260400449,
          -2.0601058199999898,
          -1.4354344952998872,
          -0.7315780604003521,
          -0.213031130499985,
          -0.0769401854004172,
          -0.0443205354004021,
          -0.0248644001003413,
          -0.0024150050003299,
          3.400959940336179e-05,
          -6.802520056226058e-05,
          0
         ],
         "yaxis": "y"
        },
        {
         "hovertemplate": "color=Rn<br>x=%{x}<br>y=%{y}<extra></extra>",
         "legendgroup": "Rn",
         "marker": {
          "color": "#FECB52",
          "symbol": "circle"
         },
         "mode": "markers",
         "name": "Rn",
         "showlegend": true,
         "type": "scattergl",
         "x": [
          30,
          35,
          40,
          45,
          50,
          55,
          60,
          65,
          70,
          75,
          80,
          90,
          100,
          120,
          150,
          200
         ],
         "xaxis": "x",
         "y": [
          191.92933667359995,
          -110.92268072570003,
          15.12452919989994,
          1.9412261498999897,
          -0.0930289243000288,
          -0.1853435006000836,
          0.3339857484999129,
          0.3184072501999253,
          -0.2281673770000907,
          -0.2220788993000724,
          -0.061191574800091,
          0.0417355239999324,
          -0.0292862497000214,
          0.0098981744999946,
          697.2821272995,
          0
         ],
         "yaxis": "y"
        },
        {
         "hovertemplate": "color=Ru<br>x=%{x}<br>y=%{y}<extra></extra>",
         "legendgroup": "Ru",
         "marker": {
          "color": "#636efa",
          "symbol": "circle"
         },
         "mode": "markers",
         "name": "Ru",
         "showlegend": true,
         "type": "scattergl",
         "x": [
          30,
          35,
          40,
          45,
          50,
          55,
          60,
          65,
          70,
          75,
          80,
          90,
          100,
          120,
          150,
          200
         ],
         "xaxis": "x",
         "y": [
          -6.7685595200000535,
          -0.0004762000999107,
          -0.3136792201994467,
          -0.540962309999486,
          -0.5338193150000734,
          -0.4713691900997219,
          -0.3495302198998615,
          -0.1993233900002451,
          -0.0775524450000375,
          -0.0270753303002493,
          -0.0172792351995667,
          -0.0067348150996622,
          0.0053742401005365,
          0.0013605650001409,
          0.0013605700005427,
          0
         ],
         "yaxis": "y"
        },
        {
         "hovertemplate": "color=S<br>x=%{x}<br>y=%{y}<extra></extra>",
         "legendgroup": "S",
         "marker": {
          "color": "#EF553B",
          "symbol": "circle"
         },
         "mode": "markers",
         "name": "S",
         "showlegend": true,
         "type": "scattergl",
         "x": [
          30,
          35,
          40,
          45,
          50,
          55,
          60,
          65,
          70,
          75,
          80,
          90,
          100,
          120,
          150,
          200
         ],
         "xaxis": "x",
         "y": [
          0.5914394189999257,
          0.0627222399998572,
          0.0292522370000369,
          -0.0020408539999152,
          0.0140138619999561,
          -0.0027211380001972,
          0.0020408539999152,
          0.0097960980001516,
          -0.0036735369999405,
          0.0031293100000766,
          0.0008163420002347,
          0.0034014230000138,
          -0.0016326830000252,
          0.0072110169999177,
          0.0004081709998899,
          0
         ],
         "yaxis": "y"
        },
        {
         "hovertemplate": "color=Sb<br>x=%{x}<br>y=%{y}<extra></extra>",
         "legendgroup": "Sb",
         "marker": {
          "color": "#00cc96",
          "symbol": "circle"
         },
         "mode": "markers",
         "name": "Sb",
         "showlegend": true,
         "type": "scattergl",
         "x": [
          30,
          35,
          40,
          45,
          50,
          55,
          60,
          65,
          70,
          75,
          80,
          90,
          100,
          120,
          150,
          200
         ],
         "xaxis": "x",
         "y": [
          -0.893553813500148,
          -3.815285400100038,
          -0.1443110302002423,
          -1.1032855467001357,
          -0.3829321998000523,
          0.0355108534999999,
          -0.4161527604001094,
          -0.449894883500292,
          -0.0148982334999345,
          -0.215015283500179,
          -0.4321848030999717,
          0.028073076399778,
          -0.1338119667002502,
          0.002358326400099,
          0.0202498000999185,
          0
         ],
         "yaxis": "y"
        },
        {
         "hovertemplate": "color=Sc<br>x=%{x}<br>y=%{y}<extra></extra>",
         "legendgroup": "Sc",
         "marker": {
          "color": "#ab63fa",
          "symbol": "circle"
         },
         "mode": "markers",
         "name": "Sc",
         "showlegend": true,
         "type": "scattergl",
         "x": [
          30,
          35,
          40,
          45,
          50,
          55,
          60,
          65,
          70,
          75,
          80,
          90,
          100,
          120,
          150,
          200
         ],
         "xaxis": "x",
         "y": [
          -3422.4255797851,
          -3360.1156614149,
          -3346.0698255701,
          -3344.9574242102,
          -3345.19538776,
          -3345.4144393999,
          -3345.4834202498,
          -3345.4813113699,
          -3345.503828795,
          -3345.5252577551,
          -3345.548931655,
          -3345.5751226102,
          -3345.5833540602,
          -3345.5941705852,
          0,
          0
         ],
         "yaxis": "y"
        },
        {
         "hovertemplate": "color=Se<br>x=%{x}<br>y=%{y}<extra></extra>",
         "legendgroup": "Se",
         "marker": {
          "color": "#FFA15A",
          "symbol": "circle"
         },
         "mode": "markers",
         "name": "Se",
         "showlegend": true,
         "type": "scattergl",
         "x": [
          30,
          35,
          40,
          45,
          50,
          55,
          60,
          65,
          70,
          75,
          80,
          90,
          100,
          120,
          150,
          200
         ],
         "xaxis": "x",
         "y": [
          1.4188015320000886,
          0.6179705190002096,
          0.0533796624999922,
          0.0516109244999825,
          -0.2084845490999214,
          0.0005895803001294,
          -0.0454430120998949,
          -0.0775524433997816,
          0.0261229293000724,
          -0.0010884547000387,
          -0.0160093633999167,
          0.0256694035001601,
          0.0088437009999324,
          0.0056236845998682,
          0.0004535244001999,
          0
         ],
         "yaxis": "y"
        },
        {
         "hovertemplate": "color=Si<br>x=%{x}<br>y=%{y}<extra></extra>",
         "legendgroup": "Si",
         "marker": {
          "color": "#19d3f3",
          "symbol": "circle"
         },
         "mode": "markers",
         "name": "Si",
         "showlegend": true,
         "type": "scattergl",
         "x": [
          30,
          35,
          40,
          45,
          50,
          55,
          60,
          65,
          70,
          75,
          80,
          90,
          100,
          120,
          150,
          200
         ],
         "xaxis": "x",
         "y": [
          0.6351817175000178,
          0.2183033239998622,
          0.271637635499701,
          0.1922484239998994,
          0.0297964649998903,
          -0.0006802850002713,
          -0.0005442275000859,
          0.0138097774997731,
          0.0226534759999594,
          0.016394857999785,
          0.0131975209997108,
          0.0257147564998376,
          0.0171431710000433,
          0.0214969929998005,
          0.0217010774999835,
          0
         ],
         "yaxis": "y"
        },
        {
         "hovertemplate": "color=Sm<br>x=%{x}<br>y=%{y}<extra></extra>",
         "legendgroup": "Sm",
         "marker": {
          "color": "#FF6692",
          "symbol": "circle"
         },
         "mode": "markers",
         "name": "Sm",
         "showlegend": true,
         "type": "scattergl",
         "x": [
          30,
          35,
          40,
          45,
          50,
          55,
          60,
          65,
          70,
          75,
          80,
          90,
          100,
          120,
          150,
          200
         ],
         "xaxis": "x",
         "y": [
          14.502714976499192,
          3.7576879667994953,
          1.4138354563992834,
          1.6167643425997085,
          1.8526190124994173,
          1.4685983623994616,
          0.9389287842996056,
          0.5170162848999098,
          0.2344940939992739,
          0.1114306132994897,
          0.042381725499581,
          0.0608174413991946,
          0.0687767687995801,
          0.018299654600014,
          0.0390483346991459,
          0
         ],
         "yaxis": "y"
        },
        {
         "hovertemplate": "color=Sn<br>x=%{x}<br>y=%{y}<extra></extra>",
         "legendgroup": "Sn",
         "marker": {
          "color": "#B6E880",
          "symbol": "circle"
         },
         "mode": "markers",
         "name": "Sn",
         "showlegend": true,
         "type": "scattergl",
         "x": [
          30,
          35,
          40,
          45,
          50,
          55,
          60,
          65,
          70,
          75,
          80,
          90,
          100,
          120,
          150,
          200
         ],
         "xaxis": "x",
         "y": [
          -3.672720425100124,
          -0.2786445652000111,
          -2.57889084010003,
          -0.1380977756002721,
          -0.5946367605001797,
          -0.6723252554002102,
          0.2395282044999476,
          -0.3519112101002974,
          -0.2565353152003808,
          0.1004780301996106,
          0.0210207899999659,
          0.04727978469964,
          -0.0364632501000414,
          0.0167350048996013,
          0.0134016094998514,
          0
         ],
         "yaxis": "y"
        },
        {
         "hovertemplate": "color=Sr<br>x=%{x}<br>y=%{y}<extra></extra>",
         "legendgroup": "Sr",
         "marker": {
          "color": "#FF97FF",
          "symbol": "circle"
         },
         "mode": "markers",
         "name": "Sr",
         "showlegend": true,
         "type": "scattergl",
         "x": [
          30,
          35,
          40,
          45,
          50,
          55,
          60,
          65,
          70,
          75,
          80,
          90,
          100,
          120
         ],
         "xaxis": "x",
         "y": [
          0.8133822648999285,
          -0.0672801456000797,
          0.1015324749998853,
          -0.0411572171001353,
          -0.1171109920001072,
          -0.0968725249999806,
          -0.0375857230001202,
          -0.0768381435000264,
          -0.0446946980000575,
          -0.0053062189999764,
          -0.0196262105000641,
          -0.0026531109999723,
          -0.008299471500095,
          0
         ],
         "yaxis": "y"
        },
        {
         "hovertemplate": "color=Ta<br>x=%{x}<br>y=%{y}<extra></extra>",
         "legendgroup": "Ta",
         "marker": {
          "color": "#FECB52",
          "symbol": "circle"
         },
         "mode": "markers",
         "name": "Ta",
         "showlegend": true,
         "type": "scattergl",
         "x": [
          30,
          35,
          40,
          45,
          50,
          55,
          60,
          65,
          70,
          75,
          80,
          90,
          100,
          120,
          150,
          200
         ],
         "xaxis": "x",
         "y": [
          -3.4535327301000507,
          -2.961006695099968,
          -2.315824794999571,
          -0.5759969598993848,
          -0.4481034651998925,
          -0.3717755349998697,
          0.0402728449998903,
          -0.146601329999612,
          -0.0631304100998022,
          0.0628582950002965,
          -0.028503930199804,
          0.0102722900001026,
          -0.0359190351000506,
          7696.347643275,
          0.0085035550000611,
          0
         ],
         "yaxis": "y"
        },
        {
         "hovertemplate": "color=Tb<br>x=%{x}<br>y=%{y}<extra></extra>",
         "legendgroup": "Tb",
         "marker": {
          "color": "#636efa",
          "symbol": "circle"
         },
         "mode": "markers",
         "name": "Tb",
         "showlegend": true,
         "type": "scattergl",
         "x": [
          30,
          35,
          40,
          45,
          50,
          55,
          60,
          65,
          70,
          75,
          80,
          90,
          100,
          120,
          150,
          200
         ],
         "xaxis": "x",
         "y": [
          5.817657706799764,
          1.33029649170021,
          1.009134150999671,
          0.7229383881995091,
          1.1792052820001118,
          1.2156005069000455,
          0.8928054694997627,
          0.385653294900294,
          0.137145369099926,
          0.0033333536002828,
          0.031429105600182,
          0.0483682006997696,
          0.0578922235999925,
          0.0109525735997522,
          -0.0053742906002298,
          0
         ],
         "yaxis": "y"
        },
        {
         "hovertemplate": "color=Tc<br>x=%{x}<br>y=%{y}<extra></extra>",
         "legendgroup": "Tc",
         "marker": {
          "color": "#EF553B",
          "symbol": "circle"
         },
         "mode": "markers",
         "name": "Tc",
         "showlegend": true,
         "type": "scattergl",
         "x": [
          30,
          35,
          40,
          45,
          50,
          55,
          60,
          65,
          70,
          75,
          80,
          90,
          100,
          120,
          150,
          200
         ],
         "xaxis": "x",
         "y": [
          2.0224860850003097,
          1.3175751900998875,
          0.012449210300474,
          -0.0841512000997681,
          -0.1885748797994892,
          -0.1877585400998214,
          -0.194561389899718,
          -0.0935391248995074,
          -0.0302726598993103,
          -0.0164628796001125,
          -0.0121090548000211,
          0.0047619951001252,
          0.0069389052005135,
          0.0033334054005536,
          0.0010204303007412,
          0
         ],
         "yaxis": "y"
        },
        {
         "hovertemplate": "color=Te<br>x=%{x}<br>y=%{y}<extra></extra>",
         "legendgroup": "Te",
         "marker": {
          "color": "#00cc96",
          "symbol": "circle"
         },
         "mode": "markers",
         "name": "Te",
         "showlegend": true,
         "type": "scattergl",
         "x": [
          30,
          35,
          40,
          45,
          50,
          55,
          60,
          65,
          70,
          75,
          80,
          90,
          100,
          120,
          150,
          200
         ],
         "xaxis": "x",
         "y": [
          2.7175101612997423,
          2.577507592399797,
          2.521678904399778,
          2.4650792279999223,
          2.4033547389999512,
          2.3791366056998413,
          2.385259170399877,
          2.385077758999614,
          2.363172594999924,
          2.3386369986997124,
          2.3514717012999427,
          2.35981652369992,
          2.3472085859998515,
          2.34503167369985,
          2.2785451919999105,
          0
         ],
         "yaxis": "y"
        },
        {
         "hovertemplate": "color=Ti<br>x=%{x}<br>y=%{y}<extra></extra>",
         "legendgroup": "Ti",
         "marker": {
          "color": "#ab63fa",
          "symbol": "circle"
         },
         "mode": "markers",
         "name": "Ti",
         "showlegend": true,
         "type": "scattergl",
         "x": [
          30,
          35,
          40,
          45,
          50,
          55,
          60,
          65,
          70,
          75,
          80,
          90,
          100,
          120,
          150,
          200
         ],
         "xaxis": "x",
         "y": [
          -4727.6025798799,
          -4727.47706737,
          -4728.20395145,
          -4728.4379013201,
          -4728.2161965702,
          -4727.4132566799,
          -4728.2108223298,
          -4728.6695382199,
          -4728.54354952,
          -4727.9731308949,
          -4727.7131261251,
          -4728.02054673,
          -4727.28107738,
          -4727.5003331051,
          0,
          0
         ],
         "yaxis": "y"
        },
        {
         "hovertemplate": "color=Tl<br>x=%{x}<br>y=%{y}<extra></extra>",
         "legendgroup": "Tl",
         "marker": {
          "color": "#FFA15A",
          "symbol": "circle"
         },
         "mode": "markers",
         "name": "Tl",
         "showlegend": true,
         "type": "scattergl",
         "x": [
          30,
          35,
          40,
          45,
          50,
          55,
          60,
          65,
          70,
          75,
          80,
          90,
          100,
          120,
          150,
          200
         ],
         "xaxis": "x",
         "y": [
          -1.6128867150998758,
          -3.041552384999932,
          -0.7948445100000754,
          -1.285193634899997,
          -0.1964661851000073,
          -1.3213167450999208,
          -1.431454819999999,
          -0.6157255749999422,
          -0.4421849701000155,
          -1.1289322651998646,
          -0.95076573489996,
          -0.2050377650000427,
          -0.6568147648999911,
          -0.4415046848998827,
          -0.0327897048998693,
          0
         ],
         "yaxis": "y"
        },
        {
         "hovertemplate": "color=Tm<br>x=%{x}<br>y=%{y}<extra></extra>",
         "legendgroup": "Tm",
         "marker": {
          "color": "#19d3f3",
          "symbol": "circle"
         },
         "mode": "markers",
         "name": "Tm",
         "showlegend": true,
         "type": "scattergl",
         "x": [
          30,
          35,
          40,
          45,
          50,
          55,
          60,
          65,
          70,
          75,
          80,
          90,
          100,
          120,
          150,
          200
         ],
         "xaxis": "x",
         "y": [
          6.8890379123004095,
          1.8107815167004448,
          0.8540973362005388,
          0.6250455176004834,
          1.0855981913000503,
          1.159749196800476,
          0.8996764145003908,
          0.3551085699000396,
          0.1279616035999424,
          -0.0112927317995854,
          0.0182316566006193,
          0.0297284766002121,
          0.0325856337003642,
          0.0074151295002593,
          0.0177554644005795,
          0
         ],
         "yaxis": "y"
        },
        {
         "hovertemplate": "color=V<br>x=%{x}<br>y=%{y}<extra></extra>",
         "legendgroup": "V",
         "marker": {
          "color": "#FF6692",
          "symbol": "circle"
         },
         "mode": "markers",
         "name": "V",
         "showlegend": true,
         "type": "scattergl",
         "x": [
          30,
          35,
          40,
          45,
          50,
          55,
          60,
          65,
          70,
          75,
          80,
          90,
          100,
          120,
          150,
          200
         ],
         "xaxis": "x",
         "y": [
          0.8485189599005025,
          -2.313035619999937,
          -1.2473698200001309,
          -1.5705049999996843,
          -0.4595322449995365,
          -1.285601810199296,
          -1.7632976449995112,
          -1.3366231550999146,
          -0.4273547800994492,
          -0.7040265198993438,
          -1.265397360099996,
          -1.0625364948000424,
          -0.3673536797996348,
          -0.3534758750001856,
          -0.260276885199346,
          0
         ],
         "yaxis": "y"
        },
        {
         "hovertemplate": "color=W<br>x=%{x}<br>y=%{y}<extra></extra>",
         "legendgroup": "W",
         "marker": {
          "color": "#B6E880",
          "symbol": "circle"
         },
         "mode": "markers",
         "name": "W",
         "showlegend": true,
         "type": "scattergl",
         "x": [
          30,
          35,
          40,
          45,
          50,
          55,
          60,
          65,
          70,
          75,
          80,
          90,
          100,
          120,
          150,
          200
         ],
         "xaxis": "x",
         "y": [
          1.8952048349001416,
          -1.1638308702003997,
          -0.8397432848996687,
          -0.8639614248004364,
          -0.5506903649002197,
          -0.2408207346998097,
          0.0140818951003893,
          -0.1324514050993457,
          0.024014044800424,
          0.1236757448004937,
          0.0265991298001608,
          -0.0225854501004505,
          -0.0456470898006955,
          9344.30038617,
          -0.0072110102009901,
          0
         ],
         "yaxis": "y"
        },
        {
         "hovertemplate": "color=Xe<br>x=%{x}<br>y=%{y}<extra></extra>",
         "legendgroup": "Xe",
         "marker": {
          "color": "#FF97FF",
          "symbol": "circle"
         },
         "mode": "markers",
         "name": "Xe",
         "showlegend": true,
         "type": "scattergl",
         "x": [
          30,
          35,
          40,
          45,
          50,
          55,
          60,
          65,
          70,
          75,
          80,
          90,
          100,
          120,
          150,
          200
         ],
         "xaxis": "x",
         "y": [
          46.27632497030004,
          -29.062233730199974,
          3.264345570200021,
          -0.6169500847998961,
          -0.1234376449999672,
          -0.1243220043999144,
          0.0718040306001057,
          0.0710217155000236,
          -0.6295013348999419,
          -0.2785084997999547,
          -0.0258167951999439,
          -0.0736067849999244,
          -0.0213609395999583,
          -0.0212928997999597,
          -0.0112927195999645,
          0
         ],
         "yaxis": "y"
        },
        {
         "hovertemplate": "color=Y<br>x=%{x}<br>y=%{y}<extra></extra>",
         "legendgroup": "Y",
         "marker": {
          "color": "#FECB52",
          "symbol": "circle"
         },
         "mode": "markers",
         "name": "Y",
         "showlegend": true,
         "type": "scattergl",
         "x": [
          30,
          35,
          40,
          45,
          50,
          55,
          60,
          65,
          70,
          75,
          80,
          90,
          100,
          120,
          150,
          200
         ],
         "xaxis": "x",
         "y": [
          -3492.6236700401,
          -3491.558684525,
          -3492.50128685,
          -3492.35332495,
          -3492.3664544401,
          -3492.018897045,
          -3492.33822263,
          -3492.408700115,
          -3492.03461162,
          -3492.043455315,
          -3492.2997185149,
          -3491.863315955,
          -3492.17236924,
          -3492.051210565,
          0,
          0
         ],
         "yaxis": "y"
        },
        {
         "hovertemplate": "color=Yb<br>x=%{x}<br>y=%{y}<extra></extra>",
         "legendgroup": "Yb",
         "marker": {
          "color": "#636efa",
          "symbol": "circle"
         },
         "mode": "markers",
         "name": "Yb",
         "showlegend": true,
         "type": "scattergl",
         "x": [
          30,
          35,
          40,
          45,
          50,
          55,
          60,
          65,
          70,
          75,
          80,
          90,
          100,
          120,
          150,
          200
         ],
         "xaxis": "x",
         "y": [
          11.246056612400023,
          2.8465828172002148,
          0.9549834867002572,
          0.7388570683997386,
          1.404719641799602,
          1.233492047499567,
          0.8872271655000077,
          0.4067421705003653,
          0.1108864043999346,
          0.0448987684003441,
          -0.0123131440004726,
          -0.0016326739996657,
          0.0160546841998439,
          0.0065987296002276,
          -0.0079593356003897,
          0
         ],
         "yaxis": "y"
        },
        {
         "hovertemplate": "color=Zn<br>x=%{x}<br>y=%{y}<extra></extra>",
         "legendgroup": "Zn",
         "marker": {
          "color": "#EF553B",
          "symbol": "circle"
         },
         "mode": "markers",
         "name": "Zn",
         "showlegend": true,
         "type": "scattergl",
         "x": [
          30,
          35,
          40,
          45,
          50,
          55,
          60,
          65,
          70,
          75,
          80,
          90,
          100,
          120,
          140,
          150,
          160,
          200
         ],
         "xaxis": "x",
         "y": [
          -1295.7531041004,
          -1302.28213542,
          -1297.9932812097,
          -1298.0856638898,
          -1297.7948422197,
          -1298.1882508104,
          -1297.9387904408,
          -1297.9768863899,
          -1297.9771584898,
          -1298.0926027596,
          -1297.9279739195,
          -1297.9993357496,
          -1298.0474318895,
          -1298.04974486,
          0,
          0,
          0,
          0
         ],
         "yaxis": "y"
        },
        {
         "hovertemplate": "color=Zr<br>x=%{x}<br>y=%{y}<extra></extra>",
         "legendgroup": "Zr",
         "marker": {
          "color": "#00cc96",
          "symbol": "circle"
         },
         "mode": "markers",
         "name": "Zr",
         "showlegend": true,
         "type": "scattergl",
         "x": [
          30,
          35,
          40,
          45,
          50,
          55,
          60,
          65,
          70,
          75,
          80,
          90,
          100,
          120,
          150,
          200
         ],
         "xaxis": "x",
         "y": [
          -5468.4379366001,
          -5468.4982098099,
          -5468.56970772,
          -5468.5819528399,
          -5468.6156949601,
          -5468.63263404,
          -5468.6588250049,
          -5468.6148105852,
          -5468.6012048999,
          -5468.57147646,
          -5468.5933135949,
          -5468.57161252,
          -5468.5908645749,
          -5468.5882114599,
          0,
          0
         ],
         "yaxis": "y"
        }
       ],
       "layout": {
        "legend": {
         "title": {
          "text": "color"
         },
         "tracegroupgap": 0
        },
        "margin": {
         "t": 60
        },
        "template": {
         "data": {
          "bar": [
           {
            "error_x": {
             "color": "#2a3f5f"
            },
            "error_y": {
             "color": "#2a3f5f"
            },
            "marker": {
             "line": {
              "color": "#E5ECF6",
              "width": 0.5
             },
             "pattern": {
              "fillmode": "overlay",
              "size": 10,
              "solidity": 0.2
             }
            },
            "type": "bar"
           }
          ],
          "barpolar": [
           {
            "marker": {
             "line": {
              "color": "#E5ECF6",
              "width": 0.5
             },
             "pattern": {
              "fillmode": "overlay",
              "size": 10,
              "solidity": 0.2
             }
            },
            "type": "barpolar"
           }
          ],
          "carpet": [
           {
            "aaxis": {
             "endlinecolor": "#2a3f5f",
             "gridcolor": "white",
             "linecolor": "white",
             "minorgridcolor": "white",
             "startlinecolor": "#2a3f5f"
            },
            "baxis": {
             "endlinecolor": "#2a3f5f",
             "gridcolor": "white",
             "linecolor": "white",
             "minorgridcolor": "white",
             "startlinecolor": "#2a3f5f"
            },
            "type": "carpet"
           }
          ],
          "choropleth": [
           {
            "colorbar": {
             "outlinewidth": 0,
             "ticks": ""
            },
            "type": "choropleth"
           }
          ],
          "contour": [
           {
            "colorbar": {
             "outlinewidth": 0,
             "ticks": ""
            },
            "colorscale": [
             [
              0,
              "#0d0887"
             ],
             [
              0.1111111111111111,
              "#46039f"
             ],
             [
              0.2222222222222222,
              "#7201a8"
             ],
             [
              0.3333333333333333,
              "#9c179e"
             ],
             [
              0.4444444444444444,
              "#bd3786"
             ],
             [
              0.5555555555555556,
              "#d8576b"
             ],
             [
              0.6666666666666666,
              "#ed7953"
             ],
             [
              0.7777777777777778,
              "#fb9f3a"
             ],
             [
              0.8888888888888888,
              "#fdca26"
             ],
             [
              1,
              "#f0f921"
             ]
            ],
            "type": "contour"
           }
          ],
          "contourcarpet": [
           {
            "colorbar": {
             "outlinewidth": 0,
             "ticks": ""
            },
            "type": "contourcarpet"
           }
          ],
          "heatmap": [
           {
            "colorbar": {
             "outlinewidth": 0,
             "ticks": ""
            },
            "colorscale": [
             [
              0,
              "#0d0887"
             ],
             [
              0.1111111111111111,
              "#46039f"
             ],
             [
              0.2222222222222222,
              "#7201a8"
             ],
             [
              0.3333333333333333,
              "#9c179e"
             ],
             [
              0.4444444444444444,
              "#bd3786"
             ],
             [
              0.5555555555555556,
              "#d8576b"
             ],
             [
              0.6666666666666666,
              "#ed7953"
             ],
             [
              0.7777777777777778,
              "#fb9f3a"
             ],
             [
              0.8888888888888888,
              "#fdca26"
             ],
             [
              1,
              "#f0f921"
             ]
            ],
            "type": "heatmap"
           }
          ],
          "heatmapgl": [
           {
            "colorbar": {
             "outlinewidth": 0,
             "ticks": ""
            },
            "colorscale": [
             [
              0,
              "#0d0887"
             ],
             [
              0.1111111111111111,
              "#46039f"
             ],
             [
              0.2222222222222222,
              "#7201a8"
             ],
             [
              0.3333333333333333,
              "#9c179e"
             ],
             [
              0.4444444444444444,
              "#bd3786"
             ],
             [
              0.5555555555555556,
              "#d8576b"
             ],
             [
              0.6666666666666666,
              "#ed7953"
             ],
             [
              0.7777777777777778,
              "#fb9f3a"
             ],
             [
              0.8888888888888888,
              "#fdca26"
             ],
             [
              1,
              "#f0f921"
             ]
            ],
            "type": "heatmapgl"
           }
          ],
          "histogram": [
           {
            "marker": {
             "pattern": {
              "fillmode": "overlay",
              "size": 10,
              "solidity": 0.2
             }
            },
            "type": "histogram"
           }
          ],
          "histogram2d": [
           {
            "colorbar": {
             "outlinewidth": 0,
             "ticks": ""
            },
            "colorscale": [
             [
              0,
              "#0d0887"
             ],
             [
              0.1111111111111111,
              "#46039f"
             ],
             [
              0.2222222222222222,
              "#7201a8"
             ],
             [
              0.3333333333333333,
              "#9c179e"
             ],
             [
              0.4444444444444444,
              "#bd3786"
             ],
             [
              0.5555555555555556,
              "#d8576b"
             ],
             [
              0.6666666666666666,
              "#ed7953"
             ],
             [
              0.7777777777777778,
              "#fb9f3a"
             ],
             [
              0.8888888888888888,
              "#fdca26"
             ],
             [
              1,
              "#f0f921"
             ]
            ],
            "type": "histogram2d"
           }
          ],
          "histogram2dcontour": [
           {
            "colorbar": {
             "outlinewidth": 0,
             "ticks": ""
            },
            "colorscale": [
             [
              0,
              "#0d0887"
             ],
             [
              0.1111111111111111,
              "#46039f"
             ],
             [
              0.2222222222222222,
              "#7201a8"
             ],
             [
              0.3333333333333333,
              "#9c179e"
             ],
             [
              0.4444444444444444,
              "#bd3786"
             ],
             [
              0.5555555555555556,
              "#d8576b"
             ],
             [
              0.6666666666666666,
              "#ed7953"
             ],
             [
              0.7777777777777778,
              "#fb9f3a"
             ],
             [
              0.8888888888888888,
              "#fdca26"
             ],
             [
              1,
              "#f0f921"
             ]
            ],
            "type": "histogram2dcontour"
           }
          ],
          "mesh3d": [
           {
            "colorbar": {
             "outlinewidth": 0,
             "ticks": ""
            },
            "type": "mesh3d"
           }
          ],
          "parcoords": [
           {
            "line": {
             "colorbar": {
              "outlinewidth": 0,
              "ticks": ""
             }
            },
            "type": "parcoords"
           }
          ],
          "pie": [
           {
            "automargin": true,
            "type": "pie"
           }
          ],
          "scatter": [
           {
            "marker": {
             "colorbar": {
              "outlinewidth": 0,
              "ticks": ""
             }
            },
            "type": "scatter"
           }
          ],
          "scatter3d": [
           {
            "line": {
             "colorbar": {
              "outlinewidth": 0,
              "ticks": ""
             }
            },
            "marker": {
             "colorbar": {
              "outlinewidth": 0,
              "ticks": ""
             }
            },
            "type": "scatter3d"
           }
          ],
          "scattercarpet": [
           {
            "marker": {
             "colorbar": {
              "outlinewidth": 0,
              "ticks": ""
             }
            },
            "type": "scattercarpet"
           }
          ],
          "scattergeo": [
           {
            "marker": {
             "colorbar": {
              "outlinewidth": 0,
              "ticks": ""
             }
            },
            "type": "scattergeo"
           }
          ],
          "scattergl": [
           {
            "marker": {
             "colorbar": {
              "outlinewidth": 0,
              "ticks": ""
             }
            },
            "type": "scattergl"
           }
          ],
          "scattermapbox": [
           {
            "marker": {
             "colorbar": {
              "outlinewidth": 0,
              "ticks": ""
             }
            },
            "type": "scattermapbox"
           }
          ],
          "scatterpolar": [
           {
            "marker": {
             "colorbar": {
              "outlinewidth": 0,
              "ticks": ""
             }
            },
            "type": "scatterpolar"
           }
          ],
          "scatterpolargl": [
           {
            "marker": {
             "colorbar": {
              "outlinewidth": 0,
              "ticks": ""
             }
            },
            "type": "scatterpolargl"
           }
          ],
          "scatterternary": [
           {
            "marker": {
             "colorbar": {
              "outlinewidth": 0,
              "ticks": ""
             }
            },
            "type": "scatterternary"
           }
          ],
          "surface": [
           {
            "colorbar": {
             "outlinewidth": 0,
             "ticks": ""
            },
            "colorscale": [
             [
              0,
              "#0d0887"
             ],
             [
              0.1111111111111111,
              "#46039f"
             ],
             [
              0.2222222222222222,
              "#7201a8"
             ],
             [
              0.3333333333333333,
              "#9c179e"
             ],
             [
              0.4444444444444444,
              "#bd3786"
             ],
             [
              0.5555555555555556,
              "#d8576b"
             ],
             [
              0.6666666666666666,
              "#ed7953"
             ],
             [
              0.7777777777777778,
              "#fb9f3a"
             ],
             [
              0.8888888888888888,
              "#fdca26"
             ],
             [
              1,
              "#f0f921"
             ]
            ],
            "type": "surface"
           }
          ],
          "table": [
           {
            "cells": {
             "fill": {
              "color": "#EBF0F8"
             },
             "line": {
              "color": "white"
             }
            },
            "header": {
             "fill": {
              "color": "#C8D4E3"
             },
             "line": {
              "color": "white"
             }
            },
            "type": "table"
           }
          ]
         },
         "layout": {
          "annotationdefaults": {
           "arrowcolor": "#2a3f5f",
           "arrowhead": 0,
           "arrowwidth": 1
          },
          "autotypenumbers": "strict",
          "coloraxis": {
           "colorbar": {
            "outlinewidth": 0,
            "ticks": ""
           }
          },
          "colorscale": {
           "diverging": [
            [
             0,
             "#8e0152"
            ],
            [
             0.1,
             "#c51b7d"
            ],
            [
             0.2,
             "#de77ae"
            ],
            [
             0.3,
             "#f1b6da"
            ],
            [
             0.4,
             "#fde0ef"
            ],
            [
             0.5,
             "#f7f7f7"
            ],
            [
             0.6,
             "#e6f5d0"
            ],
            [
             0.7,
             "#b8e186"
            ],
            [
             0.8,
             "#7fbc41"
            ],
            [
             0.9,
             "#4d9221"
            ],
            [
             1,
             "#276419"
            ]
           ],
           "sequential": [
            [
             0,
             "#0d0887"
            ],
            [
             0.1111111111111111,
             "#46039f"
            ],
            [
             0.2222222222222222,
             "#7201a8"
            ],
            [
             0.3333333333333333,
             "#9c179e"
            ],
            [
             0.4444444444444444,
             "#bd3786"
            ],
            [
             0.5555555555555556,
             "#d8576b"
            ],
            [
             0.6666666666666666,
             "#ed7953"
            ],
            [
             0.7777777777777778,
             "#fb9f3a"
            ],
            [
             0.8888888888888888,
             "#fdca26"
            ],
            [
             1,
             "#f0f921"
            ]
           ],
           "sequentialminus": [
            [
             0,
             "#0d0887"
            ],
            [
             0.1111111111111111,
             "#46039f"
            ],
            [
             0.2222222222222222,
             "#7201a8"
            ],
            [
             0.3333333333333333,
             "#9c179e"
            ],
            [
             0.4444444444444444,
             "#bd3786"
            ],
            [
             0.5555555555555556,
             "#d8576b"
            ],
            [
             0.6666666666666666,
             "#ed7953"
            ],
            [
             0.7777777777777778,
             "#fb9f3a"
            ],
            [
             0.8888888888888888,
             "#fdca26"
            ],
            [
             1,
             "#f0f921"
            ]
           ]
          },
          "colorway": [
           "#636efa",
           "#EF553B",
           "#00cc96",
           "#ab63fa",
           "#FFA15A",
           "#19d3f3",
           "#FF6692",
           "#B6E880",
           "#FF97FF",
           "#FECB52"
          ],
          "font": {
           "color": "#2a3f5f"
          },
          "geo": {
           "bgcolor": "white",
           "lakecolor": "white",
           "landcolor": "#E5ECF6",
           "showlakes": true,
           "showland": true,
           "subunitcolor": "white"
          },
          "hoverlabel": {
           "align": "left"
          },
          "hovermode": "closest",
          "mapbox": {
           "style": "light"
          },
          "paper_bgcolor": "white",
          "plot_bgcolor": "#E5ECF6",
          "polar": {
           "angularaxis": {
            "gridcolor": "white",
            "linecolor": "white",
            "ticks": ""
           },
           "bgcolor": "#E5ECF6",
           "radialaxis": {
            "gridcolor": "white",
            "linecolor": "white",
            "ticks": ""
           }
          },
          "scene": {
           "xaxis": {
            "backgroundcolor": "#E5ECF6",
            "gridcolor": "white",
            "gridwidth": 2,
            "linecolor": "white",
            "showbackground": true,
            "ticks": "",
            "zerolinecolor": "white"
           },
           "yaxis": {
            "backgroundcolor": "#E5ECF6",
            "gridcolor": "white",
            "gridwidth": 2,
            "linecolor": "white",
            "showbackground": true,
            "ticks": "",
            "zerolinecolor": "white"
           },
           "zaxis": {
            "backgroundcolor": "#E5ECF6",
            "gridcolor": "white",
            "gridwidth": 2,
            "linecolor": "white",
            "showbackground": true,
            "ticks": "",
            "zerolinecolor": "white"
           }
          },
          "shapedefaults": {
           "line": {
            "color": "#2a3f5f"
           }
          },
          "ternary": {
           "aaxis": {
            "gridcolor": "white",
            "linecolor": "white",
            "ticks": ""
           },
           "baxis": {
            "gridcolor": "white",
            "linecolor": "white",
            "ticks": ""
           },
           "bgcolor": "#E5ECF6",
           "caxis": {
            "gridcolor": "white",
            "linecolor": "white",
            "ticks": ""
           }
          },
          "title": {
           "x": 0.05
          },
          "xaxis": {
           "automargin": true,
           "gridcolor": "white",
           "linecolor": "white",
           "ticks": "",
           "title": {
            "standoff": 15
           },
           "zerolinecolor": "white",
           "zerolinewidth": 2
          },
          "yaxis": {
           "automargin": true,
           "gridcolor": "white",
           "linecolor": "white",
           "ticks": "",
           "title": {
            "standoff": 15
           },
           "zerolinecolor": "white",
           "zerolinewidth": 2
          }
         }
        },
        "xaxis": {
         "anchor": "y",
         "domain": [
          0,
          1
         ],
         "title": {
          "text": "x"
         }
        },
        "yaxis": {
         "anchor": "x",
         "domain": [
          0,
          1
         ],
         "title": {
          "text": "y"
         }
        }
       }
      },
      "text/html": [
       "<div>                            <div id=\"952989c7-3331-4843-aa9c-59d7a1b4effc\" class=\"plotly-graph-div\" style=\"height:525px; width:100%;\"></div>            <script type=\"text/javascript\">                require([\"plotly\"], function(Plotly) {                    window.PLOTLYENV=window.PLOTLYENV || {};                                    if (document.getElementById(\"952989c7-3331-4843-aa9c-59d7a1b4effc\")) {                    Plotly.newPlot(                        \"952989c7-3331-4843-aa9c-59d7a1b4effc\",                        [{\"hovertemplate\":\"color=Ag<br>x=%{x}<br>y=%{y}<extra></extra>\",\"legendgroup\":\"Ag\",\"marker\":{\"color\":\"#636efa\",\"symbol\":\"circle\"},\"mode\":\"markers\",\"name\":\"Ag\",\"showlegend\":true,\"type\":\"scattergl\",\"x\":[30.0,35.0,40.0,45.0,50.0,55.0,60.0,65.0,70.0,75.0,80.0,90.0,100.0,120.0,150.0,200.0],\"xaxis\":\"x\",\"y\":[-92.35761235000018,-42.569250174899935,1.466829634900023,-1.3159084801000065,-0.2833385351000288,-0.0661576855000021,-0.0754435704998286,-0.0709536853000827,-0.0594228599002235,-0.0358169900000575,-0.0177554251999936,-0.0060545402998286,-0.0025850900001387,0.0010204299001088,0.0002721248997659,0.0],\"yaxis\":\"y\"},{\"hovertemplate\":\"color=Al<br>x=%{x}<br>y=%{y}<extra></extra>\",\"legendgroup\":\"Al\",\"marker\":{\"color\":\"#EF553B\",\"symbol\":\"circle\"},\"mode\":\"markers\",\"name\":\"Al\",\"showlegend\":true,\"type\":\"scattergl\",\"x\":[30.0,35.0,40.0,45.0,50.0,55.0,60.0,65.0,70.0,75.0,80.0,90.0,100.0,120.0,150.0,200.0],\"xaxis\":\"x\",\"y\":[0.2901413734998641,0.3088491999997131,0.199833595799646,0.09993380529977,0.06115758299984,0.0312250598999526,0.0360890963997917,0.0061225603999446,0.0064967173998411,0.0057824188997983,0.0051361468999857,0.0163948568997511,-0.0047279802001867,-0.0023809971003174,-0.0018027555001935,0.0],\"yaxis\":\"y\"},{\"hovertemplate\":\"color=Ar<br>x=%{x}<br>y=%{y}<extra></extra>\",\"legendgroup\":\"Ar\",\"marker\":{\"color\":\"#00cc96\",\"symbol\":\"circle\"},\"mode\":\"markers\",\"name\":\"Ar\",\"showlegend\":true,\"type\":\"scattergl\",\"x\":[30.0,35.0,40.0,45.0,50.0,55.0,60.0,65.0,70.0,75.0,80.0,90.0,100.0,120.0,150.0,200.0],\"xaxis\":\"x\",\"y\":[-0.1835407820000227,-0.583446077499957,0.5240232150999873,0.193098778000035,0.0138778056000319,0.0001700705000757,0.0068368586000815,0.0061565734999931,-0.0299665369999502,-0.0224493915000039,-0.0094219430000066,0.0040136790000815,3.401290007332136e-05,0.0004081688999804,0.0007483120000415,0.0],\"yaxis\":\"y\"},{\"hovertemplate\":\"color=As<br>x=%{x}<br>y=%{y}<extra></extra>\",\"legendgroup\":\"As\",\"marker\":{\"color\":\"#ab63fa\",\"symbol\":\"circle\"},\"mode\":\"markers\",\"name\":\"As\",\"showlegend\":true,\"type\":\"scattergl\",\"x\":[30.0,35.0,40.0,45.0,50.0,55.0,60.0,65.0,70.0,75.0,80.0,90.0,100.0,120.0,150.0,200.0],\"xaxis\":\"x\",\"y\":[2.5630402077003964,0.6411455477000345,0.2613199860002169,0.2352650867001102,0.2017270559999815,0.1059203110003181,0.0632664674003535,0.0630623810002362,0.0597516620000533,0.0546948807000262,0.0205445944002349,0.0348532464004165,0.0144673867002893,0.0151249934001498,-0.0034014230000138,0.0],\"yaxis\":\"y\"},{\"hovertemplate\":\"color=Au<br>x=%{x}<br>y=%{y}<extra></extra>\",\"legendgroup\":\"Au\",\"marker\":{\"color\":\"#FFA15A\",\"symbol\":\"circle\"},\"mode\":\"markers\",\"name\":\"Au\",\"showlegend\":true,\"type\":\"scattergl\",\"x\":[30.0,35.0,40.0,45.0,50.0,55.0,60.0,65.0,70.0,75.0,80.0,90.0,100.0,120.0,150.0,200.0],\"xaxis\":\"x\",\"y\":[-84.2002518401996,-31.0662500597,-1.376419800199983,-1.4605029700996963,-1.222199295199971,-1.094611900000018,-0.8085182352997435,-0.3377272701000038,-0.0770422252999196,0.0084695603,0.0242861752003591,0.0113947749000544,0.0041837497001324,0.0004081603001395,-6.801969993830426e-05,0.0],\"yaxis\":\"y\"},{\"hovertemplate\":\"color=B<br>x=%{x}<br>y=%{y}<extra></extra>\",\"legendgroup\":\"B\",\"marker\":{\"color\":\"#19d3f3\",\"symbol\":\"circle\"},\"mode\":\"markers\",\"name\":\"B\",\"showlegend\":true,\"type\":\"scattergl\",\"x\":[30.0,35.0,40.0,45.0,50.0,55.0,60.0,65.0,70.0,75.0,80.0,90.0,100.0,120.0,150.0,200.0],\"xaxis\":\"x\",\"y\":[5.274053650500719,1.556581838400234,1.429039816900513,1.4191076612005418,1.290499860700038,0.9493824927003516,0.62439920810084,0.3708117901005607,0.2494490200006112,0.1945954059001451,0.137088682700778,0.1407055288000265,0.1247415172001638,0.0479033731007803,0.0381979799003602,0.0],\"yaxis\":\"y\"},{\"hovertemplate\":\"color=Ba<br>x=%{x}<br>y=%{y}<extra></extra>\",\"legendgroup\":\"Ba\",\"marker\":{\"color\":\"#FF6692\",\"symbol\":\"circle\"},\"mode\":\"markers\",\"name\":\"Ba\",\"showlegend\":true,\"type\":\"scattergl\",\"x\":[30.0,35.0,40.0,45.0,50.0,55.0,60.0,65.0,70.0,75.0,80.0,90.0,100.0,120.0,150.0,200.0],\"xaxis\":\"x\",\"y\":[-1405.3133448599,-1405.0279654905,-1404.8283019704,-1404.8057165294,-1404.8333360799,-1404.7804099202,-1404.8982352399,-1404.8683707499,-1404.8380980696,-1404.9089157099,-1404.8901398103,-1404.8870785393,-1404.8740851406,-1404.8744252507,0.0,0.0],\"yaxis\":\"y\"},{\"hovertemplate\":\"color=Be<br>x=%{x}<br>y=%{y}<extra></extra>\",\"legendgroup\":\"Be\",\"marker\":{\"color\":\"#B6E880\",\"symbol\":\"circle\"},\"mode\":\"markers\",\"name\":\"Be\",\"showlegend\":true,\"type\":\"scattergl\",\"x\":[30.0,35.0,40.0,45.0,50.0,55.0,60.0,65.0,70.0,75.0,80.0,90.0,100.0,120.0,140.0,150.0,160.0,200.0],\"xaxis\":\"x\",\"y\":[-0.1734725699998307,-0.008911728500152,0.3843607905000681,0.2098677945000417,0.1968063304998395,0.2187795224999718,0.1859217774999706,0.1410910224999497,0.1031991714999094,0.1149000655000236,0.0896615084998302,0.1039474839999456,0.0988453499999195,0.0556472789999134,3920.9973093575,0.0300005495000732,3920.9973093575,0.0],\"yaxis\":\"y\"},{\"hovertemplate\":\"color=Bi<br>x=%{x}<br>y=%{y}<extra></extra>\",\"legendgroup\":\"Bi\",\"marker\":{\"color\":\"#FF97FF\",\"symbol\":\"circle\"},\"mode\":\"markers\",\"name\":\"Bi\",\"showlegend\":true,\"type\":\"scattergl\",\"x\":[30.0,35.0,40.0,45.0,50.0,55.0,60.0,65.0,70.0,75.0,80.0,90.0,100.0,120.0,150.0,200.0],\"xaxis\":\"x\",\"y\":[-2.5291393600996344,-0.731215220499962,-0.2115911768996738,-0.4114814631998342,-0.0394111603000055,-0.0736067968996394,-0.0489351235996764,-0.006893540299643,-0.0064173436999226,-0.0093198905997269,-0.0028118468999309,0.0119049764002738,0.0019501496999509,0.0244675763001396,0.0053062367001075,0.0],\"yaxis\":\"y\"},{\"hovertemplate\":\"color=Br<br>x=%{x}<br>y=%{y}<extra></extra>\",\"legendgroup\":\"Br\",\"marker\":{\"color\":\"#FECB52\",\"symbol\":\"circle\"},\"mode\":\"markers\",\"name\":\"Br\",\"showlegend\":true,\"type\":\"scattergl\",\"x\":[30.0,35.0,40.0,45.0,50.0,55.0,60.0,65.0,70.0,75.0,80.0,90.0,100.0,120.0,150.0,200.0],\"xaxis\":\"x\",\"y\":[0.1332847568999113,-0.2114834716001041,-0.2367390367999178,-0.0667359189999388,-0.4875259494999682,-0.0453239605001272,-0.1858537489999889,-0.2891889780000838,-0.039575556200134,-0.0901717235001342,-0.1685405069999888,-0.0150002760999541,-0.0513274720999561,-0.0331638745999498,-0.0037415658000554,0.0],\"yaxis\":\"y\"},{\"hovertemplate\":\"color=C<br>x=%{x}<br>y=%{y}<extra></extra>\",\"legendgroup\":\"C\",\"marker\":{\"color\":\"#636efa\",\"symbol\":\"circle\"},\"mode\":\"markers\",\"name\":\"C\",\"showlegend\":true,\"type\":\"scattergl\",\"x\":[30.0,35.0,40.0,45.0,50.0,55.0,60.0,65.0,70.0,75.0,80.0,90.0,100.0,120.0,150.0,200.0],\"xaxis\":\"x\",\"y\":[35.7801460565006,12.12406591150011,2.6791307715002404,0.9298469865007064,1.494517208000616,1.9428247495006872,1.5118644650001445,0.7588914699999805,0.2616374525005085,0.0514635290001024,0.0816001360008158,0.0682665580006869,0.0123811805005971,0.034898598500149,0.0026531085004535,0.0],\"yaxis\":\"y\"},{\"hovertemplate\":\"color=Ca<br>x=%{x}<br>y=%{y}<extra></extra>\",\"legendgroup\":\"Ca\",\"marker\":{\"color\":\"#EF553B\",\"symbol\":\"circle\"},\"mode\":\"markers\",\"name\":\"Ca\",\"showlegend\":true,\"type\":\"scattergl\",\"x\":[30.0,35.0,40.0,45.0,50.0,55.0,60.0,65.0,70.0,75.0,80.0,90.0,100.0,120.0],\"xaxis\":\"x\",\"y\":[0.0948996974998408,0.0593208100999618,-0.0230276375000357,0.2059561574999406,0.1013283800000408,-3.402250013095909e-05,0.1291520275999573,0.1478598475998751,0.1076890423998975,0.0684706424999603,0.0828246425999168,0.0679264150999188,0.0287420249999286,0.0],\"yaxis\":\"y\"},{\"hovertemplate\":\"color=Cd<br>x=%{x}<br>y=%{y}<extra></extra>\",\"legendgroup\":\"Cd\",\"marker\":{\"color\":\"#00cc96\",\"symbol\":\"circle\"},\"mode\":\"markers\",\"name\":\"Cd\",\"showlegend\":true,\"type\":\"scattergl\",\"x\":[30.0,35.0,40.0,45.0,50.0,55.0,60.0,65.0,70.0,75.0,80.0,90.0,100.0,120.0,150.0,200.0],\"xaxis\":\"x\",\"y\":[3.049511714999994,-2.491134124800056,0.0665998649999437,-0.1235396749000301,0.2304123952000054,-0.0774163798000699,0.0758517350999454,0.1040835501999026,0.0399327049999556,-0.0768721599999935,-0.0215650147999895,-0.0304767449999872,-0.1055801697000333,-0.017823449800062,-0.0330618300000651,0.0],\"yaxis\":\"y\"},{\"hovertemplate\":\"color=Ce<br>x=%{x}<br>y=%{y}<extra></extra>\",\"legendgroup\":\"Ce\",\"marker\":{\"color\":\"#ab63fa\",\"symbol\":\"circle\"},\"mode\":\"markers\",\"name\":\"Ce\",\"showlegend\":true,\"type\":\"scattergl\",\"x\":[30.0,35.0,40.0,45.0,50.0,55.0,60.0,65.0,70.0,75.0,80.0,90.0,100.0,120.0,150.0,200.0],\"xaxis\":\"x\",\"y\":[11.142857437800558,3.704761826700633,2.536577136700544,2.214938583700132,2.0027578225999605,1.682683927900143,1.1515857496005992,0.6570188562000112,0.3108220240001174,0.1649009837001358,0.1251723611003399,0.1238117971006431,0.0971446389003176,0.0329257746006987,0.017279225200582,0.0],\"yaxis\":\"y\"},{\"hovertemplate\":\"color=Cl<br>x=%{x}<br>y=%{y}<extra></extra>\",\"legendgroup\":\"Cl\",\"marker\":{\"color\":\"#FFA15A\",\"symbol\":\"circle\"},\"mode\":\"markers\",\"name\":\"Cl\",\"showlegend\":true,\"type\":\"scattergl\",\"x\":[30.0,35.0,40.0,45.0,50.0,55.0,60.0,65.0,70.0,75.0,80.0,90.0,100.0,120.0,140.0,150.0,160.0,200.0],\"xaxis\":\"x\",\"y\":[1.7570390297000813,0.4125415804001022,0.2607530817001589,0.2105480797001746,0.1823332760000084,0.1310568250000869,0.0847464519001732,0.0843893030000799,0.0763619452000057,0.0775694504000057,0.0753755327000362,0.0534193465000498,0.0454770245000872,0.0424157437000758,1426.9677556582,0.0206806510000205,1426.9677556582,0.0],\"yaxis\":\"y\"},{\"hovertemplate\":\"color=Co<br>x=%{x}<br>y=%{y}<extra></extra>\",\"legendgroup\":\"Co\",\"marker\":{\"color\":\"#19d3f3\",\"symbol\":\"circle\"},\"mode\":\"markers\",\"name\":\"Co\",\"showlegend\":true,\"type\":\"scattergl\",\"x\":[30.0,35.0,40.0,45.0,50.0,55.0,60.0,65.0,70.0,75.0,80.0,90.0,100.0,120.0,140.0,150.0,160.0,200.0],\"xaxis\":\"x\",\"y\":[47.40964506530054,-4.670085659699907,-5.480848829899514,-2.4466435197991814,-3.2144807345994195,-2.7835204395996698,-1.5507767443996272,0.0834028851004404,-2.898964744399564,-2.430520774399156,0.5729356703004669,-2.394193574699784,0.1172810657008085,-2.7818877547997545,5500.6003632354,-0.8881115345993749,5500.6003632354,0.0],\"yaxis\":\"y\"},{\"hovertemplate\":\"color=Cr<br>x=%{x}<br>y=%{y}<extra></extra>\",\"legendgroup\":\"Cr\",\"marker\":{\"color\":\"#FF6692\",\"symbol\":\"circle\"},\"mode\":\"markers\",\"name\":\"Cr\",\"showlegend\":true,\"type\":\"scattergl\",\"x\":[30.0,35.0,40.0,45.0,50.0,55.0,60.0,65.0,70.0,75.0,80.0,90.0,100.0,120.0,150.0,200.0],\"xaxis\":\"x\",\"y\":[20.21656127999995,-1.095394229999329,-1.3262147995001214,-0.5067439846998241,-0.6647060594996219,-0.1739487647000714,-1.3322012995995465,-2.122419874899606,-2.241333619599573,-1.5611850898994817,-0.4288513945994054,-1.873299659499935,-1.733092999499604,-0.8591313949000323,0.1001378906003083,0.0],\"yaxis\":\"y\"},{\"hovertemplate\":\"color=Cs<br>x=%{x}<br>y=%{y}<extra></extra>\",\"legendgroup\":\"Cs\",\"marker\":{\"color\":\"#B6E880\",\"symbol\":\"circle\"},\"mode\":\"markers\",\"name\":\"Cs\",\"showlegend\":true,\"type\":\"scattergl\",\"x\":[30.0,35.0,40.0,45.0,50.0,55.0,60.0,65.0,70.0,75.0,80.0,90.0,100.0,120.0,150.0,200.0],\"xaxis\":\"x\",\"y\":[-257.134190344,-257.187252539,-257.169565142,-257.230858782,-257.264464843,-257.256165372,-257.2881387459,-257.2280696171,-257.274533054,-257.263852587,-257.2761657379,-257.2252804521,-257.238205855,-257.2377296591,0.0,0.0],\"yaxis\":\"y\"},{\"hovertemplate\":\"color=Cu<br>x=%{x}<br>y=%{y}<extra></extra>\",\"legendgroup\":\"Cu\",\"marker\":{\"color\":\"#FF97FF\",\"symbol\":\"circle\"},\"mode\":\"markers\",\"name\":\"Cu\",\"showlegend\":true,\"type\":\"scattergl\",\"x\":[30.0,35.0,40.0,45.0,50.0,55.0,60.0,65.0,70.0,75.0,80.0,90.0,100.0,120.0,150.0,200.0],\"xaxis\":\"x\",\"y\":[22.45949355980065,-4.895463955099331,-3.532411749799394,-3.542786080300175,-1.92173594040014,-2.2763002607998715,-2.5926325851996808,-1.3294461550995038,-2.4759297802993387,-2.2349049458998707,-0.9386906894997082,-1.2487303856996732,-1.04831855519933,-0.7564764701000968,-0.3478975449997961,0.0],\"yaxis\":\"y\"},{\"hovertemplate\":\"color=Dy<br>x=%{x}<br>y=%{y}<extra></extra>\",\"legendgroup\":\"Dy\",\"marker\":{\"color\":\"#FECB52\",\"symbol\":\"circle\"},\"mode\":\"markers\",\"name\":\"Dy\",\"showlegend\":true,\"type\":\"scattergl\",\"x\":[30.0,35.0,40.0,45.0,50.0,55.0,60.0,65.0,70.0,75.0,80.0,90.0,100.0,120.0,150.0,200.0],\"xaxis\":\"x\",\"y\":[8.152326411700415,2.067452915999638,0.9238945359002172,0.7671569675003411,1.2745812410003057,1.2971666475004895,0.87851956420036,0.3820478695997735,0.1800033041999995,0.0221092678002605,0.0561915559001136,0.051837726499798,0.0380279326000163,0.0104764285997589,0.0118370135996883,0.0],\"yaxis\":\"y\"},{\"hovertemplate\":\"color=Er<br>x=%{x}<br>y=%{y}<extra></extra>\",\"legendgroup\":\"Er\",\"marker\":{\"color\":\"#636efa\",\"symbol\":\"circle\"},\"mode\":\"markers\",\"name\":\"Er\",\"showlegend\":true,\"type\":\"scattergl\",\"x\":[30.0,35.0,40.0,45.0,50.0,55.0,60.0,65.0,70.0,75.0,80.0,90.0,100.0,120.0,150.0,200.0],\"xaxis\":\"x\",\"y\":[6.710667262200332,1.8516666167997755,0.8473624866001046,0.6305557690002388,1.1926069419005216,1.175123597899983,0.901377064999906,0.3776940202005789,0.1307507045003149,0.0129254185003446,0.0184357058997193,0.0278236266003659,0.0384360836997075,0.0182996790999823,0.013265514100567,0.0],\"yaxis\":\"y\"},{\"hovertemplate\":\"color=Eu<br>x=%{x}<br>y=%{y}<extra></extra>\",\"legendgroup\":\"Eu\",\"marker\":{\"color\":\"#EF553B\",\"symbol\":\"circle\"},\"mode\":\"markers\",\"name\":\"Eu\",\"showlegend\":true,\"type\":\"scattergl\",\"x\":[30.0,35.0,40.0,45.0,50.0,55.0,60.0,65.0,70.0,75.0,80.0,90.0,100.0,120.0,150.0,200.0],\"xaxis\":\"x\",\"y\":[15.117556192300071,3.7806815870999344,1.4523395612004606,1.7203716934000113,1.8577891769000416,1.4217947881998043,0.9271598655004708,0.4979002896998281,0.2191876938004497,0.0993895790998067,0.0370755160001863,0.0514295161001427,0.0427899040005286,0.01639485889973,-0.0039456499998777,0.0],\"yaxis\":\"y\"},{\"hovertemplate\":\"color=Fe<br>x=%{x}<br>y=%{y}<extra></extra>\",\"legendgroup\":\"Fe\",\"marker\":{\"color\":\"#00cc96\",\"symbol\":\"circle\"},\"mode\":\"markers\",\"name\":\"Fe\",\"showlegend\":true,\"type\":\"scattergl\",\"x\":[30.0,35.0,40.0,45.0,50.0,55.0,60.0,65.0,70.0,75.0,80.0,90.0,100.0,120.0,140.0,150.0,160.0,180.0,200.0],\"xaxis\":\"x\",\"y\":[-4021.2279232403,-4446.6268141198,-4977.8891432945,-5501.8695021556,-5680.1609355545,-5690.3111897502,-5685.7172279399,-5700.5326017199,-5721.2417570702,-5726.8866224997,-5734.7739100253,-5737.2954528693,-5738.8575903753,-5740.4457147352,0.0,-5738.4930938954,0.0,0.0,0.0],\"yaxis\":\"y\"},{\"hovertemplate\":\"color=Ga<br>x=%{x}<br>y=%{y}<extra></extra>\",\"legendgroup\":\"Ga\",\"marker\":{\"color\":\"#ab63fa\",\"symbol\":\"circle\"},\"mode\":\"markers\",\"name\":\"Ga\",\"showlegend\":true,\"type\":\"scattergl\",\"x\":[30.0,35.0,40.0,45.0,50.0,55.0,60.0,65.0,70.0,75.0,80.0,90.0,100.0,120.0,150.0,200.0],\"xaxis\":\"x\",\"y\":[271.4425126701001,185.67809948490003,78.7664957129,20.059636635299967,9.245849860199996,8.385834077600066,6.733762964800008,3.659318812399988,1.6191283324999404,1.0904961950000145,0.9360375802000362,0.8175490001999606,0.2871821374999399,0.1600879650000024,0.0260719002001224,0.0],\"yaxis\":\"y\"},{\"hovertemplate\":\"color=Gd<br>x=%{x}<br>y=%{y}<extra></extra>\",\"legendgroup\":\"Gd\",\"marker\":{\"color\":\"#FFA15A\",\"symbol\":\"circle\"},\"mode\":\"markers\",\"name\":\"Gd\",\"showlegend\":true,\"type\":\"scattergl\",\"x\":[30.0,35.0,40.0,45.0,50.0,55.0,60.0,65.0,70.0,75.0,80.0,90.0,100.0,120.0,150.0,200.0],\"xaxis\":\"x\",\"y\":[8.966422961700118,2.800663612100834,1.1711099168005603,1.032876088100238,1.569076402100109,1.3737666977003755,0.8649818546000461,0.4145654302001276,0.1438801891008552,0.0487083789003008,0.030748866200156,0.0292522354002358,0.0358509978004804,0.02108882380071,0.0029252241001813,0.0],\"yaxis\":\"y\"},{\"hovertemplate\":\"color=Ge<br>x=%{x}<br>y=%{y}<extra></extra>\",\"legendgroup\":\"Ge\",\"marker\":{\"color\":\"#19d3f3\",\"symbol\":\"circle\"},\"mode\":\"markers\",\"name\":\"Ge\",\"showlegend\":true,\"type\":\"scattergl\",\"x\":[30.0,35.0,40.0,45.0,50.0,55.0,60.0,65.0,70.0,75.0,80.0,90.0,100.0,120.0,150.0,200.0],\"xaxis\":\"x\",\"y\":[1.2575740893998957,-1.139068515300096,-0.9143705051001234,-0.0473478003000309,-0.8755942902998868,-0.9330783405002876,-0.3582378652999978,-0.1417032754002321,-0.1715677699003208,-0.3058559500000228,-0.3803471148999051,-0.0996616900001754,-0.1135394900002211,-0.0410891903002266,0.0004081748998032,0.0],\"yaxis\":\"y\"},{\"hovertemplate\":\"color=H<br>x=%{x}<br>y=%{y}<extra></extra>\",\"legendgroup\":\"H\",\"marker\":{\"color\":\"#FF6692\",\"symbol\":\"circle\"},\"mode\":\"markers\",\"name\":\"H\",\"showlegend\":true,\"type\":\"scattergl\",\"x\":[30.0,35.0,40.0,45.0,50.0,55.0,60.0,65.0,70.0,75.0,80.0,90.0,100.0,120.0,150.0,200.0],\"xaxis\":\"x\",\"y\":[14.008556257299915,6.251509219800028,2.7127368305000346,1.0935574723998798,0.496641762299987,0.243439839200164,0.1524177616001907,0.1205464286999813,0.1040495275001376,0.0954439275001277,0.0861240285998974,0.0516336001001036,0.0229255905001082,0.0036395225001797,0.0022109248998276,0.0],\"yaxis\":\"y\"},{\"hovertemplate\":\"color=He<br>x=%{x}<br>y=%{y}<extra></extra>\",\"legendgroup\":\"He\",\"marker\":{\"color\":\"#B6E880\",\"symbol\":\"circle\"},\"mode\":\"markers\",\"name\":\"He\",\"showlegend\":true,\"type\":\"scattergl\",\"x\":[30.0,35.0,40.0,45.0,50.0,55.0,60.0,65.0,70.0,75.0,80.0,90.0,100.0,120.0,150.0,200.0],\"xaxis\":\"x\",\"y\":[2.0544594506,-0.322522922400001,0.0155785168999997,-0.0274834974000004,0.0059184760999997,0.0098641265000001,0.0091158133999993,0.0097280697999995,0.0087076428999992,0.0073470738000001,0.0074151022999995,0.0075511590000001,0.0061225613999997,0.0036055081999997,0.0015646544999992,0.0],\"yaxis\":\"y\"},{\"hovertemplate\":\"color=Hf<br>x=%{x}<br>y=%{y}<extra></extra>\",\"legendgroup\":\"Hf\",\"marker\":{\"color\":\"#FF97FF\",\"symbol\":\"circle\"},\"mode\":\"markers\",\"name\":\"Hf\",\"showlegend\":true,\"type\":\"scattergl\",\"x\":[30.0,35.0,40.0,45.0,50.0,55.0,60.0,65.0,70.0,75.0,80.0,90.0,100.0,120.0,140.0,150.0,160.0,200.0],\"xaxis\":\"x\",\"y\":[-29.82816614010062,-13.958283220100384,1.3000918751995414,1.4740406450000592,0.6877677248994587,0.3778980951992707,0.3774218950993599,0.3871499603001211,0.3258563250992665,0.258372089999284,0.224834059999921,0.2378955301001042,0.2435418851000577,0.1338800152998374,5582.3047189651,0.05639559500014,5582.3047189651,0.0],\"yaxis\":\"y\"},{\"hovertemplate\":\"color=Hg<br>x=%{x}<br>y=%{y}<extra></extra>\",\"legendgroup\":\"Hg\",\"marker\":{\"color\":\"#FECB52\",\"symbol\":\"circle\"},\"mode\":\"markers\",\"name\":\"Hg\",\"showlegend\":true,\"type\":\"scattergl\",\"x\":[30.0,35.0,40.0,45.0,50.0,55.0,60.0,65.0,70.0,75.0,80.0,90.0,100.0,120.0,140.0,150.0,160.0,200.0],\"xaxis\":\"x\",\"y\":[6.63971361519998,-33.28101858460002,2.622973274799961,0.5179006493999623,0.0654433743000026,0.0238779848999683,0.031293084299989,0.0273474397999962,0.0249664353999605,0.01979627999998,0.0114968052000108,-0.0009524056000032,-0.0003401454999902,-0.0006802856000263,396.7372950849,0.0006802847999551,396.7372950849,0.0],\"yaxis\":\"y\"},{\"hovertemplate\":\"color=Ho<br>x=%{x}<br>y=%{y}<extra></extra>\",\"legendgroup\":\"Ho\",\"marker\":{\"color\":\"#636efa\",\"symbol\":\"circle\"},\"mode\":\"markers\",\"name\":\"Ho\",\"showlegend\":true,\"type\":\"scattergl\",\"x\":[30.0,35.0,40.0,45.0,50.0,55.0,60.0,65.0,70.0,75.0,80.0,90.0,100.0,120.0,150.0,200.0],\"xaxis\":\"x\",\"y\":[3.515710711300017,0.4868116666002606,0.8636212860001251,0.631304116699539,0.9687252412995804,1.12682339660023,0.8498795140994844,0.3523193689998152,0.1097979537998981,-0.0342863822997969,0.0180955548003112,0.0265310755003156,0.03013658259988,0.0058504282997091,0.0223813639995569,0.0],\"yaxis\":\"y\"},{\"hovertemplate\":\"color=I<br>x=%{x}<br>y=%{y}<extra></extra>\",\"legendgroup\":\"I\",\"marker\":{\"color\":\"#EF553B\",\"symbol\":\"circle\"},\"mode\":\"markers\",\"name\":\"I\",\"showlegend\":true,\"type\":\"scattergl\",\"x\":[30.0,35.0,40.0,45.0,50.0,55.0,60.0,65.0,70.0,75.0,80.0,90.0,100.0,120.0,150.0,200.0],\"xaxis\":\"x\",\"y\":[0.6670870651998939,-0.0587085496999861,-0.1335568704000707,0.1020937151999987,0.0282318177999059,0.0278576671998962,0.0470586855999499,-0.0248644019000039,0.0452729472999635,-0.0091668226000365,0.0045749201999569,0.0058504501998868,0.0086396176000107,0.0084185231000901,0.0089287378000335,0.0],\"yaxis\":\"y\"},{\"hovertemplate\":\"color=In<br>x=%{x}<br>y=%{y}<extra></extra>\",\"legendgroup\":\"In\",\"marker\":{\"color\":\"#00cc96\",\"symbol\":\"circle\"},\"mode\":\"markers\",\"name\":\"In\",\"showlegend\":true,\"type\":\"scattergl\",\"x\":[30.0,35.0,40.0,45.0,50.0,55.0,60.0,65.0,70.0,75.0,80.0,90.0,100.0,120.0,150.0,200.0],\"xaxis\":\"x\",\"y\":[18.58483067499992,2.716104245099814,1.0334203249999518,0.0647630949999893,0.0622460499998851,0.2230653198998879,-0.2927944852001474,-0.0508852750001551,-0.010612440099976,-0.1513633148999815,-0.0559193852000134,-0.0659875999999712,-0.0032653552000283,-0.0051701552001759,-0.0123811698999816,0.0],\"yaxis\":\"y\"},{\"hovertemplate\":\"color=Ir<br>x=%{x}<br>y=%{y}<extra></extra>\",\"legendgroup\":\"Ir\",\"marker\":{\"color\":\"#ab63fa\",\"symbol\":\"circle\"},\"mode\":\"markers\",\"name\":\"Ir\",\"showlegend\":true,\"type\":\"scattergl\",\"x\":[30.0,35.0,40.0,45.0,50.0,55.0,60.0,65.0,70.0,75.0,80.0,90.0,100.0,120.0,150.0,200.0],\"xaxis\":\"x\",\"y\":[2.430180635200486,-2.2049383973999284,-4.345725967199542,-3.166146504999233,-4.336576132099253,-2.455113057299968,-2.914135082399298,-1.9787777896999612,-1.728943267199611,-1.7044190098995389,-1.6653366624996124,-1.4313527799995427,-1.488326614899961,-1.1681506748991524,-0.4152457072996185,0.0],\"yaxis\":\"y\"},{\"hovertemplate\":\"color=K<br>x=%{x}<br>y=%{y}<extra></extra>\",\"legendgroup\":\"K\",\"marker\":{\"color\":\"#FFA15A\",\"symbol\":\"circle\"},\"mode\":\"markers\",\"name\":\"K\",\"showlegend\":true,\"type\":\"scattergl\",\"x\":[30.0,35.0,40.0,45.0,50.0,55.0,60.0,65.0,70.0,75.0,80.0,90.0,100.0,120.0,150.0,200.0],\"xaxis\":\"x\",\"y\":[-506.8492466801,-505.4994259949,-511.7221931950001,-509.7678716349,-511.581374285,-512.218596855,-511.85893040020005,-511.982470075,-512.1553984199,-512.1300918349,-512.03471594,-512.14703092,-512.14192878,-512.1925419651,0.0,0.0],\"yaxis\":\"y\"},{\"hovertemplate\":\"color=Kr<br>x=%{x}<br>y=%{y}<extra></extra>\",\"legendgroup\":\"Kr\",\"marker\":{\"color\":\"#19d3f3\",\"symbol\":\"circle\"},\"mode\":\"markers\",\"name\":\"Kr\",\"showlegend\":true,\"type\":\"scattergl\",\"x\":[30.0,35.0,40.0,45.0,50.0,55.0,60.0,65.0,70.0,75.0,80.0,90.0,100.0,120.0,150.0,200.0],\"xaxis\":\"x\",\"y\":[0.106702635999909,0.061123569499955,0.006054532500002,0.0103063104999137,0.0148302044999582,0.0119730079999271,0.0037755794999156,0.0061225623999234,-0.0021088835,-0.0027211390000729,-0.0008503560000008,0.0037755794999156,0.0029592374999083,0.0023469824999438,0.0010884544999498,0.0],\"yaxis\":\"y\"},{\"hovertemplate\":\"color=La<br>x=%{x}<br>y=%{y}<extra></extra>\",\"legendgroup\":\"La\",\"marker\":{\"color\":\"#FF6692\",\"symbol\":\"circle\"},\"mode\":\"markers\",\"name\":\"La\",\"showlegend\":true,\"type\":\"scattergl\",\"x\":[30.0,35.0,40.0,45.0,50.0,55.0,60.0,65.0,70.0,75.0,80.0,90.0,100.0,120.0,150.0,200.0],\"xaxis\":\"x\",\"y\":[15.149461537799652,3.774831142000039,1.918606621499748,1.871054728800118,1.7958832822996555,1.3194119528998272,0.8282464897993123,0.4330011409992949,0.2049697490992912,0.1106142735998219,0.0734027061998858,0.0742190517994458,0.0744911639994825,0.0067348191996643,0.007891299399489,0.0],\"yaxis\":\"y\"},{\"hovertemplate\":\"color=Li<br>x=%{x}<br>y=%{y}<extra></extra>\",\"legendgroup\":\"Li\",\"marker\":{\"color\":\"#B6E880\",\"symbol\":\"circle\"},\"mode\":\"markers\",\"name\":\"Li\",\"showlegend\":true,\"type\":\"scattergl\",\"x\":[30.0,35.0,40.0,45.0,50.0,55.0,60.0,65.0,70.0,75.0,80.0,90.0,100.0,120.0,150.0,200.0],\"xaxis\":\"x\",\"y\":[-0.6039113040001212,-0.2629980217000138,-0.1794137214001239,-0.1814545754000391,-0.1804114724000101,-0.0853983916999823,-0.1082559537001088,-0.0679377537001073,-0.0973260480000135,-0.0983237990001271,-0.0474838641000587,-0.0401367911001671,-0.0239460174000214,-0.0248984160000418,0.0071203113000137,0.0],\"yaxis\":\"y\"},{\"hovertemplate\":\"color=Lu<br>x=%{x}<br>y=%{y}<extra></extra>\",\"legendgroup\":\"Lu\",\"marker\":{\"color\":\"#FF97FF\",\"symbol\":\"circle\"},\"mode\":\"markers\",\"name\":\"Lu\",\"showlegend\":true,\"type\":\"scattergl\",\"x\":[30.0,35.0,40.0,45.0,50.0,55.0,60.0,65.0,70.0,75.0,80.0,90.0,100.0,120.0,150.0,200.0],\"xaxis\":\"x\",\"y\":[19.34171531139964,4.542124115700062,2.4421536354993805,2.040173468300054,2.040853791199879,1.5860835473995394,0.9670925646996692,0.6407600695001747,0.1770101034999243,0.1337439671997344,-0.0056463950004399,0.0313611253995986,0.0477559824994386,0.035102728399579,0.0161908128993673,0.0],\"yaxis\":\"y\"},{\"hovertemplate\":\"color=Mg<br>x=%{x}<br>y=%{y}<extra></extra>\",\"legendgroup\":\"Mg\",\"marker\":{\"color\":\"#FECB52\",\"symbol\":\"circle\"},\"mode\":\"markers\",\"name\":\"Mg\",\"showlegend\":true,\"type\":\"scattergl\",\"x\":[30.0,35.0,40.0,45.0,50.0,55.0,60.0,65.0,70.0,75.0,80.0,90.0,100.0,120.0,150.0,200.0],\"xaxis\":\"x\",\"y\":[0.0825865485001031,0.0920425050001085,0.0382319939999433,0.0072790450001321,0.0102042690000416,0.009387927500029,0.0080953870001394,0.0073470740001084,0.0071429879999413,0.0044218499999715,0.0053742484999474,0.0043538214999898,0.0040817081001023,0.0012925405001169,0.0025170535000142,0.0],\"yaxis\":\"y\"},{\"hovertemplate\":\"color=Mn<br>x=%{x}<br>y=%{y}<extra></extra>\",\"legendgroup\":\"Mn\",\"marker\":{\"color\":\"#636efa\",\"symbol\":\"circle\"},\"mode\":\"markers\",\"name\":\"Mn\",\"showlegend\":true,\"type\":\"scattergl\",\"x\":[30.0,35.0,40.0,45.0,50.0,55.0,60.0,65.0,70.0,75.0,80.0,90.0,100.0,120.0,140.0,150.0,160.0,180.0,200.0],\"xaxis\":\"x\",\"y\":[41.031602905600266,6.0367093500999545,4.107864460300334,-0.3900071497000681,1.2732206205000691,7.173362855600317,1.0190662901004544,0.7318501402005495,2.566543660100251,13.550520644900644,19.26201995000065,6.371817535200535,1.0342026303005696,4.028577285200299,6362.4905253052,-0.2590183549000358,6362.4905253052,6362.4905253052,0.0],\"yaxis\":\"y\"},{\"hovertemplate\":\"color=Mo<br>x=%{x}<br>y=%{y}<extra></extra>\",\"legendgroup\":\"Mo\",\"marker\":{\"color\":\"#EF553B\",\"symbol\":\"circle\"},\"mode\":\"markers\",\"name\":\"Mo\",\"showlegend\":true,\"type\":\"scattergl\",\"x\":[30.0,35.0,40.0,45.0,50.0,55.0,60.0,65.0,70.0,75.0,80.0,90.0,100.0,120.0,150.0,200.0],\"xaxis\":\"x\",\"y\":[-0.3035429900010058,0.0722462150988576,-0.2363308749008865,0.1760576448996289,0.1832686650996038,-0.0005442350011435,-0.1474857048997364,-0.0923826501002622,-0.0875526350009749,-0.0516336049004166,-0.0400687649998872,0.0006802749994676,0.0008843600990076,0.005442269899504,0.0001360451988148,0.0],\"yaxis\":\"y\"},{\"hovertemplate\":\"color=Na<br>x=%{x}<br>y=%{y}<extra></extra>\",\"legendgroup\":\"Na\",\"marker\":{\"color\":\"#00cc96\",\"symbol\":\"circle\"},\"mode\":\"markers\",\"name\":\"Na\",\"showlegend\":true,\"type\":\"scattergl\",\"x\":[30.0,35.0,40.0,45.0,50.0,55.0,60.0,65.0,70.0,75.0,80.0,90.0,100.0,120.0,150.0,200.0],\"xaxis\":\"x\",\"y\":[4.850882616700005,0.4065380631000153,0.5716658101000576,0.472026790100017,0.226444053199998,0.1913413765000768,0.1601843432999885,0.1073942566000596,-0.0057597533999569,-0.0624047798999072,-0.0469396466999114,-0.0395018700999116,-0.0915663098999175,-0.0622687267999708,-0.0236739068000133,0.0],\"yaxis\":\"y\"},{\"hovertemplate\":\"color=Nb<br>x=%{x}<br>y=%{y}<extra></extra>\",\"legendgroup\":\"Nb\",\"marker\":{\"color\":\"#ab63fa\",\"symbol\":\"circle\"},\"mode\":\"markers\",\"name\":\"Nb\",\"showlegend\":true,\"type\":\"scattergl\",\"x\":[30.0,35.0,40.0,45.0,50.0,55.0,60.0,65.0,70.0,75.0,80.0,90.0,100.0,120.0,150.0,200.0],\"xaxis\":\"x\",\"y\":[-21.70223478970001,-1.1493408101005116,-0.5621191594000265,-0.441232584300451,-0.1336759250998511,-0.2463990795004065,-0.0940833552003823,0.0570078509999802,0.0485042910995616,0.0230616460994497,0.0143540100998507,0.0159866903995862,6.802569987485185e-05,-0.0187078294002276,0.0067348109996601,0.0],\"yaxis\":\"y\"},{\"hovertemplate\":\"color=Nd<br>x=%{x}<br>y=%{y}<extra></extra>\",\"legendgroup\":\"Nd\",\"marker\":{\"color\":\"#FFA15A\",\"symbol\":\"circle\"},\"mode\":\"markers\",\"name\":\"Nd\",\"showlegend\":true,\"type\":\"scattergl\",\"x\":[30.0,35.0,40.0,45.0,50.0,55.0,60.0,65.0,70.0,75.0,80.0,90.0,100.0,120.0,150.0,200.0],\"xaxis\":\"x\",\"y\":[12.334239832500316,4.049802171100055,1.6730919112997071,1.623703248599668,1.8243191719002425,1.4814557421996142,0.934506934700039,0.4641581705000135,0.2176910637999753,0.0959881536000466,0.0671440910000455,0.0706135416003235,0.0772122980997664,0.0282998339998812,0.0274834996998833,0.0],\"yaxis\":\"y\"},{\"hovertemplate\":\"color=Ne<br>x=%{x}<br>y=%{y}<extra></extra>\",\"legendgroup\":\"Ne\",\"marker\":{\"color\":\"#19d3f3\",\"symbol\":\"circle\"},\"mode\":\"markers\",\"name\":\"Ne\",\"showlegend\":true,\"type\":\"scattergl\",\"x\":[30.0,35.0,40.0,45.0,50.0,55.0,60.0,65.0,70.0,75.0,80.0,90.0,100.0,120.0,140.0,150.0,160.0,180.0,200.0],\"xaxis\":\"x\",\"y\":[4.097115964900013,-0.5319485315000065,0.016156760000058,0.0461573114999964,-0.0127553349000208,0.1251383500000429,0.0733686940000097,0.0673481750000064,-0.0548309375000144,-0.0461232939999263,-0.0374156494000317,0.0059184765000281,0.0087416595000604,0.0056123484999943,684.446279579,0.0020748685000171,684.446279579,684.446279579,0.0],\"yaxis\":\"y\"},{\"hovertemplate\":\"color=Ni<br>x=%{x}<br>y=%{y}<extra></extra>\",\"legendgroup\":\"Ni\",\"marker\":{\"color\":\"#FF6692\",\"symbol\":\"circle\"},\"mode\":\"markers\",\"name\":\"Ni\",\"showlegend\":true,\"type\":\"scattergl\",\"x\":[30.0,35.0,40.0,45.0,50.0,55.0,60.0,65.0,70.0,75.0,80.0,90.0,100.0,120.0,150.0,200.0],\"xaxis\":\"x\",\"y\":[69.55722817469996,-4.927675400800581,3.140057599899592,1.6067981851001605,0.0505451598000945,1.6720715047995327,2.6436199250001664,2.7265126000002056,2.6200140599994484,1.7968356741994285,0.934030739699665,2.4450448653997228,1.7193172597999364,3.0045109150996723,4969.9722293846,0.0],\"yaxis\":\"y\"},{\"hovertemplate\":\"color=O<br>x=%{x}<br>y=%{y}<extra></extra>\",\"legendgroup\":\"O\",\"marker\":{\"color\":\"#B6E880\",\"symbol\":\"circle\"},\"mode\":\"markers\",\"name\":\"O\",\"showlegend\":true,\"type\":\"scattergl\",\"x\":[30.0,35.0,40.0,45.0,50.0,55.0,60.0,65.0,70.0,75.0,80.0,90.0,100.0,120.0,140.0,150.0,160.0,200.0],\"xaxis\":\"x\",\"y\":[-42.79952650430005,-12.10290905940019,3.6142159495998394,3.1482550206997075,2.3633426650999354,1.467203781599892,1.0257671131998904,0.5277307670999107,0.0415313725998203,0.049252603199875,0.2275211775995558,0.049524717699569,0.1708194586999525,0.0707495960996311,3691.8049763806,0.0162247874995955,3691.8049763806,0.0],\"yaxis\":\"y\"},{\"hovertemplate\":\"color=Os<br>x=%{x}<br>y=%{y}<extra></extra>\",\"legendgroup\":\"Os\",\"marker\":{\"color\":\"#FF97FF\",\"symbol\":\"circle\"},\"mode\":\"markers\",\"name\":\"Os\",\"showlegend\":true,\"type\":\"scattergl\",\"x\":[30.0,35.0,40.0,45.0,50.0,55.0,60.0,65.0,70.0,75.0,80.0,90.0,100.0,120.0,150.0,200.0],\"xaxis\":\"x\",\"y\":[-26.937568899500548,-4.150144139701297,-0.0129254045004927,-1.1296805891997792,-0.1783025896002072,-0.2085072242007299,-0.3907554647012148,-0.3319108446012251,-0.4585798397001781,-0.5215061647013499,-0.5240912446006405,9057.1864806204,9057.1864806204,9057.1864806204,-0.1826564098009839,0.0],\"yaxis\":\"y\"},{\"hovertemplate\":\"color=P<br>x=%{x}<br>y=%{y}<extra></extra>\",\"legendgroup\":\"P\",\"marker\":{\"color\":\"#FECB52\",\"symbol\":\"circle\"},\"mode\":\"markers\",\"name\":\"P\",\"showlegend\":true,\"type\":\"scattergl\",\"x\":[30.0,35.0,40.0,45.0,50.0,55.0,60.0,65.0,70.0,75.0,80.0,90.0,100.0,120.0,150.0,200.0],\"xaxis\":\"x\",\"y\":[0.5731907853996745,0.376860653699623,0.3586970553997162,0.3016041706996475,0.1852755072000036,0.1166347925000081,0.1116687157000342,0.1055631614999583,0.0919064473996513,0.071548931399775,0.052705048000007,0.038214987199808,0.0222453056999256,0.0098131054996883,0.0059184763999837,0.0],\"yaxis\":\"y\"},{\"hovertemplate\":\"color=Pb<br>x=%{x}<br>y=%{y}<extra></extra>\",\"legendgroup\":\"Pb\",\"marker\":{\"color\":\"#636efa\",\"symbol\":\"circle\"},\"mode\":\"markers\",\"name\":\"Pb\",\"showlegend\":true,\"type\":\"scattergl\",\"x\":[30.0,35.0,40.0,45.0,50.0,55.0,60.0,65.0,70.0,75.0,80.0,90.0,100.0,120.0,150.0,200.0],\"xaxis\":\"x\",\"y\":[24.809672675399725,4.159089874499841,1.7199975263997658,1.453155924499697,0.8597096765997776,0.3348020253997674,0.1182675022996591,0.1675881266996839,0.0711917254998297,0.112246901999697,0.0183676747997196,0.0296263769996585,0.0074150757000097,0.0303747255998132,0.0016326247996403,0.0],\"yaxis\":\"y\"},{\"hovertemplate\":\"color=Pd<br>x=%{x}<br>y=%{y}<extra></extra>\",\"legendgroup\":\"Pd\",\"marker\":{\"color\":\"#EF553B\",\"symbol\":\"circle\"},\"mode\":\"markers\",\"name\":\"Pd\",\"showlegend\":true,\"type\":\"scattergl\",\"x\":[30.0,35.0,40.0,45.0,50.0,55.0,60.0,65.0,70.0,75.0,80.0,90.0,100.0,120.0,150.0,200.0],\"xaxis\":\"x\",\"y\":[-155.26808591989993,-50.19527438980003,2.8641341801003364,0.2878964401006669,-0.2204462148001766,-0.3825239945999783,-0.4238853247998122,-0.3847009151995735,-0.3751089101997422,-0.3455505451993304,-0.2744948150993878,-0.0721441801997571,-0.0131294949997027,-0.0061905797992949,6.804019994888222e-05,0.0],\"yaxis\":\"y\"},{\"hovertemplate\":\"color=Pm<br>x=%{x}<br>y=%{y}<extra></extra>\",\"legendgroup\":\"Pm\",\"marker\":{\"color\":\"#00cc96\",\"symbol\":\"circle\"},\"mode\":\"markers\",\"name\":\"Pm\",\"showlegend\":true,\"type\":\"scattergl\",\"x\":[30.0,35.0,40.0,45.0,50.0,55.0,60.0,65.0,70.0,75.0,80.0,90.0,100.0,120.0,150.0,200.0],\"xaxis\":\"x\",\"y\":[11.1658510579,3.649114551799357,1.4573056416993495,1.3871683039997151,1.7438415122996958,1.4141075727002317,0.9047104744995522,0.430416060799871,0.1919763143996533,0.0752394788996753,0.0617018115999599,0.0537424871999974,0.028027729099449,0.0278916695997395,-0.0081634153002596,0.0],\"yaxis\":\"y\"},{\"hovertemplate\":\"color=Po<br>x=%{x}<br>y=%{y}<extra></extra>\",\"legendgroup\":\"Po\",\"marker\":{\"color\":\"#ab63fa\",\"symbol\":\"circle\"},\"mode\":\"markers\",\"name\":\"Po\",\"showlegend\":true,\"type\":\"scattergl\",\"x\":[30.0,35.0,40.0,45.0,50.0,55.0,60.0,65.0,70.0,75.0,80.0,90.0,100.0,120.0,140.0,150.0,160.0,200.0],\"xaxis\":\"x\",\"y\":[86.04443533020003,-88.34066790999987,2.37106390020017,-4.681854579799847,-3.4113550897000096,-0.2862637497999003,-1.476217549699868,-2.114188430000013,-1.3597528295999837,0.0127893599001254,-0.502594249699996,-0.9630108497999572,-0.0066667798998878,0.061361680300024,1923.0522967602,0.1315670400999806,1923.0522967602,0.0],\"yaxis\":\"y\"},{\"hovertemplate\":\"color=Pr<br>x=%{x}<br>y=%{y}<extra></extra>\",\"legendgroup\":\"Pr\",\"marker\":{\"color\":\"#FFA15A\",\"symbol\":\"circle\"},\"mode\":\"markers\",\"name\":\"Pr\",\"showlegend\":true,\"type\":\"scattergl\",\"x\":[30.0,35.0,40.0,45.0,50.0,55.0,60.0,65.0,70.0,75.0,80.0,90.0,100.0,120.0,150.0,200.0],\"xaxis\":\"x\",\"y\":[13.825559707999671,4.197764072199789,1.7896926969997369,1.664792438999939,1.849557737399664,1.5232932527997036,0.9765485246998652,0.5204857456992613,0.230616479299897,0.1174171238999406,0.0661916914996254,0.0668039519996455,0.0689808588995219,0.0251705295995634,0.0162588052999126,0.0],\"yaxis\":\"y\"},{\"hovertemplate\":\"color=Pt<br>x=%{x}<br>y=%{y}<extra></extra>\",\"legendgroup\":\"Pt\",\"marker\":{\"color\":\"#19d3f3\",\"symbol\":\"circle\"},\"mode\":\"markers\",\"name\":\"Pt\",\"showlegend\":true,\"type\":\"scattergl\",\"x\":[30.0,35.0,40.0,45.0,50.0,55.0,60.0,65.0,70.0,75.0,80.0,90.0,100.0,120.0,150.0,200.0],\"xaxis\":\"x\",\"y\":[-3.152608834999228,-1.8846604002001184,-1.7957132098999864,-3.165228114999991,-1.1114489547999256,-2.335212895100085,-0.9554256798001006,-0.9386226551996516,-0.6494677000000593,-0.3687142247999873,-0.3336455646995091,-0.3422851845998593,-0.4102796196993949,-0.4332732495995515,-0.0802395597993381,0.0],\"yaxis\":\"y\"},{\"hovertemplate\":\"color=Rb<br>x=%{x}<br>y=%{y}<extra></extra>\",\"legendgroup\":\"Rb\",\"marker\":{\"color\":\"#FF6692\",\"symbol\":\"circle\"},\"mode\":\"markers\",\"name\":\"Rb\",\"showlegend\":true,\"type\":\"scattergl\",\"x\":[30.0,35.0,40.0,45.0,50.0,55.0,60.0,65.0,70.0,75.0,80.0,90.0,100.0,120.0,150.0,200.0],\"xaxis\":\"x\",\"y\":[-396.686341772,-396.6989950661,-396.702804658,-396.7109680719,-396.716614434,-396.71641035,-396.718451207,-396.717634864,-396.721104316,-396.721920656,-396.72001586,-396.720900229,-396.7206281161,-396.7201519169,0.0,0.0],\"yaxis\":\"y\"},{\"hovertemplate\":\"color=Re<br>x=%{x}<br>y=%{y}<extra></extra>\",\"legendgroup\":\"Re\",\"marker\":{\"color\":\"#B6E880\",\"symbol\":\"circle\"},\"mode\":\"markers\",\"name\":\"Re\",\"showlegend\":true,\"type\":\"scattergl\",\"x\":[30.0,35.0,40.0,45.0,50.0,55.0,60.0,65.0,70.0,75.0,80.0,90.0,100.0,120.0,150.0,200.0],\"xaxis\":\"x\",\"y\":[-0.3950412602007418,-0.4361304505000589,0.9458676844988076,1.2864181493987417,1.1986614444995212,0.5965415543996642,-0.2509569804005878,-0.3889867202997266,-0.3368769253011123,-0.2393921500006399,-0.1588464507003664,9481.9535231747,9481.9535231747,9481.9535231747,0.0399327044997335,0.0],\"yaxis\":\"y\"},{\"hovertemplate\":\"color=Rh<br>x=%{x}<br>y=%{y}<extra></extra>\",\"legendgroup\":\"Rh\",\"marker\":{\"color\":\"#FF97FF\",\"symbol\":\"circle\"},\"mode\":\"markers\",\"name\":\"Rh\",\"showlegend\":true,\"type\":\"scattergl\",\"x\":[30.0,35.0,40.0,45.0,50.0,55.0,60.0,65.0,70.0,75.0,80.0,90.0,100.0,120.0,150.0,200.0],\"xaxis\":\"x\",\"y\":[-0.0862260750000132,-2.0167036705006467,-2.677055895200283,-2.6406947000004948,-2.505828260400449,-2.0601058199999898,-1.4354344952998872,-0.7315780604003521,-0.213031130499985,-0.0769401854004172,-0.0443205354004021,-0.0248644001003413,-0.0024150050003299,3.400959940336179e-05,-6.802520056226058e-05,0.0],\"yaxis\":\"y\"},{\"hovertemplate\":\"color=Rn<br>x=%{x}<br>y=%{y}<extra></extra>\",\"legendgroup\":\"Rn\",\"marker\":{\"color\":\"#FECB52\",\"symbol\":\"circle\"},\"mode\":\"markers\",\"name\":\"Rn\",\"showlegend\":true,\"type\":\"scattergl\",\"x\":[30.0,35.0,40.0,45.0,50.0,55.0,60.0,65.0,70.0,75.0,80.0,90.0,100.0,120.0,150.0,200.0],\"xaxis\":\"x\",\"y\":[191.92933667359995,-110.92268072570003,15.12452919989994,1.9412261498999897,-0.0930289243000288,-0.1853435006000836,0.3339857484999129,0.3184072501999253,-0.2281673770000907,-0.2220788993000724,-0.061191574800091,0.0417355239999324,-0.0292862497000214,0.0098981744999946,697.2821272995,0.0],\"yaxis\":\"y\"},{\"hovertemplate\":\"color=Ru<br>x=%{x}<br>y=%{y}<extra></extra>\",\"legendgroup\":\"Ru\",\"marker\":{\"color\":\"#636efa\",\"symbol\":\"circle\"},\"mode\":\"markers\",\"name\":\"Ru\",\"showlegend\":true,\"type\":\"scattergl\",\"x\":[30.0,35.0,40.0,45.0,50.0,55.0,60.0,65.0,70.0,75.0,80.0,90.0,100.0,120.0,150.0,200.0],\"xaxis\":\"x\",\"y\":[-6.7685595200000535,-0.0004762000999107,-0.3136792201994467,-0.540962309999486,-0.5338193150000734,-0.4713691900997219,-0.3495302198998615,-0.1993233900002451,-0.0775524450000375,-0.0270753303002493,-0.0172792351995667,-0.0067348150996622,0.0053742401005365,0.0013605650001409,0.0013605700005427,0.0],\"yaxis\":\"y\"},{\"hovertemplate\":\"color=S<br>x=%{x}<br>y=%{y}<extra></extra>\",\"legendgroup\":\"S\",\"marker\":{\"color\":\"#EF553B\",\"symbol\":\"circle\"},\"mode\":\"markers\",\"name\":\"S\",\"showlegend\":true,\"type\":\"scattergl\",\"x\":[30.0,35.0,40.0,45.0,50.0,55.0,60.0,65.0,70.0,75.0,80.0,90.0,100.0,120.0,150.0,200.0],\"xaxis\":\"x\",\"y\":[0.5914394189999257,0.0627222399998572,0.0292522370000369,-0.0020408539999152,0.0140138619999561,-0.0027211380001972,0.0020408539999152,0.0097960980001516,-0.0036735369999405,0.0031293100000766,0.0008163420002347,0.0034014230000138,-0.0016326830000252,0.0072110169999177,0.0004081709998899,0.0],\"yaxis\":\"y\"},{\"hovertemplate\":\"color=Sb<br>x=%{x}<br>y=%{y}<extra></extra>\",\"legendgroup\":\"Sb\",\"marker\":{\"color\":\"#00cc96\",\"symbol\":\"circle\"},\"mode\":\"markers\",\"name\":\"Sb\",\"showlegend\":true,\"type\":\"scattergl\",\"x\":[30.0,35.0,40.0,45.0,50.0,55.0,60.0,65.0,70.0,75.0,80.0,90.0,100.0,120.0,150.0,200.0],\"xaxis\":\"x\",\"y\":[-0.893553813500148,-3.815285400100038,-0.1443110302002423,-1.1032855467001357,-0.3829321998000523,0.0355108534999999,-0.4161527604001094,-0.449894883500292,-0.0148982334999345,-0.215015283500179,-0.4321848030999717,0.028073076399778,-0.1338119667002502,0.002358326400099,0.0202498000999185,0.0],\"yaxis\":\"y\"},{\"hovertemplate\":\"color=Sc<br>x=%{x}<br>y=%{y}<extra></extra>\",\"legendgroup\":\"Sc\",\"marker\":{\"color\":\"#ab63fa\",\"symbol\":\"circle\"},\"mode\":\"markers\",\"name\":\"Sc\",\"showlegend\":true,\"type\":\"scattergl\",\"x\":[30.0,35.0,40.0,45.0,50.0,55.0,60.0,65.0,70.0,75.0,80.0,90.0,100.0,120.0,150.0,200.0],\"xaxis\":\"x\",\"y\":[-3422.4255797851,-3360.1156614149,-3346.0698255701,-3344.9574242102,-3345.19538776,-3345.4144393999,-3345.4834202498,-3345.4813113699,-3345.503828795,-3345.5252577551,-3345.548931655,-3345.5751226102,-3345.5833540602,-3345.5941705852,0.0,0.0],\"yaxis\":\"y\"},{\"hovertemplate\":\"color=Se<br>x=%{x}<br>y=%{y}<extra></extra>\",\"legendgroup\":\"Se\",\"marker\":{\"color\":\"#FFA15A\",\"symbol\":\"circle\"},\"mode\":\"markers\",\"name\":\"Se\",\"showlegend\":true,\"type\":\"scattergl\",\"x\":[30.0,35.0,40.0,45.0,50.0,55.0,60.0,65.0,70.0,75.0,80.0,90.0,100.0,120.0,150.0,200.0],\"xaxis\":\"x\",\"y\":[1.4188015320000886,0.6179705190002096,0.0533796624999922,0.0516109244999825,-0.2084845490999214,0.0005895803001294,-0.0454430120998949,-0.0775524433997816,0.0261229293000724,-0.0010884547000387,-0.0160093633999167,0.0256694035001601,0.0088437009999324,0.0056236845998682,0.0004535244001999,0.0],\"yaxis\":\"y\"},{\"hovertemplate\":\"color=Si<br>x=%{x}<br>y=%{y}<extra></extra>\",\"legendgroup\":\"Si\",\"marker\":{\"color\":\"#19d3f3\",\"symbol\":\"circle\"},\"mode\":\"markers\",\"name\":\"Si\",\"showlegend\":true,\"type\":\"scattergl\",\"x\":[30.0,35.0,40.0,45.0,50.0,55.0,60.0,65.0,70.0,75.0,80.0,90.0,100.0,120.0,150.0,200.0],\"xaxis\":\"x\",\"y\":[0.6351817175000178,0.2183033239998622,0.271637635499701,0.1922484239998994,0.0297964649998903,-0.0006802850002713,-0.0005442275000859,0.0138097774997731,0.0226534759999594,0.016394857999785,0.0131975209997108,0.0257147564998376,0.0171431710000433,0.0214969929998005,0.0217010774999835,0.0],\"yaxis\":\"y\"},{\"hovertemplate\":\"color=Sm<br>x=%{x}<br>y=%{y}<extra></extra>\",\"legendgroup\":\"Sm\",\"marker\":{\"color\":\"#FF6692\",\"symbol\":\"circle\"},\"mode\":\"markers\",\"name\":\"Sm\",\"showlegend\":true,\"type\":\"scattergl\",\"x\":[30.0,35.0,40.0,45.0,50.0,55.0,60.0,65.0,70.0,75.0,80.0,90.0,100.0,120.0,150.0,200.0],\"xaxis\":\"x\",\"y\":[14.502714976499192,3.7576879667994953,1.4138354563992834,1.6167643425997085,1.8526190124994173,1.4685983623994616,0.9389287842996056,0.5170162848999098,0.2344940939992739,0.1114306132994897,0.042381725499581,0.0608174413991946,0.0687767687995801,0.018299654600014,0.0390483346991459,0.0],\"yaxis\":\"y\"},{\"hovertemplate\":\"color=Sn<br>x=%{x}<br>y=%{y}<extra></extra>\",\"legendgroup\":\"Sn\",\"marker\":{\"color\":\"#B6E880\",\"symbol\":\"circle\"},\"mode\":\"markers\",\"name\":\"Sn\",\"showlegend\":true,\"type\":\"scattergl\",\"x\":[30.0,35.0,40.0,45.0,50.0,55.0,60.0,65.0,70.0,75.0,80.0,90.0,100.0,120.0,150.0,200.0],\"xaxis\":\"x\",\"y\":[-3.672720425100124,-0.2786445652000111,-2.57889084010003,-0.1380977756002721,-0.5946367605001797,-0.6723252554002102,0.2395282044999476,-0.3519112101002974,-0.2565353152003808,0.1004780301996106,0.0210207899999659,0.04727978469964,-0.0364632501000414,0.0167350048996013,0.0134016094998514,0.0],\"yaxis\":\"y\"},{\"hovertemplate\":\"color=Sr<br>x=%{x}<br>y=%{y}<extra></extra>\",\"legendgroup\":\"Sr\",\"marker\":{\"color\":\"#FF97FF\",\"symbol\":\"circle\"},\"mode\":\"markers\",\"name\":\"Sr\",\"showlegend\":true,\"type\":\"scattergl\",\"x\":[30.0,35.0,40.0,45.0,50.0,55.0,60.0,65.0,70.0,75.0,80.0,90.0,100.0,120.0],\"xaxis\":\"x\",\"y\":[0.8133822648999285,-0.0672801456000797,0.1015324749998853,-0.0411572171001353,-0.1171109920001072,-0.0968725249999806,-0.0375857230001202,-0.0768381435000264,-0.0446946980000575,-0.0053062189999764,-0.0196262105000641,-0.0026531109999723,-0.008299471500095,0.0],\"yaxis\":\"y\"},{\"hovertemplate\":\"color=Ta<br>x=%{x}<br>y=%{y}<extra></extra>\",\"legendgroup\":\"Ta\",\"marker\":{\"color\":\"#FECB52\",\"symbol\":\"circle\"},\"mode\":\"markers\",\"name\":\"Ta\",\"showlegend\":true,\"type\":\"scattergl\",\"x\":[30.0,35.0,40.0,45.0,50.0,55.0,60.0,65.0,70.0,75.0,80.0,90.0,100.0,120.0,150.0,200.0],\"xaxis\":\"x\",\"y\":[-3.4535327301000507,-2.961006695099968,-2.315824794999571,-0.5759969598993848,-0.4481034651998925,-0.3717755349998697,0.0402728449998903,-0.146601329999612,-0.0631304100998022,0.0628582950002965,-0.028503930199804,0.0102722900001026,-0.0359190351000506,7696.347643275,0.0085035550000611,0.0],\"yaxis\":\"y\"},{\"hovertemplate\":\"color=Tb<br>x=%{x}<br>y=%{y}<extra></extra>\",\"legendgroup\":\"Tb\",\"marker\":{\"color\":\"#636efa\",\"symbol\":\"circle\"},\"mode\":\"markers\",\"name\":\"Tb\",\"showlegend\":true,\"type\":\"scattergl\",\"x\":[30.0,35.0,40.0,45.0,50.0,55.0,60.0,65.0,70.0,75.0,80.0,90.0,100.0,120.0,150.0,200.0],\"xaxis\":\"x\",\"y\":[5.817657706799764,1.33029649170021,1.009134150999671,0.7229383881995091,1.1792052820001118,1.2156005069000455,0.8928054694997627,0.385653294900294,0.137145369099926,0.0033333536002828,0.031429105600182,0.0483682006997696,0.0578922235999925,0.0109525735997522,-0.0053742906002298,0.0],\"yaxis\":\"y\"},{\"hovertemplate\":\"color=Tc<br>x=%{x}<br>y=%{y}<extra></extra>\",\"legendgroup\":\"Tc\",\"marker\":{\"color\":\"#EF553B\",\"symbol\":\"circle\"},\"mode\":\"markers\",\"name\":\"Tc\",\"showlegend\":true,\"type\":\"scattergl\",\"x\":[30.0,35.0,40.0,45.0,50.0,55.0,60.0,65.0,70.0,75.0,80.0,90.0,100.0,120.0,150.0,200.0],\"xaxis\":\"x\",\"y\":[2.0224860850003097,1.3175751900998875,0.012449210300474,-0.0841512000997681,-0.1885748797994892,-0.1877585400998214,-0.194561389899718,-0.0935391248995074,-0.0302726598993103,-0.0164628796001125,-0.0121090548000211,0.0047619951001252,0.0069389052005135,0.0033334054005536,0.0010204303007412,0.0],\"yaxis\":\"y\"},{\"hovertemplate\":\"color=Te<br>x=%{x}<br>y=%{y}<extra></extra>\",\"legendgroup\":\"Te\",\"marker\":{\"color\":\"#00cc96\",\"symbol\":\"circle\"},\"mode\":\"markers\",\"name\":\"Te\",\"showlegend\":true,\"type\":\"scattergl\",\"x\":[30.0,35.0,40.0,45.0,50.0,55.0,60.0,65.0,70.0,75.0,80.0,90.0,100.0,120.0,150.0,200.0],\"xaxis\":\"x\",\"y\":[2.7175101612997423,2.577507592399797,2.521678904399778,2.4650792279999223,2.4033547389999512,2.3791366056998413,2.385259170399877,2.385077758999614,2.363172594999924,2.3386369986997124,2.3514717012999427,2.35981652369992,2.3472085859998515,2.34503167369985,2.2785451919999105,0.0],\"yaxis\":\"y\"},{\"hovertemplate\":\"color=Ti<br>x=%{x}<br>y=%{y}<extra></extra>\",\"legendgroup\":\"Ti\",\"marker\":{\"color\":\"#ab63fa\",\"symbol\":\"circle\"},\"mode\":\"markers\",\"name\":\"Ti\",\"showlegend\":true,\"type\":\"scattergl\",\"x\":[30.0,35.0,40.0,45.0,50.0,55.0,60.0,65.0,70.0,75.0,80.0,90.0,100.0,120.0,150.0,200.0],\"xaxis\":\"x\",\"y\":[-4727.6025798799,-4727.47706737,-4728.20395145,-4728.4379013201,-4728.2161965702,-4727.4132566799,-4728.2108223298,-4728.6695382199,-4728.54354952,-4727.9731308949,-4727.7131261251,-4728.02054673,-4727.28107738,-4727.5003331051,0.0,0.0],\"yaxis\":\"y\"},{\"hovertemplate\":\"color=Tl<br>x=%{x}<br>y=%{y}<extra></extra>\",\"legendgroup\":\"Tl\",\"marker\":{\"color\":\"#FFA15A\",\"symbol\":\"circle\"},\"mode\":\"markers\",\"name\":\"Tl\",\"showlegend\":true,\"type\":\"scattergl\",\"x\":[30.0,35.0,40.0,45.0,50.0,55.0,60.0,65.0,70.0,75.0,80.0,90.0,100.0,120.0,150.0,200.0],\"xaxis\":\"x\",\"y\":[-1.6128867150998758,-3.041552384999932,-0.7948445100000754,-1.285193634899997,-0.1964661851000073,-1.3213167450999208,-1.431454819999999,-0.6157255749999422,-0.4421849701000155,-1.1289322651998646,-0.95076573489996,-0.2050377650000427,-0.6568147648999911,-0.4415046848998827,-0.0327897048998693,0.0],\"yaxis\":\"y\"},{\"hovertemplate\":\"color=Tm<br>x=%{x}<br>y=%{y}<extra></extra>\",\"legendgroup\":\"Tm\",\"marker\":{\"color\":\"#19d3f3\",\"symbol\":\"circle\"},\"mode\":\"markers\",\"name\":\"Tm\",\"showlegend\":true,\"type\":\"scattergl\",\"x\":[30.0,35.0,40.0,45.0,50.0,55.0,60.0,65.0,70.0,75.0,80.0,90.0,100.0,120.0,150.0,200.0],\"xaxis\":\"x\",\"y\":[6.8890379123004095,1.8107815167004448,0.8540973362005388,0.6250455176004834,1.0855981913000503,1.159749196800476,0.8996764145003908,0.3551085699000396,0.1279616035999424,-0.0112927317995854,0.0182316566006193,0.0297284766002121,0.0325856337003642,0.0074151295002593,0.0177554644005795,0.0],\"yaxis\":\"y\"},{\"hovertemplate\":\"color=V<br>x=%{x}<br>y=%{y}<extra></extra>\",\"legendgroup\":\"V\",\"marker\":{\"color\":\"#FF6692\",\"symbol\":\"circle\"},\"mode\":\"markers\",\"name\":\"V\",\"showlegend\":true,\"type\":\"scattergl\",\"x\":[30.0,35.0,40.0,45.0,50.0,55.0,60.0,65.0,70.0,75.0,80.0,90.0,100.0,120.0,150.0,200.0],\"xaxis\":\"x\",\"y\":[0.8485189599005025,-2.313035619999937,-1.2473698200001309,-1.5705049999996843,-0.4595322449995365,-1.285601810199296,-1.7632976449995112,-1.3366231550999146,-0.4273547800994492,-0.7040265198993438,-1.265397360099996,-1.0625364948000424,-0.3673536797996348,-0.3534758750001856,-0.260276885199346,0.0],\"yaxis\":\"y\"},{\"hovertemplate\":\"color=W<br>x=%{x}<br>y=%{y}<extra></extra>\",\"legendgroup\":\"W\",\"marker\":{\"color\":\"#B6E880\",\"symbol\":\"circle\"},\"mode\":\"markers\",\"name\":\"W\",\"showlegend\":true,\"type\":\"scattergl\",\"x\":[30.0,35.0,40.0,45.0,50.0,55.0,60.0,65.0,70.0,75.0,80.0,90.0,100.0,120.0,150.0,200.0],\"xaxis\":\"x\",\"y\":[1.8952048349001416,-1.1638308702003997,-0.8397432848996687,-0.8639614248004364,-0.5506903649002197,-0.2408207346998097,0.0140818951003893,-0.1324514050993457,0.024014044800424,0.1236757448004937,0.0265991298001608,-0.0225854501004505,-0.0456470898006955,9344.30038617,-0.0072110102009901,0.0],\"yaxis\":\"y\"},{\"hovertemplate\":\"color=Xe<br>x=%{x}<br>y=%{y}<extra></extra>\",\"legendgroup\":\"Xe\",\"marker\":{\"color\":\"#FF97FF\",\"symbol\":\"circle\"},\"mode\":\"markers\",\"name\":\"Xe\",\"showlegend\":true,\"type\":\"scattergl\",\"x\":[30.0,35.0,40.0,45.0,50.0,55.0,60.0,65.0,70.0,75.0,80.0,90.0,100.0,120.0,150.0,200.0],\"xaxis\":\"x\",\"y\":[46.27632497030004,-29.062233730199974,3.264345570200021,-0.6169500847998961,-0.1234376449999672,-0.1243220043999144,0.0718040306001057,0.0710217155000236,-0.6295013348999419,-0.2785084997999547,-0.0258167951999439,-0.0736067849999244,-0.0213609395999583,-0.0212928997999597,-0.0112927195999645,0.0],\"yaxis\":\"y\"},{\"hovertemplate\":\"color=Y<br>x=%{x}<br>y=%{y}<extra></extra>\",\"legendgroup\":\"Y\",\"marker\":{\"color\":\"#FECB52\",\"symbol\":\"circle\"},\"mode\":\"markers\",\"name\":\"Y\",\"showlegend\":true,\"type\":\"scattergl\",\"x\":[30.0,35.0,40.0,45.0,50.0,55.0,60.0,65.0,70.0,75.0,80.0,90.0,100.0,120.0,150.0,200.0],\"xaxis\":\"x\",\"y\":[-3492.6236700401,-3491.558684525,-3492.50128685,-3492.35332495,-3492.3664544401,-3492.018897045,-3492.33822263,-3492.408700115,-3492.03461162,-3492.043455315,-3492.2997185149,-3491.863315955,-3492.17236924,-3492.051210565,0.0,0.0],\"yaxis\":\"y\"},{\"hovertemplate\":\"color=Yb<br>x=%{x}<br>y=%{y}<extra></extra>\",\"legendgroup\":\"Yb\",\"marker\":{\"color\":\"#636efa\",\"symbol\":\"circle\"},\"mode\":\"markers\",\"name\":\"Yb\",\"showlegend\":true,\"type\":\"scattergl\",\"x\":[30.0,35.0,40.0,45.0,50.0,55.0,60.0,65.0,70.0,75.0,80.0,90.0,100.0,120.0,150.0,200.0],\"xaxis\":\"x\",\"y\":[11.246056612400023,2.8465828172002148,0.9549834867002572,0.7388570683997386,1.404719641799602,1.233492047499567,0.8872271655000077,0.4067421705003653,0.1108864043999346,0.0448987684003441,-0.0123131440004726,-0.0016326739996657,0.0160546841998439,0.0065987296002276,-0.0079593356003897,0.0],\"yaxis\":\"y\"},{\"hovertemplate\":\"color=Zn<br>x=%{x}<br>y=%{y}<extra></extra>\",\"legendgroup\":\"Zn\",\"marker\":{\"color\":\"#EF553B\",\"symbol\":\"circle\"},\"mode\":\"markers\",\"name\":\"Zn\",\"showlegend\":true,\"type\":\"scattergl\",\"x\":[30.0,35.0,40.0,45.0,50.0,55.0,60.0,65.0,70.0,75.0,80.0,90.0,100.0,120.0,140.0,150.0,160.0,200.0],\"xaxis\":\"x\",\"y\":[-1295.7531041004,-1302.28213542,-1297.9932812097,-1298.0856638898,-1297.7948422197,-1298.1882508104,-1297.9387904408,-1297.9768863899,-1297.9771584898,-1298.0926027596,-1297.9279739195,-1297.9993357496,-1298.0474318895,-1298.04974486,0.0,0.0,0.0,0.0],\"yaxis\":\"y\"},{\"hovertemplate\":\"color=Zr<br>x=%{x}<br>y=%{y}<extra></extra>\",\"legendgroup\":\"Zr\",\"marker\":{\"color\":\"#00cc96\",\"symbol\":\"circle\"},\"mode\":\"markers\",\"name\":\"Zr\",\"showlegend\":true,\"type\":\"scattergl\",\"x\":[30.0,35.0,40.0,45.0,50.0,55.0,60.0,65.0,70.0,75.0,80.0,90.0,100.0,120.0,150.0,200.0],\"xaxis\":\"x\",\"y\":[-5468.4379366001,-5468.4982098099,-5468.56970772,-5468.5819528399,-5468.6156949601,-5468.63263404,-5468.6588250049,-5468.6148105852,-5468.6012048999,-5468.57147646,-5468.5933135949,-5468.57161252,-5468.5908645749,-5468.5882114599,0.0,0.0],\"yaxis\":\"y\"}],                        {\"legend\":{\"title\":{\"text\":\"color\"},\"tracegroupgap\":0},\"margin\":{\"t\":60},\"template\":{\"data\":{\"bar\":[{\"error_x\":{\"color\":\"#2a3f5f\"},\"error_y\":{\"color\":\"#2a3f5f\"},\"marker\":{\"line\":{\"color\":\"#E5ECF6\",\"width\":0.5},\"pattern\":{\"fillmode\":\"overlay\",\"size\":10,\"solidity\":0.2}},\"type\":\"bar\"}],\"barpolar\":[{\"marker\":{\"line\":{\"color\":\"#E5ECF6\",\"width\":0.5},\"pattern\":{\"fillmode\":\"overlay\",\"size\":10,\"solidity\":0.2}},\"type\":\"barpolar\"}],\"carpet\":[{\"aaxis\":{\"endlinecolor\":\"#2a3f5f\",\"gridcolor\":\"white\",\"linecolor\":\"white\",\"minorgridcolor\":\"white\",\"startlinecolor\":\"#2a3f5f\"},\"baxis\":{\"endlinecolor\":\"#2a3f5f\",\"gridcolor\":\"white\",\"linecolor\":\"white\",\"minorgridcolor\":\"white\",\"startlinecolor\":\"#2a3f5f\"},\"type\":\"carpet\"}],\"choropleth\":[{\"colorbar\":{\"outlinewidth\":0,\"ticks\":\"\"},\"type\":\"choropleth\"}],\"contour\":[{\"colorbar\":{\"outlinewidth\":0,\"ticks\":\"\"},\"colorscale\":[[0.0,\"#0d0887\"],[0.1111111111111111,\"#46039f\"],[0.2222222222222222,\"#7201a8\"],[0.3333333333333333,\"#9c179e\"],[0.4444444444444444,\"#bd3786\"],[0.5555555555555556,\"#d8576b\"],[0.6666666666666666,\"#ed7953\"],[0.7777777777777778,\"#fb9f3a\"],[0.8888888888888888,\"#fdca26\"],[1.0,\"#f0f921\"]],\"type\":\"contour\"}],\"contourcarpet\":[{\"colorbar\":{\"outlinewidth\":0,\"ticks\":\"\"},\"type\":\"contourcarpet\"}],\"heatmap\":[{\"colorbar\":{\"outlinewidth\":0,\"ticks\":\"\"},\"colorscale\":[[0.0,\"#0d0887\"],[0.1111111111111111,\"#46039f\"],[0.2222222222222222,\"#7201a8\"],[0.3333333333333333,\"#9c179e\"],[0.4444444444444444,\"#bd3786\"],[0.5555555555555556,\"#d8576b\"],[0.6666666666666666,\"#ed7953\"],[0.7777777777777778,\"#fb9f3a\"],[0.8888888888888888,\"#fdca26\"],[1.0,\"#f0f921\"]],\"type\":\"heatmap\"}],\"heatmapgl\":[{\"colorbar\":{\"outlinewidth\":0,\"ticks\":\"\"},\"colorscale\":[[0.0,\"#0d0887\"],[0.1111111111111111,\"#46039f\"],[0.2222222222222222,\"#7201a8\"],[0.3333333333333333,\"#9c179e\"],[0.4444444444444444,\"#bd3786\"],[0.5555555555555556,\"#d8576b\"],[0.6666666666666666,\"#ed7953\"],[0.7777777777777778,\"#fb9f3a\"],[0.8888888888888888,\"#fdca26\"],[1.0,\"#f0f921\"]],\"type\":\"heatmapgl\"}],\"histogram\":[{\"marker\":{\"pattern\":{\"fillmode\":\"overlay\",\"size\":10,\"solidity\":0.2}},\"type\":\"histogram\"}],\"histogram2d\":[{\"colorbar\":{\"outlinewidth\":0,\"ticks\":\"\"},\"colorscale\":[[0.0,\"#0d0887\"],[0.1111111111111111,\"#46039f\"],[0.2222222222222222,\"#7201a8\"],[0.3333333333333333,\"#9c179e\"],[0.4444444444444444,\"#bd3786\"],[0.5555555555555556,\"#d8576b\"],[0.6666666666666666,\"#ed7953\"],[0.7777777777777778,\"#fb9f3a\"],[0.8888888888888888,\"#fdca26\"],[1.0,\"#f0f921\"]],\"type\":\"histogram2d\"}],\"histogram2dcontour\":[{\"colorbar\":{\"outlinewidth\":0,\"ticks\":\"\"},\"colorscale\":[[0.0,\"#0d0887\"],[0.1111111111111111,\"#46039f\"],[0.2222222222222222,\"#7201a8\"],[0.3333333333333333,\"#9c179e\"],[0.4444444444444444,\"#bd3786\"],[0.5555555555555556,\"#d8576b\"],[0.6666666666666666,\"#ed7953\"],[0.7777777777777778,\"#fb9f3a\"],[0.8888888888888888,\"#fdca26\"],[1.0,\"#f0f921\"]],\"type\":\"histogram2dcontour\"}],\"mesh3d\":[{\"colorbar\":{\"outlinewidth\":0,\"ticks\":\"\"},\"type\":\"mesh3d\"}],\"parcoords\":[{\"line\":{\"colorbar\":{\"outlinewidth\":0,\"ticks\":\"\"}},\"type\":\"parcoords\"}],\"pie\":[{\"automargin\":true,\"type\":\"pie\"}],\"scatter\":[{\"marker\":{\"colorbar\":{\"outlinewidth\":0,\"ticks\":\"\"}},\"type\":\"scatter\"}],\"scatter3d\":[{\"line\":{\"colorbar\":{\"outlinewidth\":0,\"ticks\":\"\"}},\"marker\":{\"colorbar\":{\"outlinewidth\":0,\"ticks\":\"\"}},\"type\":\"scatter3d\"}],\"scattercarpet\":[{\"marker\":{\"colorbar\":{\"outlinewidth\":0,\"ticks\":\"\"}},\"type\":\"scattercarpet\"}],\"scattergeo\":[{\"marker\":{\"colorbar\":{\"outlinewidth\":0,\"ticks\":\"\"}},\"type\":\"scattergeo\"}],\"scattergl\":[{\"marker\":{\"colorbar\":{\"outlinewidth\":0,\"ticks\":\"\"}},\"type\":\"scattergl\"}],\"scattermapbox\":[{\"marker\":{\"colorbar\":{\"outlinewidth\":0,\"ticks\":\"\"}},\"type\":\"scattermapbox\"}],\"scatterpolar\":[{\"marker\":{\"colorbar\":{\"outlinewidth\":0,\"ticks\":\"\"}},\"type\":\"scatterpolar\"}],\"scatterpolargl\":[{\"marker\":{\"colorbar\":{\"outlinewidth\":0,\"ticks\":\"\"}},\"type\":\"scatterpolargl\"}],\"scatterternary\":[{\"marker\":{\"colorbar\":{\"outlinewidth\":0,\"ticks\":\"\"}},\"type\":\"scatterternary\"}],\"surface\":[{\"colorbar\":{\"outlinewidth\":0,\"ticks\":\"\"},\"colorscale\":[[0.0,\"#0d0887\"],[0.1111111111111111,\"#46039f\"],[0.2222222222222222,\"#7201a8\"],[0.3333333333333333,\"#9c179e\"],[0.4444444444444444,\"#bd3786\"],[0.5555555555555556,\"#d8576b\"],[0.6666666666666666,\"#ed7953\"],[0.7777777777777778,\"#fb9f3a\"],[0.8888888888888888,\"#fdca26\"],[1.0,\"#f0f921\"]],\"type\":\"surface\"}],\"table\":[{\"cells\":{\"fill\":{\"color\":\"#EBF0F8\"},\"line\":{\"color\":\"white\"}},\"header\":{\"fill\":{\"color\":\"#C8D4E3\"},\"line\":{\"color\":\"white\"}},\"type\":\"table\"}]},\"layout\":{\"annotationdefaults\":{\"arrowcolor\":\"#2a3f5f\",\"arrowhead\":0,\"arrowwidth\":1},\"autotypenumbers\":\"strict\",\"coloraxis\":{\"colorbar\":{\"outlinewidth\":0,\"ticks\":\"\"}},\"colorscale\":{\"diverging\":[[0,\"#8e0152\"],[0.1,\"#c51b7d\"],[0.2,\"#de77ae\"],[0.3,\"#f1b6da\"],[0.4,\"#fde0ef\"],[0.5,\"#f7f7f7\"],[0.6,\"#e6f5d0\"],[0.7,\"#b8e186\"],[0.8,\"#7fbc41\"],[0.9,\"#4d9221\"],[1,\"#276419\"]],\"sequential\":[[0.0,\"#0d0887\"],[0.1111111111111111,\"#46039f\"],[0.2222222222222222,\"#7201a8\"],[0.3333333333333333,\"#9c179e\"],[0.4444444444444444,\"#bd3786\"],[0.5555555555555556,\"#d8576b\"],[0.6666666666666666,\"#ed7953\"],[0.7777777777777778,\"#fb9f3a\"],[0.8888888888888888,\"#fdca26\"],[1.0,\"#f0f921\"]],\"sequentialminus\":[[0.0,\"#0d0887\"],[0.1111111111111111,\"#46039f\"],[0.2222222222222222,\"#7201a8\"],[0.3333333333333333,\"#9c179e\"],[0.4444444444444444,\"#bd3786\"],[0.5555555555555556,\"#d8576b\"],[0.6666666666666666,\"#ed7953\"],[0.7777777777777778,\"#fb9f3a\"],[0.8888888888888888,\"#fdca26\"],[1.0,\"#f0f921\"]]},\"colorway\":[\"#636efa\",\"#EF553B\",\"#00cc96\",\"#ab63fa\",\"#FFA15A\",\"#19d3f3\",\"#FF6692\",\"#B6E880\",\"#FF97FF\",\"#FECB52\"],\"font\":{\"color\":\"#2a3f5f\"},\"geo\":{\"bgcolor\":\"white\",\"lakecolor\":\"white\",\"landcolor\":\"#E5ECF6\",\"showlakes\":true,\"showland\":true,\"subunitcolor\":\"white\"},\"hoverlabel\":{\"align\":\"left\"},\"hovermode\":\"closest\",\"mapbox\":{\"style\":\"light\"},\"paper_bgcolor\":\"white\",\"plot_bgcolor\":\"#E5ECF6\",\"polar\":{\"angularaxis\":{\"gridcolor\":\"white\",\"linecolor\":\"white\",\"ticks\":\"\"},\"bgcolor\":\"#E5ECF6\",\"radialaxis\":{\"gridcolor\":\"white\",\"linecolor\":\"white\",\"ticks\":\"\"}},\"scene\":{\"xaxis\":{\"backgroundcolor\":\"#E5ECF6\",\"gridcolor\":\"white\",\"gridwidth\":2,\"linecolor\":\"white\",\"showbackground\":true,\"ticks\":\"\",\"zerolinecolor\":\"white\"},\"yaxis\":{\"backgroundcolor\":\"#E5ECF6\",\"gridcolor\":\"white\",\"gridwidth\":2,\"linecolor\":\"white\",\"showbackground\":true,\"ticks\":\"\",\"zerolinecolor\":\"white\"},\"zaxis\":{\"backgroundcolor\":\"#E5ECF6\",\"gridcolor\":\"white\",\"gridwidth\":2,\"linecolor\":\"white\",\"showbackground\":true,\"ticks\":\"\",\"zerolinecolor\":\"white\"}},\"shapedefaults\":{\"line\":{\"color\":\"#2a3f5f\"}},\"ternary\":{\"aaxis\":{\"gridcolor\":\"white\",\"linecolor\":\"white\",\"ticks\":\"\"},\"baxis\":{\"gridcolor\":\"white\",\"linecolor\":\"white\",\"ticks\":\"\"},\"bgcolor\":\"#E5ECF6\",\"caxis\":{\"gridcolor\":\"white\",\"linecolor\":\"white\",\"ticks\":\"\"}},\"title\":{\"x\":0.05},\"xaxis\":{\"automargin\":true,\"gridcolor\":\"white\",\"linecolor\":\"white\",\"ticks\":\"\",\"title\":{\"standoff\":15},\"zerolinecolor\":\"white\",\"zerolinewidth\":2},\"yaxis\":{\"automargin\":true,\"gridcolor\":\"white\",\"linecolor\":\"white\",\"ticks\":\"\",\"title\":{\"standoff\":15},\"zerolinecolor\":\"white\",\"zerolinewidth\":2}}},\"xaxis\":{\"anchor\":\"y\",\"domain\":[0.0,1.0],\"title\":{\"text\":\"x\"}},\"yaxis\":{\"anchor\":\"x\",\"domain\":[0.0,1.0],\"title\":{\"text\":\"y\"}}},                        {\"responsive\": true}                    ).then(function(){\n",
       "                            \n",
       "var gd = document.getElementById('952989c7-3331-4843-aa9c-59d7a1b4effc');\n",
       "var x = new MutationObserver(function (mutations, observer) {{\n",
       "        var display = window.getComputedStyle(gd).display;\n",
       "        if (!display || display === 'none') {{\n",
       "            console.log([gd, 'removed!']);\n",
       "            Plotly.purge(gd);\n",
       "            observer.disconnect();\n",
       "        }}\n",
       "}});\n",
       "\n",
       "// Listen for the removal of the full notebook cells\n",
       "var notebookContainer = gd.closest('#notebook-container');\n",
       "if (notebookContainer) {{\n",
       "    x.observe(notebookContainer, {childList: true});\n",
       "}}\n",
       "\n",
       "// Listen for the clearing of the current output cell\n",
       "var outputEl = gd.closest('.output');\n",
       "if (outputEl) {{\n",
       "    x.observe(outputEl, {childList: true});\n",
       "}}\n",
       "\n",
       "                        })                };                });            </script>        </div>"
      ]
     },
     "metadata": {},
     "output_type": "display_data"
    }
   ],
   "source": [
    "fig = px.scatter(x=df['ecutwfc'], y=df['dE'], color=df['element'])\n",
    "fig"
   ]
  },
  {
   "cell_type": "code",
   "execution_count": null,
   "id": "314f6870",
   "metadata": {},
   "outputs": [],
   "source": []
  },
  {
   "cell_type": "code",
   "execution_count": null,
   "id": "57abfba7",
   "metadata": {},
   "outputs": [],
   "source": []
  }
 ],
 "metadata": {
  "kernelspec": {
   "display_name": "Python 3",
   "language": "python",
   "name": "python3"
  },
  "language_info": {
   "codemirror_mode": {
    "name": "ipython",
    "version": 3
   },
   "file_extension": ".py",
   "mimetype": "text/x-python",
   "name": "python",
   "nbconvert_exporter": "python",
   "pygments_lexer": "ipython3",
   "version": "3.8.8"
  }
 },
 "nbformat": 4,
 "nbformat_minor": 5
}
