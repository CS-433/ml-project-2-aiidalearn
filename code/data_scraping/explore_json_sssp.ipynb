{
 "cells": [
  {
   "cell_type": "code",
   "execution_count": 22,
   "id": "99aca399",
   "metadata": {},
   "outputs": [],
   "source": [
    "import json, requests\n",
    "import pandas as pd"
   ]
  },
  {
   "cell_type": "code",
   "execution_count": 23,
   "id": "c5b2c585",
   "metadata": {},
   "outputs": [],
   "source": [
    "base_url = \"https://www.materialscloud.org/mcloud/api/v2/discover/sssp/elements/\"\n",
    "element = 'H'\n",
    "url = requests.get(base_url + element)\n",
    "rawj = json.loads(url.text)"
   ]
  },
  {
   "cell_type": "code",
   "execution_count": 24,
   "id": "f3337d22",
   "metadata": {},
   "outputs": [
    {
     "data": {
      "text/plain": [
       "dict_keys(['bands_filenames', 'chessboards_filenames', 'data', 'efficiency_filenames', 'eos_filenames', 'method', 'path', 'precision_filenames', 'url', 'url_root'])"
      ]
     },
     "execution_count": 24,
     "metadata": {},
     "output_type": "execute_result"
    }
   ],
   "source": [
    "rawj.keys()"
   ]
  },
  {
   "cell_type": "code",
   "execution_count": 25,
   "id": "021060e1",
   "metadata": {},
   "outputs": [
    {
     "data": {
      "text/plain": [
       "dict_keys(['X_series', 'Y_series', 'default', 'framework'])"
      ]
     },
     "execution_count": 25,
     "metadata": {},
     "output_type": "execute_result"
    }
   ],
   "source": [
    "rawj['data'].keys()"
   ]
  },
  {
   "cell_type": "code",
   "execution_count": 26,
   "id": "3391425c",
   "metadata": {},
   "outputs": [
    {
     "data": {
      "text/plain": [
       "dict_keys(['B0', 'B1', 'V0', 'cohesive_energy', 'cohesive_energy_percentage', 'delta', 'phonon_frequencies', 'phonon_frequencies_percentage', 'pressure', 'pressure_percentage'])"
      ]
     },
     "execution_count": 26,
     "metadata": {},
     "output_type": "execute_result"
    }
   ],
   "source": [
    "data = rawj['data']\n",
    "data['Y_series'].keys()"
   ]
  },
  {
   "cell_type": "code",
   "execution_count": 27,
   "id": "686d0906",
   "metadata": {},
   "outputs": [
    {
     "name": "stdout",
     "output_type": "stream",
     "text": [
      "dict_keys(['GBRV_1.2', 'GBRV_1.4', 'Goedecker', 'SG15', 'pslib.0.3.1_PBE_PAW', 'pslib.0.3.1_PBE_US', 'pslib.1.0.0_PBE_PAW', 'pslib.1.0.0_PBE_US'])\n",
      "dict_keys(['GBRV_1.2', 'GBRV_1.4', 'Goedecker', 'SG15', 'pslib.0.3.1_PBE_PAW', 'pslib.0.3.1_PBE_US', 'pslib.1.0.0_PBE_PAW', 'pslib.1.0.0_PBE_US'])\n",
      "dict_keys(['GBRV_1.2', 'GBRV_1.4', 'Goedecker', 'SG15', 'pslib.0.3.1_PBE_PAW', 'pslib.0.3.1_PBE_US', 'pslib.1.0.0_PBE_PAW', 'pslib.1.0.0_PBE_US'])\n",
      "dict_keys(['GBRV_1.2', 'GBRV_1.4', 'Goedecker', 'SG15', 'pslib.0.3.1_PBE_PAW', 'pslib.0.3.1_PBE_US', 'pslib.1.0.0_PBE_PAW', 'pslib.1.0.0_PBE_US'])\n",
      "dict_keys(['GBRV_1.2', 'GBRV_1.4', 'Goedecker', 'SG15', 'pslib.0.3.1_PBE_PAW', 'pslib.0.3.1_PBE_US', 'pslib.1.0.0_PBE_PAW', 'pslib.1.0.0_PBE_US'])\n",
      "dict_keys(['GBRV_1.2', 'GBRV_1.4', 'Goedecker', 'SG15', 'pslib.0.3.1_PBE_PAW', 'pslib.0.3.1_PBE_US', 'pslib.1.0.0_PBE_PAW', 'pslib.1.0.0_PBE_US'])\n",
      "dict_keys(['GBRV_1.2', 'GBRV_1.4', 'Goedecker', 'SG15', 'pslib.0.3.1_PBE_PAW', 'pslib.0.3.1_PBE_US', 'pslib.1.0.0_PBE_PAW', 'pslib.1.0.0_PBE_US'])\n",
      "dict_keys(['GBRV_1.2', 'GBRV_1.4', 'Goedecker', 'SG15', 'pslib.0.3.1_PBE_PAW', 'pslib.0.3.1_PBE_US', 'pslib.1.0.0_PBE_PAW', 'pslib.1.0.0_PBE_US'])\n",
      "dict_keys(['GBRV_1.2', 'GBRV_1.4', 'Goedecker', 'SG15', 'pslib.0.3.1_PBE_PAW', 'pslib.0.3.1_PBE_US', 'pslib.1.0.0_PBE_PAW', 'pslib.1.0.0_PBE_US'])\n",
      "dict_keys(['GBRV_1.2', 'GBRV_1.4', 'Goedecker', 'SG15', 'pslib.0.3.1_PBE_PAW', 'pslib.0.3.1_PBE_US', 'pslib.1.0.0_PBE_PAW', 'pslib.1.0.0_PBE_US'])\n"
     ]
    }
   ],
   "source": [
    "datay = data['Y_series']\n",
    "for key in list(datay.keys()):\n",
    "    print(datay[key].keys())"
   ]
  },
  {
   "cell_type": "markdown",
   "id": "d545c697",
   "metadata": {},
   "source": [
    "The correct Pseudo for Ag is 'SG15'"
   ]
  },
  {
   "cell_type": "code",
   "execution_count": 28,
   "id": "2fb98656",
   "metadata": {},
   "outputs": [
    {
     "name": "stdout",
     "output_type": "stream",
     "text": [
      "dict_keys(['4.0'])\n",
      "dict_keys(['4.0'])\n",
      "dict_keys(['4.0'])\n",
      "dict_keys(['4.0'])\n",
      "dict_keys(['4.0'])\n",
      "dict_keys(['4.0'])\n",
      "dict_keys(['4.0'])\n",
      "dict_keys(['4.0'])\n",
      "dict_keys(['4.0'])\n",
      "dict_keys(['4.0'])\n"
     ]
    }
   ],
   "source": [
    "datay = data['Y_series']\n",
    "for key in list(datay.keys()):\n",
    "    print(datay[key]['SG15'].keys())"
   ]
  },
  {
   "cell_type": "code",
   "execution_count": 31,
   "id": "f32b8cfb",
   "metadata": {},
   "outputs": [
    {
     "name": "stdout",
     "output_type": "stream",
     "text": [
      "dict_keys(['B0', 'B1', 'V0', 'cohesive_energy', 'cohesive_energy_percentage', 'delta', 'phonon_frequencies', 'phonon_frequencies_percentage', 'pressure', 'pressure_percentage'])\n",
      "dict_keys(['X_series', 'points', 'type', 'units'])\n",
      "dict_keys(['X_series', 'points', 'type', 'units'])\n",
      "dict_keys(['X_series', 'points', 'type', 'units'])\n",
      "dict_keys(['X_series', 'points', 'type', 'units'])\n",
      "dict_keys(['X_series', 'points', 'type', 'units'])\n",
      "dict_keys(['X_series', 'points', 'type', 'units'])\n",
      "dict_keys(['X_series', 'points', 'type', 'units'])\n",
      "dict_keys(['X_series', 'points', 'type', 'units'])\n",
      "dict_keys(['X_series', 'points', 'type', 'units'])\n",
      "dict_keys(['X_series', 'points', 'type', 'units'])\n"
     ]
    }
   ],
   "source": [
    "datay = data['Y_series']\n",
    "print(datay.keys())\n",
    "for key in list(datay.keys()):\n",
    "    print(datay[key]['SG15']['4.0'].keys())"
   ]
  },
  {
   "cell_type": "code",
   "execution_count": 30,
   "id": "d8a0304d",
   "metadata": {},
   "outputs": [
    {
     "name": "stdout",
     "output_type": "stream",
     "text": [
      "--- B0 ---\n",
      "16\n",
      "10.286643314199999\n",
      "10.286643314199999\n",
      "10.286643314199999\n",
      "10.286643314199999\n",
      "10.286643314199999\n",
      "10.286643314199999\n",
      "10.286643314199999\n",
      "10.286643314199999\n",
      "10.286643314199999\n",
      "10.286643314199999\n",
      "10.286643314199999\n",
      "10.286643314199999\n",
      "10.286643314199999\n",
      "10.286643314199999\n",
      "10.286643314199999\n",
      "10.286643314199999\n",
      "--- B1 ---\n",
      "16\n",
      "2.6703209023000003\n",
      "2.6703209023000003\n",
      "2.6703209023000003\n",
      "2.6703209023000003\n",
      "2.6703209023000003\n",
      "2.6703209023000003\n",
      "2.6703209023000003\n",
      "2.6703209023000003\n",
      "2.6703209023000003\n",
      "2.6703209023000003\n",
      "2.6703209023000003\n",
      "2.6703209023000003\n",
      "2.6703209023000003\n",
      "2.6703209023000003\n",
      "2.6703209023000003\n",
      "2.6703209023000003\n",
      "--- V0 ---\n",
      "16\n",
      "17.356021876\n",
      "17.356021876\n",
      "17.356021876\n",
      "17.356021876\n",
      "17.356021876\n",
      "17.356021876\n",
      "17.356021876\n",
      "17.356021876\n",
      "17.356021876\n",
      "17.356021876\n",
      "17.356021876\n",
      "17.356021876\n",
      "17.356021876\n",
      "17.356021876\n",
      "17.356021876\n",
      "17.356021876\n",
      "--- cohesive_energy ---\n",
      "16\n",
      "-2901.3540654478\n",
      "-2922.2331558841\n",
      "-2933.952316409\n",
      "-2940.880266607\n",
      "-2944.3495479258\n",
      "-2946.3748231675\n",
      "-2947.4299785751\n",
      "-2948.0373366537\n",
      "-2948.3888056853\n",
      "-2948.5859521583\n",
      "-2948.6679944795\n",
      "-2948.7265669823\n",
      "-2948.719696108\n",
      "-2948.7222811894\n",
      "-2948.7675881429\n",
      "-2948.784969414\n",
      "--- cohesive_energy_percentage ---\n",
      "16\n",
      "1.6084897494\n",
      "0.900432341\n",
      "0.5030089735000001\n",
      "0.2680664372\n",
      "0.15041522300000001\n",
      "0.0817335367\n",
      "0.0459508188\n",
      "0.025353926000000002\n",
      "0.013434812400000001\n",
      "0.0067491274\n",
      "0.0039668859\n",
      "0.0019805592\n",
      "0.0022135662\n",
      "0.0021259002\n",
      "0.0005894384\n",
      "0.0\n",
      "--- delta ---\n",
      "16\n",
      "0.0726012203\n",
      "0.0726012203\n",
      "0.0726012203\n",
      "0.0726012203\n",
      "0.0726012203\n",
      "0.0726012203\n",
      "0.0726012203\n",
      "0.0726012203\n",
      "0.0726012203\n",
      "0.0726012203\n",
      "0.0726012203\n",
      "0.0726012203\n",
      "0.0726012203\n",
      "0.0726012203\n",
      "0.0726012203\n",
      "0.0726012203\n",
      "--- phonon_frequencies ---\n",
      "16\n",
      "1779.3137639131\n"
     ]
    },
    {
     "ename": "TypeError",
     "evalue": "'NoneType' object is not subscriptable",
     "output_type": "error",
     "traceback": [
      "\u001b[0;31m---------------------------------------------------------------------------\u001b[0m",
      "\u001b[0;31mTypeError\u001b[0m                                 Traceback (most recent call last)",
      "\u001b[0;32m<ipython-input-30-d8cfda909534>\u001b[0m in \u001b[0;36m<module>\u001b[0;34m\u001b[0m\n\u001b[1;32m      6\u001b[0m     \u001b[0;32mfor\u001b[0m \u001b[0mk\u001b[0m \u001b[0;32min\u001b[0m \u001b[0mrange\u001b[0m\u001b[0;34m(\u001b[0m\u001b[0mlen\u001b[0m\u001b[0;34m(\u001b[0m\u001b[0mnodes_list\u001b[0m\u001b[0;34m)\u001b[0m\u001b[0;34m)\u001b[0m\u001b[0;34m:\u001b[0m\u001b[0;34m\u001b[0m\u001b[0;34m\u001b[0m\u001b[0m\n\u001b[1;32m      7\u001b[0m         \u001b[0mnode\u001b[0m \u001b[0;34m=\u001b[0m \u001b[0mnodes_list\u001b[0m\u001b[0;34m[\u001b[0m\u001b[0mk\u001b[0m\u001b[0;34m]\u001b[0m\u001b[0;34m\u001b[0m\u001b[0;34m\u001b[0m\u001b[0m\n\u001b[0;32m----> 8\u001b[0;31m         \u001b[0mprint\u001b[0m\u001b[0;34m(\u001b[0m\u001b[0mnode\u001b[0m\u001b[0;34m[\u001b[0m\u001b[0;34m'value'\u001b[0m\u001b[0;34m]\u001b[0m\u001b[0;34m)\u001b[0m\u001b[0;34m\u001b[0m\u001b[0;34m\u001b[0m\u001b[0m\n\u001b[0m",
      "\u001b[0;31mTypeError\u001b[0m: 'NoneType' object is not subscriptable"
     ]
    }
   ],
   "source": [
    "datay = data['Y_series']\n",
    "for key in list(datay.keys()):\n",
    "    print(\"---\", key, \"---\")\n",
    "    nodes_list = datay[key]['SG15']['4.0']['points']\n",
    "    print(len(nodes_list))\n",
    "    for k in range(len(nodes_list)):\n",
    "        node = nodes_list[k]\n",
    "        print(node['value'])"
   ]
  },
  {
   "cell_type": "code",
   "execution_count": null,
   "id": "1372da4d",
   "metadata": {},
   "outputs": [],
   "source": []
  }
 ],
 "metadata": {
  "kernelspec": {
   "display_name": "Python 3",
   "language": "python",
   "name": "python3"
  },
  "language_info": {
   "codemirror_mode": {
    "name": "ipython",
    "version": 3
   },
   "file_extension": ".py",
   "mimetype": "text/x-python",
   "name": "python",
   "nbconvert_exporter": "python",
   "pygments_lexer": "ipython3",
   "version": "3.8.8"
  }
 },
 "nbformat": 4,
 "nbformat_minor": 5
}
