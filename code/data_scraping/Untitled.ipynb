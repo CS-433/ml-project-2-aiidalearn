{
 "cells": [
  {
   "cell_type": "code",
   "execution_count": 17,
   "id": "6d41d494",
   "metadata": {},
   "outputs": [],
   "source": [
    "import json\n",
    "import pandas as pd"
   ]
  },
  {
   "cell_type": "code",
   "execution_count": 18,
   "id": "6a2ae4df",
   "metadata": {},
   "outputs": [],
   "source": [
    "sssp_raw = {\n",
    "    \"pslib.1.0.0_PBE_US\":\n",
    "                        {\n",
    "                        \"background_color\":\"#FF0000\",\n",
    "                        \"display_name\":\"pslibrary.1.0.0 US (high acc.)\",\n",
    "                        \"short_name\":\"100US\",\n",
    "                        },\n",
    "    \"pslib.1.0.0_PBE_PAW\":\n",
    "                        {\n",
    "                        \"background_color\":\"#008B00\",\n",
    "                        \"display_name\":\"pslibrary.1.0.0 PAW (high acc.)\",\n",
    "                        \"short_name\":\"100PAW\",\n",
    "                        },\n",
    "    \"pslib.0.3.1_PBE_US\":\n",
    "                        {\n",
    "                        \"background_color\":\"#0000FF\",\n",
    "                        \"display_name\":\"pslibrary.0.3.1 US\",\n",
    "                        \"short_name\":\"031US\",\n",
    "                        },\n",
    "    \"pslib.0.3.1_PBE_PAW\":\n",
    "                        {\n",
    "                        \"background_color\":\"#FF00FF\",\n",
    "                        \"display_name\":\"pslibrary.0.3.1 PAW\",\n",
    "                        \"short_name\":\"031PAW\",\n",
    "                        },\n",
    "    \"GBRV_1.2\":\n",
    "                        {\n",
    "                        \"background_color\":\"#00CDCD\",\n",
    "                        \"display_name\":\"GBRV-1.2 (US)\",\n",
    "                        \"short_name\":\"GBRV-1.2\",\n",
    "                        },\n",
    "    \"GBRV_1.4\":\n",
    "                        {\n",
    "                        \"background_color\":\"#4682B4\",\n",
    "                        \"display_name\":\"GBRV-1.4 (US)\",\n",
    "                        \"short_name\":\"GBRV-1.4\",\n",
    "                        },\n",
    "    \"GBRV_1.5\":\n",
    "                        {\n",
    "                        \"background_color\":\"#B8860B\",\n",
    "                        \"display_name\":\"GBRV-1.5 (US)\",\n",
    "                        \"short_name\":\"GBRV-1.5\",\n",
    "                        },\n",
    "    \"SG15\":\n",
    "                        {\n",
    "                        \"background_color\":\"#000000\",\n",
    "                        \"display_name\":\"SG15 (NC)\",\n",
    "                        \"short_name\":\"SG15\",\n",
    "                        },\n",
    "    \"SG15_1.1\":\n",
    "                        {\n",
    "                        \"background_color\":\"#708090\",\n",
    "                        \"display_name\":\"SG15-1.1 (NC)\",\n",
    "                        \"short_name\":\"SG15-1.1\",\n",
    "                        },\n",
    "    \"Goedecker\":\n",
    "                        {\n",
    "                        \"background_color\":\"#808000\",\n",
    "                        \"display_name\":\"Goedecker (NC)\",\n",
    "                        \"short_name\":\"Goedecker\",\n",
    "                        },\n",
    "    \"THEOS\":\n",
    "                        {\n",
    "                        \"background_color\":\"#D7DF01\",\n",
    "                        \"display_name\":\"THEOS (US)\",\n",
    "                        \"short_name\":\"THEOS\",\n",
    "                        },\n",
    "    \"Dojo\":\n",
    "                        {\n",
    "                        \"background_color\":\"#FFA500\",\n",
    "                        \"display_name\":\"PseudoDojo (NC)\",\n",
    "                        \"short_name\":\"Dojo\",\n",
    "                        },\n",
    "    \"RE_Wentz\":\n",
    "                        {\n",
    "                        \"background_color\":\"#610B5E\",\n",
    "                        \"display_name\":\"RE Wentzcovitch (PAW)\",\n",
    "                        \"short_name\":\"Wentzcovitch\",\n",
    "                        },\n",
    "    \"RE_Wentz_plus_nitrogen\":\n",
    "                        {\n",
    "                        \"background_color\":\"#610B5E\",\n",
    "                        \"display_name\":\"RE Wentzcovitch (PAW)\",\n",
    "                        \"short_name\":\"Wentzcovitch\",\n",
    "                        },\n",
    "    \"RE_pslib.1.0.0_PBE_US_plus_nitrogen\":\n",
    "                        {\n",
    "                        \"background_color\":\"#FF0000\",\n",
    "                        \"display_name\":\"pslibrary.1.0.0 US (high acc.)\",\n",
    "                        \"short_name\":\"100US\",\n",
    "                        },\n",
    "    \"RE_pslib.1.0.0_PBE_PAW_plus_nitrogen\":\n",
    "                        {\n",
    "                        \"background_color\":\"#008B00\",\n",
    "                        \"display_name\":\"pslibrary.1.0.0 PAW (high acc.)\",\n",
    "                        \"short_name\":\"100PAW\",\n",
    "                        },\n",
    "\n",
    "}"
   ]
  },
  {
   "cell_type": "code",
   "execution_count": 19,
   "id": "700759a3",
   "metadata": {},
   "outputs": [],
   "source": [
    "sssp_longnames = list(sssp_raw.keys())"
   ]
  },
  {
   "cell_type": "code",
   "execution_count": 20,
   "id": "2ec50e5b",
   "metadata": {},
   "outputs": [],
   "source": [
    "sssp_shortnames = []\n",
    "for name in sssp_longnames:\n",
    "    sssp_shortnames.append(sssp_raw[name]['short_name'])"
   ]
  },
  {
   "cell_type": "code",
   "execution_count": 21,
   "id": "9b6a9368",
   "metadata": {},
   "outputs": [
    {
     "data": {
      "text/plain": [
       "['100US',\n",
       " '100PAW',\n",
       " '031US',\n",
       " '031PAW',\n",
       " 'GBRV-1.2',\n",
       " 'GBRV-1.4',\n",
       " 'GBRV-1.5',\n",
       " 'SG15',\n",
       " 'SG15-1.1',\n",
       " 'Goedecker',\n",
       " 'THEOS',\n",
       " 'Dojo',\n",
       " 'Wentzcovitch',\n",
       " 'Wentzcovitch',\n",
       " '100US',\n",
       " '100PAW']"
      ]
     },
     "execution_count": 21,
     "metadata": {},
     "output_type": "execute_result"
    }
   ],
   "source": [
    "sssp_shortnames"
   ]
  },
  {
   "cell_type": "code",
   "execution_count": 25,
   "id": "95075be2",
   "metadata": {},
   "outputs": [],
   "source": [
    "sssp_dict = {}\n",
    "for longname, shortname in zip(sssp_longnames, sssp_shortnames):\n",
    "    sssp_dict[shortname] = longname"
   ]
  },
  {
   "cell_type": "code",
   "execution_count": 26,
   "id": "913e3626",
   "metadata": {},
   "outputs": [
    {
     "data": {
      "text/plain": [
       "{'100US': 'RE_pslib.1.0.0_PBE_US_plus_nitrogen',\n",
       " '100PAW': 'RE_pslib.1.0.0_PBE_PAW_plus_nitrogen',\n",
       " '031US': 'pslib.0.3.1_PBE_US',\n",
       " '031PAW': 'pslib.0.3.1_PBE_PAW',\n",
       " 'GBRV-1.2': 'GBRV_1.2',\n",
       " 'GBRV-1.4': 'GBRV_1.4',\n",
       " 'GBRV-1.5': 'GBRV_1.5',\n",
       " 'SG15': 'SG15',\n",
       " 'SG15-1.1': 'SG15_1.1',\n",
       " 'Goedecker': 'Goedecker',\n",
       " 'THEOS': 'THEOS',\n",
       " 'Dojo': 'Dojo',\n",
       " 'Wentzcovitch': 'RE_Wentz_plus_nitrogen'}"
      ]
     },
     "execution_count": 26,
     "metadata": {},
     "output_type": "execute_result"
    }
   ],
   "source": [
    "sssp_dict"
   ]
  },
  {
   "cell_type": "code",
   "execution_count": null,
   "id": "e9b2d13a",
   "metadata": {},
   "outputs": [],
   "source": []
  }
 ],
 "metadata": {
  "kernelspec": {
   "display_name": "Python 3",
   "language": "python",
   "name": "python3"
  },
  "language_info": {
   "codemirror_mode": {
    "name": "ipython",
    "version": 3
   },
   "file_extension": ".py",
   "mimetype": "text/x-python",
   "name": "python",
   "nbconvert_exporter": "python",
   "pygments_lexer": "ipython3",
   "version": "3.8.8"
  }
 },
 "nbformat": 4,
 "nbformat_minor": 5
}
