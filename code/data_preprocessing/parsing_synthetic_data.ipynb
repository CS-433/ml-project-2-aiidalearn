{
 "cells": [
  {
   "cell_type": "markdown",
   "id": "7d399cc5",
   "metadata": {},
   "source": [
    "This notebook creates a csv-file from json files of toy data. The toy data contains input parameters and results of simulations"
   ]
  },
  {
   "cell_type": "code",
   "execution_count": 1,
   "id": "79b7fa9b",
   "metadata": {},
   "outputs": [],
   "source": [
    "import pandas as pd\n",
    "import json\n",
    "import os\n",
    "import requests"
   ]
  },
  {
   "cell_type": "markdown",
   "id": "d71cdb6b",
   "metadata": {},
   "source": [
    "Information about the data stored in the json file"
   ]
  },
  {
   "cell_type": "code",
   "execution_count": 2,
   "id": "4be43191",
   "metadata": {},
   "outputs": [],
   "source": [
    "filename = \"Ge-1_Se-1\"\n",
    "element_list = {elt.split(\"-\")[0]: int(elt.split(\"-\")[1]) for elt in filename.split(\"_\")}"
   ]
  },
  {
   "cell_type": "code",
   "execution_count": 3,
   "id": "3eea7b48",
   "metadata": {},
   "outputs": [],
   "source": [
    "JSON_PATH = os.path.join(os.path.dirname(os.path.dirname(os.getcwd())), \"data/\" + filename + \".json\")"
   ]
  },
  {
   "cell_type": "code",
   "execution_count": 4,
   "id": "4911056f",
   "metadata": {},
   "outputs": [],
   "source": [
    "with open(JSON_PATH) as file:\n",
    "    data = json.load(file)"
   ]
  },
  {
   "cell_type": "code",
   "execution_count": 5,
   "id": "501f830f",
   "metadata": {},
   "outputs": [
    {
     "data": {
      "text/plain": [
       "Index(['ecutrho', 'k_density', 'ecutwfc', 'n_iterations', 'time', 'converged',\n",
       "       'accuracy', 'fermi', 'total_energy'],\n",
       "      dtype='object')"
      ]
     },
     "execution_count": 5,
     "metadata": {},
     "output_type": "execute_result"
    }
   ],
   "source": [
    "raw_df = pd.DataFrame(data)\n",
    "raw_df.columns"
   ]
  },
  {
   "cell_type": "markdown",
   "id": "034b5e95",
   "metadata": {},
   "source": [
    "We only want the cut-off radii, the k-point spacing and whether the algorithm converged together with the accuracy (w.r.t. a reference calculation)"
   ]
  },
  {
   "cell_type": "code",
   "execution_count": 6,
   "id": "de557764",
   "metadata": {},
   "outputs": [],
   "source": [
    "rel_cols = ['ecutrho', 'k_density', 'ecutwfc', 'converged' , 'accuracy', 'total_energy']\n",
    "df = raw_df[rel_cols]"
   ]
  },
  {
   "cell_type": "markdown",
   "id": "f7919bd4",
   "metadata": {},
   "source": [
    "We set the reference energy as the energy with the highest simulation parameters.\n",
    "We then compute the relative energy difference with this reference energy."
   ]
  },
  {
   "cell_type": "code",
   "execution_count": 7,
   "id": "91c1a473",
   "metadata": {},
   "outputs": [
    {
     "name": "stdout",
     "output_type": "stream",
     "text": [
      "Ref energy: -256.52875705 (found at index 660)\n"
     ]
    }
   ],
   "source": [
    "converged_rows = df.loc[:,'converged'] == True\n",
    "idx_ref = 0\n",
    "for idx, row in df.loc[converged_rows].iterrows():\n",
    "    if (\n",
    "        row[\"ecutwfc\"] > df.loc[idx_ref, \"ecutwfc\"]\n",
    "        or row[\"ecutrho\"] > df.loc[idx_ref, \"ecutrho\"]\n",
    "        or row[\"k_density\"] < df.loc[idx_ref, \"k_density\"]\n",
    "    ):\n",
    "        idx_ref = idx\n",
    "\n",
    "ref_energy = df.loc[idx_ref, \"total_energy\"]\n",
    "print(f\"Ref energy: {ref_energy} (found at index {idx_ref})\")\n",
    "\n",
    "df = df.assign(delta_E = df.loc[:,'total_energy'] - ref_energy)"
   ]
  },
  {
   "cell_type": "code",
   "execution_count": 8,
   "id": "4351fb32",
   "metadata": {},
   "outputs": [],
   "source": [
    "# LOADING ALL ELEMENT KEYS\n",
    "url_table = requests.get(\"https://archive.materialscloud.org/record/file?record_id=862&filename=SSSP_1.1.2_PBE_efficiency.json&file_id=a5642f40-74af-4073-8dfd-706d2c7fccc2\")\n",
    "text_table = url_table.text\n",
    "sssp_table = json.loads(text_table)\n",
    "periodic_table_keys = list(sssp_table.keys())"
   ]
  },
  {
   "cell_type": "markdown",
   "id": "afd7e15b",
   "metadata": {},
   "source": [
    "For each element in the periodic table, we want to know the relative contribution to the total number of atoms in the structure, i.e. 0.0 -> not in the structure, 1.0 -> all the atoms in the structure are from this element.\n",
    "\n",
    "In our toy example, we have data from GeTe simulations. Hence, the two element get a value of 0.5 each."
   ]
  },
  {
   "cell_type": "code",
   "execution_count": 9,
   "id": "ce79e82d",
   "metadata": {},
   "outputs": [],
   "source": [
    "# ADDING A ZERO COLUMN FOR EACH ELEMENT\n",
    "for element in periodic_table_keys:\n",
    "    df = df.assign(**{element: 0.0})\n",
    "\n",
    "total_elt = sum(list(element_list.values()))\n",
    "for elt, nb_elt in element_list.items():\n",
    "    df = df.assign(**{elt: nb_elt / total_elt})"
   ]
  },
  {
   "cell_type": "code",
   "execution_count": 10,
   "id": "38125cc1",
   "metadata": {},
   "outputs": [],
   "source": [
    "filepath = os.path.join(os.path.dirname(os.path.dirname(os.getcwd())), \"data/\" + filename + \".csv\")\n",
    "df.to_csv(filepath)"
   ]
  }
 ],
 "metadata": {
  "kernelspec": {
   "display_name": "Python 3",
   "language": "python",
   "name": "python3"
  },
  "language_info": {
   "codemirror_mode": {
    "name": "ipython",
    "version": 3
   },
   "file_extension": ".py",
   "mimetype": "text/x-python",
   "name": "python",
   "nbconvert_exporter": "python",
   "pygments_lexer": "ipython3",
   "version": "3.8.10"
  }
 },
 "nbformat": 4,
 "nbformat_minor": 5
}
