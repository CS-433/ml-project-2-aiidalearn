{
 "cells": [
  {
   "cell_type": "markdown",
   "id": "7d399cc5",
   "metadata": {},
   "source": [
    "This notebook creates a csv-file from a json file of toy data. The toy data contains input parameters and results of simulations of GeTe"
   ]
  },
  {
   "cell_type": "code",
   "execution_count": 40,
   "id": "79b7fa9b",
   "metadata": {},
   "outputs": [],
   "source": [
    "import pandas as pd\n",
    "import numpy as np\n",
    "import json\n",
    "import os\n",
    "import requests"
   ]
  },
  {
   "cell_type": "code",
   "execution_count": 48,
   "id": "3eea7b48",
   "metadata": {},
   "outputs": [],
   "source": [
    "DATA_PATH = \"../data\"\n",
    "JSON_PATH = DATA_PATH + os.sep + \"toy_data.json\""
   ]
  },
  {
   "cell_type": "code",
   "execution_count": 49,
   "id": "4911056f",
   "metadata": {},
   "outputs": [],
   "source": [
    "with open(JSON_PATH) as file:\n",
    "    data = json.load(file)"
   ]
  },
  {
   "cell_type": "code",
   "execution_count": 50,
   "id": "501f830f",
   "metadata": {},
   "outputs": [
    {
     "data": {
      "text/plain": [
       "Index(['ecutrho', 'k_density', 'ecutwfc', 'n_iterations', 'time', 'converged',\n",
       "       'accuracy', 'fermi', 'total_energy'],\n",
       "      dtype='object')"
      ]
     },
     "execution_count": 50,
     "metadata": {},
     "output_type": "execute_result"
    }
   ],
   "source": [
    "raw_df = pd.DataFrame(data)\n",
    "raw_df.columns"
   ]
  },
  {
   "cell_type": "markdown",
   "id": "034b5e95",
   "metadata": {},
   "source": [
    "We only want the cut-off radii, the k-point spacing and whether the algorithm converged together with the accuracy (w.r.t. a reference calculation)"
   ]
  },
  {
   "cell_type": "code",
   "execution_count": 51,
   "id": "de557764",
   "metadata": {},
   "outputs": [],
   "source": [
    "rel_cols = ['ecutrho', 'k_density', 'ecutwfc', 'converged' , 'accuracy']\n",
    "df = raw_df[rel_cols]"
   ]
  },
  {
   "cell_type": "code",
   "execution_count": 52,
   "id": "4351fb32",
   "metadata": {},
   "outputs": [],
   "source": [
    "# LOADING ALL ELEMENT KEYS\n",
    "url_table = requests.get(\"https://archive.materialscloud.org/record/file?record_id=862&filename=SSSP_1.1.2_PBE_efficiency.json&file_id=a5642f40-74af-4073-8dfd-706d2c7fccc2\")\n",
    "text_table = url_table.text\n",
    "sssp_table = json.loads(text_table)\n",
    "periodic_table_keys = list(sssp_table.keys())"
   ]
  },
  {
   "cell_type": "markdown",
   "id": "afd7e15b",
   "metadata": {},
   "source": [
    "For each element in the periodic table, we want to know the relative contribution to the total number of atoms in the structure, i.e. 0.0 -> not in the structure, 1.0 -> all the atoms in the structure are from this element.\n",
    "\n",
    "In our toy example, we have data from GeTe simulations. Hence, the two element get a value of 0.5 each."
   ]
  },
  {
   "cell_type": "code",
   "execution_count": 53,
   "id": "ce79e82d",
   "metadata": {},
   "outputs": [
    {
     "name": "stderr",
     "output_type": "stream",
     "text": [
      "<ipython-input-53-d38bcf106bfa>:3: SettingWithCopyWarning: \n",
      "A value is trying to be set on a copy of a slice from a DataFrame.\n",
      "Try using .loc[row_indexer,col_indexer] = value instead\n",
      "\n",
      "See the caveats in the documentation: https://pandas.pydata.org/pandas-docs/stable/user_guide/indexing.html#returning-a-view-versus-a-copy\n",
      "  df[element] = 0.0\n"
     ]
    }
   ],
   "source": [
    "# ADDING A ZERO COLUMN FOR EACH ELEMENT\n",
    "for element in periodic_table_keys:\n",
    "    df[element] = 0.0\n",
    "    \n",
    "df['Ge'] = 0.5\n",
    "df['Te'] = 0.5"
   ]
  },
  {
   "cell_type": "code",
   "execution_count": 54,
   "id": "38125cc1",
   "metadata": {},
   "outputs": [],
   "source": [
    "filename = \"toy_data.csv\"\n",
    "filepath = DATA_PATH + os.sep + filename\n",
    "df.to_csv(filepath)"
   ]
  }
 ],
 "metadata": {
  "kernelspec": {
   "display_name": "Python 3",
   "language": "python",
   "name": "python3"
  },
  "language_info": {
   "codemirror_mode": {
    "name": "ipython",
    "version": 3
   },
   "file_extension": ".py",
   "mimetype": "text/x-python",
   "name": "python",
   "nbconvert_exporter": "python",
   "pygments_lexer": "ipython3",
   "version": "3.8.8"
  }
 },
 "nbformat": 4,
 "nbformat_minor": 5
}
