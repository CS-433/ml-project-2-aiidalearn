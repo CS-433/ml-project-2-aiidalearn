{
 "cells": [
  {
   "cell_type": "code",
   "execution_count": 1,
   "id": "7a991be6",
   "metadata": {},
   "outputs": [],
   "source": [
    "import numpy as np\n",
    "import matplotlib.pyplot as plt\n",
    "import pandas as pd\n",
    "import os\n",
    "import pickle\n",
    "from pathlib import Path\n",
    "from sklearn.metrics import r2_score"
   ]
  },
  {
   "cell_type": "code",
   "execution_count": 2,
   "id": "f0a57255",
   "metadata": {},
   "outputs": [],
   "source": [
    "ROOT_DIR = os.path.dirname(\n",
    "os.path.dirname(str(Path(os.path.abspath('')).absolute())))"
   ]
  },
  {
   "cell_type": "markdown",
   "id": "65e50265",
   "metadata": {},
   "source": [
    "# Load Model"
   ]
  },
  {
   "cell_type": "code",
   "execution_count": 3,
   "id": "40b19a1f",
   "metadata": {},
   "outputs": [],
   "source": [
    "TARGET_NAME = \"ref_energy/\"\n",
    "ENCODING_NAME = \"atomic/\"\n",
    "MODEL_NAME = \"random_forest_model.pkl\""
   ]
  },
  {
   "cell_type": "code",
   "execution_count": 4,
   "id": "84b100a6",
   "metadata": {},
   "outputs": [],
   "source": [
    "MODELS_DIR = os.path.join(\n",
    "    str(Path(os.path.abspath('')).parent.parent.absolute()), \"models\", TARGET_NAME, ENCODING_NAME\n",
    ")"
   ]
  },
  {
   "cell_type": "code",
   "execution_count": 5,
   "id": "f4cf7b41",
   "metadata": {},
   "outputs": [],
   "source": [
    "with open(MODELS_DIR + MODEL_NAME, 'rb') as file:\n",
    "    model = pickle.load(file)"
   ]
  },
  {
   "cell_type": "markdown",
   "id": "52bc2e1b",
   "metadata": {},
   "source": [
    "# Load Data Sets"
   ]
  },
  {
   "cell_type": "code",
   "execution_count": 6,
   "id": "21bc0db4",
   "metadata": {},
   "outputs": [],
   "source": [
    "X_TRAIN_NAME = \"X_train.csv\"\n",
    "y_TRAIN_NAME = \"y_train.csv\""
   ]
  },
  {
   "cell_type": "code",
   "execution_count": 7,
   "id": "e7549323",
   "metadata": {},
   "outputs": [],
   "source": [
    "X_train = pd.read_csv(os.path.join(MODELS_DIR, \"datasets\", X_TRAIN_NAME), index_col=0)\n",
    "y_train = pd.read_csv(os.path.join(MODELS_DIR, \"datasets\", y_TRAIN_NAME), index_col=0)"
   ]
  },
  {
   "cell_type": "code",
   "execution_count": 8,
   "id": "41a466e1",
   "metadata": {},
   "outputs": [],
   "source": [
    "X_TEST_NAME = \"X_Structure gen..csv\"\n",
    "y_TEST_NAME = \"y_Structure gen..csv\""
   ]
  },
  {
   "cell_type": "code",
   "execution_count": 9,
   "id": "d40607d7",
   "metadata": {},
   "outputs": [],
   "source": [
    "X_test = pd.read_csv(MODELS_DIR + \"/datasets/\" + X_TEST_NAME, index_col=0)\n",
    "y_test = pd.read_csv(MODELS_DIR + \"/datasets/\" + y_TEST_NAME, index_col=0)"
   ]
  },
  {
   "cell_type": "code",
   "execution_count": 10,
   "id": "e421b338",
   "metadata": {},
   "outputs": [
    {
     "data": {
      "text/html": [
       "<div>\n",
       "<style scoped>\n",
       "    .dataframe tbody tr th:only-of-type {\n",
       "        vertical-align: middle;\n",
       "    }\n",
       "\n",
       "    .dataframe tbody tr th {\n",
       "        vertical-align: top;\n",
       "    }\n",
       "\n",
       "    .dataframe thead th {\n",
       "        text-align: right;\n",
       "    }\n",
       "</style>\n",
       "<table border=\"1\" class=\"dataframe\">\n",
       "  <thead>\n",
       "    <tr style=\"text-align: right;\">\n",
       "      <th></th>\n",
       "      <th>Ag</th>\n",
       "      <th>Al</th>\n",
       "      <th>Ar</th>\n",
       "      <th>As</th>\n",
       "      <th>Au</th>\n",
       "      <th>B</th>\n",
       "      <th>Ba</th>\n",
       "      <th>Be</th>\n",
       "      <th>Bi</th>\n",
       "      <th>Br</th>\n",
       "      <th>...</th>\n",
       "      <th>Tl</th>\n",
       "      <th>Tm</th>\n",
       "      <th>V</th>\n",
       "      <th>W</th>\n",
       "      <th>Xe</th>\n",
       "      <th>Y</th>\n",
       "      <th>Yb</th>\n",
       "      <th>Zn</th>\n",
       "      <th>Zr</th>\n",
       "      <th>total_atoms</th>\n",
       "    </tr>\n",
       "  </thead>\n",
       "  <tbody>\n",
       "    <tr>\n",
       "      <th>count</th>\n",
       "      <td>193.000000</td>\n",
       "      <td>193.000000</td>\n",
       "      <td>193.0</td>\n",
       "      <td>193.000000</td>\n",
       "      <td>193.000000</td>\n",
       "      <td>193.000000</td>\n",
       "      <td>193.000000</td>\n",
       "      <td>193.000000</td>\n",
       "      <td>193.000000</td>\n",
       "      <td>193.000000</td>\n",
       "      <td>...</td>\n",
       "      <td>193.000000</td>\n",
       "      <td>193.000000</td>\n",
       "      <td>193.000000</td>\n",
       "      <td>193.000000</td>\n",
       "      <td>193.0</td>\n",
       "      <td>193.000000</td>\n",
       "      <td>193.000000</td>\n",
       "      <td>193.000000</td>\n",
       "      <td>193.000000</td>\n",
       "      <td>193.0</td>\n",
       "    </tr>\n",
       "    <tr>\n",
       "      <th>mean</th>\n",
       "      <td>0.031088</td>\n",
       "      <td>0.015544</td>\n",
       "      <td>0.0</td>\n",
       "      <td>0.007772</td>\n",
       "      <td>0.010363</td>\n",
       "      <td>0.007772</td>\n",
       "      <td>0.007772</td>\n",
       "      <td>0.005181</td>\n",
       "      <td>0.018135</td>\n",
       "      <td>0.002591</td>\n",
       "      <td>...</td>\n",
       "      <td>0.015544</td>\n",
       "      <td>0.010363</td>\n",
       "      <td>0.007772</td>\n",
       "      <td>0.005181</td>\n",
       "      <td>0.0</td>\n",
       "      <td>0.012953</td>\n",
       "      <td>0.018135</td>\n",
       "      <td>0.023316</td>\n",
       "      <td>0.015544</td>\n",
       "      <td>2.0</td>\n",
       "    </tr>\n",
       "    <tr>\n",
       "      <th>std</th>\n",
       "      <td>0.121052</td>\n",
       "      <td>0.087004</td>\n",
       "      <td>0.0</td>\n",
       "      <td>0.062012</td>\n",
       "      <td>0.071417</td>\n",
       "      <td>0.062012</td>\n",
       "      <td>0.062012</td>\n",
       "      <td>0.050766</td>\n",
       "      <td>0.093723</td>\n",
       "      <td>0.035991</td>\n",
       "      <td>...</td>\n",
       "      <td>0.087004</td>\n",
       "      <td>0.071417</td>\n",
       "      <td>0.062012</td>\n",
       "      <td>0.050766</td>\n",
       "      <td>0.0</td>\n",
       "      <td>0.079635</td>\n",
       "      <td>0.093723</td>\n",
       "      <td>0.105699</td>\n",
       "      <td>0.087004</td>\n",
       "      <td>0.0</td>\n",
       "    </tr>\n",
       "    <tr>\n",
       "      <th>min</th>\n",
       "      <td>0.000000</td>\n",
       "      <td>0.000000</td>\n",
       "      <td>0.0</td>\n",
       "      <td>0.000000</td>\n",
       "      <td>0.000000</td>\n",
       "      <td>0.000000</td>\n",
       "      <td>0.000000</td>\n",
       "      <td>0.000000</td>\n",
       "      <td>0.000000</td>\n",
       "      <td>0.000000</td>\n",
       "      <td>...</td>\n",
       "      <td>0.000000</td>\n",
       "      <td>0.000000</td>\n",
       "      <td>0.000000</td>\n",
       "      <td>0.000000</td>\n",
       "      <td>0.0</td>\n",
       "      <td>0.000000</td>\n",
       "      <td>0.000000</td>\n",
       "      <td>0.000000</td>\n",
       "      <td>0.000000</td>\n",
       "      <td>2.0</td>\n",
       "    </tr>\n",
       "    <tr>\n",
       "      <th>25%</th>\n",
       "      <td>0.000000</td>\n",
       "      <td>0.000000</td>\n",
       "      <td>0.0</td>\n",
       "      <td>0.000000</td>\n",
       "      <td>0.000000</td>\n",
       "      <td>0.000000</td>\n",
       "      <td>0.000000</td>\n",
       "      <td>0.000000</td>\n",
       "      <td>0.000000</td>\n",
       "      <td>0.000000</td>\n",
       "      <td>...</td>\n",
       "      <td>0.000000</td>\n",
       "      <td>0.000000</td>\n",
       "      <td>0.000000</td>\n",
       "      <td>0.000000</td>\n",
       "      <td>0.0</td>\n",
       "      <td>0.000000</td>\n",
       "      <td>0.000000</td>\n",
       "      <td>0.000000</td>\n",
       "      <td>0.000000</td>\n",
       "      <td>2.0</td>\n",
       "    </tr>\n",
       "    <tr>\n",
       "      <th>50%</th>\n",
       "      <td>0.000000</td>\n",
       "      <td>0.000000</td>\n",
       "      <td>0.0</td>\n",
       "      <td>0.000000</td>\n",
       "      <td>0.000000</td>\n",
       "      <td>0.000000</td>\n",
       "      <td>0.000000</td>\n",
       "      <td>0.000000</td>\n",
       "      <td>0.000000</td>\n",
       "      <td>0.000000</td>\n",
       "      <td>...</td>\n",
       "      <td>0.000000</td>\n",
       "      <td>0.000000</td>\n",
       "      <td>0.000000</td>\n",
       "      <td>0.000000</td>\n",
       "      <td>0.0</td>\n",
       "      <td>0.000000</td>\n",
       "      <td>0.000000</td>\n",
       "      <td>0.000000</td>\n",
       "      <td>0.000000</td>\n",
       "      <td>2.0</td>\n",
       "    </tr>\n",
       "    <tr>\n",
       "      <th>75%</th>\n",
       "      <td>0.000000</td>\n",
       "      <td>0.000000</td>\n",
       "      <td>0.0</td>\n",
       "      <td>0.000000</td>\n",
       "      <td>0.000000</td>\n",
       "      <td>0.000000</td>\n",
       "      <td>0.000000</td>\n",
       "      <td>0.000000</td>\n",
       "      <td>0.000000</td>\n",
       "      <td>0.000000</td>\n",
       "      <td>...</td>\n",
       "      <td>0.000000</td>\n",
       "      <td>0.000000</td>\n",
       "      <td>0.000000</td>\n",
       "      <td>0.000000</td>\n",
       "      <td>0.0</td>\n",
       "      <td>0.000000</td>\n",
       "      <td>0.000000</td>\n",
       "      <td>0.000000</td>\n",
       "      <td>0.000000</td>\n",
       "      <td>2.0</td>\n",
       "    </tr>\n",
       "    <tr>\n",
       "      <th>max</th>\n",
       "      <td>0.500000</td>\n",
       "      <td>0.500000</td>\n",
       "      <td>0.0</td>\n",
       "      <td>0.500000</td>\n",
       "      <td>0.500000</td>\n",
       "      <td>0.500000</td>\n",
       "      <td>0.500000</td>\n",
       "      <td>0.500000</td>\n",
       "      <td>0.500000</td>\n",
       "      <td>0.500000</td>\n",
       "      <td>...</td>\n",
       "      <td>0.500000</td>\n",
       "      <td>0.500000</td>\n",
       "      <td>0.500000</td>\n",
       "      <td>0.500000</td>\n",
       "      <td>0.0</td>\n",
       "      <td>0.500000</td>\n",
       "      <td>0.500000</td>\n",
       "      <td>0.500000</td>\n",
       "      <td>0.500000</td>\n",
       "      <td>2.0</td>\n",
       "    </tr>\n",
       "  </tbody>\n",
       "</table>\n",
       "<p>8 rows × 86 columns</p>\n",
       "</div>"
      ],
      "text/plain": [
       "               Ag          Al     Ar          As          Au           B  \\\n",
       "count  193.000000  193.000000  193.0  193.000000  193.000000  193.000000   \n",
       "mean     0.031088    0.015544    0.0    0.007772    0.010363    0.007772   \n",
       "std      0.121052    0.087004    0.0    0.062012    0.071417    0.062012   \n",
       "min      0.000000    0.000000    0.0    0.000000    0.000000    0.000000   \n",
       "25%      0.000000    0.000000    0.0    0.000000    0.000000    0.000000   \n",
       "50%      0.000000    0.000000    0.0    0.000000    0.000000    0.000000   \n",
       "75%      0.000000    0.000000    0.0    0.000000    0.000000    0.000000   \n",
       "max      0.500000    0.500000    0.0    0.500000    0.500000    0.500000   \n",
       "\n",
       "               Ba          Be          Bi          Br  ...          Tl  \\\n",
       "count  193.000000  193.000000  193.000000  193.000000  ...  193.000000   \n",
       "mean     0.007772    0.005181    0.018135    0.002591  ...    0.015544   \n",
       "std      0.062012    0.050766    0.093723    0.035991  ...    0.087004   \n",
       "min      0.000000    0.000000    0.000000    0.000000  ...    0.000000   \n",
       "25%      0.000000    0.000000    0.000000    0.000000  ...    0.000000   \n",
       "50%      0.000000    0.000000    0.000000    0.000000  ...    0.000000   \n",
       "75%      0.000000    0.000000    0.000000    0.000000  ...    0.000000   \n",
       "max      0.500000    0.500000    0.500000    0.500000  ...    0.500000   \n",
       "\n",
       "               Tm           V           W     Xe           Y          Yb  \\\n",
       "count  193.000000  193.000000  193.000000  193.0  193.000000  193.000000   \n",
       "mean     0.010363    0.007772    0.005181    0.0    0.012953    0.018135   \n",
       "std      0.071417    0.062012    0.050766    0.0    0.079635    0.093723   \n",
       "min      0.000000    0.000000    0.000000    0.0    0.000000    0.000000   \n",
       "25%      0.000000    0.000000    0.000000    0.0    0.000000    0.000000   \n",
       "50%      0.000000    0.000000    0.000000    0.0    0.000000    0.000000   \n",
       "75%      0.000000    0.000000    0.000000    0.0    0.000000    0.000000   \n",
       "max      0.500000    0.500000    0.500000    0.0    0.500000    0.500000   \n",
       "\n",
       "               Zn          Zr  total_atoms  \n",
       "count  193.000000  193.000000        193.0  \n",
       "mean     0.023316    0.015544          2.0  \n",
       "std      0.105699    0.087004          0.0  \n",
       "min      0.000000    0.000000          2.0  \n",
       "25%      0.000000    0.000000          2.0  \n",
       "50%      0.000000    0.000000          2.0  \n",
       "75%      0.000000    0.000000          2.0  \n",
       "max      0.500000    0.500000          2.0  \n",
       "\n",
       "[8 rows x 86 columns]"
      ]
     },
     "execution_count": 10,
     "metadata": {},
     "output_type": "execute_result"
    }
   ],
   "source": [
    "X_test.describe()"
   ]
  },
  {
   "cell_type": "code",
   "execution_count": 11,
   "id": "a7c059d6",
   "metadata": {},
   "outputs": [],
   "source": [
    "pred_trees_train = np.array([estimator.predict(X_train) for estimator in model.estimators_]).T"
   ]
  },
  {
   "cell_type": "code",
   "execution_count": 12,
   "id": "db2571aa",
   "metadata": {},
   "outputs": [],
   "source": [
    "y_pred_train = model.predict(X_train)"
   ]
  },
  {
   "cell_type": "code",
   "execution_count": 13,
   "id": "59837a17",
   "metadata": {},
   "outputs": [
    {
     "data": {
      "text/plain": [
       "True"
      ]
     },
     "execution_count": 13,
     "metadata": {},
     "output_type": "execute_result"
    }
   ],
   "source": [
    "np.allclose(np.mean(pred_trees_train, axis=1), y_pred_train)"
   ]
  },
  {
   "cell_type": "code",
   "execution_count": 14,
   "id": "ecfe51af",
   "metadata": {},
   "outputs": [
    {
     "data": {
      "text/plain": [
       "<matplotlib.collections.PathCollection at 0x7f2532492ca0>"
      ]
     },
     "execution_count": 14,
     "metadata": {},
     "output_type": "execute_result"
    },
    {
     "data": {
      "image/png": "[encoded data removed]",
      "text/plain": [
       "<Figure size 432x288 with 1 Axes>"
      ]
     },
     "metadata": {
      "needs_background": "light"
     },
     "output_type": "display_data"
    }
   ],
   "source": [
    "y_pred_train_std = np.std(pred_trees_train, axis=1)\n",
    "y_dev_train = np.abs(y_pred_train - y_train.values.squeeze())\n",
    "plt.xlabel(\"Standard deviation of predicted values\")\n",
    "plt.ylabel(\"Absolute difference between predicted and actual values\")\n",
    "plt.title(f\"Reference energy regressor model - train set - R^2={r2_score(y_pred_train_std, y_dev_train):.2f}\")\n",
    "plt.scatter(y_pred_train_std, y_dev_train)"
   ]
  },
  {
   "cell_type": "code",
   "execution_count": 15,
   "id": "9851dd44",
   "metadata": {},
   "outputs": [
    {
     "data": {
      "text/plain": [
       "<matplotlib.collections.PathCollection at 0x7f253039a040>"
      ]
     },
     "execution_count": 15,
     "metadata": {},
     "output_type": "execute_result"
    },
    {
     "data": {
      "image/png": "[encoded data removed]",
      "text/plain": [
       "<Figure size 432x288 with 1 Axes>"
      ]
     },
     "metadata": {
      "needs_background": "light"
     },
     "output_type": "display_data"
    }
   ],
   "source": [
    "plt.xlabel(\"Actual values\")\n",
    "plt.ylabel(\"Predicted values\")\n",
    "plt.title(f\"Reference energy regressor model - train set - R^2={r2_score(y_pred_train, y_train.values.squeeze()):.2f}\")\n",
    "plt.scatter(y_pred_train, y_train.values.squeeze())"
   ]
  },
  {
   "cell_type": "code",
   "execution_count": 16,
   "id": "2ab40ec3",
   "metadata": {},
   "outputs": [],
   "source": [
    "pred_trees_test = np.array([estimator.predict(X_test) for estimator in model.estimators_]).T"
   ]
  },
  {
   "cell_type": "code",
   "execution_count": 17,
   "id": "e70228ef",
   "metadata": {},
   "outputs": [],
   "source": [
    "y_pred_test = model.predict(X_test)"
   ]
  },
  {
   "cell_type": "code",
   "execution_count": 18,
   "id": "2b7f00b9",
   "metadata": {},
   "outputs": [
    {
     "data": {
      "text/plain": [
       "<matplotlib.collections.PathCollection at 0x7f25302f7640>"
      ]
     },
     "execution_count": 18,
     "metadata": {},
     "output_type": "execute_result"
    },
    {
     "data": {
      "image/png": "[encoded data removed]",
      "text/plain": [
       "<Figure size 432x288 with 1 Axes>"
      ]
     },
     "metadata": {
      "needs_background": "light"
     },
     "output_type": "display_data"
    }
   ],
   "source": [
    "y_pred_test_std = np.std(pred_trees_test, axis=1)\n",
    "y_dev_test = np.abs(y_pred_test - y_test.values.squeeze())\n",
    "plt.xlabel(\"Standard deviation of predicted values\")\n",
    "plt.ylabel(\"Absolute difference between predicted and actual values\")\n",
    "plt.title(f\"Reference energy regressor model - test set - R^2={r2_score(y_pred_test_std, y_dev_test):.2f}\")\n",
    "plt.scatter(y_pred_test_std, y_dev_test)"
   ]
  },
  {
   "cell_type": "code",
   "execution_count": 19,
   "id": "8b19127c",
   "metadata": {},
   "outputs": [
    {
     "data": {
      "text/plain": [
       "<matplotlib.collections.PathCollection at 0x7f25302cd1f0>"
      ]
     },
     "execution_count": 19,
     "metadata": {},
     "output_type": "execute_result"
    },
    {
     "data": {
      "image/png": "[encoded data removed]",
      "text/plain": [
       "<Figure size 432x288 with 1 Axes>"
      ]
     },
     "metadata": {
      "needs_background": "light"
     },
     "output_type": "display_data"
    }
   ],
   "source": [
    "plt.xlabel(\"Actual values\")\n",
    "plt.ylabel(\"Predicted values\")\n",
    "plt.title(f\"Reference energy regressor model - test set - R^2={r2_score(y_pred_test, y_test.values.squeeze()):.2f}\")\n",
    "plt.scatter(y_pred_test, y_test.values.squeeze())"
   ]
  }
 ],
 "metadata": {
  "kernelspec": {
   "display_name": "Python 3 (ipykernel)",
   "language": "python",
   "name": "python3"
  },
  "language_info": {
   "codemirror_mode": {
    "name": "ipython",
    "version": 3
   },
   "file_extension": ".py",
   "mimetype": "text/x-python",
   "name": "python",
   "nbconvert_exporter": "python",
   "pygments_lexer": "ipython3",
   "version": "3.8.10"
  }
 },
 "nbformat": 4,
 "nbformat_minor": 5
}
