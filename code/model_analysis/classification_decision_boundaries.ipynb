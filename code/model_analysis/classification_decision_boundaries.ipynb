{
 "cells": [
  {
   "cell_type": "code",
   "execution_count": 67,
   "id": "7a991be6",
   "metadata": {},
   "outputs": [],
   "source": [
    "import numpy as np\n",
    "import matplotlib.pyplot as plt\n",
    "import matplotlib as mpl\n",
    "from matplotlib.colors import ListedColormap, BoundaryNorm\n",
    "import pandas as pd\n",
    "import plotly.express as px\n",
    "import os\n",
    "import pickle\n",
    "import sys\n",
    "import plotly.offline as pyo\n",
    "from pathlib import Path\n",
    "from sklearn.metrics import ConfusionMatrixDisplay"
   ]
  },
  {
   "cell_type": "code",
   "execution_count": 48,
   "id": "f0a57255",
   "metadata": {},
   "outputs": [],
   "source": [
    "ROOT_DIR = os.path.dirname(\n",
    "os.path.dirname(\n",
    "    str(Path(os.path.abspath('')).absolute())))\n",
    "\n",
    "sys.path.append(os.path.join(ROOT_DIR, \"code\"))\n",
    "from tools.data_loader import TestSet, TestSplit, data_loader\n",
    "from tools.transform import magnitude_transform\n",
    "from tools.utils import get_structure_encoding, StructureEncoding\n"
   ]
  },
  {
   "cell_type": "code",
   "execution_count": 49,
   "id": "b4d18a7b",
   "metadata": {},
   "outputs": [],
   "source": [
    "\n",
    "PLOT_ROOT = os.path.join(\n",
    "    str(Path(os.path.abspath('')).parent.parent.absolute()), \"plots/\")\n",
    "PLOT_DIR  = os.path.join(\n",
    "    str(Path(os.path.abspath('')).parent.parent.absolute()), \"plots/decision_boundaries/\")"
   ]
  },
  {
   "cell_type": "markdown",
   "id": "65e50265",
   "metadata": {},
   "source": [
    "# Load Model"
   ]
  },
  {
   "cell_type": "code",
   "execution_count": 50,
   "id": "40b19a1f",
   "metadata": {},
   "outputs": [],
   "source": [
    "TARGET_NAME = \"delta_E_magnitude/\"\n",
    "ENCODING_NAME = \"atomic/\"\n",
    "MODEL_NAME = \"random_forest_model.pkl\""
   ]
  },
  {
   "cell_type": "code",
   "execution_count": 51,
   "id": "84b100a6",
   "metadata": {},
   "outputs": [],
   "source": [
    "MODELS_DIR = os.path.join(\n",
    "    str(Path(os.path.abspath('')).parent.parent.absolute()), \"models/\", TARGET_NAME, ENCODING_NAME\n",
    ")"
   ]
  },
  {
   "cell_type": "code",
   "execution_count": 52,
   "id": "f4cf7b41",
   "metadata": {},
   "outputs": [],
   "source": [
    "with open(MODELS_DIR + MODEL_NAME, 'rb') as file:\n",
    "    model = pickle.load(file)"
   ]
  },
  {
   "cell_type": "markdown",
   "id": "52bc2e1b",
   "metadata": {},
   "source": [
    "# Load Data Sets"
   ]
  },
  {
   "cell_type": "code",
   "execution_count": 53,
   "id": "21bc0db4",
   "metadata": {},
   "outputs": [],
   "source": [
    "X_TRAIN_NAME = \"X_train.csv\"\n",
    "y_TRAIN_NAME = \"y_train.csv\""
   ]
  },
  {
   "cell_type": "code",
   "execution_count": 54,
   "id": "e7549323",
   "metadata": {},
   "outputs": [],
   "source": [
    "X_train = pd.read_csv(MODELS_DIR + \"/datasets/\" + X_TRAIN_NAME, index_col=0)\n",
    "y_train = pd.read_csv(MODELS_DIR + \"/datasets/\" + y_TRAIN_NAME, index_col=0)"
   ]
  },
  {
   "cell_type": "code",
   "execution_count": 55,
   "id": "41a466e1",
   "metadata": {},
   "outputs": [],
   "source": [
    "X_TEST_NAME = \"X_Parameter gen..csv\"\n",
    "y_TEST_NAME = \"y_Parameter gen..csv\""
   ]
  },
  {
   "cell_type": "code",
   "execution_count": 56,
   "id": "d40607d7",
   "metadata": {},
   "outputs": [],
   "source": [
    "X_test = pd.read_csv(MODELS_DIR + \"/datasets/\" + X_TEST_NAME, index_col=0)\n",
    "y_test = pd.read_csv(MODELS_DIR + \"/datasets/\" + y_TEST_NAME, index_col=0)"
   ]
  },
  {
   "cell_type": "code",
   "execution_count": 57,
   "id": "e421b338",
   "metadata": {},
   "outputs": [
    {
     "data": {
      "text/html": [
       "<div>\n",
       "<style scoped>\n",
       "    .dataframe tbody tr th:only-of-type {\n",
       "        vertical-align: middle;\n",
       "    }\n",
       "\n",
       "    .dataframe tbody tr th {\n",
       "        vertical-align: top;\n",
       "    }\n",
       "\n",
       "    .dataframe thead th {\n",
       "        text-align: right;\n",
       "    }\n",
       "</style>\n",
       "<table border=\"1\" class=\"dataframe\">\n",
       "  <thead>\n",
       "    <tr style=\"text-align: right;\">\n",
       "      <th></th>\n",
       "      <th>ecutrho</th>\n",
       "      <th>k_density</th>\n",
       "      <th>ecutwfc</th>\n",
       "      <th>Ag</th>\n",
       "      <th>Al</th>\n",
       "      <th>Ar</th>\n",
       "      <th>As</th>\n",
       "      <th>Au</th>\n",
       "      <th>B</th>\n",
       "      <th>Ba</th>\n",
       "      <th>...</th>\n",
       "      <th>Tl</th>\n",
       "      <th>Tm</th>\n",
       "      <th>V</th>\n",
       "      <th>W</th>\n",
       "      <th>Xe</th>\n",
       "      <th>Y</th>\n",
       "      <th>Yb</th>\n",
       "      <th>Zn</th>\n",
       "      <th>Zr</th>\n",
       "      <th>total_atoms</th>\n",
       "    </tr>\n",
       "  </thead>\n",
       "  <tbody>\n",
       "    <tr>\n",
       "      <th>count</th>\n",
       "      <td>53958.000000</td>\n",
       "      <td>53958.000000</td>\n",
       "      <td>53958.000000</td>\n",
       "      <td>53958.000000</td>\n",
       "      <td>53958.000000</td>\n",
       "      <td>53958.0</td>\n",
       "      <td>53958.000000</td>\n",
       "      <td>53958.000000</td>\n",
       "      <td>53958.000000</td>\n",
       "      <td>53958.000000</td>\n",
       "      <td>...</td>\n",
       "      <td>53958.000000</td>\n",
       "      <td>53958.000000</td>\n",
       "      <td>53958.000000</td>\n",
       "      <td>53958.000000</td>\n",
       "      <td>53958.0</td>\n",
       "      <td>53958.000000</td>\n",
       "      <td>53958.000000</td>\n",
       "      <td>53958.000000</td>\n",
       "      <td>53958.000000</td>\n",
       "      <td>53958.00000</td>\n",
       "    </tr>\n",
       "    <tr>\n",
       "      <th>mean</th>\n",
       "      <td>244.190667</td>\n",
       "      <td>5.894103</td>\n",
       "      <td>56.615423</td>\n",
       "      <td>0.018227</td>\n",
       "      <td>0.016893</td>\n",
       "      <td>0.0</td>\n",
       "      <td>0.014141</td>\n",
       "      <td>0.017560</td>\n",
       "      <td>0.008229</td>\n",
       "      <td>0.006950</td>\n",
       "      <td>...</td>\n",
       "      <td>0.015670</td>\n",
       "      <td>0.010823</td>\n",
       "      <td>0.011212</td>\n",
       "      <td>0.005949</td>\n",
       "      <td>0.0</td>\n",
       "      <td>0.018829</td>\n",
       "      <td>0.013075</td>\n",
       "      <td>0.020266</td>\n",
       "      <td>0.019914</td>\n",
       "      <td>2.01149</td>\n",
       "    </tr>\n",
       "    <tr>\n",
       "      <th>std</th>\n",
       "      <td>89.397661</td>\n",
       "      <td>2.819840</td>\n",
       "      <td>23.825105</td>\n",
       "      <td>0.093710</td>\n",
       "      <td>0.090339</td>\n",
       "      <td>0.0</td>\n",
       "      <td>0.082888</td>\n",
       "      <td>0.092042</td>\n",
       "      <td>0.063613</td>\n",
       "      <td>0.058538</td>\n",
       "      <td>...</td>\n",
       "      <td>0.087117</td>\n",
       "      <td>0.072764</td>\n",
       "      <td>0.074031</td>\n",
       "      <td>0.054214</td>\n",
       "      <td>0.0</td>\n",
       "      <td>0.095186</td>\n",
       "      <td>0.079791</td>\n",
       "      <td>0.098602</td>\n",
       "      <td>0.097778</td>\n",
       "      <td>0.15116</td>\n",
       "    </tr>\n",
       "    <tr>\n",
       "      <th>min</th>\n",
       "      <td>100.000000</td>\n",
       "      <td>2.000000</td>\n",
       "      <td>20.000000</td>\n",
       "      <td>0.000000</td>\n",
       "      <td>0.000000</td>\n",
       "      <td>0.0</td>\n",
       "      <td>0.000000</td>\n",
       "      <td>0.000000</td>\n",
       "      <td>0.000000</td>\n",
       "      <td>0.000000</td>\n",
       "      <td>...</td>\n",
       "      <td>0.000000</td>\n",
       "      <td>0.000000</td>\n",
       "      <td>0.000000</td>\n",
       "      <td>0.000000</td>\n",
       "      <td>0.0</td>\n",
       "      <td>0.000000</td>\n",
       "      <td>0.000000</td>\n",
       "      <td>0.000000</td>\n",
       "      <td>0.000000</td>\n",
       "      <td>2.00000</td>\n",
       "    </tr>\n",
       "    <tr>\n",
       "      <th>25%</th>\n",
       "      <td>180.000000</td>\n",
       "      <td>4.000000</td>\n",
       "      <td>35.000000</td>\n",
       "      <td>0.000000</td>\n",
       "      <td>0.000000</td>\n",
       "      <td>0.0</td>\n",
       "      <td>0.000000</td>\n",
       "      <td>0.000000</td>\n",
       "      <td>0.000000</td>\n",
       "      <td>0.000000</td>\n",
       "      <td>...</td>\n",
       "      <td>0.000000</td>\n",
       "      <td>0.000000</td>\n",
       "      <td>0.000000</td>\n",
       "      <td>0.000000</td>\n",
       "      <td>0.0</td>\n",
       "      <td>0.000000</td>\n",
       "      <td>0.000000</td>\n",
       "      <td>0.000000</td>\n",
       "      <td>0.000000</td>\n",
       "      <td>2.00000</td>\n",
       "    </tr>\n",
       "    <tr>\n",
       "      <th>50%</th>\n",
       "      <td>260.000000</td>\n",
       "      <td>6.000000</td>\n",
       "      <td>55.000000</td>\n",
       "      <td>0.000000</td>\n",
       "      <td>0.000000</td>\n",
       "      <td>0.0</td>\n",
       "      <td>0.000000</td>\n",
       "      <td>0.000000</td>\n",
       "      <td>0.000000</td>\n",
       "      <td>0.000000</td>\n",
       "      <td>...</td>\n",
       "      <td>0.000000</td>\n",
       "      <td>0.000000</td>\n",
       "      <td>0.000000</td>\n",
       "      <td>0.000000</td>\n",
       "      <td>0.0</td>\n",
       "      <td>0.000000</td>\n",
       "      <td>0.000000</td>\n",
       "      <td>0.000000</td>\n",
       "      <td>0.000000</td>\n",
       "      <td>2.00000</td>\n",
       "    </tr>\n",
       "    <tr>\n",
       "      <th>75%</th>\n",
       "      <td>340.000000</td>\n",
       "      <td>8.000000</td>\n",
       "      <td>75.000000</td>\n",
       "      <td>0.000000</td>\n",
       "      <td>0.000000</td>\n",
       "      <td>0.0</td>\n",
       "      <td>0.000000</td>\n",
       "      <td>0.000000</td>\n",
       "      <td>0.000000</td>\n",
       "      <td>0.000000</td>\n",
       "      <td>...</td>\n",
       "      <td>0.000000</td>\n",
       "      <td>0.000000</td>\n",
       "      <td>0.000000</td>\n",
       "      <td>0.000000</td>\n",
       "      <td>0.0</td>\n",
       "      <td>0.000000</td>\n",
       "      <td>0.000000</td>\n",
       "      <td>0.000000</td>\n",
       "      <td>0.000000</td>\n",
       "      <td>2.00000</td>\n",
       "    </tr>\n",
       "    <tr>\n",
       "      <th>max</th>\n",
       "      <td>380.000000</td>\n",
       "      <td>10.000000</td>\n",
       "      <td>100.000000</td>\n",
       "      <td>0.500000</td>\n",
       "      <td>0.500000</td>\n",
       "      <td>0.0</td>\n",
       "      <td>0.500000</td>\n",
       "      <td>0.500000</td>\n",
       "      <td>0.500000</td>\n",
       "      <td>0.500000</td>\n",
       "      <td>...</td>\n",
       "      <td>0.500000</td>\n",
       "      <td>0.500000</td>\n",
       "      <td>0.500000</td>\n",
       "      <td>0.500000</td>\n",
       "      <td>0.0</td>\n",
       "      <td>0.500000</td>\n",
       "      <td>0.500000</td>\n",
       "      <td>0.500000</td>\n",
       "      <td>0.500000</td>\n",
       "      <td>4.00000</td>\n",
       "    </tr>\n",
       "  </tbody>\n",
       "</table>\n",
       "<p>8 rows × 89 columns</p>\n",
       "</div>"
      ],
      "text/plain": [
       "            ecutrho     k_density       ecutwfc            Ag            Al  \\\n",
       "count  53958.000000  53958.000000  53958.000000  53958.000000  53958.000000   \n",
       "mean     244.190667      5.894103     56.615423      0.018227      0.016893   \n",
       "std       89.397661      2.819840     23.825105      0.093710      0.090339   \n",
       "min      100.000000      2.000000     20.000000      0.000000      0.000000   \n",
       "25%      180.000000      4.000000     35.000000      0.000000      0.000000   \n",
       "50%      260.000000      6.000000     55.000000      0.000000      0.000000   \n",
       "75%      340.000000      8.000000     75.000000      0.000000      0.000000   \n",
       "max      380.000000     10.000000    100.000000      0.500000      0.500000   \n",
       "\n",
       "            Ar            As            Au             B            Ba  ...  \\\n",
       "count  53958.0  53958.000000  53958.000000  53958.000000  53958.000000  ...   \n",
       "mean       0.0      0.014141      0.017560      0.008229      0.006950  ...   \n",
       "std        0.0      0.082888      0.092042      0.063613      0.058538  ...   \n",
       "min        0.0      0.000000      0.000000      0.000000      0.000000  ...   \n",
       "25%        0.0      0.000000      0.000000      0.000000      0.000000  ...   \n",
       "50%        0.0      0.000000      0.000000      0.000000      0.000000  ...   \n",
       "75%        0.0      0.000000      0.000000      0.000000      0.000000  ...   \n",
       "max        0.0      0.500000      0.500000      0.500000      0.500000  ...   \n",
       "\n",
       "                 Tl            Tm             V             W       Xe  \\\n",
       "count  53958.000000  53958.000000  53958.000000  53958.000000  53958.0   \n",
       "mean       0.015670      0.010823      0.011212      0.005949      0.0   \n",
       "std        0.087117      0.072764      0.074031      0.054214      0.0   \n",
       "min        0.000000      0.000000      0.000000      0.000000      0.0   \n",
       "25%        0.000000      0.000000      0.000000      0.000000      0.0   \n",
       "50%        0.000000      0.000000      0.000000      0.000000      0.0   \n",
       "75%        0.000000      0.000000      0.000000      0.000000      0.0   \n",
       "max        0.500000      0.500000      0.500000      0.500000      0.0   \n",
       "\n",
       "                  Y            Yb            Zn            Zr  total_atoms  \n",
       "count  53958.000000  53958.000000  53958.000000  53958.000000  53958.00000  \n",
       "mean       0.018829      0.013075      0.020266      0.019914      2.01149  \n",
       "std        0.095186      0.079791      0.098602      0.097778      0.15116  \n",
       "min        0.000000      0.000000      0.000000      0.000000      2.00000  \n",
       "25%        0.000000      0.000000      0.000000      0.000000      2.00000  \n",
       "50%        0.000000      0.000000      0.000000      0.000000      2.00000  \n",
       "75%        0.000000      0.000000      0.000000      0.000000      2.00000  \n",
       "max        0.500000      0.500000      0.500000      0.500000      4.00000  \n",
       "\n",
       "[8 rows x 89 columns]"
      ]
     },
     "execution_count": 57,
     "metadata": {},
     "output_type": "execute_result"
    }
   ],
   "source": [
    "X_test.describe()"
   ]
  },
  {
   "cell_type": "markdown",
   "id": "18f7fe4c",
   "metadata": {},
   "source": [
    "# Plot the confusion matrix"
   ]
  },
  {
   "cell_type": "markdown",
   "id": "3b663bef",
   "metadata": {},
   "source": [
    "We plot the confusion matrix for the structure generalization test set"
   ]
  },
  {
   "cell_type": "code",
   "execution_count": 58,
   "id": "37357377",
   "metadata": {},
   "outputs": [],
   "source": [
    "X_TEST_NAME = \"X_Structure gen..csv\"\n",
    "y_TEST_NAME = \"y_Structure gen..csv\"\n",
    "X_test_structure = pd.read_csv(MODELS_DIR + \"/datasets/\" + X_TEST_NAME, index_col=0)\n",
    "y_test_structure = pd.read_csv(MODELS_DIR + \"/datasets/\" + y_TEST_NAME, index_col=0)"
   ]
  },
  {
   "cell_type": "code",
   "execution_count": 59,
   "id": "0bfb1004",
   "metadata": {},
   "outputs": [
    {
     "data": {
      "image/png": "[encoded data removed]",
      "text/plain": [
       "<Figure size 504x504 with 2 Axes>"
      ]
     },
     "metadata": {
      "needs_background": "light"
     },
     "output_type": "display_data"
    }
   ],
   "source": [
    "y_pred = model.predict(X_test_structure)\n",
    "fs=12\n",
    "fig, ax = plt.subplots(figsize=(7, 7))\n",
    "ConfusionMatrixDisplay.from_predictions(\n",
    "    y_test_structure,\n",
    "    y_pred,\n",
    "    include_values=True,\n",
    "    cmap=\"plasma\",\n",
    "    ax=ax\n",
    "\n",
    ")\n",
    "ax.set_xlabel(\"Predicted neg. order of magnitude\", fontsize=fs)\n",
    "ax.set_ylabel(\"True neg. order of magnitude\", fontsize=fs)\n",
    "plt.savefig(PLOT_ROOT + \"confusion_mat.png\")\n",
    "plt.show()"
   ]
  },
  {
   "cell_type": "markdown",
   "id": "7632db35",
   "metadata": {},
   "source": [
    "# Choose a structure"
   ]
  },
  {
   "cell_type": "code",
   "execution_count": 60,
   "id": "0251a74c",
   "metadata": {},
   "outputs": [],
   "source": [
    "structure_key = 'GeTe'"
   ]
  },
  {
   "cell_type": "code",
   "execution_count": 61,
   "id": "022fb821",
   "metadata": {},
   "outputs": [],
   "source": [
    "def filter_data(X, y, structure_key):\n",
    "    elt1 = structure_key[0:2]\n",
    "    elt2 = structure_key[2:]\n",
    "    print(elt1)\n",
    "    print(elt2)\n",
    "    \n",
    "    mask = (X[elt1]*X[elt2]).to_numpy().nonzero()[0]\n",
    "    print(f\"Size of subset for {structure_key}: \", len(mask))\n",
    "    \n",
    "    return X.iloc[mask], y.iloc[mask]"
   ]
  },
  {
   "cell_type": "code",
   "execution_count": 62,
   "id": "0eb1656a",
   "metadata": {},
   "outputs": [
    {
     "name": "stdout",
     "output_type": "stream",
     "text": [
      "Ge\n",
      "Te\n",
      "Size of subset for GeTe:  512\n",
      "Ge\n",
      "Te\n",
      "Size of subset for GeTe:  61\n"
     ]
    }
   ],
   "source": [
    "X_train, y_train = filter_data(X_train, y_train, structure_key)\n",
    "X_test, y_test = filter_data(X_test, y_test, structure_key)"
   ]
  },
  {
   "cell_type": "code",
   "execution_count": null,
   "id": "c29a7b7e",
   "metadata": {},
   "outputs": [],
   "source": []
  },
  {
   "cell_type": "markdown",
   "id": "42075703",
   "metadata": {},
   "source": [
    "# Initialize grid"
   ]
  },
  {
   "cell_type": "code",
   "execution_count": 63,
   "id": "f7a8012c",
   "metadata": {},
   "outputs": [],
   "source": [
    "h = 0.5\n",
    "x_min_train, x_max_train = X_train['ecutwfc'].min() - 1, X_train['ecutwfc'].max() + 1\n",
    "y_min_train, y_max_train = X_train['k_density'].min() - 1, X_train['k_density'].max() + 1\n",
    "\n",
    "\n",
    "x_min_test, x_max_test = X_test['ecutwfc'].min() - 1, X_test['ecutwfc'].max() + 1\n",
    "y_min_test, y_max_test = X_test['k_density'].min() - 1, X_test['k_density'].max() + 1\n",
    "\n",
    "x_max = max(x_max_train, x_max_test)\n",
    "y_max = max(y_max_train, y_max_test)\n",
    "x_min = min(x_min_train, x_min_test)\n",
    "y_min = min(y_min_train, y_min_test)\n",
    "\n",
    "\n",
    "xx, yy = np.meshgrid(np.arange(x_min, x_max, h), np.arange(y_min, y_max, h))\n"
   ]
  },
  {
   "cell_type": "markdown",
   "id": "067df65e",
   "metadata": {},
   "source": [
    "# Get decision boundary for a given structure structure"
   ]
  },
  {
   "cell_type": "code",
   "execution_count": 64,
   "id": "81535027",
   "metadata": {},
   "outputs": [],
   "source": [
    "structure_encoding = get_structure_encoding(structure_key, StructureEncoding.ATOMIC)"
   ]
  },
  {
   "cell_type": "code",
   "execution_count": 87,
   "id": "9d52ce99",
   "metadata": {},
   "outputs": [],
   "source": [
    "def assemble_features(xx, yy):\n",
    "    return np.vstack((4*xx.T, yy.T, xx.T))\n",
    "\n",
    "\n",
    "def magnitude_prediction(xx, yy, estimator, structure_encoding):\n",
    "    structure_block = np.stack([structure_encoding for _ in range(len(xx))])\n",
    "    input = np.vstack((assemble_features(xx, yy), structure_block.T)).T\n",
    "    #input = pd.DataFrame(input.T, columns=X_train.columns)\n",
    "    return estimator.predict(input)\n",
    "\n"
   ]
  },
  {
   "cell_type": "markdown",
   "id": "8043ed46",
   "metadata": {},
   "source": [
    "estimator_alpha = 1.0 / len(model.estimators_)\n",
    "for estimator in model.estimators_:\n",
    "    predictor = lambda xx, yy : magnitude_prediction(xx, yy, estimator, structure_encoding)\n",
    "    \n",
    "    Z = -predictor(xx.ravel(), yy.ravel())\n",
    "    Z = Z.reshape(xx.shape)\n",
    "    cs = ax.contourf(xx, yy, Z, alpha=estimator_alpha, cmap=cm)"
   ]
  },
  {
   "cell_type": "code",
   "execution_count": 88,
   "id": "fbeb7d4b",
   "metadata": {},
   "outputs": [
    {
     "data": {
      "text/plain": [
       "array([3, 4, 5, 6, 7, 8, 9])"
      ]
     },
     "execution_count": 88,
     "metadata": {},
     "output_type": "execute_result"
    }
   ],
   "source": [
    "np.unique(y_train['delta_E'].to_numpy())"
   ]
  },
  {
   "cell_type": "code",
   "execution_count": 108,
   "id": "6d858bf1",
   "metadata": {},
   "outputs": [
    {
     "data": {
      "text/plain": [
       "masked_array(data=[0.        , 0.16666667, 0.33333333, 0.5       ,\n",
       "                   0.66666667, 0.83333333, 1.        ],\n",
       "             mask=False,\n",
       "       fill_value=1e+20)"
      ]
     },
     "execution_count": 108,
     "metadata": {},
     "output_type": "execute_result"
    }
   ],
   "source": [
    "vmax = max(max(y_train['delta_E']), max(y_test['delta_E']))\n",
    "vmin = min(min(y_train['delta_E']), min(y_test['delta_E']))\n",
    "nlabels = len(np.unique(y_train['delta_E'].to_numpy()))\n",
    "bounds = np.arange(vmin, vmax+1) - 0.5\n",
    "\n",
    "cm = plt.cm.plasma \n",
    "norm = BoundaryNorm(boundaries=bounds, ncolors=nlabels)\n",
    "norm =  mpl.colors.Normalize(vmin=vmin, vmax=vmax)\n",
    "norm([3, 4, 5, 6, 7, 8, 9])"
   ]
  },
  {
   "cell_type": "code",
   "execution_count": 117,
   "id": "a7c059d6",
   "metadata": {},
   "outputs": [
    {
     "name": "stdout",
     "output_type": "stream",
     "text": [
      "[[-2 -2 -2 ... -1 -1 -1]\n",
      " [-2 -2 -2 ... -1 -1 -1]\n",
      " [-2 -2 -2 ... -1 -1 -1]\n",
      " ...\n",
      " [-2 -2 -2 ...  1  1  1]\n",
      " [-2 -2 -2 ...  1  1  1]\n",
      " [-2 -2 -2 ...  1  1  1]]\n"
     ]
    },
    {
     "name": "stderr",
     "output_type": "stream",
     "text": [
      "/Users/philipp/opt/anaconda3/lib/python3.8/site-packages/sklearn/base.py:445: UserWarning:\n",
      "\n",
      "X does not have valid feature names, but RandomForestClassifier was fitted with feature names\n",
      "\n"
     ]
    },
    {
     "data": {
      "text/plain": [
       "(1.0, 10.5)"
      ]
     },
     "execution_count": 117,
     "metadata": {},
     "output_type": "execute_result"
    },
    {
     "data": {
      "image/png": "[encoded data removed]",
      "text/plain": [
       "<Figure size 720x576 with 2 Axes>"
      ]
     },
     "metadata": {
      "needs_background": "light"
     },
     "output_type": "display_data"
    }
   ],
   "source": [
    "\n",
    "fig, ax = plt.subplots(1, 1, figsize=(10,8))\n",
    "    \n",
    "predictor = lambda xx, yy : magnitude_prediction(xx, yy, model, structure_encoding)\n",
    "sm = plt.cm.ScalarMappable(cmap=cm, norm=norm)\n",
    "\n",
    "Z = predictor(xx.ravel(), yy.ravel())\n",
    "Z = Z.reshape(xx.shape)\n",
    "cs = ax.contourf(xx, yy, Z, alpha=1, cmap=cm)\n",
    "    \n",
    "ax.scatter(X_train['ecutwfc'], X_train['k_density'], c=y_train['delta_E'], alpha=0.5, cmap=cm)\n",
    "ax.scatter(X_test['ecutwfc'], X_test['k_density'], c=y_test['delta_E'], edgecolors=\"k\", cmap=cm)\n",
    "\n",
    "plt.title(structure_key, fontsize=14)\n",
    "fig.colorbar(sm, label=\"neg. order of magnitude\")\n",
    "ax.set_xlabel(\"ecutwfc\")\n",
    "ax.set_ylabel(\"k_density\")\n",
    "ax.set_xlim(xx.min(), xx.max())\n",
    "ax.set_ylim(yy.min(), yy.max())"
   ]
  },
  {
   "cell_type": "code",
   "execution_count": 116,
   "id": "2afd60a6",
   "metadata": {},
   "outputs": [
    {
     "data": {
      "text/plain": [
       "array([[-2, -2, -2, ..., -1, -1, -1],\n",
       "       [-2, -2, -2, ..., -1, -1, -1],\n",
       "       [-2, -2, -2, ..., -1, -1, -1],\n",
       "       ...,\n",
       "       [-2, -2, -2, ...,  1,  1,  1],\n",
       "       [-2, -2, -2, ...,  1,  1,  1],\n",
       "       [-2, -2, -2, ...,  1,  1,  1]])"
      ]
     },
     "execution_count": 116,
     "metadata": {},
     "output_type": "execute_result"
    }
   ],
   "source": [
    "Z"
   ]
  },
  {
   "cell_type": "code",
   "execution_count": 1,
   "id": "417daeea",
   "metadata": {},
   "outputs": [],
   "source": [
    "structures = [\n",
    "    {\"name\": \"NaCl\", \"rho_factor\": 4},\n",
    "    {\"name\": \"GeTe\", \"rho_factor\": 4},\n",
    "    {\"name\": \"AgCl\", \"rho_factor\": 4},\n",
    "]"
   ]
  },
  {
   "cell_type": "code",
   "execution_count": null,
   "id": "e70dd921",
   "metadata": {},
   "outputs": [],
   "source": [
    "for structure in structures:\n",
    "    print(structure)"
   ]
  }
 ],
 "metadata": {
  "kernelspec": {
   "display_name": "Python 3 (ipykernel)",
   "language": "python",
   "name": "python3"
  },
  "language_info": {
   "codemirror_mode": {
    "name": "ipython",
    "version": 3
   },
   "file_extension": ".py",
   "mimetype": "text/x-python",
   "name": "python",
   "nbconvert_exporter": "python",
   "pygments_lexer": "ipython3",
   "version": "3.8.12"
  }
 },
 "nbformat": 4,
 "nbformat_minor": 5
}
