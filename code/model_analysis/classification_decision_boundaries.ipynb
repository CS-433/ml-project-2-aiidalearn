{
 "cells": [
  {
   "cell_type": "code",
   "execution_count": 1,
   "id": "7a991be6",
   "metadata": {},
   "outputs": [],
   "source": [
    "import numpy as np\n",
    "import matplotlib.pyplot as plt\n",
    "import matplotlib as mpl\n",
    "from matplotlib.colors import ListedColormap, BoundaryNorm\n",
    "import pandas as pd\n",
    "import plotly.express as px\n",
    "import os\n",
    "import pickle\n",
    "import sys\n",
    "import plotly.offline as pyo\n",
    "from pathlib import Path\n",
    "from sklearn.metrics import ConfusionMatrixDisplay"
   ]
  },
  {
   "cell_type": "code",
   "execution_count": 2,
   "id": "f0a57255",
   "metadata": {},
   "outputs": [],
   "source": [
    "ROOT_DIR = str(Path(os.path.abspath('')).parent.parent)\n",
    "\n",
    "sys.path.append(os.path.join(ROOT_DIR, \"code\"))\n",
    "from tools.data_loader import TestSet, TestSplit, data_loader\n",
    "from tools.transform import magnitude_transform\n",
    "from tools.utils import get_structure_encoding, StructureEncoding"
   ]
  },
  {
   "cell_type": "code",
   "execution_count": 3,
   "id": "b4d18a7b",
   "metadata": {},
   "outputs": [],
   "source": [
    "PLOT_ROOT = os.path.join(ROOT_DIR, \"plots/\")\n",
    "PLOT_DIR  = os.path.join(ROOT_DIR, \"plots/decision_boundaries/\")"
   ]
  },
  {
   "cell_type": "markdown",
   "id": "65e50265",
   "metadata": {},
   "source": [
    "# Load Model"
   ]
  },
  {
   "cell_type": "code",
   "execution_count": 4,
   "id": "84b100a6",
   "metadata": {},
   "outputs": [],
   "source": [
    "MODELS_DIR = os.path.join(ROOT_DIR, \"models/delta_E_magnitude/atomic\")"
   ]
  },
  {
   "cell_type": "code",
   "execution_count": 5,
   "id": "f4cf7b41",
   "metadata": {},
   "outputs": [],
   "source": [
    "MODEL_NAME = \"random_forest_model.pkl\"\n",
    "with open(os.path.join(MODELS_DIR, MODEL_NAME), 'rb') as file:\n",
    "    model = pickle.load(file)"
   ]
  },
  {
   "cell_type": "markdown",
   "id": "52bc2e1b",
   "metadata": {},
   "source": [
    "# Load Data Sets"
   ]
  },
  {
   "cell_type": "code",
   "execution_count": 6,
   "id": "e7549323",
   "metadata": {},
   "outputs": [],
   "source": [
    "X_train = pd.read_csv(os.path.join(MODELS_DIR, \"datasets/X_train.csv\"), index_col=0)\n",
    "y_train = pd.read_csv(os.path.join(MODELS_DIR, \"datasets/y_train.csv\"), index_col=0)"
   ]
  },
  {
   "cell_type": "code",
   "execution_count": 7,
   "id": "d40607d7",
   "metadata": {},
   "outputs": [],
   "source": [
    "X_test = pd.read_csv(os.path.join(MODELS_DIR, \"datasets/X_Parameter gen..csv\"), index_col=0)\n",
    "y_test = pd.read_csv(os.path.join(MODELS_DIR, \"datasets/y_Parameter gen..csv\"), index_col=0)"
   ]
  },
  {
   "cell_type": "code",
   "execution_count": 8,
   "id": "e421b338",
   "metadata": {},
   "outputs": [
    {
     "data": {
      "text/html": [
       "<div>\n",
       "<style scoped>\n",
       "    .dataframe tbody tr th:only-of-type {\n",
       "        vertical-align: middle;\n",
       "    }\n",
       "\n",
       "    .dataframe tbody tr th {\n",
       "        vertical-align: top;\n",
       "    }\n",
       "\n",
       "    .dataframe thead th {\n",
       "        text-align: right;\n",
       "    }\n",
       "</style>\n",
       "<table border=\"1\" class=\"dataframe\">\n",
       "  <thead>\n",
       "    <tr style=\"text-align: right;\">\n",
       "      <th></th>\n",
       "      <th>ecutrho</th>\n",
       "      <th>k_density</th>\n",
       "      <th>ecutwfc</th>\n",
       "      <th>Ag</th>\n",
       "      <th>Al</th>\n",
       "      <th>Ar</th>\n",
       "      <th>As</th>\n",
       "      <th>Au</th>\n",
       "      <th>B</th>\n",
       "      <th>Ba</th>\n",
       "      <th>...</th>\n",
       "      <th>Tl</th>\n",
       "      <th>Tm</th>\n",
       "      <th>V</th>\n",
       "      <th>W</th>\n",
       "      <th>Xe</th>\n",
       "      <th>Y</th>\n",
       "      <th>Yb</th>\n",
       "      <th>Zn</th>\n",
       "      <th>Zr</th>\n",
       "      <th>total_atoms</th>\n",
       "    </tr>\n",
       "  </thead>\n",
       "  <tbody>\n",
       "    <tr>\n",
       "      <th>count</th>\n",
       "      <td>53958.000000</td>\n",
       "      <td>53958.000000</td>\n",
       "      <td>53958.000000</td>\n",
       "      <td>53958.000000</td>\n",
       "      <td>53958.000000</td>\n",
       "      <td>53958.0</td>\n",
       "      <td>53958.000000</td>\n",
       "      <td>53958.000000</td>\n",
       "      <td>53958.000000</td>\n",
       "      <td>53958.000000</td>\n",
       "      <td>...</td>\n",
       "      <td>53958.000000</td>\n",
       "      <td>53958.000000</td>\n",
       "      <td>53958.000000</td>\n",
       "      <td>53958.000000</td>\n",
       "      <td>53958.0</td>\n",
       "      <td>53958.000000</td>\n",
       "      <td>53958.000000</td>\n",
       "      <td>53958.000000</td>\n",
       "      <td>53958.000000</td>\n",
       "      <td>53958.000000</td>\n",
       "    </tr>\n",
       "    <tr>\n",
       "      <th>mean</th>\n",
       "      <td>244.398977</td>\n",
       "      <td>5.896512</td>\n",
       "      <td>56.761185</td>\n",
       "      <td>0.018681</td>\n",
       "      <td>0.016782</td>\n",
       "      <td>0.0</td>\n",
       "      <td>0.013992</td>\n",
       "      <td>0.016921</td>\n",
       "      <td>0.008590</td>\n",
       "      <td>0.007663</td>\n",
       "      <td>...</td>\n",
       "      <td>0.016281</td>\n",
       "      <td>0.009489</td>\n",
       "      <td>0.013186</td>\n",
       "      <td>0.006737</td>\n",
       "      <td>0.0</td>\n",
       "      <td>0.016068</td>\n",
       "      <td>0.014669</td>\n",
       "      <td>0.019330</td>\n",
       "      <td>0.021572</td>\n",
       "      <td>2.010267</td>\n",
       "    </tr>\n",
       "    <tr>\n",
       "      <th>std</th>\n",
       "      <td>89.617252</td>\n",
       "      <td>2.816602</td>\n",
       "      <td>23.766719</td>\n",
       "      <td>0.094825</td>\n",
       "      <td>0.090052</td>\n",
       "      <td>0.0</td>\n",
       "      <td>0.082465</td>\n",
       "      <td>0.090411</td>\n",
       "      <td>0.064972</td>\n",
       "      <td>0.061425</td>\n",
       "      <td>...</td>\n",
       "      <td>0.088745</td>\n",
       "      <td>0.068224</td>\n",
       "      <td>0.080121</td>\n",
       "      <td>0.057646</td>\n",
       "      <td>0.0</td>\n",
       "      <td>0.088182</td>\n",
       "      <td>0.084376</td>\n",
       "      <td>0.096392</td>\n",
       "      <td>0.101592</td>\n",
       "      <td>0.142932</td>\n",
       "    </tr>\n",
       "    <tr>\n",
       "      <th>min</th>\n",
       "      <td>100.000000</td>\n",
       "      <td>2.000000</td>\n",
       "      <td>20.000000</td>\n",
       "      <td>0.000000</td>\n",
       "      <td>0.000000</td>\n",
       "      <td>0.0</td>\n",
       "      <td>0.000000</td>\n",
       "      <td>0.000000</td>\n",
       "      <td>0.000000</td>\n",
       "      <td>0.000000</td>\n",
       "      <td>...</td>\n",
       "      <td>0.000000</td>\n",
       "      <td>0.000000</td>\n",
       "      <td>0.000000</td>\n",
       "      <td>0.000000</td>\n",
       "      <td>0.0</td>\n",
       "      <td>0.000000</td>\n",
       "      <td>0.000000</td>\n",
       "      <td>0.000000</td>\n",
       "      <td>0.000000</td>\n",
       "      <td>2.000000</td>\n",
       "    </tr>\n",
       "    <tr>\n",
       "      <th>25%</th>\n",
       "      <td>180.000000</td>\n",
       "      <td>4.000000</td>\n",
       "      <td>35.000000</td>\n",
       "      <td>0.000000</td>\n",
       "      <td>0.000000</td>\n",
       "      <td>0.0</td>\n",
       "      <td>0.000000</td>\n",
       "      <td>0.000000</td>\n",
       "      <td>0.000000</td>\n",
       "      <td>0.000000</td>\n",
       "      <td>...</td>\n",
       "      <td>0.000000</td>\n",
       "      <td>0.000000</td>\n",
       "      <td>0.000000</td>\n",
       "      <td>0.000000</td>\n",
       "      <td>0.0</td>\n",
       "      <td>0.000000</td>\n",
       "      <td>0.000000</td>\n",
       "      <td>0.000000</td>\n",
       "      <td>0.000000</td>\n",
       "      <td>2.000000</td>\n",
       "    </tr>\n",
       "    <tr>\n",
       "      <th>50%</th>\n",
       "      <td>260.000000</td>\n",
       "      <td>6.000000</td>\n",
       "      <td>55.000000</td>\n",
       "      <td>0.000000</td>\n",
       "      <td>0.000000</td>\n",
       "      <td>0.0</td>\n",
       "      <td>0.000000</td>\n",
       "      <td>0.000000</td>\n",
       "      <td>0.000000</td>\n",
       "      <td>0.000000</td>\n",
       "      <td>...</td>\n",
       "      <td>0.000000</td>\n",
       "      <td>0.000000</td>\n",
       "      <td>0.000000</td>\n",
       "      <td>0.000000</td>\n",
       "      <td>0.0</td>\n",
       "      <td>0.000000</td>\n",
       "      <td>0.000000</td>\n",
       "      <td>0.000000</td>\n",
       "      <td>0.000000</td>\n",
       "      <td>2.000000</td>\n",
       "    </tr>\n",
       "    <tr>\n",
       "      <th>75%</th>\n",
       "      <td>340.000000</td>\n",
       "      <td>8.000000</td>\n",
       "      <td>75.000000</td>\n",
       "      <td>0.000000</td>\n",
       "      <td>0.000000</td>\n",
       "      <td>0.0</td>\n",
       "      <td>0.000000</td>\n",
       "      <td>0.000000</td>\n",
       "      <td>0.000000</td>\n",
       "      <td>0.000000</td>\n",
       "      <td>...</td>\n",
       "      <td>0.000000</td>\n",
       "      <td>0.000000</td>\n",
       "      <td>0.000000</td>\n",
       "      <td>0.000000</td>\n",
       "      <td>0.0</td>\n",
       "      <td>0.000000</td>\n",
       "      <td>0.000000</td>\n",
       "      <td>0.000000</td>\n",
       "      <td>0.000000</td>\n",
       "      <td>2.000000</td>\n",
       "    </tr>\n",
       "    <tr>\n",
       "      <th>max</th>\n",
       "      <td>380.000000</td>\n",
       "      <td>10.000000</td>\n",
       "      <td>100.000000</td>\n",
       "      <td>0.500000</td>\n",
       "      <td>0.500000</td>\n",
       "      <td>0.0</td>\n",
       "      <td>0.500000</td>\n",
       "      <td>0.500000</td>\n",
       "      <td>0.500000</td>\n",
       "      <td>0.500000</td>\n",
       "      <td>...</td>\n",
       "      <td>0.500000</td>\n",
       "      <td>0.500000</td>\n",
       "      <td>0.500000</td>\n",
       "      <td>0.500000</td>\n",
       "      <td>0.0</td>\n",
       "      <td>0.500000</td>\n",
       "      <td>0.500000</td>\n",
       "      <td>0.500000</td>\n",
       "      <td>0.500000</td>\n",
       "      <td>4.000000</td>\n",
       "    </tr>\n",
       "  </tbody>\n",
       "</table>\n",
       "<p>8 rows × 89 columns</p>\n",
       "</div>"
      ],
      "text/plain": [
       "            ecutrho     k_density       ecutwfc            Ag            Al  \\\n",
       "count  53958.000000  53958.000000  53958.000000  53958.000000  53958.000000   \n",
       "mean     244.398977      5.896512     56.761185      0.018681      0.016782   \n",
       "std       89.617252      2.816602     23.766719      0.094825      0.090052   \n",
       "min      100.000000      2.000000     20.000000      0.000000      0.000000   \n",
       "25%      180.000000      4.000000     35.000000      0.000000      0.000000   \n",
       "50%      260.000000      6.000000     55.000000      0.000000      0.000000   \n",
       "75%      340.000000      8.000000     75.000000      0.000000      0.000000   \n",
       "max      380.000000     10.000000    100.000000      0.500000      0.500000   \n",
       "\n",
       "            Ar            As            Au             B            Ba  ...  \\\n",
       "count  53958.0  53958.000000  53958.000000  53958.000000  53958.000000  ...   \n",
       "mean       0.0      0.013992      0.016921      0.008590      0.007663  ...   \n",
       "std        0.0      0.082465      0.090411      0.064972      0.061425  ...   \n",
       "min        0.0      0.000000      0.000000      0.000000      0.000000  ...   \n",
       "25%        0.0      0.000000      0.000000      0.000000      0.000000  ...   \n",
       "50%        0.0      0.000000      0.000000      0.000000      0.000000  ...   \n",
       "75%        0.0      0.000000      0.000000      0.000000      0.000000  ...   \n",
       "max        0.0      0.500000      0.500000      0.500000      0.500000  ...   \n",
       "\n",
       "                 Tl            Tm             V             W       Xe  \\\n",
       "count  53958.000000  53958.000000  53958.000000  53958.000000  53958.0   \n",
       "mean       0.016281      0.009489      0.013186      0.006737      0.0   \n",
       "std        0.088745      0.068224      0.080121      0.057646      0.0   \n",
       "min        0.000000      0.000000      0.000000      0.000000      0.0   \n",
       "25%        0.000000      0.000000      0.000000      0.000000      0.0   \n",
       "50%        0.000000      0.000000      0.000000      0.000000      0.0   \n",
       "75%        0.000000      0.000000      0.000000      0.000000      0.0   \n",
       "max        0.500000      0.500000      0.500000      0.500000      0.0   \n",
       "\n",
       "                  Y            Yb            Zn            Zr   total_atoms  \n",
       "count  53958.000000  53958.000000  53958.000000  53958.000000  53958.000000  \n",
       "mean       0.016068      0.014669      0.019330      0.021572      2.010267  \n",
       "std        0.088182      0.084376      0.096392      0.101592      0.142932  \n",
       "min        0.000000      0.000000      0.000000      0.000000      2.000000  \n",
       "25%        0.000000      0.000000      0.000000      0.000000      2.000000  \n",
       "50%        0.000000      0.000000      0.000000      0.000000      2.000000  \n",
       "75%        0.000000      0.000000      0.000000      0.000000      2.000000  \n",
       "max        0.500000      0.500000      0.500000      0.500000      4.000000  \n",
       "\n",
       "[8 rows x 89 columns]"
      ]
     },
     "execution_count": 8,
     "metadata": {},
     "output_type": "execute_result"
    }
   ],
   "source": [
    "X_test.describe()"
   ]
  },
  {
   "cell_type": "markdown",
   "id": "18f7fe4c",
   "metadata": {},
   "source": [
    "# Plot the confusion matrix"
   ]
  },
  {
   "cell_type": "markdown",
   "id": "3b663bef",
   "metadata": {},
   "source": [
    "We plot the confusion matrix for the structure generalization test set"
   ]
  },
  {
   "cell_type": "code",
   "execution_count": 9,
   "id": "37357377",
   "metadata": {},
   "outputs": [],
   "source": [
    "X_test_structure = pd.read_csv(os.path.join(MODELS_DIR, \"datasets/X_Structure gen..csv\"), index_col=0)\n",
    "y_test_structure = pd.read_csv(os.path.join(MODELS_DIR, \"datasets/y_Structure gen..csv\"), index_col=0)"
   ]
  },
  {
   "cell_type": "code",
   "execution_count": 10,
   "id": "0bfb1004",
   "metadata": {},
   "outputs": [
    {
     "ename": "AttributeError",
     "evalue": "type object 'ConfusionMatrixDisplay' has no attribute 'from_predictions'",
     "output_type": "error",
     "traceback": [
      "\u001b[0;31m---------------------------------------------------------------------------\u001b[0m",
      "\u001b[0;31mAttributeError\u001b[0m                            Traceback (most recent call last)",
      "\u001b[0;32m<ipython-input-10-b2fd87569b6b>\u001b[0m in \u001b[0;36m<module>\u001b[0;34m\u001b[0m\n\u001b[1;32m      2\u001b[0m \u001b[0mfs\u001b[0m\u001b[0;34m=\u001b[0m\u001b[0;36m12\u001b[0m\u001b[0;34m\u001b[0m\u001b[0;34m\u001b[0m\u001b[0m\n\u001b[1;32m      3\u001b[0m \u001b[0mfig\u001b[0m\u001b[0;34m,\u001b[0m \u001b[0max\u001b[0m \u001b[0;34m=\u001b[0m \u001b[0mplt\u001b[0m\u001b[0;34m.\u001b[0m\u001b[0msubplots\u001b[0m\u001b[0;34m(\u001b[0m\u001b[0mfigsize\u001b[0m\u001b[0;34m=\u001b[0m\u001b[0;34m(\u001b[0m\u001b[0;36m7\u001b[0m\u001b[0;34m,\u001b[0m \u001b[0;36m7\u001b[0m\u001b[0;34m)\u001b[0m\u001b[0;34m)\u001b[0m\u001b[0;34m\u001b[0m\u001b[0;34m\u001b[0m\u001b[0m\n\u001b[0;32m----> 4\u001b[0;31m ConfusionMatrixDisplay.from_predictions(\n\u001b[0m\u001b[1;32m      5\u001b[0m     \u001b[0my_test_structure\u001b[0m\u001b[0;34m,\u001b[0m\u001b[0;34m\u001b[0m\u001b[0;34m\u001b[0m\u001b[0m\n\u001b[1;32m      6\u001b[0m     \u001b[0my_pred\u001b[0m\u001b[0;34m,\u001b[0m\u001b[0;34m\u001b[0m\u001b[0;34m\u001b[0m\u001b[0m\n",
      "\u001b[0;31mAttributeError\u001b[0m: type object 'ConfusionMatrixDisplay' has no attribute 'from_predictions'"
     ]
    },
    {
     "data": {
      "image/png": "[encoded data removed]",
      "text/plain": [
       "<Figure size 504x504 with 1 Axes>"
      ]
     },
     "metadata": {
      "needs_background": "light"
     },
     "output_type": "display_data"
    }
   ],
   "source": [
    "y_pred = model.predict(X_test_structure)\n",
    "fs=12\n",
    "fig, ax = plt.subplots(figsize=(7, 7))\n",
    "ConfusionMatrixDisplay.from_predictions(\n",
    "    y_test_structure,\n",
    "    y_pred,\n",
    "    include_values=True,\n",
    "    cmap=\"plasma\",\n",
    "    ax=ax\n",
    ")\n",
    "ax.set_xlabel(\"Predicted neg. order of magnitude\", fontsize=fs)\n",
    "ax.set_ylabel(\"True neg. order of magnitude\", fontsize=fs)\n",
    "plt.savefig(os.path.join(PLOT_ROOT, \"confusion_mat.png\"))\n",
    "plt.show()"
   ]
  },
  {
   "cell_type": "markdown",
   "id": "7632db35",
   "metadata": {},
   "source": [
    "# Choose a structure"
   ]
  },
  {
   "cell_type": "code",
   "execution_count": 11,
   "id": "0251a74c",
   "metadata": {},
   "outputs": [],
   "source": [
    "structure_key = 'GeTe'"
   ]
  },
  {
   "cell_type": "code",
   "execution_count": 12,
   "id": "022fb821",
   "metadata": {},
   "outputs": [],
   "source": [
    "def filter_data(X, y, structure_key):\n",
    "    elt1 = structure_key[0:2]\n",
    "    elt2 = structure_key[2:]\n",
    "    print(elt1)\n",
    "    print(elt2)\n",
    "    \n",
    "    mask = (X[elt1]*X[elt2]).to_numpy().nonzero()[0]\n",
    "    print(f\"Size of subset for {structure_key}: \", len(mask))\n",
    "    \n",
    "    return X.iloc[mask], y.iloc[mask]"
   ]
  },
  {
   "cell_type": "code",
   "execution_count": 13,
   "id": "0eb1656a",
   "metadata": {},
   "outputs": [
    {
     "name": "stdout",
     "output_type": "stream",
     "text": [
      "Ge\n",
      "Te\n",
      "Size of subset for GeTe:  524\n",
      "Ge\n",
      "Te\n",
      "Size of subset for GeTe:  49\n"
     ]
    }
   ],
   "source": [
    "X_train, y_train = filter_data(X_train, y_train, structure_key)\n",
    "X_test, y_test = filter_data(X_test, y_test, structure_key)"
   ]
  },
  {
   "cell_type": "markdown",
   "id": "42075703",
   "metadata": {},
   "source": [
    "# Initialize grid"
   ]
  },
  {
   "cell_type": "code",
   "execution_count": 14,
   "id": "f7a8012c",
   "metadata": {},
   "outputs": [],
   "source": [
    "h = 0.5\n",
    "x_min_train, x_max_train = X_train['ecutwfc'].min() - 1, X_train['ecutwfc'].max() + 1\n",
    "y_min_train, y_max_train = X_train['k_density'].min() - 1, X_train['k_density'].max() + 1\n",
    "\n",
    "\n",
    "x_min_test, x_max_test = X_test['ecutwfc'].min() - 1, X_test['ecutwfc'].max() + 1\n",
    "y_min_test, y_max_test = X_test['k_density'].min() - 1, X_test['k_density'].max() + 1\n",
    "\n",
    "x_max = max(x_max_train, x_max_test)\n",
    "y_max = max(y_max_train, y_max_test)\n",
    "x_min = min(x_min_train, x_min_test)\n",
    "y_min = min(y_min_train, y_min_test)\n",
    "\n",
    "\n",
    "xx, yy = np.meshgrid(np.arange(x_min, x_max, h), np.arange(y_min, y_max, h))"
   ]
  },
  {
   "cell_type": "markdown",
   "id": "067df65e",
   "metadata": {},
   "source": [
    "# Get decision boundary for a given structure structure"
   ]
  },
  {
   "cell_type": "code",
   "execution_count": 15,
   "id": "81535027",
   "metadata": {},
   "outputs": [],
   "source": [
    "structure_encoding = get_structure_encoding(structure_key, StructureEncoding.ATOMIC)"
   ]
  },
  {
   "cell_type": "code",
   "execution_count": 16,
   "id": "9d52ce99",
   "metadata": {},
   "outputs": [],
   "source": [
    "def assemble_features(xx, yy):\n",
    "    return np.vstack((4*xx.T, yy.T, xx.T))\n",
    "\n",
    "\n",
    "def magnitude_prediction(xx, yy, estimator, structure_encoding):\n",
    "    structure_block = np.stack([structure_encoding for _ in range(len(xx))])\n",
    "    input = np.vstack((assemble_features(xx, yy), structure_block.T)).T\n",
    "    #input = pd.DataFrame(input.T, columns=X_train.columns)\n",
    "    return estimator.predict(input)"
   ]
  },
  {
   "cell_type": "markdown",
   "id": "8043ed46",
   "metadata": {},
   "source": [
    "estimator_alpha = 1.0 / len(model.estimators_)\n",
    "for estimator in model.estimators_:\n",
    "    predictor = lambda xx, yy : magnitude_prediction(xx, yy, estimator, structure_encoding)\n",
    "    \n",
    "    Z = -predictor(xx.ravel(), yy.ravel())\n",
    "    Z = Z.reshape(xx.shape)\n",
    "    cs = ax.contourf(xx, yy, Z, alpha=estimator_alpha, cmap=cm)"
   ]
  },
  {
   "cell_type": "code",
   "execution_count": 17,
   "id": "fbeb7d4b",
   "metadata": {},
   "outputs": [
    {
     "data": {
      "text/plain": [
       "array([3, 4, 5, 6, 7, 8, 9])"
      ]
     },
     "execution_count": 17,
     "metadata": {},
     "output_type": "execute_result"
    }
   ],
   "source": [
    "np.unique(y_train['delta_E'].to_numpy())"
   ]
  },
  {
   "cell_type": "code",
   "execution_count": 18,
   "id": "6d858bf1",
   "metadata": {},
   "outputs": [
    {
     "data": {
      "text/plain": [
       "masked_array(data=[0.        , 0.16666667, 0.33333333, 0.5       ,\n",
       "                   0.66666667, 0.83333333, 1.        ],\n",
       "             mask=False,\n",
       "       fill_value=1e+20)"
      ]
     },
     "execution_count": 18,
     "metadata": {},
     "output_type": "execute_result"
    }
   ],
   "source": [
    "vmax = max(max(y_train['delta_E']), max(y_test['delta_E']))\n",
    "vmin = min(min(y_train['delta_E']), min(y_test['delta_E']))\n",
    "nlabels = len(np.unique(y_train['delta_E'].to_numpy()))\n",
    "bounds = np.arange(vmin, vmax+1) - 0.5\n",
    "\n",
    "cm = plt.cm.plasma \n",
    "norm = BoundaryNorm(boundaries=bounds, ncolors=nlabels)\n",
    "norm =  mpl.colors.Normalize(vmin=vmin, vmax=vmax)\n",
    "norm([3, 4, 5, 6, 7, 8, 9])"
   ]
  },
  {
   "cell_type": "code",
   "execution_count": 19,
   "id": "a7c059d6",
   "metadata": {},
   "outputs": [
    {
     "data": {
      "text/plain": [
       "(1.0, 10.5)"
      ]
     },
     "execution_count": 19,
     "metadata": {},
     "output_type": "execute_result"
    },
    {
     "data": {
      "image/png": "[encoded data removed]",
      "text/plain": [
       "<Figure size 720x576 with 2 Axes>"
      ]
     },
     "metadata": {
      "needs_background": "light"
     },
     "output_type": "display_data"
    }
   ],
   "source": [
    "fig, ax = plt.subplots(1, 1, figsize=(10,8))\n",
    "    \n",
    "predictor = lambda xx, yy : magnitude_prediction(xx, yy, model, structure_encoding)\n",
    "sm = plt.cm.ScalarMappable(cmap=cm, norm=norm)\n",
    "\n",
    "Z = predictor(xx.ravel(), yy.ravel())\n",
    "Z = Z.reshape(xx.shape)\n",
    "cs = ax.contourf(xx, yy, Z, alpha=1, cmap=cm)\n",
    "    \n",
    "ax.scatter(X_train['ecutwfc'], X_train['k_density'], c=y_train['delta_E'], alpha=0.5, cmap=cm)\n",
    "ax.scatter(X_test['ecutwfc'], X_test['k_density'], c=y_test['delta_E'], edgecolors=\"k\", cmap=cm)\n",
    "\n",
    "plt.title(structure_key, fontsize=14)\n",
    "fig.colorbar(sm, label=\"neg. order of magnitude\")\n",
    "ax.set_xlabel(\"ecutwfc\")\n",
    "ax.set_ylabel(\"k_density\")\n",
    "ax.set_xlim(xx.min(), xx.max())\n",
    "ax.set_ylim(yy.min(), yy.max())"
   ]
  },
  {
   "cell_type": "code",
   "execution_count": 20,
   "id": "2afd60a6",
   "metadata": {},
   "outputs": [
    {
     "data": {
      "text/plain": [
       "array([[3, 3, 3, ..., 4, 4, 4],\n",
       "       [3, 3, 3, ..., 4, 4, 4],\n",
       "       [3, 3, 3, ..., 4, 4, 4],\n",
       "       ...,\n",
       "       [3, 3, 3, ..., 6, 6, 6],\n",
       "       [3, 3, 3, ..., 6, 6, 6],\n",
       "       [3, 3, 3, ..., 6, 6, 6]])"
      ]
     },
     "execution_count": 20,
     "metadata": {},
     "output_type": "execute_result"
    }
   ],
   "source": [
    "Z"
   ]
  },
  {
   "cell_type": "code",
   "execution_count": 21,
   "id": "417daeea",
   "metadata": {},
   "outputs": [],
   "source": [
    "structures = [\n",
    "    {\"name\": \"NaCl\", \"rho_factor\": 4},\n",
    "    {\"name\": \"GeTe\", \"rho_factor\": 4},\n",
    "    {\"name\": \"AgCl\", \"rho_factor\": 4},\n",
    "]"
   ]
  },
  {
   "cell_type": "code",
   "execution_count": 22,
   "id": "e70dd921",
   "metadata": {},
   "outputs": [
    {
     "name": "stdout",
     "output_type": "stream",
     "text": [
      "{'name': 'NaCl', 'rho_factor': 4}\n",
      "{'name': 'GeTe', 'rho_factor': 4}\n",
      "{'name': 'AgCl', 'rho_factor': 4}\n"
     ]
    }
   ],
   "source": [
    "for structure in structures:\n",
    "    print(structure)"
   ]
  }
 ],
 "metadata": {
  "kernelspec": {
   "display_name": "Python 3 (ipykernel)",
   "language": "python",
   "name": "python3"
  },
  "language_info": {
   "codemirror_mode": {
    "name": "ipython",
    "version": 3
   },
   "file_extension": ".py",
   "mimetype": "text/x-python",
   "name": "python",
   "nbconvert_exporter": "python",
   "pygments_lexer": "ipython3",
   "version": "3.8.10"
  }
 },
 "nbformat": 4,
 "nbformat_minor": 5
}
