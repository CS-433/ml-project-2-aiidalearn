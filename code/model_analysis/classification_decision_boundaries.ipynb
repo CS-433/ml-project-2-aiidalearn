{
 "cells": [
  {
   "cell_type": "code",
   "execution_count": 74,
   "id": "7a991be6",
   "metadata": {},
   "outputs": [],
   "source": [
    "import numpy as np\n",
    "import matplotlib.pyplot as plt\n",
    "import matplotlib as mpl\n",
    "from matplotlib.colors import ListedColormap\n",
    "import pandas as pd\n",
    "import plotly.express as px\n",
    "import os\n",
    "import pickle\n",
    "import sys\n",
    "import plotly.offline as pyo\n",
    "from pathlib import Path\n",
    "from sklearn.metrics import ConfusionMatrixDisplay"
   ]
  },
  {
   "cell_type": "code",
   "execution_count": 75,
   "id": "f0a57255",
   "metadata": {},
   "outputs": [],
   "source": [
    "ROOT_DIR = os.path.dirname(\n",
    "os.path.dirname(\n",
    "    str(Path(os.path.abspath('')).absolute())))\n",
    "\n",
    "sys.path.append(os.path.join(ROOT_DIR, \"code\"))\n",
    "from tools.data_loader import TestSet, TestSplit, data_loader\n",
    "from tools.transform import magnitude_transform\n",
    "from tools.utils import get_structure_encoding, StructureEncoding\n"
   ]
  },
  {
   "cell_type": "code",
   "execution_count": 76,
   "id": "b4d18a7b",
   "metadata": {},
   "outputs": [],
   "source": [
    "\n",
    "PLOT_ROOT = os.path.join(\n",
    "    str(Path(os.path.abspath('')).parent.parent.absolute()), \"plots/\")\n",
    "PLOT_DIR  = os.path.join(\n",
    "    str(Path(os.path.abspath('')).parent.parent.absolute()), \"plots/decision_boundaries/\")"
   ]
  },
  {
   "cell_type": "markdown",
   "id": "65e50265",
   "metadata": {},
   "source": [
    "# Load Model"
   ]
  },
  {
   "cell_type": "code",
   "execution_count": 77,
   "id": "40b19a1f",
   "metadata": {},
   "outputs": [],
   "source": [
    "TARGET_NAME = \"delta_E_magnitude/\"\n",
    "ENCODING_NAME = \"atomic/\"\n",
    "MODEL_NAME = \"random_forest_model.pkl\""
   ]
  },
  {
   "cell_type": "code",
   "execution_count": 78,
   "id": "84b100a6",
   "metadata": {},
   "outputs": [],
   "source": [
    "MODELS_DIR = os.path.join(\n",
    "    str(Path(os.path.abspath('')).parent.parent.absolute()), \"models/\", TARGET_NAME, ENCODING_NAME\n",
    ")"
   ]
  },
  {
   "cell_type": "code",
   "execution_count": 79,
   "id": "f4cf7b41",
   "metadata": {},
   "outputs": [],
   "source": [
    "with open(MODELS_DIR + MODEL_NAME, 'rb') as file:\n",
    "    model = pickle.load(file)"
   ]
  },
  {
   "cell_type": "markdown",
   "id": "52bc2e1b",
   "metadata": {},
   "source": [
    "# Load Data Sets"
   ]
  },
  {
   "cell_type": "code",
   "execution_count": 80,
   "id": "21bc0db4",
   "metadata": {},
   "outputs": [],
   "source": [
    "X_TRAIN_NAME = \"X_train.csv\"\n",
    "y_TRAIN_NAME = \"y_train.csv\""
   ]
  },
  {
   "cell_type": "code",
   "execution_count": 81,
   "id": "e7549323",
   "metadata": {},
   "outputs": [],
   "source": [
    "X_train = pd.read_csv(MODELS_DIR + \"/datasets/\" + X_TRAIN_NAME, index_col=0)\n",
    "y_train = pd.read_csv(MODELS_DIR + \"/datasets/\" + y_TRAIN_NAME, index_col=0)"
   ]
  },
  {
   "cell_type": "code",
   "execution_count": 82,
   "id": "41a466e1",
   "metadata": {},
   "outputs": [],
   "source": [
    "X_TEST_NAME = \"X_Parameter gen..csv\"\n",
    "y_TEST_NAME = \"y_Parameter gen..csv\""
   ]
  },
  {
   "cell_type": "code",
   "execution_count": 83,
   "id": "d40607d7",
   "metadata": {},
   "outputs": [],
   "source": [
    "X_test = pd.read_csv(MODELS_DIR + \"/datasets/\" + X_TEST_NAME, index_col=0)\n",
    "y_test = pd.read_csv(MODELS_DIR + \"/datasets/\" + y_TEST_NAME, index_col=0)"
   ]
  },
  {
   "cell_type": "code",
   "execution_count": 84,
   "id": "e421b338",
   "metadata": {},
   "outputs": [
    {
     "data": {
      "text/html": [
       "<div>\n",
       "<style scoped>\n",
       "    .dataframe tbody tr th:only-of-type {\n",
       "        vertical-align: middle;\n",
       "    }\n",
       "\n",
       "    .dataframe tbody tr th {\n",
       "        vertical-align: top;\n",
       "    }\n",
       "\n",
       "    .dataframe thead th {\n",
       "        text-align: right;\n",
       "    }\n",
       "</style>\n",
       "<table border=\"1\" class=\"dataframe\">\n",
       "  <thead>\n",
       "    <tr style=\"text-align: right;\">\n",
       "      <th></th>\n",
       "      <th>ecutrho</th>\n",
       "      <th>k_density</th>\n",
       "      <th>ecutwfc</th>\n",
       "      <th>Ag</th>\n",
       "      <th>Al</th>\n",
       "      <th>Ar</th>\n",
       "      <th>As</th>\n",
       "      <th>Au</th>\n",
       "      <th>B</th>\n",
       "      <th>Ba</th>\n",
       "      <th>...</th>\n",
       "      <th>Tl</th>\n",
       "      <th>Tm</th>\n",
       "      <th>V</th>\n",
       "      <th>W</th>\n",
       "      <th>Xe</th>\n",
       "      <th>Y</th>\n",
       "      <th>Yb</th>\n",
       "      <th>Zn</th>\n",
       "      <th>Zr</th>\n",
       "      <th>total_atoms</th>\n",
       "    </tr>\n",
       "  </thead>\n",
       "  <tbody>\n",
       "    <tr>\n",
       "      <th>count</th>\n",
       "      <td>53958.000000</td>\n",
       "      <td>53958.000000</td>\n",
       "      <td>53958.000000</td>\n",
       "      <td>53958.000000</td>\n",
       "      <td>53958.000000</td>\n",
       "      <td>53958.0</td>\n",
       "      <td>53958.000000</td>\n",
       "      <td>53958.000000</td>\n",
       "      <td>53958.000000</td>\n",
       "      <td>53958.000000</td>\n",
       "      <td>...</td>\n",
       "      <td>53958.000000</td>\n",
       "      <td>53958.000000</td>\n",
       "      <td>53958.000000</td>\n",
       "      <td>53958.00000</td>\n",
       "      <td>53958.0</td>\n",
       "      <td>53958.000000</td>\n",
       "      <td>53958.000000</td>\n",
       "      <td>53958.000000</td>\n",
       "      <td>53958.000000</td>\n",
       "      <td>53958.000000</td>\n",
       "    </tr>\n",
       "    <tr>\n",
       "      <th>mean</th>\n",
       "      <td>244.475333</td>\n",
       "      <td>5.904963</td>\n",
       "      <td>57.110438</td>\n",
       "      <td>0.018894</td>\n",
       "      <td>0.015438</td>\n",
       "      <td>0.0</td>\n",
       "      <td>0.012575</td>\n",
       "      <td>0.018746</td>\n",
       "      <td>0.009229</td>\n",
       "      <td>0.007144</td>\n",
       "      <td>...</td>\n",
       "      <td>0.015484</td>\n",
       "      <td>0.010434</td>\n",
       "      <td>0.013436</td>\n",
       "      <td>0.00669</td>\n",
       "      <td>0.0</td>\n",
       "      <td>0.016429</td>\n",
       "      <td>0.014205</td>\n",
       "      <td>0.020451</td>\n",
       "      <td>0.019228</td>\n",
       "      <td>2.010675</td>\n",
       "    </tr>\n",
       "    <tr>\n",
       "      <th>std</th>\n",
       "      <td>89.627699</td>\n",
       "      <td>2.826279</td>\n",
       "      <td>23.751455</td>\n",
       "      <td>0.095343</td>\n",
       "      <td>0.086491</td>\n",
       "      <td>0.0</td>\n",
       "      <td>0.078290</td>\n",
       "      <td>0.094983</td>\n",
       "      <td>0.067302</td>\n",
       "      <td>0.059340</td>\n",
       "      <td>...</td>\n",
       "      <td>0.086617</td>\n",
       "      <td>0.071472</td>\n",
       "      <td>0.080856</td>\n",
       "      <td>0.05745</td>\n",
       "      <td>0.0</td>\n",
       "      <td>0.089134</td>\n",
       "      <td>0.083073</td>\n",
       "      <td>0.099033</td>\n",
       "      <td>0.096148</td>\n",
       "      <td>0.145727</td>\n",
       "    </tr>\n",
       "    <tr>\n",
       "      <th>min</th>\n",
       "      <td>100.000000</td>\n",
       "      <td>2.000000</td>\n",
       "      <td>20.000000</td>\n",
       "      <td>0.000000</td>\n",
       "      <td>0.000000</td>\n",
       "      <td>0.0</td>\n",
       "      <td>0.000000</td>\n",
       "      <td>0.000000</td>\n",
       "      <td>0.000000</td>\n",
       "      <td>0.000000</td>\n",
       "      <td>...</td>\n",
       "      <td>0.000000</td>\n",
       "      <td>0.000000</td>\n",
       "      <td>0.000000</td>\n",
       "      <td>0.00000</td>\n",
       "      <td>0.0</td>\n",
       "      <td>0.000000</td>\n",
       "      <td>0.000000</td>\n",
       "      <td>0.000000</td>\n",
       "      <td>0.000000</td>\n",
       "      <td>2.000000</td>\n",
       "    </tr>\n",
       "    <tr>\n",
       "      <th>25%</th>\n",
       "      <td>180.000000</td>\n",
       "      <td>4.000000</td>\n",
       "      <td>35.000000</td>\n",
       "      <td>0.000000</td>\n",
       "      <td>0.000000</td>\n",
       "      <td>0.0</td>\n",
       "      <td>0.000000</td>\n",
       "      <td>0.000000</td>\n",
       "      <td>0.000000</td>\n",
       "      <td>0.000000</td>\n",
       "      <td>...</td>\n",
       "      <td>0.000000</td>\n",
       "      <td>0.000000</td>\n",
       "      <td>0.000000</td>\n",
       "      <td>0.00000</td>\n",
       "      <td>0.0</td>\n",
       "      <td>0.000000</td>\n",
       "      <td>0.000000</td>\n",
       "      <td>0.000000</td>\n",
       "      <td>0.000000</td>\n",
       "      <td>2.000000</td>\n",
       "    </tr>\n",
       "    <tr>\n",
       "      <th>50%</th>\n",
       "      <td>260.000000</td>\n",
       "      <td>6.000000</td>\n",
       "      <td>55.000000</td>\n",
       "      <td>0.000000</td>\n",
       "      <td>0.000000</td>\n",
       "      <td>0.0</td>\n",
       "      <td>0.000000</td>\n",
       "      <td>0.000000</td>\n",
       "      <td>0.000000</td>\n",
       "      <td>0.000000</td>\n",
       "      <td>...</td>\n",
       "      <td>0.000000</td>\n",
       "      <td>0.000000</td>\n",
       "      <td>0.000000</td>\n",
       "      <td>0.00000</td>\n",
       "      <td>0.0</td>\n",
       "      <td>0.000000</td>\n",
       "      <td>0.000000</td>\n",
       "      <td>0.000000</td>\n",
       "      <td>0.000000</td>\n",
       "      <td>2.000000</td>\n",
       "    </tr>\n",
       "    <tr>\n",
       "      <th>75%</th>\n",
       "      <td>340.000000</td>\n",
       "      <td>8.000000</td>\n",
       "      <td>75.000000</td>\n",
       "      <td>0.000000</td>\n",
       "      <td>0.000000</td>\n",
       "      <td>0.0</td>\n",
       "      <td>0.000000</td>\n",
       "      <td>0.000000</td>\n",
       "      <td>0.000000</td>\n",
       "      <td>0.000000</td>\n",
       "      <td>...</td>\n",
       "      <td>0.000000</td>\n",
       "      <td>0.000000</td>\n",
       "      <td>0.000000</td>\n",
       "      <td>0.00000</td>\n",
       "      <td>0.0</td>\n",
       "      <td>0.000000</td>\n",
       "      <td>0.000000</td>\n",
       "      <td>0.000000</td>\n",
       "      <td>0.000000</td>\n",
       "      <td>2.000000</td>\n",
       "    </tr>\n",
       "    <tr>\n",
       "      <th>max</th>\n",
       "      <td>380.000000</td>\n",
       "      <td>10.000000</td>\n",
       "      <td>100.000000</td>\n",
       "      <td>0.500000</td>\n",
       "      <td>0.500000</td>\n",
       "      <td>0.0</td>\n",
       "      <td>0.500000</td>\n",
       "      <td>0.500000</td>\n",
       "      <td>0.500000</td>\n",
       "      <td>0.500000</td>\n",
       "      <td>...</td>\n",
       "      <td>0.500000</td>\n",
       "      <td>0.500000</td>\n",
       "      <td>0.500000</td>\n",
       "      <td>0.50000</td>\n",
       "      <td>0.0</td>\n",
       "      <td>0.500000</td>\n",
       "      <td>0.500000</td>\n",
       "      <td>0.500000</td>\n",
       "      <td>0.500000</td>\n",
       "      <td>4.000000</td>\n",
       "    </tr>\n",
       "  </tbody>\n",
       "</table>\n",
       "<p>8 rows × 89 columns</p>\n",
       "</div>"
      ],
      "text/plain": [
       "            ecutrho     k_density       ecutwfc            Ag            Al  \\\n",
       "count  53958.000000  53958.000000  53958.000000  53958.000000  53958.000000   \n",
       "mean     244.475333      5.904963     57.110438      0.018894      0.015438   \n",
       "std       89.627699      2.826279     23.751455      0.095343      0.086491   \n",
       "min      100.000000      2.000000     20.000000      0.000000      0.000000   \n",
       "25%      180.000000      4.000000     35.000000      0.000000      0.000000   \n",
       "50%      260.000000      6.000000     55.000000      0.000000      0.000000   \n",
       "75%      340.000000      8.000000     75.000000      0.000000      0.000000   \n",
       "max      380.000000     10.000000    100.000000      0.500000      0.500000   \n",
       "\n",
       "            Ar            As            Au             B            Ba  ...  \\\n",
       "count  53958.0  53958.000000  53958.000000  53958.000000  53958.000000  ...   \n",
       "mean       0.0      0.012575      0.018746      0.009229      0.007144  ...   \n",
       "std        0.0      0.078290      0.094983      0.067302      0.059340  ...   \n",
       "min        0.0      0.000000      0.000000      0.000000      0.000000  ...   \n",
       "25%        0.0      0.000000      0.000000      0.000000      0.000000  ...   \n",
       "50%        0.0      0.000000      0.000000      0.000000      0.000000  ...   \n",
       "75%        0.0      0.000000      0.000000      0.000000      0.000000  ...   \n",
       "max        0.0      0.500000      0.500000      0.500000      0.500000  ...   \n",
       "\n",
       "                 Tl            Tm             V            W       Xe  \\\n",
       "count  53958.000000  53958.000000  53958.000000  53958.00000  53958.0   \n",
       "mean       0.015484      0.010434      0.013436      0.00669      0.0   \n",
       "std        0.086617      0.071472      0.080856      0.05745      0.0   \n",
       "min        0.000000      0.000000      0.000000      0.00000      0.0   \n",
       "25%        0.000000      0.000000      0.000000      0.00000      0.0   \n",
       "50%        0.000000      0.000000      0.000000      0.00000      0.0   \n",
       "75%        0.000000      0.000000      0.000000      0.00000      0.0   \n",
       "max        0.500000      0.500000      0.500000      0.50000      0.0   \n",
       "\n",
       "                  Y            Yb            Zn            Zr   total_atoms  \n",
       "count  53958.000000  53958.000000  53958.000000  53958.000000  53958.000000  \n",
       "mean       0.016429      0.014205      0.020451      0.019228      2.010675  \n",
       "std        0.089134      0.083073      0.099033      0.096148      0.145727  \n",
       "min        0.000000      0.000000      0.000000      0.000000      2.000000  \n",
       "25%        0.000000      0.000000      0.000000      0.000000      2.000000  \n",
       "50%        0.000000      0.000000      0.000000      0.000000      2.000000  \n",
       "75%        0.000000      0.000000      0.000000      0.000000      2.000000  \n",
       "max        0.500000      0.500000      0.500000      0.500000      4.000000  \n",
       "\n",
       "[8 rows x 89 columns]"
      ]
     },
     "execution_count": 84,
     "metadata": {},
     "output_type": "execute_result"
    }
   ],
   "source": [
    "X_test.describe()"
   ]
  },
  {
   "cell_type": "markdown",
   "id": "18f7fe4c",
   "metadata": {},
   "source": [
    "# Plot the confusion matrix"
   ]
  },
  {
   "cell_type": "markdown",
   "id": "3b663bef",
   "metadata": {},
   "source": [
    "We plot the confusion matrix for the structure generalization test set"
   ]
  },
  {
   "cell_type": "code",
   "execution_count": 85,
   "id": "37357377",
   "metadata": {},
   "outputs": [],
   "source": [
    "X_TEST_NAME = \"X_Structure gen..csv\"\n",
    "y_TEST_NAME = \"y_Structure gen..csv\"\n",
    "X_test_structure = pd.read_csv(MODELS_DIR + \"/datasets/\" + X_TEST_NAME, index_col=0)\n",
    "y_test_structure = pd.read_csv(MODELS_DIR + \"/datasets/\" + y_TEST_NAME, index_col=0)"
   ]
  },
  {
   "cell_type": "code",
   "execution_count": 86,
   "id": "0bfb1004",
   "metadata": {},
   "outputs": [
    {
     "data": {
      "image/png": "[encoded data removed]",
      "text/plain": [
       "<Figure size 504x504 with 2 Axes>"
      ]
     },
     "metadata": {
      "needs_background": "light"
     },
     "output_type": "display_data"
    }
   ],
   "source": [
    "magnitude_y_pred = model.predict(X_test_structure)\n",
    "fs=12\n",
    "fig, ax = plt.subplots(figsize=(7, 7))\n",
    "ConfusionMatrixDisplay.from_predictions(\n",
    "    -magnitude_transform(y_test_structure),\n",
    "    -magnitude_y_pred,\n",
    "    include_values=True,\n",
    "    cmap=\"plasma\",\n",
    "    ax=ax\n",
    "\n",
    ")\n",
    "ax.set_xlabel(\"Predicted neg. order of magnitude\", fontsize=fs)\n",
    "ax.set_ylabel(\"True neg. order of magnitude\", fontsize=fs)\n",
    "plt.savefig(PLOT_ROOT + \"confusion_mat.png\")\n",
    "plt.show()"
   ]
  },
  {
   "cell_type": "markdown",
   "id": "7632db35",
   "metadata": {},
   "source": [
    "# Choose a structure"
   ]
  },
  {
   "cell_type": "code",
   "execution_count": 87,
   "id": "0251a74c",
   "metadata": {},
   "outputs": [],
   "source": [
    "structure_key = 'NaCl'"
   ]
  },
  {
   "cell_type": "code",
   "execution_count": 88,
   "id": "022fb821",
   "metadata": {},
   "outputs": [],
   "source": [
    "def filter_data(X, y, structure_key):\n",
    "    elt1 = structure_key[0:2]\n",
    "    elt2 = structure_key[2:]\n",
    "    print(elt1)\n",
    "    print(elt2)\n",
    "    \n",
    "    mask = (X[elt1]*X[elt2]).to_numpy().nonzero()[0]\n",
    "    print(f\"Size of subset for {structure_key}: \", len(mask))\n",
    "    \n",
    "    return X.iloc[mask], y.iloc[mask]"
   ]
  },
  {
   "cell_type": "code",
   "execution_count": 89,
   "id": "0eb1656a",
   "metadata": {},
   "outputs": [
    {
     "name": "stdout",
     "output_type": "stream",
     "text": [
      "Na\n",
      "Cl\n",
      "Size of subset for NaCl:  548\n",
      "Na\n",
      "Cl\n",
      "Size of subset for NaCl:  59\n"
     ]
    }
   ],
   "source": [
    "X_train, y_train = filter_data(X_train, y_train, structure_key)\n",
    "X_test, y_test = filter_data(X_test, y_test, structure_key)"
   ]
  },
  {
   "cell_type": "code",
   "execution_count": 90,
   "id": "afbe3ecd",
   "metadata": {},
   "outputs": [],
   "source": [
    "y_train_magnitude = -magnitude_transform(y_train)\n",
    "y_test_magnitude = -magnitude_transform(y_test)"
   ]
  },
  {
   "cell_type": "code",
   "execution_count": null,
   "id": "c29a7b7e",
   "metadata": {},
   "outputs": [],
   "source": []
  },
  {
   "cell_type": "markdown",
   "id": "42075703",
   "metadata": {},
   "source": [
    "# Initialize grid"
   ]
  },
  {
   "cell_type": "code",
   "execution_count": 91,
   "id": "f7a8012c",
   "metadata": {},
   "outputs": [],
   "source": [
    "h = 0.5\n",
    "x_min_train, x_max_train = X_train['ecutwfc'].min() - 1, X_train['ecutwfc'].max() + 1\n",
    "y_min_train, y_max_train = X_train['k_density'].min() - 1, X_train['k_density'].max() + 1\n",
    "\n",
    "\n",
    "x_min_test, x_max_test = X_test['ecutwfc'].min() - 1, X_test['ecutwfc'].max() + 1\n",
    "y_min_test, y_max_test = X_test['k_density'].min() - 1, X_test['k_density'].max() + 1\n",
    "\n",
    "x_max = max(x_max_train, x_max_test)\n",
    "y_max = max(y_max_train, y_max_test)\n",
    "x_min = min(x_min_train, x_min_test)\n",
    "y_min = min(y_min_train, y_min_test)\n",
    "\n",
    "\n",
    "xx, yy = np.meshgrid(np.arange(x_min, x_max, h), np.arange(y_min, y_max, h))\n"
   ]
  },
  {
   "cell_type": "markdown",
   "id": "067df65e",
   "metadata": {},
   "source": [
    "# Get decision boundary for a given structure structure"
   ]
  },
  {
   "cell_type": "code",
   "execution_count": 92,
   "id": "81535027",
   "metadata": {},
   "outputs": [],
   "source": [
    "structure_encoding = get_structure_encoding(structure_key, StructureEncoding.ATOMIC)"
   ]
  },
  {
   "cell_type": "code",
   "execution_count": 93,
   "id": "9d52ce99",
   "metadata": {},
   "outputs": [],
   "source": [
    "def assemble_features(xx, yy):\n",
    "    return np.vstack((4*xx.T, yy.T, xx.T))\n",
    "\n",
    "\n",
    "def magnitude_prediction(xx, yy, estimator, structure_encoding):\n",
    "    structure_block = np.stack([structure_encoding for _ in range(len(xx))])\n",
    "    input = np.vstack((assemble_features(xx, yy), structure_block.T)).T\n",
    "    #input = pd.DataFrame(input.T, columns=X_train.columns)\n",
    "    return estimator.predict(input)\n",
    "\n"
   ]
  },
  {
   "cell_type": "markdown",
   "id": "8043ed46",
   "metadata": {},
   "source": [
    "estimator_alpha = 1.0 / len(model.estimators_)\n",
    "for estimator in model.estimators_:\n",
    "    predictor = lambda xx, yy : magnitude_prediction(xx, yy, estimator, structure_encoding)\n",
    "    \n",
    "    Z = -predictor(xx.ravel(), yy.ravel())\n",
    "    Z = Z.reshape(xx.shape)\n",
    "    cs = ax.contourf(xx, yy, Z, alpha=estimator_alpha, cmap=cm)"
   ]
  },
  {
   "cell_type": "code",
   "execution_count": 99,
   "id": "a7c059d6",
   "metadata": {},
   "outputs": [
    {
     "name": "stderr",
     "output_type": "stream",
     "text": [
      "/Users/philipp/opt/anaconda3/lib/python3.8/site-packages/sklearn/base.py:445: UserWarning:\n",
      "\n",
      "X does not have valid feature names, but RandomForestClassifier was fitted with feature names\n",
      "\n"
     ]
    },
    {
     "data": {
      "text/plain": [
       "(1.0, 10.5)"
      ]
     },
     "execution_count": 99,
     "metadata": {},
     "output_type": "execute_result"
    },
    {
     "data": {
      "image/png": "[encoded data removed]",
      "text/plain": [
       "<Figure size 720x576 with 2 Axes>"
      ]
     },
     "metadata": {
      "needs_background": "light"
     },
     "output_type": "display_data"
    }
   ],
   "source": [
    "cm = plt.cm.plasma\n",
    "norm = mpl.colors.Normalize(vmin=0, vmax=9)\n",
    "fig, ax = plt.subplots(1, 1, figsize=(10,8))\n",
    "    \n",
    "predictor = lambda xx, yy : magnitude_prediction(xx, yy, model, structure_encoding)\n",
    "\n",
    "Z = -predictor(xx.ravel(), yy.ravel())\n",
    "Z = Z.reshape(xx.shape)\n",
    "cs = ax.contourf(xx, yy, Z, alpha=1, cmap=cm)\n",
    "    \n",
    "ax.scatter(X_train['ecutwfc'], X_train['k_density'], c=y_train_magnitude, alpha=0.5, cmap=cm)\n",
    "ax.scatter(X_test['ecutwfc'], X_test['k_density'], c=y_test_magnitude, edgecolors=\"k\", cmap=cm)\n",
    "\n",
    "plt.title(structure_key, fontsize=14)\n",
    "sm = plt.cm.ScalarMappable(cmap=cm, norm=norm)\n",
    "fig.colorbar(sm, label=\"neg. order of magnitude\")\n",
    "ax.set_xlabel(\"ecutwfc\")\n",
    "ax.set_ylabel(\"k_density\")\n",
    "ax.set_xlim(xx.min(), xx.max())\n",
    "ax.set_ylim(yy.min(), yy.max())"
   ]
  },
  {
   "cell_type": "code",
   "execution_count": null,
   "id": "2afd60a6",
   "metadata": {},
   "outputs": [],
   "source": []
  },
  {
   "cell_type": "code",
   "execution_count": null,
   "id": "417daeea",
   "metadata": {},
   "outputs": [],
   "source": []
  },
  {
   "cell_type": "code",
   "execution_count": null,
   "id": "e70dd921",
   "metadata": {},
   "outputs": [],
   "source": []
  }
 ],
 "metadata": {
  "kernelspec": {
   "display_name": "Python 3 (ipykernel)",
   "language": "python",
   "name": "python3"
  },
  "language_info": {
   "codemirror_mode": {
    "name": "ipython",
    "version": 3
   },
   "file_extension": ".py",
   "mimetype": "text/x-python",
   "name": "python",
   "nbconvert_exporter": "python",
   "pygments_lexer": "ipython3",
   "version": "3.8.12"
  }
 },
 "nbformat": 4,
 "nbformat_minor": 5
}
