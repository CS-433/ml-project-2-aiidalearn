{
 "cells": [
  {
   "cell_type": "code",
   "execution_count": 1,
   "id": "7a991be6",
   "metadata": {},
   "outputs": [],
   "source": [
    "import numpy as np\n",
    "import matplotlib.pyplot as plt\n",
    "import pandas as pd\n",
    "import os\n",
    "import pickle\n",
    "from pathlib import Path\n",
    "from sklearn.metrics import r2_score"
   ]
  },
  {
   "cell_type": "code",
   "execution_count": 2,
   "id": "f0a57255",
   "metadata": {},
   "outputs": [],
   "source": [
    "ROOT_DIR = os.path.dirname(\n",
    "os.path.dirname(str(Path(os.path.abspath('')).absolute())))"
   ]
  },
  {
   "cell_type": "markdown",
   "id": "65e50265",
   "metadata": {},
   "source": [
    "# Load Model"
   ]
  },
  {
   "cell_type": "code",
   "execution_count": 3,
   "id": "40b19a1f",
   "metadata": {},
   "outputs": [],
   "source": [
    "TARGET_NAME = \"log_delta_E/\"\n",
    "ENCODING_NAME = \"atomic/\"\n",
    "MODEL_NAME = \"random_forest_model.pkl\""
   ]
  },
  {
   "cell_type": "code",
   "execution_count": 4,
   "id": "84b100a6",
   "metadata": {},
   "outputs": [],
   "source": [
    "MODELS_DIR = os.path.join(\n",
    "    str(Path(os.path.abspath('')).parent.parent.absolute()), \"models\", TARGET_NAME, ENCODING_NAME\n",
    ")"
   ]
  },
  {
   "cell_type": "code",
   "execution_count": 5,
   "id": "f4cf7b41",
   "metadata": {},
   "outputs": [],
   "source": [
    "with open(MODELS_DIR + MODEL_NAME, 'rb') as file:\n",
    "    model = pickle.load(file)"
   ]
  },
  {
   "cell_type": "markdown",
   "id": "52bc2e1b",
   "metadata": {},
   "source": [
    "# Load Data Sets"
   ]
  },
  {
   "cell_type": "code",
   "execution_count": 6,
   "id": "21bc0db4",
   "metadata": {},
   "outputs": [],
   "source": [
    "X_TRAIN_NAME = \"X_train.csv\"\n",
    "y_TRAIN_NAME = \"y_train.csv\""
   ]
  },
  {
   "cell_type": "code",
   "execution_count": 7,
   "id": "e7549323",
   "metadata": {},
   "outputs": [],
   "source": [
    "X_train = pd.read_csv(os.path.join(MODELS_DIR, \"datasets\", X_TRAIN_NAME), index_col=0)\n",
    "y_train = pd.read_csv(os.path.join(MODELS_DIR, \"datasets\", y_TRAIN_NAME), index_col=0)"
   ]
  },
  {
   "cell_type": "code",
   "execution_count": 8,
   "id": "41a466e1",
   "metadata": {},
   "outputs": [],
   "source": [
    "X_TEST_NAME = \"X_Structure gen..csv\"\n",
    "y_TEST_NAME = \"y_Structure gen..csv\""
   ]
  },
  {
   "cell_type": "code",
   "execution_count": 9,
   "id": "d40607d7",
   "metadata": {},
   "outputs": [],
   "source": [
    "X_test = pd.read_csv(MODELS_DIR + \"/datasets/\" + X_TEST_NAME, index_col=0)\n",
    "y_test = pd.read_csv(MODELS_DIR + \"/datasets/\" + y_TEST_NAME, index_col=0)"
   ]
  },
  {
   "cell_type": "code",
   "execution_count": 10,
   "id": "e421b338",
   "metadata": {},
   "outputs": [
    {
     "data": {
      "text/html": [
       "<div>\n",
       "<style scoped>\n",
       "    .dataframe tbody tr th:only-of-type {\n",
       "        vertical-align: middle;\n",
       "    }\n",
       "\n",
       "    .dataframe tbody tr th {\n",
       "        vertical-align: top;\n",
       "    }\n",
       "\n",
       "    .dataframe thead th {\n",
       "        text-align: right;\n",
       "    }\n",
       "</style>\n",
       "<table border=\"1\" class=\"dataframe\">\n",
       "  <thead>\n",
       "    <tr style=\"text-align: right;\">\n",
       "      <th></th>\n",
       "      <th>ecutrho</th>\n",
       "      <th>k_density</th>\n",
       "      <th>ecutwfc</th>\n",
       "      <th>Ag</th>\n",
       "      <th>Al</th>\n",
       "      <th>Ar</th>\n",
       "      <th>As</th>\n",
       "      <th>Au</th>\n",
       "      <th>B</th>\n",
       "      <th>Ba</th>\n",
       "      <th>...</th>\n",
       "      <th>Tl</th>\n",
       "      <th>Tm</th>\n",
       "      <th>V</th>\n",
       "      <th>W</th>\n",
       "      <th>Xe</th>\n",
       "      <th>Y</th>\n",
       "      <th>Yb</th>\n",
       "      <th>Zn</th>\n",
       "      <th>Zr</th>\n",
       "      <th>total_atoms</th>\n",
       "    </tr>\n",
       "  </thead>\n",
       "  <tbody>\n",
       "    <tr>\n",
       "      <th>count</th>\n",
       "      <td>51563.000000</td>\n",
       "      <td>51563.000000</td>\n",
       "      <td>51563.000000</td>\n",
       "      <td>51563.000000</td>\n",
       "      <td>51563.000000</td>\n",
       "      <td>51563.0</td>\n",
       "      <td>51563.0</td>\n",
       "      <td>51563.000000</td>\n",
       "      <td>51563.000000</td>\n",
       "      <td>51563.000000</td>\n",
       "      <td>...</td>\n",
       "      <td>51563.000000</td>\n",
       "      <td>51563.0</td>\n",
       "      <td>51563.000000</td>\n",
       "      <td>51563.000000</td>\n",
       "      <td>51563.0</td>\n",
       "      <td>51563.000000</td>\n",
       "      <td>51563.000000</td>\n",
       "      <td>51563.000000</td>\n",
       "      <td>51563.000000</td>\n",
       "      <td>51563.0</td>\n",
       "    </tr>\n",
       "    <tr>\n",
       "      <th>mean</th>\n",
       "      <td>243.580474</td>\n",
       "      <td>5.899967</td>\n",
       "      <td>56.071990</td>\n",
       "      <td>0.018657</td>\n",
       "      <td>0.006371</td>\n",
       "      <td>0.0</td>\n",
       "      <td>0.0</td>\n",
       "      <td>0.025464</td>\n",
       "      <td>0.010967</td>\n",
       "      <td>0.000204</td>\n",
       "      <td>...</td>\n",
       "      <td>0.021731</td>\n",
       "      <td>0.0</td>\n",
       "      <td>0.006245</td>\n",
       "      <td>0.006284</td>\n",
       "      <td>0.0</td>\n",
       "      <td>0.018657</td>\n",
       "      <td>0.012199</td>\n",
       "      <td>0.031622</td>\n",
       "      <td>0.028722</td>\n",
       "      <td>2.0</td>\n",
       "    </tr>\n",
       "    <tr>\n",
       "      <th>std</th>\n",
       "      <td>89.808265</td>\n",
       "      <td>2.822469</td>\n",
       "      <td>23.675401</td>\n",
       "      <td>0.094765</td>\n",
       "      <td>0.056079</td>\n",
       "      <td>0.0</td>\n",
       "      <td>0.0</td>\n",
       "      <td>0.109926</td>\n",
       "      <td>0.073235</td>\n",
       "      <td>0.010088</td>\n",
       "      <td>...</td>\n",
       "      <td>0.101948</td>\n",
       "      <td>0.0</td>\n",
       "      <td>0.055529</td>\n",
       "      <td>0.055699</td>\n",
       "      <td>0.0</td>\n",
       "      <td>0.094765</td>\n",
       "      <td>0.077140</td>\n",
       "      <td>0.121701</td>\n",
       "      <td>0.116346</td>\n",
       "      <td>0.0</td>\n",
       "    </tr>\n",
       "    <tr>\n",
       "      <th>min</th>\n",
       "      <td>100.000000</td>\n",
       "      <td>2.000000</td>\n",
       "      <td>20.000000</td>\n",
       "      <td>0.000000</td>\n",
       "      <td>0.000000</td>\n",
       "      <td>0.0</td>\n",
       "      <td>0.0</td>\n",
       "      <td>0.000000</td>\n",
       "      <td>0.000000</td>\n",
       "      <td>0.000000</td>\n",
       "      <td>...</td>\n",
       "      <td>0.000000</td>\n",
       "      <td>0.0</td>\n",
       "      <td>0.000000</td>\n",
       "      <td>0.000000</td>\n",
       "      <td>0.0</td>\n",
       "      <td>0.000000</td>\n",
       "      <td>0.000000</td>\n",
       "      <td>0.000000</td>\n",
       "      <td>0.000000</td>\n",
       "      <td>2.0</td>\n",
       "    </tr>\n",
       "    <tr>\n",
       "      <th>25%</th>\n",
       "      <td>180.000000</td>\n",
       "      <td>4.000000</td>\n",
       "      <td>35.000000</td>\n",
       "      <td>0.000000</td>\n",
       "      <td>0.000000</td>\n",
       "      <td>0.0</td>\n",
       "      <td>0.0</td>\n",
       "      <td>0.000000</td>\n",
       "      <td>0.000000</td>\n",
       "      <td>0.000000</td>\n",
       "      <td>...</td>\n",
       "      <td>0.000000</td>\n",
       "      <td>0.0</td>\n",
       "      <td>0.000000</td>\n",
       "      <td>0.000000</td>\n",
       "      <td>0.0</td>\n",
       "      <td>0.000000</td>\n",
       "      <td>0.000000</td>\n",
       "      <td>0.000000</td>\n",
       "      <td>0.000000</td>\n",
       "      <td>2.0</td>\n",
       "    </tr>\n",
       "    <tr>\n",
       "      <th>50%</th>\n",
       "      <td>260.000000</td>\n",
       "      <td>6.000000</td>\n",
       "      <td>55.000000</td>\n",
       "      <td>0.000000</td>\n",
       "      <td>0.000000</td>\n",
       "      <td>0.0</td>\n",
       "      <td>0.0</td>\n",
       "      <td>0.000000</td>\n",
       "      <td>0.000000</td>\n",
       "      <td>0.000000</td>\n",
       "      <td>...</td>\n",
       "      <td>0.000000</td>\n",
       "      <td>0.0</td>\n",
       "      <td>0.000000</td>\n",
       "      <td>0.000000</td>\n",
       "      <td>0.0</td>\n",
       "      <td>0.000000</td>\n",
       "      <td>0.000000</td>\n",
       "      <td>0.000000</td>\n",
       "      <td>0.000000</td>\n",
       "      <td>2.0</td>\n",
       "    </tr>\n",
       "    <tr>\n",
       "      <th>75%</th>\n",
       "      <td>340.000000</td>\n",
       "      <td>8.000000</td>\n",
       "      <td>75.000000</td>\n",
       "      <td>0.000000</td>\n",
       "      <td>0.000000</td>\n",
       "      <td>0.0</td>\n",
       "      <td>0.0</td>\n",
       "      <td>0.000000</td>\n",
       "      <td>0.000000</td>\n",
       "      <td>0.000000</td>\n",
       "      <td>...</td>\n",
       "      <td>0.000000</td>\n",
       "      <td>0.0</td>\n",
       "      <td>0.000000</td>\n",
       "      <td>0.000000</td>\n",
       "      <td>0.0</td>\n",
       "      <td>0.000000</td>\n",
       "      <td>0.000000</td>\n",
       "      <td>0.000000</td>\n",
       "      <td>0.000000</td>\n",
       "      <td>2.0</td>\n",
       "    </tr>\n",
       "    <tr>\n",
       "      <th>max</th>\n",
       "      <td>380.000000</td>\n",
       "      <td>10.000000</td>\n",
       "      <td>100.000000</td>\n",
       "      <td>0.500000</td>\n",
       "      <td>0.500000</td>\n",
       "      <td>0.0</td>\n",
       "      <td>0.0</td>\n",
       "      <td>0.500000</td>\n",
       "      <td>0.500000</td>\n",
       "      <td>0.500000</td>\n",
       "      <td>...</td>\n",
       "      <td>0.500000</td>\n",
       "      <td>0.0</td>\n",
       "      <td>0.500000</td>\n",
       "      <td>0.500000</td>\n",
       "      <td>0.0</td>\n",
       "      <td>0.500000</td>\n",
       "      <td>0.500000</td>\n",
       "      <td>0.500000</td>\n",
       "      <td>0.500000</td>\n",
       "      <td>2.0</td>\n",
       "    </tr>\n",
       "  </tbody>\n",
       "</table>\n",
       "<p>8 rows × 89 columns</p>\n",
       "</div>"
      ],
      "text/plain": [
       "            ecutrho     k_density       ecutwfc            Ag            Al  \\\n",
       "count  51563.000000  51563.000000  51563.000000  51563.000000  51563.000000   \n",
       "mean     243.580474      5.899967     56.071990      0.018657      0.006371   \n",
       "std       89.808265      2.822469     23.675401      0.094765      0.056079   \n",
       "min      100.000000      2.000000     20.000000      0.000000      0.000000   \n",
       "25%      180.000000      4.000000     35.000000      0.000000      0.000000   \n",
       "50%      260.000000      6.000000     55.000000      0.000000      0.000000   \n",
       "75%      340.000000      8.000000     75.000000      0.000000      0.000000   \n",
       "max      380.000000     10.000000    100.000000      0.500000      0.500000   \n",
       "\n",
       "            Ar       As            Au             B            Ba  ...  \\\n",
       "count  51563.0  51563.0  51563.000000  51563.000000  51563.000000  ...   \n",
       "mean       0.0      0.0      0.025464      0.010967      0.000204  ...   \n",
       "std        0.0      0.0      0.109926      0.073235      0.010088  ...   \n",
       "min        0.0      0.0      0.000000      0.000000      0.000000  ...   \n",
       "25%        0.0      0.0      0.000000      0.000000      0.000000  ...   \n",
       "50%        0.0      0.0      0.000000      0.000000      0.000000  ...   \n",
       "75%        0.0      0.0      0.000000      0.000000      0.000000  ...   \n",
       "max        0.0      0.0      0.500000      0.500000      0.500000  ...   \n",
       "\n",
       "                 Tl       Tm             V             W       Xe  \\\n",
       "count  51563.000000  51563.0  51563.000000  51563.000000  51563.0   \n",
       "mean       0.021731      0.0      0.006245      0.006284      0.0   \n",
       "std        0.101948      0.0      0.055529      0.055699      0.0   \n",
       "min        0.000000      0.0      0.000000      0.000000      0.0   \n",
       "25%        0.000000      0.0      0.000000      0.000000      0.0   \n",
       "50%        0.000000      0.0      0.000000      0.000000      0.0   \n",
       "75%        0.000000      0.0      0.000000      0.000000      0.0   \n",
       "max        0.500000      0.0      0.500000      0.500000      0.0   \n",
       "\n",
       "                  Y            Yb            Zn            Zr  total_atoms  \n",
       "count  51563.000000  51563.000000  51563.000000  51563.000000      51563.0  \n",
       "mean       0.018657      0.012199      0.031622      0.028722          2.0  \n",
       "std        0.094765      0.077140      0.121701      0.116346          0.0  \n",
       "min        0.000000      0.000000      0.000000      0.000000          2.0  \n",
       "25%        0.000000      0.000000      0.000000      0.000000          2.0  \n",
       "50%        0.000000      0.000000      0.000000      0.000000          2.0  \n",
       "75%        0.000000      0.000000      0.000000      0.000000          2.0  \n",
       "max        0.500000      0.500000      0.500000      0.500000          2.0  \n",
       "\n",
       "[8 rows x 89 columns]"
      ]
     },
     "execution_count": 10,
     "metadata": {},
     "output_type": "execute_result"
    }
   ],
   "source": [
    "X_test.describe()"
   ]
  },
  {
   "cell_type": "code",
   "execution_count": 11,
   "id": "a7c059d6",
   "metadata": {},
   "outputs": [],
   "source": [
    "pred_trees_train = np.array([estimator.predict(X_train) for estimator in model.estimators_]).T"
   ]
  },
  {
   "cell_type": "code",
   "execution_count": 12,
   "id": "00be2381",
   "metadata": {},
   "outputs": [],
   "source": [
    "y_pred_train = model.predict(X_train)"
   ]
  },
  {
   "cell_type": "code",
   "execution_count": 13,
   "id": "59837a17",
   "metadata": {},
   "outputs": [
    {
     "data": {
      "text/plain": [
       "True"
      ]
     },
     "execution_count": 13,
     "metadata": {},
     "output_type": "execute_result"
    }
   ],
   "source": [
    "np.allclose(np.mean(pred_trees_train, axis=1), y_pred_train)"
   ]
  },
  {
   "cell_type": "code",
   "execution_count": 14,
   "id": "ecfe51af",
   "metadata": {},
   "outputs": [
    {
     "data": {
      "text/plain": [
       "<matplotlib.collections.PathCollection at 0x7f2c4e8c7e20>"
      ]
     },
     "execution_count": 14,
     "metadata": {},
     "output_type": "execute_result"
    },
    {
     "data": {
      "image/png": "[encoded data removed]",
      "text/plain": [
       "<Figure size 432x288 with 1 Axes>"
      ]
     },
     "metadata": {
      "needs_background": "light"
     },
     "output_type": "display_data"
    }
   ],
   "source": [
    "y_pred_train_std = np.std(pred_trees_train, axis=1)\n",
    "y_dev_train = np.abs(y_pred_train - y_train.values.squeeze())\n",
    "plt.xlabel(\"Standard deviation of predicted values\")\n",
    "plt.ylabel(\"Absolute difference between predicted and actual values\")\n",
    "plt.title(f\"Log delta E regressor model - train set - R^2={r2_score(y_pred_train_std, y_dev_train):.2f}\")\n",
    "plt.scatter(y_pred_train_std, y_dev_train)"
   ]
  },
  {
   "cell_type": "code",
   "execution_count": 15,
   "id": "aa87cf39",
   "metadata": {},
   "outputs": [
    {
     "data": {
      "text/plain": [
       "<matplotlib.collections.PathCollection at 0x7f2c4a6ccee0>"
      ]
     },
     "execution_count": 15,
     "metadata": {},
     "output_type": "execute_result"
    },
    {
     "data": {
      "image/png": "[encoded data removed]",
      "text/plain": [
       "<Figure size 432x288 with 1 Axes>"
      ]
     },
     "metadata": {
      "needs_background": "light"
     },
     "output_type": "display_data"
    }
   ],
   "source": [
    "plt.xlabel(\"Actual values\")\n",
    "plt.ylabel(\"Predicted values\")\n",
    "plt.title(f\"Log delta E regressor model - train set - R^2={r2_score(y_pred_train, y_train.values.squeeze()):.2f}\")\n",
    "plt.scatter(y_pred_train, y_train.values.squeeze())"
   ]
  },
  {
   "cell_type": "code",
   "execution_count": 16,
   "id": "b2c4926e",
   "metadata": {},
   "outputs": [],
   "source": [
    "pred_trees_test = np.array([estimator.predict(X_test) for estimator in model.estimators_]).T"
   ]
  },
  {
   "cell_type": "code",
   "execution_count": 17,
   "id": "95efd8d4",
   "metadata": {},
   "outputs": [],
   "source": [
    "y_pred_test = model.predict(X_test)"
   ]
  },
  {
   "cell_type": "code",
   "execution_count": 18,
   "id": "54a37897",
   "metadata": {},
   "outputs": [
    {
     "data": {
      "text/plain": [
       "<matplotlib.collections.PathCollection at 0x7f2c4a6b0490>"
      ]
     },
     "execution_count": 18,
     "metadata": {},
     "output_type": "execute_result"
    },
    {
     "data": {
      "image/png": "[encoded data removed]",
      "text/plain": [
       "<Figure size 432x288 with 1 Axes>"
      ]
     },
     "metadata": {
      "needs_background": "light"
     },
     "output_type": "display_data"
    }
   ],
   "source": [
    "y_pred_test_std = np.std(pred_trees_test, axis=1)\n",
    "y_dev_test = np.abs(y_pred_test - y_test.values.squeeze())\n",
    "plt.xlabel(\"Standard deviation of predicted values\")\n",
    "plt.ylabel(\"Absolute difference between predicted and actual values\")\n",
    "plt.title(f\"Log delta E regressor model - test set - R^2={r2_score(y_pred_test_std, y_dev_test):.2f}\")\n",
    "plt.scatter(y_pred_test_std, y_dev_test)"
   ]
  },
  {
   "cell_type": "code",
   "execution_count": 19,
   "id": "94e495f2",
   "metadata": {},
   "outputs": [
    {
     "data": {
      "text/plain": [
       "<matplotlib.collections.PathCollection at 0x7f2c4a67c430>"
      ]
     },
     "execution_count": 19,
     "metadata": {},
     "output_type": "execute_result"
    },
    {
     "data": {
      "image/png": "[encoded data removed]",
      "text/plain": [
       "<Figure size 432x288 with 1 Axes>"
      ]
     },
     "metadata": {
      "needs_background": "light"
     },
     "output_type": "display_data"
    }
   ],
   "source": [
    "plt.xlabel(\"Actual values\")\n",
    "plt.ylabel(\"Predicted values\")\n",
    "plt.title(f\"Log delta E regressor model - test set - R^2={r2_score(y_pred_test, y_test.values.squeeze()):.2f}\")\n",
    "plt.scatter(y_pred_test, y_test.values.squeeze())"
   ]
  }
 ],
 "metadata": {
  "kernelspec": {
   "display_name": "Python 3 (ipykernel)",
   "language": "python",
   "name": "python3"
  },
  "language_info": {
   "codemirror_mode": {
    "name": "ipython",
    "version": 3
   },
   "file_extension": ".py",
   "mimetype": "text/x-python",
   "name": "python",
   "nbconvert_exporter": "python",
   "pygments_lexer": "ipython3",
   "version": "3.8.10"
  }
 },
 "nbformat": 4,
 "nbformat_minor": 5
}
