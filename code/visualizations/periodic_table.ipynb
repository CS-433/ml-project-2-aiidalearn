{
 "cells": [
  {
   "cell_type": "code",
   "execution_count": 55,
   "id": "e6dc1186",
   "metadata": {},
   "outputs": [],
   "source": [
    "import numpy as np\n",
    "import matplotlib.pyplot as plt\n",
    "import os\n",
    "import sys\n",
    "from typing import Dict\n",
    "import re\n",
    "from pathlib import Path\n",
    "import json\n",
    "import os\n",
    "import re\n",
    "from collections import defaultdict\n",
    "from enum import Enum\n",
    "from typing import Dict\n",
    "import numpy as np\n",
    "\n",
    "import pandas as pd"
   ]
  },
  {
   "cell_type": "code",
   "execution_count": 56,
   "id": "da1a8aa2",
   "metadata": {},
   "outputs": [],
   "source": [
    "def extract_structure_elements(structure_name: str) -> Dict[str, int]:\n",
    "    \"\"\"\n",
    "    Extracts the structure elements from the structure name.\n",
    "    \"\"\"\n",
    "    elts = re.findall(\"[A-Z][^A-Z]*\", structure_name)\n",
    "    elements_nbrs = defaultdict(int)\n",
    "    for elt in elts:\n",
    "        atom_num = re.findall(r\"\\d+|\\D+\", elt)\n",
    "        if len(atom_num) == 1:\n",
    "            elements_nbrs[elt] += 1\n",
    "        else:\n",
    "            elements_nbrs[elt[0]] += int(elt[1])\n",
    "    return dict(elements_nbrs)"
   ]
  },
  {
   "cell_type": "code",
   "execution_count": 57,
   "id": "b390e384",
   "metadata": {},
   "outputs": [],
   "source": [
    "PERIODIC_TABLE_INFO = load_json(\n",
    "\"/Users/philipp/Documents/GitHub/ml-project-2-aiidalearn/code/data_preprocessing/periodic_table_info.json\"\n",
    ")"
   ]
  },
  {
   "cell_type": "code",
   "execution_count": 59,
   "id": "8a2d0169",
   "metadata": {},
   "outputs": [],
   "source": []
  },
  {
   "cell_type": "code",
   "execution_count": 66,
   "id": "57116769",
   "metadata": {},
   "outputs": [],
   "source": [
    " for elt in PERIODIC_TABLE_INFO:\n",
    "        ELEMENT_INFO = PERIODIC_TABLE_INFO[elt]\n",
    "        ELEMENT_INFO['Freq'] = 0"
   ]
  },
  {
   "cell_type": "code",
   "execution_count": 76,
   "id": "9e137706",
   "metadata": {},
   "outputs": [],
   "source": [
    "DATA_DIR = \"/Users/philipp/Documents/GitHub/ml-project-2-aiidalearn/data\"\n",
    "p = Path(DATA_DIR)\n",
    "\n",
    "nstructs = 0\n",
    "for struct_dir in p.iterdir():\n",
    "    if not struct_dir.is_dir():\n",
    "        continue\n",
    "    for file in struct_dir.glob(\"data.json\"):\n",
    "        structure_name = os.path.basename(struct_dir)\n",
    "        # Parsing the structure name to get the elements and their number\n",
    "        elements_nbrs = extract_structure_elements(structure_name)\n",
    "        for elt in elements_nbrs.keys():\n",
    "            ELEMENT_INFO = PERIODIC_TABLE_INFO[elt]\n",
    "            ELEMENT_INFO['Freq'] += elements_nbrs[elt]\n",
    "        nstructs+=1\n",
    "        \n",
    "\n",
    "#for elt in PERIODIC_TABLE_INFO:\n",
    " #   ELEMENT_INFO = PERIODIC_TABLE_INFO[elt]\n",
    " #   ELEMENT_INFO['Freq'] = ELEMENT_INFO['Freq']/nstructs \n",
    "        \n"
   ]
  },
  {
   "cell_type": "code",
   "execution_count": 77,
   "id": "820f9948",
   "metadata": {},
   "outputs": [
    {
     "data": {
      "application/vnd.plotly.v1+json": {
       "config": {
        "plotlyServerURL": "https://plot.ly"
       },
       "data": [
        {
         "coloraxis": "coloraxis",
         "hovertemplate": "x: %{x}<br>y: %{y}<br>Frequency: %{z}<extra></extra>",
         "name": "0",
         "type": "heatmap",
         "xaxis": "x",
         "yaxis": "y",
         "z": [
          [
           3.067669172932331,
           null,
           null,
           null,
           null,
           null,
           null,
           null,
           null,
           null,
           null,
           null,
           null,
           null,
           null,
           null,
           null,
           0
          ],
          [
           1.0225563909774436,
           1.0225563909774436,
           null,
           null,
           null,
           null,
           null,
           null,
           null,
           null,
           null,
           null,
           2.045112781954887,
           5.112781954887218,
           8.180451127819548,
           4.090225563909774,
           1.0225563909774436,
           0
          ],
          [
           1.0225563909774436,
           12.270676691729324,
           null,
           null,
           null,
           null,
           null,
           null,
           null,
           null,
           null,
           null,
           7.157894736842105,
           4.090225563909774,
           7.157894736842105,
           4.090225563909774,
           1.0225563909774436,
           0
          ],
          [
           1.0225563909774436,
           1.0225563909774436,
           1.0225563909774436,
           2.045112781954887,
           4.090225563909774,
           1.0225563909774436,
           6.135338345864662,
           6.135338345864662,
           0,
           4.090225563909774,
           3.067669172932331,
           5.112781954887218,
           4.090225563909774,
           5.112781954887218,
           9.203007518796992,
           4.090225563909774,
           2.045112781954887,
           0
          ],
          [
           5.112781954887218,
           3.067669172932331,
           3.067669172932331,
           5.112781954887218,
           3.067669172932331,
           1.0225563909774436,
           2.045112781954887,
           6.135338345864662,
           4.090225563909774,
           4.090225563909774,
           7.157894736842105,
           3.067669172932331,
           3.067669172932331,
           2.045112781954887,
           5.112781954887218,
           6.135338345864662,
           2.045112781954887,
           0
          ],
          [
           2.045112781954887,
           2.045112781954887,
           null,
           0,
           2.045112781954887,
           1.0225563909774436,
           0,
           2.045112781954887,
           7.157894736842105,
           5.112781954887218,
           6.135338345864662,
           4.090225563909774,
           6.135338345864662,
           0,
           4.090225563909774,
           0,
           null,
           0
          ]
         ]
        }
       ],
       "layout": {
        "annotations": [
         {
          "font": {
           "color": "white",
           "size": 14
          },
          "showarrow": false,
          "text": "Ag",
          "x": 10,
          "y": 4
         },
         {
          "font": {
           "color": "white",
           "size": 14
          },
          "showarrow": false,
          "text": "Al",
          "x": 12,
          "y": 2
         },
         {
          "font": {
           "color": "white",
           "size": 14
          },
          "showarrow": false,
          "text": "Ar",
          "x": 17,
          "y": 2
         },
         {
          "font": {
           "color": "white",
           "size": 14
          },
          "showarrow": false,
          "text": "As",
          "x": 14,
          "y": 3
         },
         {
          "font": {
           "color": "white",
           "size": 14
          },
          "showarrow": false,
          "text": "Au",
          "x": 10,
          "y": 5
         },
         {
          "font": {
           "color": "white",
           "size": 14
          },
          "showarrow": false,
          "text": "B",
          "x": 12,
          "y": 1
         },
         {
          "font": {
           "color": "white",
           "size": 14
          },
          "showarrow": false,
          "text": "Ba",
          "x": 1,
          "y": 5
         },
         {
          "font": {
           "color": "white",
           "size": 14
          },
          "showarrow": false,
          "text": "Be",
          "x": 1,
          "y": 1
         },
         {
          "font": {
           "color": "white",
           "size": 14
          },
          "showarrow": false,
          "text": "Bi",
          "x": 14,
          "y": 5
         },
         {
          "font": {
           "color": "white",
           "size": 14
          },
          "showarrow": false,
          "text": "Br",
          "x": 16,
          "y": 3
         },
         {
          "font": {
           "color": "white",
           "size": 14
          },
          "showarrow": false,
          "text": "C",
          "x": 13,
          "y": 1
         },
         {
          "font": {
           "color": "white",
           "size": 14
          },
          "showarrow": false,
          "text": "Ca",
          "x": 1,
          "y": 3
         },
         {
          "font": {
           "color": "white",
           "size": 14
          },
          "showarrow": false,
          "text": "Cd",
          "x": 11,
          "y": 4
         },
         {
          "font": {
           "color": "white",
           "size": 14
          },
          "showarrow": false,
          "text": "Cl",
          "x": 16,
          "y": 2
         },
         {
          "font": {
           "color": "white",
           "size": 14
          },
          "showarrow": false,
          "text": "Co",
          "x": 8,
          "y": 3
         },
         {
          "font": {
           "color": "white",
           "size": 14
          },
          "showarrow": false,
          "text": "Cr",
          "x": 5,
          "y": 3
         },
         {
          "font": {
           "color": "white",
           "size": 14
          },
          "showarrow": false,
          "text": "Cs",
          "x": 0,
          "y": 5
         },
         {
          "font": {
           "color": "white",
           "size": 14
          },
          "showarrow": false,
          "text": "Cu",
          "x": 10,
          "y": 3
         },
         {
          "font": {
           "color": "white",
           "size": 14
          },
          "showarrow": false,
          "text": "F",
          "x": 16,
          "y": 1
         },
         {
          "font": {
           "color": "white",
           "size": 14
          },
          "showarrow": false,
          "text": "Fe",
          "x": 7,
          "y": 3
         },
         {
          "font": {
           "color": "white",
           "size": 14
          },
          "showarrow": false,
          "text": "Ga",
          "x": 12,
          "y": 3
         },
         {
          "font": {
           "color": "white",
           "size": 14
          },
          "showarrow": false,
          "text": "Ge",
          "x": 13,
          "y": 3
         },
         {
          "font": {
           "color": "white",
           "size": 14
          },
          "showarrow": false,
          "text": "H",
          "x": 0,
          "y": 0
         },
         {
          "font": {
           "color": "white",
           "size": 14
          },
          "showarrow": false,
          "text": "He",
          "x": 17,
          "y": 0
         },
         {
          "font": {
           "color": "white",
           "size": 14
          },
          "showarrow": false,
          "text": "Hf",
          "x": 3,
          "y": 5
         },
         {
          "font": {
           "color": "white",
           "size": 14
          },
          "showarrow": false,
          "text": "Hg",
          "x": 11,
          "y": 5
         },
         {
          "font": {
           "color": "white",
           "size": 14
          },
          "showarrow": false,
          "text": "I",
          "x": 16,
          "y": 4
         },
         {
          "font": {
           "color": "white",
           "size": 14
          },
          "showarrow": false,
          "text": "In",
          "x": 12,
          "y": 4
         },
         {
          "font": {
           "color": "white",
           "size": 14
          },
          "showarrow": false,
          "text": "Ir",
          "x": 8,
          "y": 5
         },
         {
          "font": {
           "color": "white",
           "size": 14
          },
          "showarrow": false,
          "text": "K",
          "x": 0,
          "y": 3
         },
         {
          "font": {
           "color": "white",
           "size": 14
          },
          "showarrow": false,
          "text": "Kr",
          "x": 17,
          "y": 3
         },
         {
          "font": {
           "color": "white",
           "size": 14
          },
          "showarrow": false,
          "text": "Li",
          "x": 0,
          "y": 1
         },
         {
          "font": {
           "color": "white",
           "size": 14
          },
          "showarrow": false,
          "text": "Mg",
          "x": 1,
          "y": 2
         },
         {
          "font": {
           "color": "white",
           "size": 14
          },
          "showarrow": false,
          "text": "Mn",
          "x": 6,
          "y": 3
         },
         {
          "font": {
           "color": "white",
           "size": 14
          },
          "showarrow": false,
          "text": "Mo",
          "x": 5,
          "y": 4
         },
         {
          "font": {
           "color": "white",
           "size": 14
          },
          "showarrow": false,
          "text": "N",
          "x": 14,
          "y": 1
         },
         {
          "font": {
           "color": "white",
           "size": 14
          },
          "showarrow": false,
          "text": "Na",
          "x": 0,
          "y": 2
         },
         {
          "font": {
           "color": "white",
           "size": 14
          },
          "showarrow": false,
          "text": "Nb",
          "x": 4,
          "y": 4
         },
         {
          "font": {
           "color": "white",
           "size": 14
          },
          "showarrow": false,
          "text": "Ne",
          "x": 17,
          "y": 1
         },
         {
          "font": {
           "color": "white",
           "size": 14
          },
          "showarrow": false,
          "text": "Ni",
          "x": 9,
          "y": 3
         },
         {
          "font": {
           "color": "white",
           "size": 14
          },
          "showarrow": false,
          "text": "O",
          "x": 15,
          "y": 1
         },
         {
          "font": {
           "color": "white",
           "size": 14
          },
          "showarrow": false,
          "text": "Os",
          "x": 7,
          "y": 5
         },
         {
          "font": {
           "color": "white",
           "size": 14
          },
          "showarrow": false,
          "text": "P",
          "x": 14,
          "y": 2
         },
         {
          "font": {
           "color": "white",
           "size": 14
          },
          "showarrow": false,
          "text": "Pb",
          "x": 13,
          "y": 5
         },
         {
          "font": {
           "color": "white",
           "size": 14
          },
          "showarrow": false,
          "text": "Pd",
          "x": 9,
          "y": 4
         },
         {
          "font": {
           "color": "white",
           "size": 14
          },
          "showarrow": false,
          "text": "Po",
          "x": 15,
          "y": 5
         },
         {
          "font": {
           "color": "white",
           "size": 14
          },
          "showarrow": false,
          "text": "Pt",
          "x": 9,
          "y": 5
         },
         {
          "font": {
           "color": "white",
           "size": 14
          },
          "showarrow": false,
          "text": "Rb",
          "x": 0,
          "y": 4
         },
         {
          "font": {
           "color": "white",
           "size": 14
          },
          "showarrow": false,
          "text": "Re",
          "x": 6,
          "y": 5
         },
         {
          "font": {
           "color": "white",
           "size": 14
          },
          "showarrow": false,
          "text": "Rh",
          "x": 8,
          "y": 4
         },
         {
          "font": {
           "color": "white",
           "size": 14
          },
          "showarrow": false,
          "text": "Rn",
          "x": 17,
          "y": 5
         },
         {
          "font": {
           "color": "white",
           "size": 14
          },
          "showarrow": false,
          "text": "Ru",
          "x": 7,
          "y": 4
         },
         {
          "font": {
           "color": "white",
           "size": 14
          },
          "showarrow": false,
          "text": "S",
          "x": 15,
          "y": 2
         },
         {
          "font": {
           "color": "white",
           "size": 14
          },
          "showarrow": false,
          "text": "Sb",
          "x": 14,
          "y": 4
         },
         {
          "font": {
           "color": "white",
           "size": 14
          },
          "showarrow": false,
          "text": "Sc",
          "x": 2,
          "y": 3
         },
         {
          "font": {
           "color": "white",
           "size": 14
          },
          "showarrow": false,
          "text": "Se",
          "x": 15,
          "y": 3
         },
         {
          "font": {
           "color": "white",
           "size": 14
          },
          "showarrow": false,
          "text": "Si",
          "x": 13,
          "y": 2
         },
         {
          "font": {
           "color": "white",
           "size": 14
          },
          "showarrow": false,
          "text": "Sn",
          "x": 13,
          "y": 4
         },
         {
          "font": {
           "color": "white",
           "size": 14
          },
          "showarrow": false,
          "text": "Sr",
          "x": 1,
          "y": 4
         },
         {
          "font": {
           "color": "white",
           "size": 14
          },
          "showarrow": false,
          "text": "Ta",
          "x": 4,
          "y": 5
         },
         {
          "font": {
           "color": "white",
           "size": 14
          },
          "showarrow": false,
          "text": "Tc",
          "x": 6,
          "y": 4
         },
         {
          "font": {
           "color": "white",
           "size": 14
          },
          "showarrow": false,
          "text": "Te",
          "x": 15,
          "y": 4
         },
         {
          "font": {
           "color": "white",
           "size": 14
          },
          "showarrow": false,
          "text": "Ti",
          "x": 3,
          "y": 3
         },
         {
          "font": {
           "color": "white",
           "size": 14
          },
          "showarrow": false,
          "text": "Tl",
          "x": 12,
          "y": 5
         },
         {
          "font": {
           "color": "white",
           "size": 14
          },
          "showarrow": false,
          "text": "V",
          "x": 4,
          "y": 3
         },
         {
          "font": {
           "color": "white",
           "size": 14
          },
          "showarrow": false,
          "text": "W",
          "x": 5,
          "y": 5
         },
         {
          "font": {
           "color": "white",
           "size": 14
          },
          "showarrow": false,
          "text": "Xe",
          "x": 17,
          "y": 4
         },
         {
          "font": {
           "color": "white",
           "size": 14
          },
          "showarrow": false,
          "text": "Y",
          "x": 2,
          "y": 4
         },
         {
          "font": {
           "color": "white",
           "size": 14
          },
          "showarrow": false,
          "text": "Zn",
          "x": 11,
          "y": 3
         },
         {
          "font": {
           "color": "white",
           "size": 14
          },
          "showarrow": false,
          "text": "Zr",
          "x": 3,
          "y": 4
         }
        ],
        "coloraxis": {
         "colorbar": {
          "title": {
           "text": "Frequency"
          }
         },
         "colorscale": [
          [
           0,
           "rgb(255,0,0)"
          ],
          [
           1,
           "rgb(0,0,255)"
          ]
         ]
        },
        "margin": {
         "t": 60
        },
        "template": {
         "data": {
          "bar": [
           {
            "error_x": {
             "color": "#2a3f5f"
            },
            "error_y": {
             "color": "#2a3f5f"
            },
            "marker": {
             "line": {
              "color": "#E5ECF6",
              "width": 0.5
             },
             "pattern": {
              "fillmode": "overlay",
              "size": 10,
              "solidity": 0.2
             }
            },
            "type": "bar"
           }
          ],
          "barpolar": [
           {
            "marker": {
             "line": {
              "color": "#E5ECF6",
              "width": 0.5
             },
             "pattern": {
              "fillmode": "overlay",
              "size": 10,
              "solidity": 0.2
             }
            },
            "type": "barpolar"
           }
          ],
          "carpet": [
           {
            "aaxis": {
             "endlinecolor": "#2a3f5f",
             "gridcolor": "white",
             "linecolor": "white",
             "minorgridcolor": "white",
             "startlinecolor": "#2a3f5f"
            },
            "baxis": {
             "endlinecolor": "#2a3f5f",
             "gridcolor": "white",
             "linecolor": "white",
             "minorgridcolor": "white",
             "startlinecolor": "#2a3f5f"
            },
            "type": "carpet"
           }
          ],
          "choropleth": [
           {
            "colorbar": {
             "outlinewidth": 0,
             "ticks": ""
            },
            "type": "choropleth"
           }
          ],
          "contour": [
           {
            "colorbar": {
             "outlinewidth": 0,
             "ticks": ""
            },
            "colorscale": [
             [
              0,
              "#0d0887"
             ],
             [
              0.1111111111111111,
              "#46039f"
             ],
             [
              0.2222222222222222,
              "#7201a8"
             ],
             [
              0.3333333333333333,
              "#9c179e"
             ],
             [
              0.4444444444444444,
              "#bd3786"
             ],
             [
              0.5555555555555556,
              "#d8576b"
             ],
             [
              0.6666666666666666,
              "#ed7953"
             ],
             [
              0.7777777777777778,
              "#fb9f3a"
             ],
             [
              0.8888888888888888,
              "#fdca26"
             ],
             [
              1,
              "#f0f921"
             ]
            ],
            "type": "contour"
           }
          ],
          "contourcarpet": [
           {
            "colorbar": {
             "outlinewidth": 0,
             "ticks": ""
            },
            "type": "contourcarpet"
           }
          ],
          "heatmap": [
           {
            "colorbar": {
             "outlinewidth": 0,
             "ticks": ""
            },
            "colorscale": [
             [
              0,
              "#0d0887"
             ],
             [
              0.1111111111111111,
              "#46039f"
             ],
             [
              0.2222222222222222,
              "#7201a8"
             ],
             [
              0.3333333333333333,
              "#9c179e"
             ],
             [
              0.4444444444444444,
              "#bd3786"
             ],
             [
              0.5555555555555556,
              "#d8576b"
             ],
             [
              0.6666666666666666,
              "#ed7953"
             ],
             [
              0.7777777777777778,
              "#fb9f3a"
             ],
             [
              0.8888888888888888,
              "#fdca26"
             ],
             [
              1,
              "#f0f921"
             ]
            ],
            "type": "heatmap"
           }
          ],
          "heatmapgl": [
           {
            "colorbar": {
             "outlinewidth": 0,
             "ticks": ""
            },
            "colorscale": [
             [
              0,
              "#0d0887"
             ],
             [
              0.1111111111111111,
              "#46039f"
             ],
             [
              0.2222222222222222,
              "#7201a8"
             ],
             [
              0.3333333333333333,
              "#9c179e"
             ],
             [
              0.4444444444444444,
              "#bd3786"
             ],
             [
              0.5555555555555556,
              "#d8576b"
             ],
             [
              0.6666666666666666,
              "#ed7953"
             ],
             [
              0.7777777777777778,
              "#fb9f3a"
             ],
             [
              0.8888888888888888,
              "#fdca26"
             ],
             [
              1,
              "#f0f921"
             ]
            ],
            "type": "heatmapgl"
           }
          ],
          "histogram": [
           {
            "marker": {
             "pattern": {
              "fillmode": "overlay",
              "size": 10,
              "solidity": 0.2
             }
            },
            "type": "histogram"
           }
          ],
          "histogram2d": [
           {
            "colorbar": {
             "outlinewidth": 0,
             "ticks": ""
            },
            "colorscale": [
             [
              0,
              "#0d0887"
             ],
             [
              0.1111111111111111,
              "#46039f"
             ],
             [
              0.2222222222222222,
              "#7201a8"
             ],
             [
              0.3333333333333333,
              "#9c179e"
             ],
             [
              0.4444444444444444,
              "#bd3786"
             ],
             [
              0.5555555555555556,
              "#d8576b"
             ],
             [
              0.6666666666666666,
              "#ed7953"
             ],
             [
              0.7777777777777778,
              "#fb9f3a"
             ],
             [
              0.8888888888888888,
              "#fdca26"
             ],
             [
              1,
              "#f0f921"
             ]
            ],
            "type": "histogram2d"
           }
          ],
          "histogram2dcontour": [
           {
            "colorbar": {
             "outlinewidth": 0,
             "ticks": ""
            },
            "colorscale": [
             [
              0,
              "#0d0887"
             ],
             [
              0.1111111111111111,
              "#46039f"
             ],
             [
              0.2222222222222222,
              "#7201a8"
             ],
             [
              0.3333333333333333,
              "#9c179e"
             ],
             [
              0.4444444444444444,
              "#bd3786"
             ],
             [
              0.5555555555555556,
              "#d8576b"
             ],
             [
              0.6666666666666666,
              "#ed7953"
             ],
             [
              0.7777777777777778,
              "#fb9f3a"
             ],
             [
              0.8888888888888888,
              "#fdca26"
             ],
             [
              1,
              "#f0f921"
             ]
            ],
            "type": "histogram2dcontour"
           }
          ],
          "mesh3d": [
           {
            "colorbar": {
             "outlinewidth": 0,
             "ticks": ""
            },
            "type": "mesh3d"
           }
          ],
          "parcoords": [
           {
            "line": {
             "colorbar": {
              "outlinewidth": 0,
              "ticks": ""
             }
            },
            "type": "parcoords"
           }
          ],
          "pie": [
           {
            "automargin": true,
            "type": "pie"
           }
          ],
          "scatter": [
           {
            "marker": {
             "colorbar": {
              "outlinewidth": 0,
              "ticks": ""
             }
            },
            "type": "scatter"
           }
          ],
          "scatter3d": [
           {
            "line": {
             "colorbar": {
              "outlinewidth": 0,
              "ticks": ""
             }
            },
            "marker": {
             "colorbar": {
              "outlinewidth": 0,
              "ticks": ""
             }
            },
            "type": "scatter3d"
           }
          ],
          "scattercarpet": [
           {
            "marker": {
             "colorbar": {
              "outlinewidth": 0,
              "ticks": ""
             }
            },
            "type": "scattercarpet"
           }
          ],
          "scattergeo": [
           {
            "marker": {
             "colorbar": {
              "outlinewidth": 0,
              "ticks": ""
             }
            },
            "type": "scattergeo"
           }
          ],
          "scattergl": [
           {
            "marker": {
             "colorbar": {
              "outlinewidth": 0,
              "ticks": ""
             }
            },
            "type": "scattergl"
           }
          ],
          "scattermapbox": [
           {
            "marker": {
             "colorbar": {
              "outlinewidth": 0,
              "ticks": ""
             }
            },
            "type": "scattermapbox"
           }
          ],
          "scatterpolar": [
           {
            "marker": {
             "colorbar": {
              "outlinewidth": 0,
              "ticks": ""
             }
            },
            "type": "scatterpolar"
           }
          ],
          "scatterpolargl": [
           {
            "marker": {
             "colorbar": {
              "outlinewidth": 0,
              "ticks": ""
             }
            },
            "type": "scatterpolargl"
           }
          ],
          "scatterternary": [
           {
            "marker": {
             "colorbar": {
              "outlinewidth": 0,
              "ticks": ""
             }
            },
            "type": "scatterternary"
           }
          ],
          "surface": [
           {
            "colorbar": {
             "outlinewidth": 0,
             "ticks": ""
            },
            "colorscale": [
             [
              0,
              "#0d0887"
             ],
             [
              0.1111111111111111,
              "#46039f"
             ],
             [
              0.2222222222222222,
              "#7201a8"
             ],
             [
              0.3333333333333333,
              "#9c179e"
             ],
             [
              0.4444444444444444,
              "#bd3786"
             ],
             [
              0.5555555555555556,
              "#d8576b"
             ],
             [
              0.6666666666666666,
              "#ed7953"
             ],
             [
              0.7777777777777778,
              "#fb9f3a"
             ],
             [
              0.8888888888888888,
              "#fdca26"
             ],
             [
              1,
              "#f0f921"
             ]
            ],
            "type": "surface"
           }
          ],
          "table": [
           {
            "cells": {
             "fill": {
              "color": "#EBF0F8"
             },
             "line": {
              "color": "white"
             }
            },
            "header": {
             "fill": {
              "color": "#C8D4E3"
             },
             "line": {
              "color": "white"
             }
            },
            "type": "table"
           }
          ]
         },
         "layout": {
          "annotationdefaults": {
           "arrowcolor": "#2a3f5f",
           "arrowhead": 0,
           "arrowwidth": 1
          },
          "autotypenumbers": "strict",
          "coloraxis": {
           "colorbar": {
            "outlinewidth": 0,
            "ticks": ""
           }
          },
          "colorscale": {
           "diverging": [
            [
             0,
             "#8e0152"
            ],
            [
             0.1,
             "#c51b7d"
            ],
            [
             0.2,
             "#de77ae"
            ],
            [
             0.3,
             "#f1b6da"
            ],
            [
             0.4,
             "#fde0ef"
            ],
            [
             0.5,
             "#f7f7f7"
            ],
            [
             0.6,
             "#e6f5d0"
            ],
            [
             0.7,
             "#b8e186"
            ],
            [
             0.8,
             "#7fbc41"
            ],
            [
             0.9,
             "#4d9221"
            ],
            [
             1,
             "#276419"
            ]
           ],
           "sequential": [
            [
             0,
             "#0d0887"
            ],
            [
             0.1111111111111111,
             "#46039f"
            ],
            [
             0.2222222222222222,
             "#7201a8"
            ],
            [
             0.3333333333333333,
             "#9c179e"
            ],
            [
             0.4444444444444444,
             "#bd3786"
            ],
            [
             0.5555555555555556,
             "#d8576b"
            ],
            [
             0.6666666666666666,
             "#ed7953"
            ],
            [
             0.7777777777777778,
             "#fb9f3a"
            ],
            [
             0.8888888888888888,
             "#fdca26"
            ],
            [
             1,
             "#f0f921"
            ]
           ],
           "sequentialminus": [
            [
             0,
             "#0d0887"
            ],
            [
             0.1111111111111111,
             "#46039f"
            ],
            [
             0.2222222222222222,
             "#7201a8"
            ],
            [
             0.3333333333333333,
             "#9c179e"
            ],
            [
             0.4444444444444444,
             "#bd3786"
            ],
            [
             0.5555555555555556,
             "#d8576b"
            ],
            [
             0.6666666666666666,
             "#ed7953"
            ],
            [
             0.7777777777777778,
             "#fb9f3a"
            ],
            [
             0.8888888888888888,
             "#fdca26"
            ],
            [
             1,
             "#f0f921"
            ]
           ]
          },
          "colorway": [
           "#636efa",
           "#EF553B",
           "#00cc96",
           "#ab63fa",
           "#FFA15A",
           "#19d3f3",
           "#FF6692",
           "#B6E880",
           "#FF97FF",
           "#FECB52"
          ],
          "font": {
           "color": "#2a3f5f"
          },
          "geo": {
           "bgcolor": "white",
           "lakecolor": "white",
           "landcolor": "#E5ECF6",
           "showlakes": true,
           "showland": true,
           "subunitcolor": "white"
          },
          "hoverlabel": {
           "align": "left"
          },
          "hovermode": "closest",
          "mapbox": {
           "style": "light"
          },
          "paper_bgcolor": "white",
          "plot_bgcolor": "#E5ECF6",
          "polar": {
           "angularaxis": {
            "gridcolor": "white",
            "linecolor": "white",
            "ticks": ""
           },
           "bgcolor": "#E5ECF6",
           "radialaxis": {
            "gridcolor": "white",
            "linecolor": "white",
            "ticks": ""
           }
          },
          "scene": {
           "xaxis": {
            "backgroundcolor": "#E5ECF6",
            "gridcolor": "white",
            "gridwidth": 2,
            "linecolor": "white",
            "showbackground": true,
            "ticks": "",
            "zerolinecolor": "white"
           },
           "yaxis": {
            "backgroundcolor": "#E5ECF6",
            "gridcolor": "white",
            "gridwidth": 2,
            "linecolor": "white",
            "showbackground": true,
            "ticks": "",
            "zerolinecolor": "white"
           },
           "zaxis": {
            "backgroundcolor": "#E5ECF6",
            "gridcolor": "white",
            "gridwidth": 2,
            "linecolor": "white",
            "showbackground": true,
            "ticks": "",
            "zerolinecolor": "white"
           }
          },
          "shapedefaults": {
           "line": {
            "color": "#2a3f5f"
           }
          },
          "ternary": {
           "aaxis": {
            "gridcolor": "white",
            "linecolor": "white",
            "ticks": ""
           },
           "baxis": {
            "gridcolor": "white",
            "linecolor": "white",
            "ticks": ""
           },
           "bgcolor": "#E5ECF6",
           "caxis": {
            "gridcolor": "white",
            "linecolor": "white",
            "ticks": ""
           }
          },
          "title": {
           "x": 0.05
          },
          "xaxis": {
           "automargin": true,
           "gridcolor": "white",
           "linecolor": "white",
           "ticks": "",
           "title": {
            "standoff": 15
           },
           "zerolinecolor": "white",
           "zerolinewidth": 2
          },
          "yaxis": {
           "automargin": true,
           "gridcolor": "white",
           "linecolor": "white",
           "ticks": "",
           "title": {
            "standoff": 15
           },
           "zerolinecolor": "white",
           "zerolinewidth": 2
          }
         }
        },
        "xaxis": {
         "anchor": "y",
         "constrain": "domain",
         "domain": [
          0,
          1
         ],
         "scaleanchor": "y",
         "showticklabels": false
        },
        "yaxis": {
         "anchor": "x",
         "autorange": "reversed",
         "constrain": "domain",
         "domain": [
          0,
          1
         ],
         "showticklabels": false
        }
       }
      },
      "text/html": [
       "<div>                            <div id=\"1f0c6a30-fb90-4ea9-ad88-358313c12761\" class=\"plotly-graph-div\" style=\"height:525px; width:100%;\"></div>            <script type=\"text/javascript\">                require([\"plotly\"], function(Plotly) {                    window.PLOTLYENV=window.PLOTLYENV || {};                                    if (document.getElementById(\"1f0c6a30-fb90-4ea9-ad88-358313c12761\")) {                    Plotly.newPlot(                        \"1f0c6a30-fb90-4ea9-ad88-358313c12761\",                        [{\"coloraxis\":\"coloraxis\",\"hovertemplate\":\"x: %{x}<br>y: %{y}<br>Frequency: %{z}<extra></extra>\",\"name\":\"0\",\"type\":\"heatmap\",\"xaxis\":\"x\",\"yaxis\":\"y\",\"z\":[[3.067669172932331,null,null,null,null,null,null,null,null,null,null,null,null,null,null,null,null,0.0],[1.0225563909774436,1.0225563909774436,null,null,null,null,null,null,null,null,null,null,2.045112781954887,5.112781954887218,8.180451127819548,4.090225563909774,1.0225563909774436,0.0],[1.0225563909774436,12.270676691729324,null,null,null,null,null,null,null,null,null,null,7.157894736842105,4.090225563909774,7.157894736842105,4.090225563909774,1.0225563909774436,0.0],[1.0225563909774436,1.0225563909774436,1.0225563909774436,2.045112781954887,4.090225563909774,1.0225563909774436,6.135338345864662,6.135338345864662,0.0,4.090225563909774,3.067669172932331,5.112781954887218,4.090225563909774,5.112781954887218,9.203007518796992,4.090225563909774,2.045112781954887,0.0],[5.112781954887218,3.067669172932331,3.067669172932331,5.112781954887218,3.067669172932331,1.0225563909774436,2.045112781954887,6.135338345864662,4.090225563909774,4.090225563909774,7.157894736842105,3.067669172932331,3.067669172932331,2.045112781954887,5.112781954887218,6.135338345864662,2.045112781954887,0.0],[2.045112781954887,2.045112781954887,null,0.0,2.045112781954887,1.0225563909774436,0.0,2.045112781954887,7.157894736842105,5.112781954887218,6.135338345864662,4.090225563909774,6.135338345864662,0.0,4.090225563909774,0.0,null,0.0]]}],                        {\"annotations\":[{\"font\":{\"color\":\"white\",\"size\":14},\"showarrow\":false,\"text\":\"Ag\",\"x\":10,\"y\":4},{\"font\":{\"color\":\"white\",\"size\":14},\"showarrow\":false,\"text\":\"Al\",\"x\":12,\"y\":2},{\"font\":{\"color\":\"white\",\"size\":14},\"showarrow\":false,\"text\":\"Ar\",\"x\":17,\"y\":2},{\"font\":{\"color\":\"white\",\"size\":14},\"showarrow\":false,\"text\":\"As\",\"x\":14,\"y\":3},{\"font\":{\"color\":\"white\",\"size\":14},\"showarrow\":false,\"text\":\"Au\",\"x\":10,\"y\":5},{\"font\":{\"color\":\"white\",\"size\":14},\"showarrow\":false,\"text\":\"B\",\"x\":12,\"y\":1},{\"font\":{\"color\":\"white\",\"size\":14},\"showarrow\":false,\"text\":\"Ba\",\"x\":1,\"y\":5},{\"font\":{\"color\":\"white\",\"size\":14},\"showarrow\":false,\"text\":\"Be\",\"x\":1,\"y\":1},{\"font\":{\"color\":\"white\",\"size\":14},\"showarrow\":false,\"text\":\"Bi\",\"x\":14,\"y\":5},{\"font\":{\"color\":\"white\",\"size\":14},\"showarrow\":false,\"text\":\"Br\",\"x\":16,\"y\":3},{\"font\":{\"color\":\"white\",\"size\":14},\"showarrow\":false,\"text\":\"C\",\"x\":13,\"y\":1},{\"font\":{\"color\":\"white\",\"size\":14},\"showarrow\":false,\"text\":\"Ca\",\"x\":1,\"y\":3},{\"font\":{\"color\":\"white\",\"size\":14},\"showarrow\":false,\"text\":\"Cd\",\"x\":11,\"y\":4},{\"font\":{\"color\":\"white\",\"size\":14},\"showarrow\":false,\"text\":\"Cl\",\"x\":16,\"y\":2},{\"font\":{\"color\":\"white\",\"size\":14},\"showarrow\":false,\"text\":\"Co\",\"x\":8,\"y\":3},{\"font\":{\"color\":\"white\",\"size\":14},\"showarrow\":false,\"text\":\"Cr\",\"x\":5,\"y\":3},{\"font\":{\"color\":\"white\",\"size\":14},\"showarrow\":false,\"text\":\"Cs\",\"x\":0,\"y\":5},{\"font\":{\"color\":\"white\",\"size\":14},\"showarrow\":false,\"text\":\"Cu\",\"x\":10,\"y\":3},{\"font\":{\"color\":\"white\",\"size\":14},\"showarrow\":false,\"text\":\"F\",\"x\":16,\"y\":1},{\"font\":{\"color\":\"white\",\"size\":14},\"showarrow\":false,\"text\":\"Fe\",\"x\":7,\"y\":3},{\"font\":{\"color\":\"white\",\"size\":14},\"showarrow\":false,\"text\":\"Ga\",\"x\":12,\"y\":3},{\"font\":{\"color\":\"white\",\"size\":14},\"showarrow\":false,\"text\":\"Ge\",\"x\":13,\"y\":3},{\"font\":{\"color\":\"white\",\"size\":14},\"showarrow\":false,\"text\":\"H\",\"x\":0,\"y\":0},{\"font\":{\"color\":\"white\",\"size\":14},\"showarrow\":false,\"text\":\"He\",\"x\":17,\"y\":0},{\"font\":{\"color\":\"white\",\"size\":14},\"showarrow\":false,\"text\":\"Hf\",\"x\":3,\"y\":5},{\"font\":{\"color\":\"white\",\"size\":14},\"showarrow\":false,\"text\":\"Hg\",\"x\":11,\"y\":5},{\"font\":{\"color\":\"white\",\"size\":14},\"showarrow\":false,\"text\":\"I\",\"x\":16,\"y\":4},{\"font\":{\"color\":\"white\",\"size\":14},\"showarrow\":false,\"text\":\"In\",\"x\":12,\"y\":4},{\"font\":{\"color\":\"white\",\"size\":14},\"showarrow\":false,\"text\":\"Ir\",\"x\":8,\"y\":5},{\"font\":{\"color\":\"white\",\"size\":14},\"showarrow\":false,\"text\":\"K\",\"x\":0,\"y\":3},{\"font\":{\"color\":\"white\",\"size\":14},\"showarrow\":false,\"text\":\"Kr\",\"x\":17,\"y\":3},{\"font\":{\"color\":\"white\",\"size\":14},\"showarrow\":false,\"text\":\"Li\",\"x\":0,\"y\":1},{\"font\":{\"color\":\"white\",\"size\":14},\"showarrow\":false,\"text\":\"Mg\",\"x\":1,\"y\":2},{\"font\":{\"color\":\"white\",\"size\":14},\"showarrow\":false,\"text\":\"Mn\",\"x\":6,\"y\":3},{\"font\":{\"color\":\"white\",\"size\":14},\"showarrow\":false,\"text\":\"Mo\",\"x\":5,\"y\":4},{\"font\":{\"color\":\"white\",\"size\":14},\"showarrow\":false,\"text\":\"N\",\"x\":14,\"y\":1},{\"font\":{\"color\":\"white\",\"size\":14},\"showarrow\":false,\"text\":\"Na\",\"x\":0,\"y\":2},{\"font\":{\"color\":\"white\",\"size\":14},\"showarrow\":false,\"text\":\"Nb\",\"x\":4,\"y\":4},{\"font\":{\"color\":\"white\",\"size\":14},\"showarrow\":false,\"text\":\"Ne\",\"x\":17,\"y\":1},{\"font\":{\"color\":\"white\",\"size\":14},\"showarrow\":false,\"text\":\"Ni\",\"x\":9,\"y\":3},{\"font\":{\"color\":\"white\",\"size\":14},\"showarrow\":false,\"text\":\"O\",\"x\":15,\"y\":1},{\"font\":{\"color\":\"white\",\"size\":14},\"showarrow\":false,\"text\":\"Os\",\"x\":7,\"y\":5},{\"font\":{\"color\":\"white\",\"size\":14},\"showarrow\":false,\"text\":\"P\",\"x\":14,\"y\":2},{\"font\":{\"color\":\"white\",\"size\":14},\"showarrow\":false,\"text\":\"Pb\",\"x\":13,\"y\":5},{\"font\":{\"color\":\"white\",\"size\":14},\"showarrow\":false,\"text\":\"Pd\",\"x\":9,\"y\":4},{\"font\":{\"color\":\"white\",\"size\":14},\"showarrow\":false,\"text\":\"Po\",\"x\":15,\"y\":5},{\"font\":{\"color\":\"white\",\"size\":14},\"showarrow\":false,\"text\":\"Pt\",\"x\":9,\"y\":5},{\"font\":{\"color\":\"white\",\"size\":14},\"showarrow\":false,\"text\":\"Rb\",\"x\":0,\"y\":4},{\"font\":{\"color\":\"white\",\"size\":14},\"showarrow\":false,\"text\":\"Re\",\"x\":6,\"y\":5},{\"font\":{\"color\":\"white\",\"size\":14},\"showarrow\":false,\"text\":\"Rh\",\"x\":8,\"y\":4},{\"font\":{\"color\":\"white\",\"size\":14},\"showarrow\":false,\"text\":\"Rn\",\"x\":17,\"y\":5},{\"font\":{\"color\":\"white\",\"size\":14},\"showarrow\":false,\"text\":\"Ru\",\"x\":7,\"y\":4},{\"font\":{\"color\":\"white\",\"size\":14},\"showarrow\":false,\"text\":\"S\",\"x\":15,\"y\":2},{\"font\":{\"color\":\"white\",\"size\":14},\"showarrow\":false,\"text\":\"Sb\",\"x\":14,\"y\":4},{\"font\":{\"color\":\"white\",\"size\":14},\"showarrow\":false,\"text\":\"Sc\",\"x\":2,\"y\":3},{\"font\":{\"color\":\"white\",\"size\":14},\"showarrow\":false,\"text\":\"Se\",\"x\":15,\"y\":3},{\"font\":{\"color\":\"white\",\"size\":14},\"showarrow\":false,\"text\":\"Si\",\"x\":13,\"y\":2},{\"font\":{\"color\":\"white\",\"size\":14},\"showarrow\":false,\"text\":\"Sn\",\"x\":13,\"y\":4},{\"font\":{\"color\":\"white\",\"size\":14},\"showarrow\":false,\"text\":\"Sr\",\"x\":1,\"y\":4},{\"font\":{\"color\":\"white\",\"size\":14},\"showarrow\":false,\"text\":\"Ta\",\"x\":4,\"y\":5},{\"font\":{\"color\":\"white\",\"size\":14},\"showarrow\":false,\"text\":\"Tc\",\"x\":6,\"y\":4},{\"font\":{\"color\":\"white\",\"size\":14},\"showarrow\":false,\"text\":\"Te\",\"x\":15,\"y\":4},{\"font\":{\"color\":\"white\",\"size\":14},\"showarrow\":false,\"text\":\"Ti\",\"x\":3,\"y\":3},{\"font\":{\"color\":\"white\",\"size\":14},\"showarrow\":false,\"text\":\"Tl\",\"x\":12,\"y\":5},{\"font\":{\"color\":\"white\",\"size\":14},\"showarrow\":false,\"text\":\"V\",\"x\":4,\"y\":3},{\"font\":{\"color\":\"white\",\"size\":14},\"showarrow\":false,\"text\":\"W\",\"x\":5,\"y\":5},{\"font\":{\"color\":\"white\",\"size\":14},\"showarrow\":false,\"text\":\"Xe\",\"x\":17,\"y\":4},{\"font\":{\"color\":\"white\",\"size\":14},\"showarrow\":false,\"text\":\"Y\",\"x\":2,\"y\":4},{\"font\":{\"color\":\"white\",\"size\":14},\"showarrow\":false,\"text\":\"Zn\",\"x\":11,\"y\":3},{\"font\":{\"color\":\"white\",\"size\":14},\"showarrow\":false,\"text\":\"Zr\",\"x\":3,\"y\":4}],\"coloraxis\":{\"colorbar\":{\"title\":{\"text\":\"Frequency\"}},\"colorscale\":[[0.0,\"rgb(255,0,0)\"],[1.0,\"rgb(0,0,255)\"]]},\"margin\":{\"t\":60},\"template\":{\"data\":{\"bar\":[{\"error_x\":{\"color\":\"#2a3f5f\"},\"error_y\":{\"color\":\"#2a3f5f\"},\"marker\":{\"line\":{\"color\":\"#E5ECF6\",\"width\":0.5},\"pattern\":{\"fillmode\":\"overlay\",\"size\":10,\"solidity\":0.2}},\"type\":\"bar\"}],\"barpolar\":[{\"marker\":{\"line\":{\"color\":\"#E5ECF6\",\"width\":0.5},\"pattern\":{\"fillmode\":\"overlay\",\"size\":10,\"solidity\":0.2}},\"type\":\"barpolar\"}],\"carpet\":[{\"aaxis\":{\"endlinecolor\":\"#2a3f5f\",\"gridcolor\":\"white\",\"linecolor\":\"white\",\"minorgridcolor\":\"white\",\"startlinecolor\":\"#2a3f5f\"},\"baxis\":{\"endlinecolor\":\"#2a3f5f\",\"gridcolor\":\"white\",\"linecolor\":\"white\",\"minorgridcolor\":\"white\",\"startlinecolor\":\"#2a3f5f\"},\"type\":\"carpet\"}],\"choropleth\":[{\"colorbar\":{\"outlinewidth\":0,\"ticks\":\"\"},\"type\":\"choropleth\"}],\"contour\":[{\"colorbar\":{\"outlinewidth\":0,\"ticks\":\"\"},\"colorscale\":[[0.0,\"#0d0887\"],[0.1111111111111111,\"#46039f\"],[0.2222222222222222,\"#7201a8\"],[0.3333333333333333,\"#9c179e\"],[0.4444444444444444,\"#bd3786\"],[0.5555555555555556,\"#d8576b\"],[0.6666666666666666,\"#ed7953\"],[0.7777777777777778,\"#fb9f3a\"],[0.8888888888888888,\"#fdca26\"],[1.0,\"#f0f921\"]],\"type\":\"contour\"}],\"contourcarpet\":[{\"colorbar\":{\"outlinewidth\":0,\"ticks\":\"\"},\"type\":\"contourcarpet\"}],\"heatmap\":[{\"colorbar\":{\"outlinewidth\":0,\"ticks\":\"\"},\"colorscale\":[[0.0,\"#0d0887\"],[0.1111111111111111,\"#46039f\"],[0.2222222222222222,\"#7201a8\"],[0.3333333333333333,\"#9c179e\"],[0.4444444444444444,\"#bd3786\"],[0.5555555555555556,\"#d8576b\"],[0.6666666666666666,\"#ed7953\"],[0.7777777777777778,\"#fb9f3a\"],[0.8888888888888888,\"#fdca26\"],[1.0,\"#f0f921\"]],\"type\":\"heatmap\"}],\"heatmapgl\":[{\"colorbar\":{\"outlinewidth\":0,\"ticks\":\"\"},\"colorscale\":[[0.0,\"#0d0887\"],[0.1111111111111111,\"#46039f\"],[0.2222222222222222,\"#7201a8\"],[0.3333333333333333,\"#9c179e\"],[0.4444444444444444,\"#bd3786\"],[0.5555555555555556,\"#d8576b\"],[0.6666666666666666,\"#ed7953\"],[0.7777777777777778,\"#fb9f3a\"],[0.8888888888888888,\"#fdca26\"],[1.0,\"#f0f921\"]],\"type\":\"heatmapgl\"}],\"histogram\":[{\"marker\":{\"pattern\":{\"fillmode\":\"overlay\",\"size\":10,\"solidity\":0.2}},\"type\":\"histogram\"}],\"histogram2d\":[{\"colorbar\":{\"outlinewidth\":0,\"ticks\":\"\"},\"colorscale\":[[0.0,\"#0d0887\"],[0.1111111111111111,\"#46039f\"],[0.2222222222222222,\"#7201a8\"],[0.3333333333333333,\"#9c179e\"],[0.4444444444444444,\"#bd3786\"],[0.5555555555555556,\"#d8576b\"],[0.6666666666666666,\"#ed7953\"],[0.7777777777777778,\"#fb9f3a\"],[0.8888888888888888,\"#fdca26\"],[1.0,\"#f0f921\"]],\"type\":\"histogram2d\"}],\"histogram2dcontour\":[{\"colorbar\":{\"outlinewidth\":0,\"ticks\":\"\"},\"colorscale\":[[0.0,\"#0d0887\"],[0.1111111111111111,\"#46039f\"],[0.2222222222222222,\"#7201a8\"],[0.3333333333333333,\"#9c179e\"],[0.4444444444444444,\"#bd3786\"],[0.5555555555555556,\"#d8576b\"],[0.6666666666666666,\"#ed7953\"],[0.7777777777777778,\"#fb9f3a\"],[0.8888888888888888,\"#fdca26\"],[1.0,\"#f0f921\"]],\"type\":\"histogram2dcontour\"}],\"mesh3d\":[{\"colorbar\":{\"outlinewidth\":0,\"ticks\":\"\"},\"type\":\"mesh3d\"}],\"parcoords\":[{\"line\":{\"colorbar\":{\"outlinewidth\":0,\"ticks\":\"\"}},\"type\":\"parcoords\"}],\"pie\":[{\"automargin\":true,\"type\":\"pie\"}],\"scatter\":[{\"marker\":{\"colorbar\":{\"outlinewidth\":0,\"ticks\":\"\"}},\"type\":\"scatter\"}],\"scatter3d\":[{\"line\":{\"colorbar\":{\"outlinewidth\":0,\"ticks\":\"\"}},\"marker\":{\"colorbar\":{\"outlinewidth\":0,\"ticks\":\"\"}},\"type\":\"scatter3d\"}],\"scattercarpet\":[{\"marker\":{\"colorbar\":{\"outlinewidth\":0,\"ticks\":\"\"}},\"type\":\"scattercarpet\"}],\"scattergeo\":[{\"marker\":{\"colorbar\":{\"outlinewidth\":0,\"ticks\":\"\"}},\"type\":\"scattergeo\"}],\"scattergl\":[{\"marker\":{\"colorbar\":{\"outlinewidth\":0,\"ticks\":\"\"}},\"type\":\"scattergl\"}],\"scattermapbox\":[{\"marker\":{\"colorbar\":{\"outlinewidth\":0,\"ticks\":\"\"}},\"type\":\"scattermapbox\"}],\"scatterpolar\":[{\"marker\":{\"colorbar\":{\"outlinewidth\":0,\"ticks\":\"\"}},\"type\":\"scatterpolar\"}],\"scatterpolargl\":[{\"marker\":{\"colorbar\":{\"outlinewidth\":0,\"ticks\":\"\"}},\"type\":\"scatterpolargl\"}],\"scatterternary\":[{\"marker\":{\"colorbar\":{\"outlinewidth\":0,\"ticks\":\"\"}},\"type\":\"scatterternary\"}],\"surface\":[{\"colorbar\":{\"outlinewidth\":0,\"ticks\":\"\"},\"colorscale\":[[0.0,\"#0d0887\"],[0.1111111111111111,\"#46039f\"],[0.2222222222222222,\"#7201a8\"],[0.3333333333333333,\"#9c179e\"],[0.4444444444444444,\"#bd3786\"],[0.5555555555555556,\"#d8576b\"],[0.6666666666666666,\"#ed7953\"],[0.7777777777777778,\"#fb9f3a\"],[0.8888888888888888,\"#fdca26\"],[1.0,\"#f0f921\"]],\"type\":\"surface\"}],\"table\":[{\"cells\":{\"fill\":{\"color\":\"#EBF0F8\"},\"line\":{\"color\":\"white\"}},\"header\":{\"fill\":{\"color\":\"#C8D4E3\"},\"line\":{\"color\":\"white\"}},\"type\":\"table\"}]},\"layout\":{\"annotationdefaults\":{\"arrowcolor\":\"#2a3f5f\",\"arrowhead\":0,\"arrowwidth\":1},\"autotypenumbers\":\"strict\",\"coloraxis\":{\"colorbar\":{\"outlinewidth\":0,\"ticks\":\"\"}},\"colorscale\":{\"diverging\":[[0,\"#8e0152\"],[0.1,\"#c51b7d\"],[0.2,\"#de77ae\"],[0.3,\"#f1b6da\"],[0.4,\"#fde0ef\"],[0.5,\"#f7f7f7\"],[0.6,\"#e6f5d0\"],[0.7,\"#b8e186\"],[0.8,\"#7fbc41\"],[0.9,\"#4d9221\"],[1,\"#276419\"]],\"sequential\":[[0.0,\"#0d0887\"],[0.1111111111111111,\"#46039f\"],[0.2222222222222222,\"#7201a8\"],[0.3333333333333333,\"#9c179e\"],[0.4444444444444444,\"#bd3786\"],[0.5555555555555556,\"#d8576b\"],[0.6666666666666666,\"#ed7953\"],[0.7777777777777778,\"#fb9f3a\"],[0.8888888888888888,\"#fdca26\"],[1.0,\"#f0f921\"]],\"sequentialminus\":[[0.0,\"#0d0887\"],[0.1111111111111111,\"#46039f\"],[0.2222222222222222,\"#7201a8\"],[0.3333333333333333,\"#9c179e\"],[0.4444444444444444,\"#bd3786\"],[0.5555555555555556,\"#d8576b\"],[0.6666666666666666,\"#ed7953\"],[0.7777777777777778,\"#fb9f3a\"],[0.8888888888888888,\"#fdca26\"],[1.0,\"#f0f921\"]]},\"colorway\":[\"#636efa\",\"#EF553B\",\"#00cc96\",\"#ab63fa\",\"#FFA15A\",\"#19d3f3\",\"#FF6692\",\"#B6E880\",\"#FF97FF\",\"#FECB52\"],\"font\":{\"color\":\"#2a3f5f\"},\"geo\":{\"bgcolor\":\"white\",\"lakecolor\":\"white\",\"landcolor\":\"#E5ECF6\",\"showlakes\":true,\"showland\":true,\"subunitcolor\":\"white\"},\"hoverlabel\":{\"align\":\"left\"},\"hovermode\":\"closest\",\"mapbox\":{\"style\":\"light\"},\"paper_bgcolor\":\"white\",\"plot_bgcolor\":\"#E5ECF6\",\"polar\":{\"angularaxis\":{\"gridcolor\":\"white\",\"linecolor\":\"white\",\"ticks\":\"\"},\"bgcolor\":\"#E5ECF6\",\"radialaxis\":{\"gridcolor\":\"white\",\"linecolor\":\"white\",\"ticks\":\"\"}},\"scene\":{\"xaxis\":{\"backgroundcolor\":\"#E5ECF6\",\"gridcolor\":\"white\",\"gridwidth\":2,\"linecolor\":\"white\",\"showbackground\":true,\"ticks\":\"\",\"zerolinecolor\":\"white\"},\"yaxis\":{\"backgroundcolor\":\"#E5ECF6\",\"gridcolor\":\"white\",\"gridwidth\":2,\"linecolor\":\"white\",\"showbackground\":true,\"ticks\":\"\",\"zerolinecolor\":\"white\"},\"zaxis\":{\"backgroundcolor\":\"#E5ECF6\",\"gridcolor\":\"white\",\"gridwidth\":2,\"linecolor\":\"white\",\"showbackground\":true,\"ticks\":\"\",\"zerolinecolor\":\"white\"}},\"shapedefaults\":{\"line\":{\"color\":\"#2a3f5f\"}},\"ternary\":{\"aaxis\":{\"gridcolor\":\"white\",\"linecolor\":\"white\",\"ticks\":\"\"},\"baxis\":{\"gridcolor\":\"white\",\"linecolor\":\"white\",\"ticks\":\"\"},\"bgcolor\":\"#E5ECF6\",\"caxis\":{\"gridcolor\":\"white\",\"linecolor\":\"white\",\"ticks\":\"\"}},\"title\":{\"x\":0.05},\"xaxis\":{\"automargin\":true,\"gridcolor\":\"white\",\"linecolor\":\"white\",\"ticks\":\"\",\"title\":{\"standoff\":15},\"zerolinecolor\":\"white\",\"zerolinewidth\":2},\"yaxis\":{\"automargin\":true,\"gridcolor\":\"white\",\"linecolor\":\"white\",\"ticks\":\"\",\"title\":{\"standoff\":15},\"zerolinecolor\":\"white\",\"zerolinewidth\":2}}},\"xaxis\":{\"anchor\":\"y\",\"constrain\":\"domain\",\"domain\":[0.0,1.0],\"scaleanchor\":\"y\",\"showticklabels\":false},\"yaxis\":{\"anchor\":\"x\",\"autorange\":\"reversed\",\"constrain\":\"domain\",\"domain\":[0.0,1.0],\"showticklabels\":false}},                        {\"responsive\": true}                    ).then(function(){\n",
       "                            \n",
       "var gd = document.getElementById('1f0c6a30-fb90-4ea9-ad88-358313c12761');\n",
       "var x = new MutationObserver(function (mutations, observer) {{\n",
       "        var display = window.getComputedStyle(gd).display;\n",
       "        if (!display || display === 'none') {{\n",
       "            console.log([gd, 'removed!']);\n",
       "            Plotly.purge(gd);\n",
       "            observer.disconnect();\n",
       "        }}\n",
       "}});\n",
       "\n",
       "// Listen for the removal of the full notebook cells\n",
       "var notebookContainer = gd.closest('#notebook-container');\n",
       "if (notebookContainer) {{\n",
       "    x.observe(notebookContainer, {childList: true});\n",
       "}}\n",
       "\n",
       "// Listen for the clearing of the current output cell\n",
       "var outputEl = gd.closest('.output');\n",
       "if (outputEl) {{\n",
       "    x.observe(outputEl, {childList: true});\n",
       "}}\n",
       "\n",
       "                        })                };                });            </script>        </div>"
      ]
     },
     "metadata": {},
     "output_type": "display_data"
    }
   ],
   "source": [
    "labels = dict(color=\"Frequency\")\n",
    "T = np.empty((6, 18))*np.nan\n",
    "for elt in PERIODIC_TABLE_INFO:\n",
    "        ELEMENT_INFO = PERIODIC_TABLE_INFO[elt]\n",
    "        if ELEMENT_INFO['PTC'] == 'Lant':\n",
    "            continue\n",
    "        i, j = ELEMENT_INFO['idx']\n",
    "        T[i, j] = ELEMENT_INFO['Freq']\n",
    "        \n",
    "\n",
    "\n",
    "fig = px.imshow(T,\n",
    "                labels=labels,\n",
    "                color_continuous_scale='Bluered_r'\n",
    "               )\n",
    "fig.update_xaxes(showticklabels=False).update_yaxes(showticklabels=False)\n",
    "for elt in PERIODIC_TABLE_INFO:\n",
    "        ELEMENT_INFO = PERIODIC_TABLE_INFO[elt]\n",
    "        if ELEMENT_INFO['PTC'] == 'Lant':\n",
    "            continue\n",
    "        i, j = ELEMENT_INFO['idx']\n",
    "        fig.add_annotation(\n",
    "            x=j,\n",
    "            y=i,\n",
    "            text=elt,\n",
    "            showarrow=False,\n",
    "            font_size=14, font_color='white')\n",
    "fig.show()"
   ]
  },
  {
   "cell_type": "code",
   "execution_count": 78,
   "id": "4c99f517",
   "metadata": {},
   "outputs": [],
   "source": [
    "PLOT_ROOT = \"/Users/philipp/Documents/GitHub/ml-project-2-aiidalearn/plots/data_frequency\"\n",
    "PLOT_NAME = \"devx_periodic_table.png\"\n",
    "fig.write_image(PLOT_ROOT + os.sep + PLOT_NAME)"
   ]
  },
  {
   "cell_type": "code",
   "execution_count": null,
   "id": "fd3ded44",
   "metadata": {},
   "outputs": [],
   "source": []
  },
  {
   "cell_type": "code",
   "execution_count": null,
   "id": "6f84a92f",
   "metadata": {},
   "outputs": [],
   "source": []
  }
 ],
 "metadata": {
  "kernelspec": {
   "display_name": "Python 3",
   "language": "python",
   "name": "python3"
  },
  "language_info": {
   "codemirror_mode": {
    "name": "ipython",
    "version": 3
   },
   "file_extension": ".py",
   "mimetype": "text/x-python",
   "name": "python",
   "nbconvert_exporter": "python",
   "pygments_lexer": "ipython3",
   "version": "3.8.8"
  }
 },
 "nbformat": 4,
 "nbformat_minor": 5
}
