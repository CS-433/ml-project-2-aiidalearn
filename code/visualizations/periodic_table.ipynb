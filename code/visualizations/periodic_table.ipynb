{
 "cells": [
  {
   "cell_type": "code",
   "execution_count": 1,
   "id": "0d12d0ee",
   "metadata": {},
   "outputs": [],
   "source": [
    "import numpy as np\n",
    "import matplotlib.pyplot as plt\n",
    "import os"
   ]
  },
  {
   "cell_type": "code",
   "execution_count": 17,
   "id": "ed647598",
   "metadata": {},
   "outputs": [],
   "source": [
    "PERIODIC_TABLE_INFO = load_json(\n",
    "\"/Users/philipp/Documents/GitHub/ml-project-2-aiidalearn/code/data_preprocessing/periodic_table_info.json\"\n",
    ")"
   ]
  },
  {
   "cell_type": "code",
   "execution_count": 21,
   "id": "76433460",
   "metadata": {},
   "outputs": [
    {
     "data": {
      "application/vnd.plotly.v1+json": {
       "config": {
        "plotlyServerURL": "https://plot.ly"
       },
       "data": [
        {
         "coloraxis": "coloraxis",
         "hovertemplate": "x: %{x}<br>y: %{y}<br>Frequency: %{z}<extra></extra>",
         "name": "0",
         "type": "heatmap",
         "xaxis": "x",
         "yaxis": "y",
         "z": [
          [
           0.4356418352413378,
           null,
           null,
           null,
           null,
           null,
           null,
           null,
           null,
           null,
           null,
           null,
           null,
           null,
           null,
           null,
           null,
           0.43326184646530164
          ],
          [
           0.5110790474514018,
           0.7155555456547031,
           null,
           null,
           null,
           null,
           null,
           null,
           null,
           null,
           null,
           null,
           0.15819825867802917,
           0.025194395468974173,
           0.47978699748673426,
           0.4000276031056561,
           0.08791770475559435,
           0.9262178133315834
          ],
          [
           0.010162891417871522,
           0.4675618024049065,
           null,
           null,
           null,
           null,
           null,
           null,
           null,
           null,
           null,
           null,
           0.8389667325913625,
           0.11162039059025375,
           0.3629350587984639,
           0.9011132217357891,
           0.7664795059567188,
           0.5359232920866812
          ],
          [
           0.19935515822213246,
           0.7260961125886809,
           0.6124683826432482,
           0.3208483917920555,
           0.6524239798156792,
           0.6583198298990147,
           0.9597689700591443,
           0.10803120612061445,
           0.4135647932131229,
           0.837199180229091,
           0.6015490875400835,
           0.840636203585534,
           0.3646132829785944,
           1,
           0.48032873342230875,
           0.16539930876918296,
           0.06798113894983482,
           0.7621022392264307
          ],
          [
           0.9013904649117194,
           0.047853155654680846,
           0.3686865543160148,
           0.4080156922967967,
           0.46319338744083527,
           0.48736086498832176,
           0.13155724608703245,
           0.6499113581999685,
           0.9293937986406547,
           0.7121658504724567,
           0.6773622944946495,
           0.14114669290356996,
           0.008368269881947499,
           0.9473146038778831,
           0.3068486107942824,
           0.05142132764974605,
           0.9600778818352226,
           0.80240623693583
          ],
          [
           0.023823167279714785,
           0.36714085422554377,
           null,
           0.32891159085391897,
           0.17730850134431198,
           0.6000184216364299,
           0.052155176146464255,
           0.20104349752892547,
           0.40889033059918,
           0.10012517200990445,
           0.0758025520401443,
           0.27802786443300453,
           0.6384673914631822,
           0.22762495952296913,
           0.14305727074773789,
           0.5438904044135,
           null,
           0.954739694287107
          ]
         ]
        }
       ],
       "layout": {
        "annotations": [
         {
          "font": {
           "color": "white",
           "size": 14
          },
          "showarrow": false,
          "text": "Ag",
          "x": 10,
          "y": 4
         },
         {
          "font": {
           "color": "white",
           "size": 14
          },
          "showarrow": false,
          "text": "Al",
          "x": 12,
          "y": 2
         },
         {
          "font": {
           "color": "white",
           "size": 14
          },
          "showarrow": false,
          "text": "Ar",
          "x": 17,
          "y": 2
         },
         {
          "font": {
           "color": "white",
           "size": 14
          },
          "showarrow": false,
          "text": "As",
          "x": 14,
          "y": 3
         },
         {
          "font": {
           "color": "white",
           "size": 14
          },
          "showarrow": false,
          "text": "Au",
          "x": 10,
          "y": 5
         },
         {
          "font": {
           "color": "white",
           "size": 14
          },
          "showarrow": false,
          "text": "B",
          "x": 12,
          "y": 1
         },
         {
          "font": {
           "color": "white",
           "size": 14
          },
          "showarrow": false,
          "text": "Ba",
          "x": 1,
          "y": 5
         },
         {
          "font": {
           "color": "white",
           "size": 14
          },
          "showarrow": false,
          "text": "Be",
          "x": 1,
          "y": 1
         },
         {
          "font": {
           "color": "white",
           "size": 14
          },
          "showarrow": false,
          "text": "Bi",
          "x": 14,
          "y": 5
         },
         {
          "font": {
           "color": "white",
           "size": 14
          },
          "showarrow": false,
          "text": "Br",
          "x": 16,
          "y": 3
         },
         {
          "font": {
           "color": "white",
           "size": 14
          },
          "showarrow": false,
          "text": "C",
          "x": 13,
          "y": 1
         },
         {
          "font": {
           "color": "white",
           "size": 14
          },
          "showarrow": false,
          "text": "Ca",
          "x": 1,
          "y": 3
         },
         {
          "font": {
           "color": "white",
           "size": 14
          },
          "showarrow": false,
          "text": "Cd",
          "x": 11,
          "y": 4
         },
         {
          "font": {
           "color": "white",
           "size": 14
          },
          "showarrow": false,
          "text": "Cl",
          "x": 16,
          "y": 2
         },
         {
          "font": {
           "color": "white",
           "size": 14
          },
          "showarrow": false,
          "text": "Co",
          "x": 8,
          "y": 3
         },
         {
          "font": {
           "color": "white",
           "size": 14
          },
          "showarrow": false,
          "text": "Cr",
          "x": 5,
          "y": 3
         },
         {
          "font": {
           "color": "white",
           "size": 14
          },
          "showarrow": false,
          "text": "Cs",
          "x": 0,
          "y": 5
         },
         {
          "font": {
           "color": "white",
           "size": 14
          },
          "showarrow": false,
          "text": "Cu",
          "x": 10,
          "y": 3
         },
         {
          "font": {
           "color": "white",
           "size": 14
          },
          "showarrow": false,
          "text": "F",
          "x": 16,
          "y": 1
         },
         {
          "font": {
           "color": "white",
           "size": 14
          },
          "showarrow": false,
          "text": "Fe",
          "x": 7,
          "y": 3
         },
         {
          "font": {
           "color": "white",
           "size": 14
          },
          "showarrow": false,
          "text": "Ga",
          "x": 12,
          "y": 3
         },
         {
          "font": {
           "color": "white",
           "size": 14
          },
          "showarrow": false,
          "text": "Ge",
          "x": 13,
          "y": 3
         },
         {
          "font": {
           "color": "white",
           "size": 14
          },
          "showarrow": false,
          "text": "H",
          "x": 0,
          "y": 0
         },
         {
          "font": {
           "color": "white",
           "size": 14
          },
          "showarrow": false,
          "text": "He",
          "x": 17,
          "y": 0
         },
         {
          "font": {
           "color": "white",
           "size": 14
          },
          "showarrow": false,
          "text": "Hf",
          "x": 3,
          "y": 5
         },
         {
          "font": {
           "color": "white",
           "size": 14
          },
          "showarrow": false,
          "text": "Hg",
          "x": 11,
          "y": 5
         },
         {
          "font": {
           "color": "white",
           "size": 14
          },
          "showarrow": false,
          "text": "I",
          "x": 16,
          "y": 4
         },
         {
          "font": {
           "color": "white",
           "size": 14
          },
          "showarrow": false,
          "text": "In",
          "x": 12,
          "y": 4
         },
         {
          "font": {
           "color": "white",
           "size": 14
          },
          "showarrow": false,
          "text": "Ir",
          "x": 8,
          "y": 5
         },
         {
          "font": {
           "color": "white",
           "size": 14
          },
          "showarrow": false,
          "text": "K",
          "x": 0,
          "y": 3
         },
         {
          "font": {
           "color": "white",
           "size": 14
          },
          "showarrow": false,
          "text": "Kr",
          "x": 17,
          "y": 3
         },
         {
          "font": {
           "color": "white",
           "size": 14
          },
          "showarrow": false,
          "text": "Li",
          "x": 0,
          "y": 1
         },
         {
          "font": {
           "color": "white",
           "size": 14
          },
          "showarrow": false,
          "text": "Mg",
          "x": 1,
          "y": 2
         },
         {
          "font": {
           "color": "white",
           "size": 14
          },
          "showarrow": false,
          "text": "Mn",
          "x": 6,
          "y": 3
         },
         {
          "font": {
           "color": "white",
           "size": 14
          },
          "showarrow": false,
          "text": "Mo",
          "x": 5,
          "y": 4
         },
         {
          "font": {
           "color": "white",
           "size": 14
          },
          "showarrow": false,
          "text": "N",
          "x": 14,
          "y": 1
         },
         {
          "font": {
           "color": "white",
           "size": 14
          },
          "showarrow": false,
          "text": "Na",
          "x": 0,
          "y": 2
         },
         {
          "font": {
           "color": "white",
           "size": 14
          },
          "showarrow": false,
          "text": "Nb",
          "x": 4,
          "y": 4
         },
         {
          "font": {
           "color": "white",
           "size": 14
          },
          "showarrow": false,
          "text": "Ne",
          "x": 17,
          "y": 1
         },
         {
          "font": {
           "color": "white",
           "size": 14
          },
          "showarrow": false,
          "text": "Ni",
          "x": 9,
          "y": 3
         },
         {
          "font": {
           "color": "white",
           "size": 14
          },
          "showarrow": false,
          "text": "O",
          "x": 15,
          "y": 1
         },
         {
          "font": {
           "color": "white",
           "size": 14
          },
          "showarrow": false,
          "text": "Os",
          "x": 7,
          "y": 5
         },
         {
          "font": {
           "color": "white",
           "size": 14
          },
          "showarrow": false,
          "text": "P",
          "x": 14,
          "y": 2
         },
         {
          "font": {
           "color": "white",
           "size": 14
          },
          "showarrow": false,
          "text": "Pb",
          "x": 13,
          "y": 5
         },
         {
          "font": {
           "color": "white",
           "size": 14
          },
          "showarrow": false,
          "text": "Pd",
          "x": 9,
          "y": 4
         },
         {
          "font": {
           "color": "white",
           "size": 14
          },
          "showarrow": false,
          "text": "Po",
          "x": 15,
          "y": 5
         },
         {
          "font": {
           "color": "white",
           "size": 14
          },
          "showarrow": false,
          "text": "Pt",
          "x": 9,
          "y": 5
         },
         {
          "font": {
           "color": "white",
           "size": 14
          },
          "showarrow": false,
          "text": "Rb",
          "x": 0,
          "y": 4
         },
         {
          "font": {
           "color": "white",
           "size": 14
          },
          "showarrow": false,
          "text": "Re",
          "x": 6,
          "y": 5
         },
         {
          "font": {
           "color": "white",
           "size": 14
          },
          "showarrow": false,
          "text": "Rh",
          "x": 8,
          "y": 4
         },
         {
          "font": {
           "color": "white",
           "size": 14
          },
          "showarrow": false,
          "text": "Rn",
          "x": 17,
          "y": 5
         },
         {
          "font": {
           "color": "white",
           "size": 14
          },
          "showarrow": false,
          "text": "Ru",
          "x": 7,
          "y": 4
         },
         {
          "font": {
           "color": "white",
           "size": 14
          },
          "showarrow": false,
          "text": "S",
          "x": 15,
          "y": 2
         },
         {
          "font": {
           "color": "white",
           "size": 14
          },
          "showarrow": false,
          "text": "Sb",
          "x": 14,
          "y": 4
         },
         {
          "font": {
           "color": "white",
           "size": 14
          },
          "showarrow": false,
          "text": "Sc",
          "x": 2,
          "y": 3
         },
         {
          "font": {
           "color": "white",
           "size": 14
          },
          "showarrow": false,
          "text": "Se",
          "x": 15,
          "y": 3
         },
         {
          "font": {
           "color": "white",
           "size": 14
          },
          "showarrow": false,
          "text": "Si",
          "x": 13,
          "y": 2
         },
         {
          "font": {
           "color": "white",
           "size": 14
          },
          "showarrow": false,
          "text": "Sn",
          "x": 13,
          "y": 4
         },
         {
          "font": {
           "color": "white",
           "size": 14
          },
          "showarrow": false,
          "text": "Sr",
          "x": 1,
          "y": 4
         },
         {
          "font": {
           "color": "white",
           "size": 14
          },
          "showarrow": false,
          "text": "Ta",
          "x": 4,
          "y": 5
         },
         {
          "font": {
           "color": "white",
           "size": 14
          },
          "showarrow": false,
          "text": "Tc",
          "x": 6,
          "y": 4
         },
         {
          "font": {
           "color": "white",
           "size": 14
          },
          "showarrow": false,
          "text": "Te",
          "x": 15,
          "y": 4
         },
         {
          "font": {
           "color": "white",
           "size": 14
          },
          "showarrow": false,
          "text": "Ti",
          "x": 3,
          "y": 3
         },
         {
          "font": {
           "color": "white",
           "size": 14
          },
          "showarrow": false,
          "text": "Tl",
          "x": 12,
          "y": 5
         },
         {
          "font": {
           "color": "white",
           "size": 14
          },
          "showarrow": false,
          "text": "V",
          "x": 4,
          "y": 3
         },
         {
          "font": {
           "color": "white",
           "size": 14
          },
          "showarrow": false,
          "text": "W",
          "x": 5,
          "y": 5
         },
         {
          "font": {
           "color": "white",
           "size": 14
          },
          "showarrow": false,
          "text": "Xe",
          "x": 17,
          "y": 4
         },
         {
          "font": {
           "color": "white",
           "size": 14
          },
          "showarrow": false,
          "text": "Y",
          "x": 2,
          "y": 4
         },
         {
          "font": {
           "color": "white",
           "size": 14
          },
          "showarrow": false,
          "text": "Zn",
          "x": 11,
          "y": 3
         },
         {
          "font": {
           "color": "white",
           "size": 14
          },
          "showarrow": false,
          "text": "Zr",
          "x": 3,
          "y": 4
         }
        ],
        "coloraxis": {
         "colorbar": {
          "title": {
           "text": "Frequency"
          }
         },
         "colorscale": [
          [
           0,
           "rgb(255,0,0)"
          ],
          [
           1,
           "rgb(0,0,255)"
          ]
         ]
        },
        "margin": {
         "t": 60
        },
        "template": {
         "data": {
          "bar": [
           {
            "error_x": {
             "color": "#2a3f5f"
            },
            "error_y": {
             "color": "#2a3f5f"
            },
            "marker": {
             "line": {
              "color": "#E5ECF6",
              "width": 0.5
             },
             "pattern": {
              "fillmode": "overlay",
              "size": 10,
              "solidity": 0.2
             }
            },
            "type": "bar"
           }
          ],
          "barpolar": [
           {
            "marker": {
             "line": {
              "color": "#E5ECF6",
              "width": 0.5
             },
             "pattern": {
              "fillmode": "overlay",
              "size": 10,
              "solidity": 0.2
             }
            },
            "type": "barpolar"
           }
          ],
          "carpet": [
           {
            "aaxis": {
             "endlinecolor": "#2a3f5f",
             "gridcolor": "white",
             "linecolor": "white",
             "minorgridcolor": "white",
             "startlinecolor": "#2a3f5f"
            },
            "baxis": {
             "endlinecolor": "#2a3f5f",
             "gridcolor": "white",
             "linecolor": "white",
             "minorgridcolor": "white",
             "startlinecolor": "#2a3f5f"
            },
            "type": "carpet"
           }
          ],
          "choropleth": [
           {
            "colorbar": {
             "outlinewidth": 0,
             "ticks": ""
            },
            "type": "choropleth"
           }
          ],
          "contour": [
           {
            "colorbar": {
             "outlinewidth": 0,
             "ticks": ""
            },
            "colorscale": [
             [
              0,
              "#0d0887"
             ],
             [
              0.1111111111111111,
              "#46039f"
             ],
             [
              0.2222222222222222,
              "#7201a8"
             ],
             [
              0.3333333333333333,
              "#9c179e"
             ],
             [
              0.4444444444444444,
              "#bd3786"
             ],
             [
              0.5555555555555556,
              "#d8576b"
             ],
             [
              0.6666666666666666,
              "#ed7953"
             ],
             [
              0.7777777777777778,
              "#fb9f3a"
             ],
             [
              0.8888888888888888,
              "#fdca26"
             ],
             [
              1,
              "#f0f921"
             ]
            ],
            "type": "contour"
           }
          ],
          "contourcarpet": [
           {
            "colorbar": {
             "outlinewidth": 0,
             "ticks": ""
            },
            "type": "contourcarpet"
           }
          ],
          "heatmap": [
           {
            "colorbar": {
             "outlinewidth": 0,
             "ticks": ""
            },
            "colorscale": [
             [
              0,
              "#0d0887"
             ],
             [
              0.1111111111111111,
              "#46039f"
             ],
             [
              0.2222222222222222,
              "#7201a8"
             ],
             [
              0.3333333333333333,
              "#9c179e"
             ],
             [
              0.4444444444444444,
              "#bd3786"
             ],
             [
              0.5555555555555556,
              "#d8576b"
             ],
             [
              0.6666666666666666,
              "#ed7953"
             ],
             [
              0.7777777777777778,
              "#fb9f3a"
             ],
             [
              0.8888888888888888,
              "#fdca26"
             ],
             [
              1,
              "#f0f921"
             ]
            ],
            "type": "heatmap"
           }
          ],
          "heatmapgl": [
           {
            "colorbar": {
             "outlinewidth": 0,
             "ticks": ""
            },
            "colorscale": [
             [
              0,
              "#0d0887"
             ],
             [
              0.1111111111111111,
              "#46039f"
             ],
             [
              0.2222222222222222,
              "#7201a8"
             ],
             [
              0.3333333333333333,
              "#9c179e"
             ],
             [
              0.4444444444444444,
              "#bd3786"
             ],
             [
              0.5555555555555556,
              "#d8576b"
             ],
             [
              0.6666666666666666,
              "#ed7953"
             ],
             [
              0.7777777777777778,
              "#fb9f3a"
             ],
             [
              0.8888888888888888,
              "#fdca26"
             ],
             [
              1,
              "#f0f921"
             ]
            ],
            "type": "heatmapgl"
           }
          ],
          "histogram": [
           {
            "marker": {
             "pattern": {
              "fillmode": "overlay",
              "size": 10,
              "solidity": 0.2
             }
            },
            "type": "histogram"
           }
          ],
          "histogram2d": [
           {
            "colorbar": {
             "outlinewidth": 0,
             "ticks": ""
            },
            "colorscale": [
             [
              0,
              "#0d0887"
             ],
             [
              0.1111111111111111,
              "#46039f"
             ],
             [
              0.2222222222222222,
              "#7201a8"
             ],
             [
              0.3333333333333333,
              "#9c179e"
             ],
             [
              0.4444444444444444,
              "#bd3786"
             ],
             [
              0.5555555555555556,
              "#d8576b"
             ],
             [
              0.6666666666666666,
              "#ed7953"
             ],
             [
              0.7777777777777778,
              "#fb9f3a"
             ],
             [
              0.8888888888888888,
              "#fdca26"
             ],
             [
              1,
              "#f0f921"
             ]
            ],
            "type": "histogram2d"
           }
          ],
          "histogram2dcontour": [
           {
            "colorbar": {
             "outlinewidth": 0,
             "ticks": ""
            },
            "colorscale": [
             [
              0,
              "#0d0887"
             ],
             [
              0.1111111111111111,
              "#46039f"
             ],
             [
              0.2222222222222222,
              "#7201a8"
             ],
             [
              0.3333333333333333,
              "#9c179e"
             ],
             [
              0.4444444444444444,
              "#bd3786"
             ],
             [
              0.5555555555555556,
              "#d8576b"
             ],
             [
              0.6666666666666666,
              "#ed7953"
             ],
             [
              0.7777777777777778,
              "#fb9f3a"
             ],
             [
              0.8888888888888888,
              "#fdca26"
             ],
             [
              1,
              "#f0f921"
             ]
            ],
            "type": "histogram2dcontour"
           }
          ],
          "mesh3d": [
           {
            "colorbar": {
             "outlinewidth": 0,
             "ticks": ""
            },
            "type": "mesh3d"
           }
          ],
          "parcoords": [
           {
            "line": {
             "colorbar": {
              "outlinewidth": 0,
              "ticks": ""
             }
            },
            "type": "parcoords"
           }
          ],
          "pie": [
           {
            "automargin": true,
            "type": "pie"
           }
          ],
          "scatter": [
           {
            "marker": {
             "colorbar": {
              "outlinewidth": 0,
              "ticks": ""
             }
            },
            "type": "scatter"
           }
          ],
          "scatter3d": [
           {
            "line": {
             "colorbar": {
              "outlinewidth": 0,
              "ticks": ""
             }
            },
            "marker": {
             "colorbar": {
              "outlinewidth": 0,
              "ticks": ""
             }
            },
            "type": "scatter3d"
           }
          ],
          "scattercarpet": [
           {
            "marker": {
             "colorbar": {
              "outlinewidth": 0,
              "ticks": ""
             }
            },
            "type": "scattercarpet"
           }
          ],
          "scattergeo": [
           {
            "marker": {
             "colorbar": {
              "outlinewidth": 0,
              "ticks": ""
             }
            },
            "type": "scattergeo"
           }
          ],
          "scattergl": [
           {
            "marker": {
             "colorbar": {
              "outlinewidth": 0,
              "ticks": ""
             }
            },
            "type": "scattergl"
           }
          ],
          "scattermapbox": [
           {
            "marker": {
             "colorbar": {
              "outlinewidth": 0,
              "ticks": ""
             }
            },
            "type": "scattermapbox"
           }
          ],
          "scatterpolar": [
           {
            "marker": {
             "colorbar": {
              "outlinewidth": 0,
              "ticks": ""
             }
            },
            "type": "scatterpolar"
           }
          ],
          "scatterpolargl": [
           {
            "marker": {
             "colorbar": {
              "outlinewidth": 0,
              "ticks": ""
             }
            },
            "type": "scatterpolargl"
           }
          ],
          "scatterternary": [
           {
            "marker": {
             "colorbar": {
              "outlinewidth": 0,
              "ticks": ""
             }
            },
            "type": "scatterternary"
           }
          ],
          "surface": [
           {
            "colorbar": {
             "outlinewidth": 0,
             "ticks": ""
            },
            "colorscale": [
             [
              0,
              "#0d0887"
             ],
             [
              0.1111111111111111,
              "#46039f"
             ],
             [
              0.2222222222222222,
              "#7201a8"
             ],
             [
              0.3333333333333333,
              "#9c179e"
             ],
             [
              0.4444444444444444,
              "#bd3786"
             ],
             [
              0.5555555555555556,
              "#d8576b"
             ],
             [
              0.6666666666666666,
              "#ed7953"
             ],
             [
              0.7777777777777778,
              "#fb9f3a"
             ],
             [
              0.8888888888888888,
              "#fdca26"
             ],
             [
              1,
              "#f0f921"
             ]
            ],
            "type": "surface"
           }
          ],
          "table": [
           {
            "cells": {
             "fill": {
              "color": "#EBF0F8"
             },
             "line": {
              "color": "white"
             }
            },
            "header": {
             "fill": {
              "color": "#C8D4E3"
             },
             "line": {
              "color": "white"
             }
            },
            "type": "table"
           }
          ]
         },
         "layout": {
          "annotationdefaults": {
           "arrowcolor": "#2a3f5f",
           "arrowhead": 0,
           "arrowwidth": 1
          },
          "autotypenumbers": "strict",
          "coloraxis": {
           "colorbar": {
            "outlinewidth": 0,
            "ticks": ""
           }
          },
          "colorscale": {
           "diverging": [
            [
             0,
             "#8e0152"
            ],
            [
             0.1,
             "#c51b7d"
            ],
            [
             0.2,
             "#de77ae"
            ],
            [
             0.3,
             "#f1b6da"
            ],
            [
             0.4,
             "#fde0ef"
            ],
            [
             0.5,
             "#f7f7f7"
            ],
            [
             0.6,
             "#e6f5d0"
            ],
            [
             0.7,
             "#b8e186"
            ],
            [
             0.8,
             "#7fbc41"
            ],
            [
             0.9,
             "#4d9221"
            ],
            [
             1,
             "#276419"
            ]
           ],
           "sequential": [
            [
             0,
             "#0d0887"
            ],
            [
             0.1111111111111111,
             "#46039f"
            ],
            [
             0.2222222222222222,
             "#7201a8"
            ],
            [
             0.3333333333333333,
             "#9c179e"
            ],
            [
             0.4444444444444444,
             "#bd3786"
            ],
            [
             0.5555555555555556,
             "#d8576b"
            ],
            [
             0.6666666666666666,
             "#ed7953"
            ],
            [
             0.7777777777777778,
             "#fb9f3a"
            ],
            [
             0.8888888888888888,
             "#fdca26"
            ],
            [
             1,
             "#f0f921"
            ]
           ],
           "sequentialminus": [
            [
             0,
             "#0d0887"
            ],
            [
             0.1111111111111111,
             "#46039f"
            ],
            [
             0.2222222222222222,
             "#7201a8"
            ],
            [
             0.3333333333333333,
             "#9c179e"
            ],
            [
             0.4444444444444444,
             "#bd3786"
            ],
            [
             0.5555555555555556,
             "#d8576b"
            ],
            [
             0.6666666666666666,
             "#ed7953"
            ],
            [
             0.7777777777777778,
             "#fb9f3a"
            ],
            [
             0.8888888888888888,
             "#fdca26"
            ],
            [
             1,
             "#f0f921"
            ]
           ]
          },
          "colorway": [
           "#636efa",
           "#EF553B",
           "#00cc96",
           "#ab63fa",
           "#FFA15A",
           "#19d3f3",
           "#FF6692",
           "#B6E880",
           "#FF97FF",
           "#FECB52"
          ],
          "font": {
           "color": "#2a3f5f"
          },
          "geo": {
           "bgcolor": "white",
           "lakecolor": "white",
           "landcolor": "#E5ECF6",
           "showlakes": true,
           "showland": true,
           "subunitcolor": "white"
          },
          "hoverlabel": {
           "align": "left"
          },
          "hovermode": "closest",
          "mapbox": {
           "style": "light"
          },
          "paper_bgcolor": "white",
          "plot_bgcolor": "#E5ECF6",
          "polar": {
           "angularaxis": {
            "gridcolor": "white",
            "linecolor": "white",
            "ticks": ""
           },
           "bgcolor": "#E5ECF6",
           "radialaxis": {
            "gridcolor": "white",
            "linecolor": "white",
            "ticks": ""
           }
          },
          "scene": {
           "xaxis": {
            "backgroundcolor": "#E5ECF6",
            "gridcolor": "white",
            "gridwidth": 2,
            "linecolor": "white",
            "showbackground": true,
            "ticks": "",
            "zerolinecolor": "white"
           },
           "yaxis": {
            "backgroundcolor": "#E5ECF6",
            "gridcolor": "white",
            "gridwidth": 2,
            "linecolor": "white",
            "showbackground": true,
            "ticks": "",
            "zerolinecolor": "white"
           },
           "zaxis": {
            "backgroundcolor": "#E5ECF6",
            "gridcolor": "white",
            "gridwidth": 2,
            "linecolor": "white",
            "showbackground": true,
            "ticks": "",
            "zerolinecolor": "white"
           }
          },
          "shapedefaults": {
           "line": {
            "color": "#2a3f5f"
           }
          },
          "ternary": {
           "aaxis": {
            "gridcolor": "white",
            "linecolor": "white",
            "ticks": ""
           },
           "baxis": {
            "gridcolor": "white",
            "linecolor": "white",
            "ticks": ""
           },
           "bgcolor": "#E5ECF6",
           "caxis": {
            "gridcolor": "white",
            "linecolor": "white",
            "ticks": ""
           }
          },
          "title": {
           "x": 0.05
          },
          "xaxis": {
           "automargin": true,
           "gridcolor": "white",
           "linecolor": "white",
           "ticks": "",
           "title": {
            "standoff": 15
           },
           "zerolinecolor": "white",
           "zerolinewidth": 2
          },
          "yaxis": {
           "automargin": true,
           "gridcolor": "white",
           "linecolor": "white",
           "ticks": "",
           "title": {
            "standoff": 15
           },
           "zerolinecolor": "white",
           "zerolinewidth": 2
          }
         }
        },
        "xaxis": {
         "anchor": "y",
         "constrain": "domain",
         "domain": [
          0,
          1
         ],
         "scaleanchor": "y",
         "showticklabels": false
        },
        "yaxis": {
         "anchor": "x",
         "autorange": "reversed",
         "constrain": "domain",
         "domain": [
          0,
          1
         ],
         "showticklabels": false
        }
       }
      },
      "text/html": [
       "<div>                            <div id=\"e5947117-73a9-42d7-b1eb-242579a0941f\" class=\"plotly-graph-div\" style=\"height:525px; width:100%;\"></div>            <script type=\"text/javascript\">                require([\"plotly\"], function(Plotly) {                    window.PLOTLYENV=window.PLOTLYENV || {};                                    if (document.getElementById(\"e5947117-73a9-42d7-b1eb-242579a0941f\")) {                    Plotly.newPlot(                        \"e5947117-73a9-42d7-b1eb-242579a0941f\",                        [{\"coloraxis\":\"coloraxis\",\"hovertemplate\":\"x: %{x}<br>y: %{y}<br>Frequency: %{z}<extra></extra>\",\"name\":\"0\",\"type\":\"heatmap\",\"xaxis\":\"x\",\"yaxis\":\"y\",\"z\":[[0.4356418352413378,null,null,null,null,null,null,null,null,null,null,null,null,null,null,null,null,0.43326184646530164],[0.5110790474514018,0.7155555456547031,null,null,null,null,null,null,null,null,null,null,0.15819825867802917,0.025194395468974173,0.47978699748673426,0.4000276031056561,0.08791770475559435,0.9262178133315834],[0.010162891417871522,0.4675618024049065,null,null,null,null,null,null,null,null,null,null,0.8389667325913625,0.11162039059025375,0.3629350587984639,0.9011132217357891,0.7664795059567188,0.5359232920866812],[0.19935515822213246,0.7260961125886809,0.6124683826432482,0.3208483917920555,0.6524239798156792,0.6583198298990147,0.9597689700591443,0.10803120612061445,0.4135647932131229,0.837199180229091,0.6015490875400835,0.840636203585534,0.3646132829785944,1.0,0.48032873342230875,0.16539930876918296,0.06798113894983482,0.7621022392264307],[0.9013904649117194,0.047853155654680846,0.3686865543160148,0.4080156922967967,0.46319338744083527,0.48736086498832176,0.13155724608703245,0.6499113581999685,0.9293937986406547,0.7121658504724567,0.6773622944946495,0.14114669290356996,0.008368269881947499,0.9473146038778831,0.3068486107942824,0.05142132764974605,0.9600778818352226,0.80240623693583],[0.023823167279714785,0.36714085422554377,null,0.32891159085391897,0.17730850134431198,0.6000184216364299,0.052155176146464255,0.20104349752892547,0.40889033059918,0.10012517200990445,0.0758025520401443,0.27802786443300453,0.6384673914631822,0.22762495952296913,0.14305727074773789,0.5438904044135,null,0.954739694287107]]}],                        {\"annotations\":[{\"font\":{\"color\":\"white\",\"size\":14},\"showarrow\":false,\"text\":\"Ag\",\"x\":10,\"y\":4},{\"font\":{\"color\":\"white\",\"size\":14},\"showarrow\":false,\"text\":\"Al\",\"x\":12,\"y\":2},{\"font\":{\"color\":\"white\",\"size\":14},\"showarrow\":false,\"text\":\"Ar\",\"x\":17,\"y\":2},{\"font\":{\"color\":\"white\",\"size\":14},\"showarrow\":false,\"text\":\"As\",\"x\":14,\"y\":3},{\"font\":{\"color\":\"white\",\"size\":14},\"showarrow\":false,\"text\":\"Au\",\"x\":10,\"y\":5},{\"font\":{\"color\":\"white\",\"size\":14},\"showarrow\":false,\"text\":\"B\",\"x\":12,\"y\":1},{\"font\":{\"color\":\"white\",\"size\":14},\"showarrow\":false,\"text\":\"Ba\",\"x\":1,\"y\":5},{\"font\":{\"color\":\"white\",\"size\":14},\"showarrow\":false,\"text\":\"Be\",\"x\":1,\"y\":1},{\"font\":{\"color\":\"white\",\"size\":14},\"showarrow\":false,\"text\":\"Bi\",\"x\":14,\"y\":5},{\"font\":{\"color\":\"white\",\"size\":14},\"showarrow\":false,\"text\":\"Br\",\"x\":16,\"y\":3},{\"font\":{\"color\":\"white\",\"size\":14},\"showarrow\":false,\"text\":\"C\",\"x\":13,\"y\":1},{\"font\":{\"color\":\"white\",\"size\":14},\"showarrow\":false,\"text\":\"Ca\",\"x\":1,\"y\":3},{\"font\":{\"color\":\"white\",\"size\":14},\"showarrow\":false,\"text\":\"Cd\",\"x\":11,\"y\":4},{\"font\":{\"color\":\"white\",\"size\":14},\"showarrow\":false,\"text\":\"Cl\",\"x\":16,\"y\":2},{\"font\":{\"color\":\"white\",\"size\":14},\"showarrow\":false,\"text\":\"Co\",\"x\":8,\"y\":3},{\"font\":{\"color\":\"white\",\"size\":14},\"showarrow\":false,\"text\":\"Cr\",\"x\":5,\"y\":3},{\"font\":{\"color\":\"white\",\"size\":14},\"showarrow\":false,\"text\":\"Cs\",\"x\":0,\"y\":5},{\"font\":{\"color\":\"white\",\"size\":14},\"showarrow\":false,\"text\":\"Cu\",\"x\":10,\"y\":3},{\"font\":{\"color\":\"white\",\"size\":14},\"showarrow\":false,\"text\":\"F\",\"x\":16,\"y\":1},{\"font\":{\"color\":\"white\",\"size\":14},\"showarrow\":false,\"text\":\"Fe\",\"x\":7,\"y\":3},{\"font\":{\"color\":\"white\",\"size\":14},\"showarrow\":false,\"text\":\"Ga\",\"x\":12,\"y\":3},{\"font\":{\"color\":\"white\",\"size\":14},\"showarrow\":false,\"text\":\"Ge\",\"x\":13,\"y\":3},{\"font\":{\"color\":\"white\",\"size\":14},\"showarrow\":false,\"text\":\"H\",\"x\":0,\"y\":0},{\"font\":{\"color\":\"white\",\"size\":14},\"showarrow\":false,\"text\":\"He\",\"x\":17,\"y\":0},{\"font\":{\"color\":\"white\",\"size\":14},\"showarrow\":false,\"text\":\"Hf\",\"x\":3,\"y\":5},{\"font\":{\"color\":\"white\",\"size\":14},\"showarrow\":false,\"text\":\"Hg\",\"x\":11,\"y\":5},{\"font\":{\"color\":\"white\",\"size\":14},\"showarrow\":false,\"text\":\"I\",\"x\":16,\"y\":4},{\"font\":{\"color\":\"white\",\"size\":14},\"showarrow\":false,\"text\":\"In\",\"x\":12,\"y\":4},{\"font\":{\"color\":\"white\",\"size\":14},\"showarrow\":false,\"text\":\"Ir\",\"x\":8,\"y\":5},{\"font\":{\"color\":\"white\",\"size\":14},\"showarrow\":false,\"text\":\"K\",\"x\":0,\"y\":3},{\"font\":{\"color\":\"white\",\"size\":14},\"showarrow\":false,\"text\":\"Kr\",\"x\":17,\"y\":3},{\"font\":{\"color\":\"white\",\"size\":14},\"showarrow\":false,\"text\":\"Li\",\"x\":0,\"y\":1},{\"font\":{\"color\":\"white\",\"size\":14},\"showarrow\":false,\"text\":\"Mg\",\"x\":1,\"y\":2},{\"font\":{\"color\":\"white\",\"size\":14},\"showarrow\":false,\"text\":\"Mn\",\"x\":6,\"y\":3},{\"font\":{\"color\":\"white\",\"size\":14},\"showarrow\":false,\"text\":\"Mo\",\"x\":5,\"y\":4},{\"font\":{\"color\":\"white\",\"size\":14},\"showarrow\":false,\"text\":\"N\",\"x\":14,\"y\":1},{\"font\":{\"color\":\"white\",\"size\":14},\"showarrow\":false,\"text\":\"Na\",\"x\":0,\"y\":2},{\"font\":{\"color\":\"white\",\"size\":14},\"showarrow\":false,\"text\":\"Nb\",\"x\":4,\"y\":4},{\"font\":{\"color\":\"white\",\"size\":14},\"showarrow\":false,\"text\":\"Ne\",\"x\":17,\"y\":1},{\"font\":{\"color\":\"white\",\"size\":14},\"showarrow\":false,\"text\":\"Ni\",\"x\":9,\"y\":3},{\"font\":{\"color\":\"white\",\"size\":14},\"showarrow\":false,\"text\":\"O\",\"x\":15,\"y\":1},{\"font\":{\"color\":\"white\",\"size\":14},\"showarrow\":false,\"text\":\"Os\",\"x\":7,\"y\":5},{\"font\":{\"color\":\"white\",\"size\":14},\"showarrow\":false,\"text\":\"P\",\"x\":14,\"y\":2},{\"font\":{\"color\":\"white\",\"size\":14},\"showarrow\":false,\"text\":\"Pb\",\"x\":13,\"y\":5},{\"font\":{\"color\":\"white\",\"size\":14},\"showarrow\":false,\"text\":\"Pd\",\"x\":9,\"y\":4},{\"font\":{\"color\":\"white\",\"size\":14},\"showarrow\":false,\"text\":\"Po\",\"x\":15,\"y\":5},{\"font\":{\"color\":\"white\",\"size\":14},\"showarrow\":false,\"text\":\"Pt\",\"x\":9,\"y\":5},{\"font\":{\"color\":\"white\",\"size\":14},\"showarrow\":false,\"text\":\"Rb\",\"x\":0,\"y\":4},{\"font\":{\"color\":\"white\",\"size\":14},\"showarrow\":false,\"text\":\"Re\",\"x\":6,\"y\":5},{\"font\":{\"color\":\"white\",\"size\":14},\"showarrow\":false,\"text\":\"Rh\",\"x\":8,\"y\":4},{\"font\":{\"color\":\"white\",\"size\":14},\"showarrow\":false,\"text\":\"Rn\",\"x\":17,\"y\":5},{\"font\":{\"color\":\"white\",\"size\":14},\"showarrow\":false,\"text\":\"Ru\",\"x\":7,\"y\":4},{\"font\":{\"color\":\"white\",\"size\":14},\"showarrow\":false,\"text\":\"S\",\"x\":15,\"y\":2},{\"font\":{\"color\":\"white\",\"size\":14},\"showarrow\":false,\"text\":\"Sb\",\"x\":14,\"y\":4},{\"font\":{\"color\":\"white\",\"size\":14},\"showarrow\":false,\"text\":\"Sc\",\"x\":2,\"y\":3},{\"font\":{\"color\":\"white\",\"size\":14},\"showarrow\":false,\"text\":\"Se\",\"x\":15,\"y\":3},{\"font\":{\"color\":\"white\",\"size\":14},\"showarrow\":false,\"text\":\"Si\",\"x\":13,\"y\":2},{\"font\":{\"color\":\"white\",\"size\":14},\"showarrow\":false,\"text\":\"Sn\",\"x\":13,\"y\":4},{\"font\":{\"color\":\"white\",\"size\":14},\"showarrow\":false,\"text\":\"Sr\",\"x\":1,\"y\":4},{\"font\":{\"color\":\"white\",\"size\":14},\"showarrow\":false,\"text\":\"Ta\",\"x\":4,\"y\":5},{\"font\":{\"color\":\"white\",\"size\":14},\"showarrow\":false,\"text\":\"Tc\",\"x\":6,\"y\":4},{\"font\":{\"color\":\"white\",\"size\":14},\"showarrow\":false,\"text\":\"Te\",\"x\":15,\"y\":4},{\"font\":{\"color\":\"white\",\"size\":14},\"showarrow\":false,\"text\":\"Ti\",\"x\":3,\"y\":3},{\"font\":{\"color\":\"white\",\"size\":14},\"showarrow\":false,\"text\":\"Tl\",\"x\":12,\"y\":5},{\"font\":{\"color\":\"white\",\"size\":14},\"showarrow\":false,\"text\":\"V\",\"x\":4,\"y\":3},{\"font\":{\"color\":\"white\",\"size\":14},\"showarrow\":false,\"text\":\"W\",\"x\":5,\"y\":5},{\"font\":{\"color\":\"white\",\"size\":14},\"showarrow\":false,\"text\":\"Xe\",\"x\":17,\"y\":4},{\"font\":{\"color\":\"white\",\"size\":14},\"showarrow\":false,\"text\":\"Y\",\"x\":2,\"y\":4},{\"font\":{\"color\":\"white\",\"size\":14},\"showarrow\":false,\"text\":\"Zn\",\"x\":11,\"y\":3},{\"font\":{\"color\":\"white\",\"size\":14},\"showarrow\":false,\"text\":\"Zr\",\"x\":3,\"y\":4}],\"coloraxis\":{\"colorbar\":{\"title\":{\"text\":\"Frequency\"}},\"colorscale\":[[0.0,\"rgb(255,0,0)\"],[1.0,\"rgb(0,0,255)\"]]},\"margin\":{\"t\":60},\"template\":{\"data\":{\"bar\":[{\"error_x\":{\"color\":\"#2a3f5f\"},\"error_y\":{\"color\":\"#2a3f5f\"},\"marker\":{\"line\":{\"color\":\"#E5ECF6\",\"width\":0.5},\"pattern\":{\"fillmode\":\"overlay\",\"size\":10,\"solidity\":0.2}},\"type\":\"bar\"}],\"barpolar\":[{\"marker\":{\"line\":{\"color\":\"#E5ECF6\",\"width\":0.5},\"pattern\":{\"fillmode\":\"overlay\",\"size\":10,\"solidity\":0.2}},\"type\":\"barpolar\"}],\"carpet\":[{\"aaxis\":{\"endlinecolor\":\"#2a3f5f\",\"gridcolor\":\"white\",\"linecolor\":\"white\",\"minorgridcolor\":\"white\",\"startlinecolor\":\"#2a3f5f\"},\"baxis\":{\"endlinecolor\":\"#2a3f5f\",\"gridcolor\":\"white\",\"linecolor\":\"white\",\"minorgridcolor\":\"white\",\"startlinecolor\":\"#2a3f5f\"},\"type\":\"carpet\"}],\"choropleth\":[{\"colorbar\":{\"outlinewidth\":0,\"ticks\":\"\"},\"type\":\"choropleth\"}],\"contour\":[{\"colorbar\":{\"outlinewidth\":0,\"ticks\":\"\"},\"colorscale\":[[0.0,\"#0d0887\"],[0.1111111111111111,\"#46039f\"],[0.2222222222222222,\"#7201a8\"],[0.3333333333333333,\"#9c179e\"],[0.4444444444444444,\"#bd3786\"],[0.5555555555555556,\"#d8576b\"],[0.6666666666666666,\"#ed7953\"],[0.7777777777777778,\"#fb9f3a\"],[0.8888888888888888,\"#fdca26\"],[1.0,\"#f0f921\"]],\"type\":\"contour\"}],\"contourcarpet\":[{\"colorbar\":{\"outlinewidth\":0,\"ticks\":\"\"},\"type\":\"contourcarpet\"}],\"heatmap\":[{\"colorbar\":{\"outlinewidth\":0,\"ticks\":\"\"},\"colorscale\":[[0.0,\"#0d0887\"],[0.1111111111111111,\"#46039f\"],[0.2222222222222222,\"#7201a8\"],[0.3333333333333333,\"#9c179e\"],[0.4444444444444444,\"#bd3786\"],[0.5555555555555556,\"#d8576b\"],[0.6666666666666666,\"#ed7953\"],[0.7777777777777778,\"#fb9f3a\"],[0.8888888888888888,\"#fdca26\"],[1.0,\"#f0f921\"]],\"type\":\"heatmap\"}],\"heatmapgl\":[{\"colorbar\":{\"outlinewidth\":0,\"ticks\":\"\"},\"colorscale\":[[0.0,\"#0d0887\"],[0.1111111111111111,\"#46039f\"],[0.2222222222222222,\"#7201a8\"],[0.3333333333333333,\"#9c179e\"],[0.4444444444444444,\"#bd3786\"],[0.5555555555555556,\"#d8576b\"],[0.6666666666666666,\"#ed7953\"],[0.7777777777777778,\"#fb9f3a\"],[0.8888888888888888,\"#fdca26\"],[1.0,\"#f0f921\"]],\"type\":\"heatmapgl\"}],\"histogram\":[{\"marker\":{\"pattern\":{\"fillmode\":\"overlay\",\"size\":10,\"solidity\":0.2}},\"type\":\"histogram\"}],\"histogram2d\":[{\"colorbar\":{\"outlinewidth\":0,\"ticks\":\"\"},\"colorscale\":[[0.0,\"#0d0887\"],[0.1111111111111111,\"#46039f\"],[0.2222222222222222,\"#7201a8\"],[0.3333333333333333,\"#9c179e\"],[0.4444444444444444,\"#bd3786\"],[0.5555555555555556,\"#d8576b\"],[0.6666666666666666,\"#ed7953\"],[0.7777777777777778,\"#fb9f3a\"],[0.8888888888888888,\"#fdca26\"],[1.0,\"#f0f921\"]],\"type\":\"histogram2d\"}],\"histogram2dcontour\":[{\"colorbar\":{\"outlinewidth\":0,\"ticks\":\"\"},\"colorscale\":[[0.0,\"#0d0887\"],[0.1111111111111111,\"#46039f\"],[0.2222222222222222,\"#7201a8\"],[0.3333333333333333,\"#9c179e\"],[0.4444444444444444,\"#bd3786\"],[0.5555555555555556,\"#d8576b\"],[0.6666666666666666,\"#ed7953\"],[0.7777777777777778,\"#fb9f3a\"],[0.8888888888888888,\"#fdca26\"],[1.0,\"#f0f921\"]],\"type\":\"histogram2dcontour\"}],\"mesh3d\":[{\"colorbar\":{\"outlinewidth\":0,\"ticks\":\"\"},\"type\":\"mesh3d\"}],\"parcoords\":[{\"line\":{\"colorbar\":{\"outlinewidth\":0,\"ticks\":\"\"}},\"type\":\"parcoords\"}],\"pie\":[{\"automargin\":true,\"type\":\"pie\"}],\"scatter\":[{\"marker\":{\"colorbar\":{\"outlinewidth\":0,\"ticks\":\"\"}},\"type\":\"scatter\"}],\"scatter3d\":[{\"line\":{\"colorbar\":{\"outlinewidth\":0,\"ticks\":\"\"}},\"marker\":{\"colorbar\":{\"outlinewidth\":0,\"ticks\":\"\"}},\"type\":\"scatter3d\"}],\"scattercarpet\":[{\"marker\":{\"colorbar\":{\"outlinewidth\":0,\"ticks\":\"\"}},\"type\":\"scattercarpet\"}],\"scattergeo\":[{\"marker\":{\"colorbar\":{\"outlinewidth\":0,\"ticks\":\"\"}},\"type\":\"scattergeo\"}],\"scattergl\":[{\"marker\":{\"colorbar\":{\"outlinewidth\":0,\"ticks\":\"\"}},\"type\":\"scattergl\"}],\"scattermapbox\":[{\"marker\":{\"colorbar\":{\"outlinewidth\":0,\"ticks\":\"\"}},\"type\":\"scattermapbox\"}],\"scatterpolar\":[{\"marker\":{\"colorbar\":{\"outlinewidth\":0,\"ticks\":\"\"}},\"type\":\"scatterpolar\"}],\"scatterpolargl\":[{\"marker\":{\"colorbar\":{\"outlinewidth\":0,\"ticks\":\"\"}},\"type\":\"scatterpolargl\"}],\"scatterternary\":[{\"marker\":{\"colorbar\":{\"outlinewidth\":0,\"ticks\":\"\"}},\"type\":\"scatterternary\"}],\"surface\":[{\"colorbar\":{\"outlinewidth\":0,\"ticks\":\"\"},\"colorscale\":[[0.0,\"#0d0887\"],[0.1111111111111111,\"#46039f\"],[0.2222222222222222,\"#7201a8\"],[0.3333333333333333,\"#9c179e\"],[0.4444444444444444,\"#bd3786\"],[0.5555555555555556,\"#d8576b\"],[0.6666666666666666,\"#ed7953\"],[0.7777777777777778,\"#fb9f3a\"],[0.8888888888888888,\"#fdca26\"],[1.0,\"#f0f921\"]],\"type\":\"surface\"}],\"table\":[{\"cells\":{\"fill\":{\"color\":\"#EBF0F8\"},\"line\":{\"color\":\"white\"}},\"header\":{\"fill\":{\"color\":\"#C8D4E3\"},\"line\":{\"color\":\"white\"}},\"type\":\"table\"}]},\"layout\":{\"annotationdefaults\":{\"arrowcolor\":\"#2a3f5f\",\"arrowhead\":0,\"arrowwidth\":1},\"autotypenumbers\":\"strict\",\"coloraxis\":{\"colorbar\":{\"outlinewidth\":0,\"ticks\":\"\"}},\"colorscale\":{\"diverging\":[[0,\"#8e0152\"],[0.1,\"#c51b7d\"],[0.2,\"#de77ae\"],[0.3,\"#f1b6da\"],[0.4,\"#fde0ef\"],[0.5,\"#f7f7f7\"],[0.6,\"#e6f5d0\"],[0.7,\"#b8e186\"],[0.8,\"#7fbc41\"],[0.9,\"#4d9221\"],[1,\"#276419\"]],\"sequential\":[[0.0,\"#0d0887\"],[0.1111111111111111,\"#46039f\"],[0.2222222222222222,\"#7201a8\"],[0.3333333333333333,\"#9c179e\"],[0.4444444444444444,\"#bd3786\"],[0.5555555555555556,\"#d8576b\"],[0.6666666666666666,\"#ed7953\"],[0.7777777777777778,\"#fb9f3a\"],[0.8888888888888888,\"#fdca26\"],[1.0,\"#f0f921\"]],\"sequentialminus\":[[0.0,\"#0d0887\"],[0.1111111111111111,\"#46039f\"],[0.2222222222222222,\"#7201a8\"],[0.3333333333333333,\"#9c179e\"],[0.4444444444444444,\"#bd3786\"],[0.5555555555555556,\"#d8576b\"],[0.6666666666666666,\"#ed7953\"],[0.7777777777777778,\"#fb9f3a\"],[0.8888888888888888,\"#fdca26\"],[1.0,\"#f0f921\"]]},\"colorway\":[\"#636efa\",\"#EF553B\",\"#00cc96\",\"#ab63fa\",\"#FFA15A\",\"#19d3f3\",\"#FF6692\",\"#B6E880\",\"#FF97FF\",\"#FECB52\"],\"font\":{\"color\":\"#2a3f5f\"},\"geo\":{\"bgcolor\":\"white\",\"lakecolor\":\"white\",\"landcolor\":\"#E5ECF6\",\"showlakes\":true,\"showland\":true,\"subunitcolor\":\"white\"},\"hoverlabel\":{\"align\":\"left\"},\"hovermode\":\"closest\",\"mapbox\":{\"style\":\"light\"},\"paper_bgcolor\":\"white\",\"plot_bgcolor\":\"#E5ECF6\",\"polar\":{\"angularaxis\":{\"gridcolor\":\"white\",\"linecolor\":\"white\",\"ticks\":\"\"},\"bgcolor\":\"#E5ECF6\",\"radialaxis\":{\"gridcolor\":\"white\",\"linecolor\":\"white\",\"ticks\":\"\"}},\"scene\":{\"xaxis\":{\"backgroundcolor\":\"#E5ECF6\",\"gridcolor\":\"white\",\"gridwidth\":2,\"linecolor\":\"white\",\"showbackground\":true,\"ticks\":\"\",\"zerolinecolor\":\"white\"},\"yaxis\":{\"backgroundcolor\":\"#E5ECF6\",\"gridcolor\":\"white\",\"gridwidth\":2,\"linecolor\":\"white\",\"showbackground\":true,\"ticks\":\"\",\"zerolinecolor\":\"white\"},\"zaxis\":{\"backgroundcolor\":\"#E5ECF6\",\"gridcolor\":\"white\",\"gridwidth\":2,\"linecolor\":\"white\",\"showbackground\":true,\"ticks\":\"\",\"zerolinecolor\":\"white\"}},\"shapedefaults\":{\"line\":{\"color\":\"#2a3f5f\"}},\"ternary\":{\"aaxis\":{\"gridcolor\":\"white\",\"linecolor\":\"white\",\"ticks\":\"\"},\"baxis\":{\"gridcolor\":\"white\",\"linecolor\":\"white\",\"ticks\":\"\"},\"bgcolor\":\"#E5ECF6\",\"caxis\":{\"gridcolor\":\"white\",\"linecolor\":\"white\",\"ticks\":\"\"}},\"title\":{\"x\":0.05},\"xaxis\":{\"automargin\":true,\"gridcolor\":\"white\",\"linecolor\":\"white\",\"ticks\":\"\",\"title\":{\"standoff\":15},\"zerolinecolor\":\"white\",\"zerolinewidth\":2},\"yaxis\":{\"automargin\":true,\"gridcolor\":\"white\",\"linecolor\":\"white\",\"ticks\":\"\",\"title\":{\"standoff\":15},\"zerolinecolor\":\"white\",\"zerolinewidth\":2}}},\"xaxis\":{\"anchor\":\"y\",\"constrain\":\"domain\",\"domain\":[0.0,1.0],\"scaleanchor\":\"y\",\"showticklabels\":false},\"yaxis\":{\"anchor\":\"x\",\"autorange\":\"reversed\",\"constrain\":\"domain\",\"domain\":[0.0,1.0],\"showticklabels\":false}},                        {\"responsive\": true}                    ).then(function(){\n",
       "                            \n",
       "var gd = document.getElementById('e5947117-73a9-42d7-b1eb-242579a0941f');\n",
       "var x = new MutationObserver(function (mutations, observer) {{\n",
       "        var display = window.getComputedStyle(gd).display;\n",
       "        if (!display || display === 'none') {{\n",
       "            console.log([gd, 'removed!']);\n",
       "            Plotly.purge(gd);\n",
       "            observer.disconnect();\n",
       "        }}\n",
       "}});\n",
       "\n",
       "// Listen for the removal of the full notebook cells\n",
       "var notebookContainer = gd.closest('#notebook-container');\n",
       "if (notebookContainer) {{\n",
       "    x.observe(notebookContainer, {childList: true});\n",
       "}}\n",
       "\n",
       "// Listen for the clearing of the current output cell\n",
       "var outputEl = gd.closest('.output');\n",
       "if (outputEl) {{\n",
       "    x.observe(outputEl, {childList: true});\n",
       "}}\n",
       "\n",
       "                        })                };                });            </script>        </div>"
      ]
     },
     "metadata": {},
     "output_type": "display_data"
    }
   ],
   "source": [
    "labels = dict(color=\"Frequency\")\n",
    "Z = np.empty((6, 18))*np.nan\n",
    "for elt in PERIODIC_TABLE_INFO:\n",
    "        ELEMENT_INFO = PERIODIC_TABLE_INFO[elt]\n",
    "        if ELEMENT_INFO['PTC'] == 'Lant':\n",
    "            continue\n",
    "        i, j = ELEMENT_INFO['idx']\n",
    "        Z[i, j] = np.random.random(1)\n",
    "        \n",
    "Z[3, 13] = 1.0\n",
    "\n",
    "\n",
    "fig = px.imshow(Z,\n",
    "                labels=labels,\n",
    "                color_continuous_scale='Bluered_r'\n",
    "               )\n",
    "fig.update_xaxes(showticklabels=False).update_yaxes(showticklabels=False)\n",
    "for elt in PERIODIC_TABLE_INFO:\n",
    "        ELEMENT_INFO = PERIODIC_TABLE_INFO[elt]\n",
    "        if ELEMENT_INFO['PTC'] == 'Lant':\n",
    "            continue\n",
    "        i, j = ELEMENT_INFO['idx']\n",
    "        fig.add_annotation(\n",
    "            x=j,\n",
    "            y=i,\n",
    "            text=elt,\n",
    "            showarrow=False,\n",
    "            font_size=14, font_color='white')\n",
    "fig.show()"
   ]
  },
  {
   "cell_type": "code",
   "execution_count": 19,
   "id": "936ae244",
   "metadata": {},
   "outputs": [],
   "source": [
    "PLOT_ROOT = \"/Users/philipp/Documents/GitHub/ml-project-2-aiidalearn/plots/data_frequency\"\n",
    "PLOT_NAME = \"devx_periodic_table.png\"\n",
    "fig.write_image(PLOT_ROOT + os.sep + PLOT_NAME)"
   ]
  },
  {
   "cell_type": "code",
   "execution_count": null,
   "id": "c3364c2c",
   "metadata": {},
   "outputs": [],
   "source": []
  }
 ],
 "metadata": {
  "kernelspec": {
   "display_name": "Python 3",
   "language": "python",
   "name": "python3"
  },
  "language_info": {
   "codemirror_mode": {
    "name": "ipython",
    "version": 3
   },
   "file_extension": ".py",
   "mimetype": "text/x-python",
   "name": "python",
   "nbconvert_exporter": "python",
   "pygments_lexer": "ipython3",
   "version": "3.8.8"
  }
 },
 "nbformat": 4,
 "nbformat_minor": 5
}
