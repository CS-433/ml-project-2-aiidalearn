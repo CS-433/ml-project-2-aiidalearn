{
 "cells": [
  {
   "cell_type": "markdown",
   "id": "bb264b83",
   "metadata": {},
   "source": [
    "Useless for now since all the simulations converged"
   ]
  },
  {
   "cell_type": "code",
   "execution_count": 1,
   "id": "f72e6a6c",
   "metadata": {},
   "outputs": [],
   "source": [
    "import os\n",
    "import re\n",
    "import numpy as np\n",
    "import pandas as pd\n",
    "import json\n",
    "from pathlib import Path\n",
    "from collections import defaultdict\n",
    "\n",
    "from sklearn.ensemble import RandomForestClassifier, GradientBoostingClassifier\n",
    "from sklearn.model_selection import train_test_split\n",
    "from sklearn.metrics import accuracy_score, f1_score\n",
    "\n",
    "import xgboost as xgb\n",
    "\n",
    "import matplotlib.pyplot as plt\n",
    "from mpl_toolkits.mplot3d import Axes3D"
   ]
  },
  {
   "cell_type": "code",
   "execution_count": 2,
   "id": "0e24b8b5",
   "metadata": {},
   "outputs": [],
   "source": [
    "def load_json(filepath: str):\n",
    "    with open(filepath) as file:\n",
    "        data = json.load(file)\n",
    "    return data"
   ]
  },
  {
   "cell_type": "code",
   "execution_count": 3,
   "id": "c52ef9f3",
   "metadata": {},
   "outputs": [],
   "source": [
    "DATA_DIR = os.path.join(\n",
    "    os.path.dirname(os.path.dirname(os.getcwd())), \"data/\"\n",
    ")\n",
    "\n",
    "PERIODIC_TABLE_PATH = os.path.join(\n",
    "    os.path.dirname(os.getcwd()), \"data_preprocessing/periodic_table_info.json\",\n",
    ")\n",
    "PERIODIC_TABLE_INFO = load_json(PERIODIC_TABLE_PATH)"
   ]
  },
  {
   "cell_type": "markdown",
   "id": "330d9f5c",
   "metadata": {},
   "source": [
    "# Loading Data"
   ]
  },
  {
   "cell_type": "code",
   "execution_count": 4,
   "id": "20557247",
   "metadata": {},
   "outputs": [],
   "source": [
    "def parse_structure_files(data_path, encoding):\n",
    "    structure_files = []\n",
    "    p = Path(data_path)\n",
    "    for struct_dir in p.iterdir():\n",
    "        if not struct_dir.is_dir():\n",
    "            continue\n",
    "        for file in struct_dir.glob(f\"*{encoding}*.csv\"):\n",
    "            structure_name = os.path.basename(struct_dir)\n",
    "\n",
    "            # Parsing the structure name to get the elements and their number\n",
    "            elts = re.findall(\"[A-Z][^A-Z]*\", structure_name)\n",
    "            elements_nbrs = defaultdict(int)\n",
    "            for elt in elts:\n",
    "                atom_num = re.findall(\"\\d+|\\D+\", elt)\n",
    "                if len(atom_num) == 1:\n",
    "                    elements_nbrs[elt] += 1\n",
    "                else:\n",
    "                    elements_nbrs[elt[0]] += int(elt[1])\n",
    "\n",
    "            # Skip Lantanides\n",
    "            isLant = False\n",
    "            for elt in elements_nbrs.keys():\n",
    "                if PERIODIC_TABLE_INFO[elt][\"PTC\"] == \"Lant\":\n",
    "                    isLant = True\n",
    "            if not isLant:\n",
    "                structure_files.append(file)\n",
    "            \n",
    "    return structure_files"
   ]
  },
  {
   "cell_type": "code",
   "execution_count": 5,
   "id": "7544e81a",
   "metadata": {},
   "outputs": [],
   "source": [
    "# structure_names = [\"Ge-1_Se-1\", \"Ge-1_Te-1\", \"Ge-1_Sb-1\", \"Si-1_C-1\"]\n",
    "encoding = \"column_mass\"\n",
    "structure_files = parse_structure_files(DATA_DIR, encoding)"
   ]
  },
  {
   "cell_type": "code",
   "execution_count": 6,
   "id": "9e45b385",
   "metadata": {},
   "outputs": [],
   "source": [
    "df = pd.concat([pd.read_csv(filepath, index_col=0) for filepath in structure_files], ignore_index=True)"
   ]
  },
  {
   "cell_type": "code",
   "execution_count": 7,
   "id": "4fc753ef",
   "metadata": {},
   "outputs": [],
   "source": [
    "cols_raw = list(df.columns)\n",
    "cols_trash = ['delta_E', 'accuracy', \"n_iterations\", \"time\", \"fermi\", \"total_energy\"]\n",
    "cols_independent = ['converged']\n",
    "cols_drop = cols_trash + cols_independent\n",
    "\n",
    "cols_dependent = cols_raw.copy()\n",
    "for element in cols_drop:\n",
    "    cols_dependent.remove(element)"
   ]
  },
  {
   "cell_type": "code",
   "execution_count": 8,
   "id": "3b14d721",
   "metadata": {},
   "outputs": [],
   "source": [
    "X_raw = df[cols_dependent]\n",
    "y_raw = np.abs(df[cols_independent]).squeeze()"
   ]
  },
  {
   "cell_type": "code",
   "execution_count": 9,
   "id": "d150f25c",
   "metadata": {},
   "outputs": [
    {
     "data": {
      "text/html": [
       "<div>\n",
       "<style scoped>\n",
       "    .dataframe tbody tr th:only-of-type {\n",
       "        vertical-align: middle;\n",
       "    }\n",
       "\n",
       "    .dataframe tbody tr th {\n",
       "        vertical-align: top;\n",
       "    }\n",
       "\n",
       "    .dataframe thead th {\n",
       "        text-align: right;\n",
       "    }\n",
       "</style>\n",
       "<table border=\"1\" class=\"dataframe\">\n",
       "  <thead>\n",
       "    <tr style=\"text-align: right;\">\n",
       "      <th></th>\n",
       "      <th>ecutrho</th>\n",
       "      <th>k_density</th>\n",
       "      <th>ecutwfc</th>\n",
       "      <th>PTC1</th>\n",
       "      <th>PTC2</th>\n",
       "      <th>PTC3</th>\n",
       "      <th>PTC4</th>\n",
       "      <th>PTC5</th>\n",
       "      <th>PTC6</th>\n",
       "      <th>PTC7</th>\n",
       "      <th>...</th>\n",
       "      <th>PTC9</th>\n",
       "      <th>PTC10</th>\n",
       "      <th>PTC11</th>\n",
       "      <th>PTC12</th>\n",
       "      <th>PTC13</th>\n",
       "      <th>PTC14</th>\n",
       "      <th>PTC15</th>\n",
       "      <th>PTC16</th>\n",
       "      <th>PTC17</th>\n",
       "      <th>PTC18</th>\n",
       "    </tr>\n",
       "  </thead>\n",
       "  <tbody>\n",
       "    <tr>\n",
       "      <th>count</th>\n",
       "      <td>27220.000000</td>\n",
       "      <td>27220.000000</td>\n",
       "      <td>27220.000000</td>\n",
       "      <td>27220.000000</td>\n",
       "      <td>27220.000000</td>\n",
       "      <td>27220.000000</td>\n",
       "      <td>27220.000000</td>\n",
       "      <td>27220.000000</td>\n",
       "      <td>27220.000000</td>\n",
       "      <td>27220.000000</td>\n",
       "      <td>...</td>\n",
       "      <td>27220.000000</td>\n",
       "      <td>27220.000000</td>\n",
       "      <td>27220.00000</td>\n",
       "      <td>27220.000000</td>\n",
       "      <td>27220.000000</td>\n",
       "      <td>27220.000000</td>\n",
       "      <td>27220.000000</td>\n",
       "      <td>27220.000000</td>\n",
       "      <td>27220.000000</td>\n",
       "      <td>27220.0</td>\n",
       "    </tr>\n",
       "    <tr>\n",
       "      <th>mean</th>\n",
       "      <td>245.143277</td>\n",
       "      <td>5.796841</td>\n",
       "      <td>58.043718</td>\n",
       "      <td>0.048874</td>\n",
       "      <td>0.105010</td>\n",
       "      <td>0.037975</td>\n",
       "      <td>0.023637</td>\n",
       "      <td>0.054672</td>\n",
       "      <td>0.014491</td>\n",
       "      <td>0.045490</td>\n",
       "      <td>...</td>\n",
       "      <td>0.056202</td>\n",
       "      <td>0.078374</td>\n",
       "      <td>0.02835</td>\n",
       "      <td>0.046917</td>\n",
       "      <td>0.046518</td>\n",
       "      <td>0.091231</td>\n",
       "      <td>0.097449</td>\n",
       "      <td>0.085025</td>\n",
       "      <td>0.050835</td>\n",
       "      <td>0.0</td>\n",
       "    </tr>\n",
       "    <tr>\n",
       "      <th>std</th>\n",
       "      <td>89.365781</td>\n",
       "      <td>2.843200</td>\n",
       "      <td>24.017127</td>\n",
       "      <td>0.185574</td>\n",
       "      <td>0.261876</td>\n",
       "      <td>0.143210</td>\n",
       "      <td>0.121163</td>\n",
       "      <td>0.204980</td>\n",
       "      <td>0.068262</td>\n",
       "      <td>0.176596</td>\n",
       "      <td>...</td>\n",
       "      <td>0.206147</td>\n",
       "      <td>0.237286</td>\n",
       "      <td>0.13123</td>\n",
       "      <td>0.172852</td>\n",
       "      <td>0.163866</td>\n",
       "      <td>0.211187</td>\n",
       "      <td>0.219180</td>\n",
       "      <td>0.185315</td>\n",
       "      <td>0.180437</td>\n",
       "      <td>0.0</td>\n",
       "    </tr>\n",
       "    <tr>\n",
       "      <th>min</th>\n",
       "      <td>100.000000</td>\n",
       "      <td>2.000000</td>\n",
       "      <td>20.000000</td>\n",
       "      <td>0.000000</td>\n",
       "      <td>0.000000</td>\n",
       "      <td>0.000000</td>\n",
       "      <td>0.000000</td>\n",
       "      <td>0.000000</td>\n",
       "      <td>0.000000</td>\n",
       "      <td>0.000000</td>\n",
       "      <td>...</td>\n",
       "      <td>0.000000</td>\n",
       "      <td>0.000000</td>\n",
       "      <td>0.00000</td>\n",
       "      <td>0.000000</td>\n",
       "      <td>0.000000</td>\n",
       "      <td>0.000000</td>\n",
       "      <td>0.000000</td>\n",
       "      <td>0.000000</td>\n",
       "      <td>0.000000</td>\n",
       "      <td>0.0</td>\n",
       "    </tr>\n",
       "    <tr>\n",
       "      <th>25%</th>\n",
       "      <td>180.000000</td>\n",
       "      <td>4.000000</td>\n",
       "      <td>35.000000</td>\n",
       "      <td>0.000000</td>\n",
       "      <td>0.000000</td>\n",
       "      <td>0.000000</td>\n",
       "      <td>0.000000</td>\n",
       "      <td>0.000000</td>\n",
       "      <td>0.000000</td>\n",
       "      <td>0.000000</td>\n",
       "      <td>...</td>\n",
       "      <td>0.000000</td>\n",
       "      <td>0.000000</td>\n",
       "      <td>0.00000</td>\n",
       "      <td>0.000000</td>\n",
       "      <td>0.000000</td>\n",
       "      <td>0.000000</td>\n",
       "      <td>0.000000</td>\n",
       "      <td>0.000000</td>\n",
       "      <td>0.000000</td>\n",
       "      <td>0.0</td>\n",
       "    </tr>\n",
       "    <tr>\n",
       "      <th>50%</th>\n",
       "      <td>260.000000</td>\n",
       "      <td>6.000000</td>\n",
       "      <td>55.000000</td>\n",
       "      <td>0.000000</td>\n",
       "      <td>0.000000</td>\n",
       "      <td>0.000000</td>\n",
       "      <td>0.000000</td>\n",
       "      <td>0.000000</td>\n",
       "      <td>0.000000</td>\n",
       "      <td>0.000000</td>\n",
       "      <td>...</td>\n",
       "      <td>0.000000</td>\n",
       "      <td>0.000000</td>\n",
       "      <td>0.00000</td>\n",
       "      <td>0.000000</td>\n",
       "      <td>0.000000</td>\n",
       "      <td>0.000000</td>\n",
       "      <td>0.000000</td>\n",
       "      <td>0.000000</td>\n",
       "      <td>0.000000</td>\n",
       "      <td>0.0</td>\n",
       "    </tr>\n",
       "    <tr>\n",
       "      <th>75%</th>\n",
       "      <td>340.000000</td>\n",
       "      <td>8.000000</td>\n",
       "      <td>80.000000</td>\n",
       "      <td>0.000000</td>\n",
       "      <td>0.000000</td>\n",
       "      <td>0.000000</td>\n",
       "      <td>0.000000</td>\n",
       "      <td>0.000000</td>\n",
       "      <td>0.000000</td>\n",
       "      <td>0.000000</td>\n",
       "      <td>...</td>\n",
       "      <td>0.000000</td>\n",
       "      <td>0.000000</td>\n",
       "      <td>0.00000</td>\n",
       "      <td>0.000000</td>\n",
       "      <td>0.000000</td>\n",
       "      <td>0.000000</td>\n",
       "      <td>0.000000</td>\n",
       "      <td>0.000000</td>\n",
       "      <td>0.000000</td>\n",
       "      <td>0.0</td>\n",
       "    </tr>\n",
       "    <tr>\n",
       "      <th>max</th>\n",
       "      <td>380.000000</td>\n",
       "      <td>10.000000</td>\n",
       "      <td>100.000000</td>\n",
       "      <td>1.000000</td>\n",
       "      <td>1.000000</td>\n",
       "      <td>0.741626</td>\n",
       "      <td>0.841555</td>\n",
       "      <td>1.000000</td>\n",
       "      <td>0.339697</td>\n",
       "      <td>0.890822</td>\n",
       "      <td>...</td>\n",
       "      <td>1.000000</td>\n",
       "      <td>1.000000</td>\n",
       "      <td>1.00000</td>\n",
       "      <td>0.803422</td>\n",
       "      <td>0.967155</td>\n",
       "      <td>1.000000</td>\n",
       "      <td>0.895814</td>\n",
       "      <td>0.637235</td>\n",
       "      <td>0.833172</td>\n",
       "      <td>0.0</td>\n",
       "    </tr>\n",
       "  </tbody>\n",
       "</table>\n",
       "<p>8 rows × 21 columns</p>\n",
       "</div>"
      ],
      "text/plain": [
       "            ecutrho     k_density       ecutwfc          PTC1          PTC2  \\\n",
       "count  27220.000000  27220.000000  27220.000000  27220.000000  27220.000000   \n",
       "mean     245.143277      5.796841     58.043718      0.048874      0.105010   \n",
       "std       89.365781      2.843200     24.017127      0.185574      0.261876   \n",
       "min      100.000000      2.000000     20.000000      0.000000      0.000000   \n",
       "25%      180.000000      4.000000     35.000000      0.000000      0.000000   \n",
       "50%      260.000000      6.000000     55.000000      0.000000      0.000000   \n",
       "75%      340.000000      8.000000     80.000000      0.000000      0.000000   \n",
       "max      380.000000     10.000000    100.000000      1.000000      1.000000   \n",
       "\n",
       "               PTC3          PTC4          PTC5          PTC6          PTC7  \\\n",
       "count  27220.000000  27220.000000  27220.000000  27220.000000  27220.000000   \n",
       "mean       0.037975      0.023637      0.054672      0.014491      0.045490   \n",
       "std        0.143210      0.121163      0.204980      0.068262      0.176596   \n",
       "min        0.000000      0.000000      0.000000      0.000000      0.000000   \n",
       "25%        0.000000      0.000000      0.000000      0.000000      0.000000   \n",
       "50%        0.000000      0.000000      0.000000      0.000000      0.000000   \n",
       "75%        0.000000      0.000000      0.000000      0.000000      0.000000   \n",
       "max        0.741626      0.841555      1.000000      0.339697      0.890822   \n",
       "\n",
       "       ...          PTC9         PTC10        PTC11         PTC12  \\\n",
       "count  ...  27220.000000  27220.000000  27220.00000  27220.000000   \n",
       "mean   ...      0.056202      0.078374      0.02835      0.046917   \n",
       "std    ...      0.206147      0.237286      0.13123      0.172852   \n",
       "min    ...      0.000000      0.000000      0.00000      0.000000   \n",
       "25%    ...      0.000000      0.000000      0.00000      0.000000   \n",
       "50%    ...      0.000000      0.000000      0.00000      0.000000   \n",
       "75%    ...      0.000000      0.000000      0.00000      0.000000   \n",
       "max    ...      1.000000      1.000000      1.00000      0.803422   \n",
       "\n",
       "              PTC13         PTC14         PTC15         PTC16         PTC17  \\\n",
       "count  27220.000000  27220.000000  27220.000000  27220.000000  27220.000000   \n",
       "mean       0.046518      0.091231      0.097449      0.085025      0.050835   \n",
       "std        0.163866      0.211187      0.219180      0.185315      0.180437   \n",
       "min        0.000000      0.000000      0.000000      0.000000      0.000000   \n",
       "25%        0.000000      0.000000      0.000000      0.000000      0.000000   \n",
       "50%        0.000000      0.000000      0.000000      0.000000      0.000000   \n",
       "75%        0.000000      0.000000      0.000000      0.000000      0.000000   \n",
       "max        0.967155      1.000000      0.895814      0.637235      0.833172   \n",
       "\n",
       "         PTC18  \n",
       "count  27220.0  \n",
       "mean       0.0  \n",
       "std        0.0  \n",
       "min        0.0  \n",
       "25%        0.0  \n",
       "50%        0.0  \n",
       "75%        0.0  \n",
       "max        0.0  \n",
       "\n",
       "[8 rows x 21 columns]"
      ]
     },
     "execution_count": 9,
     "metadata": {},
     "output_type": "execute_result"
    }
   ],
   "source": [
    "X_raw.describe()"
   ]
  },
  {
   "cell_type": "markdown",
   "id": "55ba3f2f",
   "metadata": {},
   "source": [
    "# Train-Test-Split"
   ]
  },
  {
   "cell_type": "code",
   "execution_count": 10,
   "id": "13a295e9",
   "metadata": {},
   "outputs": [],
   "source": [
    "X_train, X_test, y_train, y_test = train_test_split(\n",
    "    X_raw, y_raw,\n",
    "    test_size=0.2,\n",
    "    random_state=42\n",
    ")"
   ]
  },
  {
   "cell_type": "markdown",
   "id": "d8de856c",
   "metadata": {},
   "source": [
    "# Model definitions"
   ]
  },
  {
   "cell_type": "markdown",
   "id": "55fb1f14",
   "metadata": {},
   "source": [
    "### Random forest"
   ]
  },
  {
   "cell_type": "code",
   "execution_count": 11,
   "id": "5482fc15",
   "metadata": {},
   "outputs": [],
   "source": [
    "rf_model = RandomForestClassifier(random_state=0)"
   ]
  },
  {
   "cell_type": "markdown",
   "id": "e396ee5b",
   "metadata": {},
   "source": [
    "### Gradient Boosting"
   ]
  },
  {
   "cell_type": "code",
   "execution_count": 13,
   "id": "889b426e",
   "metadata": {},
   "outputs": [],
   "source": [
    "gb_model = GradientBoostingClassifier(n_estimators=5000, learning_rate=0.05, random_state=0)"
   ]
  },
  {
   "cell_type": "markdown",
   "id": "437e20b9",
   "metadata": {},
   "source": [
    "### XGBoost"
   ]
  },
  {
   "cell_type": "code",
   "execution_count": 14,
   "id": "8af093a4",
   "metadata": {},
   "outputs": [],
   "source": [
    "xgb_model = xgb.XGBClassifier(n_estimators=5000, learning_rate=0.05, random_state=0, tree_method=\"gpu_hist\")"
   ]
  },
  {
   "cell_type": "markdown",
   "id": "1d72775d",
   "metadata": {},
   "source": [
    "### Packing them together to reduce code size"
   ]
  },
  {
   "cell_type": "code",
   "execution_count": 15,
   "id": "b8539e62",
   "metadata": {},
   "outputs": [],
   "source": [
    "models = {\n",
    "    \"Random Forest\": rf_model,\n",
    "    # \"Gradient Boosting\": gb_model,\n",
    "    \"XGBoost\": xgb_model,\n",
    "}"
   ]
  },
  {
   "cell_type": "markdown",
   "id": "4b0e82a4",
   "metadata": {},
   "source": [
    "# Model training"
   ]
  },
  {
   "cell_type": "code",
   "execution_count": 16,
   "id": "4ac88c6b",
   "metadata": {},
   "outputs": [
    {
     "name": "stdout",
     "output_type": "stream",
     "text": [
      "Training Random Forest...\n",
      "Done!\n",
      "\n",
      "Training XGBoost...\n",
      "Done!\n",
      "\n"
     ]
    }
   ],
   "source": [
    "for model_name, model in models.items():\n",
    "    print(f\"Training {model_name}...\")\n",
    "    model.fit(X_train, y_train)\n",
    "    print(\"Done!\\n\")"
   ]
  },
  {
   "cell_type": "markdown",
   "id": "da4aab8d",
   "metadata": {},
   "source": [
    "# Model evaluation"
   ]
  },
  {
   "cell_type": "code",
   "execution_count": 17,
   "id": "13559b55",
   "metadata": {},
   "outputs": [
    {
     "name": "stdout",
     "output_type": "stream",
     "text": [
      "Evaluating Random Forest...\n",
      "Accuracy:\ttrain:1.0\ttest:1.0\n",
      "F1 score:\ttrain:1.0\ttest:1.0\n",
      "Done!\n",
      "\n",
      "Evaluating XGBoost...\n",
      "Accuracy:\ttrain:1.0\ttest:1.0\n",
      "F1 score:\ttrain:1.0\ttest:1.0\n",
      "Done!\n",
      "\n"
     ]
    }
   ],
   "source": [
    "for model_name, model in models.items():\n",
    "    print(f\"Evaluating {model_name}...\")\n",
    "\n",
    "    y_pred_train = model.predict(X_train)\n",
    "    y_pred_test = model.predict(X_test)\n",
    "\n",
    "    # classification accuracy\n",
    "    train_acc = accuracy_score(y_train, y_pred_train)\n",
    "    test_acc = accuracy_score(y_test, y_pred_test)\n",
    "\n",
    "    # f1 score\n",
    "    train_f1 = f1_score(y_train, y_pred_train)\n",
    "    test_f1 = f1_score(y_test, y_pred_test)\n",
    "\n",
    "    print(f\"Accuracy:\\ttrain:{train_acc}\\ttest:{test_acc}\")\n",
    "    print(f\"F1 score:\\ttrain:{train_f1}\\ttest:{test_f1}\")\n",
    "\n",
    "    print(\"Done!\\n\")"
   ]
  },
  {
   "cell_type": "markdown",
   "id": "ec8e7b59",
   "metadata": {},
   "source": [
    "# Visualization"
   ]
  },
  {
   "cell_type": "code",
   "execution_count": 18,
   "id": "25802160",
   "metadata": {},
   "outputs": [
    {
     "data": {
      "text/plain": [
       "Text(0.5, 0, 'ecutwfc')"
      ]
     },
     "execution_count": 18,
     "metadata": {},
     "output_type": "execute_result"
    },
    {
     "data": {
      "image/png": "[encoded data removed]",
      "text/plain": [
       "<Figure size 864x576 with 6 Axes>"
      ]
     },
     "metadata": {
      "needs_background": "light"
     },
     "output_type": "display_data"
    }
   ],
   "source": [
    "n_models = len(models)\n",
    "fig, ax = plt.subplots(n_models,3,figsize=(12,4*n_models), sharey=True, squeeze=False)\n",
    "for j, (name, model) in enumerate(models.items()):\n",
    "    for i, col in enumerate(X_train.columns[:3]):\n",
    "        ax[j,i].scatter(X_train[col], y_train)\n",
    "        ax[j,i].scatter(X_test[col], y_test)\n",
    "        ax[j,i].scatter(X_test[col], model.predict(X_test))\n",
    "    ax[j,0].set_ylabel(name)\n",
    "ax[-1,0].set_xlabel(\"ecutrho\")\n",
    "ax[-1,1].set_xlabel('k_density')\n",
    "ax[-1,2].set_xlabel('ecutwfc')"
   ]
  },
  {
   "cell_type": "code",
   "execution_count": 19,
   "id": "0e36135f",
   "metadata": {},
   "outputs": [
    {
     "data": {
      "text/plain": [
       "<mpl_toolkits.mplot3d.art3d.Path3DCollection at 0x7fb4bc21af10>"
      ]
     },
     "execution_count": 19,
     "metadata": {},
     "output_type": "execute_result"
    },
    {
     "data": {
      "image/png": "[encoded data removed]",
      "text/plain": [
       "<Figure size 432x288 with 1 Axes>"
      ]
     },
     "metadata": {
      "needs_background": "light"
     },
     "output_type": "display_data"
    }
   ],
   "source": [
    "fig = plt.figure()\n",
    "ax = fig.add_subplot(111, projection='3d')\n",
    "ax.scatter(X_train['ecutwfc'], X_train['k_density'], y_train)\n",
    "ax.scatter(X_test['ecutwfc'], X_test['k_density'], y_test)\n",
    "ax.scatter(X_test['ecutwfc'], X_test['k_density'], rf_model.predict(X_test))"
   ]
  }
 ],
 "metadata": {
  "kernelspec": {
   "display_name": "Python 3",
   "language": "python",
   "name": "python3"
  },
  "language_info": {
   "codemirror_mode": {
    "name": "ipython",
    "version": 3
   },
   "file_extension": ".py",
   "mimetype": "text/x-python",
   "name": "python",
   "nbconvert_exporter": "python",
   "pygments_lexer": "ipython3",
   "version": "3.8.10"
  }
 },
 "nbformat": 4,
 "nbformat_minor": 5
}
