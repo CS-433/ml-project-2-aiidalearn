{
 "cells": [
  {
   "cell_type": "markdown",
   "id": "bb264b83",
   "metadata": {},
   "source": [
    "Useless for now since all the simulations converged"
   ]
  },
  {
   "cell_type": "code",
   "execution_count": 1,
   "id": "f72e6a6c",
   "metadata": {},
   "outputs": [],
   "source": [
    "import os\n",
    "import numpy as np\n",
    "import pandas as pd\n",
    "import sys\n",
    "\n",
    "from sklearn.ensemble import RandomForestClassifier, GradientBoostingClassifier\n",
    "from sklearn.model_selection import train_test_split\n",
    "from sklearn.metrics import accuracy_score, f1_score\n",
    "\n",
    "import xgboost as xgb\n",
    "\n",
    "import matplotlib.pyplot as plt\n",
    "from mpl_toolkits.mplot3d import Axes3D\n",
    "\n",
    "sys.path.append(os.path.dirname(os.getcwd()))\n",
    "from tools.utils import encode_all_structures, Encoding"
   ]
  },
  {
   "cell_type": "code",
   "execution_count": 2,
   "id": "c52ef9f3",
   "metadata": {},
   "outputs": [],
   "source": [
    "DATA_DIR = os.path.join(\n",
    "    os.path.dirname(os.path.dirname(os.getcwd())), \"data/\"\n",
    ")"
   ]
  },
  {
   "cell_type": "markdown",
   "id": "330d9f5c",
   "metadata": {},
   "source": [
    "# Loading Data"
   ]
  },
  {
   "cell_type": "code",
   "execution_count": 3,
   "id": "7544e81a",
   "metadata": {},
   "outputs": [],
   "source": [
    "encoding = Encoding.COLUMN_MASS\n",
    "\n",
    "df = pd.read_csv(os.path.join(DATA_DIR, \"data.csv\"), index_col=0, na_filter= False)\n",
    "df = encode_all_structures(df, encoding)"
   ]
  },
  {
   "cell_type": "code",
   "execution_count": 4,
   "id": "4fc753ef",
   "metadata": {},
   "outputs": [],
   "source": [
    "cols_raw = list(df.columns)\n",
    "cols_trash = [\"structure\", 'delta_E', 'accuracy', \"n_iterations\", \"time\", \"fermi\", \"total_energy\"]\n",
    "cols_independent = ['converged']\n",
    "cols_drop = cols_trash + cols_independent\n",
    "\n",
    "cols_dependent = cols_raw.copy()\n",
    "for element in cols_drop:\n",
    "    cols_dependent.remove(element)"
   ]
  },
  {
   "cell_type": "code",
   "execution_count": 5,
   "id": "3b14d721",
   "metadata": {},
   "outputs": [],
   "source": [
    "X_raw = df[cols_dependent]\n",
    "y_raw = np.abs(df[cols_independent]).squeeze()"
   ]
  },
  {
   "cell_type": "code",
   "execution_count": 6,
   "id": "d150f25c",
   "metadata": {},
   "outputs": [
    {
     "data": {
      "text/html": [
       "<div>\n",
       "<style scoped>\n",
       "    .dataframe tbody tr th:only-of-type {\n",
       "        vertical-align: middle;\n",
       "    }\n",
       "\n",
       "    .dataframe tbody tr th {\n",
       "        vertical-align: top;\n",
       "    }\n",
       "\n",
       "    .dataframe thead th {\n",
       "        text-align: right;\n",
       "    }\n",
       "</style>\n",
       "<table border=\"1\" class=\"dataframe\">\n",
       "  <thead>\n",
       "    <tr style=\"text-align: right;\">\n",
       "      <th></th>\n",
       "      <th>ecutrho</th>\n",
       "      <th>k_density</th>\n",
       "      <th>ecutwfc</th>\n",
       "      <th>Lant</th>\n",
       "      <th>PTC1</th>\n",
       "      <th>PTC2</th>\n",
       "      <th>PTC3</th>\n",
       "      <th>PTC4</th>\n",
       "      <th>PTC5</th>\n",
       "      <th>PTC6</th>\n",
       "      <th>...</th>\n",
       "      <th>PTC9</th>\n",
       "      <th>PTC10</th>\n",
       "      <th>PTC11</th>\n",
       "      <th>PTC12</th>\n",
       "      <th>PTC13</th>\n",
       "      <th>PTC14</th>\n",
       "      <th>PTC15</th>\n",
       "      <th>PTC16</th>\n",
       "      <th>PTC17</th>\n",
       "      <th>PTC18</th>\n",
       "    </tr>\n",
       "  </thead>\n",
       "  <tbody>\n",
       "    <tr>\n",
       "      <th>count</th>\n",
       "      <td>50103.000000</td>\n",
       "      <td>50103.000000</td>\n",
       "      <td>50103.000000</td>\n",
       "      <td>50103.000000</td>\n",
       "      <td>50103.000000</td>\n",
       "      <td>50103.000000</td>\n",
       "      <td>50103.000000</td>\n",
       "      <td>50103.000000</td>\n",
       "      <td>50103.000000</td>\n",
       "      <td>50103.000000</td>\n",
       "      <td>...</td>\n",
       "      <td>50103.000000</td>\n",
       "      <td>50103.000000</td>\n",
       "      <td>50103.000000</td>\n",
       "      <td>50103.000000</td>\n",
       "      <td>50103.000000</td>\n",
       "      <td>50103.000000</td>\n",
       "      <td>50103.000000</td>\n",
       "      <td>50103.000000</td>\n",
       "      <td>50103.000000</td>\n",
       "      <td>50103.0</td>\n",
       "    </tr>\n",
       "    <tr>\n",
       "      <th>mean</th>\n",
       "      <td>244.892721</td>\n",
       "      <td>5.839091</td>\n",
       "      <td>58.361974</td>\n",
       "      <td>0.144222</td>\n",
       "      <td>0.026151</td>\n",
       "      <td>0.042501</td>\n",
       "      <td>0.025161</td>\n",
       "      <td>0.026694</td>\n",
       "      <td>0.032560</td>\n",
       "      <td>0.017797</td>\n",
       "      <td>...</td>\n",
       "      <td>0.061554</td>\n",
       "      <td>0.053130</td>\n",
       "      <td>0.051507</td>\n",
       "      <td>0.042638</td>\n",
       "      <td>0.050566</td>\n",
       "      <td>0.054685</td>\n",
       "      <td>0.093422</td>\n",
       "      <td>0.053833</td>\n",
       "      <td>0.027618</td>\n",
       "      <td>0.0</td>\n",
       "    </tr>\n",
       "    <tr>\n",
       "      <th>std</th>\n",
       "      <td>89.225395</td>\n",
       "      <td>2.832273</td>\n",
       "      <td>24.125526</td>\n",
       "      <td>0.281524</td>\n",
       "      <td>0.117657</td>\n",
       "      <td>0.138731</td>\n",
       "      <td>0.113423</td>\n",
       "      <td>0.114082</td>\n",
       "      <td>0.128524</td>\n",
       "      <td>0.100497</td>\n",
       "      <td>...</td>\n",
       "      <td>0.193230</td>\n",
       "      <td>0.181711</td>\n",
       "      <td>0.165357</td>\n",
       "      <td>0.154393</td>\n",
       "      <td>0.169704</td>\n",
       "      <td>0.145690</td>\n",
       "      <td>0.209317</td>\n",
       "      <td>0.149498</td>\n",
       "      <td>0.135384</td>\n",
       "      <td>0.0</td>\n",
       "    </tr>\n",
       "    <tr>\n",
       "      <th>min</th>\n",
       "      <td>100.000000</td>\n",
       "      <td>2.000000</td>\n",
       "      <td>20.000000</td>\n",
       "      <td>0.000000</td>\n",
       "      <td>0.000000</td>\n",
       "      <td>0.000000</td>\n",
       "      <td>0.000000</td>\n",
       "      <td>0.000000</td>\n",
       "      <td>0.000000</td>\n",
       "      <td>0.000000</td>\n",
       "      <td>...</td>\n",
       "      <td>0.000000</td>\n",
       "      <td>0.000000</td>\n",
       "      <td>0.000000</td>\n",
       "      <td>0.000000</td>\n",
       "      <td>0.000000</td>\n",
       "      <td>0.000000</td>\n",
       "      <td>0.000000</td>\n",
       "      <td>0.000000</td>\n",
       "      <td>0.000000</td>\n",
       "      <td>0.0</td>\n",
       "    </tr>\n",
       "    <tr>\n",
       "      <th>25%</th>\n",
       "      <td>180.000000</td>\n",
       "      <td>4.000000</td>\n",
       "      <td>40.000000</td>\n",
       "      <td>0.000000</td>\n",
       "      <td>0.000000</td>\n",
       "      <td>0.000000</td>\n",
       "      <td>0.000000</td>\n",
       "      <td>0.000000</td>\n",
       "      <td>0.000000</td>\n",
       "      <td>0.000000</td>\n",
       "      <td>...</td>\n",
       "      <td>0.000000</td>\n",
       "      <td>0.000000</td>\n",
       "      <td>0.000000</td>\n",
       "      <td>0.000000</td>\n",
       "      <td>0.000000</td>\n",
       "      <td>0.000000</td>\n",
       "      <td>0.000000</td>\n",
       "      <td>0.000000</td>\n",
       "      <td>0.000000</td>\n",
       "      <td>0.0</td>\n",
       "    </tr>\n",
       "    <tr>\n",
       "      <th>50%</th>\n",
       "      <td>260.000000</td>\n",
       "      <td>6.000000</td>\n",
       "      <td>55.000000</td>\n",
       "      <td>0.000000</td>\n",
       "      <td>0.000000</td>\n",
       "      <td>0.000000</td>\n",
       "      <td>0.000000</td>\n",
       "      <td>0.000000</td>\n",
       "      <td>0.000000</td>\n",
       "      <td>0.000000</td>\n",
       "      <td>...</td>\n",
       "      <td>0.000000</td>\n",
       "      <td>0.000000</td>\n",
       "      <td>0.000000</td>\n",
       "      <td>0.000000</td>\n",
       "      <td>0.000000</td>\n",
       "      <td>0.000000</td>\n",
       "      <td>0.000000</td>\n",
       "      <td>0.000000</td>\n",
       "      <td>0.000000</td>\n",
       "      <td>0.0</td>\n",
       "    </tr>\n",
       "    <tr>\n",
       "      <th>75%</th>\n",
       "      <td>340.000000</td>\n",
       "      <td>8.000000</td>\n",
       "      <td>80.000000</td>\n",
       "      <td>0.000000</td>\n",
       "      <td>0.000000</td>\n",
       "      <td>0.000000</td>\n",
       "      <td>0.000000</td>\n",
       "      <td>0.000000</td>\n",
       "      <td>0.000000</td>\n",
       "      <td>0.000000</td>\n",
       "      <td>...</td>\n",
       "      <td>0.000000</td>\n",
       "      <td>0.000000</td>\n",
       "      <td>0.000000</td>\n",
       "      <td>0.000000</td>\n",
       "      <td>0.000000</td>\n",
       "      <td>0.000000</td>\n",
       "      <td>0.000000</td>\n",
       "      <td>0.000000</td>\n",
       "      <td>0.000000</td>\n",
       "      <td>0.0</td>\n",
       "    </tr>\n",
       "    <tr>\n",
       "      <th>max</th>\n",
       "      <td>380.000000</td>\n",
       "      <td>10.000000</td>\n",
       "      <td>100.000000</td>\n",
       "      <td>0.924714</td>\n",
       "      <td>0.733997</td>\n",
       "      <td>0.732088</td>\n",
       "      <td>0.741626</td>\n",
       "      <td>0.841555</td>\n",
       "      <td>0.885522</td>\n",
       "      <td>0.783026</td>\n",
       "      <td>...</td>\n",
       "      <td>0.876908</td>\n",
       "      <td>0.983118</td>\n",
       "      <td>0.756073</td>\n",
       "      <td>0.803422</td>\n",
       "      <td>0.967155</td>\n",
       "      <td>0.808676</td>\n",
       "      <td>0.918451</td>\n",
       "      <td>0.637235</td>\n",
       "      <td>0.833172</td>\n",
       "      <td>0.0</td>\n",
       "    </tr>\n",
       "  </tbody>\n",
       "</table>\n",
       "<p>8 rows × 22 columns</p>\n",
       "</div>"
      ],
      "text/plain": [
       "            ecutrho     k_density       ecutwfc          Lant          PTC1  \\\n",
       "count  50103.000000  50103.000000  50103.000000  50103.000000  50103.000000   \n",
       "mean     244.892721      5.839091     58.361974      0.144222      0.026151   \n",
       "std       89.225395      2.832273     24.125526      0.281524      0.117657   \n",
       "min      100.000000      2.000000     20.000000      0.000000      0.000000   \n",
       "25%      180.000000      4.000000     40.000000      0.000000      0.000000   \n",
       "50%      260.000000      6.000000     55.000000      0.000000      0.000000   \n",
       "75%      340.000000      8.000000     80.000000      0.000000      0.000000   \n",
       "max      380.000000     10.000000    100.000000      0.924714      0.733997   \n",
       "\n",
       "               PTC2          PTC3          PTC4          PTC5          PTC6  \\\n",
       "count  50103.000000  50103.000000  50103.000000  50103.000000  50103.000000   \n",
       "mean       0.042501      0.025161      0.026694      0.032560      0.017797   \n",
       "std        0.138731      0.113423      0.114082      0.128524      0.100497   \n",
       "min        0.000000      0.000000      0.000000      0.000000      0.000000   \n",
       "25%        0.000000      0.000000      0.000000      0.000000      0.000000   \n",
       "50%        0.000000      0.000000      0.000000      0.000000      0.000000   \n",
       "75%        0.000000      0.000000      0.000000      0.000000      0.000000   \n",
       "max        0.732088      0.741626      0.841555      0.885522      0.783026   \n",
       "\n",
       "       ...          PTC9         PTC10         PTC11         PTC12  \\\n",
       "count  ...  50103.000000  50103.000000  50103.000000  50103.000000   \n",
       "mean   ...      0.061554      0.053130      0.051507      0.042638   \n",
       "std    ...      0.193230      0.181711      0.165357      0.154393   \n",
       "min    ...      0.000000      0.000000      0.000000      0.000000   \n",
       "25%    ...      0.000000      0.000000      0.000000      0.000000   \n",
       "50%    ...      0.000000      0.000000      0.000000      0.000000   \n",
       "75%    ...      0.000000      0.000000      0.000000      0.000000   \n",
       "max    ...      0.876908      0.983118      0.756073      0.803422   \n",
       "\n",
       "              PTC13         PTC14         PTC15         PTC16         PTC17  \\\n",
       "count  50103.000000  50103.000000  50103.000000  50103.000000  50103.000000   \n",
       "mean       0.050566      0.054685      0.093422      0.053833      0.027618   \n",
       "std        0.169704      0.145690      0.209317      0.149498      0.135384   \n",
       "min        0.000000      0.000000      0.000000      0.000000      0.000000   \n",
       "25%        0.000000      0.000000      0.000000      0.000000      0.000000   \n",
       "50%        0.000000      0.000000      0.000000      0.000000      0.000000   \n",
       "75%        0.000000      0.000000      0.000000      0.000000      0.000000   \n",
       "max        0.967155      0.808676      0.918451      0.637235      0.833172   \n",
       "\n",
       "         PTC18  \n",
       "count  50103.0  \n",
       "mean       0.0  \n",
       "std        0.0  \n",
       "min        0.0  \n",
       "25%        0.0  \n",
       "50%        0.0  \n",
       "75%        0.0  \n",
       "max        0.0  \n",
       "\n",
       "[8 rows x 22 columns]"
      ]
     },
     "execution_count": 6,
     "metadata": {},
     "output_type": "execute_result"
    }
   ],
   "source": [
    "X_raw.describe()"
   ]
  },
  {
   "cell_type": "markdown",
   "id": "55ba3f2f",
   "metadata": {},
   "source": [
    "# Train-Test-Split"
   ]
  },
  {
   "cell_type": "code",
   "execution_count": 7,
   "id": "13a295e9",
   "metadata": {},
   "outputs": [],
   "source": [
    "X_train, X_test, y_train, y_test = train_test_split(\n",
    "    X_raw, y_raw,\n",
    "    test_size=0.2,\n",
    "    random_state=42\n",
    ")"
   ]
  },
  {
   "cell_type": "markdown",
   "id": "d8de856c",
   "metadata": {},
   "source": [
    "# Model definitions"
   ]
  },
  {
   "cell_type": "markdown",
   "id": "55fb1f14",
   "metadata": {},
   "source": [
    "### Random forest"
   ]
  },
  {
   "cell_type": "code",
   "execution_count": 8,
   "id": "5482fc15",
   "metadata": {},
   "outputs": [],
   "source": [
    "rf_model = RandomForestClassifier(random_state=0)"
   ]
  },
  {
   "cell_type": "markdown",
   "id": "e396ee5b",
   "metadata": {},
   "source": [
    "### Gradient Boosting"
   ]
  },
  {
   "cell_type": "code",
   "execution_count": 9,
   "id": "889b426e",
   "metadata": {},
   "outputs": [],
   "source": [
    "gb_model = GradientBoostingClassifier(n_estimators=5000, learning_rate=0.05, random_state=0)"
   ]
  },
  {
   "cell_type": "markdown",
   "id": "437e20b9",
   "metadata": {},
   "source": [
    "### XGBoost"
   ]
  },
  {
   "cell_type": "code",
   "execution_count": 10,
   "id": "8af093a4",
   "metadata": {},
   "outputs": [],
   "source": [
    "xgb_model = xgb.XGBClassifier(n_estimators=5000, learning_rate=0.05, random_state=0, tree_method=\"gpu_hist\")"
   ]
  },
  {
   "cell_type": "markdown",
   "id": "1d72775d",
   "metadata": {},
   "source": [
    "### Packing them together to reduce code size"
   ]
  },
  {
   "cell_type": "code",
   "execution_count": 11,
   "id": "b8539e62",
   "metadata": {},
   "outputs": [],
   "source": [
    "models = {\n",
    "    \"Random Forest\": rf_model,\n",
    "    # \"Gradient Boosting\": gb_model,\n",
    "    \"XGBoost\": xgb_model,\n",
    "}"
   ]
  },
  {
   "cell_type": "markdown",
   "id": "4b0e82a4",
   "metadata": {},
   "source": [
    "# Model training"
   ]
  },
  {
   "cell_type": "code",
   "execution_count": 12,
   "id": "4ac88c6b",
   "metadata": {},
   "outputs": [
    {
     "name": "stdout",
     "output_type": "stream",
     "text": [
      "Training Random Forest...\n",
      "Done!\n",
      "\n",
      "Training XGBoost...\n",
      "Done!\n",
      "\n"
     ]
    }
   ],
   "source": [
    "for model_name, model in models.items():\n",
    "    print(f\"Training {model_name}...\")\n",
    "    model.fit(X_train, y_train)\n",
    "    print(\"Done!\\n\")"
   ]
  },
  {
   "cell_type": "markdown",
   "id": "da4aab8d",
   "metadata": {},
   "source": [
    "# Model evaluation"
   ]
  },
  {
   "cell_type": "code",
   "execution_count": 13,
   "id": "13559b55",
   "metadata": {},
   "outputs": [
    {
     "name": "stdout",
     "output_type": "stream",
     "text": [
      "Evaluating Random Forest...\n",
      "Accuracy:\ttrain:1.0\ttest:1.0\n",
      "F1 score:\ttrain:1.0\ttest:1.0\n",
      "Done!\n",
      "\n",
      "Evaluating XGBoost...\n",
      "Accuracy:\ttrain:1.0\ttest:1.0\n",
      "F1 score:\ttrain:1.0\ttest:1.0\n",
      "Done!\n",
      "\n"
     ]
    }
   ],
   "source": [
    "for model_name, model in models.items():\n",
    "    print(f\"Evaluating {model_name}...\")\n",
    "\n",
    "    y_pred_train = model.predict(X_train)\n",
    "    y_pred_test = model.predict(X_test)\n",
    "\n",
    "    # classification accuracy\n",
    "    train_acc = accuracy_score(y_train, y_pred_train)\n",
    "    test_acc = accuracy_score(y_test, y_pred_test)\n",
    "\n",
    "    # f1 score\n",
    "    train_f1 = f1_score(y_train, y_pred_train)\n",
    "    test_f1 = f1_score(y_test, y_pred_test)\n",
    "\n",
    "    print(f\"Accuracy:\\ttrain:{train_acc}\\ttest:{test_acc}\")\n",
    "    print(f\"F1 score:\\ttrain:{train_f1}\\ttest:{test_f1}\")\n",
    "\n",
    "    print(\"Done!\\n\")"
   ]
  },
  {
   "cell_type": "markdown",
   "id": "ec8e7b59",
   "metadata": {},
   "source": [
    "# Visualization"
   ]
  },
  {
   "cell_type": "code",
   "execution_count": 14,
   "id": "25802160",
   "metadata": {},
   "outputs": [
    {
     "data": {
      "text/plain": [
       "Text(0.5, 0, 'ecutwfc')"
      ]
     },
     "execution_count": 14,
     "metadata": {},
     "output_type": "execute_result"
    },
    {
     "data": {
      "image/png": "[encoded data removed]",
      "text/plain": [
       "<Figure size 864x576 with 6 Axes>"
      ]
     },
     "metadata": {
      "needs_background": "light"
     },
     "output_type": "display_data"
    }
   ],
   "source": [
    "n_models = len(models)\n",
    "fig, ax = plt.subplots(n_models,3,figsize=(12,4*n_models), sharey=True, squeeze=False)\n",
    "for j, (name, model) in enumerate(models.items()):\n",
    "    for i, col in enumerate(X_train.columns[:3]):\n",
    "        ax[j,i].scatter(X_train[col], y_train)\n",
    "        ax[j,i].scatter(X_test[col], y_test)\n",
    "        ax[j,i].scatter(X_test[col], model.predict(X_test))\n",
    "    ax[j,0].set_ylabel(name)\n",
    "ax[-1,0].set_xlabel(\"ecutrho\")\n",
    "ax[-1,1].set_xlabel('k_density')\n",
    "ax[-1,2].set_xlabel('ecutwfc')"
   ]
  },
  {
   "cell_type": "code",
   "execution_count": 15,
   "id": "0e36135f",
   "metadata": {},
   "outputs": [
    {
     "data": {
      "text/plain": [
       "<mpl_toolkits.mplot3d.art3d.Path3DCollection at 0x7f96f050ef10>"
      ]
     },
     "execution_count": 15,
     "metadata": {},
     "output_type": "execute_result"
    },
    {
     "data": {
      "image/png": "[encoded data removed]",
      "text/plain": [
       "<Figure size 432x288 with 1 Axes>"
      ]
     },
     "metadata": {
      "needs_background": "light"
     },
     "output_type": "display_data"
    }
   ],
   "source": [
    "fig = plt.figure()\n",
    "ax = fig.add_subplot(111, projection='3d')\n",
    "ax.scatter(X_train['ecutwfc'], X_train['k_density'], y_train)\n",
    "ax.scatter(X_test['ecutwfc'], X_test['k_density'], y_test)\n",
    "ax.scatter(X_test['ecutwfc'], X_test['k_density'], rf_model.predict(X_test))"
   ]
  }
 ],
 "metadata": {
  "kernelspec": {
   "display_name": "Python 3",
   "language": "python",
   "name": "python3"
  },
  "language_info": {
   "codemirror_mode": {
    "name": "ipython",
    "version": 3
   },
   "file_extension": ".py",
   "mimetype": "text/x-python",
   "name": "python",
   "nbconvert_exporter": "python",
   "pygments_lexer": "ipython3",
   "version": "3.8.10"
  }
 },
 "nbformat": 4,
 "nbformat_minor": 5
}
