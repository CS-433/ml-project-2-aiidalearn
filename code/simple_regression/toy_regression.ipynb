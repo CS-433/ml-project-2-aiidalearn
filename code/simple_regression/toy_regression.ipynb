{
 "cells": [
  {
   "cell_type": "code",
   "execution_count": 132,
   "id": "c70cfc73",
   "metadata": {},
   "outputs": [],
   "source": [
    "import os\n",
    "import numpy as np\n",
    "import pandas as pd\n",
    "\n",
    "from sklearn.pipeline import Pipeline\n",
    "from sklearn.preprocessing import StandardScaler, PolynomialFeatures, FunctionTransformer\n",
    "from sklearn.linear_model import LinearRegression\n",
    "from sklearn.ensemble import RandomForestRegressor\n",
    "from sklearn.model_selection import train_test_split, GridSearchCV\n",
    "from sklearn.metrics import mean_squared_error, mean_absolute_percentage_error"
   ]
  },
  {
   "cell_type": "markdown",
   "id": "2abfd0b6",
   "metadata": {},
   "source": [
    "# Loading Data"
   ]
  },
  {
   "cell_type": "code",
   "execution_count": 110,
   "id": "d92cd656",
   "metadata": {},
   "outputs": [],
   "source": [
    "DATA_PATH = os.path.join(os.path.dirname(os.path.dirname(os.getcwd())), \"data/toy_data.csv\")"
   ]
  },
  {
   "cell_type": "code",
   "execution_count": 111,
   "id": "55fb416a",
   "metadata": {},
   "outputs": [],
   "source": [
    "df = pd.read_csv(DATA_PATH)"
   ]
  },
  {
   "cell_type": "code",
   "execution_count": 112,
   "id": "5bc318af",
   "metadata": {},
   "outputs": [],
   "source": [
    "cols_raw = list(df.columns)\n",
    "cols_trash = ['Unnamed: 0', 'converged', 'accuracy']\n",
    "cols_independent = ['total_energy']\n",
    "cols_drop = cols_trash + cols_independent\n",
    "\n",
    "cols_dependent = cols_raw.copy()\n",
    "for element in cols_drop:\n",
    "    cols_dependent.remove(element)\n"
   ]
  },
  {
   "cell_type": "code",
   "execution_count": 113,
   "id": "cd4a7069",
   "metadata": {},
   "outputs": [],
   "source": [
    "X_raw = df[cols_dependent]\n",
    "y_raw = df[cols_independent]"
   ]
  },
  {
   "cell_type": "markdown",
   "id": "df358c83",
   "metadata": {},
   "source": [
    "# Train-Test-Split"
   ]
  },
  {
   "cell_type": "code",
   "execution_count": 114,
   "id": "7ee412d4",
   "metadata": {},
   "outputs": [],
   "source": [
    "X_train, X_test, y_train, y_test = train_test_split(\n",
    "    X_raw, y_raw,\n",
    "    test_size=0.1,\n",
    "    random_state=42)"
   ]
  },
  {
   "cell_type": "markdown",
   "id": "3c621243",
   "metadata": {},
   "source": [
    "# Pipeline Definition"
   ]
  },
  {
   "cell_type": "markdown",
   "id": "47195970",
   "metadata": {},
   "source": [
    "## Linear Model with polynomial feature augmentation"
   ]
  },
  {
   "cell_type": "code",
   "execution_count": 188,
   "id": "f7d04650",
   "metadata": {},
   "outputs": [],
   "source": [
    "def exp_decay(x, lambda_):\n",
    "    return np.exp(-lambda_*x)"
   ]
  },
  {
   "cell_type": "code",
   "execution_count": 189,
   "id": "a43ed521",
   "metadata": {},
   "outputs": [],
   "source": [
    "#DEFINITION OF PREPROCESSING STEPS\n",
    "scaler = StandardScaler()\n",
    "poly_augmentation = PolynomialFeatures(degree=3)\n",
    "\n",
    "lambda_ = 1\n",
    "exp_decay_augmentation = FunctionTransformer(lambda x : exp_decay(x, lambda_))"
   ]
  },
  {
   "cell_type": "code",
   "execution_count": 190,
   "id": "add0f637",
   "metadata": {},
   "outputs": [],
   "source": [
    "#DEFINITION OF REGRESSOR\n",
    "linear_regressor = LinearRegression()\n",
    "#regressor = GradientBoostingRegressor"
   ]
  },
  {
   "cell_type": "code",
   "execution_count": 191,
   "id": "ca23925f",
   "metadata": {},
   "outputs": [],
   "source": [
    "#COMBINING EVERYTHING TO A PIPELINE\n",
    "simple_model = Pipeline([\n",
    "    ('poly', poly_augmentation),\n",
    "    #('exp_decay', exp_decay_augmentation),\n",
    "    ('scaler', scaler),\n",
    "    ('regressor', linear_regressor)\n",
    "])"
   ]
  },
  {
   "cell_type": "code",
   "execution_count": 192,
   "id": "aa179e1c",
   "metadata": {},
   "outputs": [
    {
     "data": {
      "text/plain": [
       "Pipeline(steps=[('poly', PolynomialFeatures(degree=3)),\n",
       "                ('scaler', StandardScaler()),\n",
       "                ('regressor', LinearRegression())])"
      ]
     },
     "execution_count": 192,
     "metadata": {},
     "output_type": "execute_result"
    }
   ],
   "source": [
    "simple_model.fit(X_train, y_train)"
   ]
  },
  {
   "cell_type": "code",
   "execution_count": 193,
   "id": "7f47ab14",
   "metadata": {},
   "outputs": [
    {
     "name": "stdout",
     "output_type": "stream",
     "text": [
      "MSE:\ttrain:0.007879802558205246\ttest:0.009377753097521532\n"
     ]
    }
   ],
   "source": [
    "mse_test = mean_squared_error(y_test, simple_model.predict(X_test))\n",
    "mse_train = mean_squared_error(y_train, simple_model.predict(X_train))\n",
    "print(f\"MSE:\\ttrain:{mse_train}\\ttest:{mse_test}\")"
   ]
  },
  {
   "cell_type": "code",
   "execution_count": 194,
   "id": "c641b6d3",
   "metadata": {},
   "outputs": [
    {
     "name": "stdout",
     "output_type": "stream",
     "text": [
      "MAPE:\ttrain:0.0002839384879951435\ttest:0.00031199446426135105\n"
     ]
    }
   ],
   "source": [
    "mape_test = mean_absolute_percentage_error(y_test, simple_model.predict(X_test))\n",
    "mape_train = mean_absolute_percentage_error(y_train, simple_model.predict(X_train))\n",
    "print(f\"MAPE:\\ttrain:{mape_train}\\ttest:{mape_test}\")"
   ]
  },
  {
   "cell_type": "markdown",
   "id": "c49284f0",
   "metadata": {},
   "source": [
    "## Random Forest"
   ]
  },
  {
   "cell_type": "code",
   "execution_count": 195,
   "id": "a97fed00",
   "metadata": {},
   "outputs": [],
   "source": [
    "rf_regressor = RandomForestRegressor()\n",
    "rf_model = Pipeline([\n",
    "    ('poly', poly_augmentation),\n",
    "    ('scaler', scaler),\n",
    "    ('regressor', rf_regressor)\n",
    "])"
   ]
  },
  {
   "cell_type": "code",
   "execution_count": 196,
   "id": "bc2a7c6c",
   "metadata": {},
   "outputs": [
    {
     "name": "stderr",
     "output_type": "stream",
     "text": [
      "/Users/philipp/opt/anaconda3/lib/python3.8/site-packages/sklearn/pipeline.py:346: DataConversionWarning: A column-vector y was passed when a 1d array was expected. Please change the shape of y to (n_samples,), for example using ravel().\n",
      "  self._final_estimator.fit(Xt, y, **fit_params_last_step)\n"
     ]
    },
    {
     "data": {
      "text/plain": [
       "Pipeline(steps=[('poly', PolynomialFeatures(degree=3)),\n",
       "                ('scaler', StandardScaler()),\n",
       "                ('regressor', RandomForestRegressor())])"
      ]
     },
     "execution_count": 196,
     "metadata": {},
     "output_type": "execute_result"
    }
   ],
   "source": [
    "rf_model.fit(X_train, y_train)"
   ]
  },
  {
   "cell_type": "code",
   "execution_count": 197,
   "id": "cf7b602a",
   "metadata": {},
   "outputs": [
    {
     "name": "stdout",
     "output_type": "stream",
     "text": [
      "MSE:\ttrain:5.311762658475805e-07\ttest:1.4722142752371238e-06\n"
     ]
    }
   ],
   "source": [
    "mse_test = mean_squared_error(y_test, rf_model.predict(X_test))\n",
    "mse_train = mean_squared_error(y_train, rf_model.predict(X_train))\n",
    "print(f\"MSE:\\ttrain:{mse_train}\\ttest:{mse_test}\")"
   ]
  },
  {
   "cell_type": "code",
   "execution_count": 198,
   "id": "8da233e8",
   "metadata": {},
   "outputs": [
    {
     "name": "stdout",
     "output_type": "stream",
     "text": [
      "MAPE:\ttrain:5.986373891929295e-07\ttest:1.7710840705354804e-06\n"
     ]
    }
   ],
   "source": [
    "mape_test = mean_absolute_percentage_error(y_test, rf_model.predict(X_test))\n",
    "mape_train = mean_absolute_percentage_error(y_train, rf_model.predict(X_train))\n",
    "print(f\"MAPE:\\ttrain:{mape_train}\\ttest:{mape_test}\")"
   ]
  },
  {
   "cell_type": "markdown",
   "id": "7d2de175",
   "metadata": {},
   "source": [
    "# Visualization"
   ]
  },
  {
   "cell_type": "code",
   "execution_count": 199,
   "id": "229f950d",
   "metadata": {},
   "outputs": [
    {
     "name": "stdout",
     "output_type": "stream",
     "text": [
      "-2.40E+02\t-2.40E+02\n",
      "-2.39E+02\t-2.39E+02\n",
      "-2.40E+02\t-2.40E+02\n",
      "-2.39E+02\t-2.39E+02\n",
      "-2.40E+02\t-2.40E+02\n",
      "-2.40E+02\t-2.40E+02\n",
      "-2.40E+02\t-2.40E+02\n",
      "-2.39E+02\t-2.39E+02\n",
      "-2.40E+02\t-2.40E+02\n",
      "-2.40E+02\t-2.40E+02\n",
      "-2.39E+02\t-2.39E+02\n",
      "-2.40E+02\t-2.40E+02\n",
      "-2.40E+02\t-2.40E+02\n",
      "-2.40E+02\t-2.40E+02\n",
      "-2.40E+02\t-2.40E+02\n",
      "-2.40E+02\t-2.39E+02\n",
      "-2.40E+02\t-2.40E+02\n",
      "-2.39E+02\t-2.40E+02\n",
      "-2.40E+02\t-2.39E+02\n",
      "-2.40E+02\t-2.40E+02\n",
      "-2.40E+02\t-2.39E+02\n",
      "-2.40E+02\t-2.40E+02\n",
      "-2.39E+02\t-2.39E+02\n",
      "-2.40E+02\t-2.40E+02\n",
      "-2.40E+02\t-2.40E+02\n",
      "-2.40E+02\t-2.39E+02\n",
      "-2.40E+02\t-2.40E+02\n",
      "-2.40E+02\t-2.40E+02\n",
      "-2.40E+02\t-2.40E+02\n",
      "-2.40E+02\t-2.39E+02\n",
      "-2.40E+02\t-2.40E+02\n",
      "-2.40E+02\t-2.40E+02\n",
      "-2.40E+02\t-2.40E+02\n",
      "-2.40E+02\t-2.40E+02\n",
      "-2.40E+02\t-2.40E+02\n",
      "-2.39E+02\t-2.39E+02\n",
      "-2.39E+02\t-2.39E+02\n",
      "-2.40E+02\t-2.40E+02\n",
      "-2.39E+02\t-2.39E+02\n",
      "-2.39E+02\t-2.39E+02\n",
      "-2.40E+02\t-2.39E+02\n",
      "-2.40E+02\t-2.40E+02\n",
      "-2.40E+02\t-2.40E+02\n",
      "-2.39E+02\t-2.40E+02\n",
      "-2.40E+02\t-2.40E+02\n",
      "-2.40E+02\t-2.39E+02\n",
      "-2.40E+02\t-2.40E+02\n",
      "-2.40E+02\t-2.40E+02\n",
      "-2.40E+02\t-2.40E+02\n",
      "-2.40E+02\t-2.40E+02\n",
      "-2.39E+02\t-2.40E+02\n",
      "-2.39E+02\t-2.39E+02\n",
      "-2.39E+02\t-2.39E+02\n",
      "-2.40E+02\t-2.40E+02\n",
      "-2.40E+02\t-2.40E+02\n",
      "-2.40E+02\t-2.40E+02\n",
      "-2.40E+02\t-2.40E+02\n",
      "-2.40E+02\t-2.39E+02\n"
     ]
    }
   ],
   "source": [
    "for a, b in zip(y_test[\"total_energy\"], simple_model.predict(X_test)):\n",
    "    print(f\"{a:.2E}\\t{float(b):.2E}\")"
   ]
  },
  {
   "cell_type": "code",
   "execution_count": 200,
   "id": "358cfc95",
   "metadata": {},
   "outputs": [
    {
     "name": "stdout",
     "output_type": "stream",
     "text": [
      "-2.40E+02\t-2.40E+02\n",
      "-2.39E+02\t-2.39E+02\n",
      "-2.40E+02\t-2.40E+02\n",
      "-2.39E+02\t-2.39E+02\n",
      "-2.40E+02\t-2.40E+02\n",
      "-2.40E+02\t-2.40E+02\n",
      "-2.40E+02\t-2.40E+02\n",
      "-2.39E+02\t-2.39E+02\n",
      "-2.40E+02\t-2.40E+02\n",
      "-2.40E+02\t-2.40E+02\n",
      "-2.39E+02\t-2.39E+02\n",
      "-2.40E+02\t-2.40E+02\n",
      "-2.40E+02\t-2.40E+02\n",
      "-2.40E+02\t-2.40E+02\n",
      "-2.40E+02\t-2.40E+02\n",
      "-2.40E+02\t-2.40E+02\n",
      "-2.40E+02\t-2.40E+02\n",
      "-2.39E+02\t-2.39E+02\n",
      "-2.40E+02\t-2.40E+02\n",
      "-2.40E+02\t-2.40E+02\n",
      "-2.40E+02\t-2.40E+02\n",
      "-2.40E+02\t-2.40E+02\n",
      "-2.39E+02\t-2.39E+02\n",
      "-2.40E+02\t-2.40E+02\n",
      "-2.40E+02\t-2.40E+02\n",
      "-2.40E+02\t-2.40E+02\n",
      "-2.40E+02\t-2.40E+02\n",
      "-2.40E+02\t-2.40E+02\n",
      "-2.40E+02\t-2.40E+02\n",
      "-2.40E+02\t-2.40E+02\n",
      "-2.40E+02\t-2.40E+02\n",
      "-2.40E+02\t-2.40E+02\n",
      "-2.40E+02\t-2.40E+02\n",
      "-2.40E+02\t-2.40E+02\n",
      "-2.40E+02\t-2.40E+02\n",
      "-2.39E+02\t-2.39E+02\n",
      "-2.39E+02\t-2.39E+02\n",
      "-2.40E+02\t-2.40E+02\n",
      "-2.39E+02\t-2.39E+02\n",
      "-2.39E+02\t-2.39E+02\n",
      "-2.40E+02\t-2.40E+02\n",
      "-2.40E+02\t-2.40E+02\n",
      "-2.40E+02\t-2.40E+02\n",
      "-2.39E+02\t-2.39E+02\n",
      "-2.40E+02\t-2.40E+02\n",
      "-2.40E+02\t-2.40E+02\n",
      "-2.40E+02\t-2.40E+02\n",
      "-2.40E+02\t-2.40E+02\n",
      "-2.40E+02\t-2.40E+02\n",
      "-2.40E+02\t-2.40E+02\n",
      "-2.39E+02\t-2.39E+02\n",
      "-2.39E+02\t-2.39E+02\n",
      "-2.39E+02\t-2.39E+02\n",
      "-2.40E+02\t-2.40E+02\n",
      "-2.40E+02\t-2.40E+02\n",
      "-2.40E+02\t-2.40E+02\n",
      "-2.40E+02\t-2.40E+02\n",
      "-2.40E+02\t-2.40E+02\n"
     ]
    }
   ],
   "source": [
    "for a, b in zip(y_test[\"total_energy\"], rf_model.predict(X_test)):\n",
    "    print(f\"{a:.2E}\\t{b:.2E}\")"
   ]
  },
  {
   "cell_type": "code",
   "execution_count": 201,
   "id": "442612af",
   "metadata": {},
   "outputs": [],
   "source": [
    "import matplotlib.pyplot as plt"
   ]
  },
  {
   "cell_type": "code",
   "execution_count": 212,
   "id": "12bb3e77",
   "metadata": {},
   "outputs": [
    {
     "data": {
      "image/png": "[encoded data removed]",
      "text/plain": [
       "<Figure size 864x576 with 6 Axes>"
      ]
     },
     "metadata": {
      "needs_background": "light"
     },
     "output_type": "display_data"
    }
   ],
   "source": [
    "fig, ax = plt.subplots(2,3,figsize=(12,8), sharey=True)\n",
    "models = [simple_model, rf_model]\n",
    "for j, model in enumerate(models):\n",
    "    for i, col in enumerate(X_train.columns[:3]):\n",
    "        ax[j,i].scatter(X_train[col], y_train)\n",
    "        ax[j,i].scatter(X_test[col], y_test)\n",
    "        ax[j,i].scatter(X_test[col], model.predict(X_test))\n",
    "ax[0,0].set_ylabel(\"Linear Regression\")\n",
    "ax[1,0].set_ylabel(\"Random Forest\")\n",
    "ax[1,0].set_xlabel(\"ecutrho\")\n",
    "ax[1,1].set_xlabel('k_density')\n",
    "ax[1,2].set_xlabel('ecutwfc')\n",
    "PLOTPATH = os.path.join(os.path.dirname(os.path.dirname(os.getcwd())), \"plots/simple_regression/toy_comparison.png\")\n",
    "plt.savefig(PLOTPATH)"
   ]
  },
  {
   "cell_type": "code",
   "execution_count": 211,
   "id": "5a8bcbb0",
   "metadata": {},
   "outputs": [
    {
     "data": {
      "text/plain": [
       "<Figure size 432x288 with 0 Axes>"
      ]
     },
     "metadata": {},
     "output_type": "display_data"
    }
   ],
   "source": []
  },
  {
   "cell_type": "code",
   "execution_count": null,
   "id": "180be596",
   "metadata": {},
   "outputs": [],
   "source": []
  }
 ],
 "metadata": {
  "kernelspec": {
   "display_name": "Python 3",
   "language": "python",
   "name": "python3"
  },
  "language_info": {
   "codemirror_mode": {
    "name": "ipython",
    "version": 3
   },
   "file_extension": ".py",
   "mimetype": "text/x-python",
   "name": "python",
   "nbconvert_exporter": "python",
   "pygments_lexer": "ipython3",
   "version": "3.8.8"
  }
 },
 "nbformat": 4,
 "nbformat_minor": 5
}
