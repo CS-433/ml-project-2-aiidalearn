{
 "cells": [
  {
   "cell_type": "code",
   "execution_count": 3,
   "id": "c70cfc73",
   "metadata": {},
   "outputs": [],
   "source": [
    "import os\n",
    "import numpy as np\n",
    "import pandas as pd\n",
    "\n",
    "from sklearn.pipeline import Pipeline\n",
    "from sklearn.preprocessing import StandardScaler, PolynomialFeatures, FunctionTransformer\n",
    "from sklearn.linear_model import LinearRegression\n",
    "from sklearn.ensemble import RandomForestRegressor\n",
    "from sklearn.model_selection import train_test_split, GridSearchCV\n",
    "from sklearn.metrics import mean_squared_error, mean_absolute_percentage_error"
   ]
  },
  {
   "cell_type": "markdown",
   "id": "2abfd0b6",
   "metadata": {},
   "source": [
    "# Loading Data"
   ]
  },
  {
   "cell_type": "code",
   "execution_count": 4,
   "id": "d92cd656",
   "metadata": {},
   "outputs": [],
   "source": [
    "DATA_PATH = os.path.join(os.path.dirname(os.path.dirname(os.getcwd())), \"data/toy_data.csv\")"
   ]
  },
  {
   "cell_type": "code",
   "execution_count": 5,
   "id": "55fb416a",
   "metadata": {},
   "outputs": [],
   "source": [
    "df = pd.read_csv(DATA_PATH)"
   ]
  },
  {
   "cell_type": "code",
   "execution_count": 6,
   "id": "5bc318af",
   "metadata": {},
   "outputs": [],
   "source": [
    "cols_raw = list(df.columns)\n",
    "cols_trash = ['Unnamed: 0', 'converged', 'accuracy']\n",
    "cols_independent = ['total_energy']\n",
    "cols_drop = cols_trash + cols_independent\n",
    "\n",
    "cols_dependent = cols_raw.copy()\n",
    "for element in cols_drop:\n",
    "    cols_dependent.remove(element)\n"
   ]
  },
  {
   "cell_type": "code",
   "execution_count": 7,
   "id": "cd4a7069",
   "metadata": {},
   "outputs": [],
   "source": [
    "X_raw = df[cols_dependent]\n",
    "y_raw = df[cols_independent]"
   ]
  },
  {
   "cell_type": "code",
   "execution_count": 9,
   "id": "e9dc01a4",
   "metadata": {},
   "outputs": [
    {
     "data": {
      "text/html": [
       "<div>\n",
       "<style scoped>\n",
       "    .dataframe tbody tr th:only-of-type {\n",
       "        vertical-align: middle;\n",
       "    }\n",
       "\n",
       "    .dataframe tbody tr th {\n",
       "        vertical-align: top;\n",
       "    }\n",
       "\n",
       "    .dataframe thead th {\n",
       "        text-align: right;\n",
       "    }\n",
       "</style>\n",
       "<table border=\"1\" class=\"dataframe\">\n",
       "  <thead>\n",
       "    <tr style=\"text-align: right;\">\n",
       "      <th></th>\n",
       "      <th>ecutrho</th>\n",
       "      <th>k_density</th>\n",
       "      <th>ecutwfc</th>\n",
       "      <th>Ag</th>\n",
       "      <th>Al</th>\n",
       "      <th>Ar</th>\n",
       "      <th>As</th>\n",
       "      <th>Au</th>\n",
       "      <th>B</th>\n",
       "      <th>Ba</th>\n",
       "      <th>...</th>\n",
       "      <th>Ti</th>\n",
       "      <th>Tl</th>\n",
       "      <th>Tm</th>\n",
       "      <th>V</th>\n",
       "      <th>W</th>\n",
       "      <th>Xe</th>\n",
       "      <th>Y</th>\n",
       "      <th>Yb</th>\n",
       "      <th>Zn</th>\n",
       "      <th>Zr</th>\n",
       "    </tr>\n",
       "  </thead>\n",
       "  <tbody>\n",
       "    <tr>\n",
       "      <th>count</th>\n",
       "      <td>574.000000</td>\n",
       "      <td>574.000000</td>\n",
       "      <td>574.000000</td>\n",
       "      <td>574.0</td>\n",
       "      <td>574.0</td>\n",
       "      <td>574.0</td>\n",
       "      <td>574.0</td>\n",
       "      <td>574.0</td>\n",
       "      <td>574.0</td>\n",
       "      <td>574.0</td>\n",
       "      <td>...</td>\n",
       "      <td>574.0</td>\n",
       "      <td>574.0</td>\n",
       "      <td>574.0</td>\n",
       "      <td>574.0</td>\n",
       "      <td>574.0</td>\n",
       "      <td>574.0</td>\n",
       "      <td>574.0</td>\n",
       "      <td>574.0</td>\n",
       "      <td>574.0</td>\n",
       "      <td>574.0</td>\n",
       "    </tr>\n",
       "    <tr>\n",
       "      <th>mean</th>\n",
       "      <td>240.418118</td>\n",
       "      <td>0.229254</td>\n",
       "      <td>53.684669</td>\n",
       "      <td>0.0</td>\n",
       "      <td>0.0</td>\n",
       "      <td>0.0</td>\n",
       "      <td>0.0</td>\n",
       "      <td>0.0</td>\n",
       "      <td>0.0</td>\n",
       "      <td>0.0</td>\n",
       "      <td>...</td>\n",
       "      <td>0.0</td>\n",
       "      <td>0.0</td>\n",
       "      <td>0.0</td>\n",
       "      <td>0.0</td>\n",
       "      <td>0.0</td>\n",
       "      <td>0.0</td>\n",
       "      <td>0.0</td>\n",
       "      <td>0.0</td>\n",
       "      <td>0.0</td>\n",
       "      <td>0.0</td>\n",
       "    </tr>\n",
       "    <tr>\n",
       "      <th>std</th>\n",
       "      <td>90.226587</td>\n",
       "      <td>0.145562</td>\n",
       "      <td>20.964190</td>\n",
       "      <td>0.0</td>\n",
       "      <td>0.0</td>\n",
       "      <td>0.0</td>\n",
       "      <td>0.0</td>\n",
       "      <td>0.0</td>\n",
       "      <td>0.0</td>\n",
       "      <td>0.0</td>\n",
       "      <td>...</td>\n",
       "      <td>0.0</td>\n",
       "      <td>0.0</td>\n",
       "      <td>0.0</td>\n",
       "      <td>0.0</td>\n",
       "      <td>0.0</td>\n",
       "      <td>0.0</td>\n",
       "      <td>0.0</td>\n",
       "      <td>0.0</td>\n",
       "      <td>0.0</td>\n",
       "      <td>0.0</td>\n",
       "    </tr>\n",
       "    <tr>\n",
       "      <th>min</th>\n",
       "      <td>100.000000</td>\n",
       "      <td>0.100000</td>\n",
       "      <td>20.000000</td>\n",
       "      <td>0.0</td>\n",
       "      <td>0.0</td>\n",
       "      <td>0.0</td>\n",
       "      <td>0.0</td>\n",
       "      <td>0.0</td>\n",
       "      <td>0.0</td>\n",
       "      <td>0.0</td>\n",
       "      <td>...</td>\n",
       "      <td>0.0</td>\n",
       "      <td>0.0</td>\n",
       "      <td>0.0</td>\n",
       "      <td>0.0</td>\n",
       "      <td>0.0</td>\n",
       "      <td>0.0</td>\n",
       "      <td>0.0</td>\n",
       "      <td>0.0</td>\n",
       "      <td>0.0</td>\n",
       "      <td>0.0</td>\n",
       "    </tr>\n",
       "    <tr>\n",
       "      <th>25%</th>\n",
       "      <td>180.000000</td>\n",
       "      <td>0.125000</td>\n",
       "      <td>35.000000</td>\n",
       "      <td>0.0</td>\n",
       "      <td>0.0</td>\n",
       "      <td>0.0</td>\n",
       "      <td>0.0</td>\n",
       "      <td>0.0</td>\n",
       "      <td>0.0</td>\n",
       "      <td>0.0</td>\n",
       "      <td>...</td>\n",
       "      <td>0.0</td>\n",
       "      <td>0.0</td>\n",
       "      <td>0.0</td>\n",
       "      <td>0.0</td>\n",
       "      <td>0.0</td>\n",
       "      <td>0.0</td>\n",
       "      <td>0.0</td>\n",
       "      <td>0.0</td>\n",
       "      <td>0.0</td>\n",
       "      <td>0.0</td>\n",
       "    </tr>\n",
       "    <tr>\n",
       "      <th>50%</th>\n",
       "      <td>240.000000</td>\n",
       "      <td>0.166667</td>\n",
       "      <td>55.000000</td>\n",
       "      <td>0.0</td>\n",
       "      <td>0.0</td>\n",
       "      <td>0.0</td>\n",
       "      <td>0.0</td>\n",
       "      <td>0.0</td>\n",
       "      <td>0.0</td>\n",
       "      <td>0.0</td>\n",
       "      <td>...</td>\n",
       "      <td>0.0</td>\n",
       "      <td>0.0</td>\n",
       "      <td>0.0</td>\n",
       "      <td>0.0</td>\n",
       "      <td>0.0</td>\n",
       "      <td>0.0</td>\n",
       "      <td>0.0</td>\n",
       "      <td>0.0</td>\n",
       "      <td>0.0</td>\n",
       "      <td>0.0</td>\n",
       "    </tr>\n",
       "    <tr>\n",
       "      <th>75%</th>\n",
       "      <td>300.000000</td>\n",
       "      <td>0.250000</td>\n",
       "      <td>70.000000</td>\n",
       "      <td>0.0</td>\n",
       "      <td>0.0</td>\n",
       "      <td>0.0</td>\n",
       "      <td>0.0</td>\n",
       "      <td>0.0</td>\n",
       "      <td>0.0</td>\n",
       "      <td>0.0</td>\n",
       "      <td>...</td>\n",
       "      <td>0.0</td>\n",
       "      <td>0.0</td>\n",
       "      <td>0.0</td>\n",
       "      <td>0.0</td>\n",
       "      <td>0.0</td>\n",
       "      <td>0.0</td>\n",
       "      <td>0.0</td>\n",
       "      <td>0.0</td>\n",
       "      <td>0.0</td>\n",
       "      <td>0.0</td>\n",
       "    </tr>\n",
       "    <tr>\n",
       "      <th>max</th>\n",
       "      <td>380.000000</td>\n",
       "      <td>0.500000</td>\n",
       "      <td>90.000000</td>\n",
       "      <td>0.0</td>\n",
       "      <td>0.0</td>\n",
       "      <td>0.0</td>\n",
       "      <td>0.0</td>\n",
       "      <td>0.0</td>\n",
       "      <td>0.0</td>\n",
       "      <td>0.0</td>\n",
       "      <td>...</td>\n",
       "      <td>0.0</td>\n",
       "      <td>0.0</td>\n",
       "      <td>0.0</td>\n",
       "      <td>0.0</td>\n",
       "      <td>0.0</td>\n",
       "      <td>0.0</td>\n",
       "      <td>0.0</td>\n",
       "      <td>0.0</td>\n",
       "      <td>0.0</td>\n",
       "      <td>0.0</td>\n",
       "    </tr>\n",
       "  </tbody>\n",
       "</table>\n",
       "<p>8 rows × 88 columns</p>\n",
       "</div>"
      ],
      "text/plain": [
       "          ecutrho   k_density     ecutwfc     Ag     Al     Ar     As     Au  \\\n",
       "count  574.000000  574.000000  574.000000  574.0  574.0  574.0  574.0  574.0   \n",
       "mean   240.418118    0.229254   53.684669    0.0    0.0    0.0    0.0    0.0   \n",
       "std     90.226587    0.145562   20.964190    0.0    0.0    0.0    0.0    0.0   \n",
       "min    100.000000    0.100000   20.000000    0.0    0.0    0.0    0.0    0.0   \n",
       "25%    180.000000    0.125000   35.000000    0.0    0.0    0.0    0.0    0.0   \n",
       "50%    240.000000    0.166667   55.000000    0.0    0.0    0.0    0.0    0.0   \n",
       "75%    300.000000    0.250000   70.000000    0.0    0.0    0.0    0.0    0.0   \n",
       "max    380.000000    0.500000   90.000000    0.0    0.0    0.0    0.0    0.0   \n",
       "\n",
       "           B     Ba  ...     Ti     Tl     Tm      V      W     Xe      Y  \\\n",
       "count  574.0  574.0  ...  574.0  574.0  574.0  574.0  574.0  574.0  574.0   \n",
       "mean     0.0    0.0  ...    0.0    0.0    0.0    0.0    0.0    0.0    0.0   \n",
       "std      0.0    0.0  ...    0.0    0.0    0.0    0.0    0.0    0.0    0.0   \n",
       "min      0.0    0.0  ...    0.0    0.0    0.0    0.0    0.0    0.0    0.0   \n",
       "25%      0.0    0.0  ...    0.0    0.0    0.0    0.0    0.0    0.0    0.0   \n",
       "50%      0.0    0.0  ...    0.0    0.0    0.0    0.0    0.0    0.0    0.0   \n",
       "75%      0.0    0.0  ...    0.0    0.0    0.0    0.0    0.0    0.0    0.0   \n",
       "max      0.0    0.0  ...    0.0    0.0    0.0    0.0    0.0    0.0    0.0   \n",
       "\n",
       "          Yb     Zn     Zr  \n",
       "count  574.0  574.0  574.0  \n",
       "mean     0.0    0.0    0.0  \n",
       "std      0.0    0.0    0.0  \n",
       "min      0.0    0.0    0.0  \n",
       "25%      0.0    0.0    0.0  \n",
       "50%      0.0    0.0    0.0  \n",
       "75%      0.0    0.0    0.0  \n",
       "max      0.0    0.0    0.0  \n",
       "\n",
       "[8 rows x 88 columns]"
      ]
     },
     "execution_count": 9,
     "metadata": {},
     "output_type": "execute_result"
    }
   ],
   "source": [
    "X_raw.describe()"
   ]
  },
  {
   "cell_type": "markdown",
   "id": "df358c83",
   "metadata": {},
   "source": [
    "# Train-Test-Split"
   ]
  },
  {
   "cell_type": "code",
   "execution_count": 11,
   "id": "7ee412d4",
   "metadata": {},
   "outputs": [],
   "source": [
    "X_train, X_test, y_train, y_test = train_test_split(\n",
    "    X_raw, y_raw,\n",
    "    test_size=0.1,\n",
    "    random_state=42)"
   ]
  },
  {
   "cell_type": "markdown",
   "id": "3c621243",
   "metadata": {},
   "source": [
    "# Pipeline Definition"
   ]
  },
  {
   "cell_type": "markdown",
   "id": "47195970",
   "metadata": {},
   "source": [
    "## Linear Model with polynomial feature augmentation"
   ]
  },
  {
   "cell_type": "code",
   "execution_count": 12,
   "id": "f7d04650",
   "metadata": {},
   "outputs": [],
   "source": [
    "def exp_decay(x, lambda_):\n",
    "    return np.exp(-lambda_*x)"
   ]
  },
  {
   "cell_type": "code",
   "execution_count": 13,
   "id": "a43ed521",
   "metadata": {},
   "outputs": [],
   "source": [
    "#DEFINITION OF PREPROCESSING STEPS\n",
    "scaler = StandardScaler()\n",
    "poly_augmentation = PolynomialFeatures(degree=3)\n",
    "\n",
    "lambda_ = 1\n",
    "exp_decay_augmentation = FunctionTransformer(lambda x : exp_decay(x, lambda_))"
   ]
  },
  {
   "cell_type": "code",
   "execution_count": 14,
   "id": "add0f637",
   "metadata": {},
   "outputs": [],
   "source": [
    "#DEFINITION OF REGRESSOR\n",
    "linear_regressor = LinearRegression()\n",
    "#regressor = GradientBoostingRegressor"
   ]
  },
  {
   "cell_type": "code",
   "execution_count": 15,
   "id": "ca23925f",
   "metadata": {},
   "outputs": [],
   "source": [
    "#COMBINING EVERYTHING TO A PIPELINE\n",
    "simple_model = Pipeline([\n",
    "    ('poly', poly_augmentation),\n",
    "    #('exp_decay', exp_decay_augmentation),\n",
    "    ('scaler', scaler),\n",
    "    ('regressor', linear_regressor)\n",
    "])"
   ]
  },
  {
   "cell_type": "code",
   "execution_count": 16,
   "id": "aa179e1c",
   "metadata": {},
   "outputs": [
    {
     "data": {
      "text/plain": [
       "Pipeline(steps=[('poly', PolynomialFeatures(degree=3)),\n",
       "                ('scaler', StandardScaler()),\n",
       "                ('regressor', LinearRegression())])"
      ]
     },
     "execution_count": 16,
     "metadata": {},
     "output_type": "execute_result"
    }
   ],
   "source": [
    "simple_model.fit(X_train, y_train)"
   ]
  },
  {
   "cell_type": "code",
   "execution_count": 17,
   "id": "7f47ab14",
   "metadata": {},
   "outputs": [
    {
     "name": "stdout",
     "output_type": "stream",
     "text": [
      "MSE:\ttrain:0.007879802558205246\ttest:0.009377753097521532\n"
     ]
    }
   ],
   "source": [
    "mse_test = mean_squared_error(y_test, simple_model.predict(X_test))\n",
    "mse_train = mean_squared_error(y_train, simple_model.predict(X_train))\n",
    "print(f\"MSE:\\ttrain:{mse_train}\\ttest:{mse_test}\")"
   ]
  },
  {
   "cell_type": "code",
   "execution_count": 18,
   "id": "c641b6d3",
   "metadata": {},
   "outputs": [
    {
     "name": "stdout",
     "output_type": "stream",
     "text": [
      "MAPE:\ttrain:0.0002839384879951435\ttest:0.00031199446426135105\n"
     ]
    }
   ],
   "source": [
    "mape_test = mean_absolute_percentage_error(y_test, simple_model.predict(X_test))\n",
    "mape_train = mean_absolute_percentage_error(y_train, simple_model.predict(X_train))\n",
    "print(f\"MAPE:\\ttrain:{mape_train}\\ttest:{mape_test}\")"
   ]
  },
  {
   "cell_type": "markdown",
   "id": "c49284f0",
   "metadata": {},
   "source": [
    "## Random Forest"
   ]
  },
  {
   "cell_type": "code",
   "execution_count": 19,
   "id": "a97fed00",
   "metadata": {},
   "outputs": [],
   "source": [
    "rf_regressor = RandomForestRegressor()\n",
    "rf_model = Pipeline([\n",
    "    ('poly', poly_augmentation),\n",
    "    ('scaler', scaler),\n",
    "    ('regressor', rf_regressor)\n",
    "])"
   ]
  },
  {
   "cell_type": "code",
   "execution_count": 20,
   "id": "bc2a7c6c",
   "metadata": {},
   "outputs": [
    {
     "name": "stderr",
     "output_type": "stream",
     "text": [
      "/Users/philipp/opt/anaconda3/lib/python3.8/site-packages/sklearn/pipeline.py:346: DataConversionWarning: A column-vector y was passed when a 1d array was expected. Please change the shape of y to (n_samples,), for example using ravel().\n",
      "  self._final_estimator.fit(Xt, y, **fit_params_last_step)\n"
     ]
    },
    {
     "data": {
      "text/plain": [
       "Pipeline(steps=[('poly', PolynomialFeatures(degree=3)),\n",
       "                ('scaler', StandardScaler()),\n",
       "                ('regressor', RandomForestRegressor())])"
      ]
     },
     "execution_count": 20,
     "metadata": {},
     "output_type": "execute_result"
    }
   ],
   "source": [
    "rf_model.fit(X_train, y_train)"
   ]
  },
  {
   "cell_type": "code",
   "execution_count": 21,
   "id": "cf7b602a",
   "metadata": {},
   "outputs": [
    {
     "name": "stdout",
     "output_type": "stream",
     "text": [
      "MSE:\ttrain:4.465936008590007e-07\ttest:1.8781981160742554e-06\n"
     ]
    }
   ],
   "source": [
    "mse_test = mean_squared_error(y_test, rf_model.predict(X_test))\n",
    "mse_train = mean_squared_error(y_train, rf_model.predict(X_train))\n",
    "print(f\"MSE:\\ttrain:{mse_train}\\ttest:{mse_test}\")"
   ]
  },
  {
   "cell_type": "code",
   "execution_count": 22,
   "id": "8da233e8",
   "metadata": {},
   "outputs": [
    {
     "name": "stdout",
     "output_type": "stream",
     "text": [
      "MAPE:\ttrain:4.5190852928399716e-07\ttest:1.6896702626346852e-06\n"
     ]
    }
   ],
   "source": [
    "mape_test = mean_absolute_percentage_error(y_test, rf_model.predict(X_test))\n",
    "mape_train = mean_absolute_percentage_error(y_train, rf_model.predict(X_train))\n",
    "print(f\"MAPE:\\ttrain:{mape_train}\\ttest:{mape_test}\")"
   ]
  },
  {
   "cell_type": "markdown",
   "id": "7d2de175",
   "metadata": {},
   "source": [
    "# Visualization"
   ]
  },
  {
   "cell_type": "code",
   "execution_count": 23,
   "id": "442612af",
   "metadata": {},
   "outputs": [],
   "source": [
    "import matplotlib.pyplot as plt"
   ]
  },
  {
   "cell_type": "code",
   "execution_count": 25,
   "id": "12bb3e77",
   "metadata": {},
   "outputs": [
    {
     "data": {
      "image/png": "[encoded data removed]",
      "text/plain": [
       "<Figure size 864x576 with 6 Axes>"
      ]
     },
     "metadata": {
      "needs_background": "light"
     },
     "output_type": "display_data"
    }
   ],
   "source": [
    "fig, ax = plt.subplots(2,3,figsize=(12,8), sharey=True)\n",
    "models = [simple_model, rf_model]\n",
    "for j, model in enumerate(models):\n",
    "    for i, col in enumerate(X_train.columns[:3]):\n",
    "        ax[j,i].scatter(X_train[col], y_train)\n",
    "        ax[j,i].scatter(X_test[col], y_test)\n",
    "        ax[j,i].scatter(X_test[col], model.predict(X_test))\n",
    "ax[0,0].set_ylabel(\"Linear Regression\")\n",
    "ax[1,0].set_ylabel(\"Random Forest\")\n",
    "ax[1,0].set_xlabel(\"ecutrho\")\n",
    "ax[1,1].set_xlabel('k_density')\n",
    "ax[1,2].set_xlabel('ecutwfc')\n",
    "PLOTPATH = os.path.join(os.path.dirname(os.path.dirname(os.getcwd())), \"plots/simple_regression/toy_comparison.png\")\n",
    "plt.savefig(PLOTPATH)"
   ]
  },
  {
   "cell_type": "code",
   "execution_count": null,
   "id": "180be596",
   "metadata": {},
   "outputs": [],
   "source": []
  },
  {
   "cell_type": "code",
   "execution_count": null,
   "id": "39a3f565",
   "metadata": {},
   "outputs": [],
   "source": []
  },
  {
   "cell_type": "code",
   "execution_count": null,
   "id": "f4ec3c53",
   "metadata": {},
   "outputs": [],
   "source": []
  }
 ],
 "metadata": {
  "kernelspec": {
   "display_name": "Python 3",
   "language": "python",
   "name": "python3"
  },
  "language_info": {
   "codemirror_mode": {
    "name": "ipython",
    "version": 3
   },
   "file_extension": ".py",
   "mimetype": "text/x-python",
   "name": "python",
   "nbconvert_exporter": "python",
   "pygments_lexer": "ipython3",
   "version": "3.8.8"
  }
 },
 "nbformat": 4,
 "nbformat_minor": 5
}
