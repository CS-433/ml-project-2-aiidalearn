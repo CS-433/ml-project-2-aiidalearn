{
 "cells": [
  {
   "cell_type": "code",
   "execution_count": 1,
   "id": "c70cfc73",
   "metadata": {},
   "outputs": [],
   "source": [
    "import os\n",
    "import pandas as pd\n",
    "\n",
    "from sklearn.pipeline import Pipeline\n",
    "from sklearn.preprocessing import StandardScaler, PolynomialFeatures\n",
    "from sklearn.linear_model import LinearRegression\n",
    "from sklearn.ensemble import RandomForestRegressor\n",
    "from sklearn.model_selection import train_test_split\n",
    "from sklearn.metrics import mean_squared_error, mean_absolute_percentage_error"
   ]
  },
  {
   "cell_type": "markdown",
   "id": "2abfd0b6",
   "metadata": {},
   "source": [
    "# Loading Data"
   ]
  },
  {
   "cell_type": "code",
   "execution_count": 2,
   "id": "d92cd656",
   "metadata": {},
   "outputs": [],
   "source": [
    "DATA_PATH = os.path.join(os.path.dirname(os.path.dirname(os.getcwd())), \"data/toy_data.csv\")"
   ]
  },
  {
   "cell_type": "code",
   "execution_count": 3,
   "id": "55fb416a",
   "metadata": {},
   "outputs": [],
   "source": [
    "df = pd.read_csv(DATA_PATH)"
   ]
  },
  {
   "cell_type": "code",
   "execution_count": 4,
   "id": "5bc318af",
   "metadata": {},
   "outputs": [],
   "source": [
    "cols_raw = list(df.columns)\n",
    "cols_trash = ['Unnamed: 0', 'converged']\n",
    "cols_independent = ['accuracy']\n",
    "cols_drop = cols_trash + cols_independent\n",
    "\n",
    "cols_dependent = cols_raw.copy()\n",
    "for element in cols_drop:\n",
    "    cols_dependent.remove(element)\n"
   ]
  },
  {
   "cell_type": "code",
   "execution_count": 5,
   "id": "cd4a7069",
   "metadata": {},
   "outputs": [],
   "source": [
    "X_raw = df[cols_dependent]\n",
    "y_raw = df[cols_independent]"
   ]
  },
  {
   "cell_type": "markdown",
   "id": "df358c83",
   "metadata": {},
   "source": [
    "# Train-Test-Split"
   ]
  },
  {
   "cell_type": "code",
   "execution_count": 6,
   "id": "7ee412d4",
   "metadata": {},
   "outputs": [],
   "source": [
    "X_train, X_test, y_train, y_test = train_test_split(\n",
    "    X_raw, y_raw,\n",
    "    test_size=0.1,\n",
    "    random_state=42)"
   ]
  },
  {
   "cell_type": "markdown",
   "id": "3c621243",
   "metadata": {},
   "source": [
    "# Pipeline Definition"
   ]
  },
  {
   "cell_type": "markdown",
   "id": "47195970",
   "metadata": {},
   "source": [
    "## Linear Model with polynomial feature augmentation"
   ]
  },
  {
   "cell_type": "code",
   "execution_count": 7,
   "id": "a43ed521",
   "metadata": {},
   "outputs": [],
   "source": [
    "#DEFINITION OF PREPROCESSING STEPS\n",
    "scaler = StandardScaler()\n",
    "poly_augmentation = PolynomialFeatures(degree=3)"
   ]
  },
  {
   "cell_type": "code",
   "execution_count": 8,
   "id": "add0f637",
   "metadata": {},
   "outputs": [],
   "source": [
    "#DEFINITION OF REGRESSOR\n",
    "linear_regressor = LinearRegression()\n",
    "#regressor = GradientBoostingRegressor"
   ]
  },
  {
   "cell_type": "code",
   "execution_count": 9,
   "id": "ca23925f",
   "metadata": {},
   "outputs": [],
   "source": [
    "#COMBINING EVERYTHING TO A PIPELINE\n",
    "simple_model = Pipeline([\n",
    "    ('poly', poly_augmentation),\n",
    "    ('scaler', scaler),\n",
    "    ('regressor', linear_regressor)\n",
    "])"
   ]
  },
  {
   "cell_type": "code",
   "execution_count": 10,
   "id": "aa179e1c",
   "metadata": {},
   "outputs": [
    {
     "data": {
      "text/plain": [
       "Pipeline(steps=[('poly', PolynomialFeatures(degree=3)),\n",
       "                ('scaler', StandardScaler()),\n",
       "                ('regressor', LinearRegression())])"
      ]
     },
     "execution_count": 10,
     "metadata": {},
     "output_type": "execute_result"
    }
   ],
   "source": [
    "simple_model.fit(X_train, y_train)"
   ]
  },
  {
   "cell_type": "code",
   "execution_count": 11,
   "id": "7f47ab14",
   "metadata": {},
   "outputs": [
    {
     "name": "stdout",
     "output_type": "stream",
     "text": [
      "MSE:\ttrain:7.16540097611912e-26\ttest:8.963721601237086e-26\n"
     ]
    }
   ],
   "source": [
    "mse_test = mean_squared_error(y_test, simple_model.predict(X_test))\n",
    "mse_train = mean_squared_error(y_train, simple_model.predict(X_train))\n",
    "print(f\"MSE:\\ttrain:{mse_train}\\ttest:{mse_test}\")"
   ]
  },
  {
   "cell_type": "code",
   "execution_count": 12,
   "id": "c641b6d3",
   "metadata": {},
   "outputs": [
    {
     "name": "stdout",
     "output_type": "stream",
     "text": [
      "MAPE:\ttrain:1.65603396253376\ttest:5.615490796374145\n"
     ]
    }
   ],
   "source": [
    "mape_test = mean_absolute_percentage_error(y_test, simple_model.predict(X_test))\n",
    "mape_train = mean_absolute_percentage_error(y_train, simple_model.predict(X_train))\n",
    "print(f\"MAPE:\\ttrain:{mape_train}\\ttest:{mape_test}\")"
   ]
  },
  {
   "cell_type": "markdown",
   "id": "c49284f0",
   "metadata": {},
   "source": [
    "## Random Forest"
   ]
  },
  {
   "cell_type": "code",
   "execution_count": 13,
   "id": "a97fed00",
   "metadata": {},
   "outputs": [],
   "source": [
    "rf_regressor = RandomForestRegressor()\n",
    "rf_model = Pipeline([\n",
    "    ('poly', poly_augmentation),\n",
    "    ('scaler', scaler),\n",
    "    ('regressor', rf_regressor)\n",
    "])"
   ]
  },
  {
   "cell_type": "code",
   "execution_count": 14,
   "id": "bc2a7c6c",
   "metadata": {},
   "outputs": [
    {
     "name": "stderr",
     "output_type": "stream",
     "text": [
      "/Users/philipp/opt/anaconda3/lib/python3.8/site-packages/sklearn/pipeline.py:346: DataConversionWarning: A column-vector y was passed when a 1d array was expected. Please change the shape of y to (n_samples,), for example using ravel().\n",
      "  self._final_estimator.fit(Xt, y, **fit_params_last_step)\n"
     ]
    },
    {
     "data": {
      "text/plain": [
       "Pipeline(steps=[('poly', PolynomialFeatures(degree=3)),\n",
       "                ('scaler', StandardScaler()),\n",
       "                ('regressor', RandomForestRegressor())])"
      ]
     },
     "execution_count": 14,
     "metadata": {},
     "output_type": "execute_result"
    }
   ],
   "source": [
    "rf_model.fit(X_train, y_train)"
   ]
  },
  {
   "cell_type": "code",
   "execution_count": 15,
   "id": "cf7b602a",
   "metadata": {},
   "outputs": [
    {
     "name": "stdout",
     "output_type": "stream",
     "text": [
      "MSE:\ttrain:3.8593104998062044e-27\ttest:3.9656066277586197e-26\n"
     ]
    }
   ],
   "source": [
    "mse_test = mean_squared_error(y_test, rf_model.predict(X_test))\n",
    "mse_train = mean_squared_error(y_train, rf_model.predict(X_train))\n",
    "print(f\"MSE:\\ttrain:{mse_train}\\ttest:{mse_test}\")"
   ]
  },
  {
   "cell_type": "code",
   "execution_count": 16,
   "id": "8da233e8",
   "metadata": {},
   "outputs": [
    {
     "name": "stdout",
     "output_type": "stream",
     "text": [
      "MAPE:\ttrain:0.276652153621372\ttest:3.7234370984808685\n"
     ]
    }
   ],
   "source": [
    "mape_test = mean_absolute_percentage_error(y_test, rf_model.predict(X_test))\n",
    "mape_train = mean_absolute_percentage_error(y_train, rf_model.predict(X_train))\n",
    "print(f\"MAPE:\\ttrain:{mape_train}\\ttest:{mape_test}\")"
   ]
  },
  {
   "cell_type": "markdown",
   "id": "7d2de175",
   "metadata": {},
   "source": [
    "# Visualization"
   ]
  },
  {
   "cell_type": "code",
   "execution_count": 17,
   "id": "229f950d",
   "metadata": {},
   "outputs": [
    {
     "name": "stdout",
     "output_type": "stream",
     "text": [
      "8.40E-13\t3.83E-13\n",
      "4.50E-13\t5.79E-13\n",
      "8.00E-14\t2.93E-13\n",
      "2.70E-13\t2.26E-13\n",
      "3.90E-13\t3.52E-13\n",
      "8.80E-13\t3.41E-13\n",
      "8.10E-13\t4.12E-13\n",
      "6.20E-13\t5.30E-13\n",
      "5.10E-13\t3.19E-13\n",
      "9.50E-13\t3.69E-13\n",
      "6.80E-13\t2.03E-13\n",
      "8.70E-13\t3.22E-13\n",
      "1.10E-13\t2.37E-13\n",
      "6.90E-13\t4.11E-13\n",
      "1.80E-13\t1.30E-13\n",
      "9.80E-13\t4.64E-13\n",
      "3.70E-13\t4.30E-13\n",
      "2.00E-13\t4.17E-13\n",
      "2.10E-13\t3.65E-13\n",
      "4.50E-13\t4.09E-13\n",
      "3.90E-13\t5.24E-13\n",
      "3.50E-13\t4.53E-13\n",
      "6.20E-13\t3.49E-13\n",
      "2.10E-13\t2.75E-13\n",
      "9.10E-13\t3.69E-13\n",
      "8.50E-13\t4.23E-13\n",
      "5.00E-13\t4.07E-13\n",
      "6.40E-13\t3.64E-13\n",
      "1.80E-13\t3.03E-13\n",
      "5.60E-13\t5.55E-13\n",
      "2.80E-13\t2.50E-13\n",
      "2.90E-13\t4.23E-13\n",
      "3.20E-13\t3.61E-13\n",
      "1.80E-13\t1.12E-13\n",
      "1.50E-13\t4.42E-13\n",
      "4.40E-13\t6.05E-13\n",
      "6.90E-14\t7.23E-13\n",
      "1.50E-13\t4.60E-13\n",
      "1.60E-15\t4.14E-13\n",
      "7.70E-13\t5.20E-13\n",
      "3.30E-14\t4.09E-13\n",
      "7.80E-13\t4.23E-13\n",
      "6.00E-13\t4.05E-13\n",
      "9.30E-14\t3.38E-13\n",
      "5.00E-13\t4.16E-13\n",
      "4.40E-14\t4.12E-13\n",
      "1.20E-13\t2.52E-13\n",
      "1.30E-13\t1.23E-13\n",
      "1.40E-13\t4.15E-13\n",
      "6.80E-13\t3.98E-13\n",
      "2.10E-13\t2.70E-13\n",
      "1.90E-13\t6.86E-13\n",
      "9.50E-13\t3.93E-13\n",
      "1.90E-13\t4.40E-13\n",
      "1.80E-13\t4.01E-13\n",
      "7.10E-13\t4.30E-13\n",
      "8.90E-14\t3.85E-13\n",
      "2.90E-13\t4.72E-13\n"
     ]
    }
   ],
   "source": [
    "for a, b in zip(y_test[\"accuracy\"], simple_model.predict(X_test)):\n",
    "    print(f\"{a:.2E}\\t{float(b):.2E}\")"
   ]
  },
  {
   "cell_type": "code",
   "execution_count": 18,
   "id": "358cfc95",
   "metadata": {},
   "outputs": [
    {
     "name": "stdout",
     "output_type": "stream",
     "text": [
      "8.40E-13\t6.65E-13\n",
      "4.50E-13\t4.60E-13\n",
      "8.00E-14\t1.46E-13\n",
      "2.70E-13\t2.75E-13\n",
      "3.90E-13\t3.99E-13\n",
      "8.80E-13\t2.21E-13\n",
      "8.10E-13\t7.60E-13\n",
      "6.20E-13\t6.52E-13\n",
      "5.10E-13\t3.07E-13\n",
      "9.50E-13\t9.23E-13\n",
      "6.80E-13\t3.00E-13\n",
      "8.70E-13\t4.42E-13\n",
      "1.10E-13\t1.21E-13\n",
      "6.90E-13\t4.45E-13\n",
      "1.80E-13\t2.05E-13\n",
      "9.80E-13\t2.92E-13\n",
      "3.70E-13\t3.87E-13\n",
      "2.00E-13\t4.80E-13\n",
      "2.10E-13\t2.96E-13\n",
      "4.50E-13\t7.60E-13\n",
      "3.90E-13\t4.79E-13\n",
      "3.50E-13\t2.55E-13\n",
      "6.20E-13\t4.10E-13\n",
      "2.10E-13\t2.06E-13\n",
      "9.10E-13\t7.61E-13\n",
      "8.50E-13\t7.30E-13\n",
      "5.00E-13\t4.29E-13\n",
      "6.40E-13\t6.24E-13\n",
      "1.80E-13\t4.98E-13\n",
      "5.60E-13\t5.24E-13\n",
      "2.80E-13\t2.12E-13\n",
      "2.90E-13\t6.04E-13\n",
      "3.20E-13\t3.58E-13\n",
      "1.80E-13\t1.90E-13\n",
      "1.50E-13\t1.65E-13\n",
      "4.40E-13\t4.47E-13\n",
      "6.90E-14\t3.52E-13\n",
      "1.50E-13\t1.60E-13\n",
      "1.60E-15\t3.02E-13\n",
      "7.70E-13\t7.92E-13\n",
      "3.30E-14\t1.58E-13\n",
      "7.80E-13\t7.67E-13\n",
      "6.00E-13\t4.41E-13\n",
      "9.30E-14\t2.35E-13\n",
      "5.00E-13\t6.71E-13\n",
      "4.40E-14\t9.99E-14\n",
      "1.20E-13\t1.26E-13\n",
      "1.30E-13\t1.69E-13\n",
      "1.40E-13\t2.20E-13\n",
      "6.80E-13\t4.95E-13\n",
      "2.10E-13\t2.48E-13\n",
      "1.90E-13\t3.19E-13\n",
      "9.50E-13\t8.43E-13\n",
      "1.90E-13\t2.02E-13\n",
      "1.80E-13\t2.74E-13\n",
      "7.10E-13\t5.87E-13\n",
      "8.90E-14\t1.66E-13\n",
      "2.90E-13\t5.44E-13\n"
     ]
    }
   ],
   "source": [
    "for a, b in zip(y_test[\"accuracy\"], rf_model.predict(X_test)):\n",
    "    print(f\"{a:.2E}\\t{b:.2E}\")"
   ]
  },
  {
   "cell_type": "code",
   "execution_count": 19,
   "id": "442612af",
   "metadata": {},
   "outputs": [],
   "source": [
    "import matplotlib.pyplot as plt"
   ]
  },
  {
   "cell_type": "code",
   "execution_count": 20,
   "id": "12bb3e77",
   "metadata": {},
   "outputs": [
    {
     "data": {
      "text/plain": [
       "Text(0.5, 0, 'ecutwfc')"
      ]
     },
     "execution_count": 20,
     "metadata": {},
     "output_type": "execute_result"
    },
    {
     "data": {
      "image/png": "[encoded data removed]",
      "text/plain": [
       "<Figure size 864x576 with 6 Axes>"
      ]
     },
     "metadata": {
      "needs_background": "light"
     },
     "output_type": "display_data"
    }
   ],
   "source": [
    "fig, ax = plt.subplots(2,3,figsize=(12,8), sharey=True)\n",
    "models = [simple_model, rf_model]\n",
    "for j, model in enumerate(models):\n",
    "    for i, col in enumerate(X_train.columns[:3]):\n",
    "        ax[j,i].scatter(X_train[col], y_train)\n",
    "        ax[j,i].scatter(X_test[col], y_test)\n",
    "        ax[j,i].scatter(X_test[col], model.predict(X_test))\n",
    "ax[0,0].set_ylabel(\"Linear Regression\")\n",
    "ax[1,0].set_ylabel(\"Random Forest\")\n",
    "ax[1,0].set_xlabel(\"ecutrho\")\n",
    "ax[1,1].set_xlabel('k_density')\n",
    "ax[1,2].set_xlabel('ecutwfc')"
   ]
  }
 ],
 "metadata": {
  "kernelspec": {
   "display_name": "Python 3",
   "language": "python",
   "name": "python3"
  },
  "language_info": {
   "codemirror_mode": {
    "name": "ipython",
    "version": 3
   },
   "file_extension": ".py",
   "mimetype": "text/x-python",
   "name": "python",
   "nbconvert_exporter": "python",
   "pygments_lexer": "ipython3",
   "version": "3.8.8"
  }
 },
 "nbformat": 4,
 "nbformat_minor": 5
}
