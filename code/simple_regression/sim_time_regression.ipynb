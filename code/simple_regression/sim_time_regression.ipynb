{
 "cells": [
  {
   "cell_type": "code",
   "execution_count": 29,
   "id": "f72e6a6c",
   "metadata": {},
   "outputs": [],
   "source": [
    "import os\n",
    "import numpy as np\n",
    "import pandas as pd\n",
    "import sys\n",
    "\n",
    "from sklearn.pipeline import Pipeline\n",
    "from sklearn.preprocessing import StandardScaler, PolynomialFeatures\n",
    "from sklearn.linear_model import LinearRegression\n",
    "from sklearn.ensemble import RandomForestRegressor, GradientBoostingRegressor\n",
    "from sklearn.model_selection import train_test_split\n",
    "from sklearn.metrics import mean_squared_error, mean_absolute_percentage_error, mean_absolute_error\n",
    "\n",
    "import xgboost as xgb\n",
    "\n",
    "import matplotlib.pyplot as plt\n",
    "from mpl_toolkits.mplot3d import Axes3D\n",
    "\n",
    "sys.path.append(os.path.dirname(os.getcwd()))\n",
    "from tools.utils import encode_all_structures, Encoding"
   ]
  },
  {
   "cell_type": "code",
   "execution_count": 30,
   "id": "c52ef9f3",
   "metadata": {},
   "outputs": [],
   "source": [
    "DATA_DIR = os.path.join(\n",
    "    os.path.dirname(os.path.dirname(os.getcwd())), \"data/\"\n",
    ")"
   ]
  },
  {
   "cell_type": "markdown",
   "id": "330d9f5c",
   "metadata": {},
   "source": [
    "# Loading Data"
   ]
  },
  {
   "cell_type": "code",
   "execution_count": 31,
   "id": "7544e81a",
   "metadata": {},
   "outputs": [],
   "source": [
    "encoding = Encoding.COLUMN_MASS\n",
    "\n",
    "df = pd.read_csv(os.path.join(DATA_DIR, \"data.csv\"), index_col=0, na_filter= False)\n",
    "df = encode_all_structures(df, encoding)"
   ]
  },
  {
   "cell_type": "code",
   "execution_count": 32,
   "id": "4fc753ef",
   "metadata": {},
   "outputs": [],
   "source": [
    "cols_raw = list(df.columns)\n",
    "cols_trash = [\"structure\", 'converged', \"n_iterations\", \"delta_E\", \"fermi\", \"total_energy\"]\n",
    "cols_independent = ['time']\n",
    "cols_drop = cols_trash + cols_independent\n",
    "\n",
    "cols_dependent = cols_raw.copy()\n",
    "for element in cols_drop:\n",
    "    cols_dependent.remove(element)"
   ]
  },
  {
   "cell_type": "code",
   "execution_count": 33,
   "id": "3b14d721",
   "metadata": {},
   "outputs": [],
   "source": [
    "X_raw = df[cols_dependent][df[\"converged\"]]\n",
    "y_raw = np.abs(df[cols_independent][df[\"converged\"]]).squeeze()"
   ]
  },
  {
   "cell_type": "code",
   "execution_count": 34,
   "id": "d150f25c",
   "metadata": {},
   "outputs": [
    {
     "data": {
      "text/html": [
       "<div>\n",
       "<style scoped>\n",
       "    .dataframe tbody tr th:only-of-type {\n",
       "        vertical-align: middle;\n",
       "    }\n",
       "\n",
       "    .dataframe tbody tr th {\n",
       "        vertical-align: top;\n",
       "    }\n",
       "\n",
       "    .dataframe thead th {\n",
       "        text-align: right;\n",
       "    }\n",
       "</style>\n",
       "<table border=\"1\" class=\"dataframe\">\n",
       "  <thead>\n",
       "    <tr style=\"text-align: right;\">\n",
       "      <th></th>\n",
       "      <th>ecutrho</th>\n",
       "      <th>k_density</th>\n",
       "      <th>ecutwfc</th>\n",
       "      <th>accuracy</th>\n",
       "      <th>Lant</th>\n",
       "      <th>PTC1</th>\n",
       "      <th>PTC2</th>\n",
       "      <th>PTC3</th>\n",
       "      <th>PTC4</th>\n",
       "      <th>PTC5</th>\n",
       "      <th>...</th>\n",
       "      <th>PTC9</th>\n",
       "      <th>PTC10</th>\n",
       "      <th>PTC11</th>\n",
       "      <th>PTC12</th>\n",
       "      <th>PTC13</th>\n",
       "      <th>PTC14</th>\n",
       "      <th>PTC15</th>\n",
       "      <th>PTC16</th>\n",
       "      <th>PTC17</th>\n",
       "      <th>PTC18</th>\n",
       "    </tr>\n",
       "  </thead>\n",
       "  <tbody>\n",
       "    <tr>\n",
       "      <th>count</th>\n",
       "      <td>62458.000000</td>\n",
       "      <td>62458.000000</td>\n",
       "      <td>62458.000000</td>\n",
       "      <td>6.245800e+04</td>\n",
       "      <td>62458.000000</td>\n",
       "      <td>62458.000000</td>\n",
       "      <td>62458.000000</td>\n",
       "      <td>62458.000000</td>\n",
       "      <td>62458.000000</td>\n",
       "      <td>62458.000000</td>\n",
       "      <td>...</td>\n",
       "      <td>62458.000000</td>\n",
       "      <td>62458.000000</td>\n",
       "      <td>62458.000000</td>\n",
       "      <td>62458.000000</td>\n",
       "      <td>62458.000000</td>\n",
       "      <td>62458.000000</td>\n",
       "      <td>62458.000000</td>\n",
       "      <td>62458.000000</td>\n",
       "      <td>62458.000000</td>\n",
       "      <td>62458.0</td>\n",
       "    </tr>\n",
       "    <tr>\n",
       "      <th>mean</th>\n",
       "      <td>244.912101</td>\n",
       "      <td>5.856063</td>\n",
       "      <td>58.431266</td>\n",
       "      <td>3.266654e-10</td>\n",
       "      <td>0.148408</td>\n",
       "      <td>0.030426</td>\n",
       "      <td>0.041234</td>\n",
       "      <td>0.020184</td>\n",
       "      <td>0.021552</td>\n",
       "      <td>0.028327</td>\n",
       "      <td>...</td>\n",
       "      <td>0.063783</td>\n",
       "      <td>0.055349</td>\n",
       "      <td>0.064660</td>\n",
       "      <td>0.046991</td>\n",
       "      <td>0.050979</td>\n",
       "      <td>0.044910</td>\n",
       "      <td>0.094091</td>\n",
       "      <td>0.061162</td>\n",
       "      <td>0.022155</td>\n",
       "      <td>0.0</td>\n",
       "    </tr>\n",
       "    <tr>\n",
       "      <th>std</th>\n",
       "      <td>89.243957</td>\n",
       "      <td>2.832946</td>\n",
       "      <td>24.204293</td>\n",
       "      <td>2.825536e-10</td>\n",
       "      <td>0.285161</td>\n",
       "      <td>0.130828</td>\n",
       "      <td>0.128356</td>\n",
       "      <td>0.102080</td>\n",
       "      <td>0.102914</td>\n",
       "      <td>0.117325</td>\n",
       "      <td>...</td>\n",
       "      <td>0.197564</td>\n",
       "      <td>0.185805</td>\n",
       "      <td>0.191193</td>\n",
       "      <td>0.165755</td>\n",
       "      <td>0.164559</td>\n",
       "      <td>0.132338</td>\n",
       "      <td>0.213313</td>\n",
       "      <td>0.166961</td>\n",
       "      <td>0.121754</td>\n",
       "      <td>0.0</td>\n",
       "    </tr>\n",
       "    <tr>\n",
       "      <th>min</th>\n",
       "      <td>100.000000</td>\n",
       "      <td>2.000000</td>\n",
       "      <td>20.000000</td>\n",
       "      <td>1.600000e-15</td>\n",
       "      <td>0.000000</td>\n",
       "      <td>0.000000</td>\n",
       "      <td>0.000000</td>\n",
       "      <td>0.000000</td>\n",
       "      <td>0.000000</td>\n",
       "      <td>0.000000</td>\n",
       "      <td>...</td>\n",
       "      <td>0.000000</td>\n",
       "      <td>0.000000</td>\n",
       "      <td>0.000000</td>\n",
       "      <td>0.000000</td>\n",
       "      <td>0.000000</td>\n",
       "      <td>0.000000</td>\n",
       "      <td>0.000000</td>\n",
       "      <td>0.000000</td>\n",
       "      <td>0.000000</td>\n",
       "      <td>0.0</td>\n",
       "    </tr>\n",
       "    <tr>\n",
       "      <th>25%</th>\n",
       "      <td>180.000000</td>\n",
       "      <td>4.000000</td>\n",
       "      <td>40.000000</td>\n",
       "      <td>8.200000e-11</td>\n",
       "      <td>0.000000</td>\n",
       "      <td>0.000000</td>\n",
       "      <td>0.000000</td>\n",
       "      <td>0.000000</td>\n",
       "      <td>0.000000</td>\n",
       "      <td>0.000000</td>\n",
       "      <td>...</td>\n",
       "      <td>0.000000</td>\n",
       "      <td>0.000000</td>\n",
       "      <td>0.000000</td>\n",
       "      <td>0.000000</td>\n",
       "      <td>0.000000</td>\n",
       "      <td>0.000000</td>\n",
       "      <td>0.000000</td>\n",
       "      <td>0.000000</td>\n",
       "      <td>0.000000</td>\n",
       "      <td>0.0</td>\n",
       "    </tr>\n",
       "    <tr>\n",
       "      <th>50%</th>\n",
       "      <td>260.000000</td>\n",
       "      <td>6.000000</td>\n",
       "      <td>60.000000</td>\n",
       "      <td>2.400000e-10</td>\n",
       "      <td>0.000000</td>\n",
       "      <td>0.000000</td>\n",
       "      <td>0.000000</td>\n",
       "      <td>0.000000</td>\n",
       "      <td>0.000000</td>\n",
       "      <td>0.000000</td>\n",
       "      <td>...</td>\n",
       "      <td>0.000000</td>\n",
       "      <td>0.000000</td>\n",
       "      <td>0.000000</td>\n",
       "      <td>0.000000</td>\n",
       "      <td>0.000000</td>\n",
       "      <td>0.000000</td>\n",
       "      <td>0.000000</td>\n",
       "      <td>0.000000</td>\n",
       "      <td>0.000000</td>\n",
       "      <td>0.0</td>\n",
       "    </tr>\n",
       "    <tr>\n",
       "      <th>75%</th>\n",
       "      <td>340.000000</td>\n",
       "      <td>8.000000</td>\n",
       "      <td>80.000000</td>\n",
       "      <td>5.300000e-10</td>\n",
       "      <td>0.000000</td>\n",
       "      <td>0.000000</td>\n",
       "      <td>0.000000</td>\n",
       "      <td>0.000000</td>\n",
       "      <td>0.000000</td>\n",
       "      <td>0.000000</td>\n",
       "      <td>...</td>\n",
       "      <td>0.000000</td>\n",
       "      <td>0.000000</td>\n",
       "      <td>0.000000</td>\n",
       "      <td>0.000000</td>\n",
       "      <td>0.000000</td>\n",
       "      <td>0.000000</td>\n",
       "      <td>0.000000</td>\n",
       "      <td>0.000000</td>\n",
       "      <td>0.000000</td>\n",
       "      <td>0.0</td>\n",
       "    </tr>\n",
       "    <tr>\n",
       "      <th>max</th>\n",
       "      <td>380.000000</td>\n",
       "      <td>10.000000</td>\n",
       "      <td>100.000000</td>\n",
       "      <td>1.000000e-09</td>\n",
       "      <td>0.924714</td>\n",
       "      <td>0.733997</td>\n",
       "      <td>0.732088</td>\n",
       "      <td>0.741626</td>\n",
       "      <td>0.841555</td>\n",
       "      <td>0.885522</td>\n",
       "      <td>...</td>\n",
       "      <td>0.876908</td>\n",
       "      <td>0.983118</td>\n",
       "      <td>0.899810</td>\n",
       "      <td>0.862178</td>\n",
       "      <td>0.967155</td>\n",
       "      <td>0.808676</td>\n",
       "      <td>0.918451</td>\n",
       "      <td>0.839999</td>\n",
       "      <td>0.833172</td>\n",
       "      <td>0.0</td>\n",
       "    </tr>\n",
       "  </tbody>\n",
       "</table>\n",
       "<p>8 rows × 23 columns</p>\n",
       "</div>"
      ],
      "text/plain": [
       "            ecutrho     k_density       ecutwfc      accuracy          Lant  \\\n",
       "count  62458.000000  62458.000000  62458.000000  6.245800e+04  62458.000000   \n",
       "mean     244.912101      5.856063     58.431266  3.266654e-10      0.148408   \n",
       "std       89.243957      2.832946     24.204293  2.825536e-10      0.285161   \n",
       "min      100.000000      2.000000     20.000000  1.600000e-15      0.000000   \n",
       "25%      180.000000      4.000000     40.000000  8.200000e-11      0.000000   \n",
       "50%      260.000000      6.000000     60.000000  2.400000e-10      0.000000   \n",
       "75%      340.000000      8.000000     80.000000  5.300000e-10      0.000000   \n",
       "max      380.000000     10.000000    100.000000  1.000000e-09      0.924714   \n",
       "\n",
       "               PTC1          PTC2          PTC3          PTC4          PTC5  \\\n",
       "count  62458.000000  62458.000000  62458.000000  62458.000000  62458.000000   \n",
       "mean       0.030426      0.041234      0.020184      0.021552      0.028327   \n",
       "std        0.130828      0.128356      0.102080      0.102914      0.117325   \n",
       "min        0.000000      0.000000      0.000000      0.000000      0.000000   \n",
       "25%        0.000000      0.000000      0.000000      0.000000      0.000000   \n",
       "50%        0.000000      0.000000      0.000000      0.000000      0.000000   \n",
       "75%        0.000000      0.000000      0.000000      0.000000      0.000000   \n",
       "max        0.733997      0.732088      0.741626      0.841555      0.885522   \n",
       "\n",
       "       ...          PTC9         PTC10         PTC11         PTC12  \\\n",
       "count  ...  62458.000000  62458.000000  62458.000000  62458.000000   \n",
       "mean   ...      0.063783      0.055349      0.064660      0.046991   \n",
       "std    ...      0.197564      0.185805      0.191193      0.165755   \n",
       "min    ...      0.000000      0.000000      0.000000      0.000000   \n",
       "25%    ...      0.000000      0.000000      0.000000      0.000000   \n",
       "50%    ...      0.000000      0.000000      0.000000      0.000000   \n",
       "75%    ...      0.000000      0.000000      0.000000      0.000000   \n",
       "max    ...      0.876908      0.983118      0.899810      0.862178   \n",
       "\n",
       "              PTC13         PTC14         PTC15         PTC16         PTC17  \\\n",
       "count  62458.000000  62458.000000  62458.000000  62458.000000  62458.000000   \n",
       "mean       0.050979      0.044910      0.094091      0.061162      0.022155   \n",
       "std        0.164559      0.132338      0.213313      0.166961      0.121754   \n",
       "min        0.000000      0.000000      0.000000      0.000000      0.000000   \n",
       "25%        0.000000      0.000000      0.000000      0.000000      0.000000   \n",
       "50%        0.000000      0.000000      0.000000      0.000000      0.000000   \n",
       "75%        0.000000      0.000000      0.000000      0.000000      0.000000   \n",
       "max        0.967155      0.808676      0.918451      0.839999      0.833172   \n",
       "\n",
       "         PTC18  \n",
       "count  62458.0  \n",
       "mean       0.0  \n",
       "std        0.0  \n",
       "min        0.0  \n",
       "25%        0.0  \n",
       "50%        0.0  \n",
       "75%        0.0  \n",
       "max        0.0  \n",
       "\n",
       "[8 rows x 23 columns]"
      ]
     },
     "execution_count": 34,
     "metadata": {},
     "output_type": "execute_result"
    }
   ],
   "source": [
    "X_raw.describe()"
   ]
  },
  {
   "cell_type": "markdown",
   "id": "55ba3f2f",
   "metadata": {},
   "source": [
    "# Train-Test-Split"
   ]
  },
  {
   "cell_type": "code",
   "execution_count": 35,
   "id": "13a295e9",
   "metadata": {},
   "outputs": [],
   "source": [
    "X_train, X_test, y_train, y_test = train_test_split(\n",
    "    X_raw, y_raw,\n",
    "    test_size=0.2,\n",
    "    random_state=42\n",
    ")"
   ]
  },
  {
   "cell_type": "markdown",
   "id": "d8de856c",
   "metadata": {},
   "source": [
    "# Model definitions"
   ]
  },
  {
   "cell_type": "markdown",
   "id": "352c653f",
   "metadata": {},
   "source": [
    "### Linear Model with feature augmentation"
   ]
  },
  {
   "cell_type": "code",
   "execution_count": 36,
   "id": "7010e7b9",
   "metadata": {},
   "outputs": [],
   "source": [
    "linear_augmented_model = Pipeline([\n",
    "    ('scaler_init', StandardScaler()),\n",
    "    ('poly_features', PolynomialFeatures(degree=2)),\n",
    "    ('scaler_final', StandardScaler()),\n",
    "    ('regressor', LinearRegression()),\n",
    "])"
   ]
  },
  {
   "cell_type": "markdown",
   "id": "55fb1f14",
   "metadata": {},
   "source": [
    "### Random forest"
   ]
  },
  {
   "cell_type": "code",
   "execution_count": 37,
   "id": "5482fc15",
   "metadata": {},
   "outputs": [],
   "source": [
    "rf_model = RandomForestRegressor(random_state=0)"
   ]
  },
  {
   "cell_type": "markdown",
   "id": "e396ee5b",
   "metadata": {},
   "source": [
    "### Gradient Boosting"
   ]
  },
  {
   "cell_type": "code",
   "execution_count": 38,
   "id": "889b426e",
   "metadata": {},
   "outputs": [],
   "source": [
    "gb_model = GradientBoostingRegressor(n_estimators=5000, learning_rate=0.05, random_state=0)"
   ]
  },
  {
   "cell_type": "markdown",
   "id": "437e20b9",
   "metadata": {},
   "source": [
    "### XGBoost"
   ]
  },
  {
   "cell_type": "code",
   "execution_count": 39,
   "id": "8af093a4",
   "metadata": {},
   "outputs": [],
   "source": [
    "xgb_model = xgb.XGBRegressor(n_estimators=5000, learning_rate=0.05, random_state=0, tree_method=\"gpu_hist\")"
   ]
  },
  {
   "cell_type": "markdown",
   "id": "1d72775d",
   "metadata": {},
   "source": [
    "### Packing them together to reduce code size"
   ]
  },
  {
   "cell_type": "code",
   "execution_count": 40,
   "id": "b8539e62",
   "metadata": {},
   "outputs": [],
   "source": [
    "models = {\n",
    "    \"Augmented Linear Regression\": linear_augmented_model,\n",
    "    \"Random Forest\": rf_model,\n",
    "    #\"Gradient Boosting\": gb_model,\n",
    "    #\"XGBoost\": xgb_model,\n",
    "}"
   ]
  },
  {
   "cell_type": "markdown",
   "id": "4b0e82a4",
   "metadata": {},
   "source": [
    "# Model training"
   ]
  },
  {
   "cell_type": "code",
   "execution_count": 41,
   "id": "4ac88c6b",
   "metadata": {},
   "outputs": [
    {
     "name": "stdout",
     "output_type": "stream",
     "text": [
      "Training Augmented Linear Regression...\n",
      "Done!\n",
      "\n",
      "Training Random Forest...\n",
      "Done!\n",
      "\n"
     ]
    }
   ],
   "source": [
    "for model_name, model in models.items():\n",
    "    print(f\"Training {model_name}...\")\n",
    "    model.fit(X_train, y_train)\n",
    "    print(\"Done!\\n\")"
   ]
  },
  {
   "cell_type": "markdown",
   "id": "da4aab8d",
   "metadata": {},
   "source": [
    "# Model evaluation"
   ]
  },
  {
   "cell_type": "code",
   "execution_count": 43,
   "id": "13559b55",
   "metadata": {},
   "outputs": [
    {
     "name": "stdout",
     "output_type": "stream",
     "text": [
      "Evaluating Augmented Linear Regression...\n",
      "MSE:\ttrain:1.1236E+10\ttest:9.2879E+09\n",
      "MAE:\ttrain:5.1632E+04\ttest:5.1249E+04\n",
      "MAPE:\ttrain:1.4479E+01\ttest:1.4991E+01\n",
      "Done!\n",
      "\n",
      "Evaluating Random Forest...\n",
      "MSE:\ttrain:1.3040E+08\ttest:8.7405E+08\n",
      "MAE:\ttrain:2.5021E+03\ttest:6.7656E+03\n",
      "MAPE:\ttrain:2.8273E-02\ttest:7.6418E-02\n",
      "Done!\n",
      "\n"
     ]
    }
   ],
   "source": [
    "for model_name, model in models.items():\n",
    "    print(f\"Evaluating {model_name}...\")\n",
    "\n",
    "    y_pred_train = model.predict(X_train)\n",
    "    y_pred_test = model.predict(X_test)\n",
    "\n",
    "    mse_test = mean_squared_error(y_test, y_pred_test)\n",
    "    mse_train = mean_squared_error(y_train, y_pred_train)\n",
    "    print(f\"MSE:\\ttrain:{mse_train:.4E}\\ttest:{mse_test:.4E}\")\n",
    "\n",
    "    mae_test = mean_absolute_error(y_test, y_pred_test)\n",
    "    mae_train = mean_absolute_error(y_train, y_pred_train)\n",
    "    print(f\"MAE:\\ttrain:{mae_train:.4E}\\ttest:{mae_test:.4E}\")\n",
    "\n",
    "    mape_test = mean_absolute_percentage_error(y_test, y_pred_test)\n",
    "    mape_train = mean_absolute_percentage_error(y_train, y_pred_train)\n",
    "    print(f\"MAPE:\\ttrain:{mape_train:.4E}\\ttest:{mape_test:.4E}\")\n",
    "\n",
    "    print(\"Done!\\n\")"
   ]
  },
  {
   "cell_type": "markdown",
   "id": "ec8e7b59",
   "metadata": {},
   "source": [
    "# Visualization"
   ]
  },
  {
   "cell_type": "code",
   "execution_count": 44,
   "id": "25802160",
   "metadata": {},
   "outputs": [
    {
     "data": {
      "text/plain": [
       "Text(0.5, 0, 'ecutwfc')"
      ]
     },
     "execution_count": 44,
     "metadata": {},
     "output_type": "execute_result"
    },
    {
     "data": {
      "image/png": "[encoded data removed]",
      "text/plain": [
       "<Figure size 864x576 with 6 Axes>"
      ]
     },
     "metadata": {
      "needs_background": "light"
     },
     "output_type": "display_data"
    }
   ],
   "source": [
    "n_models = len(models)\n",
    "fig, ax = plt.subplots(n_models,3,figsize=(12,4*n_models), sharey=True, squeeze=False)\n",
    "for j, (name, model) in enumerate(models.items()):\n",
    "    for i, col in enumerate(X_train.columns[:3]):\n",
    "        ax[j,i].scatter(X_train[col], y_train)\n",
    "        ax[j,i].scatter(X_test[col], y_test)\n",
    "        ax[j,i].scatter(X_test[col], model.predict(X_test))\n",
    "    ax[j,0].set_ylabel(name)\n",
    "ax[-1,0].set_xlabel(\"ecutrho\")\n",
    "ax[-1,1].set_xlabel('k_density')\n",
    "ax[-1,2].set_xlabel('ecutwfc')"
   ]
  },
  {
   "cell_type": "code",
   "execution_count": 45,
   "id": "0e36135f",
   "metadata": {},
   "outputs": [
    {
     "data": {
      "text/plain": [
       "<mpl_toolkits.mplot3d.art3d.Path3DCollection at 0x7f8c73a14fa0>"
      ]
     },
     "execution_count": 45,
     "metadata": {},
     "output_type": "execute_result"
    },
    {
     "data": {
      "image/png": "[encoded data removed]",
      "text/plain": [
       "<Figure size 432x288 with 1 Axes>"
      ]
     },
     "metadata": {
      "needs_background": "light"
     },
     "output_type": "display_data"
    }
   ],
   "source": [
    "fig = plt.figure()\n",
    "ax = fig.add_subplot(111, projection='3d')\n",
    "ax.scatter(X_train['ecutwfc'], X_train['k_density'], y_train)\n",
    "ax.scatter(X_test['ecutwfc'], X_test['k_density'], y_test)\n",
    "ax.scatter(X_test['ecutwfc'], X_test['k_density'], rf_model.predict(X_test))"
   ]
  },
  {
   "cell_type": "code",
   "execution_count": null,
   "id": "91ec7bc7",
   "metadata": {},
   "outputs": [],
   "source": [
    "labels = dict(x=\"ecutwfc\", y=\"k_density\")"
   ]
  },
  {
   "cell_type": "code",
   "execution_count": 55,
   "id": "8219e65e",
   "metadata": {},
   "outputs": [
    {
     "ename": "TypeError",
     "evalue": "scatter_3d() got an unexpected keyword argument 'point_color'",
     "output_type": "error",
     "traceback": [
      "\u001b[0;31m---------------------------------------------------------------------------\u001b[0m",
      "\u001b[0;31mTypeError\u001b[0m                                 Traceback (most recent call last)",
      "\u001b[0;32m<ipython-input-55-3b8f4c5e0b69>\u001b[0m in \u001b[0;36m<module>\u001b[0;34m\u001b[0m\n\u001b[1;32m      1\u001b[0m \u001b[0;32mimport\u001b[0m \u001b[0mplotly\u001b[0m\u001b[0;34m.\u001b[0m\u001b[0mexpress\u001b[0m \u001b[0;32mas\u001b[0m \u001b[0mpx\u001b[0m\u001b[0;34m\u001b[0m\u001b[0;34m\u001b[0m\u001b[0m\n\u001b[0;32m----> 2\u001b[0;31m \u001b[0mfig\u001b[0m \u001b[0;34m=\u001b[0m \u001b[0mpx\u001b[0m\u001b[0;34m.\u001b[0m\u001b[0mscatter_3d\u001b[0m\u001b[0;34m(\u001b[0m\u001b[0mx\u001b[0m\u001b[0;34m=\u001b[0m\u001b[0mX_test\u001b[0m\u001b[0;34m[\u001b[0m\u001b[0;34m'ecutwfc'\u001b[0m\u001b[0;34m]\u001b[0m\u001b[0;34m,\u001b[0m \u001b[0my\u001b[0m\u001b[0;34m=\u001b[0m\u001b[0mX_test\u001b[0m\u001b[0;34m[\u001b[0m\u001b[0;34m'k_density'\u001b[0m\u001b[0;34m]\u001b[0m\u001b[0;34m,\u001b[0m \u001b[0mz\u001b[0m\u001b[0;34m=\u001b[0m\u001b[0my_test\u001b[0m\u001b[0;34m,\u001b[0m \u001b[0mpoint_color\u001b[0m\u001b[0;34m=\u001b[0m\u001b[0;34m\"red\"\u001b[0m\u001b[0;34m)\u001b[0m\u001b[0;34m\u001b[0m\u001b[0;34m\u001b[0m\u001b[0m\n\u001b[0m\u001b[1;32m      3\u001b[0m \u001b[0mfig\u001b[0m\u001b[0;34m.\u001b[0m\u001b[0mshow\u001b[0m\u001b[0;34m(\u001b[0m\u001b[0;34m)\u001b[0m\u001b[0;34m\u001b[0m\u001b[0;34m\u001b[0m\u001b[0m\n",
      "\u001b[0;31mTypeError\u001b[0m: scatter_3d() got an unexpected keyword argument 'point_color'"
     ]
    }
   ],
   "source": [
    "import plotly.express as px\n",
    "fig = px.scatter_3d(x=X_test['ecutwfc'], y=X_test['k_density'], z=y_test, point_color=\"red\")\n",
    "fig.show()"
   ]
  },
  {
   "cell_type": "code",
   "execution_count": null,
   "id": "3306d064",
   "metadata": {},
   "outputs": [],
   "source": []
  },
  {
   "cell_type": "code",
   "execution_count": null,
   "id": "f6bf49fa",
   "metadata": {},
   "outputs": [],
   "source": []
  }
 ],
 "metadata": {
  "kernelspec": {
   "display_name": "Python 3",
   "language": "python",
   "name": "python3"
  },
  "language_info": {
   "codemirror_mode": {
    "name": "ipython",
    "version": 3
   },
   "file_extension": ".py",
   "mimetype": "text/x-python",
   "name": "python",
   "nbconvert_exporter": "python",
   "pygments_lexer": "ipython3",
   "version": "3.8.8"
  }
 },
 "nbformat": 4,
 "nbformat_minor": 5
}
