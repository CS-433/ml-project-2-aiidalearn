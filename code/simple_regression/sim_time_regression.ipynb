{
 "cells": [
  {
   "cell_type": "code",
   "execution_count": 39,
   "id": "f72e6a6c",
   "metadata": {},
   "outputs": [],
   "source": [
    "import os\n",
    "import numpy as np\n",
    "import pandas as pd\n",
    "import sys\n",
    "\n",
    "from sklearn.pipeline import Pipeline\n",
    "from sklearn.preprocessing import StandardScaler, PolynomialFeatures\n",
    "from sklearn.linear_model import LinearRegression\n",
    "from sklearn.ensemble import RandomForestRegressor, GradientBoostingRegressor\n",
    "from sklearn.model_selection import train_test_split\n",
    "from sklearn.metrics import mean_squared_error, mean_absolute_percentage_error, mean_absolute_error\n",
    "\n",
    "import xgboost as xgb\n",
    "import lightgbm as lgb\n",
    "\n",
    "import matplotlib.pyplot as plt\n",
    "from mpl_toolkits.mplot3d import Axes3D\n",
    "\n",
    "sys.path.append(os.path.dirname(os.getcwd()))\n",
    "from tools.utils import encode_all_structures, Encoding"
   ]
  },
  {
   "cell_type": "code",
   "execution_count": 22,
   "id": "c52ef9f3",
   "metadata": {},
   "outputs": [],
   "source": [
    "DATA_DIR = os.path.join(\n",
    "    os.path.dirname(os.path.dirname(os.getcwd())), \"data/\"\n",
    ")"
   ]
  },
  {
   "cell_type": "markdown",
   "id": "330d9f5c",
   "metadata": {},
   "source": [
    "# Loading Data"
   ]
  },
  {
   "cell_type": "code",
   "execution_count": 23,
   "id": "7544e81a",
   "metadata": {},
   "outputs": [],
   "source": [
    "encoding = Encoding.COLUMN_MASS\n",
    "\n",
    "df = pd.read_csv(os.path.join(DATA_DIR, \"data.csv\"), index_col=0, na_filter= False)\n",
    "df = encode_all_structures(df, encoding)"
   ]
  },
  {
   "cell_type": "code",
   "execution_count": 27,
   "id": "4fc753ef",
   "metadata": {},
   "outputs": [],
   "source": [
    "cols_raw = list(df.columns)\n",
    "cols_trash = [\"structure\", 'converged', \"accuracy\", \"n_iterations\", \"delta_E\", \"fermi\", \"total_energy\"]\n",
    "cols_independent = ['time']\n",
    "cols_drop = cols_trash + cols_independent\n",
    "\n",
    "cols_dependent = cols_raw.copy()\n",
    "for element in cols_drop:\n",
    "    cols_dependent.remove(element)"
   ]
  },
  {
   "cell_type": "code",
   "execution_count": 28,
   "id": "3b14d721",
   "metadata": {},
   "outputs": [],
   "source": [
    "X_raw = df[cols_dependent][df[\"converged\"]]\n",
    "y_raw = np.abs(df[cols_independent][df[\"converged\"]]).squeeze()"
   ]
  },
  {
   "cell_type": "code",
   "execution_count": 29,
   "id": "d150f25c",
   "metadata": {},
   "outputs": [
    {
     "data": {
      "text/html": [
       "<div>\n",
       "<style scoped>\n",
       "    .dataframe tbody tr th:only-of-type {\n",
       "        vertical-align: middle;\n",
       "    }\n",
       "\n",
       "    .dataframe tbody tr th {\n",
       "        vertical-align: top;\n",
       "    }\n",
       "\n",
       "    .dataframe thead th {\n",
       "        text-align: right;\n",
       "    }\n",
       "</style>\n",
       "<table border=\"1\" class=\"dataframe\">\n",
       "  <thead>\n",
       "    <tr style=\"text-align: right;\">\n",
       "      <th></th>\n",
       "      <th>ecutrho</th>\n",
       "      <th>k_density</th>\n",
       "      <th>ecutwfc</th>\n",
       "      <th>Lant</th>\n",
       "      <th>PTC1</th>\n",
       "      <th>PTC2</th>\n",
       "      <th>PTC3</th>\n",
       "      <th>PTC4</th>\n",
       "      <th>PTC5</th>\n",
       "      <th>PTC6</th>\n",
       "      <th>...</th>\n",
       "      <th>PTC9</th>\n",
       "      <th>PTC10</th>\n",
       "      <th>PTC11</th>\n",
       "      <th>PTC12</th>\n",
       "      <th>PTC13</th>\n",
       "      <th>PTC14</th>\n",
       "      <th>PTC15</th>\n",
       "      <th>PTC16</th>\n",
       "      <th>PTC17</th>\n",
       "      <th>PTC18</th>\n",
       "    </tr>\n",
       "  </thead>\n",
       "  <tbody>\n",
       "    <tr>\n",
       "      <th>count</th>\n",
       "      <td>272762.000000</td>\n",
       "      <td>272762.000000</td>\n",
       "      <td>272762.000000</td>\n",
       "      <td>272762.000000</td>\n",
       "      <td>272762.000000</td>\n",
       "      <td>272762.000000</td>\n",
       "      <td>272762.000000</td>\n",
       "      <td>272762.000000</td>\n",
       "      <td>272762.000000</td>\n",
       "      <td>272762.000000</td>\n",
       "      <td>...</td>\n",
       "      <td>272762.000000</td>\n",
       "      <td>272762.000000</td>\n",
       "      <td>272762.000000</td>\n",
       "      <td>272762.000000</td>\n",
       "      <td>272762.000000</td>\n",
       "      <td>272762.000000</td>\n",
       "      <td>272762.000000</td>\n",
       "      <td>272762.000000</td>\n",
       "      <td>272762.000000</td>\n",
       "      <td>272762.0</td>\n",
       "    </tr>\n",
       "    <tr>\n",
       "      <th>mean</th>\n",
       "      <td>243.637750</td>\n",
       "      <td>5.917276</td>\n",
       "      <td>55.419083</td>\n",
       "      <td>0.159506</td>\n",
       "      <td>0.049458</td>\n",
       "      <td>0.037120</td>\n",
       "      <td>0.028267</td>\n",
       "      <td>0.040596</td>\n",
       "      <td>0.028786</td>\n",
       "      <td>0.028198</td>\n",
       "      <td>...</td>\n",
       "      <td>0.067855</td>\n",
       "      <td>0.069810</td>\n",
       "      <td>0.066175</td>\n",
       "      <td>0.058606</td>\n",
       "      <td>0.056158</td>\n",
       "      <td>0.044858</td>\n",
       "      <td>0.061569</td>\n",
       "      <td>0.061289</td>\n",
       "      <td>0.021883</td>\n",
       "      <td>0.0</td>\n",
       "    </tr>\n",
       "    <tr>\n",
       "      <th>std</th>\n",
       "      <td>89.648334</td>\n",
       "      <td>2.822805</td>\n",
       "      <td>23.920181</td>\n",
       "      <td>0.290103</td>\n",
       "      <td>0.170662</td>\n",
       "      <td>0.131902</td>\n",
       "      <td>0.119200</td>\n",
       "      <td>0.153130</td>\n",
       "      <td>0.120652</td>\n",
       "      <td>0.126566</td>\n",
       "      <td>...</td>\n",
       "      <td>0.201673</td>\n",
       "      <td>0.210226</td>\n",
       "      <td>0.200467</td>\n",
       "      <td>0.184161</td>\n",
       "      <td>0.162863</td>\n",
       "      <td>0.151152</td>\n",
       "      <td>0.171189</td>\n",
       "      <td>0.159208</td>\n",
       "      <td>0.115921</td>\n",
       "      <td>0.0</td>\n",
       "    </tr>\n",
       "    <tr>\n",
       "      <th>min</th>\n",
       "      <td>100.000000</td>\n",
       "      <td>2.000000</td>\n",
       "      <td>20.000000</td>\n",
       "      <td>0.000000</td>\n",
       "      <td>0.000000</td>\n",
       "      <td>0.000000</td>\n",
       "      <td>0.000000</td>\n",
       "      <td>0.000000</td>\n",
       "      <td>0.000000</td>\n",
       "      <td>0.000000</td>\n",
       "      <td>...</td>\n",
       "      <td>0.000000</td>\n",
       "      <td>0.000000</td>\n",
       "      <td>0.000000</td>\n",
       "      <td>0.000000</td>\n",
       "      <td>0.000000</td>\n",
       "      <td>0.000000</td>\n",
       "      <td>0.000000</td>\n",
       "      <td>0.000000</td>\n",
       "      <td>0.000000</td>\n",
       "      <td>0.0</td>\n",
       "    </tr>\n",
       "    <tr>\n",
       "      <th>25%</th>\n",
       "      <td>180.000000</td>\n",
       "      <td>4.000000</td>\n",
       "      <td>35.000000</td>\n",
       "      <td>0.000000</td>\n",
       "      <td>0.000000</td>\n",
       "      <td>0.000000</td>\n",
       "      <td>0.000000</td>\n",
       "      <td>0.000000</td>\n",
       "      <td>0.000000</td>\n",
       "      <td>0.000000</td>\n",
       "      <td>...</td>\n",
       "      <td>0.000000</td>\n",
       "      <td>0.000000</td>\n",
       "      <td>0.000000</td>\n",
       "      <td>0.000000</td>\n",
       "      <td>0.000000</td>\n",
       "      <td>0.000000</td>\n",
       "      <td>0.000000</td>\n",
       "      <td>0.000000</td>\n",
       "      <td>0.000000</td>\n",
       "      <td>0.0</td>\n",
       "    </tr>\n",
       "    <tr>\n",
       "      <th>50%</th>\n",
       "      <td>260.000000</td>\n",
       "      <td>6.000000</td>\n",
       "      <td>55.000000</td>\n",
       "      <td>0.000000</td>\n",
       "      <td>0.000000</td>\n",
       "      <td>0.000000</td>\n",
       "      <td>0.000000</td>\n",
       "      <td>0.000000</td>\n",
       "      <td>0.000000</td>\n",
       "      <td>0.000000</td>\n",
       "      <td>...</td>\n",
       "      <td>0.000000</td>\n",
       "      <td>0.000000</td>\n",
       "      <td>0.000000</td>\n",
       "      <td>0.000000</td>\n",
       "      <td>0.000000</td>\n",
       "      <td>0.000000</td>\n",
       "      <td>0.000000</td>\n",
       "      <td>0.000000</td>\n",
       "      <td>0.000000</td>\n",
       "      <td>0.0</td>\n",
       "    </tr>\n",
       "    <tr>\n",
       "      <th>75%</th>\n",
       "      <td>340.000000</td>\n",
       "      <td>8.000000</td>\n",
       "      <td>75.000000</td>\n",
       "      <td>0.000000</td>\n",
       "      <td>0.000000</td>\n",
       "      <td>0.000000</td>\n",
       "      <td>0.000000</td>\n",
       "      <td>0.000000</td>\n",
       "      <td>0.000000</td>\n",
       "      <td>0.000000</td>\n",
       "      <td>...</td>\n",
       "      <td>0.000000</td>\n",
       "      <td>0.000000</td>\n",
       "      <td>0.000000</td>\n",
       "      <td>0.000000</td>\n",
       "      <td>0.000000</td>\n",
       "      <td>0.000000</td>\n",
       "      <td>0.000000</td>\n",
       "      <td>0.000000</td>\n",
       "      <td>0.000000</td>\n",
       "      <td>0.0</td>\n",
       "    </tr>\n",
       "    <tr>\n",
       "      <th>max</th>\n",
       "      <td>380.000000</td>\n",
       "      <td>10.000000</td>\n",
       "      <td>100.000000</td>\n",
       "      <td>0.994010</td>\n",
       "      <td>0.924776</td>\n",
       "      <td>0.919574</td>\n",
       "      <td>0.789162</td>\n",
       "      <td>0.989072</td>\n",
       "      <td>0.885522</td>\n",
       "      <td>0.980984</td>\n",
       "      <td>...</td>\n",
       "      <td>0.983185</td>\n",
       "      <td>0.983118</td>\n",
       "      <td>0.942526</td>\n",
       "      <td>0.926130</td>\n",
       "      <td>0.967155</td>\n",
       "      <td>0.967587</td>\n",
       "      <td>0.967854</td>\n",
       "      <td>0.934031</td>\n",
       "      <td>0.987543</td>\n",
       "      <td>0.0</td>\n",
       "    </tr>\n",
       "  </tbody>\n",
       "</table>\n",
       "<p>8 rows × 22 columns</p>\n",
       "</div>"
      ],
      "text/plain": [
       "             ecutrho      k_density        ecutwfc           Lant  \\\n",
       "count  272762.000000  272762.000000  272762.000000  272762.000000   \n",
       "mean      243.637750       5.917276      55.419083       0.159506   \n",
       "std        89.648334       2.822805      23.920181       0.290103   \n",
       "min       100.000000       2.000000      20.000000       0.000000   \n",
       "25%       180.000000       4.000000      35.000000       0.000000   \n",
       "50%       260.000000       6.000000      55.000000       0.000000   \n",
       "75%       340.000000       8.000000      75.000000       0.000000   \n",
       "max       380.000000      10.000000     100.000000       0.994010   \n",
       "\n",
       "                PTC1           PTC2           PTC3           PTC4  \\\n",
       "count  272762.000000  272762.000000  272762.000000  272762.000000   \n",
       "mean        0.049458       0.037120       0.028267       0.040596   \n",
       "std         0.170662       0.131902       0.119200       0.153130   \n",
       "min         0.000000       0.000000       0.000000       0.000000   \n",
       "25%         0.000000       0.000000       0.000000       0.000000   \n",
       "50%         0.000000       0.000000       0.000000       0.000000   \n",
       "75%         0.000000       0.000000       0.000000       0.000000   \n",
       "max         0.924776       0.919574       0.789162       0.989072   \n",
       "\n",
       "                PTC5           PTC6  ...           PTC9          PTC10  \\\n",
       "count  272762.000000  272762.000000  ...  272762.000000  272762.000000   \n",
       "mean        0.028786       0.028198  ...       0.067855       0.069810   \n",
       "std         0.120652       0.126566  ...       0.201673       0.210226   \n",
       "min         0.000000       0.000000  ...       0.000000       0.000000   \n",
       "25%         0.000000       0.000000  ...       0.000000       0.000000   \n",
       "50%         0.000000       0.000000  ...       0.000000       0.000000   \n",
       "75%         0.000000       0.000000  ...       0.000000       0.000000   \n",
       "max         0.885522       0.980984  ...       0.983185       0.983118   \n",
       "\n",
       "               PTC11          PTC12          PTC13          PTC14  \\\n",
       "count  272762.000000  272762.000000  272762.000000  272762.000000   \n",
       "mean        0.066175       0.058606       0.056158       0.044858   \n",
       "std         0.200467       0.184161       0.162863       0.151152   \n",
       "min         0.000000       0.000000       0.000000       0.000000   \n",
       "25%         0.000000       0.000000       0.000000       0.000000   \n",
       "50%         0.000000       0.000000       0.000000       0.000000   \n",
       "75%         0.000000       0.000000       0.000000       0.000000   \n",
       "max         0.942526       0.926130       0.967155       0.967587   \n",
       "\n",
       "               PTC15          PTC16          PTC17     PTC18  \n",
       "count  272762.000000  272762.000000  272762.000000  272762.0  \n",
       "mean        0.061569       0.061289       0.021883       0.0  \n",
       "std         0.171189       0.159208       0.115921       0.0  \n",
       "min         0.000000       0.000000       0.000000       0.0  \n",
       "25%         0.000000       0.000000       0.000000       0.0  \n",
       "50%         0.000000       0.000000       0.000000       0.0  \n",
       "75%         0.000000       0.000000       0.000000       0.0  \n",
       "max         0.967854       0.934031       0.987543       0.0  \n",
       "\n",
       "[8 rows x 22 columns]"
      ]
     },
     "execution_count": 29,
     "metadata": {},
     "output_type": "execute_result"
    }
   ],
   "source": [
    "X_raw.describe()"
   ]
  },
  {
   "cell_type": "markdown",
   "id": "55ba3f2f",
   "metadata": {},
   "source": [
    "# Train-Test-Split"
   ]
  },
  {
   "cell_type": "code",
   "execution_count": 30,
   "id": "13a295e9",
   "metadata": {},
   "outputs": [],
   "source": [
    "X_train, X_test, y_train, y_test = train_test_split(\n",
    "    X_raw, y_raw,\n",
    "    test_size=0.2,\n",
    "    random_state=42\n",
    ")"
   ]
  },
  {
   "cell_type": "markdown",
   "id": "d8de856c",
   "metadata": {},
   "source": [
    "# Model definitions"
   ]
  },
  {
   "cell_type": "markdown",
   "id": "352c653f",
   "metadata": {},
   "source": [
    "### Linear Model with feature augmentation"
   ]
  },
  {
   "cell_type": "code",
   "execution_count": 9,
   "id": "7010e7b9",
   "metadata": {},
   "outputs": [],
   "source": [
    "linear_augmented_model = Pipeline([\n",
    "    ('scaler_init', StandardScaler()),\n",
    "    ('poly_features', PolynomialFeatures(degree=2)),\n",
    "    ('scaler_final', StandardScaler()),\n",
    "    ('regressor', LinearRegression()),\n",
    "])"
   ]
  },
  {
   "cell_type": "markdown",
   "id": "55fb1f14",
   "metadata": {},
   "source": [
    "### Random forest"
   ]
  },
  {
   "cell_type": "code",
   "execution_count": 10,
   "id": "5482fc15",
   "metadata": {},
   "outputs": [],
   "source": [
    "rf_model = RandomForestRegressor(random_state=0)"
   ]
  },
  {
   "cell_type": "markdown",
   "id": "e396ee5b",
   "metadata": {},
   "source": [
    "### Gradient Boosting"
   ]
  },
  {
   "cell_type": "code",
   "execution_count": 11,
   "id": "889b426e",
   "metadata": {},
   "outputs": [],
   "source": [
    "gb_model = GradientBoostingRegressor(n_estimators=5000, learning_rate=0.05, random_state=0)"
   ]
  },
  {
   "cell_type": "markdown",
   "id": "437e20b9",
   "metadata": {},
   "source": [
    "### XGBoost"
   ]
  },
  {
   "cell_type": "code",
   "execution_count": 12,
   "id": "8af093a4",
   "metadata": {},
   "outputs": [],
   "source": [
    "xgb_model = xgb.XGBRegressor(n_estimators=5000, learning_rate=0.05, random_state=0, tree_method=\"gpu_hist\")"
   ]
  },
  {
   "cell_type": "markdown",
   "id": "1d72775d",
   "metadata": {},
   "source": [
    "### Packing them together to reduce code size"
   ]
  },
  {
   "cell_type": "code",
   "execution_count": 13,
   "id": "b8539e62",
   "metadata": {},
   "outputs": [],
   "source": [
    "models = {\n",
    "    \"Augmented Linear Regression\": linear_augmented_model,\n",
    "    \"Random Forest\": rf_model,\n",
    "    #\"Gradient Boosting\": gb_model,\n",
    "    #\"XGBoost\": xgb_model,\n",
    "}"
   ]
  },
  {
   "cell_type": "markdown",
   "id": "4b0e82a4",
   "metadata": {},
   "source": [
    "# Model training"
   ]
  },
  {
   "cell_type": "code",
   "execution_count": 14,
   "id": "4ac88c6b",
   "metadata": {},
   "outputs": [
    {
     "name": "stdout",
     "output_type": "stream",
     "text": [
      "Training Augmented Linear Regression...\n",
      "Done!\n",
      "\n",
      "Training Random Forest...\n",
      "Done!\n",
      "\n"
     ]
    }
   ],
   "source": [
    "for model_name, model in models.items():\n",
    "    print(f\"Training {model_name}...\")\n",
    "    model.fit(X_train, y_train)\n",
    "    print(\"Done!\\n\")"
   ]
  },
  {
   "cell_type": "markdown",
   "id": "da4aab8d",
   "metadata": {},
   "source": [
    "# Model evaluation"
   ]
  },
  {
   "cell_type": "code",
   "execution_count": 15,
   "id": "13559b55",
   "metadata": {},
   "outputs": [
    {
     "name": "stdout",
     "output_type": "stream",
     "text": [
      "Evaluating Augmented Linear Regression...\n",
      "MSE:\ttrain:8.9464E+09\ttest:8.6012E+09\n",
      "MAE:\ttrain:4.5016E+04\ttest:4.4708E+04\n",
      "MAPE:\ttrain:6.9865E+00\ttest:6.9292E+00\n",
      "Done!\n",
      "\n",
      "Evaluating Random Forest...\n",
      "MSE:\ttrain:1.0341E+08\ttest:7.0825E+08\n",
      "MAE:\ttrain:2.3289E+03\ttest:6.2858E+03\n",
      "MAPE:\ttrain:2.5052E-02\ttest:6.8774E-02\n",
      "Done!\n",
      "\n"
     ]
    }
   ],
   "source": [
    "for model_name, model in models.items():\n",
    "    print(f\"Evaluating {model_name}...\")\n",
    "\n",
    "    y_pred_train = model.predict(X_train)\n",
    "    y_pred_test = model.predict(X_test)\n",
    "\n",
    "    mse_test = mean_squared_error(y_test, y_pred_test)\n",
    "    mse_train = mean_squared_error(y_train, y_pred_train)\n",
    "    print(f\"MSE:\\ttrain:{mse_train:.4E}\\ttest:{mse_test:.4E}\")\n",
    "\n",
    "    mae_test = mean_absolute_error(y_test, y_pred_test)\n",
    "    mae_train = mean_absolute_error(y_train, y_pred_train)\n",
    "    print(f\"MAE:\\ttrain:{mae_train:.4E}\\ttest:{mae_test:.4E}\")\n",
    "\n",
    "    mape_test = mean_absolute_percentage_error(y_test, y_pred_test)\n",
    "    mape_train = mean_absolute_percentage_error(y_train, y_pred_train)\n",
    "    print(f\"MAPE:\\ttrain:{mape_train:.4E}\\ttest:{mape_test:.4E}\")\n",
    "\n",
    "    print(\"Done!\\n\")"
   ]
  },
  {
   "cell_type": "markdown",
   "id": "ec8e7b59",
   "metadata": {},
   "source": [
    "# Visualization"
   ]
  },
  {
   "cell_type": "code",
   "execution_count": 16,
   "id": "25802160",
   "metadata": {},
   "outputs": [
    {
     "data": {
      "text/plain": [
       "Text(0.5, 0, 'ecutwfc')"
      ]
     },
     "execution_count": 16,
     "metadata": {},
     "output_type": "execute_result"
    },
    {
     "data": {
      "image/png": "[encoded data removed]",
      "text/plain": [
       "<Figure size 864x576 with 6 Axes>"
      ]
     },
     "metadata": {
      "needs_background": "light"
     },
     "output_type": "display_data"
    }
   ],
   "source": [
    "n_models = len(models)\n",
    "fig, ax = plt.subplots(n_models,3,figsize=(12,4*n_models), sharey=True, squeeze=False)\n",
    "for j, (name, model) in enumerate(models.items()):\n",
    "    for i, col in enumerate(X_train.columns[:3]):\n",
    "        ax[j,i].scatter(X_train[col], y_train)\n",
    "        ax[j,i].scatter(X_test[col], y_test)\n",
    "        ax[j,i].scatter(X_test[col], model.predict(X_test))\n",
    "    ax[j,0].set_ylabel(name)\n",
    "ax[-1,0].set_xlabel(\"ecutrho\")\n",
    "ax[-1,1].set_xlabel('k_density')\n",
    "ax[-1,2].set_xlabel('ecutwfc')"
   ]
  },
  {
   "cell_type": "code",
   "execution_count": 17,
   "id": "0e36135f",
   "metadata": {},
   "outputs": [
    {
     "data": {
      "text/plain": [
       "<mpl_toolkits.mplot3d.art3d.Path3DCollection at 0x7fc91bdac7f0>"
      ]
     },
     "execution_count": 17,
     "metadata": {},
     "output_type": "execute_result"
    },
    {
     "data": {
      "image/png": "[encoded data removed]",
      "text/plain": [
       "<Figure size 432x288 with 1 Axes>"
      ]
     },
     "metadata": {
      "needs_background": "light"
     },
     "output_type": "display_data"
    }
   ],
   "source": [
    "fig = plt.figure()\n",
    "ax = fig.add_subplot(111, projection='3d')\n",
    "ax.scatter(X_train['ecutwfc'], X_train['k_density'], y_train)\n",
    "ax.scatter(X_test['ecutwfc'], X_test['k_density'], y_test)\n",
    "ax.scatter(X_test['ecutwfc'], X_test['k_density'], rf_model.predict(X_test))"
   ]
  },
  {
   "cell_type": "code",
   "execution_count": 18,
   "id": "91ec7bc7",
   "metadata": {},
   "outputs": [],
   "source": [
    "labels = dict(x=\"ecutwfc\", y=\"k_density\")"
   ]
  },
  {
   "cell_type": "markdown",
   "id": "97ad554d",
   "metadata": {},
   "source": [
    "# Hyperparameter optimization"
   ]
  },
  {
   "cell_type": "code",
   "execution_count": 31,
   "id": "5acbf3d2",
   "metadata": {},
   "outputs": [],
   "source": [
    "from sklearn.model_selection import GridSearchCV, RandomizedSearchCV"
   ]
  },
  {
   "cell_type": "markdown",
   "id": "f2626576",
   "metadata": {},
   "source": [
    "## Random Forest"
   ]
  },
  {
   "cell_type": "code",
   "execution_count": 9,
   "id": "d643c4fe",
   "metadata": {},
   "outputs": [],
   "source": [
    "rf_model = RandomForestRegressor(random_state=0, n_jobs=-1)"
   ]
  },
  {
   "cell_type": "code",
   "execution_count": 10,
   "id": "f0456dc8",
   "metadata": {},
   "outputs": [],
   "source": [
    "# Number of trees in random forest\n",
    "n_estimators = [int(x) for x in np.linspace(start = 10, stop = 1000, num = 10)]\n",
    "# Number of features to consider at every split\n",
    "max_features = ['auto', 'sqrt']\n",
    "# Maximum number of levels in tree\n",
    "max_depth = [int(x) for x in np.linspace(10, 110, num = 11)]\n",
    "max_depth.append(None)\n",
    "# Minimum number of samples required to split a node\n",
    "min_samples_split = [2, 5, 10]\n",
    "# Minimum number of samples required at each leaf node\n",
    "min_samples_leaf = [1, 2, 4]\n",
    "# Method of selecting samples for training each tree\n",
    "bootstrap = [True, False]\n",
    "# Create the random grid\n",
    "random_grid = {'n_estimators': n_estimators,\n",
    "               'max_features': max_features,\n",
    "               'max_depth': max_depth,\n",
    "               'min_samples_split': min_samples_split,\n",
    "               'min_samples_leaf': min_samples_leaf,\n",
    "               'bootstrap': bootstrap}\n",
    "\n",
    "random_grid = {'n_estimators': n_estimators,\n",
    "               'max_features': max_features,\n",
    "               'max_depth': max_depth}"
   ]
  },
  {
   "cell_type": "code",
   "execution_count": 11,
   "id": "9003cadf",
   "metadata": {},
   "outputs": [],
   "source": [
    "rf_random = RandomizedSearchCV(\n",
    "    estimator = rf_model,\n",
    "    param_distributions = random_grid,\n",
    "    scoring='neg_mean_absolute_percentage_error',\n",
    "    n_iter = 25,\n",
    "    cv = 3,\n",
    "    verbose=1,\n",
    "    n_jobs=-1)"
   ]
  },
  {
   "cell_type": "code",
   "execution_count": 12,
   "id": "28ffdc9a",
   "metadata": {},
   "outputs": [
    {
     "name": "stdout",
     "output_type": "stream",
     "text": [
      "Fitting 3 folds for each of 25 candidates, totalling 75 fits\n"
     ]
    },
    {
     "data": {
      "text/plain": [
       "RandomizedSearchCV(cv=3,\n",
       "                   estimator=RandomForestRegressor(n_jobs=-1, random_state=0),\n",
       "                   n_iter=25, n_jobs=-1,\n",
       "                   param_distributions={'max_depth': [10, 20, 30, 40, 50, 60,\n",
       "                                                      70, 80, 90, 100, 110,\n",
       "                                                      None],\n",
       "                                        'max_features': ['auto', 'sqrt'],\n",
       "                                        'n_estimators': [10, 120, 230, 340, 450,\n",
       "                                                         560, 670, 780, 890,\n",
       "                                                         1000]},\n",
       "                   verbose=1)"
      ]
     },
     "execution_count": 12,
     "metadata": {},
     "output_type": "execute_result"
    }
   ],
   "source": [
    "rf_random.fit(X_train, y_train)"
   ]
  },
  {
   "cell_type": "code",
   "execution_count": 13,
   "id": "85dba87a",
   "metadata": {},
   "outputs": [
    {
     "data": {
      "text/plain": [
       "{'n_estimators': 230, 'max_features': 'auto', 'max_depth': 40}"
      ]
     },
     "execution_count": 13,
     "metadata": {},
     "output_type": "execute_result"
    }
   ],
   "source": [
    "rf_random.best_params_"
   ]
  },
  {
   "cell_type": "code",
   "execution_count": 14,
   "id": "0c5deb03",
   "metadata": {},
   "outputs": [
    {
     "data": {
      "text/plain": [
       "RandomForestRegressor(max_depth=40, n_estimators=230)"
      ]
     },
     "execution_count": 14,
     "metadata": {},
     "output_type": "execute_result"
    }
   ],
   "source": [
    "rf_best = RandomForestRegressor()\n",
    "rf_best.set_params(**rf_random.best_params_)"
   ]
  },
  {
   "cell_type": "code",
   "execution_count": 15,
   "id": "0adb830c",
   "metadata": {},
   "outputs": [
    {
     "data": {
      "text/plain": [
       "RandomForestRegressor(max_depth=40, n_estimators=230)"
      ]
     },
     "execution_count": 15,
     "metadata": {},
     "output_type": "execute_result"
    }
   ],
   "source": [
    "rf_best.fit(X_train, y_train)"
   ]
  },
  {
   "cell_type": "code",
   "execution_count": 16,
   "id": "03305c11",
   "metadata": {},
   "outputs": [
    {
     "name": "stdout",
     "output_type": "stream",
     "text": [
      "MSE:\ttrain:1.0289E+08\ttest:7.0609E+08\n",
      "MAE:\ttrain:2.3547E+03\ttest:6.2717E+03\n",
      "MAPE:\ttrain:2.5641E-02\ttest:6.8861E-02\n",
      "Done!\n",
      "\n"
     ]
    }
   ],
   "source": [
    "y_pred_train = rf_best.predict(X_train)\n",
    "y_pred_test = rf_best.predict(X_test)\n",
    "\n",
    "mse_test = mean_squared_error(y_test, y_pred_test)\n",
    "mse_train = mean_squared_error(y_train, y_pred_train)\n",
    "print(f\"MSE:\\ttrain:{mse_train:.4E}\\ttest:{mse_test:.4E}\")\n",
    "\n",
    "mae_test = mean_absolute_error(y_test, y_pred_test)\n",
    "mae_train = mean_absolute_error(y_train, y_pred_train)\n",
    "print(f\"MAE:\\ttrain:{mae_train:.4E}\\ttest:{mae_test:.4E}\")\n",
    "\n",
    "mape_test = mean_absolute_percentage_error(y_test, y_pred_test)\n",
    "mape_train = mean_absolute_percentage_error(y_train, y_pred_train)\n",
    "print(f\"MAPE:\\ttrain:{mape_train:.4E}\\ttest:{mape_test:.4E}\")\n",
    "\n",
    "print(\"Done!\\n\")"
   ]
  },
  {
   "cell_type": "markdown",
   "id": "f463a3c4",
   "metadata": {},
   "source": [
    "## XGBoost"
   ]
  },
  {
   "cell_type": "code",
   "execution_count": 32,
   "id": "e9deb3a8",
   "metadata": {},
   "outputs": [],
   "source": [
    "xgb_model = xgb.XGBRegressor()\n",
    "random_grid = {'n_estimators' : [10, 50, 100, 500, 1000],\n",
    "               'booster': ['gbtree', 'gblinear', 'dart'],\n",
    "               'learning_rate': [0.02, 0.05, 0.1, 0.2, 0.3],\n",
    "               'min_split_loss': [0, 0.2, 0.4, 0.6, 0.8, 1.0],\n",
    "               'max_depth' : [4, 6, 8, 10, 12],\n",
    "               'lambda' : [0.5, 1, 1.5, 2.0],\n",
    "               'alpha' : [0.0, 0.5, 1.0, 1.5]\n",
    "              }"
   ]
  },
  {
   "cell_type": "code",
   "execution_count": 33,
   "id": "e1f5bf4d",
   "metadata": {},
   "outputs": [],
   "source": [
    "xgb_random = RandomizedSearchCV(estimator=xgb_model,\n",
    "                                param_distributions=random_grid,\n",
    "                                scoring='neg_mean_absolute_percentage_error',\n",
    "                                n_iter=25,\n",
    "                                cv=3,\n",
    "                                verbose=2,\n",
    "                               )"
   ]
  },
  {
   "cell_type": "code",
   "execution_count": 34,
   "id": "073e7557",
   "metadata": {},
   "outputs": [
    {
     "name": "stdout",
     "output_type": "stream",
     "text": [
      "Fitting 3 folds for each of 25 candidates, totalling 75 fits\n",
      "[CV] END alpha=1.5, booster=dart, lambda=1.5, learning_rate=0.05, max_depth=8, min_split_loss=0.2, n_estimators=50; total time=  30.9s\n",
      "[CV] END alpha=1.5, booster=dart, lambda=1.5, learning_rate=0.05, max_depth=8, min_split_loss=0.2, n_estimators=50; total time=  34.7s\n",
      "[CV] END alpha=1.5, booster=dart, lambda=1.5, learning_rate=0.05, max_depth=8, min_split_loss=0.2, n_estimators=50; total time=  30.5s\n",
      "[14:38:48] WARNING: /Users/runner/work/xgboost/xgboost/src/learner.cc:576: \n",
      "Parameters: { \"max_depth\", \"min_split_loss\" } might not be used.\n",
      "\n",
      "  This could be a false alarm, with some parameters getting used by language bindings but\n",
      "  then being mistakenly passed down to XGBoost core, or some parameter actually being used\n",
      "  but getting flagged wrongly here. Please open an issue if you find any such cases.\n",
      "\n",
      "\n",
      "[CV] END alpha=1.0, booster=gblinear, lambda=0.5, learning_rate=0.1, max_depth=4, min_split_loss=0.2, n_estimators=100; total time=   2.2s\n",
      "[14:38:51] WARNING: /Users/runner/work/xgboost/xgboost/src/learner.cc:576: \n",
      "Parameters: { \"max_depth\", \"min_split_loss\" } might not be used.\n",
      "\n",
      "  This could be a false alarm, with some parameters getting used by language bindings but\n",
      "  then being mistakenly passed down to XGBoost core, or some parameter actually being used\n",
      "  but getting flagged wrongly here. Please open an issue if you find any such cases.\n",
      "\n",
      "\n",
      "[CV] END alpha=1.0, booster=gblinear, lambda=0.5, learning_rate=0.1, max_depth=4, min_split_loss=0.2, n_estimators=100; total time=   2.1s\n",
      "[14:38:53] WARNING: /Users/runner/work/xgboost/xgboost/src/learner.cc:576: \n",
      "Parameters: { \"max_depth\", \"min_split_loss\" } might not be used.\n",
      "\n",
      "  This could be a false alarm, with some parameters getting used by language bindings but\n",
      "  then being mistakenly passed down to XGBoost core, or some parameter actually being used\n",
      "  but getting flagged wrongly here. Please open an issue if you find any such cases.\n",
      "\n",
      "\n",
      "[CV] END alpha=1.0, booster=gblinear, lambda=0.5, learning_rate=0.1, max_depth=4, min_split_loss=0.2, n_estimators=100; total time=   2.2s\n",
      "[14:38:55] WARNING: /Users/runner/work/xgboost/xgboost/src/learner.cc:576: \n",
      "Parameters: { \"max_depth\", \"min_split_loss\" } might not be used.\n",
      "\n",
      "  This could be a false alarm, with some parameters getting used by language bindings but\n",
      "  then being mistakenly passed down to XGBoost core, or some parameter actually being used\n",
      "  but getting flagged wrongly here. Please open an issue if you find any such cases.\n",
      "\n",
      "\n",
      "[CV] END alpha=0.5, booster=gblinear, lambda=1.5, learning_rate=0.1, max_depth=6, min_split_loss=1.0, n_estimators=100; total time=   2.0s\n",
      "[14:38:57] WARNING: /Users/runner/work/xgboost/xgboost/src/learner.cc:576: \n",
      "Parameters: { \"max_depth\", \"min_split_loss\" } might not be used.\n",
      "\n",
      "  This could be a false alarm, with some parameters getting used by language bindings but\n",
      "  then being mistakenly passed down to XGBoost core, or some parameter actually being used\n",
      "  but getting flagged wrongly here. Please open an issue if you find any such cases.\n",
      "\n",
      "\n",
      "[CV] END alpha=0.5, booster=gblinear, lambda=1.5, learning_rate=0.1, max_depth=6, min_split_loss=1.0, n_estimators=100; total time=   1.9s\n",
      "[14:38:59] WARNING: /Users/runner/work/xgboost/xgboost/src/learner.cc:576: \n",
      "Parameters: { \"max_depth\", \"min_split_loss\" } might not be used.\n",
      "\n",
      "  This could be a false alarm, with some parameters getting used by language bindings but\n",
      "  then being mistakenly passed down to XGBoost core, or some parameter actually being used\n",
      "  but getting flagged wrongly here. Please open an issue if you find any such cases.\n",
      "\n",
      "\n",
      "[CV] END alpha=0.5, booster=gblinear, lambda=1.5, learning_rate=0.1, max_depth=6, min_split_loss=1.0, n_estimators=100; total time=   1.8s\n",
      "[14:39:01] WARNING: /Users/runner/work/xgboost/xgboost/src/learner.cc:576: \n",
      "Parameters: { \"max_depth\", \"min_split_loss\" } might not be used.\n",
      "\n",
      "  This could be a false alarm, with some parameters getting used by language bindings but\n",
      "  then being mistakenly passed down to XGBoost core, or some parameter actually being used\n",
      "  but getting flagged wrongly here. Please open an issue if you find any such cases.\n",
      "\n",
      "\n",
      "[CV] END alpha=1.0, booster=gblinear, lambda=1.5, learning_rate=0.3, max_depth=6, min_split_loss=0, n_estimators=1000; total time=  16.8s\n",
      "[14:39:17] WARNING: /Users/runner/work/xgboost/xgboost/src/learner.cc:576: \n",
      "Parameters: { \"max_depth\", \"min_split_loss\" } might not be used.\n",
      "\n",
      "  This could be a false alarm, with some parameters getting used by language bindings but\n",
      "  then being mistakenly passed down to XGBoost core, or some parameter actually being used\n",
      "  but getting flagged wrongly here. Please open an issue if you find any such cases.\n",
      "\n",
      "\n",
      "[CV] END alpha=1.0, booster=gblinear, lambda=1.5, learning_rate=0.3, max_depth=6, min_split_loss=0, n_estimators=1000; total time=  12.8s\n",
      "[14:39:30] WARNING: /Users/runner/work/xgboost/xgboost/src/learner.cc:576: \n",
      "Parameters: { \"max_depth\", \"min_split_loss\" } might not be used.\n",
      "\n",
      "  This could be a false alarm, with some parameters getting used by language bindings but\n",
      "  then being mistakenly passed down to XGBoost core, or some parameter actually being used\n",
      "  but getting flagged wrongly here. Please open an issue if you find any such cases.\n",
      "\n",
      "\n",
      "[CV] END alpha=1.0, booster=gblinear, lambda=1.5, learning_rate=0.3, max_depth=6, min_split_loss=0, n_estimators=1000; total time=   9.3s\n",
      "[CV] END alpha=1.0, booster=gbtree, lambda=2.0, learning_rate=0.1, max_depth=12, min_split_loss=0.2, n_estimators=10; total time=   2.9s\n",
      "[CV] END alpha=1.0, booster=gbtree, lambda=2.0, learning_rate=0.1, max_depth=12, min_split_loss=0.2, n_estimators=10; total time=   2.6s\n",
      "[CV] END alpha=1.0, booster=gbtree, lambda=2.0, learning_rate=0.1, max_depth=12, min_split_loss=0.2, n_estimators=10; total time=   2.6s\n",
      "[CV] END alpha=0.5, booster=gbtree, lambda=1, learning_rate=0.1, max_depth=12, min_split_loss=0.2, n_estimators=500; total time= 2.2min\n",
      "[CV] END alpha=0.5, booster=gbtree, lambda=1, learning_rate=0.1, max_depth=12, min_split_loss=0.2, n_estimators=500; total time= 2.2min\n",
      "[CV] END alpha=0.5, booster=gbtree, lambda=1, learning_rate=0.1, max_depth=12, min_split_loss=0.2, n_estimators=500; total time= 2.3min\n",
      "[CV] END alpha=0.5, booster=gbtree, lambda=1, learning_rate=0.05, max_depth=4, min_split_loss=0.8, n_estimators=100; total time=   7.0s\n",
      "[CV] END alpha=0.5, booster=gbtree, lambda=1, learning_rate=0.05, max_depth=4, min_split_loss=0.8, n_estimators=100; total time=   7.2s\n",
      "[CV] END alpha=0.5, booster=gbtree, lambda=1, learning_rate=0.05, max_depth=4, min_split_loss=0.8, n_estimators=100; total time=   6.7s\n",
      "[CV] END alpha=0.5, booster=dart, lambda=1.5, learning_rate=0.02, max_depth=12, min_split_loss=0, n_estimators=10; total time=   3.0s\n",
      "[CV] END alpha=0.5, booster=dart, lambda=1.5, learning_rate=0.02, max_depth=12, min_split_loss=0, n_estimators=10; total time=   2.9s\n",
      "[CV] END alpha=0.5, booster=dart, lambda=1.5, learning_rate=0.02, max_depth=12, min_split_loss=0, n_estimators=10; total time=   2.9s\n",
      "[CV] END alpha=0.5, booster=dart, lambda=0.5, learning_rate=0.3, max_depth=10, min_split_loss=0.4, n_estimators=10; total time=   2.9s\n",
      "[CV] END alpha=0.5, booster=dart, lambda=0.5, learning_rate=0.3, max_depth=10, min_split_loss=0.4, n_estimators=10; total time=   2.7s\n",
      "[CV] END alpha=0.5, booster=dart, lambda=0.5, learning_rate=0.3, max_depth=10, min_split_loss=0.4, n_estimators=10; total time=   2.6s\n",
      "[14:47:04] WARNING: /Users/runner/work/xgboost/xgboost/src/learner.cc:576: \n",
      "Parameters: { \"max_depth\", \"min_split_loss\" } might not be used.\n",
      "\n",
      "  This could be a false alarm, with some parameters getting used by language bindings but\n",
      "  then being mistakenly passed down to XGBoost core, or some parameter actually being used\n",
      "  but getting flagged wrongly here. Please open an issue if you find any such cases.\n",
      "\n",
      "\n",
      "[CV] END alpha=1.5, booster=gblinear, lambda=2.0, learning_rate=0.02, max_depth=6, min_split_loss=0.2, n_estimators=1000; total time=   9.0s\n",
      "[14:47:13] WARNING: /Users/runner/work/xgboost/xgboost/src/learner.cc:576: \n",
      "Parameters: { \"max_depth\", \"min_split_loss\" } might not be used.\n",
      "\n",
      "  This could be a false alarm, with some parameters getting used by language bindings but\n",
      "  then being mistakenly passed down to XGBoost core, or some parameter actually being used\n",
      "  but getting flagged wrongly here. Please open an issue if you find any such cases.\n",
      "\n",
      "\n"
     ]
    },
    {
     "name": "stdout",
     "output_type": "stream",
     "text": [
      "[CV] END alpha=1.5, booster=gblinear, lambda=2.0, learning_rate=0.02, max_depth=6, min_split_loss=0.2, n_estimators=1000; total time=   8.5s\n",
      "[14:47:21] WARNING: /Users/runner/work/xgboost/xgboost/src/learner.cc:576: \n",
      "Parameters: { \"max_depth\", \"min_split_loss\" } might not be used.\n",
      "\n",
      "  This could be a false alarm, with some parameters getting used by language bindings but\n",
      "  then being mistakenly passed down to XGBoost core, or some parameter actually being used\n",
      "  but getting flagged wrongly here. Please open an issue if you find any such cases.\n",
      "\n",
      "\n",
      "[CV] END alpha=1.5, booster=gblinear, lambda=2.0, learning_rate=0.02, max_depth=6, min_split_loss=0.2, n_estimators=1000; total time=   8.6s\n",
      "[CV] END alpha=0.5, booster=dart, lambda=1.5, learning_rate=0.1, max_depth=4, min_split_loss=1.0, n_estimators=50; total time=  10.6s\n",
      "[CV] END alpha=0.5, booster=dart, lambda=1.5, learning_rate=0.1, max_depth=4, min_split_loss=1.0, n_estimators=50; total time=  11.0s\n",
      "[CV] END alpha=0.5, booster=dart, lambda=1.5, learning_rate=0.1, max_depth=4, min_split_loss=1.0, n_estimators=50; total time=  11.8s\n",
      "[CV] END alpha=0.5, booster=gbtree, lambda=1, learning_rate=0.05, max_depth=10, min_split_loss=0.2, n_estimators=1000; total time= 3.2min\n",
      "[CV] END alpha=0.5, booster=gbtree, lambda=1, learning_rate=0.05, max_depth=10, min_split_loss=0.2, n_estimators=1000; total time= 3.0min\n",
      "[CV] END alpha=0.5, booster=gbtree, lambda=1, learning_rate=0.05, max_depth=10, min_split_loss=0.2, n_estimators=1000; total time= 3.2min\n",
      "[14:57:27] WARNING: /Users/runner/work/xgboost/xgboost/src/learner.cc:576: \n",
      "Parameters: { \"max_depth\", \"min_split_loss\" } might not be used.\n",
      "\n",
      "  This could be a false alarm, with some parameters getting used by language bindings but\n",
      "  then being mistakenly passed down to XGBoost core, or some parameter actually being used\n",
      "  but getting flagged wrongly here. Please open an issue if you find any such cases.\n",
      "\n",
      "\n",
      "[CV] END alpha=1.0, booster=gblinear, lambda=1.5, learning_rate=0.2, max_depth=8, min_split_loss=0.6, n_estimators=100; total time=   1.1s\n",
      "[14:57:28] WARNING: /Users/runner/work/xgboost/xgboost/src/learner.cc:576: \n",
      "Parameters: { \"max_depth\", \"min_split_loss\" } might not be used.\n",
      "\n",
      "  This could be a false alarm, with some parameters getting used by language bindings but\n",
      "  then being mistakenly passed down to XGBoost core, or some parameter actually being used\n",
      "  but getting flagged wrongly here. Please open an issue if you find any such cases.\n",
      "\n",
      "\n",
      "[CV] END alpha=1.0, booster=gblinear, lambda=1.5, learning_rate=0.2, max_depth=8, min_split_loss=0.6, n_estimators=100; total time=   1.1s\n",
      "[14:57:29] WARNING: /Users/runner/work/xgboost/xgboost/src/learner.cc:576: \n",
      "Parameters: { \"max_depth\", \"min_split_loss\" } might not be used.\n",
      "\n",
      "  This could be a false alarm, with some parameters getting used by language bindings but\n",
      "  then being mistakenly passed down to XGBoost core, or some parameter actually being used\n",
      "  but getting flagged wrongly here. Please open an issue if you find any such cases.\n",
      "\n",
      "\n",
      "[CV] END alpha=1.0, booster=gblinear, lambda=1.5, learning_rate=0.2, max_depth=8, min_split_loss=0.6, n_estimators=100; total time=   1.2s\n",
      "[CV] END alpha=0.5, booster=dart, lambda=1, learning_rate=0.1, max_depth=10, min_split_loss=0.8, n_estimators=100; total time=  54.8s\n",
      "[CV] END alpha=0.5, booster=dart, lambda=1, learning_rate=0.1, max_depth=10, min_split_loss=0.8, n_estimators=100; total time=  54.3s\n",
      "[CV] END alpha=0.5, booster=dart, lambda=1, learning_rate=0.1, max_depth=10, min_split_loss=0.8, n_estimators=100; total time=  57.9s\n",
      "[CV] END alpha=1.0, booster=dart, lambda=2.0, learning_rate=0.1, max_depth=4, min_split_loss=0.6, n_estimators=10; total time=   1.3s\n",
      "[CV] END alpha=1.0, booster=dart, lambda=2.0, learning_rate=0.1, max_depth=4, min_split_loss=0.6, n_estimators=10; total time=   1.3s\n",
      "[CV] END alpha=1.0, booster=dart, lambda=2.0, learning_rate=0.1, max_depth=4, min_split_loss=0.6, n_estimators=10; total time=   1.2s\n",
      "[CV] END alpha=0.0, booster=dart, lambda=0.5, learning_rate=0.3, max_depth=10, min_split_loss=0.8, n_estimators=500; total time=16.8min\n",
      "[CV] END alpha=0.0, booster=dart, lambda=0.5, learning_rate=0.3, max_depth=10, min_split_loss=0.8, n_estimators=500; total time=16.6min\n",
      "[CV] END alpha=0.0, booster=dart, lambda=0.5, learning_rate=0.3, max_depth=10, min_split_loss=0.8, n_estimators=500; total time=16.8min\n",
      "[15:50:37] WARNING: /Users/runner/work/xgboost/xgboost/src/learner.cc:576: \n",
      "Parameters: { \"max_depth\", \"min_split_loss\" } might not be used.\n",
      "\n",
      "  This could be a false alarm, with some parameters getting used by language bindings but\n",
      "  then being mistakenly passed down to XGBoost core, or some parameter actually being used\n",
      "  but getting flagged wrongly here. Please open an issue if you find any such cases.\n",
      "\n",
      "\n",
      "[CV] END alpha=1.5, booster=gblinear, lambda=1, learning_rate=0.1, max_depth=10, min_split_loss=0.6, n_estimators=50; total time=   0.5s\n",
      "[15:50:37] WARNING: /Users/runner/work/xgboost/xgboost/src/learner.cc:576: \n",
      "Parameters: { \"max_depth\", \"min_split_loss\" } might not be used.\n",
      "\n",
      "  This could be a false alarm, with some parameters getting used by language bindings but\n",
      "  then being mistakenly passed down to XGBoost core, or some parameter actually being used\n",
      "  but getting flagged wrongly here. Please open an issue if you find any such cases.\n",
      "\n",
      "\n",
      "[CV] END alpha=1.5, booster=gblinear, lambda=1, learning_rate=0.1, max_depth=10, min_split_loss=0.6, n_estimators=50; total time=   0.5s\n",
      "[15:50:38] WARNING: /Users/runner/work/xgboost/xgboost/src/learner.cc:576: \n",
      "Parameters: { \"max_depth\", \"min_split_loss\" } might not be used.\n",
      "\n",
      "  This could be a false alarm, with some parameters getting used by language bindings but\n",
      "  then being mistakenly passed down to XGBoost core, or some parameter actually being used\n",
      "  but getting flagged wrongly here. Please open an issue if you find any such cases.\n",
      "\n",
      "\n",
      "[CV] END alpha=1.5, booster=gblinear, lambda=1, learning_rate=0.1, max_depth=10, min_split_loss=0.6, n_estimators=50; total time=   0.5s\n",
      "[CV] END alpha=0.0, booster=gbtree, lambda=1.5, learning_rate=0.2, max_depth=8, min_split_loss=1.0, n_estimators=100; total time=  13.8s\n",
      "[CV] END alpha=0.0, booster=gbtree, lambda=1.5, learning_rate=0.2, max_depth=8, min_split_loss=1.0, n_estimators=100; total time=  21.7s\n",
      "[CV] END alpha=0.0, booster=gbtree, lambda=1.5, learning_rate=0.2, max_depth=8, min_split_loss=1.0, n_estimators=100; total time=  13.4s\n",
      "[CV] END alpha=1.0, booster=gbtree, lambda=2.0, learning_rate=0.05, max_depth=10, min_split_loss=0.6, n_estimators=50; total time=   9.6s\n",
      "[CV] END alpha=1.0, booster=gbtree, lambda=2.0, learning_rate=0.05, max_depth=10, min_split_loss=0.6, n_estimators=50; total time=   9.3s\n",
      "[CV] END alpha=1.0, booster=gbtree, lambda=2.0, learning_rate=0.05, max_depth=10, min_split_loss=0.6, n_estimators=50; total time=   9.3s\n",
      "[CV] END alpha=1.0, booster=gbtree, lambda=2.0, learning_rate=0.3, max_depth=6, min_split_loss=0.8, n_estimators=100; total time=  10.5s\n",
      "[CV] END alpha=1.0, booster=gbtree, lambda=2.0, learning_rate=0.3, max_depth=6, min_split_loss=0.8, n_estimators=100; total time=   9.8s\n",
      "[CV] END alpha=1.0, booster=gbtree, lambda=2.0, learning_rate=0.3, max_depth=6, min_split_loss=0.8, n_estimators=100; total time=   9.7s\n",
      "[CV] END alpha=0.5, booster=dart, lambda=1.5, learning_rate=0.05, max_depth=4, min_split_loss=0.2, n_estimators=50; total time=  11.2s\n",
      "[CV] END alpha=0.5, booster=dart, lambda=1.5, learning_rate=0.05, max_depth=4, min_split_loss=0.2, n_estimators=50; total time=  10.3s\n",
      "[CV] END alpha=0.5, booster=dart, lambda=1.5, learning_rate=0.05, max_depth=4, min_split_loss=0.2, n_estimators=50; total time=  10.3s\n",
      "[15:52:57] WARNING: /Users/runner/work/xgboost/xgboost/src/learner.cc:576: \n",
      "Parameters: { \"max_depth\", \"min_split_loss\" } might not be used.\n",
      "\n",
      "  This could be a false alarm, with some parameters getting used by language bindings but\n",
      "  then being mistakenly passed down to XGBoost core, or some parameter actually being used\n",
      "  but getting flagged wrongly here. Please open an issue if you find any such cases.\n",
      "\n",
      "\n",
      "[CV] END alpha=1.0, booster=gblinear, lambda=1.5, learning_rate=0.2, max_depth=4, min_split_loss=0.4, n_estimators=10; total time=   0.2s\n",
      "[15:52:57] WARNING: /Users/runner/work/xgboost/xgboost/src/learner.cc:576: \n",
      "Parameters: { \"max_depth\", \"min_split_loss\" } might not be used.\n",
      "\n",
      "  This could be a false alarm, with some parameters getting used by language bindings but\n",
      "  then being mistakenly passed down to XGBoost core, or some parameter actually being used\n",
      "  but getting flagged wrongly here. Please open an issue if you find any such cases.\n",
      "\n",
      "\n",
      "[CV] END alpha=1.0, booster=gblinear, lambda=1.5, learning_rate=0.2, max_depth=4, min_split_loss=0.4, n_estimators=10; total time=   0.2s\n"
     ]
    },
    {
     "name": "stdout",
     "output_type": "stream",
     "text": [
      "[15:52:58] WARNING: /Users/runner/work/xgboost/xgboost/src/learner.cc:576: \n",
      "Parameters: { \"max_depth\", \"min_split_loss\" } might not be used.\n",
      "\n",
      "  This could be a false alarm, with some parameters getting used by language bindings but\n",
      "  then being mistakenly passed down to XGBoost core, or some parameter actually being used\n",
      "  but getting flagged wrongly here. Please open an issue if you find any such cases.\n",
      "\n",
      "\n",
      "[CV] END alpha=1.0, booster=gblinear, lambda=1.5, learning_rate=0.2, max_depth=4, min_split_loss=0.4, n_estimators=10; total time=   0.2s\n",
      "[CV] END alpha=0.5, booster=dart, lambda=2.0, learning_rate=0.05, max_depth=6, min_split_loss=0, n_estimators=10; total time=   1.4s\n",
      "[CV] END alpha=0.5, booster=dart, lambda=2.0, learning_rate=0.05, max_depth=6, min_split_loss=0, n_estimators=10; total time=   1.4s\n",
      "[CV] END alpha=0.5, booster=dart, lambda=2.0, learning_rate=0.05, max_depth=6, min_split_loss=0, n_estimators=10; total time=   1.9s\n",
      "[CV] END alpha=1.5, booster=gbtree, lambda=1, learning_rate=0.3, max_depth=10, min_split_loss=0.8, n_estimators=500; total time= 1.4min\n",
      "[CV] END alpha=1.5, booster=gbtree, lambda=1, learning_rate=0.3, max_depth=10, min_split_loss=0.8, n_estimators=500; total time= 1.6min\n",
      "[CV] END alpha=1.5, booster=gbtree, lambda=1, learning_rate=0.3, max_depth=10, min_split_loss=0.8, n_estimators=500; total time= 1.6min\n",
      "[15:57:36] WARNING: /Users/runner/work/xgboost/xgboost/src/learner.cc:576: \n",
      "Parameters: { \"max_depth\", \"min_split_loss\" } might not be used.\n",
      "\n",
      "  This could be a false alarm, with some parameters getting used by language bindings but\n",
      "  then being mistakenly passed down to XGBoost core, or some parameter actually being used\n",
      "  but getting flagged wrongly here. Please open an issue if you find any such cases.\n",
      "\n",
      "\n",
      "[CV] END alpha=0.0, booster=gblinear, lambda=1.5, learning_rate=0.2, max_depth=4, min_split_loss=0.8, n_estimators=50; total time=   0.5s\n",
      "[15:57:36] WARNING: /Users/runner/work/xgboost/xgboost/src/learner.cc:576: \n",
      "Parameters: { \"max_depth\", \"min_split_loss\" } might not be used.\n",
      "\n",
      "  This could be a false alarm, with some parameters getting used by language bindings but\n",
      "  then being mistakenly passed down to XGBoost core, or some parameter actually being used\n",
      "  but getting flagged wrongly here. Please open an issue if you find any such cases.\n",
      "\n",
      "\n",
      "[CV] END alpha=0.0, booster=gblinear, lambda=1.5, learning_rate=0.2, max_depth=4, min_split_loss=0.8, n_estimators=50; total time=   0.5s\n",
      "[15:57:37] WARNING: /Users/runner/work/xgboost/xgboost/src/learner.cc:576: \n",
      "Parameters: { \"max_depth\", \"min_split_loss\" } might not be used.\n",
      "\n",
      "  This could be a false alarm, with some parameters getting used by language bindings but\n",
      "  then being mistakenly passed down to XGBoost core, or some parameter actually being used\n",
      "  but getting flagged wrongly here. Please open an issue if you find any such cases.\n",
      "\n",
      "\n",
      "[CV] END alpha=0.0, booster=gblinear, lambda=1.5, learning_rate=0.2, max_depth=4, min_split_loss=0.8, n_estimators=50; total time=   0.6s\n"
     ]
    },
    {
     "data": {
      "text/plain": [
       "RandomizedSearchCV(cv=3,\n",
       "                   estimator=XGBRegressor(base_score=None, booster=None,\n",
       "                                          colsample_bylevel=None,\n",
       "                                          colsample_bynode=None,\n",
       "                                          colsample_bytree=None,\n",
       "                                          enable_categorical=False, gamma=None,\n",
       "                                          gpu_id=None, importance_type=None,\n",
       "                                          interaction_constraints=None,\n",
       "                                          learning_rate=None,\n",
       "                                          max_delta_step=None, max_depth=None,\n",
       "                                          min_child_weight=None, missing=nan,\n",
       "                                          monotone_constraints=...\n",
       "                                          validate_parameters=None,\n",
       "                                          verbosity=None),\n",
       "                   n_iter=25,\n",
       "                   param_distributions={'alpha': [0.0, 0.5, 1.0, 1.5],\n",
       "                                        'booster': ['gbtree', 'gblinear',\n",
       "                                                    'dart'],\n",
       "                                        'lambda': [0.5, 1, 1.5, 2.0],\n",
       "                                        'learning_rate': [0.02, 0.05, 0.1, 0.2,\n",
       "                                                          0.3],\n",
       "                                        'max_depth': [4, 6, 8, 10, 12],\n",
       "                                        'min_split_loss': [0, 0.2, 0.4, 0.6,\n",
       "                                                           0.8, 1.0],\n",
       "                                        'n_estimators': [10, 50, 100, 500,\n",
       "                                                         1000]},\n",
       "                   scoring='neg_mean_absolute_percentage_error', verbose=2)"
      ]
     },
     "execution_count": 34,
     "metadata": {},
     "output_type": "execute_result"
    }
   ],
   "source": [
    "xgb_random.fit(X_train, y_train)"
   ]
  },
  {
   "cell_type": "code",
   "execution_count": 35,
   "id": "a1f0cd4b",
   "metadata": {},
   "outputs": [
    {
     "data": {
      "text/plain": [
       "{'n_estimators': 500,\n",
       " 'min_split_loss': 0.2,\n",
       " 'max_depth': 12,\n",
       " 'learning_rate': 0.1,\n",
       " 'lambda': 1,\n",
       " 'booster': 'gbtree',\n",
       " 'alpha': 0.5}"
      ]
     },
     "execution_count": 35,
     "metadata": {},
     "output_type": "execute_result"
    }
   ],
   "source": [
    "xgb_random.best_params_"
   ]
  },
  {
   "cell_type": "code",
   "execution_count": 36,
   "id": "495c1322",
   "metadata": {},
   "outputs": [
    {
     "data": {
      "text/plain": [
       "XGBRegressor(alpha=0.5, base_score=0.5, booster='gbtree', colsample_bylevel=1,\n",
       "             colsample_bynode=1, colsample_bytree=1, enable_categorical=False,\n",
       "             gamma=0.200000003, gpu_id=-1, importance_type=None,\n",
       "             interaction_constraints='', lambda=1, learning_rate=0.1,\n",
       "             max_delta_step=0, max_depth=12, min_child_weight=1,\n",
       "             min_split_loss=0.2, missing=nan, monotone_constraints='()',\n",
       "             n_estimators=500, n_jobs=4, num_parallel_tree=1, predictor='auto',\n",
       "             random_state=0, reg_alpha=0.5, reg_lambda=1, scale_pos_weight=1,\n",
       "             subsample=1, tree_method='exact', validate_parameters=1, ...)"
      ]
     },
     "execution_count": 36,
     "metadata": {},
     "output_type": "execute_result"
    }
   ],
   "source": [
    "xgb_best = xgb.XGBRegressor()\n",
    "xgb_best.set_params(**xgb_random.best_params_)\n",
    "xgb_best.fit(X_train, y_train)\n"
   ]
  },
  {
   "cell_type": "code",
   "execution_count": 37,
   "id": "0b0ecc15",
   "metadata": {},
   "outputs": [
    {
     "name": "stdout",
     "output_type": "stream",
     "text": [
      "MSE:\ttrain:8.5976E+07\ttest:6.9596E+08\n",
      "MAE:\ttrain:3.1102E+03\ttest:6.6150E+03\n",
      "MAPE:\ttrain:9.4001E-02\ttest:1.2534E-01\n",
      "Done!\n",
      "\n"
     ]
    }
   ],
   "source": [
    "y_pred_train = xgb_best.predict(X_train)\n",
    "y_pred_test = xgb_best.predict(X_test)\n",
    "\n",
    "mse_test = mean_squared_error(y_test, y_pred_test)\n",
    "mse_train = mean_squared_error(y_train, y_pred_train)\n",
    "print(f\"MSE:\\ttrain:{mse_train:.4E}\\ttest:{mse_test:.4E}\")\n",
    "\n",
    "mae_test = mean_absolute_error(y_test, y_pred_test)\n",
    "mae_train = mean_absolute_error(y_train, y_pred_train)\n",
    "print(f\"MAE:\\ttrain:{mae_train:.4E}\\ttest:{mae_test:.4E}\")\n",
    "\n",
    "mape_test = mean_absolute_percentage_error(y_test, y_pred_test)\n",
    "mape_train = mean_absolute_percentage_error(y_train, y_pred_train)\n",
    "print(f\"MAPE:\\ttrain:{mape_train:.4E}\\ttest:{mape_test:.4E}\")\n",
    "\n",
    "print(\"Done!\\n\")"
   ]
  },
  {
   "cell_type": "markdown",
   "id": "bba88b39",
   "metadata": {},
   "source": [
    "## LGBM"
   ]
  },
  {
   "cell_type": "code",
   "execution_count": 66,
   "id": "db9849e0",
   "metadata": {},
   "outputs": [],
   "source": [
    "lgbm_model = lgb.LGBMRegressor()\n",
    "random_grid = {'n_estimators' : [10, 50, 100, 500, 1000],\n",
    "               'boosting_type': ['gbdt', 'dart', 'goss', 'rf'],\n",
    "               'learning_rate': [0.02, 0.05, 0.1, 0.2, 0.3],\n",
    "               'num_leaves' : [5, 10, 25, 50, 100],\n",
    "               'max_depth' : [4, 6, 8, 10, 12],\n",
    "               'reg_lambda' : [0.0, 0.1, 0.5, 1.0, 1.5],\n",
    "               'reg_alpha' : [0.0, 0.1, 0.5, 1.0, 1.5]\n",
    "              }"
   ]
  },
  {
   "cell_type": "code",
   "execution_count": 67,
   "id": "0e933812",
   "metadata": {},
   "outputs": [],
   "source": [
    "lgbm_random = RandomizedSearchCV(estimator=lgbm_model,\n",
    "                                param_distributions=random_grid,\n",
    "                                scoring='neg_mean_absolute_percentage_error',\n",
    "                                n_iter=25,\n",
    "                                cv=3,\n",
    "                                verbose=2,\n",
    "                               )"
   ]
  },
  {
   "cell_type": "code",
   "execution_count": 68,
   "id": "2a336c12",
   "metadata": {},
   "outputs": [
    {
     "name": "stdout",
     "output_type": "stream",
     "text": [
      "Fitting 3 folds for each of 25 candidates, totalling 75 fits\n",
      "[CV] END boosting_type=gbdt, learning_rate=0.05, max_depth=4, n_estimators=1000, num_leaves=5, reg_alpha=1.0, reg_lambda=1.0; total time=   4.0s\n",
      "[CV] END boosting_type=gbdt, learning_rate=0.05, max_depth=4, n_estimators=1000, num_leaves=5, reg_alpha=1.0, reg_lambda=1.0; total time=   7.7s\n",
      "[CV] END boosting_type=gbdt, learning_rate=0.05, max_depth=4, n_estimators=1000, num_leaves=5, reg_alpha=1.0, reg_lambda=1.0; total time=  10.3s\n",
      "[CV] END boosting_type=gbdt, learning_rate=0.1, max_depth=4, n_estimators=50, num_leaves=5, reg_alpha=0.5, reg_lambda=1.0; total time=   0.7s\n",
      "[CV] END boosting_type=gbdt, learning_rate=0.1, max_depth=4, n_estimators=50, num_leaves=5, reg_alpha=0.5, reg_lambda=1.0; total time=   0.6s\n",
      "[CV] END boosting_type=gbdt, learning_rate=0.1, max_depth=4, n_estimators=50, num_leaves=5, reg_alpha=0.5, reg_lambda=1.0; total time=   1.0s\n"
     ]
    },
    {
     "name": "stderr",
     "output_type": "stream",
     "text": [
      "/Users/philipp/opt/anaconda3/lib/python3.8/site-packages/sklearn/model_selection/_validation.py:610: FitFailedWarning: Estimator fit failed. The score on this train-test partition for these parameters will be set to nan. Details: \n",
      "Traceback (most recent call last):\n",
      "  File \"/Users/philipp/opt/anaconda3/lib/python3.8/site-packages/sklearn/model_selection/_validation.py\", line 593, in _fit_and_score\n",
      "    estimator.fit(X_train, y_train, **fit_params)\n",
      "  File \"/Users/philipp/opt/anaconda3/lib/python3.8/site-packages/lightgbm/sklearn.py\", line 895, in fit\n",
      "    super().fit(X, y, sample_weight=sample_weight, init_score=init_score,\n",
      "  File \"/Users/philipp/opt/anaconda3/lib/python3.8/site-packages/lightgbm/sklearn.py\", line 748, in fit\n",
      "    self._Booster = train(\n",
      "  File \"/Users/philipp/opt/anaconda3/lib/python3.8/site-packages/lightgbm/engine.py\", line 271, in train\n",
      "    booster = Booster(params=params, train_set=train_set)\n",
      "  File \"/Users/philipp/opt/anaconda3/lib/python3.8/site-packages/lightgbm/basic.py\", line 2610, in __init__\n",
      "    _safe_call(_LIB.LGBM_BoosterCreate(\n",
      "  File \"/Users/philipp/opt/anaconda3/lib/python3.8/site-packages/lightgbm/basic.py\", line 125, in _safe_call\n",
      "    raise LightGBMError(_LIB.LGBM_GetLastError().decode('utf-8'))\n",
      "lightgbm.basic.LightGBMError: Check failed: config->bagging_freq > 0 && config->bagging_fraction < 1.0f && config->bagging_fraction > 0.0f at /Users/runner/work/1/s/python-package/compile/src/boosting/rf.hpp, line 35 .\n",
      "\n",
      "\n",
      "  warnings.warn(\"Estimator fit failed. The score on this train-test\"\n"
     ]
    },
    {
     "name": "stdout",
     "output_type": "stream",
     "text": [
      "[CV] END boosting_type=rf, learning_rate=0.02, max_depth=10, n_estimators=50, num_leaves=5, reg_alpha=1.5, reg_lambda=1.0; total time=   0.3s\n"
     ]
    },
    {
     "name": "stderr",
     "output_type": "stream",
     "text": [
      "/Users/philipp/opt/anaconda3/lib/python3.8/site-packages/sklearn/model_selection/_validation.py:610: FitFailedWarning: Estimator fit failed. The score on this train-test partition for these parameters will be set to nan. Details: \n",
      "Traceback (most recent call last):\n",
      "  File \"/Users/philipp/opt/anaconda3/lib/python3.8/site-packages/sklearn/model_selection/_validation.py\", line 593, in _fit_and_score\n",
      "    estimator.fit(X_train, y_train, **fit_params)\n",
      "  File \"/Users/philipp/opt/anaconda3/lib/python3.8/site-packages/lightgbm/sklearn.py\", line 895, in fit\n",
      "    super().fit(X, y, sample_weight=sample_weight, init_score=init_score,\n",
      "  File \"/Users/philipp/opt/anaconda3/lib/python3.8/site-packages/lightgbm/sklearn.py\", line 748, in fit\n",
      "    self._Booster = train(\n",
      "  File \"/Users/philipp/opt/anaconda3/lib/python3.8/site-packages/lightgbm/engine.py\", line 271, in train\n",
      "    booster = Booster(params=params, train_set=train_set)\n",
      "  File \"/Users/philipp/opt/anaconda3/lib/python3.8/site-packages/lightgbm/basic.py\", line 2610, in __init__\n",
      "    _safe_call(_LIB.LGBM_BoosterCreate(\n",
      "  File \"/Users/philipp/opt/anaconda3/lib/python3.8/site-packages/lightgbm/basic.py\", line 125, in _safe_call\n",
      "    raise LightGBMError(_LIB.LGBM_GetLastError().decode('utf-8'))\n",
      "lightgbm.basic.LightGBMError: Check failed: config->bagging_freq > 0 && config->bagging_fraction < 1.0f && config->bagging_fraction > 0.0f at /Users/runner/work/1/s/python-package/compile/src/boosting/rf.hpp, line 35 .\n",
      "\n",
      "\n",
      "  warnings.warn(\"Estimator fit failed. The score on this train-test\"\n"
     ]
    },
    {
     "name": "stdout",
     "output_type": "stream",
     "text": [
      "[CV] END boosting_type=rf, learning_rate=0.02, max_depth=10, n_estimators=50, num_leaves=5, reg_alpha=1.5, reg_lambda=1.0; total time=   0.2s\n"
     ]
    },
    {
     "name": "stderr",
     "output_type": "stream",
     "text": [
      "/Users/philipp/opt/anaconda3/lib/python3.8/site-packages/sklearn/model_selection/_validation.py:610: FitFailedWarning: Estimator fit failed. The score on this train-test partition for these parameters will be set to nan. Details: \n",
      "Traceback (most recent call last):\n",
      "  File \"/Users/philipp/opt/anaconda3/lib/python3.8/site-packages/sklearn/model_selection/_validation.py\", line 593, in _fit_and_score\n",
      "    estimator.fit(X_train, y_train, **fit_params)\n",
      "  File \"/Users/philipp/opt/anaconda3/lib/python3.8/site-packages/lightgbm/sklearn.py\", line 895, in fit\n",
      "    super().fit(X, y, sample_weight=sample_weight, init_score=init_score,\n",
      "  File \"/Users/philipp/opt/anaconda3/lib/python3.8/site-packages/lightgbm/sklearn.py\", line 748, in fit\n",
      "    self._Booster = train(\n",
      "  File \"/Users/philipp/opt/anaconda3/lib/python3.8/site-packages/lightgbm/engine.py\", line 271, in train\n",
      "    booster = Booster(params=params, train_set=train_set)\n",
      "  File \"/Users/philipp/opt/anaconda3/lib/python3.8/site-packages/lightgbm/basic.py\", line 2610, in __init__\n",
      "    _safe_call(_LIB.LGBM_BoosterCreate(\n",
      "  File \"/Users/philipp/opt/anaconda3/lib/python3.8/site-packages/lightgbm/basic.py\", line 125, in _safe_call\n",
      "    raise LightGBMError(_LIB.LGBM_GetLastError().decode('utf-8'))\n",
      "lightgbm.basic.LightGBMError: Check failed: config->bagging_freq > 0 && config->bagging_fraction < 1.0f && config->bagging_fraction > 0.0f at /Users/runner/work/1/s/python-package/compile/src/boosting/rf.hpp, line 35 .\n",
      "\n",
      "\n",
      "  warnings.warn(\"Estimator fit failed. The score on this train-test\"\n"
     ]
    },
    {
     "name": "stdout",
     "output_type": "stream",
     "text": [
      "[CV] END boosting_type=rf, learning_rate=0.02, max_depth=10, n_estimators=50, num_leaves=5, reg_alpha=1.5, reg_lambda=1.0; total time=   0.2s\n",
      "[CV] END boosting_type=dart, learning_rate=0.05, max_depth=12, n_estimators=10, num_leaves=5, reg_alpha=0.1, reg_lambda=1.0; total time=   0.4s\n",
      "[CV] END boosting_type=dart, learning_rate=0.05, max_depth=12, n_estimators=10, num_leaves=5, reg_alpha=0.1, reg_lambda=1.0; total time=   0.7s\n",
      "[CV] END boosting_type=dart, learning_rate=0.05, max_depth=12, n_estimators=10, num_leaves=5, reg_alpha=0.1, reg_lambda=1.0; total time=   1.2s\n",
      "[CV] END boosting_type=goss, learning_rate=0.2, max_depth=6, n_estimators=10, num_leaves=25, reg_alpha=1.0, reg_lambda=0.1; total time=   1.0s\n",
      "[CV] END boosting_type=goss, learning_rate=0.2, max_depth=6, n_estimators=10, num_leaves=25, reg_alpha=1.0, reg_lambda=0.1; total time=   0.6s\n",
      "[CV] END boosting_type=goss, learning_rate=0.2, max_depth=6, n_estimators=10, num_leaves=25, reg_alpha=1.0, reg_lambda=0.1; total time=   0.5s\n",
      "[CV] END boosting_type=gbdt, learning_rate=0.02, max_depth=8, n_estimators=10, num_leaves=25, reg_alpha=1.0, reg_lambda=0.5; total time=   0.4s\n",
      "[CV] END boosting_type=gbdt, learning_rate=0.02, max_depth=8, n_estimators=10, num_leaves=25, reg_alpha=1.0, reg_lambda=0.5; total time=   0.5s\n",
      "[CV] END boosting_type=gbdt, learning_rate=0.02, max_depth=8, n_estimators=10, num_leaves=25, reg_alpha=1.0, reg_lambda=0.5; total time=   0.4s\n",
      "[CV] END boosting_type=gbdt, learning_rate=0.1, max_depth=8, n_estimators=10, num_leaves=10, reg_alpha=1.5, reg_lambda=0.5; total time=   0.3s\n",
      "[CV] END boosting_type=gbdt, learning_rate=0.1, max_depth=8, n_estimators=10, num_leaves=10, reg_alpha=1.5, reg_lambda=0.5; total time=   0.3s\n",
      "[CV] END boosting_type=gbdt, learning_rate=0.1, max_depth=8, n_estimators=10, num_leaves=10, reg_alpha=1.5, reg_lambda=0.5; total time=   0.3s\n",
      "[CV] END boosting_type=dart, learning_rate=0.2, max_depth=10, n_estimators=100, num_leaves=50, reg_alpha=1.5, reg_lambda=0.0; total time=   4.7s\n",
      "[CV] END boosting_type=dart, learning_rate=0.2, max_depth=10, n_estimators=100, num_leaves=50, reg_alpha=1.5, reg_lambda=0.0; total time=  11.8s\n",
      "[CV] END boosting_type=dart, learning_rate=0.2, max_depth=10, n_estimators=100, num_leaves=50, reg_alpha=1.5, reg_lambda=0.0; total time=  12.4s\n",
      "[CV] END boosting_type=gbdt, learning_rate=0.1, max_depth=4, n_estimators=500, num_leaves=10, reg_alpha=1.0, reg_lambda=0.5; total time=  10.1s\n",
      "[CV] END boosting_type=gbdt, learning_rate=0.1, max_depth=4, n_estimators=500, num_leaves=10, reg_alpha=1.0, reg_lambda=0.5; total time=   6.6s\n",
      "[CV] END boosting_type=gbdt, learning_rate=0.1, max_depth=4, n_estimators=500, num_leaves=10, reg_alpha=1.0, reg_lambda=0.5; total time=   9.2s\n"
     ]
    },
    {
     "name": "stderr",
     "output_type": "stream",
     "text": [
      "/Users/philipp/opt/anaconda3/lib/python3.8/site-packages/sklearn/model_selection/_validation.py:610: FitFailedWarning: Estimator fit failed. The score on this train-test partition for these parameters will be set to nan. Details: \n",
      "Traceback (most recent call last):\n",
      "  File \"/Users/philipp/opt/anaconda3/lib/python3.8/site-packages/sklearn/model_selection/_validation.py\", line 593, in _fit_and_score\n",
      "    estimator.fit(X_train, y_train, **fit_params)\n",
      "  File \"/Users/philipp/opt/anaconda3/lib/python3.8/site-packages/lightgbm/sklearn.py\", line 895, in fit\n",
      "    super().fit(X, y, sample_weight=sample_weight, init_score=init_score,\n",
      "  File \"/Users/philipp/opt/anaconda3/lib/python3.8/site-packages/lightgbm/sklearn.py\", line 748, in fit\n",
      "    self._Booster = train(\n",
      "  File \"/Users/philipp/opt/anaconda3/lib/python3.8/site-packages/lightgbm/engine.py\", line 271, in train\n",
      "    booster = Booster(params=params, train_set=train_set)\n",
      "  File \"/Users/philipp/opt/anaconda3/lib/python3.8/site-packages/lightgbm/basic.py\", line 2610, in __init__\n",
      "    _safe_call(_LIB.LGBM_BoosterCreate(\n",
      "  File \"/Users/philipp/opt/anaconda3/lib/python3.8/site-packages/lightgbm/basic.py\", line 125, in _safe_call\n",
      "    raise LightGBMError(_LIB.LGBM_GetLastError().decode('utf-8'))\n",
      "lightgbm.basic.LightGBMError: Check failed: config->bagging_freq > 0 && config->bagging_fraction < 1.0f && config->bagging_fraction > 0.0f at /Users/runner/work/1/s/python-package/compile/src/boosting/rf.hpp, line 35 .\n",
      "\n",
      "\n",
      "  warnings.warn(\"Estimator fit failed. The score on this train-test\"\n"
     ]
    },
    {
     "name": "stdout",
     "output_type": "stream",
     "text": [
      "[CV] END boosting_type=rf, learning_rate=0.1, max_depth=10, n_estimators=10, num_leaves=10, reg_alpha=0.5, reg_lambda=0.5; total time=   0.3s\n"
     ]
    },
    {
     "name": "stderr",
     "output_type": "stream",
     "text": [
      "/Users/philipp/opt/anaconda3/lib/python3.8/site-packages/sklearn/model_selection/_validation.py:610: FitFailedWarning: Estimator fit failed. The score on this train-test partition for these parameters will be set to nan. Details: \n",
      "Traceback (most recent call last):\n",
      "  File \"/Users/philipp/opt/anaconda3/lib/python3.8/site-packages/sklearn/model_selection/_validation.py\", line 593, in _fit_and_score\n",
      "    estimator.fit(X_train, y_train, **fit_params)\n",
      "  File \"/Users/philipp/opt/anaconda3/lib/python3.8/site-packages/lightgbm/sklearn.py\", line 895, in fit\n",
      "    super().fit(X, y, sample_weight=sample_weight, init_score=init_score,\n",
      "  File \"/Users/philipp/opt/anaconda3/lib/python3.8/site-packages/lightgbm/sklearn.py\", line 748, in fit\n",
      "    self._Booster = train(\n",
      "  File \"/Users/philipp/opt/anaconda3/lib/python3.8/site-packages/lightgbm/engine.py\", line 271, in train\n",
      "    booster = Booster(params=params, train_set=train_set)\n",
      "  File \"/Users/philipp/opt/anaconda3/lib/python3.8/site-packages/lightgbm/basic.py\", line 2610, in __init__\n",
      "    _safe_call(_LIB.LGBM_BoosterCreate(\n",
      "  File \"/Users/philipp/opt/anaconda3/lib/python3.8/site-packages/lightgbm/basic.py\", line 125, in _safe_call\n",
      "    raise LightGBMError(_LIB.LGBM_GetLastError().decode('utf-8'))\n",
      "lightgbm.basic.LightGBMError: Check failed: config->bagging_freq > 0 && config->bagging_fraction < 1.0f && config->bagging_fraction > 0.0f at /Users/runner/work/1/s/python-package/compile/src/boosting/rf.hpp, line 35 .\n",
      "\n",
      "\n",
      "  warnings.warn(\"Estimator fit failed. The score on this train-test\"\n"
     ]
    },
    {
     "name": "stdout",
     "output_type": "stream",
     "text": [
      "[CV] END boosting_type=rf, learning_rate=0.1, max_depth=10, n_estimators=10, num_leaves=10, reg_alpha=0.5, reg_lambda=0.5; total time=   0.4s\n"
     ]
    },
    {
     "name": "stderr",
     "output_type": "stream",
     "text": [
      "/Users/philipp/opt/anaconda3/lib/python3.8/site-packages/sklearn/model_selection/_validation.py:610: FitFailedWarning: Estimator fit failed. The score on this train-test partition for these parameters will be set to nan. Details: \n",
      "Traceback (most recent call last):\n",
      "  File \"/Users/philipp/opt/anaconda3/lib/python3.8/site-packages/sklearn/model_selection/_validation.py\", line 593, in _fit_and_score\n",
      "    estimator.fit(X_train, y_train, **fit_params)\n",
      "  File \"/Users/philipp/opt/anaconda3/lib/python3.8/site-packages/lightgbm/sklearn.py\", line 895, in fit\n",
      "    super().fit(X, y, sample_weight=sample_weight, init_score=init_score,\n",
      "  File \"/Users/philipp/opt/anaconda3/lib/python3.8/site-packages/lightgbm/sklearn.py\", line 748, in fit\n",
      "    self._Booster = train(\n",
      "  File \"/Users/philipp/opt/anaconda3/lib/python3.8/site-packages/lightgbm/engine.py\", line 271, in train\n",
      "    booster = Booster(params=params, train_set=train_set)\n",
      "  File \"/Users/philipp/opt/anaconda3/lib/python3.8/site-packages/lightgbm/basic.py\", line 2610, in __init__\n",
      "    _safe_call(_LIB.LGBM_BoosterCreate(\n",
      "  File \"/Users/philipp/opt/anaconda3/lib/python3.8/site-packages/lightgbm/basic.py\", line 125, in _safe_call\n",
      "    raise LightGBMError(_LIB.LGBM_GetLastError().decode('utf-8'))\n",
      "lightgbm.basic.LightGBMError: Check failed: config->bagging_freq > 0 && config->bagging_fraction < 1.0f && config->bagging_fraction > 0.0f at /Users/runner/work/1/s/python-package/compile/src/boosting/rf.hpp, line 35 .\n",
      "\n",
      "\n",
      "  warnings.warn(\"Estimator fit failed. The score on this train-test\"\n"
     ]
    },
    {
     "name": "stdout",
     "output_type": "stream",
     "text": [
      "[CV] END boosting_type=rf, learning_rate=0.1, max_depth=10, n_estimators=10, num_leaves=10, reg_alpha=0.5, reg_lambda=0.5; total time=   0.4s\n",
      "[CV] END boosting_type=gbdt, learning_rate=0.05, max_depth=10, n_estimators=10, num_leaves=50, reg_alpha=0.5, reg_lambda=0.5; total time=   0.7s\n",
      "[CV] END boosting_type=gbdt, learning_rate=0.05, max_depth=10, n_estimators=10, num_leaves=50, reg_alpha=0.5, reg_lambda=0.5; total time=   1.0s\n",
      "[CV] END boosting_type=gbdt, learning_rate=0.05, max_depth=10, n_estimators=10, num_leaves=50, reg_alpha=0.5, reg_lambda=0.5; total time=   0.8s\n"
     ]
    },
    {
     "name": "stderr",
     "output_type": "stream",
     "text": [
      "/Users/philipp/opt/anaconda3/lib/python3.8/site-packages/sklearn/model_selection/_validation.py:610: FitFailedWarning: Estimator fit failed. The score on this train-test partition for these parameters will be set to nan. Details: \n",
      "Traceback (most recent call last):\n",
      "  File \"/Users/philipp/opt/anaconda3/lib/python3.8/site-packages/sklearn/model_selection/_validation.py\", line 593, in _fit_and_score\n",
      "    estimator.fit(X_train, y_train, **fit_params)\n",
      "  File \"/Users/philipp/opt/anaconda3/lib/python3.8/site-packages/lightgbm/sklearn.py\", line 895, in fit\n",
      "    super().fit(X, y, sample_weight=sample_weight, init_score=init_score,\n",
      "  File \"/Users/philipp/opt/anaconda3/lib/python3.8/site-packages/lightgbm/sklearn.py\", line 748, in fit\n",
      "    self._Booster = train(\n",
      "  File \"/Users/philipp/opt/anaconda3/lib/python3.8/site-packages/lightgbm/engine.py\", line 271, in train\n",
      "    booster = Booster(params=params, train_set=train_set)\n",
      "  File \"/Users/philipp/opt/anaconda3/lib/python3.8/site-packages/lightgbm/basic.py\", line 2610, in __init__\n",
      "    _safe_call(_LIB.LGBM_BoosterCreate(\n",
      "  File \"/Users/philipp/opt/anaconda3/lib/python3.8/site-packages/lightgbm/basic.py\", line 125, in _safe_call\n",
      "    raise LightGBMError(_LIB.LGBM_GetLastError().decode('utf-8'))\n",
      "lightgbm.basic.LightGBMError: Check failed: config->bagging_freq > 0 && config->bagging_fraction < 1.0f && config->bagging_fraction > 0.0f at /Users/runner/work/1/s/python-package/compile/src/boosting/rf.hpp, line 35 .\n",
      "\n",
      "\n",
      "  warnings.warn(\"Estimator fit failed. The score on this train-test\"\n"
     ]
    },
    {
     "name": "stdout",
     "output_type": "stream",
     "text": [
      "[CV] END boosting_type=rf, learning_rate=0.1, max_depth=12, n_estimators=50, num_leaves=10, reg_alpha=0.0, reg_lambda=1.0; total time=   0.3s\n"
     ]
    },
    {
     "name": "stderr",
     "output_type": "stream",
     "text": [
      "/Users/philipp/opt/anaconda3/lib/python3.8/site-packages/sklearn/model_selection/_validation.py:610: FitFailedWarning: Estimator fit failed. The score on this train-test partition for these parameters will be set to nan. Details: \n",
      "Traceback (most recent call last):\n",
      "  File \"/Users/philipp/opt/anaconda3/lib/python3.8/site-packages/sklearn/model_selection/_validation.py\", line 593, in _fit_and_score\n",
      "    estimator.fit(X_train, y_train, **fit_params)\n",
      "  File \"/Users/philipp/opt/anaconda3/lib/python3.8/site-packages/lightgbm/sklearn.py\", line 895, in fit\n",
      "    super().fit(X, y, sample_weight=sample_weight, init_score=init_score,\n",
      "  File \"/Users/philipp/opt/anaconda3/lib/python3.8/site-packages/lightgbm/sklearn.py\", line 748, in fit\n",
      "    self._Booster = train(\n",
      "  File \"/Users/philipp/opt/anaconda3/lib/python3.8/site-packages/lightgbm/engine.py\", line 271, in train\n",
      "    booster = Booster(params=params, train_set=train_set)\n",
      "  File \"/Users/philipp/opt/anaconda3/lib/python3.8/site-packages/lightgbm/basic.py\", line 2610, in __init__\n",
      "    _safe_call(_LIB.LGBM_BoosterCreate(\n",
      "  File \"/Users/philipp/opt/anaconda3/lib/python3.8/site-packages/lightgbm/basic.py\", line 125, in _safe_call\n",
      "    raise LightGBMError(_LIB.LGBM_GetLastError().decode('utf-8'))\n",
      "lightgbm.basic.LightGBMError: Check failed: config->bagging_freq > 0 && config->bagging_fraction < 1.0f && config->bagging_fraction > 0.0f at /Users/runner/work/1/s/python-package/compile/src/boosting/rf.hpp, line 35 .\n",
      "\n",
      "\n",
      "  warnings.warn(\"Estimator fit failed. The score on this train-test\"\n"
     ]
    },
    {
     "name": "stdout",
     "output_type": "stream",
     "text": [
      "[CV] END boosting_type=rf, learning_rate=0.1, max_depth=12, n_estimators=50, num_leaves=10, reg_alpha=0.0, reg_lambda=1.0; total time=   0.2s\n"
     ]
    },
    {
     "name": "stderr",
     "output_type": "stream",
     "text": [
      "/Users/philipp/opt/anaconda3/lib/python3.8/site-packages/sklearn/model_selection/_validation.py:610: FitFailedWarning: Estimator fit failed. The score on this train-test partition for these parameters will be set to nan. Details: \n",
      "Traceback (most recent call last):\n",
      "  File \"/Users/philipp/opt/anaconda3/lib/python3.8/site-packages/sklearn/model_selection/_validation.py\", line 593, in _fit_and_score\n",
      "    estimator.fit(X_train, y_train, **fit_params)\n",
      "  File \"/Users/philipp/opt/anaconda3/lib/python3.8/site-packages/lightgbm/sklearn.py\", line 895, in fit\n",
      "    super().fit(X, y, sample_weight=sample_weight, init_score=init_score,\n",
      "  File \"/Users/philipp/opt/anaconda3/lib/python3.8/site-packages/lightgbm/sklearn.py\", line 748, in fit\n",
      "    self._Booster = train(\n",
      "  File \"/Users/philipp/opt/anaconda3/lib/python3.8/site-packages/lightgbm/engine.py\", line 271, in train\n",
      "    booster = Booster(params=params, train_set=train_set)\n",
      "  File \"/Users/philipp/opt/anaconda3/lib/python3.8/site-packages/lightgbm/basic.py\", line 2610, in __init__\n",
      "    _safe_call(_LIB.LGBM_BoosterCreate(\n",
      "  File \"/Users/philipp/opt/anaconda3/lib/python3.8/site-packages/lightgbm/basic.py\", line 125, in _safe_call\n",
      "    raise LightGBMError(_LIB.LGBM_GetLastError().decode('utf-8'))\n",
      "lightgbm.basic.LightGBMError: Check failed: config->bagging_freq > 0 && config->bagging_fraction < 1.0f && config->bagging_fraction > 0.0f at /Users/runner/work/1/s/python-package/compile/src/boosting/rf.hpp, line 35 .\n",
      "\n",
      "\n",
      "  warnings.warn(\"Estimator fit failed. The score on this train-test\"\n"
     ]
    },
    {
     "name": "stdout",
     "output_type": "stream",
     "text": [
      "[CV] END boosting_type=rf, learning_rate=0.1, max_depth=12, n_estimators=50, num_leaves=10, reg_alpha=0.0, reg_lambda=1.0; total time=   0.3s\n",
      "[CV] END boosting_type=dart, learning_rate=0.1, max_depth=12, n_estimators=10, num_leaves=10, reg_alpha=0.1, reg_lambda=0.0; total time=   1.7s\n",
      "[CV] END boosting_type=dart, learning_rate=0.1, max_depth=12, n_estimators=10, num_leaves=10, reg_alpha=0.1, reg_lambda=0.0; total time=   0.7s\n",
      "[CV] END boosting_type=dart, learning_rate=0.1, max_depth=12, n_estimators=10, num_leaves=10, reg_alpha=0.1, reg_lambda=0.0; total time=   0.5s\n",
      "[CV] END boosting_type=gbdt, learning_rate=0.2, max_depth=8, n_estimators=1000, num_leaves=5, reg_alpha=1.5, reg_lambda=0.1; total time=   4.2s\n",
      "[CV] END boosting_type=gbdt, learning_rate=0.2, max_depth=8, n_estimators=1000, num_leaves=5, reg_alpha=1.5, reg_lambda=0.1; total time=   7.1s\n",
      "[CV] END boosting_type=gbdt, learning_rate=0.2, max_depth=8, n_estimators=1000, num_leaves=5, reg_alpha=1.5, reg_lambda=0.1; total time=   6.6s\n",
      "[CV] END boosting_type=rf, learning_rate=0.3, max_depth=12, n_estimators=500, num_leaves=5, reg_alpha=0.5, reg_lambda=1.5; total time=   0.2s\n"
     ]
    },
    {
     "name": "stderr",
     "output_type": "stream",
     "text": [
      "/Users/philipp/opt/anaconda3/lib/python3.8/site-packages/sklearn/model_selection/_validation.py:610: FitFailedWarning: Estimator fit failed. The score on this train-test partition for these parameters will be set to nan. Details: \n",
      "Traceback (most recent call last):\n",
      "  File \"/Users/philipp/opt/anaconda3/lib/python3.8/site-packages/sklearn/model_selection/_validation.py\", line 593, in _fit_and_score\n",
      "    estimator.fit(X_train, y_train, **fit_params)\n",
      "  File \"/Users/philipp/opt/anaconda3/lib/python3.8/site-packages/lightgbm/sklearn.py\", line 895, in fit\n",
      "    super().fit(X, y, sample_weight=sample_weight, init_score=init_score,\n",
      "  File \"/Users/philipp/opt/anaconda3/lib/python3.8/site-packages/lightgbm/sklearn.py\", line 748, in fit\n",
      "    self._Booster = train(\n",
      "  File \"/Users/philipp/opt/anaconda3/lib/python3.8/site-packages/lightgbm/engine.py\", line 271, in train\n",
      "    booster = Booster(params=params, train_set=train_set)\n",
      "  File \"/Users/philipp/opt/anaconda3/lib/python3.8/site-packages/lightgbm/basic.py\", line 2610, in __init__\n",
      "    _safe_call(_LIB.LGBM_BoosterCreate(\n",
      "  File \"/Users/philipp/opt/anaconda3/lib/python3.8/site-packages/lightgbm/basic.py\", line 125, in _safe_call\n",
      "    raise LightGBMError(_LIB.LGBM_GetLastError().decode('utf-8'))\n",
      "lightgbm.basic.LightGBMError: Check failed: config->bagging_freq > 0 && config->bagging_fraction < 1.0f && config->bagging_fraction > 0.0f at /Users/runner/work/1/s/python-package/compile/src/boosting/rf.hpp, line 35 .\n",
      "\n",
      "\n",
      "  warnings.warn(\"Estimator fit failed. The score on this train-test\"\n",
      "/Users/philipp/opt/anaconda3/lib/python3.8/site-packages/sklearn/model_selection/_validation.py:610: FitFailedWarning: Estimator fit failed. The score on this train-test partition for these parameters will be set to nan. Details: \n",
      "Traceback (most recent call last):\n",
      "  File \"/Users/philipp/opt/anaconda3/lib/python3.8/site-packages/sklearn/model_selection/_validation.py\", line 593, in _fit_and_score\n",
      "    estimator.fit(X_train, y_train, **fit_params)\n",
      "  File \"/Users/philipp/opt/anaconda3/lib/python3.8/site-packages/lightgbm/sklearn.py\", line 895, in fit\n",
      "    super().fit(X, y, sample_weight=sample_weight, init_score=init_score,\n",
      "  File \"/Users/philipp/opt/anaconda3/lib/python3.8/site-packages/lightgbm/sklearn.py\", line 748, in fit\n",
      "    self._Booster = train(\n",
      "  File \"/Users/philipp/opt/anaconda3/lib/python3.8/site-packages/lightgbm/engine.py\", line 271, in train\n",
      "    booster = Booster(params=params, train_set=train_set)\n",
      "  File \"/Users/philipp/opt/anaconda3/lib/python3.8/site-packages/lightgbm/basic.py\", line 2610, in __init__\n",
      "    _safe_call(_LIB.LGBM_BoosterCreate(\n",
      "  File \"/Users/philipp/opt/anaconda3/lib/python3.8/site-packages/lightgbm/basic.py\", line 125, in _safe_call\n",
      "    raise LightGBMError(_LIB.LGBM_GetLastError().decode('utf-8'))\n",
      "lightgbm.basic.LightGBMError: Check failed: config->bagging_freq > 0 && config->bagging_fraction < 1.0f && config->bagging_fraction > 0.0f at /Users/runner/work/1/s/python-package/compile/src/boosting/rf.hpp, line 35 .\n",
      "\n",
      "\n",
      "  warnings.warn(\"Estimator fit failed. The score on this train-test\"\n"
     ]
    },
    {
     "name": "stdout",
     "output_type": "stream",
     "text": [
      "[CV] END boosting_type=rf, learning_rate=0.3, max_depth=12, n_estimators=500, num_leaves=5, reg_alpha=0.5, reg_lambda=1.5; total time=   0.2s\n"
     ]
    },
    {
     "name": "stderr",
     "output_type": "stream",
     "text": [
      "/Users/philipp/opt/anaconda3/lib/python3.8/site-packages/sklearn/model_selection/_validation.py:610: FitFailedWarning: Estimator fit failed. The score on this train-test partition for these parameters will be set to nan. Details: \n",
      "Traceback (most recent call last):\n",
      "  File \"/Users/philipp/opt/anaconda3/lib/python3.8/site-packages/sklearn/model_selection/_validation.py\", line 593, in _fit_and_score\n",
      "    estimator.fit(X_train, y_train, **fit_params)\n",
      "  File \"/Users/philipp/opt/anaconda3/lib/python3.8/site-packages/lightgbm/sklearn.py\", line 895, in fit\n",
      "    super().fit(X, y, sample_weight=sample_weight, init_score=init_score,\n",
      "  File \"/Users/philipp/opt/anaconda3/lib/python3.8/site-packages/lightgbm/sklearn.py\", line 748, in fit\n",
      "    self._Booster = train(\n",
      "  File \"/Users/philipp/opt/anaconda3/lib/python3.8/site-packages/lightgbm/engine.py\", line 271, in train\n",
      "    booster = Booster(params=params, train_set=train_set)\n",
      "  File \"/Users/philipp/opt/anaconda3/lib/python3.8/site-packages/lightgbm/basic.py\", line 2610, in __init__\n",
      "    _safe_call(_LIB.LGBM_BoosterCreate(\n",
      "  File \"/Users/philipp/opt/anaconda3/lib/python3.8/site-packages/lightgbm/basic.py\", line 125, in _safe_call\n",
      "    raise LightGBMError(_LIB.LGBM_GetLastError().decode('utf-8'))\n",
      "lightgbm.basic.LightGBMError: Check failed: config->bagging_freq > 0 && config->bagging_fraction < 1.0f && config->bagging_fraction > 0.0f at /Users/runner/work/1/s/python-package/compile/src/boosting/rf.hpp, line 35 .\n",
      "\n",
      "\n",
      "  warnings.warn(\"Estimator fit failed. The score on this train-test\"\n"
     ]
    },
    {
     "name": "stdout",
     "output_type": "stream",
     "text": [
      "[CV] END boosting_type=rf, learning_rate=0.3, max_depth=12, n_estimators=500, num_leaves=5, reg_alpha=0.5, reg_lambda=1.5; total time=   0.4s\n",
      "[CV] END boosting_type=goss, learning_rate=0.02, max_depth=12, n_estimators=10, num_leaves=100, reg_alpha=0.5, reg_lambda=1.5; total time=   1.5s\n",
      "[CV] END boosting_type=goss, learning_rate=0.02, max_depth=12, n_estimators=10, num_leaves=100, reg_alpha=0.5, reg_lambda=1.5; total time=   0.9s\n",
      "[CV] END boosting_type=goss, learning_rate=0.02, max_depth=12, n_estimators=10, num_leaves=100, reg_alpha=0.5, reg_lambda=1.5; total time=   0.6s\n",
      "[CV] END boosting_type=gbdt, learning_rate=0.1, max_depth=8, n_estimators=500, num_leaves=100, reg_alpha=1.0, reg_lambda=1.5; total time=   9.8s\n",
      "[CV] END boosting_type=gbdt, learning_rate=0.1, max_depth=8, n_estimators=500, num_leaves=100, reg_alpha=1.0, reg_lambda=1.5; total time=  12.6s\n",
      "[CV] END boosting_type=gbdt, learning_rate=0.1, max_depth=8, n_estimators=500, num_leaves=100, reg_alpha=1.0, reg_lambda=1.5; total time=  17.1s\n",
      "[CV] END boosting_type=goss, learning_rate=0.2, max_depth=12, n_estimators=100, num_leaves=5, reg_alpha=1.0, reg_lambda=1.5; total time=   1.5s\n",
      "[CV] END boosting_type=goss, learning_rate=0.2, max_depth=12, n_estimators=100, num_leaves=5, reg_alpha=1.0, reg_lambda=1.5; total time=   0.9s\n",
      "[CV] END boosting_type=goss, learning_rate=0.2, max_depth=12, n_estimators=100, num_leaves=5, reg_alpha=1.0, reg_lambda=1.5; total time=   0.9s\n",
      "[CV] END boosting_type=rf, learning_rate=0.02, max_depth=8, n_estimators=10, num_leaves=10, reg_alpha=1.0, reg_lambda=0.5; total time=   0.2s\n"
     ]
    },
    {
     "name": "stderr",
     "output_type": "stream",
     "text": [
      "/Users/philipp/opt/anaconda3/lib/python3.8/site-packages/sklearn/model_selection/_validation.py:610: FitFailedWarning: Estimator fit failed. The score on this train-test partition for these parameters will be set to nan. Details: \n",
      "Traceback (most recent call last):\n",
      "  File \"/Users/philipp/opt/anaconda3/lib/python3.8/site-packages/sklearn/model_selection/_validation.py\", line 593, in _fit_and_score\n",
      "    estimator.fit(X_train, y_train, **fit_params)\n",
      "  File \"/Users/philipp/opt/anaconda3/lib/python3.8/site-packages/lightgbm/sklearn.py\", line 895, in fit\n",
      "    super().fit(X, y, sample_weight=sample_weight, init_score=init_score,\n",
      "  File \"/Users/philipp/opt/anaconda3/lib/python3.8/site-packages/lightgbm/sklearn.py\", line 748, in fit\n",
      "    self._Booster = train(\n",
      "  File \"/Users/philipp/opt/anaconda3/lib/python3.8/site-packages/lightgbm/engine.py\", line 271, in train\n",
      "    booster = Booster(params=params, train_set=train_set)\n",
      "  File \"/Users/philipp/opt/anaconda3/lib/python3.8/site-packages/lightgbm/basic.py\", line 2610, in __init__\n",
      "    _safe_call(_LIB.LGBM_BoosterCreate(\n",
      "  File \"/Users/philipp/opt/anaconda3/lib/python3.8/site-packages/lightgbm/basic.py\", line 125, in _safe_call\n",
      "    raise LightGBMError(_LIB.LGBM_GetLastError().decode('utf-8'))\n",
      "lightgbm.basic.LightGBMError: Check failed: config->bagging_freq > 0 && config->bagging_fraction < 1.0f && config->bagging_fraction > 0.0f at /Users/runner/work/1/s/python-package/compile/src/boosting/rf.hpp, line 35 .\n",
      "\n",
      "\n",
      "  warnings.warn(\"Estimator fit failed. The score on this train-test\"\n",
      "/Users/philipp/opt/anaconda3/lib/python3.8/site-packages/sklearn/model_selection/_validation.py:610: FitFailedWarning: Estimator fit failed. The score on this train-test partition for these parameters will be set to nan. Details: \n",
      "Traceback (most recent call last):\n",
      "  File \"/Users/philipp/opt/anaconda3/lib/python3.8/site-packages/sklearn/model_selection/_validation.py\", line 593, in _fit_and_score\n",
      "    estimator.fit(X_train, y_train, **fit_params)\n",
      "  File \"/Users/philipp/opt/anaconda3/lib/python3.8/site-packages/lightgbm/sklearn.py\", line 895, in fit\n",
      "    super().fit(X, y, sample_weight=sample_weight, init_score=init_score,\n",
      "  File \"/Users/philipp/opt/anaconda3/lib/python3.8/site-packages/lightgbm/sklearn.py\", line 748, in fit\n",
      "    self._Booster = train(\n",
      "  File \"/Users/philipp/opt/anaconda3/lib/python3.8/site-packages/lightgbm/engine.py\", line 271, in train\n",
      "    booster = Booster(params=params, train_set=train_set)\n",
      "  File \"/Users/philipp/opt/anaconda3/lib/python3.8/site-packages/lightgbm/basic.py\", line 2610, in __init__\n",
      "    _safe_call(_LIB.LGBM_BoosterCreate(\n",
      "  File \"/Users/philipp/opt/anaconda3/lib/python3.8/site-packages/lightgbm/basic.py\", line 125, in _safe_call\n",
      "    raise LightGBMError(_LIB.LGBM_GetLastError().decode('utf-8'))\n",
      "lightgbm.basic.LightGBMError: Check failed: config->bagging_freq > 0 && config->bagging_fraction < 1.0f && config->bagging_fraction > 0.0f at /Users/runner/work/1/s/python-package/compile/src/boosting/rf.hpp, line 35 .\n",
      "\n",
      "\n",
      "  warnings.warn(\"Estimator fit failed. The score on this train-test\"\n"
     ]
    },
    {
     "name": "stdout",
     "output_type": "stream",
     "text": [
      "[CV] END boosting_type=rf, learning_rate=0.02, max_depth=8, n_estimators=10, num_leaves=10, reg_alpha=1.0, reg_lambda=0.5; total time=   0.2s\n",
      "[CV] END boosting_type=rf, learning_rate=0.02, max_depth=8, n_estimators=10, num_leaves=10, reg_alpha=1.0, reg_lambda=0.5; total time=   0.2s\n"
     ]
    },
    {
     "name": "stderr",
     "output_type": "stream",
     "text": [
      "/Users/philipp/opt/anaconda3/lib/python3.8/site-packages/sklearn/model_selection/_validation.py:610: FitFailedWarning: Estimator fit failed. The score on this train-test partition for these parameters will be set to nan. Details: \n",
      "Traceback (most recent call last):\n",
      "  File \"/Users/philipp/opt/anaconda3/lib/python3.8/site-packages/sklearn/model_selection/_validation.py\", line 593, in _fit_and_score\n",
      "    estimator.fit(X_train, y_train, **fit_params)\n",
      "  File \"/Users/philipp/opt/anaconda3/lib/python3.8/site-packages/lightgbm/sklearn.py\", line 895, in fit\n",
      "    super().fit(X, y, sample_weight=sample_weight, init_score=init_score,\n",
      "  File \"/Users/philipp/opt/anaconda3/lib/python3.8/site-packages/lightgbm/sklearn.py\", line 748, in fit\n",
      "    self._Booster = train(\n",
      "  File \"/Users/philipp/opt/anaconda3/lib/python3.8/site-packages/lightgbm/engine.py\", line 271, in train\n",
      "    booster = Booster(params=params, train_set=train_set)\n",
      "  File \"/Users/philipp/opt/anaconda3/lib/python3.8/site-packages/lightgbm/basic.py\", line 2610, in __init__\n",
      "    _safe_call(_LIB.LGBM_BoosterCreate(\n",
      "  File \"/Users/philipp/opt/anaconda3/lib/python3.8/site-packages/lightgbm/basic.py\", line 125, in _safe_call\n",
      "    raise LightGBMError(_LIB.LGBM_GetLastError().decode('utf-8'))\n",
      "lightgbm.basic.LightGBMError: Check failed: config->bagging_freq > 0 && config->bagging_fraction < 1.0f && config->bagging_fraction > 0.0f at /Users/runner/work/1/s/python-package/compile/src/boosting/rf.hpp, line 35 .\n",
      "\n",
      "\n",
      "  warnings.warn(\"Estimator fit failed. The score on this train-test\"\n"
     ]
    },
    {
     "name": "stdout",
     "output_type": "stream",
     "text": [
      "[CV] END boosting_type=dart, learning_rate=0.02, max_depth=6, n_estimators=1000, num_leaves=100, reg_alpha=1.0, reg_lambda=0.0; total time= 4.8min\n",
      "[CV] END boosting_type=dart, learning_rate=0.02, max_depth=6, n_estimators=1000, num_leaves=100, reg_alpha=1.0, reg_lambda=0.0; total time= 5.6min\n",
      "[CV] END boosting_type=dart, learning_rate=0.02, max_depth=6, n_estimators=1000, num_leaves=100, reg_alpha=1.0, reg_lambda=0.0; total time= 4.1min\n",
      "[CV] END boosting_type=gbdt, learning_rate=0.3, max_depth=10, n_estimators=10, num_leaves=10, reg_alpha=1.5, reg_lambda=1.0; total time=   0.3s\n",
      "[CV] END boosting_type=gbdt, learning_rate=0.3, max_depth=10, n_estimators=10, num_leaves=10, reg_alpha=1.5, reg_lambda=1.0; total time=   0.3s\n",
      "[CV] END boosting_type=gbdt, learning_rate=0.3, max_depth=10, n_estimators=10, num_leaves=10, reg_alpha=1.5, reg_lambda=1.0; total time=   0.3s\n",
      "[CV] END boosting_type=rf, learning_rate=0.3, max_depth=10, n_estimators=10, num_leaves=25, reg_alpha=1.5, reg_lambda=0.5; total time=   0.2s\n"
     ]
    },
    {
     "name": "stderr",
     "output_type": "stream",
     "text": [
      "/Users/philipp/opt/anaconda3/lib/python3.8/site-packages/sklearn/model_selection/_validation.py:610: FitFailedWarning: Estimator fit failed. The score on this train-test partition for these parameters will be set to nan. Details: \n",
      "Traceback (most recent call last):\n",
      "  File \"/Users/philipp/opt/anaconda3/lib/python3.8/site-packages/sklearn/model_selection/_validation.py\", line 593, in _fit_and_score\n",
      "    estimator.fit(X_train, y_train, **fit_params)\n",
      "  File \"/Users/philipp/opt/anaconda3/lib/python3.8/site-packages/lightgbm/sklearn.py\", line 895, in fit\n",
      "    super().fit(X, y, sample_weight=sample_weight, init_score=init_score,\n",
      "  File \"/Users/philipp/opt/anaconda3/lib/python3.8/site-packages/lightgbm/sklearn.py\", line 748, in fit\n",
      "    self._Booster = train(\n",
      "  File \"/Users/philipp/opt/anaconda3/lib/python3.8/site-packages/lightgbm/engine.py\", line 271, in train\n",
      "    booster = Booster(params=params, train_set=train_set)\n",
      "  File \"/Users/philipp/opt/anaconda3/lib/python3.8/site-packages/lightgbm/basic.py\", line 2610, in __init__\n",
      "    _safe_call(_LIB.LGBM_BoosterCreate(\n",
      "  File \"/Users/philipp/opt/anaconda3/lib/python3.8/site-packages/lightgbm/basic.py\", line 125, in _safe_call\n",
      "    raise LightGBMError(_LIB.LGBM_GetLastError().decode('utf-8'))\n",
      "lightgbm.basic.LightGBMError: Check failed: config->bagging_freq > 0 && config->bagging_fraction < 1.0f && config->bagging_fraction > 0.0f at /Users/runner/work/1/s/python-package/compile/src/boosting/rf.hpp, line 35 .\n",
      "\n",
      "\n",
      "  warnings.warn(\"Estimator fit failed. The score on this train-test\"\n",
      "/Users/philipp/opt/anaconda3/lib/python3.8/site-packages/sklearn/model_selection/_validation.py:610: FitFailedWarning: Estimator fit failed. The score on this train-test partition for these parameters will be set to nan. Details: \n",
      "Traceback (most recent call last):\n",
      "  File \"/Users/philipp/opt/anaconda3/lib/python3.8/site-packages/sklearn/model_selection/_validation.py\", line 593, in _fit_and_score\n",
      "    estimator.fit(X_train, y_train, **fit_params)\n",
      "  File \"/Users/philipp/opt/anaconda3/lib/python3.8/site-packages/lightgbm/sklearn.py\", line 895, in fit\n",
      "    super().fit(X, y, sample_weight=sample_weight, init_score=init_score,\n",
      "  File \"/Users/philipp/opt/anaconda3/lib/python3.8/site-packages/lightgbm/sklearn.py\", line 748, in fit\n",
      "    self._Booster = train(\n",
      "  File \"/Users/philipp/opt/anaconda3/lib/python3.8/site-packages/lightgbm/engine.py\", line 271, in train\n",
      "    booster = Booster(params=params, train_set=train_set)\n",
      "  File \"/Users/philipp/opt/anaconda3/lib/python3.8/site-packages/lightgbm/basic.py\", line 2610, in __init__\n",
      "    _safe_call(_LIB.LGBM_BoosterCreate(\n",
      "  File \"/Users/philipp/opt/anaconda3/lib/python3.8/site-packages/lightgbm/basic.py\", line 125, in _safe_call\n",
      "    raise LightGBMError(_LIB.LGBM_GetLastError().decode('utf-8'))\n",
      "lightgbm.basic.LightGBMError: Check failed: config->bagging_freq > 0 && config->bagging_fraction < 1.0f && config->bagging_fraction > 0.0f at /Users/runner/work/1/s/python-package/compile/src/boosting/rf.hpp, line 35 .\n",
      "\n",
      "\n",
      "  warnings.warn(\"Estimator fit failed. The score on this train-test\"\n"
     ]
    },
    {
     "name": "stdout",
     "output_type": "stream",
     "text": [
      "[CV] END boosting_type=rf, learning_rate=0.3, max_depth=10, n_estimators=10, num_leaves=25, reg_alpha=1.5, reg_lambda=0.5; total time=   0.2s\n"
     ]
    },
    {
     "name": "stderr",
     "output_type": "stream",
     "text": [
      "/Users/philipp/opt/anaconda3/lib/python3.8/site-packages/sklearn/model_selection/_validation.py:610: FitFailedWarning: Estimator fit failed. The score on this train-test partition for these parameters will be set to nan. Details: \n",
      "Traceback (most recent call last):\n",
      "  File \"/Users/philipp/opt/anaconda3/lib/python3.8/site-packages/sklearn/model_selection/_validation.py\", line 593, in _fit_and_score\n",
      "    estimator.fit(X_train, y_train, **fit_params)\n",
      "  File \"/Users/philipp/opt/anaconda3/lib/python3.8/site-packages/lightgbm/sklearn.py\", line 895, in fit\n",
      "    super().fit(X, y, sample_weight=sample_weight, init_score=init_score,\n",
      "  File \"/Users/philipp/opt/anaconda3/lib/python3.8/site-packages/lightgbm/sklearn.py\", line 748, in fit\n",
      "    self._Booster = train(\n",
      "  File \"/Users/philipp/opt/anaconda3/lib/python3.8/site-packages/lightgbm/engine.py\", line 271, in train\n",
      "    booster = Booster(params=params, train_set=train_set)\n",
      "  File \"/Users/philipp/opt/anaconda3/lib/python3.8/site-packages/lightgbm/basic.py\", line 2610, in __init__\n",
      "    _safe_call(_LIB.LGBM_BoosterCreate(\n",
      "  File \"/Users/philipp/opt/anaconda3/lib/python3.8/site-packages/lightgbm/basic.py\", line 125, in _safe_call\n",
      "    raise LightGBMError(_LIB.LGBM_GetLastError().decode('utf-8'))\n",
      "lightgbm.basic.LightGBMError: Check failed: config->bagging_freq > 0 && config->bagging_fraction < 1.0f && config->bagging_fraction > 0.0f at /Users/runner/work/1/s/python-package/compile/src/boosting/rf.hpp, line 35 .\n",
      "\n",
      "\n",
      "  warnings.warn(\"Estimator fit failed. The score on this train-test\"\n"
     ]
    },
    {
     "name": "stdout",
     "output_type": "stream",
     "text": [
      "[CV] END boosting_type=rf, learning_rate=0.3, max_depth=10, n_estimators=10, num_leaves=25, reg_alpha=1.5, reg_lambda=0.5; total time=   0.2s\n",
      "[CV] END boosting_type=dart, learning_rate=0.02, max_depth=8, n_estimators=50, num_leaves=10, reg_alpha=0.5, reg_lambda=0.1; total time=   0.8s\n",
      "[CV] END boosting_type=dart, learning_rate=0.02, max_depth=8, n_estimators=50, num_leaves=10, reg_alpha=0.5, reg_lambda=0.1; total time=   1.1s\n",
      "[CV] END boosting_type=dart, learning_rate=0.02, max_depth=8, n_estimators=50, num_leaves=10, reg_alpha=0.5, reg_lambda=0.1; total time=   0.7s\n",
      "[CV] END boosting_type=goss, learning_rate=0.3, max_depth=6, n_estimators=100, num_leaves=10, reg_alpha=1.5, reg_lambda=1.5; total time=   1.3s\n",
      "[CV] END boosting_type=goss, learning_rate=0.3, max_depth=6, n_estimators=100, num_leaves=10, reg_alpha=1.5, reg_lambda=1.5; total time=   1.3s\n",
      "[CV] END boosting_type=goss, learning_rate=0.3, max_depth=6, n_estimators=100, num_leaves=10, reg_alpha=1.5, reg_lambda=1.5; total time=   2.0s\n",
      "[CV] END boosting_type=goss, learning_rate=0.1, max_depth=6, n_estimators=50, num_leaves=10, reg_alpha=0.1, reg_lambda=1.5; total time=   0.9s\n",
      "[CV] END boosting_type=goss, learning_rate=0.1, max_depth=6, n_estimators=50, num_leaves=10, reg_alpha=0.1, reg_lambda=1.5; total time=   1.0s\n",
      "[CV] END boosting_type=goss, learning_rate=0.1, max_depth=6, n_estimators=50, num_leaves=10, reg_alpha=0.1, reg_lambda=1.5; total time=   0.8s\n"
     ]
    },
    {
     "name": "stderr",
     "output_type": "stream",
     "text": [
      "/Users/philipp/opt/anaconda3/lib/python3.8/site-packages/sklearn/model_selection/_search.py:918: UserWarning: One or more of the test scores are non-finite: [ -3.16778351  -2.89849954          nan -24.34696338  -5.37942258\n",
      " -28.36134054 -15.117659    -0.67815115  -2.67019896          nan\n",
      " -21.01810122          nan -16.92310896  -2.34972927          nan\n",
      " -27.8855879   -0.48837326  -2.60408309          nan  -0.59628614\n",
      "  -3.89626296          nan -16.74445432  -2.64722741  -1.90404149]\n",
      "  warnings.warn(\n"
     ]
    },
    {
     "data": {
      "text/plain": [
       "RandomizedSearchCV(cv=3, estimator=LGBMRegressor(), n_iter=25,\n",
       "                   param_distributions={'boosting_type': ['gbdt', 'dart',\n",
       "                                                          'goss', 'rf'],\n",
       "                                        'learning_rate': [0.02, 0.05, 0.1, 0.2,\n",
       "                                                          0.3],\n",
       "                                        'max_depth': [4, 6, 8, 10, 12],\n",
       "                                        'n_estimators': [10, 50, 100, 500,\n",
       "                                                         1000],\n",
       "                                        'num_leaves': [5, 10, 25, 50, 100],\n",
       "                                        'reg_alpha': [0.0, 0.1, 0.5, 1.0, 1.5],\n",
       "                                        'reg_lambda': [0.0, 0.1, 0.5, 1.0,\n",
       "                                                       1.5]},\n",
       "                   scoring='neg_mean_absolute_percentage_error', verbose=2)"
      ]
     },
     "execution_count": 68,
     "metadata": {},
     "output_type": "execute_result"
    }
   ],
   "source": [
    "lgbm_random.fit(X_train, y_train)"
   ]
  },
  {
   "cell_type": "code",
   "execution_count": 69,
   "id": "939f5977",
   "metadata": {},
   "outputs": [
    {
     "data": {
      "text/plain": [
       "{'reg_lambda': 1.5,\n",
       " 'reg_alpha': 1.0,\n",
       " 'num_leaves': 100,\n",
       " 'n_estimators': 500,\n",
       " 'max_depth': 8,\n",
       " 'learning_rate': 0.1,\n",
       " 'boosting_type': 'gbdt'}"
      ]
     },
     "execution_count": 69,
     "metadata": {},
     "output_type": "execute_result"
    }
   ],
   "source": [
    "lgbm_random.best_params_"
   ]
  },
  {
   "cell_type": "code",
   "execution_count": 70,
   "id": "7650d6fd",
   "metadata": {},
   "outputs": [
    {
     "data": {
      "text/plain": [
       "LGBMRegressor(max_depth=8, n_estimators=500, num_leaves=100, reg_alpha=1.0,\n",
       "              reg_lambda=1.5)"
      ]
     },
     "execution_count": 70,
     "metadata": {},
     "output_type": "execute_result"
    }
   ],
   "source": [
    "lgbm_best = lgb.LGBMRegressor()\n",
    "lgbm_best.set_params(**lgbm_random.best_params_)\n",
    "lgbm_best.fit(X_train, y_train)"
   ]
  },
  {
   "cell_type": "code",
   "execution_count": 71,
   "id": "74984343",
   "metadata": {},
   "outputs": [
    {
     "name": "stdout",
     "output_type": "stream",
     "text": [
      "MSE:\ttrain:6.8315E+08\ttest:8.7447E+08\n",
      "MAE:\ttrain:8.5162E+03\ttest:9.2387E+03\n",
      "MAPE:\ttrain:5.0539E-01\ttest:5.0740E-01\n",
      "Done!\n",
      "\n"
     ]
    }
   ],
   "source": [
    "y_pred_train = lgbm_best.predict(X_train)\n",
    "y_pred_test = lgbm_best.predict(X_test)\n",
    "\n",
    "mse_test = mean_squared_error(y_test, y_pred_test)\n",
    "mse_train = mean_squared_error(y_train, y_pred_train)\n",
    "print(f\"MSE:\\ttrain:{mse_train:.4E}\\ttest:{mse_test:.4E}\")\n",
    "\n",
    "mae_test = mean_absolute_error(y_test, y_pred_test)\n",
    "mae_train = mean_absolute_error(y_train, y_pred_train)\n",
    "print(f\"MAE:\\ttrain:{mae_train:.4E}\\ttest:{mae_test:.4E}\")\n",
    "\n",
    "mape_test = mean_absolute_percentage_error(y_test, y_pred_test)\n",
    "mape_train = mean_absolute_percentage_error(y_train, y_pred_train)\n",
    "print(f\"MAPE:\\ttrain:{mape_train:.4E}\\ttest:{mape_test:.4E}\")\n",
    "\n",
    "print(\"Done!\\n\")"
   ]
  },
  {
   "cell_type": "code",
   "execution_count": null,
   "id": "0000ddf2",
   "metadata": {},
   "outputs": [],
   "source": []
  },
  {
   "cell_type": "code",
   "execution_count": null,
   "id": "32f18b68",
   "metadata": {},
   "outputs": [],
   "source": []
  }
 ],
 "metadata": {
  "kernelspec": {
   "display_name": "Python 3 (ipykernel)",
   "language": "python",
   "name": "python3"
  },
  "language_info": {
   "codemirror_mode": {
    "name": "ipython",
    "version": 3
   },
   "file_extension": ".py",
   "mimetype": "text/x-python",
   "name": "python",
   "nbconvert_exporter": "python",
   "pygments_lexer": "ipython3",
   "version": "3.8.12"
  }
 },
 "nbformat": 4,
 "nbformat_minor": 5
}
