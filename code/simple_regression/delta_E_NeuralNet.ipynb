{
 "cells": [
  {
   "cell_type": "code",
   "execution_count": 1,
   "id": "98391daa",
   "metadata": {},
   "outputs": [],
   "source": [
    "import os\n",
    "import sys\n",
    "\n",
    "import matplotlib.pyplot as plt\n",
    "import numpy as np\n",
    "from rich.console import Console\n",
    "import torch\n",
    "import torch.nn as nn\n",
    "from sklearn.preprocessing import StandardScaler\n",
    "from copy import deepcopy\n",
    "\n",
    "sys.path.append(os.path.dirname(os.getcwd()))\n",
    "from tools.utils import (\n",
    "    StructureEncoding,\n",
    "    Target,\n",
    ")\n",
    "from tools.data_loader import TestSet, TestSplit, data_loader\n",
    "from tools.transform import CustomLogTargetTransformer\n",
    "from tools.train import evaluate_models\n",
    "%load_ext autoreload\n",
    "%load_ext rich\n",
    "%autoreload 2"
   ]
  },
  {
   "cell_type": "code",
   "execution_count": 2,
   "id": "af524e88",
   "metadata": {},
   "outputs": [],
   "source": [
    "console = Console()"
   ]
  },
  {
   "cell_type": "code",
   "execution_count": 3,
   "id": "a0621691",
   "metadata": {},
   "outputs": [],
   "source": [
    "device = torch.device(\"cuda:0\" if torch.cuda.is_available() else \"cpu\")"
   ]
  },
  {
   "cell_type": "markdown",
   "id": "d6fbb891",
   "metadata": {},
   "source": [
    "# Loading Data"
   ]
  },
  {
   "cell_type": "code",
   "execution_count": 4,
   "id": "2fab3f67",
   "metadata": {},
   "outputs": [],
   "source": [
    "DATA_DIR = os.path.join(\n",
    "    os.path.dirname(os.path.dirname(os.getcwd())), \"data/\"\n",
    ")\n",
    "DATA_PATH = os.path.join(DATA_DIR, \"data.csv\")"
   ]
  },
  {
   "cell_type": "code",
   "execution_count": 5,
   "id": "17a78dc0",
   "metadata": {},
   "outputs": [
    {
     "data": {
      "text/html": [
       "<pre style=\"white-space:pre;overflow-x:auto;line-height:normal;font-family:Menlo,'DejaVu Sans Mono',consolas,'Courier New',monospace\"><span style=\"color: #008000; text-decoration-color: #008000\">⠧</span> Loading data\n",
       "</pre>\n"
      ],
      "text/plain": [
       "\u001b[32m⠧\u001b[0m Loading data\n"
      ]
     },
     "metadata": {},
     "output_type": "display_data"
    },
    {
     "data": {
      "text/html": [
       "<pre style=\"white-space:pre;overflow-x:auto;line-height:normal;font-family:Menlo,'DejaVu Sans Mono',consolas,'Courier New',monospace\"></pre>\n"
      ],
      "text/plain": []
     },
     "metadata": {},
     "output_type": "display_data"
    },
    {
     "data": {
      "text/html": [
       "<pre style=\"white-space:pre;overflow-x:auto;line-height:normal;font-family:Menlo,'DejaVu Sans Mono',consolas,'Courier New',monospace\">╭───────── Loaded Dataset ─────────╮\n",
       "│ Train set: 80%                   │\n",
       "│ Test set 0 (Parameter gen.): 10% │\n",
       "│ Test set 1 (Structure gen.): 10% │\n",
       "│ Total datapoints: 539583         │\n",
       "│ Size: ~388.5MB                   │\n",
       "╰──────────────────────────────────╯\n",
       "</pre>\n"
      ],
      "text/plain": [
       "╭───────── Loaded Dataset ─────────╮\n",
       "│ Train set: 80%                   │\n",
       "│ Test set 0 (Parameter gen.): 10% │\n",
       "│ Test set 1 (Structure gen.): 10% │\n",
       "│ Total datapoints: 539583         │\n",
       "│ Size: ~388.5MB                   │\n",
       "╰──────────────────────────────────╯\n"
      ]
     },
     "metadata": {},
     "output_type": "display_data"
    }
   ],
   "source": [
    "encoding = StructureEncoding.ATOMIC\n",
    "target = Target.DELTA_E\n",
    "test_sets_cfg = [\n",
    "    TestSet(\"Parameter gen.\", size=0.1, split=TestSplit.ROW),\n",
    "    TestSet(\"Structure gen.\", size=0.1, split=TestSplit.STRUCTURE),\n",
    "]\n",
    "\n",
    "# Data Loading\n",
    "X_train_raw, y_train_raw, test_sets_raw = data_loader(\n",
    "    target=target,\n",
    "    encoding=encoding,\n",
    "    data_path=DATA_PATH,\n",
    "    test_sets_cfg=test_sets_cfg,\n",
    "    console=console,\n",
    "    remove_ref_rows=True,\n",
    ")"
   ]
  },
  {
   "cell_type": "code",
   "execution_count": 6,
   "id": "bed00b1d",
   "metadata": {},
   "outputs": [],
   "source": [
    "std_scaler = StandardScaler().fit(X_train_raw)\n",
    "target_transformer = CustomLogTargetTransformer().fit(y_train_raw)"
   ]
  },
  {
   "cell_type": "code",
   "execution_count": 7,
   "id": "79e51f04",
   "metadata": {},
   "outputs": [],
   "source": [
    "X_train = torch.Tensor(std_scaler.transform(X_train_raw)).to(device)\n",
    "y_train = torch.Tensor(y_train_raw.values).reshape(-1, 1).to(device)\n",
    "logy_train = torch.Tensor(target_transformer.transform(y_train_raw).values).reshape(-1,1).to(device)\n",
    "\n",
    "test_sets = []\n",
    "test_sets_log = []\n",
    "for name, X_test_raw, y_test_raw in test_sets_raw:\n",
    "    X_test = torch.Tensor(std_scaler.transform(X_test_raw)).to(device)\n",
    "    y_test = torch.Tensor(y_test_raw.values).reshape(-1, 1).to(device)\n",
    "    logy_test = torch.Tensor(target_transformer.transform(y_test_raw).values).reshape(-1, 1).to(device)\n",
    "    test_sets.append((name, X_test, y_test))\n",
    "    test_sets_log.append((name, X_test, logy_test))"
   ]
  },
  {
   "cell_type": "markdown",
   "id": "01c31922",
   "metadata": {},
   "source": [
    "# Model definition"
   ]
  },
  {
   "cell_type": "code",
   "execution_count": 8,
   "id": "6112f86b",
   "metadata": {},
   "outputs": [],
   "source": [
    "class MLP(nn.Module):\n",
    "    def __init__(self, input_size):\n",
    "        super(MLP, self).__init__()\n",
    "        N = 100\n",
    "        self.layers = nn.Sequential(\n",
    "            nn.Linear(input_size, N),\n",
    "            nn.ReLU(),\n",
    "            nn.Linear(N, N),\n",
    "            nn.ReLU(),\n",
    "            nn.Linear(N, N),\n",
    "            nn.ReLU(),\n",
    "            nn.Linear(N, 1),\n",
    "        )\n",
    "        \n",
    "    def forward(self, x):\n",
    "        return self.layers(x)\n",
    "    \n",
    "    def predict(self, x):\n",
    "        return self.forward(x).detach()"
   ]
  },
  {
   "cell_type": "code",
   "execution_count": 35,
   "id": "62ed00b2",
   "metadata": {},
   "outputs": [
    {
     "name": "stdout",
     "output_type": "stream",
     "text": [
      "MLP(\n",
      "  (layers): Sequential(\n",
      "    (0): Linear(in_features=89, out_features=100, bias=True)\n",
      "    (1): ReLU()\n",
      "    (2): Linear(in_features=100, out_features=100, bias=True)\n",
      "    (3): ReLU()\n",
      "    (4): Linear(in_features=100, out_features=100, bias=True)\n",
      "    (5): ReLU()\n",
      "    (6): Linear(in_features=100, out_features=1, bias=True)\n",
      "  )\n",
      ")\n"
     ]
    }
   ],
   "source": [
    "model = MLP(X_train.shape[1])\n",
    "model = model.to(device)\n",
    "print(model)"
   ]
  },
  {
   "cell_type": "code",
   "execution_count": 36,
   "id": "698473f9",
   "metadata": {},
   "outputs": [],
   "source": [
    "class MAPELoss(nn.Module):\n",
    "    def __init__(self, weight=None, size_average=True):\n",
    "        super(MAPELoss, self).__init__()\n",
    " \n",
    "    def forward(self, output, target):\n",
    "        return torch.mean((target - output).abs() / target.abs())"
   ]
  },
  {
   "cell_type": "code",
   "execution_count": 37,
   "id": "81c1d647",
   "metadata": {},
   "outputs": [
    {
     "name": "stdout",
     "output_type": "stream",
     "text": [
      "[Epoch 50/50]: train 5.7541e+00\ttests Parameter gen.: 5.7509E+00\tStructure gen.: 6.3889E+00\r"
     ]
    }
   ],
   "source": [
    "optimizer = torch.optim.Adam(model.parameters(), lr=1e-3)\n",
    "\n",
    "loss_fn = nn.MSELoss()\n",
    "loss_test = nn.MSELoss()\n",
    "\n",
    "epochs = 500\n",
    "\n",
    "for epoch in range(epochs):\n",
    "    # train phase\n",
    "    model.train()\n",
    "    y_pred = model(X_train)\n",
    "    loss = loss_fn(y_pred, logy_train)\n",
    "    optimizer.zero_grad()\n",
    "    loss.backward()\n",
    "    optimizer.step()\n",
    "\n",
    "    # eval phase\n",
    "    model.eval()\n",
    "    print(\n",
    "        f\"[Epoch {epoch+1}/{epochs}]: train {loss_test(model(X_train), logy_train):.4e}\"\n",
    "        +\"\\ttests \"\n",
    "        + \"\\t\".join([f\"{name}: {loss_test(model(X_test), y_test):.4E}\" for name, X_test, y_test in test_sets_log]),\n",
    "        end=\"\\r\"\n",
    "    )"
   ]
  },
  {
   "cell_type": "code",
   "execution_count": 41,
   "id": "e0932315",
   "metadata": {},
   "outputs": [
    {
     "data": {
      "text/html": [
       "<pre style=\"white-space:pre;overflow-x:auto;line-height:normal;font-family:Menlo,'DejaVu Sans Mono',consolas,'Courier New',monospace\"><span style=\"color: #008000; text-decoration-color: #008000\">⠙</span> <span style=\"color: #000080; text-decoration-color: #000080; font-weight: bold\">Evaluating MLP...</span>\n",
       "</pre>\n"
      ],
      "text/plain": [
       "\u001b[32m⠙\u001b[0m \u001b[1;34mEvaluating MLP...\u001b[0m\n"
      ]
     },
     "metadata": {},
     "output_type": "display_data"
    },
    {
     "data": {
      "text/html": [
       "<pre style=\"white-space:pre;overflow-x:auto;line-height:normal;font-family:Menlo,'DejaVu Sans Mono',consolas,'Courier New',monospace\"><span style=\"font-style: italic\">                                    MLP                                     </span>\n",
       "┏━━━━━━━━━━━━━┳━━━━━━━━━━━━┳━━━━━━━━━━━━━━━━━━━━━━━┳━━━━━━━━━━━━━━━━━━━━━━━┓\n",
       "┃<span style=\"font-weight: bold\">  Loss name  </span>┃<span style=\"font-weight: bold\">   Train    </span>┃<span style=\"font-weight: bold\"> Test - Parameter gen. </span>┃<span style=\"font-weight: bold\"> Test - Structure gen. </span>┃\n",
       "┡━━━━━━━━━━━━━╇━━━━━━━━━━━━╇━━━━━━━━━━━━━━━━━━━━━━━╇━━━━━━━━━━━━━━━━━━━━━━━┩\n",
       "│<span style=\"color: #008080; text-decoration-color: #008080\">     MSE     </span>│<span style=\"color: #008000; text-decoration-color: #008000\"> 5.7541E+00 </span>│<span style=\"color: #008000; text-decoration-color: #008000\">      5.7509E+00       </span>│<span style=\"color: #008000; text-decoration-color: #008000\">      6.3889E+00       </span>│\n",
       "│<span style=\"color: #008080; text-decoration-color: #008080\">     MAE     </span>│<span style=\"color: #008000; text-decoration-color: #008000\"> 1.9373E+00 </span>│<span style=\"color: #008000; text-decoration-color: #008000\">      1.9365E+00       </span>│<span style=\"color: #008000; text-decoration-color: #008000\">      2.0570E+00       </span>│\n",
       "│<span style=\"color: #008080; text-decoration-color: #008080\">    MAPE     </span>│<span style=\"color: #008000; text-decoration-color: #008000\"> 2.6796E-01 </span>│<span style=\"color: #008000; text-decoration-color: #008000\">      2.6770E-01       </span>│<span style=\"color: #008000; text-decoration-color: #008000\">      2.6958E-01       </span>│\n",
       "│<span style=\"color: #008080; text-decoration-color: #008080\"> Custom MAPE </span>│<span style=\"color: #008000; text-decoration-color: #008000\"> 7.2496E-02 </span>│<span style=\"color: #008000; text-decoration-color: #008000\">      7.8948E-02       </span>│<span style=\"color: #008000; text-decoration-color: #008000\">      1.2987E+02       </span>│\n",
       "│<span style=\"color: #008080; text-decoration-color: #008080\">   50%-APE   </span>│<span style=\"color: #008000; text-decoration-color: #008000\"> 2.0388E-01 </span>│<span style=\"color: #008000; text-decoration-color: #008000\">      2.0357E-01       </span>│<span style=\"color: #008000; text-decoration-color: #008000\">      2.1674E-01       </span>│\n",
       "│<span style=\"color: #008080; text-decoration-color: #008080\">   90%-APE   </span>│<span style=\"color: #008000; text-decoration-color: #008000\"> 4.3344E-01 </span>│<span style=\"color: #008000; text-decoration-color: #008000\">      4.3281E-01       </span>│<span style=\"color: #008000; text-decoration-color: #008000\">      4.3206E-01       </span>│\n",
       "└─────────────┴────────────┴───────────────────────┴───────────────────────┘\n",
       "</pre>\n"
      ],
      "text/plain": [
       "\u001b[3m                                    MLP                                     \u001b[0m\n",
       "┏━━━━━━━━━━━━━┳━━━━━━━━━━━━┳━━━━━━━━━━━━━━━━━━━━━━━┳━━━━━━━━━━━━━━━━━━━━━━━┓\n",
       "┃\u001b[1m \u001b[0m\u001b[1m Loss name \u001b[0m\u001b[1m \u001b[0m┃\u001b[1m \u001b[0m\u001b[1m  Train   \u001b[0m\u001b[1m \u001b[0m┃\u001b[1m \u001b[0m\u001b[1mTest - Parameter gen.\u001b[0m\u001b[1m \u001b[0m┃\u001b[1m \u001b[0m\u001b[1mTest - Structure gen.\u001b[0m\u001b[1m \u001b[0m┃\n",
       "┡━━━━━━━━━━━━━╇━━━━━━━━━━━━╇━━━━━━━━━━━━━━━━━━━━━━━╇━━━━━━━━━━━━━━━━━━━━━━━┩\n",
       "│\u001b[36m \u001b[0m\u001b[36m    MSE    \u001b[0m\u001b[36m \u001b[0m│\u001b[32m \u001b[0m\u001b[32m5.7541E+00\u001b[0m\u001b[32m \u001b[0m│\u001b[32m \u001b[0m\u001b[32m     5.7509E+00      \u001b[0m\u001b[32m \u001b[0m│\u001b[32m \u001b[0m\u001b[32m     6.3889E+00      \u001b[0m\u001b[32m \u001b[0m│\n",
       "│\u001b[36m \u001b[0m\u001b[36m    MAE    \u001b[0m\u001b[36m \u001b[0m│\u001b[32m \u001b[0m\u001b[32m1.9373E+00\u001b[0m\u001b[32m \u001b[0m│\u001b[32m \u001b[0m\u001b[32m     1.9365E+00      \u001b[0m\u001b[32m \u001b[0m│\u001b[32m \u001b[0m\u001b[32m     2.0570E+00      \u001b[0m\u001b[32m \u001b[0m│\n",
       "│\u001b[36m \u001b[0m\u001b[36m   MAPE    \u001b[0m\u001b[36m \u001b[0m│\u001b[32m \u001b[0m\u001b[32m2.6796E-01\u001b[0m\u001b[32m \u001b[0m│\u001b[32m \u001b[0m\u001b[32m     2.6770E-01      \u001b[0m\u001b[32m \u001b[0m│\u001b[32m \u001b[0m\u001b[32m     2.6958E-01      \u001b[0m\u001b[32m \u001b[0m│\n",
       "│\u001b[36m \u001b[0m\u001b[36mCustom MAPE\u001b[0m\u001b[36m \u001b[0m│\u001b[32m \u001b[0m\u001b[32m7.2496E-02\u001b[0m\u001b[32m \u001b[0m│\u001b[32m \u001b[0m\u001b[32m     7.8948E-02      \u001b[0m\u001b[32m \u001b[0m│\u001b[32m \u001b[0m\u001b[32m     1.2987E+02      \u001b[0m\u001b[32m \u001b[0m│\n",
       "│\u001b[36m \u001b[0m\u001b[36m  50%-APE  \u001b[0m\u001b[36m \u001b[0m│\u001b[32m \u001b[0m\u001b[32m2.0388E-01\u001b[0m\u001b[32m \u001b[0m│\u001b[32m \u001b[0m\u001b[32m     2.0357E-01      \u001b[0m\u001b[32m \u001b[0m│\u001b[32m \u001b[0m\u001b[32m     2.1674E-01      \u001b[0m\u001b[32m \u001b[0m│\n",
       "│\u001b[36m \u001b[0m\u001b[36m  90%-APE  \u001b[0m\u001b[36m \u001b[0m│\u001b[32m \u001b[0m\u001b[32m4.3344E-01\u001b[0m\u001b[32m \u001b[0m│\u001b[32m \u001b[0m\u001b[32m     4.3281E-01      \u001b[0m\u001b[32m \u001b[0m│\u001b[32m \u001b[0m\u001b[32m     4.3206E-01      \u001b[0m\u001b[32m \u001b[0m│\n",
       "└─────────────┴────────────┴───────────────────────┴───────────────────────┘\n"
      ]
     },
     "metadata": {},
     "output_type": "display_data"
    },
    {
     "data": {
      "text/html": [
       "<pre style=\"white-space:pre;overflow-x:auto;line-height:normal;font-family:Menlo,'DejaVu Sans Mono',consolas,'Courier New',monospace\"></pre>\n"
      ],
      "text/plain": []
     },
     "metadata": {},
     "output_type": "display_data"
    }
   ],
   "source": [
    "evaluate_models(\n",
    "    {\"MLP\": deepcopy(model).to(\"cpu\")},\n",
    "    X_train.cpu(),\n",
    "    logy_train.cpu(),\n",
    "    [(name, X_test.cpu(), y_test.cpu()) for name, X_test, y_test in test_sets_log],\n",
    "    console,\n",
    ")"
   ]
  },
  {
   "cell_type": "code",
   "execution_count": 39,
   "id": "b8ea11b9",
   "metadata": {},
   "outputs": [
    {
     "data": {
      "text/html": [
       "<pre style=\"white-space:pre;overflow-x:auto;line-height:normal;font-family:Menlo,'DejaVu Sans Mono',consolas,'Courier New',monospace\"><span style=\"color: #800080; text-decoration-color: #800080; font-weight: bold\">Text</span><span style=\"font-weight: bold\">(</span><span style=\"color: #008080; text-decoration-color: #008080; font-weight: bold\">0.5</span>, <span style=\"color: #008080; text-decoration-color: #008080; font-weight: bold\">0</span>, <span style=\"color: #008000; text-decoration-color: #008000\">'ecutwfc'</span><span style=\"font-weight: bold\">)</span>\n",
       "</pre>\n"
      ],
      "text/plain": [
       "\u001b[1;35mText\u001b[0m\u001b[1m(\u001b[0m\u001b[1;36m0.5\u001b[0m, \u001b[1;36m0\u001b[0m, \u001b[32m'ecutwfc'\u001b[0m\u001b[1m)\u001b[0m\n"
      ]
     },
     "metadata": {},
     "output_type": "display_data"
    },
    {
     "data": {
      "image/png": "[encoded data removed]"
     },
     "metadata": {
      "needs_background": "light"
     },
     "output_type": "display_data"
    }
   ],
   "source": [
    "import matplotlib.pyplot as plt\n",
    "fig, ax = plt.subplots(1,3,figsize=(18,6), sharey=True)\n",
    "for i in range(3):\n",
    "    ax[i].scatter(X_train.cpu().numpy()[:,i], logy_train.cpu())\n",
    "    ax[i].scatter(X_test.cpu().numpy()[:,i], logy_test.cpu())\n",
    "    ax[i].scatter(X_test.cpu().numpy()[:,i], model(X_test).cpu().detach())\n",
    "ax[0].set_xlabel(\"ecutrho\")\n",
    "ax[1].set_xlabel('k_density')\n",
    "ax[2].set_xlabel('ecutwfc')"
   ]
  }
 ],
 "metadata": {
  "kernelspec": {
   "display_name": "Python 3",
   "language": "python",
   "name": "python3"
  },
  "language_info": {
   "codemirror_mode": {
    "name": "ipython",
    "version": 3
   },
   "file_extension": ".py",
   "mimetype": "text/x-python",
   "name": "python",
   "nbconvert_exporter": "python",
   "pygments_lexer": "ipython3",
   "version": "3.8.10"
  }
 },
 "nbformat": 4,
 "nbformat_minor": 5
}
