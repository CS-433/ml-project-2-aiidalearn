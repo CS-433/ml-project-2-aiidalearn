{
 "cells": [
  {
   "cell_type": "code",
   "execution_count": 1,
   "id": "98391daa",
   "metadata": {},
   "outputs": [],
   "source": [
    "import os\n",
    "import sys\n",
    "\n",
    "import matplotlib.pyplot as plt\n",
    "import numpy as np\n",
    "import pandas as pd\n",
    "import torch\n",
    "import torch.nn as nn\n",
    "from mpl_toolkits.mplot3d import Axes3D\n",
    "from sklearn.model_selection import train_test_split\n",
    "from sklearn.preprocessing import StandardScaler\n",
    "from torch.autograd import Variable\n",
    "\n",
    "sys.path.append(os.path.dirname(os.getcwd()))\n",
    "from tools.utils import (PERIODIC_TABLE_INFO, PTC_COLNAMES, Encoding,\n",
    "                         custom_mape, encode_all_structures)\n",
    "%load_ext autoreload\n",
    "%autoreload 2"
   ]
  },
  {
   "cell_type": "markdown",
   "id": "d6fbb891",
   "metadata": {},
   "source": [
    "# Loading Data"
   ]
  },
  {
   "cell_type": "code",
   "execution_count": 2,
   "id": "2fab3f67",
   "metadata": {},
   "outputs": [],
   "source": [
    "DATA_DIR = os.path.join(\n",
    "    os.path.dirname(os.path.dirname(os.getcwd())), \"data/\"\n",
    ")"
   ]
  },
  {
   "cell_type": "code",
   "execution_count": 3,
   "id": "17a78dc0",
   "metadata": {},
   "outputs": [],
   "source": [
    "encoding = Encoding.COLUMN_MASS\n",
    "\n",
    "df = pd.read_csv(os.path.join(DATA_DIR, \"data.csv\"), index_col=0, na_filter= False)\n",
    "df = encode_all_structures(df, encoding)"
   ]
  },
  {
   "cell_type": "code",
   "execution_count": 4,
   "id": "41f21fbe",
   "metadata": {},
   "outputs": [],
   "source": [
    "cols_raw = list(df.columns)\n",
    "cols_trash = [\"structure\", 'converged', 'accuracy', \"n_iterations\", \"time\", \"fermi\", \"total_energy\"]\n",
    "cols_independent = ['delta_E']\n",
    "cols_drop = cols_trash + cols_independent\n",
    "\n",
    "cols_dependent = cols_raw.copy()\n",
    "for element in cols_drop:\n",
    "    cols_dependent.remove(element)"
   ]
  },
  {
   "cell_type": "code",
   "execution_count": 5,
   "id": "79e51f04",
   "metadata": {},
   "outputs": [],
   "source": [
    "std_scaler = StandardScaler()\n",
    "X_raw = torch.Tensor(std_scaler.fit_transform(df[cols_dependent][df[\"converged\"]].values))\n",
    "y_raw = torch.Tensor(np.abs(df[cols_independent][df[\"converged\"]]).values)"
   ]
  },
  {
   "cell_type": "markdown",
   "id": "ebc80ac0",
   "metadata": {},
   "source": [
    "# Train-Test-Split"
   ]
  },
  {
   "cell_type": "code",
   "execution_count": 6,
   "id": "5084974c",
   "metadata": {},
   "outputs": [],
   "source": [
    "X_train, X_test, y_train, y_test = train_test_split(\n",
    "    X_raw, y_raw,\n",
    "    test_size=0.2,\n",
    "    random_state=42\n",
    ")"
   ]
  },
  {
   "cell_type": "code",
   "execution_count": 18,
   "id": "469a0009",
   "metadata": {},
   "outputs": [],
   "source": [
    "# dataloader\n",
    "train_loader = torch.utils.data.DataLoader(\n",
    "    torch.utils.data.TensorDataset(X_train, y_train),\n",
    "    batch_size=4096, shuffle=True\n",
    ")"
   ]
  },
  {
   "cell_type": "code",
   "execution_count": 19,
   "id": "cead4713",
   "metadata": {},
   "outputs": [
    {
     "name": "stdout",
     "output_type": "stream",
     "text": [
      "0.0 4.999997e-09\n"
     ]
    }
   ],
   "source": [
    "class LogTransform:\n",
    "    def __init__(self, y):\n",
    "        self.miny = float(torch.min(y))\n",
    "        miny2 = sorted(set(list(y.squeeze().numpy())))[1]\n",
    "        print(self.miny, miny2)\n",
    "        self.eps = (miny2 - self.miny)/10\n",
    "\n",
    "    def transform(self, y):\n",
    "        return np.log(y - self.miny + self.eps)\n",
    "        \n",
    "    def inverse_transform(self, logy):\n",
    "        return np.exp(logy) + self.miny - self.eps\n",
    "\n",
    "log_transform = LogTransform(y_raw)\n",
    "\n",
    "logy_train = log_transform.transform(y_train)\n",
    "logy_test = log_transform.transform(y_test)"
   ]
  },
  {
   "cell_type": "code",
   "execution_count": 20,
   "id": "7442c1a1",
   "metadata": {},
   "outputs": [],
   "source": [
    "# dataloader\n",
    "train_log_loader = torch.utils.data.DataLoader(\n",
    "    torch.utils.data.TensorDataset(X_train, logy_train),\n",
    "    batch_size=4096, shuffle=True\n",
    ")"
   ]
  },
  {
   "cell_type": "markdown",
   "id": "01c31922",
   "metadata": {},
   "source": [
    "# Model definition"
   ]
  },
  {
   "cell_type": "code",
   "execution_count": 21,
   "id": "6112f86b",
   "metadata": {},
   "outputs": [],
   "source": [
    "class MLP(nn.Module):\n",
    "    def __init__(self, input_size):\n",
    "        super(MLP, self).__init__()\n",
    "        N = 50\n",
    "        self.layers = nn.Sequential(\n",
    "            nn.Linear(input_size, N),\n",
    "            nn.ReLU(),\n",
    "            nn.Dropout(p=0.5),\n",
    "            nn.Linear(N, N),\n",
    "            nn.ReLU(),\n",
    "            nn.Linear(N, 1)\n",
    "        )\n",
    "        \n",
    "    def forward(self, x):\n",
    "        return self.layers(x)"
   ]
  },
  {
   "cell_type": "code",
   "execution_count": 22,
   "id": "62ed00b2",
   "metadata": {},
   "outputs": [
    {
     "name": "stdout",
     "output_type": "stream",
     "text": [
      "MLP(\n",
      "  (layers): Sequential(\n",
      "    (0): Linear(in_features=22, out_features=50, bias=True)\n",
      "    (1): ReLU()\n",
      "    (2): Dropout(p=0.5, inplace=False)\n",
      "    (3): Linear(in_features=50, out_features=50, bias=True)\n",
      "    (4): ReLU()\n",
      "    (5): Linear(in_features=50, out_features=1, bias=True)\n",
      "  )\n",
      ")\n"
     ]
    }
   ],
   "source": [
    "model = MLP(X_train.shape[1])\n",
    "print(model)"
   ]
  },
  {
   "cell_type": "code",
   "execution_count": 23,
   "id": "b89202bc",
   "metadata": {},
   "outputs": [],
   "source": [
    "# train neural networks on gpu if available\n",
    "device = torch.device(\"cuda:0\" if torch.cuda.is_available() else \"cpu\")\n",
    "model = model.to(device)"
   ]
  },
  {
   "cell_type": "code",
   "execution_count": 24,
   "id": "81c1d647",
   "metadata": {},
   "outputs": [
    {
     "name": "stdout",
     "output_type": "stream",
     "text": [
      "[Epoch 100/100]:\ttrain 1.7003e+00\ttest 4.5999e+01\r"
     ]
    }
   ],
   "source": [
    "optimizer = torch.optim.Adam(model.parameters(), lr=1e-1)\n",
    "loss_fn = nn.MSELoss()\n",
    "\n",
    "epochs = 100\n",
    "\n",
    "# train neural networks using batch\n",
    "model.train()\n",
    "for epoch in range(epochs):\n",
    "    train_losses = []\n",
    "    # for X_batch, y_batch in train_loader:\n",
    "    for X_batch, y_batch in train_log_loader:\n",
    "        X_batch, y_batch = X_batch.to(device),y_batch.to(device)\n",
    "        y_pred = model(X_batch)\n",
    "        loss = loss_fn(y_pred, y_batch)\n",
    "        train_losses.append(loss.item())\n",
    "        optimizer.zero_grad()\n",
    "        loss.backward()\n",
    "        optimizer.step()\n",
    "    model.eval()\n",
    "    # test_loss = loss_fn(model(X_test.to(device)).cpu().detach(), y_test)\n",
    "    test_loss = loss_fn(model(X_test.to(device)).cpu().detach(), logy_test)\n",
    "    print(f\"[Epoch {epoch+1}/{epochs}]:\\ttrain {np.mean(train_losses):.4e}\\ttest {test_loss:.4e}\", end=\"\\r\")"
   ]
  },
  {
   "cell_type": "code",
   "execution_count": 27,
   "id": "9ec80afa",
   "metadata": {},
   "outputs": [],
   "source": [
    "preds = model(X_test.to(device)).cpu().detach().numpy().squeeze()"
   ]
  },
  {
   "cell_type": "code",
   "execution_count": 29,
   "id": "b8ea11b9",
   "metadata": {},
   "outputs": [
    {
     "data": {
      "text/plain": [
       "Text(0.5, 0, 'ecutwfc')"
      ]
     },
     "execution_count": 29,
     "metadata": {},
     "output_type": "execute_result"
    },
    {
     "data": {
      "image/png": "[encoded data removed]",
      "text/plain": [
       "<Figure size 1296x432 with 3 Axes>"
      ]
     },
     "metadata": {
      "needs_background": "light"
     },
     "output_type": "display_data"
    }
   ],
   "source": [
    "import matplotlib.pyplot as plt\n",
    "fig, ax = plt.subplots(1,3,figsize=(18,6), sharey=True)\n",
    "for i in range(3):\n",
    "    ax[i].scatter(X_train.numpy()[:,i], logy_train)\n",
    "    ax[i].scatter(X_test.numpy()[:,i], logy_test)\n",
    "    ax[i].scatter(X_test.numpy()[:,i], preds)\n",
    "ax[0].set_xlabel(\"ecutrho\")\n",
    "ax[1].set_xlabel('k_density')\n",
    "ax[2].set_xlabel('ecutwfc')"
   ]
  }
 ],
 "metadata": {
  "kernelspec": {
   "display_name": "Python 3",
   "language": "python",
   "name": "python3"
  },
  "language_info": {
   "codemirror_mode": {
    "name": "ipython",
    "version": 3
   },
   "file_extension": ".py",
   "mimetype": "text/x-python",
   "name": "python",
   "nbconvert_exporter": "python",
   "pygments_lexer": "ipython3",
   "version": "3.8.10"
  }
 },
 "nbformat": 4,
 "nbformat_minor": 5
}
