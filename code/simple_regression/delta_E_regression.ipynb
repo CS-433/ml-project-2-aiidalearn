{
 "cells": [
  {
   "cell_type": "code",
   "execution_count": 1,
   "id": "f72e6a6c",
   "metadata": {},
   "outputs": [],
   "source": [
    "import os\n",
    "import numpy as np\n",
    "import pandas as pd\n",
    "import sys\n",
    "\n",
    "from sklearn.pipeline import Pipeline, FeatureUnion\n",
    "from sklearn.preprocessing import StandardScaler, PolynomialFeatures, FunctionTransformer\n",
    "from sklearn.linear_model import LinearRegression\n",
    "from sklearn.ensemble import RandomForestRegressor, GradientBoostingRegressor\n",
    "from sklearn.model_selection import train_test_split\n",
    "from sklearn.metrics import mean_squared_error, mean_absolute_percentage_error, mean_absolute_error\n",
    "\n",
    "import xgboost as xgb\n",
    "import lightgbm as lgb\n",
    "\n",
    "import matplotlib.pyplot as plt\n",
    "from mpl_toolkits.mplot3d import Axes3D\n",
    "\n",
    "sys.path.append(os.path.dirname(os.getcwd()))\n",
    "from tools.utils import PERIODIC_TABLE_INFO, PTC_COLNAMES, encode_all_structures, Encoding, custom_mape"
   ]
  },
  {
   "cell_type": "code",
   "execution_count": 2,
   "id": "c52ef9f3",
   "metadata": {},
   "outputs": [],
   "source": [
    "DATA_DIR = os.path.join(\n",
    "    os.path.dirname(os.path.dirname(os.getcwd())), \"data/\"\n",
    ")"
   ]
  },
  {
   "cell_type": "markdown",
   "id": "330d9f5c",
   "metadata": {},
   "source": [
    "# Loading Data"
   ]
  },
  {
   "cell_type": "code",
   "execution_count": 3,
   "id": "7544e81a",
   "metadata": {},
   "outputs": [],
   "source": [
    "encoding = Encoding.COLUMN_MASS\n",
    "\n",
    "df = pd.read_csv(os.path.join(DATA_DIR, \"data.csv\"), index_col=0, na_filter= False)\n",
    "df = encode_all_structures(df, encoding)"
   ]
  },
  {
   "cell_type": "code",
   "execution_count": 4,
   "id": "4fc753ef",
   "metadata": {},
   "outputs": [],
   "source": [
    "cols_raw = list(df.columns)\n",
    "cols_trash = [\"structure\", 'converged', 'accuracy', \"n_iterations\", \"time\", \"fermi\", \"total_energy\"]\n",
    "cols_independent = ['delta_E']\n",
    "cols_drop = cols_trash + cols_independent\n",
    "\n",
    "cols_dependent = cols_raw.copy()\n",
    "for element in cols_drop:\n",
    "    cols_dependent.remove(element)"
   ]
  },
  {
   "cell_type": "code",
   "execution_count": 5,
   "id": "3b14d721",
   "metadata": {},
   "outputs": [],
   "source": [
    "X_raw = df[cols_dependent][df[\"converged\"]]\n",
    "y_raw = np.abs(df[cols_independent][df[\"converged\"]]).squeeze()"
   ]
  },
  {
   "cell_type": "code",
   "execution_count": 6,
   "id": "d150f25c",
   "metadata": {},
   "outputs": [
    {
     "data": {
      "text/html": [
       "<div>\n",
       "<style scoped>\n",
       "    .dataframe tbody tr th:only-of-type {\n",
       "        vertical-align: middle;\n",
       "    }\n",
       "\n",
       "    .dataframe tbody tr th {\n",
       "        vertical-align: top;\n",
       "    }\n",
       "\n",
       "    .dataframe thead th {\n",
       "        text-align: right;\n",
       "    }\n",
       "</style>\n",
       "<table border=\"1\" class=\"dataframe\">\n",
       "  <thead>\n",
       "    <tr style=\"text-align: right;\">\n",
       "      <th></th>\n",
       "      <th>ecutrho</th>\n",
       "      <th>k_density</th>\n",
       "      <th>ecutwfc</th>\n",
       "      <th>Lant</th>\n",
       "      <th>PTC1</th>\n",
       "      <th>PTC2</th>\n",
       "      <th>PTC3</th>\n",
       "      <th>PTC4</th>\n",
       "      <th>PTC5</th>\n",
       "      <th>PTC6</th>\n",
       "      <th>...</th>\n",
       "      <th>PTC9</th>\n",
       "      <th>PTC10</th>\n",
       "      <th>PTC11</th>\n",
       "      <th>PTC12</th>\n",
       "      <th>PTC13</th>\n",
       "      <th>PTC14</th>\n",
       "      <th>PTC15</th>\n",
       "      <th>PTC16</th>\n",
       "      <th>PTC17</th>\n",
       "      <th>PTC18</th>\n",
       "    </tr>\n",
       "  </thead>\n",
       "  <tbody>\n",
       "    <tr>\n",
       "      <th>count</th>\n",
       "      <td>272762.000000</td>\n",
       "      <td>272762.000000</td>\n",
       "      <td>272762.000000</td>\n",
       "      <td>272762.000000</td>\n",
       "      <td>272762.000000</td>\n",
       "      <td>272762.000000</td>\n",
       "      <td>272762.000000</td>\n",
       "      <td>272762.000000</td>\n",
       "      <td>272762.000000</td>\n",
       "      <td>272762.000000</td>\n",
       "      <td>...</td>\n",
       "      <td>272762.000000</td>\n",
       "      <td>272762.000000</td>\n",
       "      <td>272762.000000</td>\n",
       "      <td>272762.000000</td>\n",
       "      <td>272762.000000</td>\n",
       "      <td>272762.000000</td>\n",
       "      <td>272762.000000</td>\n",
       "      <td>272762.000000</td>\n",
       "      <td>272762.000000</td>\n",
       "      <td>272762.0</td>\n",
       "    </tr>\n",
       "    <tr>\n",
       "      <th>mean</th>\n",
       "      <td>243.637750</td>\n",
       "      <td>5.917276</td>\n",
       "      <td>55.419083</td>\n",
       "      <td>0.159506</td>\n",
       "      <td>0.049458</td>\n",
       "      <td>0.037120</td>\n",
       "      <td>0.028267</td>\n",
       "      <td>0.040596</td>\n",
       "      <td>0.028786</td>\n",
       "      <td>0.028198</td>\n",
       "      <td>...</td>\n",
       "      <td>0.067855</td>\n",
       "      <td>0.069810</td>\n",
       "      <td>0.066175</td>\n",
       "      <td>0.058606</td>\n",
       "      <td>0.056158</td>\n",
       "      <td>0.044858</td>\n",
       "      <td>0.061569</td>\n",
       "      <td>0.061289</td>\n",
       "      <td>0.021883</td>\n",
       "      <td>0.0</td>\n",
       "    </tr>\n",
       "    <tr>\n",
       "      <th>std</th>\n",
       "      <td>89.648334</td>\n",
       "      <td>2.822805</td>\n",
       "      <td>23.920181</td>\n",
       "      <td>0.290103</td>\n",
       "      <td>0.170662</td>\n",
       "      <td>0.131902</td>\n",
       "      <td>0.119200</td>\n",
       "      <td>0.153130</td>\n",
       "      <td>0.120652</td>\n",
       "      <td>0.126566</td>\n",
       "      <td>...</td>\n",
       "      <td>0.201673</td>\n",
       "      <td>0.210226</td>\n",
       "      <td>0.200467</td>\n",
       "      <td>0.184161</td>\n",
       "      <td>0.162863</td>\n",
       "      <td>0.151152</td>\n",
       "      <td>0.171189</td>\n",
       "      <td>0.159208</td>\n",
       "      <td>0.115921</td>\n",
       "      <td>0.0</td>\n",
       "    </tr>\n",
       "    <tr>\n",
       "      <th>min</th>\n",
       "      <td>100.000000</td>\n",
       "      <td>2.000000</td>\n",
       "      <td>20.000000</td>\n",
       "      <td>0.000000</td>\n",
       "      <td>0.000000</td>\n",
       "      <td>0.000000</td>\n",
       "      <td>0.000000</td>\n",
       "      <td>0.000000</td>\n",
       "      <td>0.000000</td>\n",
       "      <td>0.000000</td>\n",
       "      <td>...</td>\n",
       "      <td>0.000000</td>\n",
       "      <td>0.000000</td>\n",
       "      <td>0.000000</td>\n",
       "      <td>0.000000</td>\n",
       "      <td>0.000000</td>\n",
       "      <td>0.000000</td>\n",
       "      <td>0.000000</td>\n",
       "      <td>0.000000</td>\n",
       "      <td>0.000000</td>\n",
       "      <td>0.0</td>\n",
       "    </tr>\n",
       "    <tr>\n",
       "      <th>25%</th>\n",
       "      <td>180.000000</td>\n",
       "      <td>4.000000</td>\n",
       "      <td>35.000000</td>\n",
       "      <td>0.000000</td>\n",
       "      <td>0.000000</td>\n",
       "      <td>0.000000</td>\n",
       "      <td>0.000000</td>\n",
       "      <td>0.000000</td>\n",
       "      <td>0.000000</td>\n",
       "      <td>0.000000</td>\n",
       "      <td>...</td>\n",
       "      <td>0.000000</td>\n",
       "      <td>0.000000</td>\n",
       "      <td>0.000000</td>\n",
       "      <td>0.000000</td>\n",
       "      <td>0.000000</td>\n",
       "      <td>0.000000</td>\n",
       "      <td>0.000000</td>\n",
       "      <td>0.000000</td>\n",
       "      <td>0.000000</td>\n",
       "      <td>0.0</td>\n",
       "    </tr>\n",
       "    <tr>\n",
       "      <th>50%</th>\n",
       "      <td>260.000000</td>\n",
       "      <td>6.000000</td>\n",
       "      <td>55.000000</td>\n",
       "      <td>0.000000</td>\n",
       "      <td>0.000000</td>\n",
       "      <td>0.000000</td>\n",
       "      <td>0.000000</td>\n",
       "      <td>0.000000</td>\n",
       "      <td>0.000000</td>\n",
       "      <td>0.000000</td>\n",
       "      <td>...</td>\n",
       "      <td>0.000000</td>\n",
       "      <td>0.000000</td>\n",
       "      <td>0.000000</td>\n",
       "      <td>0.000000</td>\n",
       "      <td>0.000000</td>\n",
       "      <td>0.000000</td>\n",
       "      <td>0.000000</td>\n",
       "      <td>0.000000</td>\n",
       "      <td>0.000000</td>\n",
       "      <td>0.0</td>\n",
       "    </tr>\n",
       "    <tr>\n",
       "      <th>75%</th>\n",
       "      <td>340.000000</td>\n",
       "      <td>8.000000</td>\n",
       "      <td>75.000000</td>\n",
       "      <td>0.000000</td>\n",
       "      <td>0.000000</td>\n",
       "      <td>0.000000</td>\n",
       "      <td>0.000000</td>\n",
       "      <td>0.000000</td>\n",
       "      <td>0.000000</td>\n",
       "      <td>0.000000</td>\n",
       "      <td>...</td>\n",
       "      <td>0.000000</td>\n",
       "      <td>0.000000</td>\n",
       "      <td>0.000000</td>\n",
       "      <td>0.000000</td>\n",
       "      <td>0.000000</td>\n",
       "      <td>0.000000</td>\n",
       "      <td>0.000000</td>\n",
       "      <td>0.000000</td>\n",
       "      <td>0.000000</td>\n",
       "      <td>0.0</td>\n",
       "    </tr>\n",
       "    <tr>\n",
       "      <th>max</th>\n",
       "      <td>380.000000</td>\n",
       "      <td>10.000000</td>\n",
       "      <td>100.000000</td>\n",
       "      <td>0.994010</td>\n",
       "      <td>0.924776</td>\n",
       "      <td>0.919574</td>\n",
       "      <td>0.789162</td>\n",
       "      <td>0.989072</td>\n",
       "      <td>0.885522</td>\n",
       "      <td>0.980984</td>\n",
       "      <td>...</td>\n",
       "      <td>0.983185</td>\n",
       "      <td>0.983118</td>\n",
       "      <td>0.942526</td>\n",
       "      <td>0.926130</td>\n",
       "      <td>0.967155</td>\n",
       "      <td>0.967587</td>\n",
       "      <td>0.967854</td>\n",
       "      <td>0.934031</td>\n",
       "      <td>0.987543</td>\n",
       "      <td>0.0</td>\n",
       "    </tr>\n",
       "  </tbody>\n",
       "</table>\n",
       "<p>8 rows × 22 columns</p>\n",
       "</div>"
      ],
      "text/plain": [
       "             ecutrho      k_density        ecutwfc           Lant  \\\n",
       "count  272762.000000  272762.000000  272762.000000  272762.000000   \n",
       "mean      243.637750       5.917276      55.419083       0.159506   \n",
       "std        89.648334       2.822805      23.920181       0.290103   \n",
       "min       100.000000       2.000000      20.000000       0.000000   \n",
       "25%       180.000000       4.000000      35.000000       0.000000   \n",
       "50%       260.000000       6.000000      55.000000       0.000000   \n",
       "75%       340.000000       8.000000      75.000000       0.000000   \n",
       "max       380.000000      10.000000     100.000000       0.994010   \n",
       "\n",
       "                PTC1           PTC2           PTC3           PTC4  \\\n",
       "count  272762.000000  272762.000000  272762.000000  272762.000000   \n",
       "mean        0.049458       0.037120       0.028267       0.040596   \n",
       "std         0.170662       0.131902       0.119200       0.153130   \n",
       "min         0.000000       0.000000       0.000000       0.000000   \n",
       "25%         0.000000       0.000000       0.000000       0.000000   \n",
       "50%         0.000000       0.000000       0.000000       0.000000   \n",
       "75%         0.000000       0.000000       0.000000       0.000000   \n",
       "max         0.924776       0.919574       0.789162       0.989072   \n",
       "\n",
       "                PTC5           PTC6  ...           PTC9          PTC10  \\\n",
       "count  272762.000000  272762.000000  ...  272762.000000  272762.000000   \n",
       "mean        0.028786       0.028198  ...       0.067855       0.069810   \n",
       "std         0.120652       0.126566  ...       0.201673       0.210226   \n",
       "min         0.000000       0.000000  ...       0.000000       0.000000   \n",
       "25%         0.000000       0.000000  ...       0.000000       0.000000   \n",
       "50%         0.000000       0.000000  ...       0.000000       0.000000   \n",
       "75%         0.000000       0.000000  ...       0.000000       0.000000   \n",
       "max         0.885522       0.980984  ...       0.983185       0.983118   \n",
       "\n",
       "               PTC11          PTC12          PTC13          PTC14  \\\n",
       "count  272762.000000  272762.000000  272762.000000  272762.000000   \n",
       "mean        0.066175       0.058606       0.056158       0.044858   \n",
       "std         0.200467       0.184161       0.162863       0.151152   \n",
       "min         0.000000       0.000000       0.000000       0.000000   \n",
       "25%         0.000000       0.000000       0.000000       0.000000   \n",
       "50%         0.000000       0.000000       0.000000       0.000000   \n",
       "75%         0.000000       0.000000       0.000000       0.000000   \n",
       "max         0.942526       0.926130       0.967155       0.967587   \n",
       "\n",
       "               PTC15          PTC16          PTC17     PTC18  \n",
       "count  272762.000000  272762.000000  272762.000000  272762.0  \n",
       "mean        0.061569       0.061289       0.021883       0.0  \n",
       "std         0.171189       0.159208       0.115921       0.0  \n",
       "min         0.000000       0.000000       0.000000       0.0  \n",
       "25%         0.000000       0.000000       0.000000       0.0  \n",
       "50%         0.000000       0.000000       0.000000       0.0  \n",
       "75%         0.000000       0.000000       0.000000       0.0  \n",
       "max         0.967854       0.934031       0.987543       0.0  \n",
       "\n",
       "[8 rows x 22 columns]"
      ]
     },
     "execution_count": 6,
     "metadata": {},
     "output_type": "execute_result"
    }
   ],
   "source": [
    "X_raw.describe()"
   ]
  },
  {
   "cell_type": "markdown",
   "id": "55ba3f2f",
   "metadata": {},
   "source": [
    "# Train-Test-Split"
   ]
  },
  {
   "cell_type": "code",
   "execution_count": 7,
   "id": "13a295e9",
   "metadata": {},
   "outputs": [],
   "source": [
    "X_train, X_test, y_train, y_test = train_test_split(\n",
    "    X_raw, y_raw,\n",
    "    test_size=0.2,\n",
    "    random_state=42\n",
    ")"
   ]
  },
  {
   "cell_type": "markdown",
   "id": "d8de856c",
   "metadata": {},
   "source": [
    "# Model definitions"
   ]
  },
  {
   "cell_type": "markdown",
   "id": "352c653f",
   "metadata": {},
   "source": [
    "### Linear Model with feature augmentation"
   ]
  },
  {
   "cell_type": "code",
   "execution_count": 8,
   "id": "7010e7b9",
   "metadata": {},
   "outputs": [],
   "source": [
    "# functions such that f(x) != 0 and f(+inf) = 0\n",
    "functions_set_1 = [\n",
    "    lambda x: np.exp(-x),\n",
    "    lambda x: 1 / (1+x),\n",
    "    lambda x: 1 / (1+x)**2,\n",
    "    lambda x: np.cos(x) * np.exp(-x),\n",
    "]\n",
    "\n",
    "# functions such that f(x) = 0 and f(+inf) = 0\n",
    "functions_set_2 = [\n",
    "    lambda x: x*np.exp(-x),\n",
    "    lambda x: x / (1+x)**2,\n",
    "    lambda x: x / (1+x)**3,\n",
    "    lambda x: np.sin(x) * np.exp(-x),\n",
    "]\n",
    "\n",
    "linear_augmented_model = Pipeline([\n",
    "    ('scaler_init', StandardScaler()),\n",
    "    ('features', FeatureUnion(\n",
    "    [\n",
    "        (f\"fun_{j}\", FunctionTransformer(lambda X : f(X[:,:3]))) for j, f in enumerate(functions_set_1 + functions_set_2)\n",
    "    ] + [\n",
    "        (f\"fun_{j}_col_{col}_1\", FunctionTransformer(lambda X : f(X[:,:3] * X[:,i][:, None]))) for j, f in enumerate(functions_set_1) for i, col in enumerate([\"ecutrho\", \"kpoints\", \"ecutwfc\"])\n",
    "    ] + [\n",
    "        (f\"fun_{j}_col_{col}_2\", FunctionTransformer(lambda X : f(X[:,3:] * X[:,i][:, None]))) for j, f in enumerate(functions_set_2) for i, col in enumerate([\"ecutrho\", \"kpoints\", \"ecutwfc\"])\n",
    "    ])),\n",
    "    ('scaler_final', StandardScaler()),\n",
    "    ('regressor', LinearRegression()),\n",
    "])"
   ]
  },
  {
   "cell_type": "markdown",
   "id": "55fb1f14",
   "metadata": {},
   "source": [
    "### Random forest"
   ]
  },
  {
   "cell_type": "code",
   "execution_count": 9,
   "id": "5482fc15",
   "metadata": {},
   "outputs": [],
   "source": [
    "rf_model = RandomForestRegressor(n_estimators=20, n_jobs=-1, random_state=0)"
   ]
  },
  {
   "cell_type": "markdown",
   "id": "437e20b9",
   "metadata": {},
   "source": [
    "### XGBoost"
   ]
  },
  {
   "cell_type": "code",
   "execution_count": 10,
   "id": "8af093a4",
   "metadata": {},
   "outputs": [],
   "source": [
    "xgb_model = xgb.XGBRegressor(max_depth=7, n_estimators=400, learning_rate=1.0, random_state=0, tree_method=\"gpu_hist\")\n",
    "# xgb_model.fit(X_train, y_train, early_stopping_rounds=100, eval_metric=[\"rmse\", \"mae\"], eval_set=[(X_train, y_train), (X_test, y_test)])"
   ]
  },
  {
   "cell_type": "markdown",
   "id": "8bd01060",
   "metadata": {},
   "source": [
    "### LightGBM"
   ]
  },
  {
   "cell_type": "code",
   "execution_count": 11,
   "id": "7477e2ee",
   "metadata": {},
   "outputs": [],
   "source": [
    "lgb_model = lgb.LGBMRegressor(max_depth=6, num_leaves=10, n_estimators=20000, learning_rate=1.0, n_jobs=-1, random_state=0)\n",
    "# lgb_model.fit(X_train, y_train, early_stopping_rounds=100, eval_metric=[\"rmse\", \"mae\"], eval_set=[(X_train, y_train), (X_test, y_test)])"
   ]
  },
  {
   "cell_type": "markdown",
   "id": "1d72775d",
   "metadata": {},
   "source": [
    "### Packing them together to reduce code size"
   ]
  },
  {
   "cell_type": "code",
   "execution_count": 12,
   "id": "b8539e62",
   "metadata": {},
   "outputs": [],
   "source": [
    "models = {\n",
    "    \"Augmented Linear Regression\": linear_augmented_model,\n",
    "    \"Random Forest\": rf_model,\n",
    "    \"XGBoost\": xgb_model,\n",
    "    \"LightGBM\": lgb_model,\n",
    "}"
   ]
  },
  {
   "cell_type": "markdown",
   "id": "4b0e82a4",
   "metadata": {},
   "source": [
    "# Model training"
   ]
  },
  {
   "cell_type": "code",
   "execution_count": 13,
   "id": "4ac88c6b",
   "metadata": {},
   "outputs": [
    {
     "name": "stdout",
     "output_type": "stream",
     "text": [
      "Training Augmented Linear Regression...\n",
      "Done!\n",
      "\n",
      "Training Random Forest...\n",
      "Done!\n",
      "\n",
      "Training XGBoost...\n",
      "Done!\n",
      "\n",
      "Training LightGBM...\n",
      "Done!\n",
      "\n"
     ]
    }
   ],
   "source": [
    "for model_name, model in models.items():\n",
    "    print(f\"Training {model_name}...\")\n",
    "    model.fit(X_train, y_train)\n",
    "    print(\"Done!\\n\")"
   ]
  },
  {
   "cell_type": "markdown",
   "id": "da4aab8d",
   "metadata": {},
   "source": [
    "# Model evaluation"
   ]
  },
  {
   "cell_type": "code",
   "execution_count": 14,
   "id": "13559b55",
   "metadata": {},
   "outputs": [
    {
     "name": "stdout",
     "output_type": "stream",
     "text": [
      "Evaluating Augmented Linear Regression...\n",
      "MSE:\ttrain:3.8410E-02\ttest:3.9052E-02\n",
      "MAPE:\ttrain:1.7922E+11\ttest:1.9301E+11\n",
      "Done!\n",
      "\n",
      "Evaluating Random Forest...\n",
      "MSE:\ttrain:7.4642E-07\ttest:2.7019E-06\n",
      "MAPE:\ttrain:7.9788E+08\ttest:2.8804E+09\n",
      "Done!\n",
      "\n",
      "Evaluating XGBoost...\n",
      "MSE:\ttrain:1.4654E-06\ttest:3.2499E-06\n",
      "MAPE:\ttrain:3.1977E+09\ttest:4.0477E+09\n",
      "Done!\n",
      "\n",
      "Evaluating LightGBM...\n",
      "MSE:\ttrain:1.9858E-07\ttest:1.5829E-06\n",
      "MAPE:\ttrain:1.6767E+09\ttest:3.4220E+09\n",
      "Done!\n",
      "\n"
     ]
    }
   ],
   "source": [
    "for model_name, model in models.items():\n",
    "    print(f\"Evaluating {model_name}...\")\n",
    "\n",
    "    y_pred_train = model.predict(X_train)\n",
    "    y_pred_test = model.predict(X_test)\n",
    "\n",
    "    mse_test = mean_squared_error(y_test, y_pred_test)\n",
    "    mse_train = mean_squared_error(y_train, y_pred_train)\n",
    "    print(f\"MSE:\\ttrain:{mse_train:.4E}\\ttest:{mse_test:.4E}\")\n",
    "\n",
    "    mape_test = mean_absolute_percentage_error(y_test, y_pred_test)\n",
    "    mape_train = mean_absolute_percentage_error(y_train, y_pred_train)\n",
    "    print(f\"MAPE:\\ttrain:{mape_train:.4E}\\ttest:{mape_test:.4E}\")\n",
    "\n",
    "    mape_test = custom_mape(y_test, y_pred_test)\n",
    "    mape_train = custom_mape(y_train, y_pred_train)\n",
    "    print(f\"Custom MAPE:\\ttrain:{mape_train:.4E}\\ttest:{mape_test:.4E}\")\n",
    "\n",
    "    print(\"Done!\\n\")"
   ]
  },
  {
   "cell_type": "markdown",
   "id": "ec8e7b59",
   "metadata": {},
   "source": [
    "# Visualization"
   ]
  },
  {
   "cell_type": "code",
   "execution_count": 15,
   "id": "25802160",
   "metadata": {},
   "outputs": [
    {
     "data": {
      "image/png": "[encoded data removed]",
      "text/plain": [
       "<Figure size 864x1152 with 12 Axes>"
      ]
     },
     "metadata": {
      "needs_background": "light"
     },
     "output_type": "display_data"
    }
   ],
   "source": [
    "n_models = len(models)\n",
    "fig, ax = plt.subplots(n_models,3,figsize=(12,4*n_models), sharey=True, squeeze=False)\n",
    "for j, (name, model) in enumerate(models.items()):\n",
    "    for i, col in enumerate(X_train.columns[:3]):\n",
    "        ax[j,i].scatter(X_train[col], y_train)\n",
    "        ax[j,i].scatter(X_test[col], y_test)\n",
    "        ax[j,i].scatter(X_test[col], model.predict(X_test))\n",
    "    ax[j,0].set_ylabel(name)\n",
    "ax[-1,0].set_xlabel(\"ecutrho\")\n",
    "ax[-1,1].set_xlabel('k_density')\n",
    "ax[-1,2].set_xlabel('ecutwfc')\n",
    "PLOTPATH = os.path.join(os.path.dirname(os.path.dirname(os.getcwd())), \"plots/delta_E_regression/toy_comparison.png\")\n",
    "plt.savefig(PLOTPATH)"
   ]
  },
  {
   "cell_type": "code",
   "execution_count": 16,
   "id": "0e36135f",
   "metadata": {},
   "outputs": [
    {
     "data": {
      "text/plain": [
       "<mpl_toolkits.mplot3d.art3d.Path3DCollection at 0x7fa3c0570cd0>"
      ]
     },
     "execution_count": 16,
     "metadata": {},
     "output_type": "execute_result"
    },
    {
     "data": {
      "image/png": "[encoded data removed]",
      "text/plain": [
       "<Figure size 432x288 with 1 Axes>"
      ]
     },
     "metadata": {
      "needs_background": "light"
     },
     "output_type": "display_data"
    }
   ],
   "source": [
    "fig = plt.figure()\n",
    "ax = fig.add_subplot(111, projection='3d')\n",
    "ax.scatter(X_train['ecutwfc'], X_train['k_density'], y_train)\n",
    "ax.scatter(X_test['ecutwfc'], X_test['k_density'], y_test)\n",
    "ax.scatter(X_test['ecutwfc'], X_test['k_density'], rf_model.predict(X_test))"
   ]
  },
  {
   "cell_type": "markdown",
   "id": "c3808cbd",
   "metadata": {},
   "source": [
    "## Predict $\\log(\\Delta E)$ instead of $∆E$"
   ]
  },
  {
   "cell_type": "code",
   "execution_count": 10,
   "id": "0e9f2519",
   "metadata": {},
   "outputs": [
    {
     "name": "stdout",
     "output_type": "stream",
     "text": [
      "0.0 4.999996860988176e-09\n"
     ]
    }
   ],
   "source": [
    "class LogTransform:\n",
    "    def __init__(self, y):\n",
    "        self.miny = float(np.min(y))\n",
    "        miny2 = np.sort(list(set(list(np.array(y.squeeze())))))[1]\n",
    "        print(self.miny, miny2)\n",
    "        self.eps = (miny2 - self.miny)/10\n",
    "        self.bias = 0\n",
    "        self.bias = np.max(self.transform(y)) + 1\n",
    "\n",
    "    def transform(self, y):\n",
    "        return np.log(y - self.miny + self.eps) - self.bias\n",
    "        \n",
    "    def inverse_transform(self, logy):\n",
    "        return np.exp(logy + self.bias) + self.miny - self.eps\n",
    "\n",
    "log_transform = LogTransform(y_raw)\n",
    "\n",
    "logy_raw = log_transform.transform(y_raw)\n",
    "X_train, X_test, logy_train, logy_test = train_test_split(\n",
    "    X_raw, logy_raw,\n",
    "    test_size=0.2,\n",
    "    random_state=42\n",
    ")"
   ]
  },
  {
   "cell_type": "code",
   "execution_count": 11,
   "id": "f62b77d9",
   "metadata": {},
   "outputs": [
    {
     "data": {
      "text/plain": [
       "True"
      ]
     },
     "execution_count": 11,
     "metadata": {},
     "output_type": "execute_result"
    }
   ],
   "source": [
    "np.allclose(y_raw, log_transform.inverse_transform(logy_raw))"
   ]
  },
  {
   "cell_type": "code",
   "execution_count": 12,
   "id": "446269d7",
   "metadata": {},
   "outputs": [
    {
     "data": {
      "text/plain": [
       "Text(0.5, 1.0, 'Log')"
      ]
     },
     "execution_count": 12,
     "metadata": {},
     "output_type": "execute_result"
    },
    {
     "data": {
      "image/png": "[encoded data removed]",
      "text/plain": [
       "<Figure size 864x288 with 2 Axes>"
      ]
     },
     "metadata": {
      "needs_background": "light"
     },
     "output_type": "display_data"
    }
   ],
   "source": [
    "# plot hist of y_raw and logy_raw\n",
    "fig, ax = plt.subplots(1,2,figsize=(12,4))\n",
    "ax[0].set_ylabel(\"count\")\n",
    "ax[0].hist(y_raw, bins=100)\n",
    "ax[0].set_xlabel(\"delta E\")\n",
    "ax[0].set_title(\"Raw\")\n",
    "ax[1].hist(logy_raw, bins=100)\n",
    "ax[1].set_xlabel(\"log(delta E)\")\n",
    "ax[1].set_title(\"Log\")"
   ]
  },
  {
   "cell_type": "code",
   "execution_count": 13,
   "id": "766ca76b",
   "metadata": {},
   "outputs": [],
   "source": [
    "linear_log_augmented_model = Pipeline([\n",
    "    ('scaler_init', StandardScaler()),\n",
    "    ('features', PolynomialFeatures(degree=2)),\n",
    "    ('scaler_final', StandardScaler()),\n",
    "    ('regressor', LinearRegression()),\n",
    "])"
   ]
  },
  {
   "cell_type": "code",
   "execution_count": 14,
   "id": "d10946c2",
   "metadata": {},
   "outputs": [],
   "source": [
    "rf_log_model = RandomForestRegressor()"
   ]
  },
  {
   "cell_type": "code",
   "execution_count": 18,
   "id": "eae465b7",
   "metadata": {},
   "outputs": [],
   "source": [
    "xgb_log_model = xgb.XGBRegressor(max_depth=7, n_estimators=400, learning_rate=1.0, random_state=0, tree_method=\"gpu_hist\")"
   ]
  },
  {
   "cell_type": "code",
   "execution_count": 19,
   "id": "08590715",
   "metadata": {},
   "outputs": [],
   "source": [
    "models_log = {\n",
    "    \"Augmented Linear Regression - Log\": linear_log_augmented_model,\n",
    "    \"Random Forest - Log\": rf_log_model,\n",
    "    \"XGBoost - Log\": xgb_log_model,\n",
    "}"
   ]
  },
  {
   "cell_type": "code",
   "execution_count": 20,
   "id": "ff4f876d",
   "metadata": {},
   "outputs": [
    {
     "name": "stdout",
     "output_type": "stream",
     "text": [
      "Training Augmented Linear Regression - Log...\n",
      "Done!\n",
      "\n",
      "Training Random Forest - Log...\n",
      "Done!\n",
      "\n",
      "Training XGBoost - Log...\n",
      "Done!\n",
      "\n"
     ]
    }
   ],
   "source": [
    "for model_name, model in models_log.items():\n",
    "    print(f\"Training {model_name}...\")\n",
    "    model.fit(X_train, logy_train)\n",
    "    print(\"Done!\\n\")"
   ]
  },
  {
   "cell_type": "code",
   "execution_count": 21,
   "id": "181c4cb1",
   "metadata": {},
   "outputs": [
    {
     "name": "stdout",
     "output_type": "stream",
     "text": [
      "Evaluating Augmented Linear Regression - Log...\n",
      "MSE log:\ttrain:2.3781E+00\ttest:2.4018E+00\n",
      "MSE:\ttrain:3.5075E-02\ttest:3.4906E-02\n",
      "MAPE log:\ttrain:1.5520E-01\ttest:1.5549E-01\n",
      "Done!\n",
      "\n",
      "Evaluating Random Forest - Log...\n",
      "MSE log:\ttrain:3.2344E-02\ttest:2.1503E-01\n",
      "MSE:\ttrain:3.2501E-06\ttest:5.1827E-06\n",
      "MAPE log:\ttrain:3.3121E-03\ttest:8.6320E-03\n",
      "Done!\n",
      "\n",
      "Evaluating XGBoost - Log...\n",
      "MSE log:\ttrain:1.0377E-01\ttest:3.0961E-01\n",
      "MSE:\ttrain:1.3192E-03\ttest:2.0647E-03\n",
      "MAPE log:\ttrain:2.2569E-02\ttest:2.9351E-02\n",
      "Done!\n",
      "\n"
     ]
    }
   ],
   "source": [
    "for model_name, model in models_log.items():\n",
    "    print(f\"Evaluating {model_name}...\")\n",
    "\n",
    "    logy_pred_train = model.predict(X_train)\n",
    "    y_pred_train = log_transform.inverse_transform(logy_pred_train.squeeze())\n",
    "    logy_pred_test = model.predict(X_test)\n",
    "    y_pred_test = log_transform.inverse_transform(logy_pred_test.squeeze())\n",
    "    \n",
    "    y_train = log_transform.inverse_transform(logy_train.squeeze())\n",
    "    y_test = log_transform.inverse_transform(logy_test.squeeze())\n",
    "\n",
    "    mse_test = mean_squared_error(logy_test, logy_pred_test)\n",
    "    mse_train = mean_squared_error(logy_train, logy_pred_train)\n",
    "    print(f\"MSE log:\\ttrain:{mse_train:.4E}\\ttest:{mse_test:.4E}\")\n",
    "    \n",
    "    mse_test = mean_squared_error(y_test, y_pred_test)\n",
    "    mse_train = mean_squared_error(y_train, y_pred_train)\n",
    "    print(f\"MSE:\\ttrain:{mse_train:.4E}\\ttest:{mse_test:.4E}\")\n",
    "\n",
    "    mape_test = mean_absolute_percentage_error(logy_test, logy_pred_test)\n",
    "    mape_train = mean_absolute_percentage_error(logy_train, logy_pred_train)\n",
    "    print(f\"MAPE log:\\ttrain:{mape_train:.4E}\\ttest:{mape_test:.4E}\")\n",
    "\n",
    "    # mape_test = custom_mape(y_test, y_pred_test)\n",
    "    # mape_train = custom_mape(y_train, y_pred_train)\n",
    "    # print(f\"Custom MAPE:\\ttrain:{mape_train:.4E}\\ttest:{mape_test:.4E}\")\n",
    "\n",
    "    print(\"Done!\\n\")"
   ]
  },
  {
   "cell_type": "code",
   "execution_count": 26,
   "id": "b4e341f2",
   "metadata": {},
   "outputs": [
    {
     "data": {
      "text/plain": [
       "Text(0.5, 0, 'ecutwfc')"
      ]
     },
     "execution_count": 26,
     "metadata": {},
     "output_type": "execute_result"
    },
    {
     "data": {
      "image/png": "[encoded data removed]",
      "text/plain": [
       "<Figure size 864x864 with 9 Axes>"
      ]
     },
     "metadata": {
      "needs_background": "light"
     },
     "output_type": "display_data"
    }
   ],
   "source": [
    "n_models_log = len(models_log)\n",
    "fig, ax = plt.subplots(n_models_log,3,figsize=(12,4*n_models_log), sharey=True, squeeze=False)\n",
    "for j, (name, model) in enumerate(models_log.items()):\n",
    "    for i, col in enumerate(X_train.columns[:3]):\n",
    "        ax[j,i].scatter(X_train[col], logy_train)\n",
    "        ax[j,i].scatter(X_test[col], logy_test)\n",
    "        ax[j,i].scatter(X_test[col], model.predict(X_test))\n",
    "    ax[j,0].set_ylabel(name)\n",
    "ax[-1,0].set_xlabel(\"ecutrho\")\n",
    "ax[-1,1].set_xlabel('k_density')\n",
    "ax[-1,2].set_xlabel('ecutwfc')"
   ]
  },
  {
   "cell_type": "markdown",
   "id": "507ed6a9",
   "metadata": {},
   "source": [
    "# Analysing models"
   ]
  },
  {
   "cell_type": "markdown",
   "id": "696455c6",
   "metadata": {},
   "source": [
    "## Plot feature importance"
   ]
  },
  {
   "cell_type": "markdown",
   "id": "e085689d",
   "metadata": {},
   "source": [
    "### $\\Delta E$"
   ]
  },
  {
   "cell_type": "code",
   "execution_count": 27,
   "id": "17bcfe05",
   "metadata": {},
   "outputs": [
    {
     "data": {
      "image/png": "[encoded data removed]",
      "text/plain": [
       "<Figure size 1080x576 with 2 Axes>"
      ]
     },
     "metadata": {
      "needs_background": "light"
     },
     "output_type": "display_data"
    }
   ],
   "source": [
    "# plot feature importance\n",
    "models_feature_importance = {\n",
    "    \"RandomForestRegressor - Log\": rf_model,\n",
    "    \"XGBRegressor - Log\": xgb_model,\n",
    "}\n",
    "n_models = len(models_feature_importance)\n",
    "fig, ax = plt.subplots(n_models, 1,figsize=(15,4*n_models), sharey=True, squeeze=False)\n",
    "for j, (name, model) in enumerate(models_feature_importance.items()):\n",
    "    ax[j,0].bar(X_train.columns, model.feature_importances_)\n",
    "    ax[j,0].bar(X_test.columns, model.feature_importances_)\n",
    "    ax[j,0].bar(X_test.columns, model.feature_importances_)\n",
    "    ax[j,0].set_ylabel(\"feature importance\")\n",
    "    ax[j,0].set_xlabel(name)"
   ]
  },
  {
   "cell_type": "code",
   "execution_count": 28,
   "id": "cae0d553",
   "metadata": {},
   "outputs": [
    {
     "data": {
      "text/plain": [
       "<AxesSubplot:title={'center':'Feature importance'}, xlabel='F score', ylabel='Features'>"
      ]
     },
     "execution_count": 28,
     "metadata": {},
     "output_type": "execute_result"
    },
    {
     "data": {
      "image/png": "[encoded data removed]",
      "text/plain": [
       "<Figure size 432x288 with 1 Axes>"
      ]
     },
     "metadata": {
      "needs_background": "light"
     },
     "output_type": "display_data"
    }
   ],
   "source": [
    "xgb.plot_importance(xgb_model)"
   ]
  },
  {
   "cell_type": "markdown",
   "id": "85125108",
   "metadata": {},
   "source": [
    "### $\\log(\\Delta E)$"
   ]
  },
  {
   "cell_type": "code",
   "execution_count": 29,
   "id": "3738245a",
   "metadata": {},
   "outputs": [
    {
     "data": {
      "image/png": "[encoded data removed]",
      "text/plain": [
       "<Figure size 1080x576 with 2 Axes>"
      ]
     },
     "metadata": {
      "needs_background": "light"
     },
     "output_type": "display_data"
    }
   ],
   "source": [
    "# plot feature importance\n",
    "models_log_feature_importance = {\n",
    "    \"RandomForestRegressor - Log\": rf_log_model,\n",
    "    \"XGBRegressor - Log\": xgb_log_model,\n",
    "}\n",
    "n_models_log = len(models_log_feature_importance)\n",
    "fig, ax = plt.subplots(n_models_log, 1,figsize=(15,4*n_models_log), sharey=True, squeeze=False)\n",
    "for j, (name, model) in enumerate(models_log_feature_importance.items()):\n",
    "    ax[j,0].bar(X_train.columns, model.feature_importances_)\n",
    "    ax[j,0].bar(X_test.columns, model.feature_importances_)\n",
    "    ax[j,0].bar(X_test.columns, model.feature_importances_)\n",
    "    ax[j,0].set_ylabel(\"feature importance\")\n",
    "    ax[j,0].set_xlabel(name)"
   ]
  },
  {
   "cell_type": "code",
   "execution_count": 30,
   "id": "df24df08",
   "metadata": {},
   "outputs": [
    {
     "data": {
      "text/plain": [
       "<AxesSubplot:title={'center':'Feature importance'}, xlabel='F score', ylabel='Features'>"
      ]
     },
     "execution_count": 30,
     "metadata": {},
     "output_type": "execute_result"
    },
    {
     "data": {
      "image/png": "[encoded data removed]",
      "text/plain": [
       "<Figure size 432x288 with 1 Axes>"
      ]
     },
     "metadata": {
      "needs_background": "light"
     },
     "output_type": "display_data"
    }
   ],
   "source": [
    "xgb.plot_importance(xgb_log_model)"
   ]
  },
  {
   "cell_type": "markdown",
   "id": "910032aa",
   "metadata": {},
   "source": [
    "# Compare $\\Delta E$ and $\\log(\\Delta E)$ predictions"
   ]
  },
  {
   "cell_type": "code",
   "execution_count": 31,
   "id": "a8cd3695",
   "metadata": {},
   "outputs": [
    {
     "data": {
      "text/html": [
       "<div>\n",
       "<style scoped>\n",
       "    .dataframe tbody tr th:only-of-type {\n",
       "        vertical-align: middle;\n",
       "    }\n",
       "\n",
       "    .dataframe tbody tr th {\n",
       "        vertical-align: top;\n",
       "    }\n",
       "\n",
       "    .dataframe thead th {\n",
       "        text-align: right;\n",
       "    }\n",
       "</style>\n",
       "<table border=\"1\" class=\"dataframe\">\n",
       "  <thead>\n",
       "    <tr style=\"text-align: right;\">\n",
       "      <th></th>\n",
       "      <th>real</th>\n",
       "      <th>Augmented Linear Regression</th>\n",
       "      <th>Random Forest</th>\n",
       "      <th>XGBoost</th>\n",
       "      <th>Augmented Linear Regression - Log</th>\n",
       "      <th>Random Forest - Log</th>\n",
       "      <th>XGBoost - Log</th>\n",
       "    </tr>\n",
       "  </thead>\n",
       "  <tbody>\n",
       "    <tr>\n",
       "      <th>0</th>\n",
       "      <td>1.068E-03</td>\n",
       "      <td>-1.562E-02</td>\n",
       "      <td>1.066E-03</td>\n",
       "      <td>2.732E-04</td>\n",
       "      <td>5.139E-05</td>\n",
       "      <td>1.068E-03</td>\n",
       "      <td>7.115E-04</td>\n",
       "    </tr>\n",
       "    <tr>\n",
       "      <th>1</th>\n",
       "      <td>7.331E-03</td>\n",
       "      <td>1.565E-02</td>\n",
       "      <td>7.251E-03</td>\n",
       "      <td>4.968E-03</td>\n",
       "      <td>8.672E-03</td>\n",
       "      <td>7.289E-03</td>\n",
       "      <td>5.863E-03</td>\n",
       "    </tr>\n",
       "    <tr>\n",
       "      <th>2</th>\n",
       "      <td>4.207E-01</td>\n",
       "      <td>9.284E-01</td>\n",
       "      <td>4.207E-01</td>\n",
       "      <td>4.100E-01</td>\n",
       "      <td>1.443E-01</td>\n",
       "      <td>4.207E-01</td>\n",
       "      <td>4.015E-01</td>\n",
       "    </tr>\n",
       "    <tr>\n",
       "      <th>3</th>\n",
       "      <td>1.030E-01</td>\n",
       "      <td>2.664E-01</td>\n",
       "      <td>1.030E-01</td>\n",
       "      <td>9.811E-02</td>\n",
       "      <td>5.813E-02</td>\n",
       "      <td>1.030E-01</td>\n",
       "      <td>8.763E-02</td>\n",
       "    </tr>\n",
       "    <tr>\n",
       "      <th>4</th>\n",
       "      <td>1.467E-03</td>\n",
       "      <td>7.201E-02</td>\n",
       "      <td>1.541E-03</td>\n",
       "      <td>1.841E-03</td>\n",
       "      <td>1.901E-03</td>\n",
       "      <td>1.511E-03</td>\n",
       "      <td>1.348E-03</td>\n",
       "    </tr>\n",
       "    <tr>\n",
       "      <th>5</th>\n",
       "      <td>1.050E-02</td>\n",
       "      <td>1.783E-01</td>\n",
       "      <td>1.050E-02</td>\n",
       "      <td>8.412E-03</td>\n",
       "      <td>5.818E-03</td>\n",
       "      <td>1.042E-02</td>\n",
       "      <td>1.022E-02</td>\n",
       "    </tr>\n",
       "    <tr>\n",
       "      <th>6</th>\n",
       "      <td>8.795E-01</td>\n",
       "      <td>2.557E-01</td>\n",
       "      <td>8.796E-01</td>\n",
       "      <td>8.863E-01</td>\n",
       "      <td>3.020E-01</td>\n",
       "      <td>8.796E-01</td>\n",
       "      <td>8.359E-01</td>\n",
       "    </tr>\n",
       "    <tr>\n",
       "      <th>7</th>\n",
       "      <td>5.933E-03</td>\n",
       "      <td>1.564E-01</td>\n",
       "      <td>6.009E-03</td>\n",
       "      <td>7.863E-03</td>\n",
       "      <td>3.153E-02</td>\n",
       "      <td>6.070E-03</td>\n",
       "      <td>5.246E-03</td>\n",
       "    </tr>\n",
       "    <tr>\n",
       "      <th>8</th>\n",
       "      <td>3.050E-02</td>\n",
       "      <td>-3.385E-02</td>\n",
       "      <td>3.054E-02</td>\n",
       "      <td>2.871E-02</td>\n",
       "      <td>2.530E-03</td>\n",
       "      <td>3.054E-02</td>\n",
       "      <td>3.162E-02</td>\n",
       "    </tr>\n",
       "    <tr>\n",
       "      <th>9</th>\n",
       "      <td>2.592E-02</td>\n",
       "      <td>-8.059E-03</td>\n",
       "      <td>2.591E-02</td>\n",
       "      <td>2.709E-02</td>\n",
       "      <td>5.748E-03</td>\n",
       "      <td>2.592E-02</td>\n",
       "      <td>2.351E-02</td>\n",
       "    </tr>\n",
       "    <tr>\n",
       "      <th>10</th>\n",
       "      <td>3.397E-03</td>\n",
       "      <td>-1.819E-02</td>\n",
       "      <td>3.398E-03</td>\n",
       "      <td>1.697E-03</td>\n",
       "      <td>2.311E-04</td>\n",
       "      <td>3.398E-03</td>\n",
       "      <td>3.300E-03</td>\n",
       "    </tr>\n",
       "    <tr>\n",
       "      <th>11</th>\n",
       "      <td>2.213E-02</td>\n",
       "      <td>-3.134E-02</td>\n",
       "      <td>2.214E-02</td>\n",
       "      <td>2.116E-02</td>\n",
       "      <td>4.118E-05</td>\n",
       "      <td>2.215E-02</td>\n",
       "      <td>1.838E-02</td>\n",
       "    </tr>\n",
       "    <tr>\n",
       "      <th>12</th>\n",
       "      <td>3.305E-03</td>\n",
       "      <td>4.488E-04</td>\n",
       "      <td>3.305E-03</td>\n",
       "      <td>3.611E-03</td>\n",
       "      <td>5.705E-03</td>\n",
       "      <td>3.305E-03</td>\n",
       "      <td>3.150E-03</td>\n",
       "    </tr>\n",
       "    <tr>\n",
       "      <th>13</th>\n",
       "      <td>4.080E-03</td>\n",
       "      <td>2.355E-02</td>\n",
       "      <td>4.080E-03</td>\n",
       "      <td>5.284E-03</td>\n",
       "      <td>1.003E-02</td>\n",
       "      <td>4.080E-03</td>\n",
       "      <td>3.822E-03</td>\n",
       "    </tr>\n",
       "    <tr>\n",
       "      <th>14</th>\n",
       "      <td>1.825E-02</td>\n",
       "      <td>-4.014E-02</td>\n",
       "      <td>1.833E-02</td>\n",
       "      <td>1.708E-02</td>\n",
       "      <td>1.682E-04</td>\n",
       "      <td>1.793E-02</td>\n",
       "      <td>1.533E-02</td>\n",
       "    </tr>\n",
       "    <tr>\n",
       "      <th>15</th>\n",
       "      <td>4.571E-04</td>\n",
       "      <td>3.090E-02</td>\n",
       "      <td>4.815E-04</td>\n",
       "      <td>9.434E-04</td>\n",
       "      <td>1.968E-03</td>\n",
       "      <td>4.445E-04</td>\n",
       "      <td>5.558E-04</td>\n",
       "    </tr>\n",
       "    <tr>\n",
       "      <th>16</th>\n",
       "      <td>1.426E+00</td>\n",
       "      <td>2.626E-01</td>\n",
       "      <td>1.425E+00</td>\n",
       "      <td>1.415E+00</td>\n",
       "      <td>3.060E-01</td>\n",
       "      <td>1.425E+00</td>\n",
       "      <td>1.369E+00</td>\n",
       "    </tr>\n",
       "    <tr>\n",
       "      <th>17</th>\n",
       "      <td>1.164E-03</td>\n",
       "      <td>3.492E-03</td>\n",
       "      <td>1.146E-03</td>\n",
       "      <td>2.163E-03</td>\n",
       "      <td>1.766E-03</td>\n",
       "      <td>1.147E-03</td>\n",
       "      <td>1.465E-03</td>\n",
       "    </tr>\n",
       "    <tr>\n",
       "      <th>18</th>\n",
       "      <td>6.737E-02</td>\n",
       "      <td>-3.954E-02</td>\n",
       "      <td>6.737E-02</td>\n",
       "      <td>6.592E-02</td>\n",
       "      <td>1.350E-02</td>\n",
       "      <td>6.736E-02</td>\n",
       "      <td>5.926E-02</td>\n",
       "    </tr>\n",
       "    <tr>\n",
       "      <th>19</th>\n",
       "      <td>1.998E-02</td>\n",
       "      <td>1.644E-01</td>\n",
       "      <td>1.998E-02</td>\n",
       "      <td>1.927E-02</td>\n",
       "      <td>5.666E-03</td>\n",
       "      <td>1.998E-02</td>\n",
       "      <td>1.753E-02</td>\n",
       "    </tr>\n",
       "  </tbody>\n",
       "</table>\n",
       "</div>"
      ],
      "text/plain": [
       "        real  Augmented Linear Regression  Random Forest   XGBoost  \\\n",
       "0  1.068E-03                   -1.562E-02      1.066E-03 2.732E-04   \n",
       "1  7.331E-03                    1.565E-02      7.251E-03 4.968E-03   \n",
       "2  4.207E-01                    9.284E-01      4.207E-01 4.100E-01   \n",
       "3  1.030E-01                    2.664E-01      1.030E-01 9.811E-02   \n",
       "4  1.467E-03                    7.201E-02      1.541E-03 1.841E-03   \n",
       "5  1.050E-02                    1.783E-01      1.050E-02 8.412E-03   \n",
       "6  8.795E-01                    2.557E-01      8.796E-01 8.863E-01   \n",
       "7  5.933E-03                    1.564E-01      6.009E-03 7.863E-03   \n",
       "8  3.050E-02                   -3.385E-02      3.054E-02 2.871E-02   \n",
       "9  2.592E-02                   -8.059E-03      2.591E-02 2.709E-02   \n",
       "10 3.397E-03                   -1.819E-02      3.398E-03 1.697E-03   \n",
       "11 2.213E-02                   -3.134E-02      2.214E-02 2.116E-02   \n",
       "12 3.305E-03                    4.488E-04      3.305E-03 3.611E-03   \n",
       "13 4.080E-03                    2.355E-02      4.080E-03 5.284E-03   \n",
       "14 1.825E-02                   -4.014E-02      1.833E-02 1.708E-02   \n",
       "15 4.571E-04                    3.090E-02      4.815E-04 9.434E-04   \n",
       "16 1.426E+00                    2.626E-01      1.425E+00 1.415E+00   \n",
       "17 1.164E-03                    3.492E-03      1.146E-03 2.163E-03   \n",
       "18 6.737E-02                   -3.954E-02      6.737E-02 6.592E-02   \n",
       "19 1.998E-02                    1.644E-01      1.998E-02 1.927E-02   \n",
       "\n",
       "    Augmented Linear Regression - Log  Random Forest - Log  XGBoost - Log  \n",
       "0                           5.139E-05            1.068E-03      7.115E-04  \n",
       "1                           8.672E-03            7.289E-03      5.863E-03  \n",
       "2                           1.443E-01            4.207E-01      4.015E-01  \n",
       "3                           5.813E-02            1.030E-01      8.763E-02  \n",
       "4                           1.901E-03            1.511E-03      1.348E-03  \n",
       "5                           5.818E-03            1.042E-02      1.022E-02  \n",
       "6                           3.020E-01            8.796E-01      8.359E-01  \n",
       "7                           3.153E-02            6.070E-03      5.246E-03  \n",
       "8                           2.530E-03            3.054E-02      3.162E-02  \n",
       "9                           5.748E-03            2.592E-02      2.351E-02  \n",
       "10                          2.311E-04            3.398E-03      3.300E-03  \n",
       "11                          4.118E-05            2.215E-02      1.838E-02  \n",
       "12                          5.705E-03            3.305E-03      3.150E-03  \n",
       "13                          1.003E-02            4.080E-03      3.822E-03  \n",
       "14                          1.682E-04            1.793E-02      1.533E-02  \n",
       "15                          1.968E-03            4.445E-04      5.558E-04  \n",
       "16                          3.060E-01            1.425E+00      1.369E+00  \n",
       "17                          1.766E-03            1.147E-03      1.465E-03  \n",
       "18                          1.350E-02            6.736E-02      5.926E-02  \n",
       "19                          5.666E-03            1.998E-02      1.753E-02  "
      ]
     },
     "execution_count": 31,
     "metadata": {},
     "output_type": "execute_result"
    }
   ],
   "source": [
    "n_sample = 20\n",
    "idx_sample = np.random.choice(X_test.shape[0], n_sample, replace=False)\n",
    "df_pred_samples = pd.DataFrame(index=np.arange(n_sample))\n",
    "df_pred_samples[\"real\"] = np.array(y_test).squeeze()[idx_sample]\n",
    "\n",
    "for name, model in models.items():\n",
    "    df_pred_samples[name] = model.predict(X_test)[idx_sample]\n",
    "\n",
    "for name, model in models_log.items():\n",
    "    df_pred_samples[name] = log_transform.inverse_transform(model.predict(X_test)[idx_sample])\n",
    "\n",
    "pd.set_option('display.float_format', '{:.3E}'.format)\n",
    "df_pred_samples"
   ]
  },
  {
   "cell_type": "markdown",
   "id": "9b573659",
   "metadata": {},
   "source": [
    "# Find best parameters for a given error"
   ]
  },
  {
   "cell_type": "code",
   "execution_count": 32,
   "id": "44b27358",
   "metadata": {},
   "outputs": [],
   "source": [
    "from scipy.optimize import NonlinearConstraint, LinearConstraint, minimize, shgo, differential_evolution"
   ]
  },
  {
   "cell_type": "code",
   "execution_count": 33,
   "id": "632ae460",
   "metadata": {},
   "outputs": [],
   "source": [
    "def sanitize_input(x):\n",
    "    return np.array([int(round(x_i)) for x_i in x])\n",
    "\n",
    "def delta_E_prediction(x, model, structure_encoding):\n",
    "    input = np.concatenate([x, structure_encoding])\n",
    "    input = pd.DataFrame(input.reshape(1, -1), columns=X_raw.columns)\n",
    "    return model.predict(input)[0]\n",
    "\n",
    "def complexity(x):\n",
    "    # we have to get the right formula for the complexity\n",
    "    ecutrho = x[0]\n",
    "    k_density = x[1]\n",
    "    ecutwfc = x[2]\n",
    "    return ecutrho + k_density + ecutwfc"
   ]
  },
  {
   "cell_type": "code",
   "execution_count": 34,
   "id": "7a00e08b",
   "metadata": {},
   "outputs": [],
   "source": [
    "# # Compute GeTe structure encoding\n",
    "# first load GeTe dataset\n",
    "GeTe_data = df[df[\"structure\"] == \"GeTe\"]\n",
    "\n",
    "# then find the index of the first encoding column\n",
    "if encoding in [Encoding.COLUMN, Encoding.COLUMN_MASS]:\n",
    "    enc_first_idx = next((i for i, col in enumerate(GeTe_data.columns) if col in PTC_COLNAMES), None)\n",
    "elif encoding == Encoding.ATOMIC:\n",
    "    enc_first_idx = next((i for i, col in enumerate(GeTe_data.columns) if col in PERIODIC_TABLE_INFO), None)\n",
    "\n",
    "# finally get the encoding\n",
    "GeTe_encoding = np.array(GeTe_data.iloc[0, enc_first_idx:].values, dtype=float)"
   ]
  },
  {
   "cell_type": "markdown",
   "id": "c34c2430",
   "metadata": {},
   "source": [
    "### Minimize complexity using $\\Delta E$ regressors"
   ]
  },
  {
   "cell_type": "code",
   "execution_count": 35,
   "id": "21ed0f23",
   "metadata": {},
   "outputs": [
    {
     "name": "stdout",
     "output_type": "stream",
     "text": [
      "0.009670138\n",
      "     fun: 244.2785316503655\n",
      " message: 'Optimization terminated successfully.'\n",
      "    nfev: 1182\n",
      "     nit: 25\n",
      " success: True\n",
      "       x: array([180.19665903,   4.00162926,  60.08024336])\n",
      "[180   4  60]\n",
      "0.00083979964\n"
     ]
    }
   ],
   "source": [
    "x_0 = [100, 10, 100]\n",
    "max_delta_E = 1e-3\n",
    "model = xgb_model\n",
    "model_pred_func = lambda x: delta_E_prediction(x, model, GeTe_encoding)\n",
    "\n",
    "nonlin_constraint = NonlinearConstraint(lambda x: delta_E_prediction(x, model), 0, max_delta_E)\n",
    "# lin_constraint = LinearConstraint(A=np.eye(3), lb=np.array([1,0,1]), ub=np.array([1000,0.5,1000]))\n",
    "\n",
    "print(model_pred_func(x_0))\n",
    "\n",
    "mu = 1e100\n",
    "pen_func = lambda x: complexity(x) + mu * max(model_pred_func(x) - max_delta_E, 0) / max_delta_E\n",
    "res = differential_evolution(\n",
    "    pen_func,\n",
    "    bounds=[\n",
    "        (X_raw[\"ecutrho\"].min(),X_raw[\"ecutrho\"].max()), \n",
    "        (X_raw[\"k_density\"].min(), X_raw[\"k_density\"].max()),\n",
    "        (X_raw[\"ecutwfc\"].min(),X_raw[\"ecutwfc\"].max())\n",
    "    ],\n",
    "    seed=0,\n",
    ")\n",
    "\n",
    "print(res)\n",
    "print(sanitize_input(res.x))\n",
    "\n",
    "print(model_pred_func(res.x))\n",
    "\n",
    "# codes below don't work\n",
    "\n",
    "# minimize(complexity, x_0, constraints=[nonlin_constraint, lin_constraint])\n",
    "\n",
    "# res = minimize(complexity, x0=x_0, bounds=[(1,1000), (1e-16,0.5), (1,1000)],\n",
    "#     constraints=({'type': 'ineq', 'fun': lambda x: delta_E_prediction(x, model)},\n",
    "#                  {'type': 'ineq', 'fun': lambda x: -delta_E_prediction(x, model) + max_delta_E}),\n",
    "#     options={'maxiter': 1000},\n",
    "# )\n"
   ]
  },
  {
   "cell_type": "markdown",
   "id": "9b573723",
   "metadata": {},
   "source": [
    "### Minimize complexity using $log(\\Delta E)$ regressors"
   ]
  },
  {
   "cell_type": "code",
   "execution_count": 36,
   "id": "c672096e",
   "metadata": {},
   "outputs": [
    {
     "name": "stdout",
     "output_type": "stream",
     "text": [
      "     fun: 394.52113487236784\n",
      " message: 'Optimization terminated successfully.'\n",
      "    nfev: 1092\n",
      "     nit: 23\n",
      " success: True\n",
      "       x: array([300.1409966 ,   4.34213173,  90.03800654])\n",
      "[300   4  90]\n",
      "3.833000614150705e-06\n"
     ]
    }
   ],
   "source": [
    "max_delta_E = 1e-5\n",
    "model_log = xgb_log_model\n",
    "model_log_pred_func = lambda x: log_transform.inverse_transform(delta_E_prediction(x, model_log, GeTe_encoding))\n",
    "\n",
    "mu = 1e100\n",
    "pen_func = lambda x: complexity(x) + mu * max(model_log_pred_func(x) - max_delta_E, 0) / max_delta_E\n",
    "res = differential_evolution(\n",
    "    pen_func,\n",
    "    bounds=[\n",
    "        (X_raw[\"ecutrho\"].min(),X_raw[\"ecutrho\"].max()), \n",
    "        (X_raw[\"k_density\"].min(), X_raw[\"k_density\"].max()),\n",
    "        (X_raw[\"ecutwfc\"].min(),X_raw[\"ecutwfc\"].max())\n",
    "    ],\n",
    "    seed=0,\n",
    ")\n",
    "\n",
    "print(res)\n",
    "print(sanitize_input(res.x))\n",
    "\n",
    "print(model_log_pred_func(res.x))"
   ]
  },
  {
   "cell_type": "markdown",
   "id": "782e206d",
   "metadata": {},
   "source": [
    "### Compare predicted parameters to the ones in datasets"
   ]
  },
  {
   "cell_type": "code",
   "execution_count": 37,
   "id": "3f47ae8d",
   "metadata": {},
   "outputs": [],
   "source": [
    "from sklearn.neighbors import NearestNeighbors"
   ]
  },
  {
   "cell_type": "code",
   "execution_count": 38,
   "id": "2b569261",
   "metadata": {},
   "outputs": [],
   "source": [
    "def find_neighbors(X, y, params, structure_encoding):\n",
    "    # TODO define a good distance metric for params\n",
    "    \n",
    "    n_params = len(params)\n",
    "\n",
    "    # get all rows with the same structure\n",
    "    mask_same_struct = (X.values[:,n_params:] == structure_encoding).all(axis=1)\n",
    "    df_same_struct = X.iloc[mask_same_struct,:n_params]\n",
    "    y_same_struct = y[mask_same_struct]\n",
    "\n",
    "    # normalize the dataset in order to put the same importance to all parameters\n",
    "    min_df, max_df = df_same_struct.min(), df_same_struct.max()\n",
    "    df_same_struct = (df_same_struct - min_df) / (max_df - min_df)\n",
    "    params = (params - min_df) / (max_df - min_df)\n",
    "\n",
    "    knn = NearestNeighbors(n_neighbors=10, algorithm='auto')\n",
    "    knn.fit(df_same_struct)\n",
    "    dist, idx = knn.kneighbors([params], 10)\n",
    "    list_dist_delta_E = [*zip(dist[0], list(y_same_struct.iloc[idx[0]]))]\n",
    "    return pd.DataFrame(list_dist_delta_E, columns=[\"dist\", \"delta_E\"])"
   ]
  },
  {
   "cell_type": "code",
   "execution_count": 39,
   "id": "edac4eee",
   "metadata": {},
   "outputs": [
    {
     "data": {
      "text/html": [
       "<div>\n",
       "<style scoped>\n",
       "    .dataframe tbody tr th:only-of-type {\n",
       "        vertical-align: middle;\n",
       "    }\n",
       "\n",
       "    .dataframe tbody tr th {\n",
       "        vertical-align: top;\n",
       "    }\n",
       "\n",
       "    .dataframe thead th {\n",
       "        text-align: right;\n",
       "    }\n",
       "</style>\n",
       "<table border=\"1\" class=\"dataframe\">\n",
       "  <thead>\n",
       "    <tr style=\"text-align: right;\">\n",
       "      <th></th>\n",
       "      <th>dist</th>\n",
       "      <th>delta_E</th>\n",
       "    </tr>\n",
       "  </thead>\n",
       "  <tbody>\n",
       "    <tr>\n",
       "      <th>0</th>\n",
       "      <td>0.000E+00</td>\n",
       "      <td>0.000E+00</td>\n",
       "    </tr>\n",
       "    <tr>\n",
       "      <th>1</th>\n",
       "      <td>7.143E-02</td>\n",
       "      <td>9.289E-05</td>\n",
       "    </tr>\n",
       "    <tr>\n",
       "      <th>2</th>\n",
       "      <td>1.429E-01</td>\n",
       "      <td>1.600E-06</td>\n",
       "    </tr>\n",
       "    <tr>\n",
       "      <th>3</th>\n",
       "      <td>1.429E-01</td>\n",
       "      <td>1.273E-04</td>\n",
       "    </tr>\n",
       "    <tr>\n",
       "      <th>4</th>\n",
       "      <td>1.597E-01</td>\n",
       "      <td>9.191E-05</td>\n",
       "    </tr>\n",
       "    <tr>\n",
       "      <th>5</th>\n",
       "      <td>1.597E-01</td>\n",
       "      <td>9.450E-05</td>\n",
       "    </tr>\n",
       "    <tr>\n",
       "      <th>6</th>\n",
       "      <td>2.020E-01</td>\n",
       "      <td>1.264E-04</td>\n",
       "    </tr>\n",
       "    <tr>\n",
       "      <th>7</th>\n",
       "      <td>2.020E-01</td>\n",
       "      <td>1.290E-04</td>\n",
       "    </tr>\n",
       "    <tr>\n",
       "      <th>8</th>\n",
       "      <td>2.143E-01</td>\n",
       "      <td>1.310E-04</td>\n",
       "    </tr>\n",
       "    <tr>\n",
       "      <th>9</th>\n",
       "      <td>2.500E-01</td>\n",
       "      <td>1.481E-01</td>\n",
       "    </tr>\n",
       "  </tbody>\n",
       "</table>\n",
       "</div>"
      ],
      "text/plain": [
       "       dist   delta_E\n",
       "0 0.000E+00 0.000E+00\n",
       "1 7.143E-02 9.289E-05\n",
       "2 1.429E-01 1.600E-06\n",
       "3 1.429E-01 1.273E-04\n",
       "4 1.597E-01 9.191E-05\n",
       "5 1.597E-01 9.450E-05\n",
       "6 2.020E-01 1.264E-04\n",
       "7 2.020E-01 1.290E-04\n",
       "8 2.143E-01 1.310E-04\n",
       "9 2.500E-01 1.481E-01"
      ]
     },
     "execution_count": 39,
     "metadata": {},
     "output_type": "execute_result"
    }
   ],
   "source": [
    "find_neighbors(X_raw, y_raw, sanitize_input(res.x), GeTe_encoding)"
   ]
  },
  {
   "cell_type": "markdown",
   "id": "b3b4a8cd",
   "metadata": {},
   "source": [
    "# Testing model generalization on unseen structures"
   ]
  },
  {
   "cell_type": "code",
   "execution_count": 40,
   "id": "e945c2ed",
   "metadata": {},
   "outputs": [],
   "source": [
    "# find the index of the first encoding column\n",
    "if encoding in [\"column\", \"column_mass\"]:\n",
    "    enc_first_idx = next((i for i, col in enumerate(df.columns) if \"PTC\" in col), None)\n",
    "elif encoding == \"atomic\":\n",
    "    enc_first_idx = next((i for i, col in enumerate(df.columns) if col in PERIODIC_TABLE_INFO), None)"
   ]
  },
  {
   "cell_type": "code",
   "execution_count": 41,
   "id": "814e23cf",
   "metadata": {},
   "outputs": [],
   "source": [
    "# # selecting species for training and testing\n",
    "p = 0.2\n",
    "\n",
    "# col_max_nonzero = df.columns[enc_first_idx + np.argmax(np.count_nonzero(df.iloc[:, enc_first_idx:], axis=0))]\n",
    "# species_col_max = df[df[col_max_nonzero] > 0][\"structure\"].unique()\n",
    "# species_test_set = np.random.choice(species_col_max, size=int(p*len(species_col_max)))\n",
    "\n",
    "species_test_set = np.random.choice(df[\"structure\"].unique(), size=int(p*len(df[\"structure\"].unique())))\n",
    "\n",
    "species_train_set = [s for s in df[\"structure\"].unique() if s not in species_test_set]"
   ]
  },
  {
   "cell_type": "code",
   "execution_count": 42,
   "id": "3f419450",
   "metadata": {},
   "outputs": [],
   "source": [
    "X_train_gen = df[df[\"converged\"]][df[\"structure\"].isin(species_train_set)][cols_dependent]\n",
    "y_train_gen = np.abs(df[df[\"converged\"]][df[\"structure\"].isin(species_train_set)][cols_independent]).squeeze()\n",
    "logy_train_gen = log_transform.transform(np.abs(df[df[\"converged\"]][df[\"structure\"].isin(species_train_set)][cols_independent]).squeeze())\n",
    "X_test_gen = df[df[\"converged\"]][df[\"structure\"].isin(species_test_set)][cols_dependent]\n",
    "y_test_gen = np.abs(df[df[\"converged\"]][df[\"structure\"].isin(species_test_set)][cols_independent]).squeeze()\n",
    "logy_test_gen = log_transform.transform(np.abs(df[df[\"converged\"]][df[\"structure\"].isin(species_test_set)][cols_independent]).squeeze())"
   ]
  },
  {
   "cell_type": "code",
   "execution_count": 43,
   "id": "b05b5902",
   "metadata": {},
   "outputs": [],
   "source": [
    "rf_model_gen = RandomForestRegressor(random_state=0)\n",
    "xgb_model_gen = xgb.XGBRegressor(n_estimators=5000, learning_rate=0.05, random_state=0, tree_method=\"gpu_hist\")\n",
    "rf_model_gen_log = RandomForestRegressor(random_state=0)\n",
    "xgb_model_gen_log = xgb.XGBRegressor(n_estimators=5000, learning_rate=0.05, random_state=0, tree_method=\"gpu_hist\")"
   ]
  },
  {
   "cell_type": "code",
   "execution_count": 44,
   "id": "23a558ba",
   "metadata": {},
   "outputs": [],
   "source": [
    "models_gen = {\n",
    "    \"Random Forest - Gen\": rf_model_gen,\n",
    "    \"XGBoost - Gen\": xgb_model_gen,\n",
    "}\n",
    "models_gen_log = {\n",
    "    \"Random Forest - Log - Gen\": rf_model_gen_log,\n",
    "    \"XGBoost - Log - Gen\": xgb_model_gen_log,\n",
    "}"
   ]
  },
  {
   "cell_type": "code",
   "execution_count": 45,
   "id": "4a6ddf9c",
   "metadata": {},
   "outputs": [
    {
     "name": "stdout",
     "output_type": "stream",
     "text": [
      "Training Random Forest - Gen...\n",
      "Done!\n",
      "\n",
      "Training XGBoost - Gen...\n",
      "Done!\n",
      "\n"
     ]
    }
   ],
   "source": [
    "for model_name, model in models_gen.items():\n",
    "    print(f\"Training {model_name}...\")\n",
    "    model.fit(X_train_gen, y_train_gen)\n",
    "    print(\"Done!\\n\")"
   ]
  },
  {
   "cell_type": "code",
   "execution_count": 46,
   "id": "a4d8414d",
   "metadata": {},
   "outputs": [
    {
     "name": "stdout",
     "output_type": "stream",
     "text": [
      "Training Random Forest - Log - Gen...\n",
      "Done!\n",
      "\n",
      "Training XGBoost - Log - Gen...\n",
      "Done!\n",
      "\n"
     ]
    }
   ],
   "source": [
    "for model_name, model in models_gen_log.items():\n",
    "    print(f\"Training {model_name}...\")\n",
    "    model.fit(X_train_gen, logy_train_gen)\n",
    "    print(\"Done!\\n\")"
   ]
  },
  {
   "cell_type": "code",
   "execution_count": 47,
   "id": "b0170078",
   "metadata": {},
   "outputs": [
    {
     "name": "stdout",
     "output_type": "stream",
     "text": [
      "Evaluating Random Forest - Gen...\n",
      "MSE:\ttrain:3.5033E-07\ttest:1.8495E-02\n",
      "MAPE:\ttrain:8.0984E+08\ttest:2.5287E+10\n",
      "Done!\n",
      "\n",
      "Evaluating XGBoost - Gen...\n",
      "MSE:\ttrain:6.3822E-06\ttest:1.4560E-02\n",
      "MAPE:\ttrain:7.7218E+09\ttest:4.6126E+10\n",
      "Done!\n",
      "\n"
     ]
    }
   ],
   "source": [
    "for model_name, model in models_gen.items():\n",
    "    print(f\"Evaluating {model_name}...\")\n",
    "\n",
    "    y_pred_train = model.predict(X_train_gen)\n",
    "    y_pred_test = model.predict(X_test_gen)\n",
    "\n",
    "    mse_test = mean_squared_error(y_test_gen, y_pred_test)\n",
    "    mse_train = mean_squared_error(y_train_gen, y_pred_train)\n",
    "    print(f\"MSE:\\ttrain:{mse_train:.4E}\\ttest:{mse_test:.4E}\")\n",
    "\n",
    "    mape_test = mean_absolute_percentage_error(y_test_gen, y_pred_test)\n",
    "    mape_train = mean_absolute_percentage_error(y_train_gen, y_pred_train)\n",
    "    print(f\"MAPE:\\ttrain:{mape_train:.4E}\\ttest:{mape_test:.4E}\")\n",
    "\n",
    "    # mape_test = custom_mape(y_test_gen, y_pred_test)\n",
    "    # mape_train = custom_mape(y_train_gen, y_pred_train)\n",
    "    # print(f\"Custom MAPE:\\ttrain:{mape_train:.4E}\\ttest:{mape_test:.4E}\")\n",
    "\n",
    "    print(\"Done!\\n\")"
   ]
  },
  {
   "cell_type": "code",
   "execution_count": 48,
   "id": "48479e3d",
   "metadata": {},
   "outputs": [
    {
     "name": "stdout",
     "output_type": "stream",
     "text": [
      "Evaluating Random Forest - Log - Gen...\n",
      "MSE log:\ttrain:2.7278E-02\ttest:3.5132E+00\n",
      "MSE:\ttrain:2.3335E-06\ttest:1.7078E-02\n",
      "MAPE log:\ttrain:1.6329E-02\ttest:3.2075E-01\n",
      "Done!\n",
      "\n",
      "Evaluating XGBoost - Log - Gen...\n",
      "MSE log:\ttrain:1.9206E-01\ttest:5.2073E+00\n",
      "MSE:\ttrain:1.0194E-03\ttest:1.9624E-02\n",
      "MAPE log:\ttrain:1.0560E+00\ttest:3.8759E-01\n",
      "Done!\n",
      "\n"
     ]
    }
   ],
   "source": [
    "for model_name, model in models_gen_log.items():\n",
    "    print(f\"Evaluating {model_name}...\")\n",
    "\n",
    "    logy_pred_train = model.predict(X_train_gen)\n",
    "    y_pred_train = log_transform.inverse_transform(logy_pred_train.squeeze())\n",
    "    logy_pred_test = model.predict(X_test_gen)\n",
    "    y_pred_test = log_transform.inverse_transform(logy_pred_test.squeeze())\n",
    "    \n",
    "    mse_test = mean_squared_error(logy_test_gen, logy_pred_test)\n",
    "    mse_train = mean_squared_error(logy_train_gen, logy_pred_train)\n",
    "    print(f\"MSE log:\\ttrain:{mse_train:.4E}\\ttest:{mse_test:.4E}\")\n",
    "    \n",
    "    mse_test = mean_squared_error(y_test_gen, y_pred_test)\n",
    "    mse_train = mean_squared_error(y_train_gen, y_pred_train)\n",
    "    print(f\"MSE:\\ttrain:{mse_train:.4E}\\ttest:{mse_test:.4E}\")\n",
    "\n",
    "    mape_test = mean_absolute_percentage_error(logy_test_gen, logy_pred_test)\n",
    "    mape_train = mean_absolute_percentage_error(logy_train_gen, logy_pred_train)\n",
    "    print(f\"MAPE log:\\ttrain:{mape_train:.4E}\\ttest:{mape_test:.4E}\")\n",
    "\n",
    "    # mse_test = custom_mape(y_test_gen, y_pred_test)\n",
    "    # mse_train = custom_mape(y_train_gen, y_pred_train)\n",
    "    # print(f\"Custom MAPE:\\ttrain:{mse_train:.4E}\\ttest:{mse_test:.4E}\")\n",
    "\n",
    "    print(\"Done!\\n\")"
   ]
  },
  {
   "cell_type": "markdown",
   "id": "9d1053dc",
   "metadata": {},
   "source": [
    "## Compare $\\Delta E$ and $\\log(\\Delta E)$ predictions"
   ]
  },
  {
   "cell_type": "code",
   "execution_count": 49,
   "id": "001bd916",
   "metadata": {},
   "outputs": [
    {
     "data": {
      "text/html": [
       "<div>\n",
       "<style scoped>\n",
       "    .dataframe tbody tr th:only-of-type {\n",
       "        vertical-align: middle;\n",
       "    }\n",
       "\n",
       "    .dataframe tbody tr th {\n",
       "        vertical-align: top;\n",
       "    }\n",
       "\n",
       "    .dataframe thead th {\n",
       "        text-align: right;\n",
       "    }\n",
       "</style>\n",
       "<table border=\"1\" class=\"dataframe\">\n",
       "  <thead>\n",
       "    <tr style=\"text-align: right;\">\n",
       "      <th></th>\n",
       "      <th>real</th>\n",
       "      <th>Random Forest - Gen</th>\n",
       "      <th>XGBoost - Gen</th>\n",
       "      <th>Random Forest - Log - Gen</th>\n",
       "      <th>XGBoost - Log - Gen</th>\n",
       "    </tr>\n",
       "  </thead>\n",
       "  <tbody>\n",
       "    <tr>\n",
       "      <th>0</th>\n",
       "      <td>2.387E-03</td>\n",
       "      <td>2.668E-04</td>\n",
       "      <td>-5.943E-04</td>\n",
       "      <td>2.262E-04</td>\n",
       "      <td>4.743E-04</td>\n",
       "    </tr>\n",
       "    <tr>\n",
       "      <th>1</th>\n",
       "      <td>3.623E-05</td>\n",
       "      <td>3.983E-05</td>\n",
       "      <td>-1.842E-04</td>\n",
       "      <td>3.727E-05</td>\n",
       "      <td>2.434E-04</td>\n",
       "    </tr>\n",
       "    <tr>\n",
       "      <th>2</th>\n",
       "      <td>9.212E-02</td>\n",
       "      <td>1.242E-01</td>\n",
       "      <td>8.476E-02</td>\n",
       "      <td>4.557E-02</td>\n",
       "      <td>5.740E-02</td>\n",
       "    </tr>\n",
       "    <tr>\n",
       "      <th>3</th>\n",
       "      <td>3.627E-03</td>\n",
       "      <td>4.250E-03</td>\n",
       "      <td>2.773E-03</td>\n",
       "      <td>2.623E-03</td>\n",
       "      <td>2.074E-03</td>\n",
       "    </tr>\n",
       "    <tr>\n",
       "      <th>4</th>\n",
       "      <td>7.657E-05</td>\n",
       "      <td>1.744E-04</td>\n",
       "      <td>2.024E-03</td>\n",
       "      <td>1.542E-04</td>\n",
       "      <td>7.331E-05</td>\n",
       "    </tr>\n",
       "    <tr>\n",
       "      <th>5</th>\n",
       "      <td>1.253E+00</td>\n",
       "      <td>1.283E+00</td>\n",
       "      <td>1.698E+00</td>\n",
       "      <td>1.254E+00</td>\n",
       "      <td>1.030E+00</td>\n",
       "    </tr>\n",
       "    <tr>\n",
       "      <th>6</th>\n",
       "      <td>3.166E-04</td>\n",
       "      <td>4.133E-04</td>\n",
       "      <td>1.915E-04</td>\n",
       "      <td>4.128E-04</td>\n",
       "      <td>3.646E-04</td>\n",
       "    </tr>\n",
       "    <tr>\n",
       "      <th>7</th>\n",
       "      <td>9.766E-02</td>\n",
       "      <td>1.604E-02</td>\n",
       "      <td>4.439E-02</td>\n",
       "      <td>1.632E-02</td>\n",
       "      <td>3.752E-02</td>\n",
       "    </tr>\n",
       "    <tr>\n",
       "      <th>8</th>\n",
       "      <td>9.623E-04</td>\n",
       "      <td>7.024E-02</td>\n",
       "      <td>6.484E-02</td>\n",
       "      <td>7.024E-02</td>\n",
       "      <td>1.042E-01</td>\n",
       "    </tr>\n",
       "    <tr>\n",
       "      <th>9</th>\n",
       "      <td>5.440E-02</td>\n",
       "      <td>1.108E-01</td>\n",
       "      <td>5.645E-02</td>\n",
       "      <td>8.131E-03</td>\n",
       "      <td>3.592E-02</td>\n",
       "    </tr>\n",
       "    <tr>\n",
       "      <th>10</th>\n",
       "      <td>3.458E-03</td>\n",
       "      <td>2.980E-03</td>\n",
       "      <td>2.703E-03</td>\n",
       "      <td>2.920E-03</td>\n",
       "      <td>4.093E-03</td>\n",
       "    </tr>\n",
       "    <tr>\n",
       "      <th>11</th>\n",
       "      <td>3.344E-02</td>\n",
       "      <td>1.224E-02</td>\n",
       "      <td>9.219E-03</td>\n",
       "      <td>1.224E-02</td>\n",
       "      <td>4.427E-03</td>\n",
       "    </tr>\n",
       "    <tr>\n",
       "      <th>12</th>\n",
       "      <td>3.054E-05</td>\n",
       "      <td>3.666E-05</td>\n",
       "      <td>1.467E-03</td>\n",
       "      <td>2.960E-05</td>\n",
       "      <td>7.642E-06</td>\n",
       "    </tr>\n",
       "    <tr>\n",
       "      <th>13</th>\n",
       "      <td>1.066E-04</td>\n",
       "      <td>1.429E-04</td>\n",
       "      <td>-1.098E-03</td>\n",
       "      <td>1.494E-04</td>\n",
       "      <td>8.468E-05</td>\n",
       "    </tr>\n",
       "    <tr>\n",
       "      <th>14</th>\n",
       "      <td>2.964E-04</td>\n",
       "      <td>1.775E-04</td>\n",
       "      <td>-5.897E-04</td>\n",
       "      <td>3.088E-04</td>\n",
       "      <td>1.682E-04</td>\n",
       "    </tr>\n",
       "    <tr>\n",
       "      <th>15</th>\n",
       "      <td>4.167E-04</td>\n",
       "      <td>3.444E-04</td>\n",
       "      <td>1.198E-03</td>\n",
       "      <td>3.443E-04</td>\n",
       "      <td>3.833E-04</td>\n",
       "    </tr>\n",
       "    <tr>\n",
       "      <th>16</th>\n",
       "      <td>2.275E-03</td>\n",
       "      <td>5.771E-04</td>\n",
       "      <td>1.459E-03</td>\n",
       "      <td>6.776E-04</td>\n",
       "      <td>7.429E-04</td>\n",
       "    </tr>\n",
       "    <tr>\n",
       "      <th>17</th>\n",
       "      <td>9.058E-03</td>\n",
       "      <td>1.680E-03</td>\n",
       "      <td>2.330E-03</td>\n",
       "      <td>1.680E-03</td>\n",
       "      <td>7.947E-04</td>\n",
       "    </tr>\n",
       "    <tr>\n",
       "      <th>18</th>\n",
       "      <td>1.143E-03</td>\n",
       "      <td>1.115E-03</td>\n",
       "      <td>2.945E-03</td>\n",
       "      <td>1.272E-03</td>\n",
       "      <td>2.065E-03</td>\n",
       "    </tr>\n",
       "    <tr>\n",
       "      <th>19</th>\n",
       "      <td>4.556E-01</td>\n",
       "      <td>2.691E-01</td>\n",
       "      <td>2.935E-01</td>\n",
       "      <td>2.696E-01</td>\n",
       "      <td>3.725E-01</td>\n",
       "    </tr>\n",
       "  </tbody>\n",
       "</table>\n",
       "</div>"
      ],
      "text/plain": [
       "        real  Random Forest - Gen  XGBoost - Gen  Random Forest - Log - Gen  \\\n",
       "0  2.387E-03            2.668E-04     -5.943E-04                  2.262E-04   \n",
       "1  3.623E-05            3.983E-05     -1.842E-04                  3.727E-05   \n",
       "2  9.212E-02            1.242E-01      8.476E-02                  4.557E-02   \n",
       "3  3.627E-03            4.250E-03      2.773E-03                  2.623E-03   \n",
       "4  7.657E-05            1.744E-04      2.024E-03                  1.542E-04   \n",
       "5  1.253E+00            1.283E+00      1.698E+00                  1.254E+00   \n",
       "6  3.166E-04            4.133E-04      1.915E-04                  4.128E-04   \n",
       "7  9.766E-02            1.604E-02      4.439E-02                  1.632E-02   \n",
       "8  9.623E-04            7.024E-02      6.484E-02                  7.024E-02   \n",
       "9  5.440E-02            1.108E-01      5.645E-02                  8.131E-03   \n",
       "10 3.458E-03            2.980E-03      2.703E-03                  2.920E-03   \n",
       "11 3.344E-02            1.224E-02      9.219E-03                  1.224E-02   \n",
       "12 3.054E-05            3.666E-05      1.467E-03                  2.960E-05   \n",
       "13 1.066E-04            1.429E-04     -1.098E-03                  1.494E-04   \n",
       "14 2.964E-04            1.775E-04     -5.897E-04                  3.088E-04   \n",
       "15 4.167E-04            3.444E-04      1.198E-03                  3.443E-04   \n",
       "16 2.275E-03            5.771E-04      1.459E-03                  6.776E-04   \n",
       "17 9.058E-03            1.680E-03      2.330E-03                  1.680E-03   \n",
       "18 1.143E-03            1.115E-03      2.945E-03                  1.272E-03   \n",
       "19 4.556E-01            2.691E-01      2.935E-01                  2.696E-01   \n",
       "\n",
       "    XGBoost - Log - Gen  \n",
       "0             4.743E-04  \n",
       "1             2.434E-04  \n",
       "2             5.740E-02  \n",
       "3             2.074E-03  \n",
       "4             7.331E-05  \n",
       "5             1.030E+00  \n",
       "6             3.646E-04  \n",
       "7             3.752E-02  \n",
       "8             1.042E-01  \n",
       "9             3.592E-02  \n",
       "10            4.093E-03  \n",
       "11            4.427E-03  \n",
       "12            7.642E-06  \n",
       "13            8.468E-05  \n",
       "14            1.682E-04  \n",
       "15            3.833E-04  \n",
       "16            7.429E-04  \n",
       "17            7.947E-04  \n",
       "18            2.065E-03  \n",
       "19            3.725E-01  "
      ]
     },
     "execution_count": 49,
     "metadata": {},
     "output_type": "execute_result"
    }
   ],
   "source": [
    "n_sample = 20\n",
    "idx_sample = np.random.choice(X_test_gen.shape[0], n_sample, replace=False)\n",
    "df_pred_samples = pd.DataFrame(index=np.arange(n_sample))\n",
    "df_pred_samples[\"real\"] = np.array(y_test_gen).squeeze()[idx_sample]\n",
    "\n",
    "for name, model in models_gen.items():\n",
    "    df_pred_samples[name] = model.predict(X_test_gen)[idx_sample]\n",
    "\n",
    "for name, model in models_gen_log.items():\n",
    "    df_pred_samples[name] = log_transform.inverse_transform(model.predict(X_test_gen)[idx_sample])\n",
    "\n",
    "pd.set_option('display.float_format', '{:.3E}'.format)\n",
    "df_pred_samples"
   ]
  }
 ],
 "metadata": {
  "kernelspec": {
   "display_name": "Python 3",
   "language": "python",
   "name": "python3"
  },
  "language_info": {
   "codemirror_mode": {
    "name": "ipython",
    "version": 3
   },
   "file_extension": ".py",
   "mimetype": "text/x-python",
   "name": "python",
   "nbconvert_exporter": "python",
   "pygments_lexer": "ipython3",
   "version": "3.8.10"
  }
 },
 "nbformat": 4,
 "nbformat_minor": 5
}
