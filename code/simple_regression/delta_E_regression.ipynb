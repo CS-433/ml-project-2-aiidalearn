{
 "cells": [
  {
   "cell_type": "code",
   "execution_count": 1,
   "id": "c70cfc73",
   "metadata": {},
   "outputs": [],
   "source": [
    "import os\n",
    "import numpy as np\n",
    "import pandas as pd\n",
    "\n",
    "from sklearn.pipeline import Pipeline, FeatureUnion\n",
    "from sklearn.preprocessing import StandardScaler, PolynomialFeatures, FunctionTransformer\n",
    "from sklearn.linear_model import LinearRegression\n",
    "from sklearn.ensemble import RandomForestRegressor\n",
    "from sklearn.model_selection import train_test_split\n",
    "from sklearn.metrics import mean_squared_error, mean_absolute_percentage_error\n",
    "\n",
    "import matplotlib.pyplot as plt\n",
    "from mpl_toolkits.mplot3d import Axes3D"
   ]
  },
  {
   "cell_type": "code",
   "execution_count": 2,
   "id": "7f1742b0",
   "metadata": {},
   "outputs": [],
   "source": [
    "DATA_DIR = os.path.join(\n",
    "    os.path.dirname(os.path.dirname(os.getcwd())), \"data/\"\n",
    ")"
   ]
  },
  {
   "cell_type": "markdown",
   "id": "2abfd0b6",
   "metadata": {},
   "source": [
    "# Loading Data"
   ]
  },
  {
   "cell_type": "code",
   "execution_count": 3,
   "id": "76bc6d7d",
   "metadata": {},
   "outputs": [],
   "source": [
    "structure_names = [\"Ge-1_Se-1\", \"Ge-1_Te-1\"]"
   ]
  },
  {
   "cell_type": "code",
   "execution_count": 4,
   "id": "d92cd656",
   "metadata": {},
   "outputs": [],
   "source": [
    "df = pd.concat([pd.read_csv(os.path.join(DATA_DIR, struct_name + \".csv\"), index_col=0) for struct_name in structure_names])"
   ]
  },
  {
   "cell_type": "code",
   "execution_count": 5,
   "id": "5bc318af",
   "metadata": {},
   "outputs": [],
   "source": [
    "cols_raw = list(df.columns)\n",
    "cols_trash = ['converged', 'accuracy']\n",
    "cols_independent = ['delta_E']\n",
    "cols_drop = cols_trash + cols_independent\n",
    "\n",
    "cols_dependent = cols_raw.copy()\n",
    "for element in cols_drop:\n",
    "    cols_dependent.remove(element)"
   ]
  },
  {
   "cell_type": "code",
   "execution_count": 6,
   "id": "cd4a7069",
   "metadata": {},
   "outputs": [],
   "source": [
    "X_raw = df[cols_dependent]\n",
    "y_raw = df[cols_independent]"
   ]
  },
  {
   "cell_type": "code",
   "execution_count": 7,
   "id": "e9dc01a4",
   "metadata": {},
   "outputs": [
    {
     "data": {
      "text/html": [
       "<div>\n",
       "<style scoped>\n",
       "    .dataframe tbody tr th:only-of-type {\n",
       "        vertical-align: middle;\n",
       "    }\n",
       "\n",
       "    .dataframe tbody tr th {\n",
       "        vertical-align: top;\n",
       "    }\n",
       "\n",
       "    .dataframe thead th {\n",
       "        text-align: right;\n",
       "    }\n",
       "</style>\n",
       "<table border=\"1\" class=\"dataframe\">\n",
       "  <thead>\n",
       "    <tr style=\"text-align: right;\">\n",
       "      <th></th>\n",
       "      <th>ecutrho</th>\n",
       "      <th>k_density</th>\n",
       "      <th>ecutwfc</th>\n",
       "      <th>Ag</th>\n",
       "      <th>Al</th>\n",
       "      <th>Ar</th>\n",
       "      <th>As</th>\n",
       "      <th>Au</th>\n",
       "      <th>B</th>\n",
       "      <th>Ba</th>\n",
       "      <th>...</th>\n",
       "      <th>Ti</th>\n",
       "      <th>Tl</th>\n",
       "      <th>Tm</th>\n",
       "      <th>V</th>\n",
       "      <th>W</th>\n",
       "      <th>Xe</th>\n",
       "      <th>Y</th>\n",
       "      <th>Yb</th>\n",
       "      <th>Zn</th>\n",
       "      <th>Zr</th>\n",
       "    </tr>\n",
       "  </thead>\n",
       "  <tbody>\n",
       "    <tr>\n",
       "      <th>count</th>\n",
       "      <td>1235.000000</td>\n",
       "      <td>1235.000000</td>\n",
       "      <td>1235.000000</td>\n",
       "      <td>1235.0</td>\n",
       "      <td>1235.0</td>\n",
       "      <td>1235.0</td>\n",
       "      <td>1235.0</td>\n",
       "      <td>1235.0</td>\n",
       "      <td>1235.0</td>\n",
       "      <td>1235.0</td>\n",
       "      <td>...</td>\n",
       "      <td>1235.0</td>\n",
       "      <td>1235.0</td>\n",
       "      <td>1235.0</td>\n",
       "      <td>1235.0</td>\n",
       "      <td>1235.0</td>\n",
       "      <td>1235.0</td>\n",
       "      <td>1235.0</td>\n",
       "      <td>1235.0</td>\n",
       "      <td>1235.0</td>\n",
       "      <td>1235.0</td>\n",
       "    </tr>\n",
       "    <tr>\n",
       "      <th>mean</th>\n",
       "      <td>242.348178</td>\n",
       "      <td>0.228981</td>\n",
       "      <td>56.558704</td>\n",
       "      <td>0.0</td>\n",
       "      <td>0.0</td>\n",
       "      <td>0.0</td>\n",
       "      <td>0.0</td>\n",
       "      <td>0.0</td>\n",
       "      <td>0.0</td>\n",
       "      <td>0.0</td>\n",
       "      <td>...</td>\n",
       "      <td>0.0</td>\n",
       "      <td>0.0</td>\n",
       "      <td>0.0</td>\n",
       "      <td>0.0</td>\n",
       "      <td>0.0</td>\n",
       "      <td>0.0</td>\n",
       "      <td>0.0</td>\n",
       "      <td>0.0</td>\n",
       "      <td>0.0</td>\n",
       "      <td>0.0</td>\n",
       "    </tr>\n",
       "    <tr>\n",
       "      <th>std</th>\n",
       "      <td>90.009860</td>\n",
       "      <td>0.145444</td>\n",
       "      <td>22.897391</td>\n",
       "      <td>0.0</td>\n",
       "      <td>0.0</td>\n",
       "      <td>0.0</td>\n",
       "      <td>0.0</td>\n",
       "      <td>0.0</td>\n",
       "      <td>0.0</td>\n",
       "      <td>0.0</td>\n",
       "      <td>...</td>\n",
       "      <td>0.0</td>\n",
       "      <td>0.0</td>\n",
       "      <td>0.0</td>\n",
       "      <td>0.0</td>\n",
       "      <td>0.0</td>\n",
       "      <td>0.0</td>\n",
       "      <td>0.0</td>\n",
       "      <td>0.0</td>\n",
       "      <td>0.0</td>\n",
       "      <td>0.0</td>\n",
       "    </tr>\n",
       "    <tr>\n",
       "      <th>min</th>\n",
       "      <td>100.000000</td>\n",
       "      <td>0.100000</td>\n",
       "      <td>20.000000</td>\n",
       "      <td>0.0</td>\n",
       "      <td>0.0</td>\n",
       "      <td>0.0</td>\n",
       "      <td>0.0</td>\n",
       "      <td>0.0</td>\n",
       "      <td>0.0</td>\n",
       "      <td>0.0</td>\n",
       "      <td>...</td>\n",
       "      <td>0.0</td>\n",
       "      <td>0.0</td>\n",
       "      <td>0.0</td>\n",
       "      <td>0.0</td>\n",
       "      <td>0.0</td>\n",
       "      <td>0.0</td>\n",
       "      <td>0.0</td>\n",
       "      <td>0.0</td>\n",
       "      <td>0.0</td>\n",
       "      <td>0.0</td>\n",
       "    </tr>\n",
       "    <tr>\n",
       "      <th>25%</th>\n",
       "      <td>180.000000</td>\n",
       "      <td>0.125000</td>\n",
       "      <td>35.000000</td>\n",
       "      <td>0.0</td>\n",
       "      <td>0.0</td>\n",
       "      <td>0.0</td>\n",
       "      <td>0.0</td>\n",
       "      <td>0.0</td>\n",
       "      <td>0.0</td>\n",
       "      <td>0.0</td>\n",
       "      <td>...</td>\n",
       "      <td>0.0</td>\n",
       "      <td>0.0</td>\n",
       "      <td>0.0</td>\n",
       "      <td>0.0</td>\n",
       "      <td>0.0</td>\n",
       "      <td>0.0</td>\n",
       "      <td>0.0</td>\n",
       "      <td>0.0</td>\n",
       "      <td>0.0</td>\n",
       "      <td>0.0</td>\n",
       "    </tr>\n",
       "    <tr>\n",
       "      <th>50%</th>\n",
       "      <td>260.000000</td>\n",
       "      <td>0.166667</td>\n",
       "      <td>55.000000</td>\n",
       "      <td>0.0</td>\n",
       "      <td>0.0</td>\n",
       "      <td>0.0</td>\n",
       "      <td>0.0</td>\n",
       "      <td>0.0</td>\n",
       "      <td>0.0</td>\n",
       "      <td>0.0</td>\n",
       "      <td>...</td>\n",
       "      <td>0.0</td>\n",
       "      <td>0.0</td>\n",
       "      <td>0.0</td>\n",
       "      <td>0.0</td>\n",
       "      <td>0.0</td>\n",
       "      <td>0.0</td>\n",
       "      <td>0.0</td>\n",
       "      <td>0.0</td>\n",
       "      <td>0.0</td>\n",
       "      <td>0.0</td>\n",
       "    </tr>\n",
       "    <tr>\n",
       "      <th>75%</th>\n",
       "      <td>340.000000</td>\n",
       "      <td>0.250000</td>\n",
       "      <td>75.000000</td>\n",
       "      <td>0.0</td>\n",
       "      <td>0.0</td>\n",
       "      <td>0.0</td>\n",
       "      <td>0.0</td>\n",
       "      <td>0.0</td>\n",
       "      <td>0.0</td>\n",
       "      <td>0.0</td>\n",
       "      <td>...</td>\n",
       "      <td>0.0</td>\n",
       "      <td>0.0</td>\n",
       "      <td>0.0</td>\n",
       "      <td>0.0</td>\n",
       "      <td>0.0</td>\n",
       "      <td>0.0</td>\n",
       "      <td>0.0</td>\n",
       "      <td>0.0</td>\n",
       "      <td>0.0</td>\n",
       "      <td>0.0</td>\n",
       "    </tr>\n",
       "    <tr>\n",
       "      <th>max</th>\n",
       "      <td>380.000000</td>\n",
       "      <td>0.500000</td>\n",
       "      <td>100.000000</td>\n",
       "      <td>0.0</td>\n",
       "      <td>0.0</td>\n",
       "      <td>0.0</td>\n",
       "      <td>0.0</td>\n",
       "      <td>0.0</td>\n",
       "      <td>0.0</td>\n",
       "      <td>0.0</td>\n",
       "      <td>...</td>\n",
       "      <td>0.0</td>\n",
       "      <td>0.0</td>\n",
       "      <td>0.0</td>\n",
       "      <td>0.0</td>\n",
       "      <td>0.0</td>\n",
       "      <td>0.0</td>\n",
       "      <td>0.0</td>\n",
       "      <td>0.0</td>\n",
       "      <td>0.0</td>\n",
       "      <td>0.0</td>\n",
       "    </tr>\n",
       "  </tbody>\n",
       "</table>\n",
       "<p>8 rows × 88 columns</p>\n",
       "</div>"
      ],
      "text/plain": [
       "           ecutrho    k_density      ecutwfc      Ag      Al      Ar      As  \\\n",
       "count  1235.000000  1235.000000  1235.000000  1235.0  1235.0  1235.0  1235.0   \n",
       "mean    242.348178     0.228981    56.558704     0.0     0.0     0.0     0.0   \n",
       "std      90.009860     0.145444    22.897391     0.0     0.0     0.0     0.0   \n",
       "min     100.000000     0.100000    20.000000     0.0     0.0     0.0     0.0   \n",
       "25%     180.000000     0.125000    35.000000     0.0     0.0     0.0     0.0   \n",
       "50%     260.000000     0.166667    55.000000     0.0     0.0     0.0     0.0   \n",
       "75%     340.000000     0.250000    75.000000     0.0     0.0     0.0     0.0   \n",
       "max     380.000000     0.500000   100.000000     0.0     0.0     0.0     0.0   \n",
       "\n",
       "           Au       B      Ba  ...      Ti      Tl      Tm       V       W  \\\n",
       "count  1235.0  1235.0  1235.0  ...  1235.0  1235.0  1235.0  1235.0  1235.0   \n",
       "mean      0.0     0.0     0.0  ...     0.0     0.0     0.0     0.0     0.0   \n",
       "std       0.0     0.0     0.0  ...     0.0     0.0     0.0     0.0     0.0   \n",
       "min       0.0     0.0     0.0  ...     0.0     0.0     0.0     0.0     0.0   \n",
       "25%       0.0     0.0     0.0  ...     0.0     0.0     0.0     0.0     0.0   \n",
       "50%       0.0     0.0     0.0  ...     0.0     0.0     0.0     0.0     0.0   \n",
       "75%       0.0     0.0     0.0  ...     0.0     0.0     0.0     0.0     0.0   \n",
       "max       0.0     0.0     0.0  ...     0.0     0.0     0.0     0.0     0.0   \n",
       "\n",
       "           Xe       Y      Yb      Zn      Zr  \n",
       "count  1235.0  1235.0  1235.0  1235.0  1235.0  \n",
       "mean      0.0     0.0     0.0     0.0     0.0  \n",
       "std       0.0     0.0     0.0     0.0     0.0  \n",
       "min       0.0     0.0     0.0     0.0     0.0  \n",
       "25%       0.0     0.0     0.0     0.0     0.0  \n",
       "50%       0.0     0.0     0.0     0.0     0.0  \n",
       "75%       0.0     0.0     0.0     0.0     0.0  \n",
       "max       0.0     0.0     0.0     0.0     0.0  \n",
       "\n",
       "[8 rows x 88 columns]"
      ]
     },
     "execution_count": 7,
     "metadata": {},
     "output_type": "execute_result"
    }
   ],
   "source": [
    "X_raw.describe()"
   ]
  },
  {
   "cell_type": "markdown",
   "id": "df358c83",
   "metadata": {},
   "source": [
    "# Train-Test-Split"
   ]
  },
  {
   "cell_type": "code",
   "execution_count": 8,
   "id": "7ee412d4",
   "metadata": {},
   "outputs": [],
   "source": [
    "X_train, X_test, y_train, y_test = train_test_split(\n",
    "    X_raw, y_raw,\n",
    "    test_size=0.2,\n",
    "    random_state=42\n",
    ")"
   ]
  },
  {
   "cell_type": "markdown",
   "id": "3c621243",
   "metadata": {},
   "source": [
    "# Model definitions"
   ]
  },
  {
   "cell_type": "markdown",
   "id": "47195970",
   "metadata": {},
   "source": [
    "### Linear Model with feature augmentation"
   ]
  },
  {
   "cell_type": "code",
   "execution_count": 24,
   "id": "ca23925f",
   "metadata": {},
   "outputs": [],
   "source": [
    "# functions such that f(x) != 0 and f(+inf) = 0\n",
    "functions_set_1 = [\n",
    "    lambda x: np.exp(-x),\n",
    "    lambda x: 1 / (1+x),\n",
    "    lambda x: 1 / (1+x)**2,\n",
    "    lambda x: np.cos(x) * np.exp(-x),\n",
    "]\n",
    "\n",
    "# functions such that f(x) = 0 and f(+inf) = 0\n",
    "functions_set_2 = [\n",
    "    lambda x: x*np.exp(-x),\n",
    "    lambda x: x / (1+x)**2,\n",
    "    lambda x: x / (1+x)**3,\n",
    "    lambda x: np.sin(x) * np.exp(-x),\n",
    "]\n",
    "\n",
    "linear_augmented_model = Pipeline([\n",
    "    ('scaler_init', StandardScaler()),\n",
    "    ('features', FeatureUnion(\n",
    "    [\n",
    "        (f\"fun_{j}\", FunctionTransformer(lambda X : f(X[:,:3]))) for j, f in enumerate(functions_set_1 + functions_set_2)\n",
    "    ] + [\n",
    "        (f\"fun_{j}_col_{col}_1\", FunctionTransformer(lambda X : f(X[:,:3] * X[:,i][:, None]))) for j, f in enumerate(functions_set_1) for i, col in enumerate([\"ecutrho\", \"kpoints\", \"ecutwfc\"])\n",
    "    ] + [\n",
    "        (f\"fun_{j}_col_{col}_2\", FunctionTransformer(lambda X : f(X[:,3:] * X[:,i][:, None]))) for j, f in enumerate(functions_set_2) for i, col in enumerate([\"ecutrho\", \"kpoints\", \"ecutwfc\"])\n",
    "    ])),\n",
    "    ('scaler_final', StandardScaler()),\n",
    "    ('regressor', LinearRegression()),\n",
    "])"
   ]
  },
  {
   "cell_type": "markdown",
   "id": "abf67f9a",
   "metadata": {},
   "source": [
    "### Random forest"
   ]
  },
  {
   "cell_type": "code",
   "execution_count": 10,
   "id": "a97fed00",
   "metadata": {},
   "outputs": [],
   "source": [
    "rf_model = RandomForestRegressor()"
   ]
  },
  {
   "cell_type": "markdown",
   "id": "06cf1dae",
   "metadata": {},
   "source": [
    "### Packing them together to reduce code size"
   ]
  },
  {
   "cell_type": "code",
   "execution_count": 20,
   "id": "7e4717fe",
   "metadata": {},
   "outputs": [],
   "source": [
    "models = {\"Augmented Linear Regression\": linear_augmented_model, \"Random Forest\": rf_model}"
   ]
  },
  {
   "cell_type": "markdown",
   "id": "6e4fe548",
   "metadata": {},
   "source": [
    "# Model training"
   ]
  },
  {
   "cell_type": "code",
   "execution_count": 25,
   "id": "aa179e1c",
   "metadata": {},
   "outputs": [
    {
     "name": "stdout",
     "output_type": "stream",
     "text": [
      "Training Augmented Linear Regression...\n",
      "Done!\n",
      "\n",
      "Training Random Forest...\n"
     ]
    },
    {
     "name": "stderr",
     "output_type": "stream",
     "text": [
      "<ipython-input-25-f12d51c6d413>:3: DataConversionWarning: A column-vector y was passed when a 1d array was expected. Please change the shape of y to (n_samples,), for example using ravel().\n",
      "  model.fit(X_train, y_train)\n"
     ]
    },
    {
     "name": "stdout",
     "output_type": "stream",
     "text": [
      "Done!\n",
      "\n"
     ]
    }
   ],
   "source": [
    "for model_name, model in models.items():\n",
    "    print(f\"Training {model_name}...\")\n",
    "    model.fit(X_train, y_train)\n",
    "    print(\"Done!\\n\")"
   ]
  },
  {
   "cell_type": "markdown",
   "id": "65db67da",
   "metadata": {},
   "source": [
    "# Model evaluation"
   ]
  },
  {
   "cell_type": "code",
   "execution_count": 26,
   "id": "7f47ab14",
   "metadata": {},
   "outputs": [
    {
     "name": "stdout",
     "output_type": "stream",
     "text": [
      "Evaluating Augmented Linear Regression...\n",
      "MSE:\ttrain:3.4599E-02\ttest:2.2460E-02\n",
      "MAPE:\ttrain:9.1788E+11\ttest:2.9406E+12\n",
      "Done!\n",
      "\n",
      "Evaluating Random Forest...\n",
      "MSE:\ttrain:9.5253E-08\ttest:2.3902E-06\n",
      "MAPE:\ttrain:2.8056E+06\ttest:6.4965E+06\n",
      "Done!\n",
      "\n"
     ]
    }
   ],
   "source": [
    "for model_name, model in models.items():\n",
    "    print(f\"Evaluating {model_name}...\")\n",
    "\n",
    "    y_pred_train = model.predict(X_train)\n",
    "    y_pred_test = model.predict(X_test)\n",
    "\n",
    "    mse_test = mean_squared_error(y_test, y_pred_test)\n",
    "    mse_train = mean_squared_error(y_train, y_pred_train)\n",
    "    print(f\"MSE:\\ttrain:{mse_train:.4E}\\ttest:{mse_test:.4E}\")\n",
    "\n",
    "    mape_test = mean_absolute_percentage_error(y_test, y_pred_test)\n",
    "    mape_train = mean_absolute_percentage_error(y_train, y_pred_train)\n",
    "    print(f\"MAPE:\\ttrain:{mape_train:.4E}\\ttest:{mape_test:.4E}\")\n",
    "\n",
    "    print(\"Done!\\n\")"
   ]
  },
  {
   "cell_type": "markdown",
   "id": "7d2de175",
   "metadata": {},
   "source": [
    "# Visualization"
   ]
  },
  {
   "cell_type": "code",
   "execution_count": 27,
   "id": "12bb3e77",
   "metadata": {},
   "outputs": [
    {
     "data": {
      "image/png": "[encoded data removed]",
      "text/plain": [
       "<Figure size 864x576 with 6 Axes>"
      ]
     },
     "metadata": {
      "needs_background": "light"
     },
     "output_type": "display_data"
    }
   ],
   "source": [
    "n_models = len(models)\n",
    "fig, ax = plt.subplots(n_models,3,figsize=(12,4*n_models), sharey=True, squeeze=False)\n",
    "for j, (name, model) in enumerate(models.items()):\n",
    "    for i, col in enumerate(X_train.columns[:3]):\n",
    "        ax[j,i].scatter(X_train[col], y_train)\n",
    "        ax[j,i].scatter(X_test[col], y_test)\n",
    "        ax[j,i].scatter(X_test[col], model.predict(X_test))\n",
    "    ax[j,0].set_ylabel(name)\n",
    "ax[-1,0].set_xlabel(\"ecutrho\")\n",
    "ax[-1,1].set_xlabel('k_density')\n",
    "ax[-1,2].set_xlabel('ecutwfc')\n",
    "PLOTPATH = os.path.join(os.path.dirname(os.path.dirname(os.getcwd())), \"plots/delta_E_regression/toy_comparison.png\")\n",
    "plt.savefig(PLOTPATH)"
   ]
  },
  {
   "cell_type": "code",
   "execution_count": 15,
   "id": "39a3f565",
   "metadata": {},
   "outputs": [
    {
     "data": {
      "text/plain": [
       "<mpl_toolkits.mplot3d.art3d.Path3DCollection at 0x7f6b4c543ee0>"
      ]
     },
     "execution_count": 15,
     "metadata": {},
     "output_type": "execute_result"
    },
    {
     "data": {
      "image/png": "[encoded data removed]",
      "text/plain": [
       "<Figure size 432x288 with 1 Axes>"
      ]
     },
     "metadata": {
      "needs_background": "light"
     },
     "output_type": "display_data"
    }
   ],
   "source": [
    "fig = plt.figure()\n",
    "ax = fig.add_subplot(111, projection='3d')\n",
    "ax.scatter(X_train['ecutwfc'], X_train['k_density'], y_train)\n",
    "ax.scatter(X_test['ecutwfc'], X_test['k_density'], y_test)\n",
    "ax.scatter(X_test['ecutwfc'], X_test['k_density'], rf_model.predict(X_test))"
   ]
  }
 ],
 "metadata": {
  "kernelspec": {
   "display_name": "Python 3",
   "language": "python",
   "name": "python3"
  },
  "language_info": {
   "codemirror_mode": {
    "name": "ipython",
    "version": 3
   },
   "file_extension": ".py",
   "mimetype": "text/x-python",
   "name": "python",
   "nbconvert_exporter": "python",
   "pygments_lexer": "ipython3",
   "version": "3.8.8"
  }
 },
 "nbformat": 4,
 "nbformat_minor": 5
}
