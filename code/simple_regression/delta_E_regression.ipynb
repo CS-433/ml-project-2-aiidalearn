{
 "cells": [
  {
   "cell_type": "code",
   "execution_count": 1,
   "id": "f72e6a6c",
   "metadata": {},
   "outputs": [],
   "source": [
    "import os\n",
    "import numpy as np\n",
    "import pandas as pd\n",
    "import sys\n",
    "\n",
    "from sklearn.pipeline import Pipeline, FeatureUnion\n",
    "from sklearn.preprocessing import StandardScaler, PolynomialFeatures, FunctionTransformer\n",
    "from sklearn.linear_model import LinearRegression\n",
    "from sklearn.ensemble import RandomForestRegressor, GradientBoostingRegressor\n",
    "from sklearn.model_selection import train_test_split\n",
    "from sklearn.metrics import mean_squared_error, mean_absolute_percentage_error\n",
    "\n",
    "import xgboost as xgb\n",
    "\n",
    "import matplotlib.pyplot as plt\n",
    "from mpl_toolkits.mplot3d import Axes3D\n",
    "\n",
    "sys.path.append(os.path.dirname(os.getcwd()))\n",
    "from tools.utils import PERIODIC_TABLE_INFO, PTC_COLNAMES, encode_all_structures, Encoding"
   ]
  },
  {
   "cell_type": "code",
   "execution_count": 2,
   "id": "c52ef9f3",
   "metadata": {},
   "outputs": [],
   "source": [
    "DATA_DIR = os.path.join(\n",
    "    os.path.dirname(os.path.dirname(os.getcwd())), \"data/\"\n",
    ")"
   ]
  },
  {
   "cell_type": "markdown",
   "id": "330d9f5c",
   "metadata": {},
   "source": [
    "# Loading Data"
   ]
  },
  {
   "cell_type": "code",
   "execution_count": 3,
   "id": "7544e81a",
   "metadata": {},
   "outputs": [],
   "source": [
    "encoding = Encoding.COLUMN_MASS\n",
    "\n",
    "df = pd.read_csv(os.path.join(DATA_DIR, \"data.csv\"), index_col=0, na_filter= False)\n",
    "df = encode_all_structures(df, encoding)"
   ]
  },
  {
   "cell_type": "code",
   "execution_count": 5,
   "id": "4fc753ef",
   "metadata": {},
   "outputs": [],
   "source": [
    "cols_raw = list(df.columns)\n",
    "cols_trash = [\"structure\", 'converged', 'accuracy', \"n_iterations\", \"time\", \"fermi\", \"total_energy\"]\n",
    "cols_independent = ['delta_E']\n",
    "cols_drop = cols_trash + cols_independent\n",
    "\n",
    "cols_dependent = cols_raw.copy()\n",
    "for element in cols_drop:\n",
    "    cols_dependent.remove(element)"
   ]
  },
  {
   "cell_type": "code",
   "execution_count": 6,
   "id": "3b14d721",
   "metadata": {},
   "outputs": [],
   "source": [
    "X_raw = df[cols_dependent][df[\"converged\"]]\n",
    "y_raw = np.abs(df[cols_independent][df[\"converged\"]]).squeeze()"
   ]
  },
  {
   "cell_type": "code",
   "execution_count": 7,
   "id": "d150f25c",
   "metadata": {},
   "outputs": [
    {
     "data": {
      "text/html": [
       "<div>\n",
       "<style scoped>\n",
       "    .dataframe tbody tr th:only-of-type {\n",
       "        vertical-align: middle;\n",
       "    }\n",
       "\n",
       "    .dataframe tbody tr th {\n",
       "        vertical-align: top;\n",
       "    }\n",
       "\n",
       "    .dataframe thead th {\n",
       "        text-align: right;\n",
       "    }\n",
       "</style>\n",
       "<table border=\"1\" class=\"dataframe\">\n",
       "  <thead>\n",
       "    <tr style=\"text-align: right;\">\n",
       "      <th></th>\n",
       "      <th>ecutrho</th>\n",
       "      <th>k_density</th>\n",
       "      <th>ecutwfc</th>\n",
       "      <th>Lant</th>\n",
       "      <th>PTC1</th>\n",
       "      <th>PTC2</th>\n",
       "      <th>PTC3</th>\n",
       "      <th>PTC4</th>\n",
       "      <th>PTC5</th>\n",
       "      <th>PTC6</th>\n",
       "      <th>...</th>\n",
       "      <th>PTC9</th>\n",
       "      <th>PTC10</th>\n",
       "      <th>PTC11</th>\n",
       "      <th>PTC12</th>\n",
       "      <th>PTC13</th>\n",
       "      <th>PTC14</th>\n",
       "      <th>PTC15</th>\n",
       "      <th>PTC16</th>\n",
       "      <th>PTC17</th>\n",
       "      <th>PTC18</th>\n",
       "    </tr>\n",
       "  </thead>\n",
       "  <tbody>\n",
       "    <tr>\n",
       "      <th>count</th>\n",
       "      <td>50103.000000</td>\n",
       "      <td>50103.000000</td>\n",
       "      <td>50103.000000</td>\n",
       "      <td>50103.000000</td>\n",
       "      <td>50103.000000</td>\n",
       "      <td>50103.000000</td>\n",
       "      <td>50103.000000</td>\n",
       "      <td>50103.000000</td>\n",
       "      <td>50103.000000</td>\n",
       "      <td>50103.000000</td>\n",
       "      <td>...</td>\n",
       "      <td>50103.000000</td>\n",
       "      <td>50103.000000</td>\n",
       "      <td>50103.000000</td>\n",
       "      <td>50103.000000</td>\n",
       "      <td>50103.000000</td>\n",
       "      <td>50103.000000</td>\n",
       "      <td>50103.000000</td>\n",
       "      <td>50103.000000</td>\n",
       "      <td>50103.000000</td>\n",
       "      <td>50103.0</td>\n",
       "    </tr>\n",
       "    <tr>\n",
       "      <th>mean</th>\n",
       "      <td>244.892721</td>\n",
       "      <td>5.839091</td>\n",
       "      <td>58.361974</td>\n",
       "      <td>0.144222</td>\n",
       "      <td>0.026151</td>\n",
       "      <td>0.042501</td>\n",
       "      <td>0.025161</td>\n",
       "      <td>0.026694</td>\n",
       "      <td>0.032560</td>\n",
       "      <td>0.017797</td>\n",
       "      <td>...</td>\n",
       "      <td>0.061554</td>\n",
       "      <td>0.053130</td>\n",
       "      <td>0.051507</td>\n",
       "      <td>0.042638</td>\n",
       "      <td>0.050566</td>\n",
       "      <td>0.054685</td>\n",
       "      <td>0.093422</td>\n",
       "      <td>0.053833</td>\n",
       "      <td>0.027618</td>\n",
       "      <td>0.0</td>\n",
       "    </tr>\n",
       "    <tr>\n",
       "      <th>std</th>\n",
       "      <td>89.225395</td>\n",
       "      <td>2.832273</td>\n",
       "      <td>24.125526</td>\n",
       "      <td>0.281524</td>\n",
       "      <td>0.117657</td>\n",
       "      <td>0.138731</td>\n",
       "      <td>0.113423</td>\n",
       "      <td>0.114082</td>\n",
       "      <td>0.128524</td>\n",
       "      <td>0.100497</td>\n",
       "      <td>...</td>\n",
       "      <td>0.193230</td>\n",
       "      <td>0.181711</td>\n",
       "      <td>0.165357</td>\n",
       "      <td>0.154393</td>\n",
       "      <td>0.169704</td>\n",
       "      <td>0.145690</td>\n",
       "      <td>0.209317</td>\n",
       "      <td>0.149498</td>\n",
       "      <td>0.135384</td>\n",
       "      <td>0.0</td>\n",
       "    </tr>\n",
       "    <tr>\n",
       "      <th>min</th>\n",
       "      <td>100.000000</td>\n",
       "      <td>2.000000</td>\n",
       "      <td>20.000000</td>\n",
       "      <td>0.000000</td>\n",
       "      <td>0.000000</td>\n",
       "      <td>0.000000</td>\n",
       "      <td>0.000000</td>\n",
       "      <td>0.000000</td>\n",
       "      <td>0.000000</td>\n",
       "      <td>0.000000</td>\n",
       "      <td>...</td>\n",
       "      <td>0.000000</td>\n",
       "      <td>0.000000</td>\n",
       "      <td>0.000000</td>\n",
       "      <td>0.000000</td>\n",
       "      <td>0.000000</td>\n",
       "      <td>0.000000</td>\n",
       "      <td>0.000000</td>\n",
       "      <td>0.000000</td>\n",
       "      <td>0.000000</td>\n",
       "      <td>0.0</td>\n",
       "    </tr>\n",
       "    <tr>\n",
       "      <th>25%</th>\n",
       "      <td>180.000000</td>\n",
       "      <td>4.000000</td>\n",
       "      <td>40.000000</td>\n",
       "      <td>0.000000</td>\n",
       "      <td>0.000000</td>\n",
       "      <td>0.000000</td>\n",
       "      <td>0.000000</td>\n",
       "      <td>0.000000</td>\n",
       "      <td>0.000000</td>\n",
       "      <td>0.000000</td>\n",
       "      <td>...</td>\n",
       "      <td>0.000000</td>\n",
       "      <td>0.000000</td>\n",
       "      <td>0.000000</td>\n",
       "      <td>0.000000</td>\n",
       "      <td>0.000000</td>\n",
       "      <td>0.000000</td>\n",
       "      <td>0.000000</td>\n",
       "      <td>0.000000</td>\n",
       "      <td>0.000000</td>\n",
       "      <td>0.0</td>\n",
       "    </tr>\n",
       "    <tr>\n",
       "      <th>50%</th>\n",
       "      <td>260.000000</td>\n",
       "      <td>6.000000</td>\n",
       "      <td>55.000000</td>\n",
       "      <td>0.000000</td>\n",
       "      <td>0.000000</td>\n",
       "      <td>0.000000</td>\n",
       "      <td>0.000000</td>\n",
       "      <td>0.000000</td>\n",
       "      <td>0.000000</td>\n",
       "      <td>0.000000</td>\n",
       "      <td>...</td>\n",
       "      <td>0.000000</td>\n",
       "      <td>0.000000</td>\n",
       "      <td>0.000000</td>\n",
       "      <td>0.000000</td>\n",
       "      <td>0.000000</td>\n",
       "      <td>0.000000</td>\n",
       "      <td>0.000000</td>\n",
       "      <td>0.000000</td>\n",
       "      <td>0.000000</td>\n",
       "      <td>0.0</td>\n",
       "    </tr>\n",
       "    <tr>\n",
       "      <th>75%</th>\n",
       "      <td>340.000000</td>\n",
       "      <td>8.000000</td>\n",
       "      <td>80.000000</td>\n",
       "      <td>0.000000</td>\n",
       "      <td>0.000000</td>\n",
       "      <td>0.000000</td>\n",
       "      <td>0.000000</td>\n",
       "      <td>0.000000</td>\n",
       "      <td>0.000000</td>\n",
       "      <td>0.000000</td>\n",
       "      <td>...</td>\n",
       "      <td>0.000000</td>\n",
       "      <td>0.000000</td>\n",
       "      <td>0.000000</td>\n",
       "      <td>0.000000</td>\n",
       "      <td>0.000000</td>\n",
       "      <td>0.000000</td>\n",
       "      <td>0.000000</td>\n",
       "      <td>0.000000</td>\n",
       "      <td>0.000000</td>\n",
       "      <td>0.0</td>\n",
       "    </tr>\n",
       "    <tr>\n",
       "      <th>max</th>\n",
       "      <td>380.000000</td>\n",
       "      <td>10.000000</td>\n",
       "      <td>100.000000</td>\n",
       "      <td>0.924714</td>\n",
       "      <td>0.733997</td>\n",
       "      <td>0.732088</td>\n",
       "      <td>0.741626</td>\n",
       "      <td>0.841555</td>\n",
       "      <td>0.885522</td>\n",
       "      <td>0.783026</td>\n",
       "      <td>...</td>\n",
       "      <td>0.876908</td>\n",
       "      <td>0.983118</td>\n",
       "      <td>0.756073</td>\n",
       "      <td>0.803422</td>\n",
       "      <td>0.967155</td>\n",
       "      <td>0.808676</td>\n",
       "      <td>0.918451</td>\n",
       "      <td>0.637235</td>\n",
       "      <td>0.833172</td>\n",
       "      <td>0.0</td>\n",
       "    </tr>\n",
       "  </tbody>\n",
       "</table>\n",
       "<p>8 rows × 22 columns</p>\n",
       "</div>"
      ],
      "text/plain": [
       "            ecutrho     k_density       ecutwfc          Lant          PTC1  \\\n",
       "count  50103.000000  50103.000000  50103.000000  50103.000000  50103.000000   \n",
       "mean     244.892721      5.839091     58.361974      0.144222      0.026151   \n",
       "std       89.225395      2.832273     24.125526      0.281524      0.117657   \n",
       "min      100.000000      2.000000     20.000000      0.000000      0.000000   \n",
       "25%      180.000000      4.000000     40.000000      0.000000      0.000000   \n",
       "50%      260.000000      6.000000     55.000000      0.000000      0.000000   \n",
       "75%      340.000000      8.000000     80.000000      0.000000      0.000000   \n",
       "max      380.000000     10.000000    100.000000      0.924714      0.733997   \n",
       "\n",
       "               PTC2          PTC3          PTC4          PTC5          PTC6  \\\n",
       "count  50103.000000  50103.000000  50103.000000  50103.000000  50103.000000   \n",
       "mean       0.042501      0.025161      0.026694      0.032560      0.017797   \n",
       "std        0.138731      0.113423      0.114082      0.128524      0.100497   \n",
       "min        0.000000      0.000000      0.000000      0.000000      0.000000   \n",
       "25%        0.000000      0.000000      0.000000      0.000000      0.000000   \n",
       "50%        0.000000      0.000000      0.000000      0.000000      0.000000   \n",
       "75%        0.000000      0.000000      0.000000      0.000000      0.000000   \n",
       "max        0.732088      0.741626      0.841555      0.885522      0.783026   \n",
       "\n",
       "       ...          PTC9         PTC10         PTC11         PTC12  \\\n",
       "count  ...  50103.000000  50103.000000  50103.000000  50103.000000   \n",
       "mean   ...      0.061554      0.053130      0.051507      0.042638   \n",
       "std    ...      0.193230      0.181711      0.165357      0.154393   \n",
       "min    ...      0.000000      0.000000      0.000000      0.000000   \n",
       "25%    ...      0.000000      0.000000      0.000000      0.000000   \n",
       "50%    ...      0.000000      0.000000      0.000000      0.000000   \n",
       "75%    ...      0.000000      0.000000      0.000000      0.000000   \n",
       "max    ...      0.876908      0.983118      0.756073      0.803422   \n",
       "\n",
       "              PTC13         PTC14         PTC15         PTC16         PTC17  \\\n",
       "count  50103.000000  50103.000000  50103.000000  50103.000000  50103.000000   \n",
       "mean       0.050566      0.054685      0.093422      0.053833      0.027618   \n",
       "std        0.169704      0.145690      0.209317      0.149498      0.135384   \n",
       "min        0.000000      0.000000      0.000000      0.000000      0.000000   \n",
       "25%        0.000000      0.000000      0.000000      0.000000      0.000000   \n",
       "50%        0.000000      0.000000      0.000000      0.000000      0.000000   \n",
       "75%        0.000000      0.000000      0.000000      0.000000      0.000000   \n",
       "max        0.967155      0.808676      0.918451      0.637235      0.833172   \n",
       "\n",
       "         PTC18  \n",
       "count  50103.0  \n",
       "mean       0.0  \n",
       "std        0.0  \n",
       "min        0.0  \n",
       "25%        0.0  \n",
       "50%        0.0  \n",
       "75%        0.0  \n",
       "max        0.0  \n",
       "\n",
       "[8 rows x 22 columns]"
      ]
     },
     "execution_count": 7,
     "metadata": {},
     "output_type": "execute_result"
    }
   ],
   "source": [
    "X_raw.describe()"
   ]
  },
  {
   "cell_type": "markdown",
   "id": "55ba3f2f",
   "metadata": {},
   "source": [
    "# Train-Test-Split"
   ]
  },
  {
   "cell_type": "code",
   "execution_count": 8,
   "id": "13a295e9",
   "metadata": {},
   "outputs": [],
   "source": [
    "X_train, X_test, y_train, y_test = train_test_split(\n",
    "    X_raw, y_raw,\n",
    "    test_size=0.2,\n",
    "    random_state=42\n",
    ")"
   ]
  },
  {
   "cell_type": "markdown",
   "id": "d8de856c",
   "metadata": {},
   "source": [
    "# Model definitions"
   ]
  },
  {
   "cell_type": "markdown",
   "id": "352c653f",
   "metadata": {},
   "source": [
    "### Linear Model with feature augmentation"
   ]
  },
  {
   "cell_type": "code",
   "execution_count": 9,
   "id": "7010e7b9",
   "metadata": {},
   "outputs": [],
   "source": [
    "# functions such that f(x) != 0 and f(+inf) = 0\n",
    "functions_set_1 = [\n",
    "    lambda x: np.exp(-x),\n",
    "    lambda x: 1 / (1+x),\n",
    "    lambda x: 1 / (1+x)**2,\n",
    "    lambda x: np.cos(x) * np.exp(-x),\n",
    "]\n",
    "\n",
    "# functions such that f(x) = 0 and f(+inf) = 0\n",
    "functions_set_2 = [\n",
    "    lambda x: x*np.exp(-x),\n",
    "    lambda x: x / (1+x)**2,\n",
    "    lambda x: x / (1+x)**3,\n",
    "    lambda x: np.sin(x) * np.exp(-x),\n",
    "]\n",
    "\n",
    "linear_augmented_model = Pipeline([\n",
    "    ('scaler_init', StandardScaler()),\n",
    "    ('features', FeatureUnion(\n",
    "    [\n",
    "        (f\"fun_{j}\", FunctionTransformer(lambda X : f(X[:,:3]))) for j, f in enumerate(functions_set_1 + functions_set_2)\n",
    "    ] + [\n",
    "        (f\"fun_{j}_col_{col}_1\", FunctionTransformer(lambda X : f(X[:,:3] * X[:,i][:, None]))) for j, f in enumerate(functions_set_1) for i, col in enumerate([\"ecutrho\", \"kpoints\", \"ecutwfc\"])\n",
    "    ] + [\n",
    "        (f\"fun_{j}_col_{col}_2\", FunctionTransformer(lambda X : f(X[:,3:] * X[:,i][:, None]))) for j, f in enumerate(functions_set_2) for i, col in enumerate([\"ecutrho\", \"kpoints\", \"ecutwfc\"])\n",
    "    ])),\n",
    "    ('scaler_final', StandardScaler()),\n",
    "    ('regressor', LinearRegression()),\n",
    "])"
   ]
  },
  {
   "cell_type": "markdown",
   "id": "55fb1f14",
   "metadata": {},
   "source": [
    "### Random forest"
   ]
  },
  {
   "cell_type": "code",
   "execution_count": 10,
   "id": "5482fc15",
   "metadata": {},
   "outputs": [],
   "source": [
    "rf_model = RandomForestRegressor(random_state=0)"
   ]
  },
  {
   "cell_type": "markdown",
   "id": "e396ee5b",
   "metadata": {},
   "source": [
    "### Gradient Boosting"
   ]
  },
  {
   "cell_type": "code",
   "execution_count": 11,
   "id": "889b426e",
   "metadata": {},
   "outputs": [],
   "source": [
    "gb_model = GradientBoostingRegressor(n_estimators=5000, learning_rate=0.05, random_state=0)"
   ]
  },
  {
   "cell_type": "markdown",
   "id": "437e20b9",
   "metadata": {},
   "source": [
    "### XGBoost"
   ]
  },
  {
   "cell_type": "code",
   "execution_count": 12,
   "id": "8af093a4",
   "metadata": {},
   "outputs": [],
   "source": [
    "xgb_model = xgb.XGBRegressor(n_estimators=5000, learning_rate=0.05, random_state=0, tree_method=\"gpu_hist\")"
   ]
  },
  {
   "cell_type": "markdown",
   "id": "1d72775d",
   "metadata": {},
   "source": [
    "### Packing them together to reduce code size"
   ]
  },
  {
   "cell_type": "code",
   "execution_count": 13,
   "id": "b8539e62",
   "metadata": {},
   "outputs": [],
   "source": [
    "models = {\n",
    "    \"Augmented Linear Regression\": linear_augmented_model,\n",
    "    \"Random Forest\": rf_model,\n",
    "    # \"Gradient Boosting\": gb_model,\n",
    "    \"XGBoost\": xgb_model,\n",
    "}"
   ]
  },
  {
   "cell_type": "markdown",
   "id": "4b0e82a4",
   "metadata": {},
   "source": [
    "# Model training"
   ]
  },
  {
   "cell_type": "code",
   "execution_count": 14,
   "id": "4ac88c6b",
   "metadata": {},
   "outputs": [
    {
     "name": "stdout",
     "output_type": "stream",
     "text": [
      "Training Augmented Linear Regression...\n",
      "Done!\n",
      "\n",
      "Training Random Forest...\n",
      "Done!\n",
      "\n",
      "Training XGBoost...\n",
      "Done!\n",
      "\n"
     ]
    }
   ],
   "source": [
    "for model_name, model in models.items():\n",
    "    print(f\"Training {model_name}...\")\n",
    "    model.fit(X_train, y_train)\n",
    "    print(\"Done!\\n\")"
   ]
  },
  {
   "cell_type": "markdown",
   "id": "da4aab8d",
   "metadata": {},
   "source": [
    "# Model evaluation"
   ]
  },
  {
   "cell_type": "code",
   "execution_count": 15,
   "id": "13559b55",
   "metadata": {},
   "outputs": [
    {
     "name": "stdout",
     "output_type": "stream",
     "text": [
      "Evaluating Augmented Linear Regression...\n",
      "MSE:\ttrain:3.3303E-02\ttest:3.1782E-02\n",
      "MAPE:\ttrain:1.2916E+11\ttest:2.3155E+11\n",
      "Done!\n",
      "\n",
      "Evaluating Random Forest...\n",
      "MSE:\ttrain:2.2950E-06\ttest:1.3883E-05\n",
      "MAPE:\ttrain:1.7559E+08\ttest:2.3627E+09\n",
      "Done!\n",
      "\n",
      "Evaluating XGBoost...\n",
      "MSE:\ttrain:6.0377E-06\ttest:8.7078E-06\n",
      "MAPE:\ttrain:5.1602E+09\ttest:9.8391E+09\n",
      "Done!\n",
      "\n"
     ]
    }
   ],
   "source": [
    "for model_name, model in models.items():\n",
    "    print(f\"Evaluating {model_name}...\")\n",
    "\n",
    "    y_pred_train = model.predict(X_train)\n",
    "    y_pred_test = model.predict(X_test)\n",
    "\n",
    "    mse_test = mean_squared_error(y_test, y_pred_test)\n",
    "    mse_train = mean_squared_error(y_train, y_pred_train)\n",
    "    print(f\"MSE:\\ttrain:{mse_train:.4E}\\ttest:{mse_test:.4E}\")\n",
    "\n",
    "    mape_test = mean_absolute_percentage_error(y_test, y_pred_test)\n",
    "    mape_train = mean_absolute_percentage_error(y_train, y_pred_train)\n",
    "    print(f\"MAPE:\\ttrain:{mape_train:.4E}\\ttest:{mape_test:.4E}\")\n",
    "\n",
    "    print(\"Done!\\n\")"
   ]
  },
  {
   "cell_type": "markdown",
   "id": "ec8e7b59",
   "metadata": {},
   "source": [
    "# Visualization"
   ]
  },
  {
   "cell_type": "code",
   "execution_count": 16,
   "id": "25802160",
   "metadata": {},
   "outputs": [
    {
     "data": {
      "image/png": "[encoded data removed]",
      "text/plain": [
       "<Figure size 864x864 with 9 Axes>"
      ]
     },
     "metadata": {
      "needs_background": "light"
     },
     "output_type": "display_data"
    }
   ],
   "source": [
    "n_models = len(models)\n",
    "fig, ax = plt.subplots(n_models,3,figsize=(12,4*n_models), sharey=True, squeeze=False)\n",
    "for j, (name, model) in enumerate(models.items()):\n",
    "    for i, col in enumerate(X_train.columns[:3]):\n",
    "        ax[j,i].scatter(X_train[col], y_train)\n",
    "        ax[j,i].scatter(X_test[col], y_test)\n",
    "        ax[j,i].scatter(X_test[col], model.predict(X_test))\n",
    "    ax[j,0].set_ylabel(name)\n",
    "ax[-1,0].set_xlabel(\"ecutrho\")\n",
    "ax[-1,1].set_xlabel('k_density')\n",
    "ax[-1,2].set_xlabel('ecutwfc')\n",
    "PLOTPATH = os.path.join(os.path.dirname(os.path.dirname(os.getcwd())), \"plots/delta_E_regression/toy_comparison.png\")\n",
    "plt.savefig(PLOTPATH)"
   ]
  },
  {
   "cell_type": "code",
   "execution_count": 17,
   "id": "0e36135f",
   "metadata": {},
   "outputs": [
    {
     "data": {
      "text/plain": [
       "<mpl_toolkits.mplot3d.art3d.Path3DCollection at 0x7fa80420bf40>"
      ]
     },
     "execution_count": 17,
     "metadata": {},
     "output_type": "execute_result"
    },
    {
     "data": {
      "image/png": "[encoded data removed]",
      "text/plain": [
       "<Figure size 432x288 with 1 Axes>"
      ]
     },
     "metadata": {
      "needs_background": "light"
     },
     "output_type": "display_data"
    }
   ],
   "source": [
    "fig = plt.figure()\n",
    "ax = fig.add_subplot(111, projection='3d')\n",
    "ax.scatter(X_train['ecutwfc'], X_train['k_density'], y_train)\n",
    "ax.scatter(X_test['ecutwfc'], X_test['k_density'], y_test)\n",
    "ax.scatter(X_test['ecutwfc'], X_test['k_density'], rf_model.predict(X_test))"
   ]
  },
  {
   "cell_type": "markdown",
   "id": "c3808cbd",
   "metadata": {},
   "source": [
    "## Predict $\\log(\\Delta E)$ instead of $∆E$"
   ]
  },
  {
   "cell_type": "code",
   "execution_count": 18,
   "id": "0e9f2519",
   "metadata": {},
   "outputs": [],
   "source": [
    "def log_transform(y, miny, eps=10E-15):\n",
    "    return np.log(y - miny + eps)\n",
    "\n",
    "def inv_log_transform(logy, miny, eps=10E-15):\n",
    "    return np.exp(logy) + miny - eps\n",
    "\n",
    "miny = float(np.min(y_raw))\n",
    "maxy = float(np.max(y_raw))\n",
    "\n",
    "y_raw_s = np.array(y_raw.squeeze())\n",
    "miny2 = np.sort(list(set(list(y_raw_s))))[1]\n",
    "eps = (miny2 - miny)/10\n",
    "\n",
    "    \n",
    "\n",
    "logy_raw = log_transform(y_raw, miny, eps)\n",
    "X_train, X_test, logy_train, logy_test = train_test_split(\n",
    "    X_raw, logy_raw,\n",
    "    test_size=0.2,\n",
    "    random_state=42\n",
    ")"
   ]
  },
  {
   "cell_type": "code",
   "execution_count": 19,
   "id": "766ca76b",
   "metadata": {},
   "outputs": [],
   "source": [
    "linear_log_augmented_model = Pipeline([\n",
    "    ('scaler_init', StandardScaler()),\n",
    "    ('features', PolynomialFeatures(degree=2)),\n",
    "    ('scaler_final', StandardScaler()),\n",
    "    ('regressor', LinearRegression()),\n",
    "])"
   ]
  },
  {
   "cell_type": "code",
   "execution_count": 20,
   "id": "d10946c2",
   "metadata": {},
   "outputs": [],
   "source": [
    "rf_log_model = RandomForestRegressor()"
   ]
  },
  {
   "cell_type": "code",
   "execution_count": 21,
   "id": "24b572c8",
   "metadata": {},
   "outputs": [],
   "source": [
    "gb_log_model = GradientBoostingRegressor(n_estimators=5000, learning_rate=0.05, random_state=0)"
   ]
  },
  {
   "cell_type": "code",
   "execution_count": 22,
   "id": "eae465b7",
   "metadata": {},
   "outputs": [],
   "source": [
    "xgb_log_model = xgb.XGBRegressor(n_estimators=5000, learning_rate=0.05, random_state=0, tree_method=\"gpu_hist\")"
   ]
  },
  {
   "cell_type": "code",
   "execution_count": 23,
   "id": "08590715",
   "metadata": {},
   "outputs": [],
   "source": [
    "models_log = {\n",
    "    \"Augmented Linear Regression - Log\": linear_log_augmented_model,\n",
    "    \"Random Forest - Log\": rf_log_model,\n",
    "    # \"Gradient Boosting - Log\": gb_log_model,\n",
    "    \"XGBoost - Log\": xgb_log_model,\n",
    "}"
   ]
  },
  {
   "cell_type": "code",
   "execution_count": 24,
   "id": "ff4f876d",
   "metadata": {},
   "outputs": [
    {
     "name": "stdout",
     "output_type": "stream",
     "text": [
      "Training Augmented Linear Regression - Log...\n",
      "Done!\n",
      "\n",
      "Training Random Forest - Log...\n",
      "Done!\n",
      "\n",
      "Training XGBoost - Log...\n",
      "Done!\n",
      "\n"
     ]
    }
   ],
   "source": [
    "for model_name, model in models_log.items():\n",
    "    print(f\"Training {model_name}...\")\n",
    "    model.fit(X_train, logy_train)\n",
    "    print(\"Done!\\n\")"
   ]
  },
  {
   "cell_type": "code",
   "execution_count": 25,
   "id": "181c4cb1",
   "metadata": {},
   "outputs": [
    {
     "name": "stdout",
     "output_type": "stream",
     "text": [
      "Evaluating Augmented Linear Regression - Log...\n",
      "MSE:\ttrain:2.5172E+00\ttest:2.5738E+00\n",
      "MSE:\ttrain:3.0308E-02\ttest:2.9632E-02\n",
      "MAPE:\ttrain:4.3074E-01\ttest:3.9355E-01\n",
      "Done!\n",
      "\n",
      "Evaluating Random Forest - Log...\n",
      "MSE:\ttrain:2.5457E-02\ttest:2.1451E-01\n",
      "MSE:\ttrain:1.2553E-05\ttest:1.1119E-04\n",
      "MAPE:\ttrain:4.7641E-03\ttest:1.5213E-02\n",
      "Done!\n",
      "\n",
      "Evaluating XGBoost - Log...\n",
      "MSE:\ttrain:3.7617E-02\ttest:2.1760E-01\n",
      "MSE:\ttrain:1.3837E-04\ttest:5.6261E-04\n",
      "MAPE:\ttrain:2.0602E-02\ttest:3.1800E-02\n",
      "Done!\n",
      "\n"
     ]
    }
   ],
   "source": [
    "for model_name, model in models_log.items():\n",
    "    print(f\"Evaluating {model_name}...\")\n",
    "\n",
    "    logy_pred_train = model.predict(X_train)\n",
    "    y_pred_train = inv_log_transform(logy_pred_train.squeeze(), miny, eps)\n",
    "    logy_pred_test = model.predict(X_test)\n",
    "    y_pred_test = inv_log_transform(logy_pred_test.squeeze(), miny, eps)\n",
    "    \n",
    "    y_train = inv_log_transform(logy_train.squeeze(), miny, eps)\n",
    "    y_test = inv_log_transform(logy_test.squeeze(), miny, eps)\n",
    "\n",
    "    mse_test = mean_squared_error(logy_test, logy_pred_test)\n",
    "    mse_train = mean_squared_error(logy_train, logy_pred_train)\n",
    "    print(f\"MSE:\\ttrain:{mse_train:.4E}\\ttest:{mse_test:.4E}\")\n",
    "    \n",
    "    mse_test = mean_squared_error(y_test, y_pred_test)\n",
    "    mse_train = mean_squared_error(y_train, y_pred_train)\n",
    "    print(f\"MSE:\\ttrain:{mse_train:.4E}\\ttest:{mse_test:.4E}\")\n",
    "\n",
    "    mape_test = mean_absolute_percentage_error(logy_test, logy_pred_test)\n",
    "    mape_train = mean_absolute_percentage_error(logy_train, logy_pred_train)\n",
    "    print(f\"MAPE:\\ttrain:{mape_train:.4E}\\ttest:{mape_test:.4E}\")\n",
    "\n",
    "    print(\"Done!\\n\")"
   ]
  },
  {
   "cell_type": "code",
   "execution_count": 26,
   "id": "b4e341f2",
   "metadata": {},
   "outputs": [
    {
     "data": {
      "text/plain": [
       "Text(0.5, 0, 'ecutwfc')"
      ]
     },
     "execution_count": 26,
     "metadata": {},
     "output_type": "execute_result"
    },
    {
     "data": {
      "image/png": "[encoded data removed]",
      "text/plain": [
       "<Figure size 864x864 with 9 Axes>"
      ]
     },
     "metadata": {
      "needs_background": "light"
     },
     "output_type": "display_data"
    }
   ],
   "source": [
    "n_models = len(models_log)\n",
    "fig, ax = plt.subplots(n_models,3,figsize=(12,4*n_models), sharey=True, squeeze=False)\n",
    "for j, (name, model) in enumerate(models_log.items()):\n",
    "    for i, col in enumerate(X_train.columns[:3]):\n",
    "        ax[j,i].scatter(X_train[col], logy_train)\n",
    "        ax[j,i].scatter(X_test[col], logy_test)\n",
    "        ax[j,i].scatter(X_test[col], model.predict(X_test))\n",
    "    ax[j,0].set_ylabel(name)\n",
    "ax[-1,0].set_xlabel(\"ecutrho\")\n",
    "ax[-1,1].set_xlabel('k_density')\n",
    "ax[-1,2].set_xlabel('ecutwfc')"
   ]
  },
  {
   "cell_type": "markdown",
   "id": "9b573659",
   "metadata": {},
   "source": [
    "# Find best parameters for a given error"
   ]
  },
  {
   "cell_type": "code",
   "execution_count": 27,
   "id": "44b27358",
   "metadata": {},
   "outputs": [],
   "source": [
    "from scipy.optimize import NonlinearConstraint, LinearConstraint, minimize, shgo, differential_evolution"
   ]
  },
  {
   "cell_type": "code",
   "execution_count": 28,
   "id": "632ae460",
   "metadata": {},
   "outputs": [],
   "source": [
    "def sanitize_input(x):\n",
    "    return np.array([int(round(x_i)) for x_i in x])\n",
    "\n",
    "def delta_E_prediction(x, model, structure_encoding):\n",
    "    input = np.concatenate([x, structure_encoding])\n",
    "    input = pd.DataFrame(input.reshape(1, -1), columns=X_raw.columns)\n",
    "    return model.predict(input)[0]\n",
    "\n",
    "def complexity(x):\n",
    "    # we have to get the right formula for the complexity\n",
    "    ecutrho = x[0]\n",
    "    k_density = x[1]\n",
    "    ecutwfc = x[2]\n",
    "    return ecutrho + k_density + ecutwfc"
   ]
  },
  {
   "cell_type": "code",
   "execution_count": 31,
   "id": "7a00e08b",
   "metadata": {},
   "outputs": [],
   "source": [
    "# # Compute GeTe structure encoding\n",
    "# first load GeTe dataset\n",
    "GeTe_data = df[df[\"structure\"] == \"GeTe\"]\n",
    "\n",
    "# then find the index of the first encoding column\n",
    "if encoding in [Encoding.COLUMN, Encoding.COLUMN_MASS]:\n",
    "    enc_first_idx = next((i for i, col in enumerate(GeTe_data.columns) if col in PTC_COLNAMES), None)\n",
    "elif encoding == Encoding.ATOMIC:\n",
    "    enc_first_idx = next((i for i, col in enumerate(GeTe_data.columns) if col in PERIODIC_TABLE_INFO), None)\n",
    "\n",
    "# finally get the encoding\n",
    "GeTe_encoding = np.array(GeTe_data.iloc[0, enc_first_idx:].values, dtype=float)"
   ]
  },
  {
   "cell_type": "markdown",
   "id": "c34c2430",
   "metadata": {},
   "source": [
    "### Minimize complexity using $\\Delta E$ regressors"
   ]
  },
  {
   "cell_type": "code",
   "execution_count": 32,
   "id": "21ed0f23",
   "metadata": {},
   "outputs": [
    {
     "name": "stdout",
     "output_type": "stream",
     "text": [
      "0.009329736\n",
      "     fun: 244.15415916257714\n",
      " message: 'Optimization terminated successfully.'\n",
      "    nfev: 1677\n",
      "     nit: 36\n",
      " success: True\n",
      "       x: array([180.00378506,   4.1266852 ,  60.02368891])\n",
      "[180   4  60]\n",
      "0.0009351969\n"
     ]
    }
   ],
   "source": [
    "x_0 = [100, 10, 100]\n",
    "max_delta_E = 1e-3\n",
    "model = xgb_model\n",
    "model_pred_func = lambda x: delta_E_prediction(x, model, GeTe_encoding)\n",
    "\n",
    "nonlin_constraint = NonlinearConstraint(lambda x: delta_E_prediction(x, model), 0, max_delta_E)\n",
    "# lin_constraint = LinearConstraint(A=np.eye(3), lb=np.array([1,0,1]), ub=np.array([1000,0.5,1000]))\n",
    "\n",
    "print(model_pred_func(x_0))\n",
    "\n",
    "mu = 1e100\n",
    "pen_func = lambda x: complexity(x) + mu * max(model_pred_func(x) - max_delta_E, 0) / max_delta_E\n",
    "res = differential_evolution(\n",
    "    pen_func,\n",
    "    bounds=[\n",
    "        (X_raw[\"ecutrho\"].min(),X_raw[\"ecutrho\"].max()), \n",
    "        (X_raw[\"k_density\"].min(), X_raw[\"k_density\"].max()),\n",
    "        (X_raw[\"ecutwfc\"].min(),X_raw[\"ecutwfc\"].max())\n",
    "    ],\n",
    "    seed=0,\n",
    ")\n",
    "\n",
    "print(res)\n",
    "print(sanitize_input(res.x))\n",
    "\n",
    "print(model_pred_func(res.x))\n",
    "\n",
    "# codes below don't work\n",
    "\n",
    "# minimize(complexity, x_0, constraints=[nonlin_constraint, lin_constraint])\n",
    "\n",
    "# res = minimize(complexity, x0=x_0, bounds=[(1,1000), (1e-16,0.5), (1,1000)],\n",
    "#     constraints=({'type': 'ineq', 'fun': lambda x: delta_E_prediction(x, model)},\n",
    "#                  {'type': 'ineq', 'fun': lambda x: -delta_E_prediction(x, model) + max_delta_E}),\n",
    "#     options={'maxiter': 1000},\n",
    "# )\n"
   ]
  },
  {
   "cell_type": "markdown",
   "id": "9b573723",
   "metadata": {},
   "source": [
    "### Minimize complexity using $log(\\Delta E)$ regressors"
   ]
  },
  {
   "cell_type": "code",
   "execution_count": 33,
   "id": "c672096e",
   "metadata": {},
   "outputs": [
    {
     "name": "stdout",
     "output_type": "stream",
     "text": [
      "     fun: 234.18870423823398\n",
      " message: 'Optimization terminated successfully.'\n",
      "    nfev: 1362\n",
      "     nit: 29\n",
      " success: True\n",
      "       x: array([140.09648362,   4.03850205,  90.05371857])\n",
      "[140   4  90]\n",
      "3.852466528542209e-06\n"
     ]
    }
   ],
   "source": [
    "max_delta_E = 1e-5\n",
    "model_log = xgb_log_model\n",
    "model_log_pred_func = lambda x: inv_log_transform(delta_E_prediction(x, model_log, GeTe_encoding), miny, eps)\n",
    "\n",
    "mu = 1e100\n",
    "pen_func = lambda x: complexity(x) + mu * max(model_log_pred_func(x) - max_delta_E, 0) / max_delta_E\n",
    "res = differential_evolution(\n",
    "    pen_func,\n",
    "    bounds=[\n",
    "        (X_raw[\"ecutrho\"].min(),X_raw[\"ecutrho\"].max()), \n",
    "        (X_raw[\"k_density\"].min(), X_raw[\"k_density\"].max()),\n",
    "        (X_raw[\"ecutwfc\"].min(),X_raw[\"ecutwfc\"].max())\n",
    "    ],\n",
    "    seed=0,\n",
    ")\n",
    "\n",
    "print(res)\n",
    "print(sanitize_input(res.x))\n",
    "\n",
    "print(model_log_pred_func(res.x))"
   ]
  },
  {
   "cell_type": "markdown",
   "id": "782e206d",
   "metadata": {},
   "source": [
    "### Compare predicted parameters to the ones in datasets"
   ]
  },
  {
   "cell_type": "code",
   "execution_count": 34,
   "id": "3f47ae8d",
   "metadata": {},
   "outputs": [],
   "source": [
    "from sklearn.neighbors import NearestNeighbors"
   ]
  },
  {
   "cell_type": "code",
   "execution_count": 35,
   "id": "2b569261",
   "metadata": {},
   "outputs": [],
   "source": [
    "def find_neighbors(X, y, params, structure_encoding):\n",
    "    # TODO define a good distance metric for params\n",
    "    \n",
    "    n_params = len(params)\n",
    "\n",
    "    # get all rows with the same structure\n",
    "    mask_same_struct = (X.values[:,n_params:] == structure_encoding).all(axis=1)\n",
    "    df_same_struct = X.iloc[mask_same_struct,:n_params]\n",
    "    y_same_struct = y[mask_same_struct]\n",
    "\n",
    "    # normalize the dataset in order to put the same importance to all parameters\n",
    "    min_df, max_df = df_same_struct.min(), df_same_struct.max()\n",
    "    df_same_struct = (df_same_struct - min_df) / (max_df - min_df)\n",
    "    params = (params - min_df) / (max_df - min_df)\n",
    "\n",
    "    knn = NearestNeighbors(n_neighbors=10, algorithm='auto')\n",
    "    knn.fit(df_same_struct)\n",
    "    dist, idx = knn.kneighbors([params], 10)\n",
    "    list_dist_delta_E = [*zip(dist[0], list(y_same_struct.iloc[idx[0]]))]\n",
    "    return pd.DataFrame(list_dist_delta_E, columns=[\"dist\", \"delta_E\"])"
   ]
  },
  {
   "cell_type": "code",
   "execution_count": 36,
   "id": "edac4eee",
   "metadata": {},
   "outputs": [
    {
     "data": {
      "text/html": [
       "<div>\n",
       "<style scoped>\n",
       "    .dataframe tbody tr th:only-of-type {\n",
       "        vertical-align: middle;\n",
       "    }\n",
       "\n",
       "    .dataframe tbody tr th {\n",
       "        vertical-align: top;\n",
       "    }\n",
       "\n",
       "    .dataframe thead th {\n",
       "        text-align: right;\n",
       "    }\n",
       "</style>\n",
       "<table border=\"1\" class=\"dataframe\">\n",
       "  <thead>\n",
       "    <tr style=\"text-align: right;\">\n",
       "      <th></th>\n",
       "      <th>dist</th>\n",
       "      <th>delta_E</th>\n",
       "    </tr>\n",
       "  </thead>\n",
       "  <tbody>\n",
       "    <tr>\n",
       "      <th>0</th>\n",
       "      <td>0.000000</td>\n",
       "      <td>0.000004</td>\n",
       "    </tr>\n",
       "    <tr>\n",
       "      <th>1</th>\n",
       "      <td>0.071429</td>\n",
       "      <td>0.000089</td>\n",
       "    </tr>\n",
       "    <tr>\n",
       "      <th>2</th>\n",
       "      <td>0.142857</td>\n",
       "      <td>0.000004</td>\n",
       "    </tr>\n",
       "    <tr>\n",
       "      <th>3</th>\n",
       "      <td>0.142857</td>\n",
       "      <td>0.000124</td>\n",
       "    </tr>\n",
       "    <tr>\n",
       "      <th>4</th>\n",
       "      <td>0.159719</td>\n",
       "      <td>0.000097</td>\n",
       "    </tr>\n",
       "    <tr>\n",
       "      <th>5</th>\n",
       "      <td>0.202031</td>\n",
       "      <td>0.000132</td>\n",
       "    </tr>\n",
       "    <tr>\n",
       "      <th>6</th>\n",
       "      <td>0.202031</td>\n",
       "      <td>0.013121</td>\n",
       "    </tr>\n",
       "    <tr>\n",
       "      <th>7</th>\n",
       "      <td>0.214286</td>\n",
       "      <td>0.000128</td>\n",
       "    </tr>\n",
       "    <tr>\n",
       "      <th>8</th>\n",
       "      <td>0.250000</td>\n",
       "      <td>0.001646</td>\n",
       "    </tr>\n",
       "    <tr>\n",
       "      <th>9</th>\n",
       "      <td>0.250000</td>\n",
       "      <td>0.148122</td>\n",
       "    </tr>\n",
       "  </tbody>\n",
       "</table>\n",
       "</div>"
      ],
      "text/plain": [
       "       dist   delta_E\n",
       "0  0.000000  0.000004\n",
       "1  0.071429  0.000089\n",
       "2  0.142857  0.000004\n",
       "3  0.142857  0.000124\n",
       "4  0.159719  0.000097\n",
       "5  0.202031  0.000132\n",
       "6  0.202031  0.013121\n",
       "7  0.214286  0.000128\n",
       "8  0.250000  0.001646\n",
       "9  0.250000  0.148122"
      ]
     },
     "execution_count": 36,
     "metadata": {},
     "output_type": "execute_result"
    }
   ],
   "source": [
    "find_neighbors(X_raw, y_raw, sanitize_input(res.x), GeTe_encoding)"
   ]
  },
  {
   "cell_type": "markdown",
   "id": "b3b4a8cd",
   "metadata": {},
   "source": [
    "# Testing model generalization on unseen structures"
   ]
  },
  {
   "cell_type": "code",
   "execution_count": 37,
   "id": "e945c2ed",
   "metadata": {},
   "outputs": [],
   "source": [
    "# find the index of the first encoding column\n",
    "if encoding in [\"column\", \"column_mass\"]:\n",
    "    enc_first_idx = next((i for i, col in enumerate(df.columns) if \"PTC\" in col), None)\n",
    "elif encoding == \"atomic\":\n",
    "    enc_first_idx = next((i for i, col in enumerate(df.columns) if col in PERIODIC_TABLE_INFO), None)"
   ]
  },
  {
   "cell_type": "code",
   "execution_count": 38,
   "id": "814e23cf",
   "metadata": {},
   "outputs": [],
   "source": [
    "# # selecting species for training and testing\n",
    "p = 0.2\n",
    "\n",
    "# col_max_nonzero = df.columns[enc_first_idx + np.argmax(np.count_nonzero(df.iloc[:, enc_first_idx:], axis=0))]\n",
    "# species_col_max = df[df[col_max_nonzero] > 0][\"structure\"].unique()\n",
    "# species_test_set = np.random.choice(species_col_max, size=int(p*len(species_col_max)))\n",
    "\n",
    "species_test_set = np.random.choice(df[\"structure\"].unique(), size=int(p*len(df[\"structure\"].unique())))\n",
    "\n",
    "species_train_set = [s for s in df[\"structure\"].unique() if s not in species_test_set]"
   ]
  },
  {
   "cell_type": "code",
   "execution_count": 39,
   "id": "3f419450",
   "metadata": {},
   "outputs": [],
   "source": [
    "X_train_gen = df[df[\"converged\"]][df[\"structure\"].isin(species_train_set)][cols_dependent]\n",
    "y_train_gen = np.abs(df[df[\"converged\"]][df[\"structure\"].isin(species_train_set)][cols_independent]).squeeze()\n",
    "logy_train_gen = log_transform(np.abs(df[df[\"converged\"]][df[\"structure\"].isin(species_train_set)][cols_independent]).squeeze(),miny, eps)\n",
    "X_test_gen = df[df[\"converged\"]][df[\"structure\"].isin(species_test_set)][cols_dependent]\n",
    "y_test_gen = np.abs(df[df[\"converged\"]][df[\"structure\"].isin(species_test_set)][cols_independent]).squeeze()\n",
    "logy_test_gen = log_transform(np.abs(df[df[\"converged\"]][df[\"structure\"].isin(species_test_set)][cols_independent]).squeeze(),miny, eps)"
   ]
  },
  {
   "cell_type": "code",
   "execution_count": 40,
   "id": "b05b5902",
   "metadata": {},
   "outputs": [],
   "source": [
    "rf_model_gen = RandomForestRegressor(random_state=0)\n",
    "xgb_model_gen = xgb.XGBRegressor(n_estimators=5000, learning_rate=0.05, random_state=0, tree_method=\"gpu_hist\")\n",
    "rf_model_gen_log = RandomForestRegressor(random_state=0)\n",
    "xgb_model_gen_log = xgb.XGBRegressor(n_estimators=5000, learning_rate=0.05, random_state=0, tree_method=\"gpu_hist\")"
   ]
  },
  {
   "cell_type": "code",
   "execution_count": 41,
   "id": "23a558ba",
   "metadata": {},
   "outputs": [],
   "source": [
    "models_gen = {\n",
    "    \"Random Forest - Gen\": rf_model_gen,\n",
    "    \"XGBoost - Gen\": xgb_model_gen,\n",
    "}\n",
    "models_gen_log = {\n",
    "    \"Random Forest - Log - Gen\": rf_model_gen,\n",
    "    \"XGBoost - Log - Gen\": xgb_model_gen,\n",
    "}"
   ]
  },
  {
   "cell_type": "code",
   "execution_count": 42,
   "id": "4a6ddf9c",
   "metadata": {},
   "outputs": [
    {
     "name": "stdout",
     "output_type": "stream",
     "text": [
      "Training Random Forest - Gen...\n",
      "Done!\n",
      "\n",
      "Training XGBoost - Gen...\n",
      "Done!\n",
      "\n"
     ]
    }
   ],
   "source": [
    "for model_name, model in models_gen.items():\n",
    "    print(f\"Training {model_name}...\")\n",
    "    model.fit(X_train_gen, y_train_gen)\n",
    "    print(\"Done!\\n\")"
   ]
  },
  {
   "cell_type": "code",
   "execution_count": 43,
   "id": "a4d8414d",
   "metadata": {},
   "outputs": [
    {
     "name": "stdout",
     "output_type": "stream",
     "text": [
      "Training Random Forest - Log - Gen...\n",
      "Done!\n",
      "\n",
      "Training XGBoost - Log - Gen...\n",
      "Done!\n",
      "\n"
     ]
    }
   ],
   "source": [
    "for model_name, model in models_gen_log.items():\n",
    "    print(f\"Training {model_name}...\")\n",
    "    model.fit(X_train_gen, logy_train_gen)\n",
    "    print(\"Done!\\n\")"
   ]
  },
  {
   "cell_type": "code",
   "execution_count": 44,
   "id": "b0170078",
   "metadata": {},
   "outputs": [
    {
     "name": "stdout",
     "output_type": "stream",
     "text": [
      "Evaluating Random Forest - Gen...\n",
      "MSE:\ttrain:4.4969E+01\ttest:5.5655E+01\n",
      "MAPE:\ttrain:1.8790E+14\ttest:1.6030E+14\n",
      "Done!\n",
      "\n",
      "Evaluating XGBoost - Gen...\n",
      "MSE:\ttrain:4.4948E+01\ttest:5.4901E+01\n",
      "MAPE:\ttrain:1.9542E+14\ttest:1.6413E+14\n",
      "Done!\n",
      "\n"
     ]
    }
   ],
   "source": [
    "for model_name, model in models_gen.items():\n",
    "    print(f\"Evaluating {model_name}...\")\n",
    "\n",
    "    y_pred_train = model.predict(X_train_gen)\n",
    "    y_pred_test = model.predict(X_test_gen)\n",
    "\n",
    "    mse_test = mean_squared_error(y_test_gen, y_pred_test)\n",
    "    mse_train = mean_squared_error(y_train_gen, y_pred_train)\n",
    "    print(f\"MSE:\\ttrain:{mse_train:.4E}\\ttest:{mse_test:.4E}\")\n",
    "\n",
    "    mape_test = mean_absolute_percentage_error(y_test_gen, y_pred_test)\n",
    "    mape_train = mean_absolute_percentage_error(y_train_gen, y_pred_train)\n",
    "    print(f\"MAPE:\\ttrain:{mape_train:.4E}\\ttest:{mape_test:.4E}\")\n",
    "\n",
    "    print(\"Done!\\n\")"
   ]
  },
  {
   "cell_type": "code",
   "execution_count": 45,
   "id": "48479e3d",
   "metadata": {},
   "outputs": [
    {
     "name": "stdout",
     "output_type": "stream",
     "text": [
      "Evaluating Random Forest - Log - Gen...\n",
      "MSE:\ttrain:2.2518E-02\ttest:6.8354E+00\n",
      "MSE:\ttrain:1.1942E-05\ttest:1.3601E-02\n",
      "MAPE:\ttrain:3.9122E-03\ttest:5.1879E-01\n",
      "Done!\n",
      "\n",
      "Evaluating XGBoost - Log - Gen...\n",
      "MSE:\ttrain:3.5102E-02\ttest:4.7632E+00\n",
      "MSE:\ttrain:1.1463E-04\ttest:2.2670E-02\n",
      "MAPE:\ttrain:1.9071E-02\ttest:4.8370E-01\n",
      "Done!\n",
      "\n"
     ]
    }
   ],
   "source": [
    "for model_name, model in models_gen_log.items():\n",
    "    print(f\"Evaluating {model_name}...\")\n",
    "\n",
    "    logy_pred_train = model.predict(X_train_gen)\n",
    "    y_pred_train = inv_log_transform(logy_pred_train.squeeze(), miny, eps)\n",
    "    logy_pred_test = model.predict(X_test_gen)\n",
    "    y_pred_test = inv_log_transform(logy_pred_test.squeeze(), miny, eps)\n",
    "    \n",
    "    mse_test = mean_squared_error(logy_test_gen, logy_pred_test)\n",
    "    mse_train = mean_squared_error(logy_train_gen, logy_pred_train)\n",
    "    print(f\"MSE:\\ttrain:{mse_train:.4E}\\ttest:{mse_test:.4E}\")\n",
    "    \n",
    "    mse_test = mean_squared_error(y_test_gen, y_pred_test)\n",
    "    mse_train = mean_squared_error(y_train_gen, y_pred_train)\n",
    "    print(f\"MSE:\\ttrain:{mse_train:.4E}\\ttest:{mse_test:.4E}\")\n",
    "\n",
    "    mape_test = mean_absolute_percentage_error(logy_test_gen, logy_pred_test)\n",
    "    mape_train = mean_absolute_percentage_error(logy_train_gen, logy_pred_train)\n",
    "    print(f\"MAPE:\\ttrain:{mape_train:.4E}\\ttest:{mape_test:.4E}\")\n",
    "\n",
    "    print(\"Done!\\n\")"
   ]
  }
 ],
 "metadata": {
  "kernelspec": {
   "display_name": "Python 3",
   "language": "python",
   "name": "python3"
  },
  "language_info": {
   "codemirror_mode": {
    "name": "ipython",
    "version": 3
   },
   "file_extension": ".py",
   "mimetype": "text/x-python",
   "name": "python",
   "nbconvert_exporter": "python",
   "pygments_lexer": "ipython3",
   "version": "3.8.10"
  }
 },
 "nbformat": 4,
 "nbformat_minor": 5
}
