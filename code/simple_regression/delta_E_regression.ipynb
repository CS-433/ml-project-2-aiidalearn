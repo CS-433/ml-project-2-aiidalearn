{
 "cells": [
  {
   "cell_type": "code",
   "execution_count": 1,
   "id": "f72e6a6c",
   "metadata": {},
   "outputs": [],
   "source": [
    "import os\n",
    "import numpy as np\n",
    "import pandas as pd\n",
    "import sys\n",
    "\n",
    "from sklearn.pipeline import Pipeline, FeatureUnion\n",
    "from sklearn.preprocessing import StandardScaler, PolynomialFeatures, FunctionTransformer\n",
    "from sklearn.linear_model import LinearRegression\n",
    "from sklearn.ensemble import RandomForestRegressor, GradientBoostingRegressor\n",
    "from sklearn.model_selection import train_test_split\n",
    "from sklearn.metrics import mean_squared_error, mean_absolute_percentage_error\n",
    "\n",
    "import xgboost as xgb\n",
    "\n",
    "import matplotlib.pyplot as plt\n",
    "from mpl_toolkits.mplot3d import Axes3D\n",
    "\n",
    "sys.path.append(os.path.dirname(os.getcwd()))\n",
    "from tools.utils import PERIODIC_TABLE_INFO, PTC_COLNAMES, encode_all_structures, Encoding"
   ]
  },
  {
   "cell_type": "code",
   "execution_count": 2,
   "id": "c52ef9f3",
   "metadata": {},
   "outputs": [],
   "source": [
    "DATA_DIR = os.path.join(\n",
    "    os.path.dirname(os.path.dirname(os.getcwd())), \"data/\"\n",
    ")"
   ]
  },
  {
   "cell_type": "markdown",
   "id": "330d9f5c",
   "metadata": {},
   "source": [
    "# Loading Data"
   ]
  },
  {
   "cell_type": "code",
   "execution_count": 3,
   "id": "7544e81a",
   "metadata": {},
   "outputs": [],
   "source": [
    "encoding = Encoding.COLUMN_MASS\n",
    "\n",
    "df = pd.read_csv(os.path.join(DATA_DIR, \"data.csv\"), index_col=0, na_filter= False)\n",
    "df = encode_all_structures(df, encoding)"
   ]
  },
  {
   "cell_type": "code",
   "execution_count": 4,
   "id": "4fc753ef",
   "metadata": {},
   "outputs": [],
   "source": [
    "cols_raw = list(df.columns)\n",
    "cols_trash = [\"structure\", 'converged', 'accuracy', \"n_iterations\", \"time\", \"fermi\", \"total_energy\"]\n",
    "cols_independent = ['delta_E']\n",
    "cols_drop = cols_trash + cols_independent\n",
    "\n",
    "cols_dependent = cols_raw.copy()\n",
    "for element in cols_drop:\n",
    "    cols_dependent.remove(element)"
   ]
  },
  {
   "cell_type": "code",
   "execution_count": 5,
   "id": "3b14d721",
   "metadata": {},
   "outputs": [],
   "source": [
    "X_raw = df[cols_dependent][df[\"converged\"]]\n",
    "y_raw = np.abs(df[cols_independent][df[\"converged\"]]).squeeze()"
   ]
  },
  {
   "cell_type": "code",
   "execution_count": 6,
   "id": "d150f25c",
   "metadata": {},
   "outputs": [
    {
     "data": {
      "text/html": [
       "<div>\n",
       "<style scoped>\n",
       "    .dataframe tbody tr th:only-of-type {\n",
       "        vertical-align: middle;\n",
       "    }\n",
       "\n",
       "    .dataframe tbody tr th {\n",
       "        vertical-align: top;\n",
       "    }\n",
       "\n",
       "    .dataframe thead th {\n",
       "        text-align: right;\n",
       "    }\n",
       "</style>\n",
       "<table border=\"1\" class=\"dataframe\">\n",
       "  <thead>\n",
       "    <tr style=\"text-align: right;\">\n",
       "      <th></th>\n",
       "      <th>ecutrho</th>\n",
       "      <th>k_density</th>\n",
       "      <th>ecutwfc</th>\n",
       "      <th>Lant</th>\n",
       "      <th>PTC1</th>\n",
       "      <th>PTC2</th>\n",
       "      <th>PTC3</th>\n",
       "      <th>PTC4</th>\n",
       "      <th>PTC5</th>\n",
       "      <th>PTC6</th>\n",
       "      <th>...</th>\n",
       "      <th>PTC9</th>\n",
       "      <th>PTC10</th>\n",
       "      <th>PTC11</th>\n",
       "      <th>PTC12</th>\n",
       "      <th>PTC13</th>\n",
       "      <th>PTC14</th>\n",
       "      <th>PTC15</th>\n",
       "      <th>PTC16</th>\n",
       "      <th>PTC17</th>\n",
       "      <th>PTC18</th>\n",
       "    </tr>\n",
       "  </thead>\n",
       "  <tbody>\n",
       "    <tr>\n",
       "      <th>count</th>\n",
       "      <td>62458.000000</td>\n",
       "      <td>62458.000000</td>\n",
       "      <td>62458.000000</td>\n",
       "      <td>62458.000000</td>\n",
       "      <td>62458.000000</td>\n",
       "      <td>62458.000000</td>\n",
       "      <td>62458.000000</td>\n",
       "      <td>62458.000000</td>\n",
       "      <td>62458.000000</td>\n",
       "      <td>62458.000000</td>\n",
       "      <td>...</td>\n",
       "      <td>62458.000000</td>\n",
       "      <td>62458.000000</td>\n",
       "      <td>62458.000000</td>\n",
       "      <td>62458.000000</td>\n",
       "      <td>62458.000000</td>\n",
       "      <td>62458.000000</td>\n",
       "      <td>62458.000000</td>\n",
       "      <td>62458.000000</td>\n",
       "      <td>62458.000000</td>\n",
       "      <td>62458.0</td>\n",
       "    </tr>\n",
       "    <tr>\n",
       "      <th>mean</th>\n",
       "      <td>244.912101</td>\n",
       "      <td>5.856063</td>\n",
       "      <td>58.431266</td>\n",
       "      <td>0.148408</td>\n",
       "      <td>0.030426</td>\n",
       "      <td>0.041234</td>\n",
       "      <td>0.020184</td>\n",
       "      <td>0.021552</td>\n",
       "      <td>0.028327</td>\n",
       "      <td>0.014276</td>\n",
       "      <td>...</td>\n",
       "      <td>0.063783</td>\n",
       "      <td>0.055349</td>\n",
       "      <td>0.064660</td>\n",
       "      <td>0.046991</td>\n",
       "      <td>0.050979</td>\n",
       "      <td>0.044910</td>\n",
       "      <td>0.094091</td>\n",
       "      <td>0.061162</td>\n",
       "      <td>0.022155</td>\n",
       "      <td>0.0</td>\n",
       "    </tr>\n",
       "    <tr>\n",
       "      <th>std</th>\n",
       "      <td>89.243957</td>\n",
       "      <td>2.832946</td>\n",
       "      <td>24.204293</td>\n",
       "      <td>0.285161</td>\n",
       "      <td>0.130828</td>\n",
       "      <td>0.128356</td>\n",
       "      <td>0.102080</td>\n",
       "      <td>0.102914</td>\n",
       "      <td>0.117325</td>\n",
       "      <td>0.090289</td>\n",
       "      <td>...</td>\n",
       "      <td>0.197564</td>\n",
       "      <td>0.185805</td>\n",
       "      <td>0.191193</td>\n",
       "      <td>0.165755</td>\n",
       "      <td>0.164559</td>\n",
       "      <td>0.132338</td>\n",
       "      <td>0.213313</td>\n",
       "      <td>0.166961</td>\n",
       "      <td>0.121754</td>\n",
       "      <td>0.0</td>\n",
       "    </tr>\n",
       "    <tr>\n",
       "      <th>min</th>\n",
       "      <td>100.000000</td>\n",
       "      <td>2.000000</td>\n",
       "      <td>20.000000</td>\n",
       "      <td>0.000000</td>\n",
       "      <td>0.000000</td>\n",
       "      <td>0.000000</td>\n",
       "      <td>0.000000</td>\n",
       "      <td>0.000000</td>\n",
       "      <td>0.000000</td>\n",
       "      <td>0.000000</td>\n",
       "      <td>...</td>\n",
       "      <td>0.000000</td>\n",
       "      <td>0.000000</td>\n",
       "      <td>0.000000</td>\n",
       "      <td>0.000000</td>\n",
       "      <td>0.000000</td>\n",
       "      <td>0.000000</td>\n",
       "      <td>0.000000</td>\n",
       "      <td>0.000000</td>\n",
       "      <td>0.000000</td>\n",
       "      <td>0.0</td>\n",
       "    </tr>\n",
       "    <tr>\n",
       "      <th>25%</th>\n",
       "      <td>180.000000</td>\n",
       "      <td>4.000000</td>\n",
       "      <td>40.000000</td>\n",
       "      <td>0.000000</td>\n",
       "      <td>0.000000</td>\n",
       "      <td>0.000000</td>\n",
       "      <td>0.000000</td>\n",
       "      <td>0.000000</td>\n",
       "      <td>0.000000</td>\n",
       "      <td>0.000000</td>\n",
       "      <td>...</td>\n",
       "      <td>0.000000</td>\n",
       "      <td>0.000000</td>\n",
       "      <td>0.000000</td>\n",
       "      <td>0.000000</td>\n",
       "      <td>0.000000</td>\n",
       "      <td>0.000000</td>\n",
       "      <td>0.000000</td>\n",
       "      <td>0.000000</td>\n",
       "      <td>0.000000</td>\n",
       "      <td>0.0</td>\n",
       "    </tr>\n",
       "    <tr>\n",
       "      <th>50%</th>\n",
       "      <td>260.000000</td>\n",
       "      <td>6.000000</td>\n",
       "      <td>60.000000</td>\n",
       "      <td>0.000000</td>\n",
       "      <td>0.000000</td>\n",
       "      <td>0.000000</td>\n",
       "      <td>0.000000</td>\n",
       "      <td>0.000000</td>\n",
       "      <td>0.000000</td>\n",
       "      <td>0.000000</td>\n",
       "      <td>...</td>\n",
       "      <td>0.000000</td>\n",
       "      <td>0.000000</td>\n",
       "      <td>0.000000</td>\n",
       "      <td>0.000000</td>\n",
       "      <td>0.000000</td>\n",
       "      <td>0.000000</td>\n",
       "      <td>0.000000</td>\n",
       "      <td>0.000000</td>\n",
       "      <td>0.000000</td>\n",
       "      <td>0.0</td>\n",
       "    </tr>\n",
       "    <tr>\n",
       "      <th>75%</th>\n",
       "      <td>340.000000</td>\n",
       "      <td>8.000000</td>\n",
       "      <td>80.000000</td>\n",
       "      <td>0.000000</td>\n",
       "      <td>0.000000</td>\n",
       "      <td>0.000000</td>\n",
       "      <td>0.000000</td>\n",
       "      <td>0.000000</td>\n",
       "      <td>0.000000</td>\n",
       "      <td>0.000000</td>\n",
       "      <td>...</td>\n",
       "      <td>0.000000</td>\n",
       "      <td>0.000000</td>\n",
       "      <td>0.000000</td>\n",
       "      <td>0.000000</td>\n",
       "      <td>0.000000</td>\n",
       "      <td>0.000000</td>\n",
       "      <td>0.000000</td>\n",
       "      <td>0.000000</td>\n",
       "      <td>0.000000</td>\n",
       "      <td>0.0</td>\n",
       "    </tr>\n",
       "    <tr>\n",
       "      <th>max</th>\n",
       "      <td>380.000000</td>\n",
       "      <td>10.000000</td>\n",
       "      <td>100.000000</td>\n",
       "      <td>0.924714</td>\n",
       "      <td>0.733997</td>\n",
       "      <td>0.732088</td>\n",
       "      <td>0.741626</td>\n",
       "      <td>0.841555</td>\n",
       "      <td>0.885522</td>\n",
       "      <td>0.783026</td>\n",
       "      <td>...</td>\n",
       "      <td>0.876908</td>\n",
       "      <td>0.983118</td>\n",
       "      <td>0.899810</td>\n",
       "      <td>0.862178</td>\n",
       "      <td>0.967155</td>\n",
       "      <td>0.808676</td>\n",
       "      <td>0.918451</td>\n",
       "      <td>0.839999</td>\n",
       "      <td>0.833172</td>\n",
       "      <td>0.0</td>\n",
       "    </tr>\n",
       "  </tbody>\n",
       "</table>\n",
       "<p>8 rows × 22 columns</p>\n",
       "</div>"
      ],
      "text/plain": [
       "            ecutrho     k_density       ecutwfc          Lant          PTC1  \\\n",
       "count  62458.000000  62458.000000  62458.000000  62458.000000  62458.000000   \n",
       "mean     244.912101      5.856063     58.431266      0.148408      0.030426   \n",
       "std       89.243957      2.832946     24.204293      0.285161      0.130828   \n",
       "min      100.000000      2.000000     20.000000      0.000000      0.000000   \n",
       "25%      180.000000      4.000000     40.000000      0.000000      0.000000   \n",
       "50%      260.000000      6.000000     60.000000      0.000000      0.000000   \n",
       "75%      340.000000      8.000000     80.000000      0.000000      0.000000   \n",
       "max      380.000000     10.000000    100.000000      0.924714      0.733997   \n",
       "\n",
       "               PTC2          PTC3          PTC4          PTC5          PTC6  \\\n",
       "count  62458.000000  62458.000000  62458.000000  62458.000000  62458.000000   \n",
       "mean       0.041234      0.020184      0.021552      0.028327      0.014276   \n",
       "std        0.128356      0.102080      0.102914      0.117325      0.090289   \n",
       "min        0.000000      0.000000      0.000000      0.000000      0.000000   \n",
       "25%        0.000000      0.000000      0.000000      0.000000      0.000000   \n",
       "50%        0.000000      0.000000      0.000000      0.000000      0.000000   \n",
       "75%        0.000000      0.000000      0.000000      0.000000      0.000000   \n",
       "max        0.732088      0.741626      0.841555      0.885522      0.783026   \n",
       "\n",
       "       ...          PTC9         PTC10         PTC11         PTC12  \\\n",
       "count  ...  62458.000000  62458.000000  62458.000000  62458.000000   \n",
       "mean   ...      0.063783      0.055349      0.064660      0.046991   \n",
       "std    ...      0.197564      0.185805      0.191193      0.165755   \n",
       "min    ...      0.000000      0.000000      0.000000      0.000000   \n",
       "25%    ...      0.000000      0.000000      0.000000      0.000000   \n",
       "50%    ...      0.000000      0.000000      0.000000      0.000000   \n",
       "75%    ...      0.000000      0.000000      0.000000      0.000000   \n",
       "max    ...      0.876908      0.983118      0.899810      0.862178   \n",
       "\n",
       "              PTC13         PTC14         PTC15         PTC16         PTC17  \\\n",
       "count  62458.000000  62458.000000  62458.000000  62458.000000  62458.000000   \n",
       "mean       0.050979      0.044910      0.094091      0.061162      0.022155   \n",
       "std        0.164559      0.132338      0.213313      0.166961      0.121754   \n",
       "min        0.000000      0.000000      0.000000      0.000000      0.000000   \n",
       "25%        0.000000      0.000000      0.000000      0.000000      0.000000   \n",
       "50%        0.000000      0.000000      0.000000      0.000000      0.000000   \n",
       "75%        0.000000      0.000000      0.000000      0.000000      0.000000   \n",
       "max        0.967155      0.808676      0.918451      0.839999      0.833172   \n",
       "\n",
       "         PTC18  \n",
       "count  62458.0  \n",
       "mean       0.0  \n",
       "std        0.0  \n",
       "min        0.0  \n",
       "25%        0.0  \n",
       "50%        0.0  \n",
       "75%        0.0  \n",
       "max        0.0  \n",
       "\n",
       "[8 rows x 22 columns]"
      ]
     },
     "execution_count": 6,
     "metadata": {},
     "output_type": "execute_result"
    }
   ],
   "source": [
    "X_raw.describe()"
   ]
  },
  {
   "cell_type": "markdown",
   "id": "55ba3f2f",
   "metadata": {},
   "source": [
    "# Train-Test-Split"
   ]
  },
  {
   "cell_type": "code",
   "execution_count": 7,
   "id": "13a295e9",
   "metadata": {},
   "outputs": [],
   "source": [
    "X_train, X_test, y_train, y_test = train_test_split(\n",
    "    X_raw, y_raw,\n",
    "    test_size=0.2,\n",
    "    random_state=42\n",
    ")"
   ]
  },
  {
   "cell_type": "markdown",
   "id": "d8de856c",
   "metadata": {},
   "source": [
    "# Model definitions"
   ]
  },
  {
   "cell_type": "markdown",
   "id": "352c653f",
   "metadata": {},
   "source": [
    "### Linear Model with feature augmentation"
   ]
  },
  {
   "cell_type": "code",
   "execution_count": 8,
   "id": "7010e7b9",
   "metadata": {},
   "outputs": [],
   "source": [
    "# functions such that f(x) != 0 and f(+inf) = 0\n",
    "functions_set_1 = [\n",
    "    lambda x: np.exp(-x),\n",
    "    lambda x: 1 / (1+x),\n",
    "    lambda x: 1 / (1+x)**2,\n",
    "    lambda x: np.cos(x) * np.exp(-x),\n",
    "]\n",
    "\n",
    "# functions such that f(x) = 0 and f(+inf) = 0\n",
    "functions_set_2 = [\n",
    "    lambda x: x*np.exp(-x),\n",
    "    lambda x: x / (1+x)**2,\n",
    "    lambda x: x / (1+x)**3,\n",
    "    lambda x: np.sin(x) * np.exp(-x),\n",
    "]\n",
    "\n",
    "linear_augmented_model = Pipeline([\n",
    "    ('scaler_init', StandardScaler()),\n",
    "    ('features', FeatureUnion(\n",
    "    [\n",
    "        (f\"fun_{j}\", FunctionTransformer(lambda X : f(X[:,:3]))) for j, f in enumerate(functions_set_1 + functions_set_2)\n",
    "    ] + [\n",
    "        (f\"fun_{j}_col_{col}_1\", FunctionTransformer(lambda X : f(X[:,:3] * X[:,i][:, None]))) for j, f in enumerate(functions_set_1) for i, col in enumerate([\"ecutrho\", \"kpoints\", \"ecutwfc\"])\n",
    "    ] + [\n",
    "        (f\"fun_{j}_col_{col}_2\", FunctionTransformer(lambda X : f(X[:,3:] * X[:,i][:, None]))) for j, f in enumerate(functions_set_2) for i, col in enumerate([\"ecutrho\", \"kpoints\", \"ecutwfc\"])\n",
    "    ])),\n",
    "    ('scaler_final', StandardScaler()),\n",
    "    ('regressor', LinearRegression()),\n",
    "])"
   ]
  },
  {
   "cell_type": "markdown",
   "id": "55fb1f14",
   "metadata": {},
   "source": [
    "### Random forest"
   ]
  },
  {
   "cell_type": "code",
   "execution_count": 9,
   "id": "5482fc15",
   "metadata": {},
   "outputs": [],
   "source": [
    "rf_model = RandomForestRegressor(random_state=0)"
   ]
  },
  {
   "cell_type": "markdown",
   "id": "e396ee5b",
   "metadata": {},
   "source": [
    "### Gradient Boosting"
   ]
  },
  {
   "cell_type": "code",
   "execution_count": 10,
   "id": "889b426e",
   "metadata": {},
   "outputs": [],
   "source": [
    "gb_model = GradientBoostingRegressor(n_estimators=5000, learning_rate=0.05, random_state=0)"
   ]
  },
  {
   "cell_type": "markdown",
   "id": "437e20b9",
   "metadata": {},
   "source": [
    "### XGBoost"
   ]
  },
  {
   "cell_type": "code",
   "execution_count": 11,
   "id": "8af093a4",
   "metadata": {},
   "outputs": [],
   "source": [
    "xgb_model = xgb.XGBRegressor(n_estimators=5000, learning_rate=0.05, random_state=0, tree_method=\"gpu_hist\")"
   ]
  },
  {
   "cell_type": "markdown",
   "id": "1d72775d",
   "metadata": {},
   "source": [
    "### Packing them together to reduce code size"
   ]
  },
  {
   "cell_type": "code",
   "execution_count": 12,
   "id": "b8539e62",
   "metadata": {},
   "outputs": [],
   "source": [
    "models = {\n",
    "    \"Augmented Linear Regression\": linear_augmented_model,\n",
    "    \"Random Forest\": rf_model,\n",
    "    # \"Gradient Boosting\": gb_model,\n",
    "    \"XGBoost\": xgb_model,\n",
    "}"
   ]
  },
  {
   "cell_type": "markdown",
   "id": "4b0e82a4",
   "metadata": {},
   "source": [
    "# Model training"
   ]
  },
  {
   "cell_type": "code",
   "execution_count": 13,
   "id": "4ac88c6b",
   "metadata": {},
   "outputs": [
    {
     "name": "stdout",
     "output_type": "stream",
     "text": [
      "Training Augmented Linear Regression...\n",
      "Done!\n",
      "\n",
      "Training Random Forest...\n",
      "Done!\n",
      "\n",
      "Training XGBoost...\n",
      "Done!\n",
      "\n"
     ]
    }
   ],
   "source": [
    "for model_name, model in models.items():\n",
    "    print(f\"Training {model_name}...\")\n",
    "    model.fit(X_train, y_train)\n",
    "    print(\"Done!\\n\")"
   ]
  },
  {
   "cell_type": "markdown",
   "id": "da4aab8d",
   "metadata": {},
   "source": [
    "# Model evaluation"
   ]
  },
  {
   "cell_type": "code",
   "execution_count": 14,
   "id": "13559b55",
   "metadata": {},
   "outputs": [
    {
     "name": "stdout",
     "output_type": "stream",
     "text": [
      "Evaluating Augmented Linear Regression...\n",
      "MSE:\ttrain:3.4071E-02\ttest:3.5432E-02\n",
      "MAPE:\ttrain:1.6691E+11\ttest:2.9540E+11\n",
      "Done!\n",
      "\n",
      "Evaluating Random Forest...\n",
      "MSE:\ttrain:1.5678E-06\ttest:7.0540E-06\n",
      "MAPE:\ttrain:4.1848E+08\ttest:1.3518E+08\n",
      "Done!\n",
      "\n",
      "Evaluating XGBoost...\n",
      "MSE:\ttrain:6.2121E-06\ttest:9.0221E-06\n",
      "MAPE:\ttrain:5.4484E+09\ttest:4.7109E+09\n",
      "Done!\n",
      "\n"
     ]
    }
   ],
   "source": [
    "for model_name, model in models.items():\n",
    "    print(f\"Evaluating {model_name}...\")\n",
    "\n",
    "    y_pred_train = model.predict(X_train)\n",
    "    y_pred_test = model.predict(X_test)\n",
    "\n",
    "    mse_test = mean_squared_error(y_test, y_pred_test)\n",
    "    mse_train = mean_squared_error(y_train, y_pred_train)\n",
    "    print(f\"MSE:\\ttrain:{mse_train:.4E}\\ttest:{mse_test:.4E}\")\n",
    "\n",
    "    mape_test = mean_absolute_percentage_error(y_test, y_pred_test)\n",
    "    mape_train = mean_absolute_percentage_error(y_train, y_pred_train)\n",
    "    print(f\"MAPE:\\ttrain:{mape_train:.4E}\\ttest:{mape_test:.4E}\")\n",
    "\n",
    "    print(\"Done!\\n\")"
   ]
  },
  {
   "cell_type": "markdown",
   "id": "ec8e7b59",
   "metadata": {},
   "source": [
    "# Visualization"
   ]
  },
  {
   "cell_type": "code",
   "execution_count": 15,
   "id": "25802160",
   "metadata": {},
   "outputs": [
    {
     "data": {
      "image/png": "[encoded data removed]",
      "text/plain": [
       "<Figure size 864x864 with 9 Axes>"
      ]
     },
     "metadata": {
      "needs_background": "light"
     },
     "output_type": "display_data"
    }
   ],
   "source": [
    "n_models = len(models)\n",
    "fig, ax = plt.subplots(n_models,3,figsize=(12,4*n_models), sharey=True, squeeze=False)\n",
    "for j, (name, model) in enumerate(models.items()):\n",
    "    for i, col in enumerate(X_train.columns[:3]):\n",
    "        ax[j,i].scatter(X_train[col], y_train)\n",
    "        ax[j,i].scatter(X_test[col], y_test)\n",
    "        ax[j,i].scatter(X_test[col], model.predict(X_test))\n",
    "    ax[j,0].set_ylabel(name)\n",
    "ax[-1,0].set_xlabel(\"ecutrho\")\n",
    "ax[-1,1].set_xlabel('k_density')\n",
    "ax[-1,2].set_xlabel('ecutwfc')\n",
    "PLOTPATH = os.path.join(os.path.dirname(os.path.dirname(os.getcwd())), \"plots/delta_E_regression/toy_comparison.png\")\n",
    "plt.savefig(PLOTPATH)"
   ]
  },
  {
   "cell_type": "code",
   "execution_count": 16,
   "id": "0e36135f",
   "metadata": {},
   "outputs": [
    {
     "data": {
      "text/plain": [
       "<mpl_toolkits.mplot3d.art3d.Path3DCollection at 0x7f0a276edee0>"
      ]
     },
     "execution_count": 16,
     "metadata": {},
     "output_type": "execute_result"
    },
    {
     "data": {
      "image/png": "[encoded data removed]",
      "text/plain": [
       "<Figure size 432x288 with 1 Axes>"
      ]
     },
     "metadata": {
      "needs_background": "light"
     },
     "output_type": "display_data"
    }
   ],
   "source": [
    "fig = plt.figure()\n",
    "ax = fig.add_subplot(111, projection='3d')\n",
    "ax.scatter(X_train['ecutwfc'], X_train['k_density'], y_train)\n",
    "ax.scatter(X_test['ecutwfc'], X_test['k_density'], y_test)\n",
    "ax.scatter(X_test['ecutwfc'], X_test['k_density'], rf_model.predict(X_test))"
   ]
  },
  {
   "cell_type": "markdown",
   "id": "c3808cbd",
   "metadata": {},
   "source": [
    "## Predict $\\log(\\Delta E)$ instead of $∆E$"
   ]
  },
  {
   "cell_type": "code",
   "execution_count": 17,
   "id": "0e9f2519",
   "metadata": {},
   "outputs": [
    {
     "name": "stdout",
     "output_type": "stream",
     "text": [
      "0.0 5.000003966415534e-09\n"
     ]
    }
   ],
   "source": [
    "class LogTransform:\n",
    "    def __init__(self, y):\n",
    "        self.miny = float(np.min(y))\n",
    "        miny2 = np.sort(list(set(list(np.array(y.squeeze())))))[1]\n",
    "        print(self.miny, miny2)\n",
    "        self.eps = (miny2 - self.miny)/10\n",
    "\n",
    "    def transform(self, y):\n",
    "        return np.log(y - self.miny + self.eps)\n",
    "        \n",
    "    def inverse_transform(self, logy):\n",
    "        return np.exp(logy) + self.miny - self.eps\n",
    "\n",
    "log_transform = LogTransform(y_raw)\n",
    "\n",
    "logy_raw = log_transform.transform(y_raw)\n",
    "X_train, X_test, logy_train, logy_test = train_test_split(\n",
    "    X_raw, logy_raw,\n",
    "    test_size=0.2,\n",
    "    random_state=42\n",
    ")"
   ]
  },
  {
   "cell_type": "code",
   "execution_count": 18,
   "id": "446269d7",
   "metadata": {},
   "outputs": [
    {
     "data": {
      "text/plain": [
       "Text(0.5, 1.0, 'Log')"
      ]
     },
     "execution_count": 18,
     "metadata": {},
     "output_type": "execute_result"
    },
    {
     "data": {
      "image/png": "[encoded data removed]",
      "text/plain": [
       "<Figure size 864x288 with 2 Axes>"
      ]
     },
     "metadata": {
      "needs_background": "light"
     },
     "output_type": "display_data"
    }
   ],
   "source": [
    "# plot hist of y_raw and logy_raw\n",
    "fig, ax = plt.subplots(1,2,figsize=(12,4))\n",
    "ax[0].set_ylabel(\"count\")\n",
    "ax[0].hist(y_raw, bins=100)\n",
    "ax[0].set_xlabel(\"delta E\")\n",
    "ax[0].set_title(\"Raw\")\n",
    "ax[1].hist(logy_raw, bins=100)\n",
    "ax[1].set_xlabel(\"log(delta E)\")\n",
    "ax[1].set_title(\"Log\")"
   ]
  },
  {
   "cell_type": "code",
   "execution_count": 19,
   "id": "766ca76b",
   "metadata": {},
   "outputs": [],
   "source": [
    "linear_log_augmented_model = Pipeline([\n",
    "    ('scaler_init', StandardScaler()),\n",
    "    ('features', PolynomialFeatures(degree=2)),\n",
    "    ('scaler_final', StandardScaler()),\n",
    "    ('regressor', LinearRegression()),\n",
    "])"
   ]
  },
  {
   "cell_type": "code",
   "execution_count": 20,
   "id": "d10946c2",
   "metadata": {},
   "outputs": [],
   "source": [
    "rf_log_model = RandomForestRegressor()"
   ]
  },
  {
   "cell_type": "code",
   "execution_count": 21,
   "id": "24b572c8",
   "metadata": {},
   "outputs": [],
   "source": [
    "gb_log_model = GradientBoostingRegressor(n_estimators=5000, learning_rate=0.05, random_state=0)"
   ]
  },
  {
   "cell_type": "code",
   "execution_count": 22,
   "id": "eae465b7",
   "metadata": {},
   "outputs": [],
   "source": [
    "xgb_log_model = xgb.XGBRegressor(n_estimators=5000, learning_rate=0.05, random_state=0, tree_method=\"gpu_hist\")"
   ]
  },
  {
   "cell_type": "code",
   "execution_count": 23,
   "id": "08590715",
   "metadata": {},
   "outputs": [],
   "source": [
    "models_log = {\n",
    "    \"Augmented Linear Regression - Log\": linear_log_augmented_model,\n",
    "    \"Random Forest - Log\": rf_log_model,\n",
    "    # \"Gradient Boosting - Log\": gb_log_model,\n",
    "    \"XGBoost - Log\": xgb_log_model,\n",
    "}"
   ]
  },
  {
   "cell_type": "code",
   "execution_count": 24,
   "id": "ff4f876d",
   "metadata": {},
   "outputs": [
    {
     "name": "stdout",
     "output_type": "stream",
     "text": [
      "Training Augmented Linear Regression - Log...\n",
      "Done!\n",
      "\n",
      "Training Random Forest - Log...\n",
      "Done!\n",
      "\n",
      "Training XGBoost - Log...\n",
      "Done!\n",
      "\n"
     ]
    }
   ],
   "source": [
    "for model_name, model in models_log.items():\n",
    "    print(f\"Training {model_name}...\")\n",
    "    model.fit(X_train, logy_train)\n",
    "    print(\"Done!\\n\")"
   ]
  },
  {
   "cell_type": "code",
   "execution_count": 25,
   "id": "181c4cb1",
   "metadata": {},
   "outputs": [
    {
     "name": "stdout",
     "output_type": "stream",
     "text": [
      "Evaluating Augmented Linear Regression - Log...\n",
      "MSE:\ttrain:2.4982E+00\ttest:2.5385E+00\n",
      "MSE:\ttrain:2.9923E-02\ttest:2.9900E-02\n",
      "MAPE:\ttrain:4.4309E-01\ttest:4.2936E-01\n",
      "Done!\n",
      "\n",
      "Evaluating Random Forest - Log...\n",
      "MSE:\ttrain:2.7687E-02\ttest:1.6911E-01\n",
      "MSE:\ttrain:8.7149E-06\ttest:1.6879E-05\n",
      "MAPE:\ttrain:4.7882E-03\ttest:1.2283E-02\n",
      "Done!\n",
      "\n",
      "Evaluating XGBoost - Log...\n",
      "MSE:\ttrain:4.6400E-02\ttest:1.9972E-01\n",
      "MSE:\ttrain:1.6867E-04\ttest:2.7021E-04\n",
      "MAPE:\ttrain:2.2576E-02\ttest:3.1122E-02\n",
      "Done!\n",
      "\n"
     ]
    }
   ],
   "source": [
    "for model_name, model in models_log.items():\n",
    "    print(f\"Evaluating {model_name}...\")\n",
    "\n",
    "    logy_pred_train = model.predict(X_train)\n",
    "    y_pred_train = log_transform.inverse_transform(logy_pred_train.squeeze())\n",
    "    logy_pred_test = model.predict(X_test)\n",
    "    y_pred_test = log_transform.inverse_transform(logy_pred_test.squeeze())\n",
    "    \n",
    "    y_train = log_transform.inverse_transform(logy_train.squeeze())\n",
    "    y_test = log_transform.inverse_transform(logy_test.squeeze())\n",
    "\n",
    "    mse_test = mean_squared_error(logy_test, logy_pred_test)\n",
    "    mse_train = mean_squared_error(logy_train, logy_pred_train)\n",
    "    print(f\"MSE:\\ttrain:{mse_train:.4E}\\ttest:{mse_test:.4E}\")\n",
    "    \n",
    "    mse_test = mean_squared_error(y_test, y_pred_test)\n",
    "    mse_train = mean_squared_error(y_train, y_pred_train)\n",
    "    print(f\"MSE:\\ttrain:{mse_train:.4E}\\ttest:{mse_test:.4E}\")\n",
    "\n",
    "    mape_test = mean_absolute_percentage_error(logy_test, logy_pred_test)\n",
    "    mape_train = mean_absolute_percentage_error(logy_train, logy_pred_train)\n",
    "    print(f\"MAPE:\\ttrain:{mape_train:.4E}\\ttest:{mape_test:.4E}\")\n",
    "\n",
    "    print(\"Done!\\n\")"
   ]
  },
  {
   "cell_type": "code",
   "execution_count": 26,
   "id": "b4e341f2",
   "metadata": {},
   "outputs": [
    {
     "data": {
      "text/plain": [
       "Text(0.5, 0, 'ecutwfc')"
      ]
     },
     "execution_count": 26,
     "metadata": {},
     "output_type": "execute_result"
    },
    {
     "data": {
      "image/png": "[encoded data removed]",
      "text/plain": [
       "<Figure size 864x864 with 9 Axes>"
      ]
     },
     "metadata": {
      "needs_background": "light"
     },
     "output_type": "display_data"
    }
   ],
   "source": [
    "n_models_log = len(models_log)\n",
    "fig, ax = plt.subplots(n_models_log,3,figsize=(12,4*n_models_log), sharey=True, squeeze=False)\n",
    "for j, (name, model) in enumerate(models_log.items()):\n",
    "    for i, col in enumerate(X_train.columns[:3]):\n",
    "        ax[j,i].scatter(X_train[col], logy_train)\n",
    "        ax[j,i].scatter(X_test[col], logy_test)\n",
    "        ax[j,i].scatter(X_test[col], model.predict(X_test))\n",
    "    ax[j,0].set_ylabel(name)\n",
    "ax[-1,0].set_xlabel(\"ecutrho\")\n",
    "ax[-1,1].set_xlabel('k_density')\n",
    "ax[-1,2].set_xlabel('ecutwfc')"
   ]
  },
  {
   "cell_type": "markdown",
   "id": "507ed6a9",
   "metadata": {},
   "source": [
    "# Analysing models"
   ]
  },
  {
   "cell_type": "markdown",
   "id": "696455c6",
   "metadata": {},
   "source": [
    "## Plot feature importance"
   ]
  },
  {
   "cell_type": "markdown",
   "id": "e085689d",
   "metadata": {},
   "source": [
    "### $\\Delta E$"
   ]
  },
  {
   "cell_type": "code",
   "execution_count": 27,
   "id": "17bcfe05",
   "metadata": {},
   "outputs": [
    {
     "data": {
      "image/png": "[encoded data removed]",
      "text/plain": [
       "<Figure size 1080x576 with 2 Axes>"
      ]
     },
     "metadata": {
      "needs_background": "light"
     },
     "output_type": "display_data"
    }
   ],
   "source": [
    "# plot feature importance\n",
    "models_feature_importance = {\n",
    "    \"RandomForestRegressor - Log\": rf_model,\n",
    "    \"XGBRegressor - Log\": xgb_model,\n",
    "}\n",
    "n_models = len(models_feature_importance)\n",
    "fig, ax = plt.subplots(n_models, 1,figsize=(15,4*n_models), sharey=True, squeeze=False)\n",
    "for j, (name, model) in enumerate(models_feature_importance.items()):\n",
    "    ax[j,0].bar(X_train.columns, model.feature_importances_)\n",
    "    ax[j,0].bar(X_test.columns, model.feature_importances_)\n",
    "    ax[j,0].bar(X_test.columns, model.feature_importances_)\n",
    "    ax[j,0].set_ylabel(\"feature importance\")\n",
    "    ax[j,0].set_xlabel(name)"
   ]
  },
  {
   "cell_type": "code",
   "execution_count": 28,
   "id": "cae0d553",
   "metadata": {},
   "outputs": [
    {
     "data": {
      "text/plain": [
       "<AxesSubplot:title={'center':'Feature importance'}, xlabel='F score', ylabel='Features'>"
      ]
     },
     "execution_count": 28,
     "metadata": {},
     "output_type": "execute_result"
    },
    {
     "data": {
      "image/png": "[encoded data removed]",
      "text/plain": [
       "<Figure size 432x288 with 1 Axes>"
      ]
     },
     "metadata": {
      "needs_background": "light"
     },
     "output_type": "display_data"
    }
   ],
   "source": [
    "xgb.plot_importance(xgb_model)"
   ]
  },
  {
   "cell_type": "markdown",
   "id": "85125108",
   "metadata": {},
   "source": [
    "### $\\log(\\Delta E)$"
   ]
  },
  {
   "cell_type": "code",
   "execution_count": 29,
   "id": "3738245a",
   "metadata": {},
   "outputs": [
    {
     "data": {
      "image/png": "[encoded data removed]",
      "text/plain": [
       "<Figure size 1080x576 with 2 Axes>"
      ]
     },
     "metadata": {
      "needs_background": "light"
     },
     "output_type": "display_data"
    }
   ],
   "source": [
    "# plot feature importance\n",
    "models_log_feature_importance = {\n",
    "    \"RandomForestRegressor - Log\": rf_log_model,\n",
    "    \"XGBRegressor - Log\": xgb_log_model,\n",
    "}\n",
    "n_models_log = len(models_log_feature_importance)\n",
    "fig, ax = plt.subplots(n_models_log, 1,figsize=(15,4*n_models_log), sharey=True, squeeze=False)\n",
    "for j, (name, model) in enumerate(models_log_feature_importance.items()):\n",
    "    ax[j,0].bar(X_train.columns, model.feature_importances_)\n",
    "    ax[j,0].bar(X_test.columns, model.feature_importances_)\n",
    "    ax[j,0].bar(X_test.columns, model.feature_importances_)\n",
    "    ax[j,0].set_ylabel(\"feature importance\")\n",
    "    ax[j,0].set_xlabel(name)"
   ]
  },
  {
   "cell_type": "code",
   "execution_count": 30,
   "id": "df24df08",
   "metadata": {},
   "outputs": [
    {
     "data": {
      "text/plain": [
       "<AxesSubplot:title={'center':'Feature importance'}, xlabel='F score', ylabel='Features'>"
      ]
     },
     "execution_count": 30,
     "metadata": {},
     "output_type": "execute_result"
    },
    {
     "data": {
      "image/png": "[encoded data removed]",
      "text/plain": [
       "<Figure size 432x288 with 1 Axes>"
      ]
     },
     "metadata": {
      "needs_background": "light"
     },
     "output_type": "display_data"
    }
   ],
   "source": [
    "xgb.plot_importance(xgb_log_model)"
   ]
  },
  {
   "cell_type": "markdown",
   "id": "910032aa",
   "metadata": {},
   "source": [
    "# Compare $\\Delta E$ and $\\log(\\Delta E)$ predictions"
   ]
  },
  {
   "cell_type": "code",
   "execution_count": 31,
   "id": "a8cd3695",
   "metadata": {},
   "outputs": [
    {
     "data": {
      "text/html": [
       "<div>\n",
       "<style scoped>\n",
       "    .dataframe tbody tr th:only-of-type {\n",
       "        vertical-align: middle;\n",
       "    }\n",
       "\n",
       "    .dataframe tbody tr th {\n",
       "        vertical-align: top;\n",
       "    }\n",
       "\n",
       "    .dataframe thead th {\n",
       "        text-align: right;\n",
       "    }\n",
       "</style>\n",
       "<table border=\"1\" class=\"dataframe\">\n",
       "  <thead>\n",
       "    <tr style=\"text-align: right;\">\n",
       "      <th></th>\n",
       "      <th>real</th>\n",
       "      <th>Augmented Linear Regression</th>\n",
       "      <th>Random Forest</th>\n",
       "      <th>XGBoost</th>\n",
       "      <th>Augmented Linear Regression - Log</th>\n",
       "      <th>Random Forest - Log</th>\n",
       "      <th>XGBoost - Log</th>\n",
       "    </tr>\n",
       "  </thead>\n",
       "  <tbody>\n",
       "    <tr>\n",
       "      <th>0</th>\n",
       "      <td>3.080E-01</td>\n",
       "      <td>1.792E-01</td>\n",
       "      <td>3.080E-01</td>\n",
       "      <td>3.043E-01</td>\n",
       "      <td>1.991E-02</td>\n",
       "      <td>3.080E-01</td>\n",
       "      <td>3.118E-01</td>\n",
       "    </tr>\n",
       "    <tr>\n",
       "      <th>1</th>\n",
       "      <td>8.776E-03</td>\n",
       "      <td>1.144E-01</td>\n",
       "      <td>8.779E-03</td>\n",
       "      <td>7.836E-03</td>\n",
       "      <td>9.315E-03</td>\n",
       "      <td>8.775E-03</td>\n",
       "      <td>9.927E-03</td>\n",
       "    </tr>\n",
       "    <tr>\n",
       "      <th>2</th>\n",
       "      <td>4.232E-01</td>\n",
       "      <td>2.874E-01</td>\n",
       "      <td>4.232E-01</td>\n",
       "      <td>4.197E-01</td>\n",
       "      <td>3.329E-01</td>\n",
       "      <td>4.232E-01</td>\n",
       "      <td>4.050E-01</td>\n",
       "    </tr>\n",
       "    <tr>\n",
       "      <th>3</th>\n",
       "      <td>1.183E+00</td>\n",
       "      <td>3.553E-01</td>\n",
       "      <td>1.183E+00</td>\n",
       "      <td>1.185E+00</td>\n",
       "      <td>1.768E-01</td>\n",
       "      <td>1.183E+00</td>\n",
       "      <td>1.252E+00</td>\n",
       "    </tr>\n",
       "    <tr>\n",
       "      <th>4</th>\n",
       "      <td>2.227E-05</td>\n",
       "      <td>-1.675E-02</td>\n",
       "      <td>2.279E-05</td>\n",
       "      <td>9.388E-05</td>\n",
       "      <td>3.181E-05</td>\n",
       "      <td>2.319E-05</td>\n",
       "      <td>2.191E-05</td>\n",
       "    </tr>\n",
       "    <tr>\n",
       "      <th>5</th>\n",
       "      <td>1.668E-02</td>\n",
       "      <td>-9.228E-03</td>\n",
       "      <td>1.668E-02</td>\n",
       "      <td>1.692E-02</td>\n",
       "      <td>6.852E-03</td>\n",
       "      <td>1.668E-02</td>\n",
       "      <td>1.729E-02</td>\n",
       "    </tr>\n",
       "    <tr>\n",
       "      <th>6</th>\n",
       "      <td>1.860E-02</td>\n",
       "      <td>2.368E-01</td>\n",
       "      <td>1.851E-02</td>\n",
       "      <td>2.416E-02</td>\n",
       "      <td>8.778E-02</td>\n",
       "      <td>1.888E-02</td>\n",
       "      <td>1.856E-02</td>\n",
       "    </tr>\n",
       "    <tr>\n",
       "      <th>7</th>\n",
       "      <td>6.232E-05</td>\n",
       "      <td>-2.884E-02</td>\n",
       "      <td>7.010E-05</td>\n",
       "      <td>-3.671E-04</td>\n",
       "      <td>8.266E-05</td>\n",
       "      <td>6.515E-05</td>\n",
       "      <td>5.912E-05</td>\n",
       "    </tr>\n",
       "    <tr>\n",
       "      <th>8</th>\n",
       "      <td>4.318E-04</td>\n",
       "      <td>9.565E-02</td>\n",
       "      <td>4.084E-04</td>\n",
       "      <td>1.866E-03</td>\n",
       "      <td>3.251E-03</td>\n",
       "      <td>4.294E-04</td>\n",
       "      <td>4.530E-04</td>\n",
       "    </tr>\n",
       "    <tr>\n",
       "      <th>9</th>\n",
       "      <td>7.505E-02</td>\n",
       "      <td>1.187E-01</td>\n",
       "      <td>7.272E-02</td>\n",
       "      <td>7.240E-02</td>\n",
       "      <td>2.727E-02</td>\n",
       "      <td>7.622E-02</td>\n",
       "      <td>8.463E-02</td>\n",
       "    </tr>\n",
       "    <tr>\n",
       "      <th>10</th>\n",
       "      <td>5.295E-03</td>\n",
       "      <td>-2.309E-02</td>\n",
       "      <td>5.295E-03</td>\n",
       "      <td>4.454E-03</td>\n",
       "      <td>1.677E-03</td>\n",
       "      <td>5.296E-03</td>\n",
       "      <td>3.861E-03</td>\n",
       "    </tr>\n",
       "    <tr>\n",
       "      <th>11</th>\n",
       "      <td>2.009E-03</td>\n",
       "      <td>-4.097E-02</td>\n",
       "      <td>2.013E-03</td>\n",
       "      <td>7.388E-04</td>\n",
       "      <td>1.033E-03</td>\n",
       "      <td>2.013E-03</td>\n",
       "      <td>1.775E-03</td>\n",
       "    </tr>\n",
       "    <tr>\n",
       "      <th>12</th>\n",
       "      <td>2.978E-04</td>\n",
       "      <td>-1.318E-02</td>\n",
       "      <td>3.051E-04</td>\n",
       "      <td>4.349E-04</td>\n",
       "      <td>7.092E-04</td>\n",
       "      <td>3.113E-04</td>\n",
       "      <td>2.611E-04</td>\n",
       "    </tr>\n",
       "    <tr>\n",
       "      <th>13</th>\n",
       "      <td>9.013E-05</td>\n",
       "      <td>-3.154E-02</td>\n",
       "      <td>1.578E-04</td>\n",
       "      <td>-1.569E-04</td>\n",
       "      <td>7.455E-04</td>\n",
       "      <td>3.701E-05</td>\n",
       "      <td>1.137E-04</td>\n",
       "    </tr>\n",
       "    <tr>\n",
       "      <th>14</th>\n",
       "      <td>8.681E-03</td>\n",
       "      <td>1.786E-01</td>\n",
       "      <td>8.667E-03</td>\n",
       "      <td>3.770E-03</td>\n",
       "      <td>3.283E-03</td>\n",
       "      <td>8.666E-03</td>\n",
       "      <td>8.764E-03</td>\n",
       "    </tr>\n",
       "    <tr>\n",
       "      <th>15</th>\n",
       "      <td>3.436E-05</td>\n",
       "      <td>4.455E-02</td>\n",
       "      <td>2.633E-05</td>\n",
       "      <td>8.973E-05</td>\n",
       "      <td>1.866E-04</td>\n",
       "      <td>1.569E-05</td>\n",
       "      <td>1.543E-05</td>\n",
       "    </tr>\n",
       "    <tr>\n",
       "      <th>16</th>\n",
       "      <td>4.948E-04</td>\n",
       "      <td>-3.304E-02</td>\n",
       "      <td>4.953E-04</td>\n",
       "      <td>8.571E-04</td>\n",
       "      <td>1.870E-04</td>\n",
       "      <td>3.804E-04</td>\n",
       "      <td>4.020E-04</td>\n",
       "    </tr>\n",
       "    <tr>\n",
       "      <th>17</th>\n",
       "      <td>2.025E-03</td>\n",
       "      <td>8.392E-02</td>\n",
       "      <td>2.022E-03</td>\n",
       "      <td>1.377E-03</td>\n",
       "      <td>2.690E-03</td>\n",
       "      <td>2.024E-03</td>\n",
       "      <td>1.418E-03</td>\n",
       "    </tr>\n",
       "    <tr>\n",
       "      <th>18</th>\n",
       "      <td>2.768E-03</td>\n",
       "      <td>1.307E-01</td>\n",
       "      <td>2.761E-03</td>\n",
       "      <td>2.961E-03</td>\n",
       "      <td>3.012E-03</td>\n",
       "      <td>2.762E-03</td>\n",
       "      <td>2.729E-03</td>\n",
       "    </tr>\n",
       "    <tr>\n",
       "      <th>19</th>\n",
       "      <td>3.221E-03</td>\n",
       "      <td>6.732E-03</td>\n",
       "      <td>3.226E-03</td>\n",
       "      <td>3.792E-03</td>\n",
       "      <td>1.266E-03</td>\n",
       "      <td>3.228E-03</td>\n",
       "      <td>3.007E-03</td>\n",
       "    </tr>\n",
       "  </tbody>\n",
       "</table>\n",
       "</div>"
      ],
      "text/plain": [
       "        real  Augmented Linear Regression  Random Forest    XGBoost  \\\n",
       "0  3.080E-01                    1.792E-01      3.080E-01  3.043E-01   \n",
       "1  8.776E-03                    1.144E-01      8.779E-03  7.836E-03   \n",
       "2  4.232E-01                    2.874E-01      4.232E-01  4.197E-01   \n",
       "3  1.183E+00                    3.553E-01      1.183E+00  1.185E+00   \n",
       "4  2.227E-05                   -1.675E-02      2.279E-05  9.388E-05   \n",
       "5  1.668E-02                   -9.228E-03      1.668E-02  1.692E-02   \n",
       "6  1.860E-02                    2.368E-01      1.851E-02  2.416E-02   \n",
       "7  6.232E-05                   -2.884E-02      7.010E-05 -3.671E-04   \n",
       "8  4.318E-04                    9.565E-02      4.084E-04  1.866E-03   \n",
       "9  7.505E-02                    1.187E-01      7.272E-02  7.240E-02   \n",
       "10 5.295E-03                   -2.309E-02      5.295E-03  4.454E-03   \n",
       "11 2.009E-03                   -4.097E-02      2.013E-03  7.388E-04   \n",
       "12 2.978E-04                   -1.318E-02      3.051E-04  4.349E-04   \n",
       "13 9.013E-05                   -3.154E-02      1.578E-04 -1.569E-04   \n",
       "14 8.681E-03                    1.786E-01      8.667E-03  3.770E-03   \n",
       "15 3.436E-05                    4.455E-02      2.633E-05  8.973E-05   \n",
       "16 4.948E-04                   -3.304E-02      4.953E-04  8.571E-04   \n",
       "17 2.025E-03                    8.392E-02      2.022E-03  1.377E-03   \n",
       "18 2.768E-03                    1.307E-01      2.761E-03  2.961E-03   \n",
       "19 3.221E-03                    6.732E-03      3.226E-03  3.792E-03   \n",
       "\n",
       "    Augmented Linear Regression - Log  Random Forest - Log  XGBoost - Log  \n",
       "0                           1.991E-02            3.080E-01      3.118E-01  \n",
       "1                           9.315E-03            8.775E-03      9.927E-03  \n",
       "2                           3.329E-01            4.232E-01      4.050E-01  \n",
       "3                           1.768E-01            1.183E+00      1.252E+00  \n",
       "4                           3.181E-05            2.319E-05      2.191E-05  \n",
       "5                           6.852E-03            1.668E-02      1.729E-02  \n",
       "6                           8.778E-02            1.888E-02      1.856E-02  \n",
       "7                           8.266E-05            6.515E-05      5.912E-05  \n",
       "8                           3.251E-03            4.294E-04      4.530E-04  \n",
       "9                           2.727E-02            7.622E-02      8.463E-02  \n",
       "10                          1.677E-03            5.296E-03      3.861E-03  \n",
       "11                          1.033E-03            2.013E-03      1.775E-03  \n",
       "12                          7.092E-04            3.113E-04      2.611E-04  \n",
       "13                          7.455E-04            3.701E-05      1.137E-04  \n",
       "14                          3.283E-03            8.666E-03      8.764E-03  \n",
       "15                          1.866E-04            1.569E-05      1.543E-05  \n",
       "16                          1.870E-04            3.804E-04      4.020E-04  \n",
       "17                          2.690E-03            2.024E-03      1.418E-03  \n",
       "18                          3.012E-03            2.762E-03      2.729E-03  \n",
       "19                          1.266E-03            3.228E-03      3.007E-03  "
      ]
     },
     "execution_count": 31,
     "metadata": {},
     "output_type": "execute_result"
    }
   ],
   "source": [
    "n_sample = 20\n",
    "idx_sample = np.random.choice(X_test.shape[0], n_sample, replace=False)\n",
    "df_pred_samples = pd.DataFrame(index=np.arange(n_sample))\n",
    "df_pred_samples[\"real\"] = np.array(y_test).squeeze()[idx_sample]\n",
    "\n",
    "for name, model in models.items():\n",
    "    df_pred_samples[name] = model.predict(X_test)[idx_sample]\n",
    "\n",
    "for name, model in models_log.items():\n",
    "    df_pred_samples[name] = log_transform.inverse_transform(model.predict(X_test)[idx_sample])\n",
    "\n",
    "pd.set_option('display.float_format', '{:.3E}'.format)\n",
    "df_pred_samples"
   ]
  },
  {
   "cell_type": "markdown",
   "id": "9b573659",
   "metadata": {},
   "source": [
    "# Find best parameters for a given error"
   ]
  },
  {
   "cell_type": "code",
   "execution_count": 32,
   "id": "44b27358",
   "metadata": {},
   "outputs": [],
   "source": [
    "from scipy.optimize import NonlinearConstraint, LinearConstraint, minimize, shgo, differential_evolution"
   ]
  },
  {
   "cell_type": "code",
   "execution_count": 33,
   "id": "632ae460",
   "metadata": {},
   "outputs": [],
   "source": [
    "def sanitize_input(x):\n",
    "    return np.array([int(round(x_i)) for x_i in x])\n",
    "\n",
    "def delta_E_prediction(x, model, structure_encoding):\n",
    "    input = np.concatenate([x, structure_encoding])\n",
    "    input = pd.DataFrame(input.reshape(1, -1), columns=X_raw.columns)\n",
    "    return model.predict(input)[0]\n",
    "\n",
    "def complexity(x):\n",
    "    # we have to get the right formula for the complexity\n",
    "    ecutrho = x[0]\n",
    "    k_density = x[1]\n",
    "    ecutwfc = x[2]\n",
    "    return ecutrho + k_density + ecutwfc"
   ]
  },
  {
   "cell_type": "code",
   "execution_count": 34,
   "id": "7a00e08b",
   "metadata": {},
   "outputs": [],
   "source": [
    "# # Compute GeTe structure encoding\n",
    "# first load GeTe dataset\n",
    "GeTe_data = df[df[\"structure\"] == \"GeTe\"]\n",
    "\n",
    "# then find the index of the first encoding column\n",
    "if encoding in [Encoding.COLUMN, Encoding.COLUMN_MASS]:\n",
    "    enc_first_idx = next((i for i, col in enumerate(GeTe_data.columns) if col in PTC_COLNAMES), None)\n",
    "elif encoding == Encoding.ATOMIC:\n",
    "    enc_first_idx = next((i for i, col in enumerate(GeTe_data.columns) if col in PERIODIC_TABLE_INFO), None)\n",
    "\n",
    "# finally get the encoding\n",
    "GeTe_encoding = np.array(GeTe_data.iloc[0, enc_first_idx:].values, dtype=float)"
   ]
  },
  {
   "cell_type": "markdown",
   "id": "c34c2430",
   "metadata": {},
   "source": [
    "### Minimize complexity using $\\Delta E$ regressors"
   ]
  },
  {
   "cell_type": "code",
   "execution_count": 35,
   "id": "21ed0f23",
   "metadata": {},
   "outputs": [
    {
     "name": "stdout",
     "output_type": "stream",
     "text": [
      "0.009748161\n",
      "     fun: 4.978680610656736e+98\n",
      " message: 'Optimization terminated successfully.'\n",
      "    nfev: 634\n",
      "     nit: 13\n",
      " success: True\n",
      "       x: array([350.78986458,   5.08269572,  96.27216932])\n",
      "[351   5  96]\n",
      "0.0010497868\n"
     ]
    }
   ],
   "source": [
    "x_0 = [100, 10, 100]\n",
    "max_delta_E = 1e-3\n",
    "model = xgb_model\n",
    "model_pred_func = lambda x: delta_E_prediction(x, model, GeTe_encoding)\n",
    "\n",
    "nonlin_constraint = NonlinearConstraint(lambda x: delta_E_prediction(x, model), 0, max_delta_E)\n",
    "# lin_constraint = LinearConstraint(A=np.eye(3), lb=np.array([1,0,1]), ub=np.array([1000,0.5,1000]))\n",
    "\n",
    "print(model_pred_func(x_0))\n",
    "\n",
    "mu = 1e100\n",
    "pen_func = lambda x: complexity(x) + mu * max(model_pred_func(x) - max_delta_E, 0) / max_delta_E\n",
    "res = differential_evolution(\n",
    "    pen_func,\n",
    "    bounds=[\n",
    "        (X_raw[\"ecutrho\"].min(),X_raw[\"ecutrho\"].max()), \n",
    "        (X_raw[\"k_density\"].min(), X_raw[\"k_density\"].max()),\n",
    "        (X_raw[\"ecutwfc\"].min(),X_raw[\"ecutwfc\"].max())\n",
    "    ],\n",
    "    seed=0,\n",
    ")\n",
    "\n",
    "print(res)\n",
    "print(sanitize_input(res.x))\n",
    "\n",
    "print(model_pred_func(res.x))\n",
    "\n",
    "# codes below don't work\n",
    "\n",
    "# minimize(complexity, x_0, constraints=[nonlin_constraint, lin_constraint])\n",
    "\n",
    "# res = minimize(complexity, x0=x_0, bounds=[(1,1000), (1e-16,0.5), (1,1000)],\n",
    "#     constraints=({'type': 'ineq', 'fun': lambda x: delta_E_prediction(x, model)},\n",
    "#                  {'type': 'ineq', 'fun': lambda x: -delta_E_prediction(x, model) + max_delta_E}),\n",
    "#     options={'maxiter': 1000},\n",
    "# )\n"
   ]
  },
  {
   "cell_type": "markdown",
   "id": "9b573723",
   "metadata": {},
   "source": [
    "### Minimize complexity using $log(\\Delta E)$ regressors"
   ]
  },
  {
   "cell_type": "code",
   "execution_count": 36,
   "id": "c672096e",
   "metadata": {},
   "outputs": [
    {
     "name": "stdout",
     "output_type": "stream",
     "text": [
      "     fun: 234.28254414736665\n",
      " message: 'Optimization terminated successfully.'\n",
      "    nfev: 1362\n",
      "     nit: 29\n",
      " success: True\n",
      "       x: array([140.09685549,   4.00765351,  90.17803515])\n",
      "[140   4  90]\n",
      "3.182105950827463e-06\n"
     ]
    }
   ],
   "source": [
    "max_delta_E = 1e-5\n",
    "model_log = xgb_log_model\n",
    "model_log_pred_func = lambda x: log_transform.inverse_transform(delta_E_prediction(x, model_log, GeTe_encoding))\n",
    "\n",
    "mu = 1e100\n",
    "pen_func = lambda x: complexity(x) + mu * max(model_log_pred_func(x) - max_delta_E, 0) / max_delta_E\n",
    "res = differential_evolution(\n",
    "    pen_func,\n",
    "    bounds=[\n",
    "        (X_raw[\"ecutrho\"].min(),X_raw[\"ecutrho\"].max()), \n",
    "        (X_raw[\"k_density\"].min(), X_raw[\"k_density\"].max()),\n",
    "        (X_raw[\"ecutwfc\"].min(),X_raw[\"ecutwfc\"].max())\n",
    "    ],\n",
    "    seed=0,\n",
    ")\n",
    "\n",
    "print(res)\n",
    "print(sanitize_input(res.x))\n",
    "\n",
    "print(model_log_pred_func(res.x))"
   ]
  },
  {
   "cell_type": "markdown",
   "id": "782e206d",
   "metadata": {},
   "source": [
    "### Compare predicted parameters to the ones in datasets"
   ]
  },
  {
   "cell_type": "code",
   "execution_count": 37,
   "id": "3f47ae8d",
   "metadata": {},
   "outputs": [],
   "source": [
    "from sklearn.neighbors import NearestNeighbors"
   ]
  },
  {
   "cell_type": "code",
   "execution_count": 38,
   "id": "2b569261",
   "metadata": {},
   "outputs": [],
   "source": [
    "def find_neighbors(X, y, params, structure_encoding):\n",
    "    # TODO define a good distance metric for params\n",
    "    \n",
    "    n_params = len(params)\n",
    "\n",
    "    # get all rows with the same structure\n",
    "    mask_same_struct = (X.values[:,n_params:] == structure_encoding).all(axis=1)\n",
    "    df_same_struct = X.iloc[mask_same_struct,:n_params]\n",
    "    y_same_struct = y[mask_same_struct]\n",
    "\n",
    "    # normalize the dataset in order to put the same importance to all parameters\n",
    "    min_df, max_df = df_same_struct.min(), df_same_struct.max()\n",
    "    df_same_struct = (df_same_struct - min_df) / (max_df - min_df)\n",
    "    params = (params - min_df) / (max_df - min_df)\n",
    "\n",
    "    knn = NearestNeighbors(n_neighbors=10, algorithm='auto')\n",
    "    knn.fit(df_same_struct)\n",
    "    dist, idx = knn.kneighbors([params], 10)\n",
    "    list_dist_delta_E = [*zip(dist[0], list(y_same_struct.iloc[idx[0]]))]\n",
    "    return pd.DataFrame(list_dist_delta_E, columns=[\"dist\", \"delta_E\"])"
   ]
  },
  {
   "cell_type": "code",
   "execution_count": 39,
   "id": "edac4eee",
   "metadata": {},
   "outputs": [
    {
     "data": {
      "text/html": [
       "<div>\n",
       "<style scoped>\n",
       "    .dataframe tbody tr th:only-of-type {\n",
       "        vertical-align: middle;\n",
       "    }\n",
       "\n",
       "    .dataframe tbody tr th {\n",
       "        vertical-align: top;\n",
       "    }\n",
       "\n",
       "    .dataframe thead th {\n",
       "        text-align: right;\n",
       "    }\n",
       "</style>\n",
       "<table border=\"1\" class=\"dataframe\">\n",
       "  <thead>\n",
       "    <tr style=\"text-align: right;\">\n",
       "      <th></th>\n",
       "      <th>dist</th>\n",
       "      <th>delta_E</th>\n",
       "    </tr>\n",
       "  </thead>\n",
       "  <tbody>\n",
       "    <tr>\n",
       "      <th>0</th>\n",
       "      <td>0.000E+00</td>\n",
       "      <td>4.330E-06</td>\n",
       "    </tr>\n",
       "    <tr>\n",
       "      <th>1</th>\n",
       "      <td>7.143E-02</td>\n",
       "      <td>8.914E-05</td>\n",
       "    </tr>\n",
       "    <tr>\n",
       "      <th>2</th>\n",
       "      <td>1.429E-01</td>\n",
       "      <td>4.340E-06</td>\n",
       "    </tr>\n",
       "    <tr>\n",
       "      <th>3</th>\n",
       "      <td>1.429E-01</td>\n",
       "      <td>1.239E-04</td>\n",
       "    </tr>\n",
       "    <tr>\n",
       "      <th>4</th>\n",
       "      <td>1.597E-01</td>\n",
       "      <td>9.721E-05</td>\n",
       "    </tr>\n",
       "    <tr>\n",
       "      <th>5</th>\n",
       "      <td>2.020E-01</td>\n",
       "      <td>1.317E-04</td>\n",
       "    </tr>\n",
       "    <tr>\n",
       "      <th>6</th>\n",
       "      <td>2.020E-01</td>\n",
       "      <td>1.312E-02</td>\n",
       "    </tr>\n",
       "    <tr>\n",
       "      <th>7</th>\n",
       "      <td>2.143E-01</td>\n",
       "      <td>1.276E-04</td>\n",
       "    </tr>\n",
       "    <tr>\n",
       "      <th>8</th>\n",
       "      <td>2.500E-01</td>\n",
       "      <td>1.646E-03</td>\n",
       "    </tr>\n",
       "    <tr>\n",
       "      <th>9</th>\n",
       "      <td>2.500E-01</td>\n",
       "      <td>1.481E-01</td>\n",
       "    </tr>\n",
       "  </tbody>\n",
       "</table>\n",
       "</div>"
      ],
      "text/plain": [
       "       dist   delta_E\n",
       "0 0.000E+00 4.330E-06\n",
       "1 7.143E-02 8.914E-05\n",
       "2 1.429E-01 4.340E-06\n",
       "3 1.429E-01 1.239E-04\n",
       "4 1.597E-01 9.721E-05\n",
       "5 2.020E-01 1.317E-04\n",
       "6 2.020E-01 1.312E-02\n",
       "7 2.143E-01 1.276E-04\n",
       "8 2.500E-01 1.646E-03\n",
       "9 2.500E-01 1.481E-01"
      ]
     },
     "execution_count": 39,
     "metadata": {},
     "output_type": "execute_result"
    }
   ],
   "source": [
    "find_neighbors(X_raw, y_raw, sanitize_input(res.x), GeTe_encoding)"
   ]
  },
  {
   "cell_type": "markdown",
   "id": "b3b4a8cd",
   "metadata": {},
   "source": [
    "# Testing model generalization on unseen structures"
   ]
  },
  {
   "cell_type": "code",
   "execution_count": 40,
   "id": "e945c2ed",
   "metadata": {},
   "outputs": [],
   "source": [
    "# find the index of the first encoding column\n",
    "if encoding in [\"column\", \"column_mass\"]:\n",
    "    enc_first_idx = next((i for i, col in enumerate(df.columns) if \"PTC\" in col), None)\n",
    "elif encoding == \"atomic\":\n",
    "    enc_first_idx = next((i for i, col in enumerate(df.columns) if col in PERIODIC_TABLE_INFO), None)"
   ]
  },
  {
   "cell_type": "code",
   "execution_count": 41,
   "id": "814e23cf",
   "metadata": {},
   "outputs": [],
   "source": [
    "# # selecting species for training and testing\n",
    "p = 0.2\n",
    "\n",
    "# col_max_nonzero = df.columns[enc_first_idx + np.argmax(np.count_nonzero(df.iloc[:, enc_first_idx:], axis=0))]\n",
    "# species_col_max = df[df[col_max_nonzero] > 0][\"structure\"].unique()\n",
    "# species_test_set = np.random.choice(species_col_max, size=int(p*len(species_col_max)))\n",
    "\n",
    "species_test_set = np.random.choice(df[\"structure\"].unique(), size=int(p*len(df[\"structure\"].unique())))\n",
    "\n",
    "species_train_set = [s for s in df[\"structure\"].unique() if s not in species_test_set]"
   ]
  },
  {
   "cell_type": "code",
   "execution_count": 42,
   "id": "3f419450",
   "metadata": {},
   "outputs": [],
   "source": [
    "X_train_gen = df[df[\"converged\"]][df[\"structure\"].isin(species_train_set)][cols_dependent]\n",
    "y_train_gen = np.abs(df[df[\"converged\"]][df[\"structure\"].isin(species_train_set)][cols_independent]).squeeze()\n",
    "logy_train_gen = log_transform.transform(np.abs(df[df[\"converged\"]][df[\"structure\"].isin(species_train_set)][cols_independent]).squeeze())\n",
    "X_test_gen = df[df[\"converged\"]][df[\"structure\"].isin(species_test_set)][cols_dependent]\n",
    "y_test_gen = np.abs(df[df[\"converged\"]][df[\"structure\"].isin(species_test_set)][cols_independent]).squeeze()\n",
    "logy_test_gen = log_transform.transform(np.abs(df[df[\"converged\"]][df[\"structure\"].isin(species_test_set)][cols_independent]).squeeze())"
   ]
  },
  {
   "cell_type": "code",
   "execution_count": 43,
   "id": "b05b5902",
   "metadata": {},
   "outputs": [],
   "source": [
    "rf_model_gen = RandomForestRegressor(random_state=0)\n",
    "xgb_model_gen = xgb.XGBRegressor(n_estimators=5000, learning_rate=0.05, random_state=0, tree_method=\"gpu_hist\")\n",
    "rf_model_gen_log = RandomForestRegressor(random_state=0)\n",
    "xgb_model_gen_log = xgb.XGBRegressor(n_estimators=5000, learning_rate=0.05, random_state=0, tree_method=\"gpu_hist\")"
   ]
  },
  {
   "cell_type": "code",
   "execution_count": 44,
   "id": "23a558ba",
   "metadata": {},
   "outputs": [],
   "source": [
    "models_gen = {\n",
    "    \"Random Forest - Gen\": rf_model_gen,\n",
    "    \"XGBoost - Gen\": xgb_model_gen,\n",
    "}\n",
    "models_gen_log = {\n",
    "    \"Random Forest - Log - Gen\": rf_model_gen_log,\n",
    "    \"XGBoost - Log - Gen\": xgb_model_gen_log,\n",
    "}"
   ]
  },
  {
   "cell_type": "code",
   "execution_count": 45,
   "id": "4a6ddf9c",
   "metadata": {},
   "outputs": [
    {
     "name": "stdout",
     "output_type": "stream",
     "text": [
      "Training Random Forest - Gen...\n",
      "Done!\n",
      "\n",
      "Training XGBoost - Gen...\n",
      "Done!\n",
      "\n"
     ]
    }
   ],
   "source": [
    "for model_name, model in models_gen.items():\n",
    "    print(f\"Training {model_name}...\")\n",
    "    model.fit(X_train_gen, y_train_gen)\n",
    "    print(\"Done!\\n\")"
   ]
  },
  {
   "cell_type": "code",
   "execution_count": 46,
   "id": "a4d8414d",
   "metadata": {},
   "outputs": [
    {
     "name": "stdout",
     "output_type": "stream",
     "text": [
      "Training Random Forest - Log - Gen...\n",
      "Done!\n",
      "\n",
      "Training XGBoost - Log - Gen...\n",
      "Done!\n",
      "\n"
     ]
    }
   ],
   "source": [
    "for model_name, model in models_gen_log.items():\n",
    "    print(f\"Training {model_name}...\")\n",
    "    model.fit(X_train_gen, logy_train_gen)\n",
    "    print(\"Done!\\n\")"
   ]
  },
  {
   "cell_type": "code",
   "execution_count": 47,
   "id": "b0170078",
   "metadata": {},
   "outputs": [
    {
     "name": "stdout",
     "output_type": "stream",
     "text": [
      "Evaluating Random Forest - Gen...\n",
      "MSE:\ttrain:7.9112E-07\ttest:5.4552E-03\n",
      "MAPE:\ttrain:2.0261E+08\ttest:3.9668E+10\n",
      "Done!\n",
      "\n",
      "Evaluating XGBoost - Gen...\n",
      "MSE:\ttrain:5.0880E-06\ttest:7.4134E-03\n",
      "MAPE:\ttrain:5.7660E+09\ttest:1.4583E+11\n",
      "Done!\n",
      "\n"
     ]
    }
   ],
   "source": [
    "for model_name, model in models_gen.items():\n",
    "    print(f\"Evaluating {model_name}...\")\n",
    "\n",
    "    y_pred_train = model.predict(X_train_gen)\n",
    "    y_pred_test = model.predict(X_test_gen)\n",
    "\n",
    "    mse_test = mean_squared_error(y_test_gen, y_pred_test)\n",
    "    mse_train = mean_squared_error(y_train_gen, y_pred_train)\n",
    "    print(f\"MSE:\\ttrain:{mse_train:.4E}\\ttest:{mse_test:.4E}\")\n",
    "\n",
    "    mape_test = mean_absolute_percentage_error(y_test_gen, y_pred_test)\n",
    "    mape_train = mean_absolute_percentage_error(y_train_gen, y_pred_train)\n",
    "    print(f\"MAPE:\\ttrain:{mape_train:.4E}\\ttest:{mape_test:.4E}\")\n",
    "\n",
    "    print(\"Done!\\n\")"
   ]
  },
  {
   "cell_type": "code",
   "execution_count": 48,
   "id": "48479e3d",
   "metadata": {},
   "outputs": [
    {
     "name": "stdout",
     "output_type": "stream",
     "text": [
      "Evaluating Random Forest - Log - Gen...\n",
      "MSE:\ttrain:2.4224E-02\ttest:5.5602E+00\n",
      "MSE:\ttrain:6.3093E-06\ttest:3.6624E-03\n",
      "MAPE:\ttrain:4.0388E-03\ttest:2.9591E-01\n",
      "Done!\n",
      "\n",
      "Evaluating XGBoost - Log - Gen...\n",
      "MSE:\ttrain:4.1365E-02\ttest:4.0247E+00\n",
      "MSE:\ttrain:1.5632E-04\ttest:6.9757E-03\n",
      "MAPE:\ttrain:2.1621E-02\ttest:3.0130E-01\n",
      "Done!\n",
      "\n"
     ]
    }
   ],
   "source": [
    "for model_name, model in models_gen_log.items():\n",
    "    print(f\"Evaluating {model_name}...\")\n",
    "\n",
    "    logy_pred_train = model.predict(X_train_gen)\n",
    "    y_pred_train = log_transform.inverse_transform(logy_pred_train.squeeze())\n",
    "    logy_pred_test = model.predict(X_test_gen)\n",
    "    y_pred_test = log_transform.inverse_transform(logy_pred_test.squeeze())\n",
    "    \n",
    "    mse_test = mean_squared_error(logy_test_gen, logy_pred_test)\n",
    "    mse_train = mean_squared_error(logy_train_gen, logy_pred_train)\n",
    "    print(f\"MSE:\\ttrain:{mse_train:.4E}\\ttest:{mse_test:.4E}\")\n",
    "    \n",
    "    mse_test = mean_squared_error(y_test_gen, y_pred_test)\n",
    "    mse_train = mean_squared_error(y_train_gen, y_pred_train)\n",
    "    print(f\"MSE:\\ttrain:{mse_train:.4E}\\ttest:{mse_test:.4E}\")\n",
    "\n",
    "    mape_test = mean_absolute_percentage_error(logy_test_gen, logy_pred_test)\n",
    "    mape_train = mean_absolute_percentage_error(logy_train_gen, logy_pred_train)\n",
    "    print(f\"MAPE:\\ttrain:{mape_train:.4E}\\ttest:{mape_test:.4E}\")\n",
    "\n",
    "    print(\"Done!\\n\")"
   ]
  },
  {
   "cell_type": "markdown",
   "id": "9d1053dc",
   "metadata": {},
   "source": [
    "## Compare $\\Delta E$ and $\\log(\\Delta E)$ predictions"
   ]
  },
  {
   "cell_type": "code",
   "execution_count": 49,
   "id": "001bd916",
   "metadata": {},
   "outputs": [
    {
     "data": {
      "text/html": [
       "<div>\n",
       "<style scoped>\n",
       "    .dataframe tbody tr th:only-of-type {\n",
       "        vertical-align: middle;\n",
       "    }\n",
       "\n",
       "    .dataframe tbody tr th {\n",
       "        vertical-align: top;\n",
       "    }\n",
       "\n",
       "    .dataframe thead th {\n",
       "        text-align: right;\n",
       "    }\n",
       "</style>\n",
       "<table border=\"1\" class=\"dataframe\">\n",
       "  <thead>\n",
       "    <tr style=\"text-align: right;\">\n",
       "      <th></th>\n",
       "      <th>real</th>\n",
       "      <th>Random Forest - Gen</th>\n",
       "      <th>XGBoost - Gen</th>\n",
       "      <th>Random Forest - Log - Gen</th>\n",
       "      <th>XGBoost - Log - Gen</th>\n",
       "    </tr>\n",
       "  </thead>\n",
       "  <tbody>\n",
       "    <tr>\n",
       "      <th>0</th>\n",
       "      <td>3.864E-03</td>\n",
       "      <td>2.801E-03</td>\n",
       "      <td>9.792E-04</td>\n",
       "      <td>4.822E-03</td>\n",
       "      <td>3.456E-03</td>\n",
       "    </tr>\n",
       "    <tr>\n",
       "      <th>1</th>\n",
       "      <td>9.507E-02</td>\n",
       "      <td>5.783E-02</td>\n",
       "      <td>5.089E-02</td>\n",
       "      <td>5.302E-02</td>\n",
       "      <td>6.162E-02</td>\n",
       "    </tr>\n",
       "    <tr>\n",
       "      <th>2</th>\n",
       "      <td>9.017E-03</td>\n",
       "      <td>2.451E-02</td>\n",
       "      <td>3.338E-02</td>\n",
       "      <td>2.381E-02</td>\n",
       "      <td>3.651E-02</td>\n",
       "    </tr>\n",
       "    <tr>\n",
       "      <th>3</th>\n",
       "      <td>6.763E-02</td>\n",
       "      <td>1.128E-06</td>\n",
       "      <td>5.569E-02</td>\n",
       "      <td>4.779E-09</td>\n",
       "      <td>1.157E-02</td>\n",
       "    </tr>\n",
       "    <tr>\n",
       "      <th>4</th>\n",
       "      <td>4.848E-03</td>\n",
       "      <td>4.104E-03</td>\n",
       "      <td>2.714E-02</td>\n",
       "      <td>4.168E-03</td>\n",
       "      <td>2.359E-03</td>\n",
       "    </tr>\n",
       "    <tr>\n",
       "      <th>5</th>\n",
       "      <td>1.022E-04</td>\n",
       "      <td>3.413E-03</td>\n",
       "      <td>6.580E-04</td>\n",
       "      <td>3.910E-03</td>\n",
       "      <td>1.304E-03</td>\n",
       "    </tr>\n",
       "    <tr>\n",
       "      <th>6</th>\n",
       "      <td>6.971E-05</td>\n",
       "      <td>7.867E-05</td>\n",
       "      <td>1.379E-03</td>\n",
       "      <td>7.386E-05</td>\n",
       "      <td>3.457E-05</td>\n",
       "    </tr>\n",
       "    <tr>\n",
       "      <th>7</th>\n",
       "      <td>7.885E-03</td>\n",
       "      <td>7.671E-04</td>\n",
       "      <td>6.518E-03</td>\n",
       "      <td>7.585E-04</td>\n",
       "      <td>9.771E-04</td>\n",
       "    </tr>\n",
       "    <tr>\n",
       "      <th>8</th>\n",
       "      <td>6.643E-02</td>\n",
       "      <td>1.627E-02</td>\n",
       "      <td>1.684E-02</td>\n",
       "      <td>2.400E-05</td>\n",
       "      <td>1.434E-02</td>\n",
       "    </tr>\n",
       "    <tr>\n",
       "      <th>9</th>\n",
       "      <td>4.229E-03</td>\n",
       "      <td>5.787E-02</td>\n",
       "      <td>2.398E-02</td>\n",
       "      <td>1.343E-02</td>\n",
       "      <td>7.223E-04</td>\n",
       "    </tr>\n",
       "    <tr>\n",
       "      <th>10</th>\n",
       "      <td>1.517E-02</td>\n",
       "      <td>9.295E-03</td>\n",
       "      <td>1.330E-02</td>\n",
       "      <td>7.819E-03</td>\n",
       "      <td>1.467E-02</td>\n",
       "    </tr>\n",
       "    <tr>\n",
       "      <th>11</th>\n",
       "      <td>1.831E-04</td>\n",
       "      <td>2.344E-04</td>\n",
       "      <td>1.304E-03</td>\n",
       "      <td>2.258E-04</td>\n",
       "      <td>3.901E-04</td>\n",
       "    </tr>\n",
       "    <tr>\n",
       "      <th>12</th>\n",
       "      <td>3.435E-02</td>\n",
       "      <td>1.040E-03</td>\n",
       "      <td>1.661E-03</td>\n",
       "      <td>1.383E-02</td>\n",
       "      <td>7.883E-03</td>\n",
       "    </tr>\n",
       "    <tr>\n",
       "      <th>13</th>\n",
       "      <td>6.041E-01</td>\n",
       "      <td>6.356E-01</td>\n",
       "      <td>5.340E-01</td>\n",
       "      <td>6.234E-01</td>\n",
       "      <td>2.880E-01</td>\n",
       "    </tr>\n",
       "    <tr>\n",
       "      <th>14</th>\n",
       "      <td>1.240E-03</td>\n",
       "      <td>4.304E-03</td>\n",
       "      <td>3.038E-03</td>\n",
       "      <td>1.081E-03</td>\n",
       "      <td>6.814E-04</td>\n",
       "    </tr>\n",
       "    <tr>\n",
       "      <th>15</th>\n",
       "      <td>1.848E-02</td>\n",
       "      <td>1.075E-01</td>\n",
       "      <td>1.984E-02</td>\n",
       "      <td>3.369E-02</td>\n",
       "      <td>1.596E-03</td>\n",
       "    </tr>\n",
       "    <tr>\n",
       "      <th>16</th>\n",
       "      <td>3.621E-05</td>\n",
       "      <td>3.420E-03</td>\n",
       "      <td>-1.936E-03</td>\n",
       "      <td>3.133E-03</td>\n",
       "      <td>4.735E-04</td>\n",
       "    </tr>\n",
       "    <tr>\n",
       "      <th>17</th>\n",
       "      <td>9.025E-04</td>\n",
       "      <td>9.216E-04</td>\n",
       "      <td>1.037E-03</td>\n",
       "      <td>8.144E-04</td>\n",
       "      <td>5.528E-04</td>\n",
       "    </tr>\n",
       "    <tr>\n",
       "      <th>18</th>\n",
       "      <td>6.225E-03</td>\n",
       "      <td>1.597E-02</td>\n",
       "      <td>1.979E-02</td>\n",
       "      <td>8.624E-03</td>\n",
       "      <td>1.077E-02</td>\n",
       "    </tr>\n",
       "    <tr>\n",
       "      <th>19</th>\n",
       "      <td>1.020E-04</td>\n",
       "      <td>3.413E-03</td>\n",
       "      <td>6.680E-04</td>\n",
       "      <td>3.910E-03</td>\n",
       "      <td>1.526E-03</td>\n",
       "    </tr>\n",
       "  </tbody>\n",
       "</table>\n",
       "</div>"
      ],
      "text/plain": [
       "        real  Random Forest - Gen  XGBoost - Gen  Random Forest - Log - Gen  \\\n",
       "0  3.864E-03            2.801E-03      9.792E-04                  4.822E-03   \n",
       "1  9.507E-02            5.783E-02      5.089E-02                  5.302E-02   \n",
       "2  9.017E-03            2.451E-02      3.338E-02                  2.381E-02   \n",
       "3  6.763E-02            1.128E-06      5.569E-02                  4.779E-09   \n",
       "4  4.848E-03            4.104E-03      2.714E-02                  4.168E-03   \n",
       "5  1.022E-04            3.413E-03      6.580E-04                  3.910E-03   \n",
       "6  6.971E-05            7.867E-05      1.379E-03                  7.386E-05   \n",
       "7  7.885E-03            7.671E-04      6.518E-03                  7.585E-04   \n",
       "8  6.643E-02            1.627E-02      1.684E-02                  2.400E-05   \n",
       "9  4.229E-03            5.787E-02      2.398E-02                  1.343E-02   \n",
       "10 1.517E-02            9.295E-03      1.330E-02                  7.819E-03   \n",
       "11 1.831E-04            2.344E-04      1.304E-03                  2.258E-04   \n",
       "12 3.435E-02            1.040E-03      1.661E-03                  1.383E-02   \n",
       "13 6.041E-01            6.356E-01      5.340E-01                  6.234E-01   \n",
       "14 1.240E-03            4.304E-03      3.038E-03                  1.081E-03   \n",
       "15 1.848E-02            1.075E-01      1.984E-02                  3.369E-02   \n",
       "16 3.621E-05            3.420E-03     -1.936E-03                  3.133E-03   \n",
       "17 9.025E-04            9.216E-04      1.037E-03                  8.144E-04   \n",
       "18 6.225E-03            1.597E-02      1.979E-02                  8.624E-03   \n",
       "19 1.020E-04            3.413E-03      6.680E-04                  3.910E-03   \n",
       "\n",
       "    XGBoost - Log - Gen  \n",
       "0             3.456E-03  \n",
       "1             6.162E-02  \n",
       "2             3.651E-02  \n",
       "3             1.157E-02  \n",
       "4             2.359E-03  \n",
       "5             1.304E-03  \n",
       "6             3.457E-05  \n",
       "7             9.771E-04  \n",
       "8             1.434E-02  \n",
       "9             7.223E-04  \n",
       "10            1.467E-02  \n",
       "11            3.901E-04  \n",
       "12            7.883E-03  \n",
       "13            2.880E-01  \n",
       "14            6.814E-04  \n",
       "15            1.596E-03  \n",
       "16            4.735E-04  \n",
       "17            5.528E-04  \n",
       "18            1.077E-02  \n",
       "19            1.526E-03  "
      ]
     },
     "execution_count": 49,
     "metadata": {},
     "output_type": "execute_result"
    }
   ],
   "source": [
    "n_sample = 20\n",
    "idx_sample = np.random.choice(X_test_gen.shape[0], n_sample, replace=False)\n",
    "df_pred_samples = pd.DataFrame(index=np.arange(n_sample))\n",
    "df_pred_samples[\"real\"] = np.array(y_test_gen).squeeze()[idx_sample]\n",
    "\n",
    "for name, model in models_gen.items():\n",
    "    df_pred_samples[name] = model.predict(X_test_gen)[idx_sample]\n",
    "\n",
    "for name, model in models_gen_log.items():\n",
    "    df_pred_samples[name] = log_transform.inverse_transform(model.predict(X_test_gen)[idx_sample])\n",
    "\n",
    "pd.set_option('display.float_format', '{:.3E}'.format)\n",
    "df_pred_samples"
   ]
  }
 ],
 "metadata": {
  "kernelspec": {
   "display_name": "Python 3",
   "language": "python",
   "name": "python3"
  },
  "language_info": {
   "codemirror_mode": {
    "name": "ipython",
    "version": 3
   },
   "file_extension": ".py",
   "mimetype": "text/x-python",
   "name": "python",
   "nbconvert_exporter": "python",
   "pygments_lexer": "ipython3",
   "version": "3.8.8"
  }
 },
 "nbformat": 4,
 "nbformat_minor": 5
}
