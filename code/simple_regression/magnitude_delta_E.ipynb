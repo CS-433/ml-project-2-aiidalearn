{
 "cells": [
  {
   "cell_type": "code",
   "execution_count": 2,
   "id": "67efcdaf",
   "metadata": {},
   "outputs": [],
   "source": [
    "import os\n",
    "import sys\n",
    "from pathlib import Path\n",
    "\n",
    "import numpy as np\n",
    "import xgboost as xgb\n",
    "from rich.console import Console\n",
    "from sklearn.ensemble import RandomForestClassifier\n",
    "from sklearn.metrics import accuracy_score, mean_absolute_percentage_error\n",
    "\n",
    "ROOT_DIR = os.path.dirname(\n",
    "os.path.dirname(os.path.abspath('')))\n",
    "\n",
    "\n",
    "sys.path.append(os.path.join(ROOT_DIR, \"code\"))\n",
    "from tools.data_loader import TestSet, TestSplit, data_loader\n",
    "from tools.save import save_as_baseline, save_datasets, save_models\n",
    "from tools.train import evaluate_models, print_test_samples, train_models, print_problematic_samples\n",
    "from tools.utils import StructureEncoding, Target, check_xgboost_gpu\n",
    "\n",
    "# Define global variables\n",
    "DATA_DIR = os.path.join(ROOT_DIR, \"data/\")\n",
    "\n",
    "DATA_PATH = os.path.join(DATA_DIR, \"data.csv\")\n"
   ]
  },
  {
   "cell_type": "code",
   "execution_count": 3,
   "id": "50e18173",
   "metadata": {},
   "outputs": [
    {
     "data": {
      "text/html": [
       "<pre style=\"white-space:pre;overflow-x:auto;line-height:normal;font-family:Menlo,'DejaVu Sans Mono',consolas,'Courier New',monospace\"><span style=\"color: #008000; text-decoration-color: #008000\">⠇</span> Loading data\n",
       "</pre>\n"
      ],
      "text/plain": [
       "\u001b[32m⠇\u001b[0m Loading data\n"
      ]
     },
     "metadata": {},
     "output_type": "display_data"
    },
    {
     "data": {
      "text/html": [
       "<pre style=\"white-space:pre;overflow-x:auto;line-height:normal;font-family:Menlo,'DejaVu Sans Mono',consolas,'Courier New',monospace\"></pre>\n"
      ],
      "text/plain": []
     },
     "metadata": {},
     "output_type": "display_data"
    },
    {
     "data": {
      "text/html": [
       "<pre style=\"white-space:pre;overflow-x:auto;line-height:normal;font-family:Menlo,'DejaVu Sans Mono',consolas,'Courier New',monospace\">╭───────── Loaded Dataset ─────────╮\n",
       "│ Train set: 80%                   │\n",
       "│ Test set 0 (Parameter gen.): 10% │\n",
       "│ Test set 1 (Structure gen.): 10% │\n",
       "│ Total datapoints: 539583         │\n",
       "│ Size: ~388.5MB                   │\n",
       "╰──────────────────────────────────╯\n",
       "</pre>\n"
      ],
      "text/plain": [
       "╭───────── Loaded Dataset ─────────╮\n",
       "│ Train set: 80%                   │\n",
       "│ Test set 0 (Parameter gen.): 10% │\n",
       "│ Test set 1 (Structure gen.): 10% │\n",
       "│ Total datapoints: 539583         │\n",
       "│ Size: ~388.5MB                   │\n",
       "╰──────────────────────────────────╯\n"
      ]
     },
     "metadata": {},
     "output_type": "display_data"
    }
   ],
   "source": [
    "console = Console(record=True)\n",
    "prompt_user = False\n",
    "\n",
    "encoding = StructureEncoding.ATOMIC\n",
    "\n",
    "console.log(f\"[bold green]Started pipeline for {encoding}\")\n",
    "target = Target.DELTA_E\n",
    "test_sets_cfg = [\n",
    "    TestSet(\"Parameter gen.\", size=0.1, split=TestSplit.ROW),\n",
    "    TestSet(\"Structure gen.\", size=0.1, split=TestSplit.STRUCTURE),\n",
    "]\n",
    "\n",
    "# Data Loading\n",
    "X_train, y_train, test_sets = data_loader(\n",
    "    target=target,\n",
    "    encoding=encoding,\n",
    "    data_path=DATA_PATH,\n",
    "    test_sets_cfg=test_sets_cfg,\n",
    "    console=console,\n",
    "    remove_ref_rows=True,\n",
    ")"
   ]
  },
  {
   "cell_type": "code",
   "execution_count": 31,
   "id": "93950046",
   "metadata": {},
   "outputs": [],
   "source": [
    "base = 10\n",
    "def magnitude(x):\n",
    "    return int(np.ceil(np.log(x) / np.log(base)))\n",
    "\n",
    "def magnitude_inv(x):\n",
    "    return base**float(x-1)\n",
    "    # for the regression transformation, taking the prediction minus 1 yields way better MAPE scores\n",
    "    # I think that's because predicting a result with an order of magnitude superior to the actual value\n",
    "    # yields an APE error of 10 (1000%) while predicting a result with an order of magnitude inferior to the actual value\n",
    "    # yields an APE error of at most 1 (100%)\n",
    "\n",
    "def magnitude_transform(a):\n",
    "    return np.vectorize(magnitude)(a)\n",
    "\n",
    "def magnitude_inv_transform(a):\n",
    "    return np.vectorize(magnitude_inv)(a)"
   ]
  },
  {
   "cell_type": "code",
   "execution_count": 23,
   "id": "78b16ff2",
   "metadata": {},
   "outputs": [
    {
     "data": {
      "text/plain": [
       "-5"
      ]
     },
     "execution_count": 23,
     "metadata": {},
     "output_type": "execute_result"
    }
   ],
   "source": [
    "x = 1E-6\n",
    "magnitude(x)"
   ]
  },
  {
   "cell_type": "code",
   "execution_count": 24,
   "id": "85f40906",
   "metadata": {},
   "outputs": [],
   "source": [
    "magnitude_y_train = magnitude_transform(y_train)"
   ]
  },
  {
   "cell_type": "code",
   "execution_count": 25,
   "id": "a066e1d2",
   "metadata": {},
   "outputs": [
    {
     "name": "stdout",
     "output_type": "stream",
     "text": [
      "max magnitude:  1\n",
      "min magnitude:  -8\n"
     ]
    }
   ],
   "source": [
    "print(\"max magnitude: \", np.max(magnitude_y_train))\n",
    "print(\"min magnitude: \", np.min(magnitude_y_train))"
   ]
  },
  {
   "cell_type": "code",
   "execution_count": 26,
   "id": "20699da3",
   "metadata": {},
   "outputs": [
    {
     "data": {
      "text/plain": [
       "RandomForestClassifier()"
      ]
     },
     "execution_count": 26,
     "metadata": {},
     "output_type": "execute_result"
    }
   ],
   "source": [
    "model = RandomForestClassifier()\n",
    "model.fit(X_train, magnitude_y_train)"
   ]
  },
  {
   "cell_type": "code",
   "execution_count": 32,
   "id": "0ee803ab",
   "metadata": {},
   "outputs": [
    {
     "data": {
      "text/html": [
       "<pre style=\"white-space:pre;overflow-x:auto;line-height:normal;font-family:Menlo,'DejaVu Sans Mono',consolas,'Courier New',monospace\">Accuracy Parameter gen.: <span style=\"color: #008080; text-decoration-color: #008080; font-weight: bold\">0.9729048519218652</span>\n",
       "</pre>\n"
      ],
      "text/plain": [
       "Accuracy Parameter gen.: \u001b[1;36m0.9729048519218652\u001b[0m\n"
      ]
     },
     "metadata": {},
     "output_type": "display_data"
    },
    {
     "data": {
      "text/html": [
       "<pre style=\"white-space:pre;overflow-x:auto;line-height:normal;font-family:Menlo,'DejaVu Sans Mono',consolas,'Courier New',monospace\">MAPE Parameter gen.: <span style=\"color: #008080; text-decoration-color: #008080; font-weight: bold\">0.7185956245378649</span>\n",
       "</pre>\n"
      ],
      "text/plain": [
       "MAPE Parameter gen.: \u001b[1;36m0.7185956245378649\u001b[0m\n"
      ]
     },
     "metadata": {},
     "output_type": "display_data"
    },
    {
     "data": {
      "text/html": [
       "<pre style=\"white-space:pre;overflow-x:auto;line-height:normal;font-family:Menlo,'DejaVu Sans Mono',consolas,'Courier New',monospace\">Accuracy Structure gen.: <span style=\"color: #008080; text-decoration-color: #008080; font-weight: bold\">0.6881515545702717</span>\n",
       "</pre>\n"
      ],
      "text/plain": [
       "Accuracy Structure gen.: \u001b[1;36m0.6881515545702717\u001b[0m\n"
      ]
     },
     "metadata": {},
     "output_type": "display_data"
    },
    {
     "data": {
      "text/html": [
       "<pre style=\"white-space:pre;overflow-x:auto;line-height:normal;font-family:Menlo,'DejaVu Sans Mono',consolas,'Courier New',monospace\">MAPE Structure gen.: <span style=\"color: #008080; text-decoration-color: #008080; font-weight: bold\">5.207941311082237</span>\n",
       "</pre>\n"
      ],
      "text/plain": [
       "MAPE Structure gen.: \u001b[1;36m5.207941311082237\u001b[0m\n"
      ]
     },
     "metadata": {},
     "output_type": "display_data"
    }
   ],
   "source": [
    "for test_name, X_test, y_test in test_sets:\n",
    "    magnitude_y_pred = model.predict(X_test)\n",
    "    magnitude_y_test = magnitude_transform(y_test)\n",
    "    score = accuracy_score(magnitude_y_test, magnitude_y_pred)\n",
    "    mape = mean_absolute_percentage_error(y_test, magnitude_inv_transform(magnitude_y_pred))\n",
    "    console.print(f\"Accuracy {test_name}: {score}\")\n",
    "    console.print(f\"MAPE {test_name}: {mape}\")"
   ]
  },
  {
   "cell_type": "code",
   "execution_count": 33,
   "id": "dd3355c1",
   "metadata": {},
   "outputs": [],
   "source": [
    "class RegModel:\n",
    "    def __init__(self, class_model):\n",
    "        self.class_model = class_model\n",
    "\n",
    "    def predict(self, X):\n",
    "        return magnitude_inv_transform(self.class_model.predict(X))\n",
    "reg_models = {\"RandomForest\": RegModel(model)}"
   ]
  },
  {
   "cell_type": "code",
   "execution_count": 34,
   "id": "952e9de5",
   "metadata": {},
   "outputs": [
    {
     "data": {
      "text/html": [
       "<pre style=\"white-space:pre;overflow-x:auto;line-height:normal;font-family:Menlo,'DejaVu Sans Mono',consolas,'Courier New',monospace\"><span style=\"color: #008000; text-decoration-color: #008000\">⠦</span> <span style=\"color: #000080; text-decoration-color: #000080; font-weight: bold\">Evaluating RandomForest...</span>\n",
       "</pre>\n"
      ],
      "text/plain": [
       "\u001b[32m⠦\u001b[0m \u001b[1;34mEvaluating RandomForest...\u001b[0m\n"
      ]
     },
     "metadata": {},
     "output_type": "display_data"
    },
    {
     "data": {
      "text/html": [
       "<pre style=\"white-space:pre;overflow-x:auto;line-height:normal;font-family:Menlo,'DejaVu Sans Mono',consolas,'Courier New',monospace\"><span style=\"font-style: italic\">                                RandomForest                                </span>\n",
       "┏━━━━━━━━━━━━━┳━━━━━━━━━━━━┳━━━━━━━━━━━━━━━━━━━━━━━┳━━━━━━━━━━━━━━━━━━━━━━━┓\n",
       "┃<span style=\"font-weight: bold\">  Loss name  </span>┃<span style=\"font-weight: bold\">   Train    </span>┃<span style=\"font-weight: bold\"> Test - Parameter gen. </span>┃<span style=\"font-weight: bold\"> Test - Structure gen. </span>┃\n",
       "┡━━━━━━━━━━━━━╇━━━━━━━━━━━━╇━━━━━━━━━━━━━━━━━━━━━━━╇━━━━━━━━━━━━━━━━━━━━━━━┩\n",
       "│<span style=\"color: #008080; text-decoration-color: #008080\">     MSE     </span>│<span style=\"color: #008000; text-decoration-color: #008000\"> 1.5919E-02 </span>│<span style=\"color: #008000; text-decoration-color: #008000\">      1.4919E-02       </span>│<span style=\"color: #008000; text-decoration-color: #008000\">      1.8785E-02       </span>│\n",
       "│<span style=\"color: #008080; text-decoration-color: #008080\">     MAE     </span>│<span style=\"color: #008000; text-decoration-color: #008000\"> 3.0425E-02 </span>│<span style=\"color: #008000; text-decoration-color: #008000\">      2.9755E-02       </span>│<span style=\"color: #008000; text-decoration-color: #008000\">      3.5115E-02       </span>│\n",
       "│<span style=\"color: #008080; text-decoration-color: #008080\">    MAPE     </span>│<span style=\"color: #008000; text-decoration-color: #008000\"> 6.1643E-01 </span>│<span style=\"color: #008000; text-decoration-color: #008000\">      7.1860E-01       </span>│<span style=\"color: #008000; text-decoration-color: #008000\">      5.2079E+00       </span>│\n",
       "│<span style=\"color: #008080; text-decoration-color: #008080\"> Custom MAPE </span>│<span style=\"color: #008000; text-decoration-color: #008000\"> 1.5482E+01 </span>│<span style=\"color: #008000; text-decoration-color: #008000\">      7.4086E-01       </span>│<span style=\"color: #008000; text-decoration-color: #008000\">      5.7084E+00       </span>│\n",
       "│<span style=\"color: #008080; text-decoration-color: #008080\">   50%-APE   </span>│<span style=\"color: #008000; text-decoration-color: #008000\"> 6.9475E-01 </span>│<span style=\"color: #008000; text-decoration-color: #008000\">      6.9505E-01       </span>│<span style=\"color: #008000; text-decoration-color: #008000\">      7.5448E-01       </span>│\n",
       "│<span style=\"color: #008080; text-decoration-color: #008080\">   90%-APE   </span>│<span style=\"color: #008000; text-decoration-color: #008000\"> 8.7405E-01 </span>│<span style=\"color: #008000; text-decoration-color: #008000\">      8.7622E-01       </span>│<span style=\"color: #008000; text-decoration-color: #008000\">      1.0661E+00       </span>│\n",
       "└─────────────┴────────────┴───────────────────────┴───────────────────────┘\n",
       "</pre>\n"
      ],
      "text/plain": [
       "\u001b[3m                                RandomForest                                \u001b[0m\n",
       "┏━━━━━━━━━━━━━┳━━━━━━━━━━━━┳━━━━━━━━━━━━━━━━━━━━━━━┳━━━━━━━━━━━━━━━━━━━━━━━┓\n",
       "┃\u001b[1m \u001b[0m\u001b[1m Loss name \u001b[0m\u001b[1m \u001b[0m┃\u001b[1m \u001b[0m\u001b[1m  Train   \u001b[0m\u001b[1m \u001b[0m┃\u001b[1m \u001b[0m\u001b[1mTest - Parameter gen.\u001b[0m\u001b[1m \u001b[0m┃\u001b[1m \u001b[0m\u001b[1mTest - Structure gen.\u001b[0m\u001b[1m \u001b[0m┃\n",
       "┡━━━━━━━━━━━━━╇━━━━━━━━━━━━╇━━━━━━━━━━━━━━━━━━━━━━━╇━━━━━━━━━━━━━━━━━━━━━━━┩\n",
       "│\u001b[36m \u001b[0m\u001b[36m    MSE    \u001b[0m\u001b[36m \u001b[0m│\u001b[32m \u001b[0m\u001b[32m1.5919E-02\u001b[0m\u001b[32m \u001b[0m│\u001b[32m \u001b[0m\u001b[32m     1.4919E-02      \u001b[0m\u001b[32m \u001b[0m│\u001b[32m \u001b[0m\u001b[32m     1.8785E-02      \u001b[0m\u001b[32m \u001b[0m│\n",
       "│\u001b[36m \u001b[0m\u001b[36m    MAE    \u001b[0m\u001b[36m \u001b[0m│\u001b[32m \u001b[0m\u001b[32m3.0425E-02\u001b[0m\u001b[32m \u001b[0m│\u001b[32m \u001b[0m\u001b[32m     2.9755E-02      \u001b[0m\u001b[32m \u001b[0m│\u001b[32m \u001b[0m\u001b[32m     3.5115E-02      \u001b[0m\u001b[32m \u001b[0m│\n",
       "│\u001b[36m \u001b[0m\u001b[36m   MAPE    \u001b[0m\u001b[36m \u001b[0m│\u001b[32m \u001b[0m\u001b[32m6.1643E-01\u001b[0m\u001b[32m \u001b[0m│\u001b[32m \u001b[0m\u001b[32m     7.1860E-01      \u001b[0m\u001b[32m \u001b[0m│\u001b[32m \u001b[0m\u001b[32m     5.2079E+00      \u001b[0m\u001b[32m \u001b[0m│\n",
       "│\u001b[36m \u001b[0m\u001b[36mCustom MAPE\u001b[0m\u001b[36m \u001b[0m│\u001b[32m \u001b[0m\u001b[32m1.5482E+01\u001b[0m\u001b[32m \u001b[0m│\u001b[32m \u001b[0m\u001b[32m     7.4086E-01      \u001b[0m\u001b[32m \u001b[0m│\u001b[32m \u001b[0m\u001b[32m     5.7084E+00      \u001b[0m\u001b[32m \u001b[0m│\n",
       "│\u001b[36m \u001b[0m\u001b[36m  50%-APE  \u001b[0m\u001b[36m \u001b[0m│\u001b[32m \u001b[0m\u001b[32m6.9475E-01\u001b[0m\u001b[32m \u001b[0m│\u001b[32m \u001b[0m\u001b[32m     6.9505E-01      \u001b[0m\u001b[32m \u001b[0m│\u001b[32m \u001b[0m\u001b[32m     7.5448E-01      \u001b[0m\u001b[32m \u001b[0m│\n",
       "│\u001b[36m \u001b[0m\u001b[36m  90%-APE  \u001b[0m\u001b[36m \u001b[0m│\u001b[32m \u001b[0m\u001b[32m8.7405E-01\u001b[0m\u001b[32m \u001b[0m│\u001b[32m \u001b[0m\u001b[32m     8.7622E-01      \u001b[0m\u001b[32m \u001b[0m│\u001b[32m \u001b[0m\u001b[32m     1.0661E+00      \u001b[0m\u001b[32m \u001b[0m│\n",
       "└─────────────┴────────────┴───────────────────────┴───────────────────────┘\n"
      ]
     },
     "metadata": {},
     "output_type": "display_data"
    },
    {
     "data": {
      "text/html": [
       "<pre style=\"white-space:pre;overflow-x:auto;line-height:normal;font-family:Menlo,'DejaVu Sans Mono',consolas,'Courier New',monospace\"></pre>\n"
      ],
      "text/plain": []
     },
     "metadata": {},
     "output_type": "display_data"
    }
   ],
   "source": [
    "evaluate_models(reg_models, X_train, y_train, test_sets, console)"
   ]
  },
  {
   "cell_type": "code",
   "execution_count": 35,
   "id": "1ffbbaf0",
   "metadata": {},
   "outputs": [
    {
     "data": {
      "text/html": [
       "<pre style=\"white-space:pre;overflow-x:auto;line-height:normal;font-family:Menlo,'DejaVu Sans Mono',consolas,'Courier New',monospace\"><span style=\"font-style: italic\">  Test samples - Parameter  </span>\n",
       "<span style=\"font-style: italic\">            gen.            </span>\n",
       "┏━━━━━━━━━━━┳━━━━━━━━━━━━━━┓\n",
       "┃<span style=\"font-weight: bold\">   Real    </span>┃<span style=\"font-weight: bold\"> RandomForest </span>┃\n",
       "┡━━━━━━━━━━━╇━━━━━━━━━━━━━━┩\n",
       "│<span style=\"color: #008000; text-decoration-color: #008000\"> 6.400E-01 </span>│<span style=\"color: #808000; text-decoration-color: #808000\">  1.000E-01   </span>│\n",
       "│<span style=\"color: #008000; text-decoration-color: #008000\"> 4.685E-02 </span>│<span style=\"color: #808000; text-decoration-color: #808000\">  1.000E-02   </span>│\n",
       "│<span style=\"color: #008000; text-decoration-color: #008000\"> 5.416E-03 </span>│<span style=\"color: #808000; text-decoration-color: #808000\">  1.000E-03   </span>│\n",
       "│<span style=\"color: #008000; text-decoration-color: #008000\"> 4.764E-03 </span>│<span style=\"color: #808000; text-decoration-color: #808000\">  1.000E-03   </span>│\n",
       "│<span style=\"color: #008000; text-decoration-color: #008000\"> 1.943E-02 </span>│<span style=\"color: #808000; text-decoration-color: #808000\">  1.000E-02   </span>│\n",
       "│<span style=\"color: #008000; text-decoration-color: #008000\"> 3.198E-05 </span>│<span style=\"color: #808000; text-decoration-color: #808000\">  1.000E-05   </span>│\n",
       "│<span style=\"color: #008000; text-decoration-color: #008000\"> 8.182E-03 </span>│<span style=\"color: #808000; text-decoration-color: #808000\">  1.000E-03   </span>│\n",
       "│<span style=\"color: #008000; text-decoration-color: #008000\"> 1.351E-05 </span>│<span style=\"color: #808000; text-decoration-color: #808000\">  1.000E-05   </span>│\n",
       "│<span style=\"color: #008000; text-decoration-color: #008000\"> 6.042E-04 </span>│<span style=\"color: #808000; text-decoration-color: #808000\">  1.000E-04   </span>│\n",
       "│<span style=\"color: #008000; text-decoration-color: #008000\"> 2.127E-02 </span>│<span style=\"color: #808000; text-decoration-color: #808000\">  1.000E-02   </span>│\n",
       "└───────────┴──────────────┘\n",
       "</pre>\n"
      ],
      "text/plain": [
       "\u001b[3m  Test samples - Parameter  \u001b[0m\n",
       "\u001b[3m            gen.            \u001b[0m\n",
       "┏━━━━━━━━━━━┳━━━━━━━━━━━━━━┓\n",
       "┃\u001b[1m \u001b[0m\u001b[1m  Real   \u001b[0m\u001b[1m \u001b[0m┃\u001b[1m \u001b[0m\u001b[1mRandomForest\u001b[0m\u001b[1m \u001b[0m┃\n",
       "┡━━━━━━━━━━━╇━━━━━━━━━━━━━━┩\n",
       "│\u001b[32m \u001b[0m\u001b[32m6.400E-01\u001b[0m\u001b[32m \u001b[0m│\u001b[33m \u001b[0m\u001b[33m 1.000E-01  \u001b[0m\u001b[33m \u001b[0m│\n",
       "│\u001b[32m \u001b[0m\u001b[32m4.685E-02\u001b[0m\u001b[32m \u001b[0m│\u001b[33m \u001b[0m\u001b[33m 1.000E-02  \u001b[0m\u001b[33m \u001b[0m│\n",
       "│\u001b[32m \u001b[0m\u001b[32m5.416E-03\u001b[0m\u001b[32m \u001b[0m│\u001b[33m \u001b[0m\u001b[33m 1.000E-03  \u001b[0m\u001b[33m \u001b[0m│\n",
       "│\u001b[32m \u001b[0m\u001b[32m4.764E-03\u001b[0m\u001b[32m \u001b[0m│\u001b[33m \u001b[0m\u001b[33m 1.000E-03  \u001b[0m\u001b[33m \u001b[0m│\n",
       "│\u001b[32m \u001b[0m\u001b[32m1.943E-02\u001b[0m\u001b[32m \u001b[0m│\u001b[33m \u001b[0m\u001b[33m 1.000E-02  \u001b[0m\u001b[33m \u001b[0m│\n",
       "│\u001b[32m \u001b[0m\u001b[32m3.198E-05\u001b[0m\u001b[32m \u001b[0m│\u001b[33m \u001b[0m\u001b[33m 1.000E-05  \u001b[0m\u001b[33m \u001b[0m│\n",
       "│\u001b[32m \u001b[0m\u001b[32m8.182E-03\u001b[0m\u001b[32m \u001b[0m│\u001b[33m \u001b[0m\u001b[33m 1.000E-03  \u001b[0m\u001b[33m \u001b[0m│\n",
       "│\u001b[32m \u001b[0m\u001b[32m1.351E-05\u001b[0m\u001b[32m \u001b[0m│\u001b[33m \u001b[0m\u001b[33m 1.000E-05  \u001b[0m\u001b[33m \u001b[0m│\n",
       "│\u001b[32m \u001b[0m\u001b[32m6.042E-04\u001b[0m\u001b[32m \u001b[0m│\u001b[33m \u001b[0m\u001b[33m 1.000E-04  \u001b[0m\u001b[33m \u001b[0m│\n",
       "│\u001b[32m \u001b[0m\u001b[32m2.127E-02\u001b[0m\u001b[32m \u001b[0m│\u001b[33m \u001b[0m\u001b[33m 1.000E-02  \u001b[0m\u001b[33m \u001b[0m│\n",
       "└───────────┴──────────────┘\n"
      ]
     },
     "metadata": {},
     "output_type": "display_data"
    },
    {
     "data": {
      "text/html": [
       "<pre style=\"white-space:pre;overflow-x:auto;line-height:normal;font-family:Menlo,'DejaVu Sans Mono',consolas,'Courier New',monospace\"><span style=\"font-style: italic\">  Test samples - Structure  </span>\n",
       "<span style=\"font-style: italic\">            gen.            </span>\n",
       "┏━━━━━━━━━━━┳━━━━━━━━━━━━━━┓\n",
       "┃<span style=\"font-weight: bold\">   Real    </span>┃<span style=\"font-weight: bold\"> RandomForest </span>┃\n",
       "┡━━━━━━━━━━━╇━━━━━━━━━━━━━━┩\n",
       "│<span style=\"color: #008000; text-decoration-color: #008000\"> 3.156E-04 </span>│<span style=\"color: #808000; text-decoration-color: #808000\">  1.000E-04   </span>│\n",
       "│<span style=\"color: #008000; text-decoration-color: #008000\"> 1.827E-03 </span>│<span style=\"color: #808000; text-decoration-color: #808000\">  1.000E-04   </span>│\n",
       "│<span style=\"color: #008000; text-decoration-color: #008000\"> 7.686E-04 </span>│<span style=\"color: #808000; text-decoration-color: #808000\">  1.000E-03   </span>│\n",
       "│<span style=\"color: #008000; text-decoration-color: #008000\"> 6.767E-05 </span>│<span style=\"color: #808000; text-decoration-color: #808000\">  1.000E-04   </span>│\n",
       "│<span style=\"color: #008000; text-decoration-color: #008000\"> 1.894E-01 </span>│<span style=\"color: #808000; text-decoration-color: #808000\">  1.000E-01   </span>│\n",
       "│<span style=\"color: #008000; text-decoration-color: #008000\"> 2.282E-02 </span>│<span style=\"color: #808000; text-decoration-color: #808000\">  1.000E-02   </span>│\n",
       "│<span style=\"color: #008000; text-decoration-color: #008000\"> 2.518E-01 </span>│<span style=\"color: #808000; text-decoration-color: #808000\">  1.000E-01   </span>│\n",
       "│<span style=\"color: #008000; text-decoration-color: #008000\"> 1.376E-05 </span>│<span style=\"color: #808000; text-decoration-color: #808000\">  1.000E-03   </span>│\n",
       "│<span style=\"color: #008000; text-decoration-color: #008000\"> 4.020E-04 </span>│<span style=\"color: #808000; text-decoration-color: #808000\">  1.000E-05   </span>│\n",
       "│<span style=\"color: #008000; text-decoration-color: #008000\"> 4.785E-05 </span>│<span style=\"color: #808000; text-decoration-color: #808000\">  1.000E-05   </span>│\n",
       "└───────────┴──────────────┘\n",
       "</pre>\n"
      ],
      "text/plain": [
       "\u001b[3m  Test samples - Structure  \u001b[0m\n",
       "\u001b[3m            gen.            \u001b[0m\n",
       "┏━━━━━━━━━━━┳━━━━━━━━━━━━━━┓\n",
       "┃\u001b[1m \u001b[0m\u001b[1m  Real   \u001b[0m\u001b[1m \u001b[0m┃\u001b[1m \u001b[0m\u001b[1mRandomForest\u001b[0m\u001b[1m \u001b[0m┃\n",
       "┡━━━━━━━━━━━╇━━━━━━━━━━━━━━┩\n",
       "│\u001b[32m \u001b[0m\u001b[32m3.156E-04\u001b[0m\u001b[32m \u001b[0m│\u001b[33m \u001b[0m\u001b[33m 1.000E-04  \u001b[0m\u001b[33m \u001b[0m│\n",
       "│\u001b[32m \u001b[0m\u001b[32m1.827E-03\u001b[0m\u001b[32m \u001b[0m│\u001b[33m \u001b[0m\u001b[33m 1.000E-04  \u001b[0m\u001b[33m \u001b[0m│\n",
       "│\u001b[32m \u001b[0m\u001b[32m7.686E-04\u001b[0m\u001b[32m \u001b[0m│\u001b[33m \u001b[0m\u001b[33m 1.000E-03  \u001b[0m\u001b[33m \u001b[0m│\n",
       "│\u001b[32m \u001b[0m\u001b[32m6.767E-05\u001b[0m\u001b[32m \u001b[0m│\u001b[33m \u001b[0m\u001b[33m 1.000E-04  \u001b[0m\u001b[33m \u001b[0m│\n",
       "│\u001b[32m \u001b[0m\u001b[32m1.894E-01\u001b[0m\u001b[32m \u001b[0m│\u001b[33m \u001b[0m\u001b[33m 1.000E-01  \u001b[0m\u001b[33m \u001b[0m│\n",
       "│\u001b[32m \u001b[0m\u001b[32m2.282E-02\u001b[0m\u001b[32m \u001b[0m│\u001b[33m \u001b[0m\u001b[33m 1.000E-02  \u001b[0m\u001b[33m \u001b[0m│\n",
       "│\u001b[32m \u001b[0m\u001b[32m2.518E-01\u001b[0m\u001b[32m \u001b[0m│\u001b[33m \u001b[0m\u001b[33m 1.000E-01  \u001b[0m\u001b[33m \u001b[0m│\n",
       "│\u001b[32m \u001b[0m\u001b[32m1.376E-05\u001b[0m\u001b[32m \u001b[0m│\u001b[33m \u001b[0m\u001b[33m 1.000E-03  \u001b[0m\u001b[33m \u001b[0m│\n",
       "│\u001b[32m \u001b[0m\u001b[32m4.020E-04\u001b[0m\u001b[32m \u001b[0m│\u001b[33m \u001b[0m\u001b[33m 1.000E-05  \u001b[0m\u001b[33m \u001b[0m│\n",
       "│\u001b[32m \u001b[0m\u001b[32m4.785E-05\u001b[0m\u001b[32m \u001b[0m│\u001b[33m \u001b[0m\u001b[33m 1.000E-05  \u001b[0m\u001b[33m \u001b[0m│\n",
       "└───────────┴──────────────┘\n"
      ]
     },
     "metadata": {},
     "output_type": "display_data"
    }
   ],
   "source": [
    "print_test_samples(reg_models, test_sets, console)"
   ]
  }
 ],
 "metadata": {
  "kernelspec": {
   "display_name": "Python 3 (ipykernel)",
   "language": "python",
   "name": "python3"
  },
  "language_info": {
   "codemirror_mode": {
    "name": "ipython",
    "version": 3
   },
   "file_extension": ".py",
   "mimetype": "text/x-python",
   "name": "python",
   "nbconvert_exporter": "python",
   "pygments_lexer": "ipython3",
   "version": "3.8.10"
  }
 },
 "nbformat": 4,
 "nbformat_minor": 5
}
