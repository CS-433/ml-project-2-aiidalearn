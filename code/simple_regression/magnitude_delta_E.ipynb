{
 "cells": [
  {
   "cell_type": "code",
   "execution_count": 32,
   "id": "67efcdaf",
   "metadata": {},
   "outputs": [],
   "source": [
    "import os\n",
    "import sys\n",
    "from pathlib import Path\n",
    "\n",
    "import numpy as np\n",
    "import xgboost as xgb\n",
    "from rich.console import Console\n",
    "from sklearn.dummy import DummyRegressor\n",
    "from sklearn.ensemble import RandomForestRegressor, RandomForestClassifier\n",
    "from sklearn.linear_model import LinearRegression\n",
    "from sklearn.pipeline import FeatureUnion, Pipeline\n",
    "from sklearn.preprocessing import FunctionTransformer, StandardScaler\n",
    "from sklearn.metrics import accuracy_score\n",
    "\n",
    "ROOT_DIR = os.path.dirname(\n",
    "os.path.dirname(os.path.abspath('')))\n",
    "\n",
    "\n",
    "sys.path.append(os.path.join(ROOT_DIR, \"code\"))\n",
    "from tools.data_loader import TestSet, TestSplit, data_loader\n",
    "from tools.save import save_as_baseline, save_datasets, save_models\n",
    "from tools.train import evaluate_models, print_test_samples, train_models, print_problematic_samples\n",
    "from tools.utils import StructureEncoding, Target, check_xgboost_gpu\n",
    "\n",
    "# Define global variables\n",
    "DATA_DIR = os.path.join(ROOT_DIR, \"data/\")\n",
    "\n",
    "DATA_PATH = os.path.join(DATA_DIR, \"data.csv\")\n"
   ]
  },
  {
   "cell_type": "code",
   "execution_count": 7,
   "id": "50e18173",
   "metadata": {},
   "outputs": [
    {
     "data": {
      "text/html": [
       "<pre style=\"white-space:pre;overflow-x:auto;line-height:normal;font-family:Menlo,'DejaVu Sans Mono',consolas,'Courier New',monospace\"><span style=\"color: #7fbfbf; text-decoration-color: #7fbfbf\">[22:17:34] </span><span style=\"color: #008000; text-decoration-color: #008000; font-weight: bold\">Started pipeline for StructureEncoding.ATOMIC</span>                      <a href=\"file:///var/folders/zv/j2vc13hx0x72z8g7wvs60p3w0000gn/T/ipykernel_21936/2179649547.py\"><span style=\"color: #7f7f7f; text-decoration-color: #7f7f7f\">2179649547.py</span></a><span style=\"color: #7f7f7f; text-decoration-color: #7f7f7f\">:</span><a href=\"file:///var/folders/zv/j2vc13hx0x72z8g7wvs60p3w0000gn/T/ipykernel_21936/2179649547.py#6\"><span style=\"color: #7f7f7f; text-decoration-color: #7f7f7f\">6</span></a>\n",
       "</pre>\n"
      ],
      "text/plain": [
       "\u001b[2;36m[22:17:34]\u001b[0m\u001b[2;36m \u001b[0m\u001b[1;32mStarted pipeline for StructureEncoding.ATOMIC\u001b[0m                      \u001b]8;id=50651;file:///var/folders/zv/j2vc13hx0x72z8g7wvs60p3w0000gn/T/ipykernel_21936/2179649547.py\u001b\\\u001b[2m2179649547.py\u001b[0m\u001b]8;;\u001b\\\u001b[2m:\u001b[0m\u001b]8;id=830049;file:///var/folders/zv/j2vc13hx0x72z8g7wvs60p3w0000gn/T/ipykernel_21936/2179649547.py#6\u001b\\\u001b[2m6\u001b[0m\u001b]8;;\u001b\\\n"
      ]
     },
     "metadata": {},
     "output_type": "display_data"
    },
    {
     "data": {
      "application/vnd.jupyter.widget-view+json": {
       "model_id": "",
       "version_major": 2,
       "version_minor": 0
      },
      "text/plain": [
       "Output()"
      ]
     },
     "metadata": {},
     "output_type": "display_data"
    },
    {
     "data": {
      "text/html": [
       "<pre style=\"white-space:pre;overflow-x:auto;line-height:normal;font-family:Menlo,'DejaVu Sans Mono',consolas,'Courier New',monospace\"></pre>\n"
      ],
      "text/plain": []
     },
     "metadata": {},
     "output_type": "display_data"
    },
    {
     "data": {
      "text/html": [
       "<pre style=\"white-space:pre;overflow-x:auto;line-height:normal;font-family:Menlo,'DejaVu Sans Mono',consolas,'Courier New',monospace\">╭───────── Loaded Dataset ─────────╮\n",
       "│ Train set: 80%                   │\n",
       "│ Test set 0 (Parameter gen.): 10% │\n",
       "│ Test set 1 (Structure gen.): 10% │\n",
       "│ Total datapoints: 539583         │\n",
       "│ Size: ~388.5MB                   │\n",
       "╰──────────────────────────────────╯\n",
       "</pre>\n"
      ],
      "text/plain": [
       "╭───────── Loaded Dataset ─────────╮\n",
       "│ Train set: 80%                   │\n",
       "│ Test set 0 (Parameter gen.): 10% │\n",
       "│ Test set 1 (Structure gen.): 10% │\n",
       "│ Total datapoints: 539583         │\n",
       "│ Size: ~388.5MB                   │\n",
       "╰──────────────────────────────────╯\n"
      ]
     },
     "metadata": {},
     "output_type": "display_data"
    }
   ],
   "source": [
    "console = Console(record=True)\n",
    "prompt_user = False\n",
    "\n",
    "encoding = StructureEncoding.ATOMIC\n",
    "\n",
    "console.log(f\"[bold green]Started pipeline for {encoding}\")\n",
    "target = Target.DELTA_E\n",
    "test_sets_cfg = [\n",
    "    TestSet(\"Parameter gen.\", size=0.1, split=TestSplit.ROW),\n",
    "    TestSet(\"Structure gen.\", size=0.1, split=TestSplit.STRUCTURE),\n",
    "]\n",
    "\n",
    "# Data Loading\n",
    "X_train, y_train, test_sets = data_loader(\n",
    "    target=target,\n",
    "    encoding=encoding,\n",
    "    data_path=DATA_PATH,\n",
    "    test_sets_cfg=test_sets_cfg,\n",
    "    console=console,\n",
    "    remove_ref_rows=True,\n",
    ")"
   ]
  },
  {
   "cell_type": "code",
   "execution_count": 22,
   "id": "93950046",
   "metadata": {},
   "outputs": [],
   "source": [
    "def magnitude(x):\n",
    "    return int(np.floor(np.log10(x)))\n",
    "\n",
    "def magnitude_transform(a):\n",
    "    return -np.vectorize(magnitude)(a)"
   ]
  },
  {
   "cell_type": "code",
   "execution_count": 23,
   "id": "78b16ff2",
   "metadata": {},
   "outputs": [
    {
     "data": {
      "text/plain": [
       "-6"
      ]
     },
     "execution_count": 23,
     "metadata": {},
     "output_type": "execute_result"
    }
   ],
   "source": [
    "x = 1E-6\n",
    "magnitude(x)"
   ]
  },
  {
   "cell_type": "code",
   "execution_count": 26,
   "id": "85f40906",
   "metadata": {},
   "outputs": [],
   "source": [
    "magnitude_y_train = magnitude_transform(y_train)"
   ]
  },
  {
   "cell_type": "code",
   "execution_count": 27,
   "id": "a066e1d2",
   "metadata": {},
   "outputs": [
    {
     "name": "stdout",
     "output_type": "stream",
     "text": [
      "max magnitude:  9\n",
      "min magnitude:  0\n"
     ]
    }
   ],
   "source": [
    "print(\"max magnitude: \", np.max(magnitude_y_train))\n",
    "print(\"min magnitude: \", np.min(magnitude_y_train))"
   ]
  },
  {
   "cell_type": "code",
   "execution_count": 28,
   "id": "20699da3",
   "metadata": {},
   "outputs": [
    {
     "data": {
      "text/plain": [
       "RandomForestClassifier()"
      ]
     },
     "execution_count": 28,
     "metadata": {},
     "output_type": "execute_result"
    }
   ],
   "source": [
    "model = RandomForestClassifier()\n",
    "model.fit(X_train, magnitude_y_train)"
   ]
  },
  {
   "cell_type": "code",
   "execution_count": 33,
   "id": "0ee803ab",
   "metadata": {},
   "outputs": [
    {
     "data": {
      "text/html": [
       "<pre style=\"white-space:pre;overflow-x:auto;line-height:normal;font-family:Menlo,'DejaVu Sans Mono',consolas,'Courier New',monospace\">Accuracy Parameter gen.: <span style=\"color: #008080; text-decoration-color: #008080; font-weight: bold\">0.9733867081804366</span>\n",
       "</pre>\n"
      ],
      "text/plain": [
       "Accuracy Parameter gen.: \u001b[1;36m0.9733867081804366\u001b[0m\n"
      ]
     },
     "metadata": {},
     "output_type": "display_data"
    },
    {
     "data": {
      "text/html": [
       "<pre style=\"white-space:pre;overflow-x:auto;line-height:normal;font-family:Menlo,'DejaVu Sans Mono',consolas,'Courier New',monospace\">Accuracy Structure gen.: <span style=\"color: #008080; text-decoration-color: #008080; font-weight: bold\">0.7338224398706157</span>\n",
       "</pre>\n"
      ],
      "text/plain": [
       "Accuracy Structure gen.: \u001b[1;36m0.7338224398706157\u001b[0m\n"
      ]
     },
     "metadata": {},
     "output_type": "display_data"
    }
   ],
   "source": [
    "for test_name, X_test, y_test in test_sets:\n",
    "    magnitude_y_pred = model.predict(X_test)\n",
    "    magnitude_y_test = magnitude_transform(y_test)\n",
    "    score = accuracy_score(magnitude_y_test, magnitude_y_pred)\n",
    "    console.print(f\"Accuracy {test_name}: {score}\")"
   ]
  },
  {
   "cell_type": "code",
   "execution_count": null,
   "id": "5540d440",
   "metadata": {},
   "outputs": [],
   "source": []
  }
 ],
 "metadata": {
  "kernelspec": {
   "display_name": "Python 3 (ipykernel)",
   "language": "python",
   "name": "python3"
  },
  "language_info": {
   "codemirror_mode": {
    "name": "ipython",
    "version": 3
   },
   "file_extension": ".py",
   "mimetype": "text/x-python",
   "name": "python",
   "nbconvert_exporter": "python",
   "pygments_lexer": "ipython3",
   "version": "3.8.12"
  }
 },
 "nbformat": 4,
 "nbformat_minor": 5
}
