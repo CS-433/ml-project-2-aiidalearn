{
 "cells": [
  {
   "cell_type": "code",
   "execution_count": 1,
   "id": "67efcdaf",
   "metadata": {},
   "outputs": [],
   "source": [
    "import os\n",
    "import sys\n",
    "from pathlib import Path\n",
    "\n",
    "import numpy as np\n",
    "import pandas as pd\n",
    "import xgboost as xgb\n",
    "from rich.console import Console\n",
    "from sklearn.ensemble import RandomForestClassifier\n",
    "from sklearn.metrics import accuracy_score, mean_absolute_percentage_error\n",
    "\n",
    "ROOT_DIR = os.path.dirname(\n",
    "os.path.dirname(os.path.abspath('')))\n",
    "\n",
    "\n",
    "sys.path.append(os.path.join(ROOT_DIR, \"code\"))\n",
    "from tools.data_loader import TestSet, TestSplit, data_loader\n",
    "from tools.save import save_as_baseline, save_datasets, save_models\n",
    "from tools.train import evaluate_models, print_test_samples, train_models, print_problematic_samples\n",
    "from tools.utils import StructureEncoding, Target, check_xgboost_gpu\n",
    "\n",
    "# Define global variables\n",
    "DATA_DIR = os.path.join(ROOT_DIR, \"data/\")\n",
    "\n",
    "DATA_PATH = os.path.join(DATA_DIR, \"data.csv\")\n"
   ]
  },
  {
   "cell_type": "code",
   "execution_count": 2,
   "id": "50e18173",
   "metadata": {},
   "outputs": [
    {
     "data": {
      "text/html": [
       "<pre style=\"white-space:pre;overflow-x:auto;line-height:normal;font-family:Menlo,'DejaVu Sans Mono',consolas,'Courier New',monospace\"><span style=\"color: #7fbfbf; text-decoration-color: #7fbfbf\">[10:14:58] </span><span style=\"color: #008000; text-decoration-color: #008000; font-weight: bold\">Started pipeline for StructureEncoding.ATOMIC</span>                      <a href=\"file:///var/folders/zv/j2vc13hx0x72z8g7wvs60p3w0000gn/T/ipykernel_20871/2179649547.py\"><span style=\"color: #7f7f7f; text-decoration-color: #7f7f7f\">2179649547.py</span></a><span style=\"color: #7f7f7f; text-decoration-color: #7f7f7f\">:</span><a href=\"file:///var/folders/zv/j2vc13hx0x72z8g7wvs60p3w0000gn/T/ipykernel_20871/2179649547.py#6\"><span style=\"color: #7f7f7f; text-decoration-color: #7f7f7f\">6</span></a>\n",
       "</pre>\n"
      ],
      "text/plain": [
       "\u001b[2;36m[10:14:58]\u001b[0m\u001b[2;36m \u001b[0m\u001b[1;32mStarted pipeline for StructureEncoding.ATOMIC\u001b[0m                      \u001b]8;id=566903;file:///var/folders/zv/j2vc13hx0x72z8g7wvs60p3w0000gn/T/ipykernel_20871/2179649547.py\u001b\\\u001b[2m2179649547.py\u001b[0m\u001b]8;;\u001b\\\u001b[2m:\u001b[0m\u001b]8;id=437933;file:///var/folders/zv/j2vc13hx0x72z8g7wvs60p3w0000gn/T/ipykernel_20871/2179649547.py#6\u001b\\\u001b[2m6\u001b[0m\u001b]8;;\u001b\\\n"
      ]
     },
     "metadata": {},
     "output_type": "display_data"
    },
    {
     "data": {
      "application/vnd.jupyter.widget-view+json": {
       "model_id": "",
       "version_major": 2,
       "version_minor": 0
      },
      "text/plain": [
       "Output()"
      ]
     },
     "metadata": {},
     "output_type": "display_data"
    },
    {
     "data": {
      "text/html": [
       "<pre style=\"white-space:pre;overflow-x:auto;line-height:normal;font-family:Menlo,'DejaVu Sans Mono',consolas,'Courier New',monospace\"></pre>\n"
      ],
      "text/plain": []
     },
     "metadata": {},
     "output_type": "display_data"
    },
    {
     "data": {
      "text/html": [
       "<pre style=\"white-space:pre;overflow-x:auto;line-height:normal;font-family:Menlo,'DejaVu Sans Mono',consolas,'Courier New',monospace\">╭───────── Loaded Dataset ─────────╮\n",
       "│ Train set: 80%                   │\n",
       "│ Test set 0 (Parameter gen.): 10% │\n",
       "│ Test set 1 (Structure gen.): 10% │\n",
       "│ Total datapoints: 539583         │\n",
       "│ Size: ~388.5MB                   │\n",
       "╰──────────────────────────────────╯\n",
       "</pre>\n"
      ],
      "text/plain": [
       "╭───────── Loaded Dataset ─────────╮\n",
       "│ Train set: 80%                   │\n",
       "│ Test set 0 (Parameter gen.): 10% │\n",
       "│ Test set 1 (Structure gen.): 10% │\n",
       "│ Total datapoints: 539583         │\n",
       "│ Size: ~388.5MB                   │\n",
       "╰──────────────────────────────────╯\n"
      ]
     },
     "metadata": {},
     "output_type": "display_data"
    }
   ],
   "source": [
    "console = Console(record=True)\n",
    "prompt_user = False\n",
    "\n",
    "encoding = StructureEncoding.ATOMIC\n",
    "\n",
    "console.log(f\"[bold green]Started pipeline for {encoding}\")\n",
    "target = Target.DELTA_E\n",
    "test_sets_cfg = [\n",
    "    TestSet(\"Parameter gen.\", size=0.1, split=TestSplit.ROW),\n",
    "    TestSet(\"Structure gen.\", size=0.1, split=TestSplit.STRUCTURE),\n",
    "]\n",
    "\n",
    "# Data Loading\n",
    "X_train, y_train, test_sets = data_loader(\n",
    "    target=target,\n",
    "    encoding=encoding,\n",
    "    data_path=DATA_PATH,\n",
    "    test_sets_cfg=test_sets_cfg,\n",
    "    console=console,\n",
    "    remove_ref_rows=True,\n",
    ")"
   ]
  },
  {
   "cell_type": "code",
   "execution_count": 3,
   "id": "93950046",
   "metadata": {},
   "outputs": [],
   "source": [
    "base = 10\n",
    "def magnitude(x):\n",
    "    return int(np.ceil(np.log(x) / np.log(base)))\n",
    "\n",
    "def magnitude_inv(x):\n",
    "    return base**float(x-1)\n",
    "    # for the regression transformation, taking the prediction minus 1 yields way better MAPE scores\n",
    "    # I think that's because predicting a result with an order of magnitude superior to the actual value\n",
    "    # yields an APE error of 10 (1000%) while predicting a result with an order of magnitude inferior to the actual value\n",
    "    # yields an APE error of at most 1 (100%)\n",
    "\n",
    "def magnitude_transform(a):\n",
    "    return np.vectorize(magnitude)(a)\n",
    "\n",
    "def magnitude_inv_transform(a):\n",
    "    return np.vectorize(magnitude_inv)(a)"
   ]
  },
  {
   "cell_type": "code",
   "execution_count": 5,
   "id": "7003215f",
   "metadata": {},
   "outputs": [],
   "source": [
    "param_gen_test = test_sets[0]\n",
    "_, X_test_param, y_test_param = param_gen_test\n",
    "\n",
    "struct_gen_test = test_sets[1]\n",
    "_, X_test_struct, y_test_struct = struct_gen_test"
   ]
  },
  {
   "cell_type": "code",
   "execution_count": 6,
   "id": "85f40906",
   "metadata": {},
   "outputs": [],
   "source": [
    "magnitude_y_train = magnitude_transform(y_train)\n",
    "magnitude_y_test_param = magnitude_transform(y_test_param)\n",
    "magnitude_y_test_struct = magnitude_transform(y_test_struct)"
   ]
  },
  {
   "cell_type": "code",
   "execution_count": 7,
   "id": "20699da3",
   "metadata": {},
   "outputs": [],
   "source": [
    "#model = RandomForestClassifier(random_state=0) \n",
    "#model.fit(X_train, magnitude_y_train)"
   ]
  },
  {
   "cell_type": "code",
   "execution_count": 8,
   "id": "0ee803ab",
   "metadata": {},
   "outputs": [],
   "source": [
    "#for test_name, X_test, y_test in test_sets:\n",
    "    #magnitude_y_pred = model.predict(X_test)\n",
    "    #magnitude_y_test = magnitude_transform(y_test)\n",
    "    #score = accuracy_score(magnitude_y_test, magnitude_y_pred)\n",
    "    #mape = mean_absolute_percentage_error(y_test, magnitude_inv_transform(magnitude_y_pred))\n",
    "    #console.print(f\"Accuracy {test_name}: {score*100}%\")\n",
    "    #console.print(f\"MAPE {test_name}: {mape}\")"
   ]
  },
  {
   "cell_type": "markdown",
   "id": "dafea765",
   "metadata": {},
   "source": [
    "# Hyperparameter tuning"
   ]
  },
  {
   "cell_type": "code",
   "execution_count": 25,
   "id": "3350b36d",
   "metadata": {},
   "outputs": [],
   "source": [
    "rf_model = RandomForestClassifier(random_state=0) "
   ]
  },
  {
   "cell_type": "code",
   "execution_count": 26,
   "id": "a3f1bfda",
   "metadata": {},
   "outputs": [],
   "source": [
    "# Number of trees in random forest\n",
    "n_estimators = [int(x) for x in np.linspace(start = 10, stop = 1000, num = 20)]\n",
    "# Number of features to consider at every split\n",
    "max_features = ['auto', 'sqrt']\n",
    "# Maximum number of levels in tree\n",
    "max_depth = [int(x) for x in np.linspace(50, 250, num = 10)]\n",
    "max_depth.append(None)\n",
    "# Minimum number of samples required to split a node\n",
    "min_samples_split = [2, 5, 10]\n",
    "# Minimum number of samples required at each leaf node\n",
    "min_samples_leaf = [1, 2, 4]\n",
    "# Method of selecting samples for training each tree\n",
    "bootstrap = [True, False]\n",
    "# Create the random grid\n",
    "\n",
    "random_grid = {'n_estimators': n_estimators,\n",
    "               'max_features': max_features,\n",
    "               'max_depth': max_depth}"
   ]
  },
  {
   "cell_type": "code",
   "execution_count": 27,
   "id": "58afadca",
   "metadata": {},
   "outputs": [],
   "source": [
    "from sklearn.model_selection import GridSearchCV, RandomizedSearchCV\n",
    "rf_random = RandomizedSearchCV(\n",
    "    estimator = rf_model,\n",
    "    param_distributions = random_grid,\n",
    "    n_iter = 10,\n",
    "    cv = 2,\n",
    "    verbose=1)"
   ]
  },
  {
   "cell_type": "code",
   "execution_count": 28,
   "id": "aeb7e1e6",
   "metadata": {},
   "outputs": [
    {
     "name": "stdout",
     "output_type": "stream",
     "text": [
      "Fitting 2 folds for each of 5 candidates, totalling 10 fits\n"
     ]
    },
    {
     "data": {
      "text/plain": [
       "RandomizedSearchCV(cv=2, estimator=RandomForestClassifier(random_state=0),\n",
       "                   n_iter=5,\n",
       "                   param_distributions={'max_depth': [50, 72, 94, 116, 138, 161,\n",
       "                                                      183, 205, 227, 250,\n",
       "                                                      None],\n",
       "                                        'max_features': ['auto', 'sqrt'],\n",
       "                                        'n_estimators': [10, 62, 114, 166, 218,\n",
       "                                                         270, 322, 374, 426,\n",
       "                                                         478, 531, 583, 635,\n",
       "                                                         687, 739, 791, 843,\n",
       "                                                         895, 947, 1000]},\n",
       "                   verbose=1)"
      ]
     },
     "execution_count": 28,
     "metadata": {},
     "output_type": "execute_result"
    }
   ],
   "source": [
    "rf_random.fit(X_test_param, magnitude_y_test_param)"
   ]
  },
  {
   "cell_type": "code",
   "execution_count": 29,
   "id": "e51774ab",
   "metadata": {},
   "outputs": [
    {
     "data": {
      "text/plain": [
       "{'n_estimators': 426, 'max_features': 'auto', 'max_depth': 161}"
      ]
     },
     "execution_count": 29,
     "metadata": {},
     "output_type": "execute_result"
    }
   ],
   "source": [
    "rf_random.best_params_"
   ]
  },
  {
   "cell_type": "markdown",
   "id": "d1fdde7c",
   "metadata": {},
   "source": [
    "params = {'n_estimators': 878, 'max_features': 'auto', 'max_depth': 100}"
   ]
  },
  {
   "cell_type": "code",
   "execution_count": 30,
   "id": "4ca65fc8",
   "metadata": {},
   "outputs": [
    {
     "data": {
      "text/plain": [
       "RandomForestClassifier(max_depth=161, n_estimators=426, random_state=0)"
      ]
     },
     "execution_count": 30,
     "metadata": {},
     "output_type": "execute_result"
    }
   ],
   "source": [
    "rf_best = RandomForestClassifier(random_state=0)\n",
    "rf_best.set_params(**rf_random.best_params_)\n",
    "#rf_best.set_params(**params)"
   ]
  },
  {
   "cell_type": "code",
   "execution_count": 31,
   "id": "0afa689c",
   "metadata": {},
   "outputs": [
    {
     "data": {
      "text/plain": [
       "RandomForestClassifier(max_depth=161, n_estimators=426, random_state=0)"
      ]
     },
     "execution_count": 31,
     "metadata": {},
     "output_type": "execute_result"
    }
   ],
   "source": [
    "rf_best.fit(X_train, magnitude_y_train)"
   ]
  },
  {
   "cell_type": "markdown",
   "id": "ea574d92",
   "metadata": {},
   "source": [
    "RandomForestClassifier(max_depth=161, n_estimators=426, random_state=0)"
   ]
  },
  {
   "cell_type": "markdown",
   "id": "3244370c",
   "metadata": {},
   "source": [
    "for test_name, X_test, y_test in test_sets:\n",
    "    magnitude_y_pred = rf_best.predict(X_test)\n",
    "    magnitude_y_test = magnitude_transform(y_test)\n",
    "    score = accuracy_score(magnitude_y_test, magnitude_y_pred)\n",
    "    mape = mean_absolute_percentage_error(y_test, magnitude_inv_transform(magnitude_y_pred))\n",
    "    console.print(f\"Accuracy {test_name}: {score*100}%\")\n",
    "    #console.print(f\"MAPE {test_name}: {mape}\")"
   ]
  },
  {
   "cell_type": "code",
   "execution_count": 33,
   "id": "60186600",
   "metadata": {},
   "outputs": [
    {
     "name": "stdout",
     "output_type": "stream",
     "text": [
      "Fitting 2 folds for each of 5 candidates, totalling 10 fits\n"
     ]
    },
    {
     "data": {
      "text/plain": [
       "RandomizedSearchCV(cv=2, estimator=RandomForestClassifier(random_state=0),\n",
       "                   n_iter=5,\n",
       "                   param_distributions={'max_depth': [50, 72, 94, 116, 138, 161,\n",
       "                                                      183, 205, 227, 250,\n",
       "                                                      None],\n",
       "                                        'max_features': ['auto', 'sqrt'],\n",
       "                                        'n_estimators': [10, 62, 114, 166, 218,\n",
       "                                                         270, 322, 374, 426,\n",
       "                                                         478, 531, 583, 635,\n",
       "                                                         687, 739, 791, 843,\n",
       "                                                         895, 947, 1000]},\n",
       "                   verbose=1)"
      ]
     },
     "execution_count": 33,
     "metadata": {},
     "output_type": "execute_result"
    }
   ],
   "source": [
    "rf_random.fit(X_test_struct, magnitude_y_test_struct)"
   ]
  },
  {
   "cell_type": "code",
   "execution_count": 34,
   "id": "c0242732",
   "metadata": {},
   "outputs": [
    {
     "data": {
      "text/plain": [
       "{'n_estimators': 218, 'max_features': 'sqrt', 'max_depth': 205}"
      ]
     },
     "execution_count": 34,
     "metadata": {},
     "output_type": "execute_result"
    }
   ],
   "source": [
    "rf_random.best_params_"
   ]
  },
  {
   "cell_type": "code",
   "execution_count": 35,
   "id": "486f7220",
   "metadata": {},
   "outputs": [
    {
     "data": {
      "text/plain": [
       "RandomForestClassifier(max_depth=205, max_features='sqrt', n_estimators=218,\n",
       "                       random_state=0)"
      ]
     },
     "execution_count": 35,
     "metadata": {},
     "output_type": "execute_result"
    }
   ],
   "source": [
    "rf_best = RandomForestClassifier(random_state=0)\n",
    "rf_best.set_params(**rf_random.best_params_)\n",
    "#rf_best.set_params(**params)"
   ]
  },
  {
   "cell_type": "code",
   "execution_count": 36,
   "id": "bece0c2f",
   "metadata": {},
   "outputs": [
    {
     "data": {
      "text/plain": [
       "RandomForestClassifier(max_depth=205, max_features='sqrt', n_estimators=218,\n",
       "                       random_state=0)"
      ]
     },
     "execution_count": 36,
     "metadata": {},
     "output_type": "execute_result"
    }
   ],
   "source": [
    "rf_best.fit(X_train, magnitude_y_train)"
   ]
  },
  {
   "cell_type": "code",
   "execution_count": 37,
   "id": "6b1f7791",
   "metadata": {},
   "outputs": [
    {
     "data": {
      "text/html": [
       "<pre style=\"white-space:pre;overflow-x:auto;line-height:normal;font-family:Menlo,'DejaVu Sans Mono',consolas,'Courier New',monospace\">Accuracy Parameter gen.: <span style=\"color: #008080; text-decoration-color: #008080; font-weight: bold\">97.41094925682938</span>%\n",
       "</pre>\n"
      ],
      "text/plain": [
       "Accuracy Parameter gen.: \u001b[1;36m97.41094925682938\u001b[0m%\n"
      ]
     },
     "metadata": {},
     "output_type": "display_data"
    },
    {
     "data": {
      "text/html": [
       "<pre style=\"white-space:pre;overflow-x:auto;line-height:normal;font-family:Menlo,'DejaVu Sans Mono',consolas,'Courier New',monospace\">MAPE Parameter gen.: <span style=\"color: #008080; text-decoration-color: #008080; font-weight: bold\">0.8715415691412579</span>\n",
       "</pre>\n"
      ],
      "text/plain": [
       "MAPE Parameter gen.: \u001b[1;36m0.8715415691412579\u001b[0m\n"
      ]
     },
     "metadata": {},
     "output_type": "display_data"
    },
    {
     "data": {
      "text/html": [
       "<pre style=\"white-space:pre;overflow-x:auto;line-height:normal;font-family:Menlo,'DejaVu Sans Mono',consolas,'Courier New',monospace\">Accuracy Structure gen.: <span style=\"color: #008080; text-decoration-color: #008080; font-weight: bold\">69.84229738720757</span>%\n",
       "</pre>\n"
      ],
      "text/plain": [
       "Accuracy Structure gen.: \u001b[1;36m69.84229738720757\u001b[0m%\n"
      ]
     },
     "metadata": {},
     "output_type": "display_data"
    },
    {
     "data": {
      "text/html": [
       "<pre style=\"white-space:pre;overflow-x:auto;line-height:normal;font-family:Menlo,'DejaVu Sans Mono',consolas,'Courier New',monospace\">MAPE Structure gen.: <span style=\"color: #008080; text-decoration-color: #008080; font-weight: bold\">10.621532891261362</span>\n",
       "</pre>\n"
      ],
      "text/plain": [
       "MAPE Structure gen.: \u001b[1;36m10.621532891261362\u001b[0m\n"
      ]
     },
     "metadata": {},
     "output_type": "display_data"
    }
   ],
   "source": [
    "for test_name, X_test, y_test in test_sets:\n",
    "    magnitude_y_pred = rf_best.predict(X_test)\n",
    "    magnitude_y_test = magnitude_transform(y_test)\n",
    "    score = accuracy_score(magnitude_y_test, magnitude_y_pred)\n",
    "    mape = mean_absolute_percentage_error(y_test, magnitude_inv_transform(magnitude_y_pred))\n",
    "    console.print(f\"Accuracy {test_name}: {score*100}%\")\n",
    "    console.print(f\"MAPE {test_name}: {mape}\")"
   ]
  },
  {
   "cell_type": "code",
   "execution_count": 62,
   "id": "5a6dc353",
   "metadata": {},
   "outputs": [
    {
     "data": {
      "text/plain": [
       "RandomForestClassifier(max_depth=200, max_features='sqrt', n_estimators=1000,\n",
       "                       random_state=0)"
      ]
     },
     "execution_count": 62,
     "metadata": {},
     "output_type": "execute_result"
    }
   ],
   "source": [
    "custom_params = {'n_estimators': 1000, 'max_features': 'sqrt', 'max_depth': 200}\n",
    "rf_custom = RandomForestClassifier(random_state=0)\n",
    "rf_custom.set_params(**custom_params)\n",
    "rf_custom.fit(X_train, magnitude_y_train)"
   ]
  },
  {
   "cell_type": "code",
   "execution_count": 63,
   "id": "14f663a4",
   "metadata": {},
   "outputs": [
    {
     "data": {
      "text/html": [
       "<pre style=\"white-space:pre;overflow-x:auto;line-height:normal;font-family:Menlo,'DejaVu Sans Mono',consolas,'Courier New',monospace\">Accuracy Parameter gen.: <span style=\"color: #008080; text-decoration-color: #008080; font-weight: bold\">97.41650913673598</span>%\n",
       "</pre>\n"
      ],
      "text/plain": [
       "Accuracy Parameter gen.: \u001b[1;36m97.41650913673598\u001b[0m%\n"
      ]
     },
     "metadata": {},
     "output_type": "display_data"
    },
    {
     "data": {
      "text/html": [
       "<pre style=\"white-space:pre;overflow-x:auto;line-height:normal;font-family:Menlo,'DejaVu Sans Mono',consolas,'Courier New',monospace\">MAPE Parameter gen.: <span style=\"color: #008080; text-decoration-color: #008080; font-weight: bold\">10.621532891261362</span>\n",
       "</pre>\n"
      ],
      "text/plain": [
       "MAPE Parameter gen.: \u001b[1;36m10.621532891261362\u001b[0m\n"
      ]
     },
     "metadata": {},
     "output_type": "display_data"
    },
    {
     "data": {
      "text/html": [
       "<pre style=\"white-space:pre;overflow-x:auto;line-height:normal;font-family:Menlo,'DejaVu Sans Mono',consolas,'Courier New',monospace\">Accuracy Structure gen.: <span style=\"color: #008080; text-decoration-color: #008080; font-weight: bold\">70.31342719965474</span>%\n",
       "</pre>\n"
      ],
      "text/plain": [
       "Accuracy Structure gen.: \u001b[1;36m70.31342719965474\u001b[0m%\n"
      ]
     },
     "metadata": {},
     "output_type": "display_data"
    },
    {
     "data": {
      "text/html": [
       "<pre style=\"white-space:pre;overflow-x:auto;line-height:normal;font-family:Menlo,'DejaVu Sans Mono',consolas,'Courier New',monospace\">MAPE Structure gen.: <span style=\"color: #008080; text-decoration-color: #008080; font-weight: bold\">10.621532891261362</span>\n",
       "</pre>\n"
      ],
      "text/plain": [
       "MAPE Structure gen.: \u001b[1;36m10.621532891261362\u001b[0m\n"
      ]
     },
     "metadata": {},
     "output_type": "display_data"
    }
   ],
   "source": [
    "for test_name, X_test, y_test in test_sets:\n",
    "    magnitude_y_pred = rf_custom.predict(X_test)\n",
    "    magnitude_y_test = magnitude_transform(y_test)\n",
    "    score = accuracy_score(magnitude_y_test, magnitude_y_pred)\n",
    "    #mape = mean_absolute_percentage_error(y_test, magnitude_inv_transform(magnitude_y_pred))\n",
    "    console.print(f\"Accuracy {test_name}: {score*100}%\")\n",
    "    console.print(f\"MAPE {test_name}: {mape}\")"
   ]
  },
  {
   "cell_type": "code",
   "execution_count": 64,
   "id": "9b46ea1a",
   "metadata": {},
   "outputs": [
    {
     "data": {
      "text/plain": [
       "RandomForestClassifier(max_depth=200, max_features='sqrt', n_estimators=1000,\n",
       "                       random_state=0)"
      ]
     },
     "execution_count": 64,
     "metadata": {},
     "output_type": "execute_result"
    }
   ],
   "source": [
    "rf_custom"
   ]
  },
  {
   "cell_type": "code",
   "execution_count": 65,
   "id": "0ee9269f",
   "metadata": {},
   "outputs": [],
   "source": [
    "importances = rf_custom.feature_importances_\n",
    "std = np.std([tree.feature_importances_ for tree in rf_custom.estimators_], axis=0)"
   ]
  },
  {
   "cell_type": "code",
   "execution_count": 72,
   "id": "dde1478a",
   "metadata": {},
   "outputs": [
    {
     "data": {
      "image/png": "[encoded data removed]",
      "text/plain": [
       "<Figure size 432x288 with 1 Axes>"
      ]
     },
     "metadata": {
      "needs_background": "light"
     },
     "output_type": "display_data"
    }
   ],
   "source": [
    "blue = \"#0063be\"\n",
    "yellow = \"#fed900\"\n",
    "green = \"#007836\"\n",
    "orange = \"#ff6f20\"\n",
    "purple = \"#580f8b\"\n",
    "\n",
    "import matplotlib.pyplot as plt\n",
    "rf_importances = pd.Series(importances[:3], index=X_train.columns[:3])\n",
    "\n",
    "fig, ax = plt.subplots()\n",
    "rf_importances.plot.bar(yerr=std[:3], ax=ax, color=blue)\n",
    "ax.set_title(\"Feature importances using MDI\")\n",
    "ax.set_ylabel(\"Mean decrease in impurity\")\n",
    "fig.tight_layout()"
   ]
  },
  {
   "cell_type": "code",
   "execution_count": null,
   "id": "47a31a91",
   "metadata": {},
   "outputs": [],
   "source": []
  }
 ],
 "metadata": {
  "kernelspec": {
   "display_name": "Python 3 (ipykernel)",
   "language": "python",
   "name": "python3"
  },
  "language_info": {
   "codemirror_mode": {
    "name": "ipython",
    "version": 3
   },
   "file_extension": ".py",
   "mimetype": "text/x-python",
   "name": "python",
   "nbconvert_exporter": "python",
   "pygments_lexer": "ipython3",
   "version": "3.8.12"
  }
 },
 "nbformat": 4,
 "nbformat_minor": 5
}
