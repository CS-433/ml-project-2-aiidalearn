{
 "cells": [
  {
   "cell_type": "code",
   "execution_count": 2,
   "id": "3d7b7019",
   "metadata": {},
   "outputs": [],
   "source": [
    "import pickle\n",
    "import os"
   ]
  },
  {
   "cell_type": "code",
   "execution_count": 3,
   "id": "924f85ca",
   "metadata": {},
   "outputs": [],
   "source": [
    "DELTA_E_MODELS_DIR = os.path.join(\n",
    "    os.path.dirname(os.path.dirname(os.getcwd())), \"models/delta_E/\"\n",
    ")\n",
    "\n",
    "SIM_TIME_MODELS_DIR = os.path.join(\n",
    "    os.path.dirname(os.path.dirname(os.getcwd())), \"models/sim_time/\"\n",
    ")"
   ]
  },
  {
   "cell_type": "markdown",
   "id": "b97b57f5",
   "metadata": {},
   "source": [
    "# Loading the models"
   ]
  },
  {
   "cell_type": "code",
   "execution_count": null,
   "id": "e59a6361",
   "metadata": {},
   "outputs": [],
   "source": [
    "delta_E_model_name = 'random_forest_model.pkl'\n",
    "sim_time_model_name"
   ]
  }
 ],
 "metadata": {
  "kernelspec": {
   "display_name": "Python 3",
   "language": "python",
   "name": "python3"
  },
  "language_info": {
   "codemirror_mode": {
    "name": "ipython",
    "version": 3
   },
   "file_extension": ".py",
   "mimetype": "text/x-python",
   "name": "python",
   "nbconvert_exporter": "python",
   "pygments_lexer": "ipython3",
   "version": "3.8.8"
  }
 },
 "nbformat": 4,
 "nbformat_minor": 5
}
