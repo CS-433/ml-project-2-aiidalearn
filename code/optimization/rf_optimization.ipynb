{
 "cells": [
  {
   "cell_type": "code",
   "execution_count": 1,
   "id": "33d8e543",
   "metadata": {},
   "outputs": [],
   "source": [
    "import sys\n",
    "import os\n",
    "import pickle\n",
    "import pandas as pd\n",
    "import numpy as np\n",
    "\n",
    "from scipy.optimize import differential_evolution"
   ]
  },
  {
   "cell_type": "code",
   "execution_count": 2,
   "id": "74ea420e",
   "metadata": {},
   "outputs": [],
   "source": [
    "sys.path.append(os.path.dirname(os.getcwd()))\n",
    "from tools.utils import PERIODIC_TABLE_INFO, PTC_COLNAMES, encode_all_structures, StructureEncoding"
   ]
  },
  {
   "cell_type": "code",
   "execution_count": 3,
   "id": "05882470",
   "metadata": {},
   "outputs": [],
   "source": [
    "DELTA_E_MODELS_DIR = os.path.join(\n",
    "    os.path.dirname(os.path.dirname(os.getcwd())), \"models/delta_E/\"\n",
    ")\n",
    "\n",
    "SIM_TIME_MODELS_DIR = os.path.join(\n",
    "    os.path.dirname(os.path.dirname(os.getcwd())), \"models/sim_time/\"\n",
    ")\n",
    "\n",
    "DATA_DIR = os.path.join(\n",
    "    os.path.dirname(os.path.dirname(os.getcwd())), \"data/\"\n",
    ")"
   ]
  },
  {
   "cell_type": "markdown",
   "id": "a6198b2c",
   "metadata": {},
   "source": [
    "# Loading the models"
   ]
  },
  {
   "cell_type": "code",
   "execution_count": 4,
   "id": "25aef102",
   "metadata": {},
   "outputs": [],
   "source": [
    "delta_E_model_name = 'random_forest_model.pkl'\n",
    "sim_time_model_name = 'random_forest_model.pkl'"
   ]
  },
  {
   "cell_type": "code",
   "execution_count": 5,
   "id": "a6640cdc",
   "metadata": {},
   "outputs": [],
   "source": [
    "with open(DELTA_E_MODELS_DIR + delta_E_model_name, 'rb') as file:\n",
    "    delta_E_model = pickle.load(file)"
   ]
  },
  {
   "cell_type": "code",
   "execution_count": 6,
   "id": "f1e9539f",
   "metadata": {},
   "outputs": [],
   "source": [
    "with open(SIM_TIME_MODELS_DIR + sim_time_model_name, 'rb') as file:\n",
    "    sim_time_model = pickle.load(file)"
   ]
  },
  {
   "cell_type": "markdown",
   "id": "5529dca1",
   "metadata": {},
   "source": [
    "# Load data"
   ]
  },
  {
   "cell_type": "code",
   "execution_count": 7,
   "id": "2c761f0a",
   "metadata": {},
   "outputs": [],
   "source": [
    "encoding = StructureEncoding.COLUMN_MASS\n",
    "\n",
    "df = pd.read_csv(os.path.join(DATA_DIR, \"data.csv\"), index_col=0, na_filter= False)\n",
    "df = encode_all_structures(df, encoding)"
   ]
  },
  {
   "cell_type": "markdown",
   "id": "16a90d47",
   "metadata": {},
   "source": [
    "## Transform to ∆E input"
   ]
  },
  {
   "cell_type": "code",
   "execution_count": 8,
   "id": "ee0de18a",
   "metadata": {},
   "outputs": [],
   "source": [
    "cols_raw = list(df.columns)\n",
    "cols_trash = [\"structure\", 'converged', 'accuracy', \"n_iterations\", \"time\", \"fermi\", \"total_energy\"]\n",
    "cols_independent = ['delta_E']\n",
    "cols_drop = cols_trash + cols_independent\n",
    "\n",
    "cols_dependent = cols_raw.copy()\n",
    "for element in cols_drop:\n",
    "    cols_dependent.remove(element)\n",
    "\n",
    "\n",
    "X_raw = df[cols_dependent][df[\"converged\"]]\n",
    "y_raw = np.abs(df[cols_independent][df[\"converged\"]]).squeeze()\n"
   ]
  },
  {
   "cell_type": "markdown",
   "id": "41e34ff9",
   "metadata": {},
   "source": [
    "## Transform to sim time input"
   ]
  },
  {
   "cell_type": "code",
   "execution_count": 9,
   "id": "436b680d",
   "metadata": {},
   "outputs": [],
   "source": [
    "cols_raw = list(df.columns)\n",
    "cols_trash = [\"structure\", 'converged', 'accuracy', \"n_iterations\", \"delta_E\", \"fermi\", \"total_energy\"]\n",
    "cols_independent = ['time']\n",
    "cols_drop = cols_trash + cols_independent\n",
    "\n",
    "cols_dependent = cols_raw.copy()\n",
    "for element in cols_drop:\n",
    "    cols_dependent.remove(element)\n",
    "cols_dependent\n",
    "\n",
    "X_raw_sim_time = df[cols_dependent][df[\"converged\"]]\n",
    "y_raw_sim_time = np.abs(df[cols_independent][df[\"converged\"]]).squeeze()\n"
   ]
  },
  {
   "cell_type": "markdown",
   "id": "d3c409b4",
   "metadata": {},
   "source": [
    "# Setting up optimizer"
   ]
  },
  {
   "cell_type": "code",
   "execution_count": 10,
   "id": "50dae418",
   "metadata": {},
   "outputs": [],
   "source": [
    "def sanitize_input(x):\n",
    "    return np.array([int(round(x_i)) for x_i in x])\n",
    "\n",
    "def delta_E_prediction(x, model, structure_encoding):\n",
    "    input = np.concatenate([x, structure_encoding])\n",
    "    input = pd.DataFrame(input.reshape(1, -1), columns=X_raw.columns)\n",
    "    return model.predict(input)[0]\n",
    "\n",
    "def sim_time_prediction(x, model, structure_encoding):\n",
    "    input = np.concatenate([x, structure_encoding])\n",
    "    input = pd.DataFrame(input.reshape(1, -1), columns=X_raw_sim_time.columns)\n",
    "    return model.predict(input)[0]\n",
    "\n",
    "def get_structure_encoding(structure_key):\n",
    "    structure_data = df[df[\"structure\"] == structure_key]\n",
    "\n",
    "    # then find the index of the first encoding column\n",
    "    if encoding in [StructureEncoding.COLUMN, StructureEncoding.COLUMN_MASS]:\n",
    "        enc_first_idx = next((i for i, col in enumerate(structure_data.columns) if col in PTC_COLNAMES), None)\n",
    "    elif encoding == StructureEncoding.ATOMIC:\n",
    "        enc_first_idx = next((i for i, col in enumerate(structure_data.columns) if col in PERIODIC_TABLE_INFO), None)\n",
    "\n",
    "    # finally get the encoding\n",
    "    structure_encoding = np.array(structure_data.iloc[0, enc_first_idx:].values, dtype=float)\n",
    "    \n",
    "    return structure_encoding"
   ]
  },
  {
   "cell_type": "code",
   "execution_count": 11,
   "id": "0d6dfe7a",
   "metadata": {},
   "outputs": [],
   "source": [
    "structure_key = 'AgCl'\n",
    "structure_encoding = get_structure_encoding(structure_key)"
   ]
  },
  {
   "cell_type": "code",
   "execution_count": 12,
   "id": "a4274241",
   "metadata": {
    "scrolled": true
   },
   "outputs": [
    {
     "name": "stdout",
     "output_type": "stream",
     "text": [
      "=======OPTIMIZATION PARAMETERS=======\n",
      "∆E_max: 1.000E-03\n",
      "Structure: AgCl\n",
      "========OPTIMIZATION RESULTS=========\n",
      "     fun: 6213.8\n",
      " message: 'Optimization terminated successfully.'\n",
      "    nfev: 949\n",
      "     nit: 20\n",
      " success: True\n",
      "       x: array([108.80954064,   4.19503612,  54.86611857])\n",
      "=============PREDICTIONS=============\n",
      "Parameters: [109   4  55]\tSim. time: 6213.8\t∆E: 4.496E-04\n"
     ]
    }
   ],
   "source": [
    "max_delta_E = 1e-3\n",
    "\n",
    "delta_E_pred_func = lambda x: delta_E_prediction(sanitize_input(x), delta_E_model, structure_encoding)\n",
    "complexity_pred_func = lambda x: sim_time_prediction(sanitize_input(x), sim_time_model, structure_encoding)\n",
    "\n",
    "mu = 1e100\n",
    "def pen_func(x):\n",
    "    return (\n",
    "        complexity_pred_func(sanitize_input(x))\n",
    "        + mu * max(delta_E_pred_func(sanitize_input(x)) - max_delta_E, 0) / max_delta_E\n",
    "    )\n",
    "\n",
    "res = differential_evolution(\n",
    "    pen_func,\n",
    "    bounds=[\n",
    "        (X_raw[\"ecutrho\"].min(),X_raw[\"ecutrho\"].max()), \n",
    "        (X_raw[\"k_density\"].min(), X_raw[\"k_density\"].max()),\n",
    "        (X_raw[\"ecutwfc\"].min(),X_raw[\"ecutwfc\"].max())\n",
    "    ],\n",
    "    seed=0,\n",
    ")\n",
    "\n",
    "x_f = sanitize_input(res.x)\n",
    "\n",
    "print(\"=======OPTIMIZATION PARAMETERS=======\")\n",
    "print(f\"∆E_max: {max_delta_E:.3E}\")\n",
    "print(f\"Structure: {structure_key}\")\n",
    "print(\"========OPTIMIZATION RESULTS=========\")\n",
    "print(res)\n",
    "print(\"=============PREDICTIONS=============\")\n",
    "print(f\"Parameters: {x_f}\\tSim. time: {complexity_pred_func(x_f)}\\t∆E: {delta_E_pred_func(x_f):.3E}\")\n"
   ]
  }
 ],
 "metadata": {
  "kernelspec": {
   "display_name": "Python 3 (ipykernel)",
   "language": "python",
   "name": "python3"
  },
  "language_info": {
   "codemirror_mode": {
    "name": "ipython",
    "version": 3
   },
   "file_extension": ".py",
   "mimetype": "text/x-python",
   "name": "python",
   "nbconvert_exporter": "python",
   "pygments_lexer": "ipython3",
   "version": "3.8.12"
  }
 },
 "nbformat": 4,
 "nbformat_minor": 5
}
