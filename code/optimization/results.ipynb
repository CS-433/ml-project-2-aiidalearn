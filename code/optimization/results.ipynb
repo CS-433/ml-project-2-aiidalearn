{
 "cells": [
  {
   "cell_type": "code",
   "execution_count": 1,
   "metadata": {},
   "outputs": [],
   "source": [
    "import os\n",
    "import sys\n",
    "from pathlib import Path\n",
    "import numpy as np\n",
    "import pandas as pd\n",
    "import matplotlib.pyplot as plt\n",
    "from sklearn.metrics import (\n",
    "    mean_absolute_error,\n",
    "    mean_absolute_percentage_error,\n",
    "    mean_squared_error,\n",
    "    accuracy_score,\n",
    "    r2_score\n",
    ")\n",
    "\n",
    "ROOT_DIR = str(Path(os.getcwd()).parent.parent.absolute())\n",
    "sys.path.append(os.path.join(ROOT_DIR, \"code\"))\n",
    "from tools.utils import load_json\n",
    "from tools.utils import custom_mape, percentile_absolute_percentage_error"
   ]
  },
  {
   "cell_type": "code",
   "execution_count": 2,
   "metadata": {},
   "outputs": [],
   "source": [
    "DATA_DIR = os.path.join(ROOT_DIR, \"data\")\n",
    "OPTIM_RES_DIR = os.path.join(DATA_DIR, \"test_optimization_results\")"
   ]
  },
  {
   "cell_type": "code",
   "execution_count": 3,
   "metadata": {},
   "outputs": [],
   "source": [
    "OPT_RES = load_json(os.path.join(OPTIM_RES_DIR, \"optimization_results.json\"))\n",
    "SIM_RES = load_json(os.path.join(OPTIM_RES_DIR, \"data_opt_par.json\"))\n",
    "REF_ENERGY = pd.read_csv(os.path.join(DATA_DIR, \"ref_energy.csv\"))"
   ]
  },
  {
   "cell_type": "code",
   "execution_count": 4,
   "metadata": {},
   "outputs": [
    {
     "data": {
      "text/html": [
       "<div>\n",
       "<style scoped>\n",
       "    .dataframe tbody tr th:only-of-type {\n",
       "        vertical-align: middle;\n",
       "    }\n",
       "\n",
       "    .dataframe tbody tr th {\n",
       "        vertical-align: top;\n",
       "    }\n",
       "\n",
       "    .dataframe thead th {\n",
       "        text-align: right;\n",
       "    }\n",
       "</style>\n",
       "<table border=\"1\" class=\"dataframe\">\n",
       "  <thead>\n",
       "    <tr style=\"text-align: right;\">\n",
       "      <th></th>\n",
       "      <th>structure</th>\n",
       "      <th>max_delta_E</th>\n",
       "      <th>sim_time_pred</th>\n",
       "      <th>delta_E_pred</th>\n",
       "      <th>ecutrho</th>\n",
       "      <th>k_density</th>\n",
       "      <th>ecutwfc</th>\n",
       "    </tr>\n",
       "  </thead>\n",
       "  <tbody>\n",
       "    <tr>\n",
       "      <th>0</th>\n",
       "      <td>Sr1N1</td>\n",
       "      <td>0.100000</td>\n",
       "      <td>164.261369</td>\n",
       "      <td>5.153436e-03</td>\n",
       "      <td>155</td>\n",
       "      <td>3</td>\n",
       "      <td>28</td>\n",
       "    </tr>\n",
       "    <tr>\n",
       "      <th>1</th>\n",
       "      <td>Sr1N1</td>\n",
       "      <td>0.010000</td>\n",
       "      <td>164.261369</td>\n",
       "      <td>5.096845e-03</td>\n",
       "      <td>194</td>\n",
       "      <td>3</td>\n",
       "      <td>29</td>\n",
       "    </tr>\n",
       "    <tr>\n",
       "      <th>2</th>\n",
       "      <td>Sr1N1</td>\n",
       "      <td>0.001000</td>\n",
       "      <td>628.133645</td>\n",
       "      <td>4.795131e-04</td>\n",
       "      <td>118</td>\n",
       "      <td>3</td>\n",
       "      <td>40</td>\n",
       "    </tr>\n",
       "    <tr>\n",
       "      <th>3</th>\n",
       "      <td>Sr1N1</td>\n",
       "      <td>0.000100</td>\n",
       "      <td>653.979647</td>\n",
       "      <td>5.632547e-05</td>\n",
       "      <td>140</td>\n",
       "      <td>3</td>\n",
       "      <td>42</td>\n",
       "    </tr>\n",
       "    <tr>\n",
       "      <th>4</th>\n",
       "      <td>Sr1N1</td>\n",
       "      <td>0.000010</td>\n",
       "      <td>141153.570920</td>\n",
       "      <td>2.658487e-06</td>\n",
       "      <td>233</td>\n",
       "      <td>10</td>\n",
       "      <td>98</td>\n",
       "    </tr>\n",
       "    <tr>\n",
       "      <th>...</th>\n",
       "      <td>...</td>\n",
       "      <td>...</td>\n",
       "      <td>...</td>\n",
       "      <td>...</td>\n",
       "      <td>...</td>\n",
       "      <td>...</td>\n",
       "      <td>...</td>\n",
       "    </tr>\n",
       "    <tr>\n",
       "      <th>595</th>\n",
       "      <td>Nd1Hg1</td>\n",
       "      <td>0.010000</td>\n",
       "      <td>66503.839130</td>\n",
       "      <td>8.414595e-04</td>\n",
       "      <td>348</td>\n",
       "      <td>5</td>\n",
       "      <td>37</td>\n",
       "    </tr>\n",
       "    <tr>\n",
       "      <th>596</th>\n",
       "      <td>Nd1Hg1</td>\n",
       "      <td>0.001000</td>\n",
       "      <td>66503.839130</td>\n",
       "      <td>8.414595e-04</td>\n",
       "      <td>348</td>\n",
       "      <td>5</td>\n",
       "      <td>37</td>\n",
       "    </tr>\n",
       "    <tr>\n",
       "      <th>597</th>\n",
       "      <td>Nd1Hg1</td>\n",
       "      <td>0.000100</td>\n",
       "      <td>75848.830435</td>\n",
       "      <td>3.594837e-06</td>\n",
       "      <td>105</td>\n",
       "      <td>4</td>\n",
       "      <td>75</td>\n",
       "    </tr>\n",
       "    <tr>\n",
       "      <th>598</th>\n",
       "      <td>Nd1Hg1</td>\n",
       "      <td>0.000010</td>\n",
       "      <td>928638.691304</td>\n",
       "      <td>4.498947e-08</td>\n",
       "      <td>362</td>\n",
       "      <td>9</td>\n",
       "      <td>33</td>\n",
       "    </tr>\n",
       "    <tr>\n",
       "      <th>599</th>\n",
       "      <td>Nd1Hg1</td>\n",
       "      <td>0.000001</td>\n",
       "      <td>928638.691304</td>\n",
       "      <td>4.498947e-08</td>\n",
       "      <td>367</td>\n",
       "      <td>9</td>\n",
       "      <td>35</td>\n",
       "    </tr>\n",
       "  </tbody>\n",
       "</table>\n",
       "<p>600 rows × 7 columns</p>\n",
       "</div>"
      ],
      "text/plain": [
       "    structure  max_delta_E  sim_time_pred  delta_E_pred  ecutrho  k_density  \\\n",
       "0       Sr1N1     0.100000     164.261369  5.153436e-03      155          3   \n",
       "1       Sr1N1     0.010000     164.261369  5.096845e-03      194          3   \n",
       "2       Sr1N1     0.001000     628.133645  4.795131e-04      118          3   \n",
       "3       Sr1N1     0.000100     653.979647  5.632547e-05      140          3   \n",
       "4       Sr1N1     0.000010  141153.570920  2.658487e-06      233         10   \n",
       "..        ...          ...            ...           ...      ...        ...   \n",
       "595    Nd1Hg1     0.010000   66503.839130  8.414595e-04      348          5   \n",
       "596    Nd1Hg1     0.001000   66503.839130  8.414595e-04      348          5   \n",
       "597    Nd1Hg1     0.000100   75848.830435  3.594837e-06      105          4   \n",
       "598    Nd1Hg1     0.000010  928638.691304  4.498947e-08      362          9   \n",
       "599    Nd1Hg1     0.000001  928638.691304  4.498947e-08      367          9   \n",
       "\n",
       "     ecutwfc  \n",
       "0         28  \n",
       "1         29  \n",
       "2         40  \n",
       "3         42  \n",
       "4         98  \n",
       "..       ...  \n",
       "595       37  \n",
       "596       37  \n",
       "597       75  \n",
       "598       33  \n",
       "599       35  \n",
       "\n",
       "[600 rows x 7 columns]"
      ]
     },
     "execution_count": 4,
     "metadata": {},
     "output_type": "execute_result"
    }
   ],
   "source": [
    "opt_res_params = [{**x, **x[\"params\"]} for x in OPT_RES]\n",
    "opt_res_df = pd.DataFrame(opt_res_params)\n",
    "opt_res_df.drop([\"params\"], axis=1, inplace=True)\n",
    "opt_res_df"
   ]
  },
  {
   "cell_type": "code",
   "execution_count": 5,
   "metadata": {},
   "outputs": [
    {
     "data": {
      "text/html": [
       "<div>\n",
       "<style scoped>\n",
       "    .dataframe tbody tr th:only-of-type {\n",
       "        vertical-align: middle;\n",
       "    }\n",
       "\n",
       "    .dataframe tbody tr th {\n",
       "        vertical-align: top;\n",
       "    }\n",
       "\n",
       "    .dataframe thead th {\n",
       "        text-align: right;\n",
       "    }\n",
       "</style>\n",
       "<table border=\"1\" class=\"dataframe\">\n",
       "  <thead>\n",
       "    <tr style=\"text-align: right;\">\n",
       "      <th></th>\n",
       "      <th>ecutrho</th>\n",
       "      <th>k_density</th>\n",
       "      <th>ecutwfc</th>\n",
       "      <th>sim_time_real</th>\n",
       "      <th>converged</th>\n",
       "      <th>structure</th>\n",
       "      <th>delta_E_real</th>\n",
       "    </tr>\n",
       "  </thead>\n",
       "  <tbody>\n",
       "    <tr>\n",
       "      <th>0</th>\n",
       "      <td>304</td>\n",
       "      <td>10</td>\n",
       "      <td>100</td>\n",
       "      <td>223097.0</td>\n",
       "      <td>True</td>\n",
       "      <td>Ag1Ir1</td>\n",
       "      <td>3.100000e-07</td>\n",
       "    </tr>\n",
       "    <tr>\n",
       "      <th>1</th>\n",
       "      <td>112</td>\n",
       "      <td>5</td>\n",
       "      <td>37</td>\n",
       "      <td>22155.0</td>\n",
       "      <td>True</td>\n",
       "      <td>Ag1Ir1</td>\n",
       "      <td>1.476869e-02</td>\n",
       "    </tr>\n",
       "    <tr>\n",
       "      <th>2</th>\n",
       "      <td>193</td>\n",
       "      <td>5</td>\n",
       "      <td>42</td>\n",
       "      <td>22071.0</td>\n",
       "      <td>True</td>\n",
       "      <td>Ag1Ir1</td>\n",
       "      <td>3.441175e-03</td>\n",
       "    </tr>\n",
       "    <tr>\n",
       "      <th>3</th>\n",
       "      <td>168</td>\n",
       "      <td>6</td>\n",
       "      <td>47</td>\n",
       "      <td>37143.0</td>\n",
       "      <td>True</td>\n",
       "      <td>Ag1Ir1</td>\n",
       "      <td>3.941000e-05</td>\n",
       "    </tr>\n",
       "    <tr>\n",
       "      <th>4</th>\n",
       "      <td>186</td>\n",
       "      <td>10</td>\n",
       "      <td>98</td>\n",
       "      <td>220110.0</td>\n",
       "      <td>True</td>\n",
       "      <td>Ag1Ir1</td>\n",
       "      <td>1.692500e-05</td>\n",
       "    </tr>\n",
       "    <tr>\n",
       "      <th>...</th>\n",
       "      <td>...</td>\n",
       "      <td>...</td>\n",
       "      <td>...</td>\n",
       "      <td>...</td>\n",
       "      <td>...</td>\n",
       "      <td>...</td>\n",
       "      <td>...</td>\n",
       "    </tr>\n",
       "    <tr>\n",
       "      <th>553</th>\n",
       "      <td>182</td>\n",
       "      <td>3</td>\n",
       "      <td>25</td>\n",
       "      <td>2116.0</td>\n",
       "      <td>True</td>\n",
       "      <td>Zr1S1</td>\n",
       "      <td>7.583555e-03</td>\n",
       "    </tr>\n",
       "    <tr>\n",
       "      <th>554</th>\n",
       "      <td>264</td>\n",
       "      <td>5</td>\n",
       "      <td>26</td>\n",
       "      <td>12070.0</td>\n",
       "      <td>True</td>\n",
       "      <td>Zr1S1</td>\n",
       "      <td>9.647700e-04</td>\n",
       "    </tr>\n",
       "    <tr>\n",
       "      <th>555</th>\n",
       "      <td>152</td>\n",
       "      <td>10</td>\n",
       "      <td>38</td>\n",
       "      <td>112068.0</td>\n",
       "      <td>True</td>\n",
       "      <td>Zr1S1</td>\n",
       "      <td>1.016750e-04</td>\n",
       "    </tr>\n",
       "    <tr>\n",
       "      <th>556</th>\n",
       "      <td>108</td>\n",
       "      <td>10</td>\n",
       "      <td>58</td>\n",
       "      <td>114105.0</td>\n",
       "      <td>True</td>\n",
       "      <td>Zr1S1</td>\n",
       "      <td>1.806500e-05</td>\n",
       "    </tr>\n",
       "    <tr>\n",
       "      <th>557</th>\n",
       "      <td>317</td>\n",
       "      <td>10</td>\n",
       "      <td>99</td>\n",
       "      <td>178129.0</td>\n",
       "      <td>True</td>\n",
       "      <td>Zr1S1</td>\n",
       "      <td>3.550000e-07</td>\n",
       "    </tr>\n",
       "  </tbody>\n",
       "</table>\n",
       "<p>558 rows × 7 columns</p>\n",
       "</div>"
      ],
      "text/plain": [
       "     ecutrho  k_density  ecutwfc  sim_time_real  converged structure  \\\n",
       "0        304         10      100       223097.0       True    Ag1Ir1   \n",
       "1        112          5       37        22155.0       True    Ag1Ir1   \n",
       "2        193          5       42        22071.0       True    Ag1Ir1   \n",
       "3        168          6       47        37143.0       True    Ag1Ir1   \n",
       "4        186         10       98       220110.0       True    Ag1Ir1   \n",
       "..       ...        ...      ...            ...        ...       ...   \n",
       "553      182          3       25         2116.0       True     Zr1S1   \n",
       "554      264          5       26        12070.0       True     Zr1S1   \n",
       "555      152         10       38       112068.0       True     Zr1S1   \n",
       "556      108         10       58       114105.0       True     Zr1S1   \n",
       "557      317         10       99       178129.0       True     Zr1S1   \n",
       "\n",
       "     delta_E_real  \n",
       "0    3.100000e-07  \n",
       "1    1.476869e-02  \n",
       "2    3.441175e-03  \n",
       "3    3.941000e-05  \n",
       "4    1.692500e-05  \n",
       "..            ...  \n",
       "553  7.583555e-03  \n",
       "554  9.647700e-04  \n",
       "555  1.016750e-04  \n",
       "556  1.806500e-05  \n",
       "557  3.550000e-07  \n",
       "\n",
       "[558 rows x 7 columns]"
      ]
     },
     "execution_count": 5,
     "metadata": {},
     "output_type": "execute_result"
    }
   ],
   "source": [
    "sim_res_df = pd.DataFrame(SIM_RES)\n",
    "sim_res_df.rename(columns={\"system\": \"structure\", \"time\": \"sim_time_real\"}, inplace=True)\n",
    "sim_res_df[\"k_density\"] = sim_res_df[\"k_density\"].apply(lambda x: int(round(1/x)))\n",
    "sim_res_df = pd.merge(sim_res_df, REF_ENERGY, on=\"structure\")\n",
    "sim_res_df[\"delta_E_real\"] = np.abs(sim_res_df[\"total_energy_x\"] - sim_res_df[\"total_energy_y\"])\n",
    "sim_res_df.drop([\"total_energy_x\", \"total_energy_y\", \"accuracy\", \"fermi\", \"n_iterations\"], axis=1, inplace=True)\n",
    "sim_res_df"
   ]
  },
  {
   "cell_type": "code",
   "execution_count": 6,
   "metadata": {},
   "outputs": [
    {
     "name": "stdout",
     "output_type": "stream",
     "text": [
      "Number of duplicated keys in opt_res_df: 15\n",
      "Number of duplicated keys in sim_res_df: 0\n"
     ]
    }
   ],
   "source": [
    "def count_not_unique(l):\n",
    "    visited = set()\n",
    "    count = 0\n",
    "    for x in l:\n",
    "        key = repr(x)\n",
    "        if key not in visited:\n",
    "            visited.add(key)\n",
    "        else:\n",
    "            count += 1\n",
    "    return count\n",
    "\n",
    "col_keys = [\"structure\", \"k_density\", \"ecutrho\", \"ecutwfc\"]\n",
    "\n",
    "print(f\"Number of duplicated keys in opt_res_df: {count_not_unique(opt_res_df[col_keys].values)}\")\n",
    "print(f\"Number of duplicated keys in sim_res_df: {count_not_unique(sim_res_df[col_keys].values)}\")"
   ]
  },
  {
   "cell_type": "markdown",
   "metadata": {},
   "source": [
    "There are duplicated keys in opt_res_df since the optimization procedure generated the same parameters for different max_delta_E values."
   ]
  },
  {
   "cell_type": "code",
   "execution_count": 7,
   "metadata": {},
   "outputs": [
    {
     "data": {
      "text/html": [
       "<div>\n",
       "<style scoped>\n",
       "    .dataframe tbody tr th:only-of-type {\n",
       "        vertical-align: middle;\n",
       "    }\n",
       "\n",
       "    .dataframe tbody tr th {\n",
       "        vertical-align: top;\n",
       "    }\n",
       "\n",
       "    .dataframe thead th {\n",
       "        text-align: right;\n",
       "    }\n",
       "</style>\n",
       "<table border=\"1\" class=\"dataframe\">\n",
       "  <thead>\n",
       "    <tr style=\"text-align: right;\">\n",
       "      <th></th>\n",
       "      <th>ecutrho</th>\n",
       "      <th>k_density</th>\n",
       "      <th>ecutwfc</th>\n",
       "      <th>sim_time_real</th>\n",
       "      <th>converged</th>\n",
       "      <th>structure</th>\n",
       "      <th>delta_E_real</th>\n",
       "      <th>max_delta_E</th>\n",
       "      <th>sim_time_pred</th>\n",
       "      <th>delta_E_pred</th>\n",
       "    </tr>\n",
       "  </thead>\n",
       "  <tbody>\n",
       "    <tr>\n",
       "      <th>0</th>\n",
       "      <td>304</td>\n",
       "      <td>10</td>\n",
       "      <td>100</td>\n",
       "      <td>223097.0</td>\n",
       "      <td>True</td>\n",
       "      <td>Ag1Ir1</td>\n",
       "      <td>3.100000e-07</td>\n",
       "      <td>0.000001</td>\n",
       "      <td>209556.320200</td>\n",
       "      <td>4.788765e-07</td>\n",
       "    </tr>\n",
       "    <tr>\n",
       "      <th>1</th>\n",
       "      <td>112</td>\n",
       "      <td>5</td>\n",
       "      <td>37</td>\n",
       "      <td>22155.0</td>\n",
       "      <td>True</td>\n",
       "      <td>Ag1Ir1</td>\n",
       "      <td>1.476869e-02</td>\n",
       "      <td>0.100000</td>\n",
       "      <td>9917.615330</td>\n",
       "      <td>2.041514e-02</td>\n",
       "    </tr>\n",
       "    <tr>\n",
       "      <th>2</th>\n",
       "      <td>193</td>\n",
       "      <td>5</td>\n",
       "      <td>42</td>\n",
       "      <td>22071.0</td>\n",
       "      <td>True</td>\n",
       "      <td>Ag1Ir1</td>\n",
       "      <td>3.441175e-03</td>\n",
       "      <td>0.010000</td>\n",
       "      <td>10393.127872</td>\n",
       "      <td>1.456631e-03</td>\n",
       "    </tr>\n",
       "    <tr>\n",
       "      <th>3</th>\n",
       "      <td>168</td>\n",
       "      <td>6</td>\n",
       "      <td>47</td>\n",
       "      <td>37143.0</td>\n",
       "      <td>True</td>\n",
       "      <td>Ag1Ir1</td>\n",
       "      <td>3.941000e-05</td>\n",
       "      <td>0.001000</td>\n",
       "      <td>36115.138752</td>\n",
       "      <td>3.642626e-04</td>\n",
       "    </tr>\n",
       "    <tr>\n",
       "      <th>4</th>\n",
       "      <td>186</td>\n",
       "      <td>10</td>\n",
       "      <td>98</td>\n",
       "      <td>220110.0</td>\n",
       "      <td>True</td>\n",
       "      <td>Ag1Ir1</td>\n",
       "      <td>1.692500e-05</td>\n",
       "      <td>0.000010</td>\n",
       "      <td>204997.406497</td>\n",
       "      <td>4.450958e-06</td>\n",
       "    </tr>\n",
       "    <tr>\n",
       "      <th>...</th>\n",
       "      <td>...</td>\n",
       "      <td>...</td>\n",
       "      <td>...</td>\n",
       "      <td>...</td>\n",
       "      <td>...</td>\n",
       "      <td>...</td>\n",
       "      <td>...</td>\n",
       "      <td>...</td>\n",
       "      <td>...</td>\n",
       "      <td>...</td>\n",
       "    </tr>\n",
       "    <tr>\n",
       "      <th>568</th>\n",
       "      <td>182</td>\n",
       "      <td>3</td>\n",
       "      <td>25</td>\n",
       "      <td>2116.0</td>\n",
       "      <td>True</td>\n",
       "      <td>Zr1S1</td>\n",
       "      <td>7.583555e-03</td>\n",
       "      <td>0.100000</td>\n",
       "      <td>1005.701372</td>\n",
       "      <td>1.557236e-02</td>\n",
       "    </tr>\n",
       "    <tr>\n",
       "      <th>569</th>\n",
       "      <td>264</td>\n",
       "      <td>5</td>\n",
       "      <td>26</td>\n",
       "      <td>12070.0</td>\n",
       "      <td>True</td>\n",
       "      <td>Zr1S1</td>\n",
       "      <td>9.647700e-04</td>\n",
       "      <td>0.010000</td>\n",
       "      <td>8440.464447</td>\n",
       "      <td>1.986217e-04</td>\n",
       "    </tr>\n",
       "    <tr>\n",
       "      <th>570</th>\n",
       "      <td>152</td>\n",
       "      <td>10</td>\n",
       "      <td>38</td>\n",
       "      <td>112068.0</td>\n",
       "      <td>True</td>\n",
       "      <td>Zr1S1</td>\n",
       "      <td>1.016750e-04</td>\n",
       "      <td>0.000100</td>\n",
       "      <td>168006.602029</td>\n",
       "      <td>8.888457e-05</td>\n",
       "    </tr>\n",
       "    <tr>\n",
       "      <th>571</th>\n",
       "      <td>108</td>\n",
       "      <td>10</td>\n",
       "      <td>58</td>\n",
       "      <td>114105.0</td>\n",
       "      <td>True</td>\n",
       "      <td>Zr1S1</td>\n",
       "      <td>1.806500e-05</td>\n",
       "      <td>0.000010</td>\n",
       "      <td>184814.058297</td>\n",
       "      <td>6.680331e-06</td>\n",
       "    </tr>\n",
       "    <tr>\n",
       "      <th>572</th>\n",
       "      <td>317</td>\n",
       "      <td>10</td>\n",
       "      <td>99</td>\n",
       "      <td>178129.0</td>\n",
       "      <td>True</td>\n",
       "      <td>Zr1S1</td>\n",
       "      <td>3.550000e-07</td>\n",
       "      <td>0.000001</td>\n",
       "      <td>209556.320200</td>\n",
       "      <td>3.295623e-07</td>\n",
       "    </tr>\n",
       "  </tbody>\n",
       "</table>\n",
       "<p>573 rows × 10 columns</p>\n",
       "</div>"
      ],
      "text/plain": [
       "     ecutrho  k_density  ecutwfc  sim_time_real  converged structure  \\\n",
       "0        304         10      100       223097.0       True    Ag1Ir1   \n",
       "1        112          5       37        22155.0       True    Ag1Ir1   \n",
       "2        193          5       42        22071.0       True    Ag1Ir1   \n",
       "3        168          6       47        37143.0       True    Ag1Ir1   \n",
       "4        186         10       98       220110.0       True    Ag1Ir1   \n",
       "..       ...        ...      ...            ...        ...       ...   \n",
       "568      182          3       25         2116.0       True     Zr1S1   \n",
       "569      264          5       26        12070.0       True     Zr1S1   \n",
       "570      152         10       38       112068.0       True     Zr1S1   \n",
       "571      108         10       58       114105.0       True     Zr1S1   \n",
       "572      317         10       99       178129.0       True     Zr1S1   \n",
       "\n",
       "     delta_E_real  max_delta_E  sim_time_pred  delta_E_pred  \n",
       "0    3.100000e-07     0.000001  209556.320200  4.788765e-07  \n",
       "1    1.476869e-02     0.100000    9917.615330  2.041514e-02  \n",
       "2    3.441175e-03     0.010000   10393.127872  1.456631e-03  \n",
       "3    3.941000e-05     0.001000   36115.138752  3.642626e-04  \n",
       "4    1.692500e-05     0.000010  204997.406497  4.450958e-06  \n",
       "..            ...          ...            ...           ...  \n",
       "568  7.583555e-03     0.100000    1005.701372  1.557236e-02  \n",
       "569  9.647700e-04     0.010000    8440.464447  1.986217e-04  \n",
       "570  1.016750e-04     0.000100  168006.602029  8.888457e-05  \n",
       "571  1.806500e-05     0.000010  184814.058297  6.680331e-06  \n",
       "572  3.550000e-07     0.000001  209556.320200  3.295623e-07  \n",
       "\n",
       "[573 rows x 10 columns]"
      ]
     },
     "execution_count": 7,
     "metadata": {},
     "output_type": "execute_result"
    }
   ],
   "source": [
    "full_df = pd.merge(sim_res_df, opt_res_df, on=col_keys)\n",
    "full_df"
   ]
  },
  {
   "cell_type": "markdown",
   "metadata": {},
   "source": [
    "## Check max_delta_E constraint"
   ]
  },
  {
   "cell_type": "code",
   "execution_count": 8,
   "metadata": {},
   "outputs": [
    {
     "name": "stdout",
     "output_type": "stream",
     "text": [
      "Expected: 93.37% of simulations have max_delta_E respected\n",
      "Result: 56.72% of simulations have max_delta_E respected\n"
     ]
    }
   ],
   "source": [
    "# count max_delta_E respected\n",
    "print(f\"Expected: {100*(full_df['max_delta_E'] >= full_df['delta_E_pred']).sum()/full_df.shape[0]:.2f}% of simulations have max_delta_E respected\")\n",
    "print(f\"Result: {100*(full_df['max_delta_E'] >= full_df['delta_E_real']).sum()/full_df.shape[0]:.2f}% of simulations have max_delta_E respected\")"
   ]
  },
  {
   "cell_type": "code",
   "execution_count": 9,
   "metadata": {},
   "outputs": [],
   "source": [
    "idx_prob = full_df['max_delta_E'] < full_df['delta_E_real']\n",
    "ratio_prob = full_df[idx_prob]['delta_E_real'] / full_df[idx_prob]['max_delta_E']\n",
    "ratio = full_df['delta_E_real'] / full_df['max_delta_E']"
   ]
  },
  {
   "cell_type": "code",
   "execution_count": 10,
   "metadata": {},
   "outputs": [
    {
     "data": {
      "text/plain": [
       "count      573.000000\n",
       "mean        86.800832\n",
       "std        930.580722\n",
       "min          0.000415\n",
       "25%          0.316414\n",
       "50%          0.813587\n",
       "75%          3.005000\n",
       "max      19483.190000\n",
       "dtype: float64"
      ]
     },
     "execution_count": 10,
     "metadata": {},
     "output_type": "execute_result"
    }
   ],
   "source": [
    "ratio.describe()"
   ]
  },
  {
   "cell_type": "code",
   "execution_count": 11,
   "metadata": {},
   "outputs": [
    {
     "data": {
      "text/plain": [
       "count    573.000000\n",
       "mean       0.052017\n",
       "std        1.009984\n",
       "min       -3.381952\n",
       "25%       -0.499744\n",
       "50%       -0.089596\n",
       "75%        0.477844\n",
       "max        4.289660\n",
       "dtype: float64"
      ]
     },
     "execution_count": 11,
     "metadata": {},
     "output_type": "execute_result"
    }
   ],
   "source": [
    "np.log10(ratio).describe()"
   ]
  },
  {
   "cell_type": "code",
   "execution_count": 12,
   "metadata": {},
   "outputs": [
    {
     "data": {
      "text/plain": [
       "count      248.000000\n",
       "mean       200.018264\n",
       "std       1408.097095\n",
       "min          1.010000\n",
       "25%          1.686888\n",
       "50%          4.362045\n",
       "75%         18.739662\n",
       "max      19483.190000\n",
       "dtype: float64"
      ]
     },
     "execution_count": 12,
     "metadata": {},
     "output_type": "execute_result"
    }
   ],
   "source": [
    "ratio_prob.describe()"
   ]
  },
  {
   "cell_type": "code",
   "execution_count": 13,
   "metadata": {},
   "outputs": [
    {
     "data": {
      "text/plain": [
       "count    248.000000\n",
       "mean       0.890807\n",
       "std        0.859735\n",
       "min        0.004321\n",
       "25%        0.227079\n",
       "50%        0.639690\n",
       "75%        1.272753\n",
       "max        4.289660\n",
       "dtype: float64"
      ]
     },
     "execution_count": 13,
     "metadata": {},
     "output_type": "execute_result"
    }
   ],
   "source": [
    "np.log10(ratio_prob).describe()"
   ]
  },
  {
   "cell_type": "code",
   "execution_count": 14,
   "metadata": {},
   "outputs": [
    {
     "data": {
      "image/png": "[encoded data removed]",
      "text/plain": [
       "<Figure size 432x288 with 1 Axes>"
      ]
     },
     "metadata": {
      "needs_background": "light"
     },
     "output_type": "display_data"
    }
   ],
   "source": [
    "plt.hist(ratio, bins=100)\n",
    "plt.show()"
   ]
  },
  {
   "cell_type": "code",
   "execution_count": 15,
   "metadata": {},
   "outputs": [
    {
     "data": {
      "image/png": "[encoded data removed]",
      "text/plain": [
       "<Figure size 432x288 with 1 Axes>"
      ]
     },
     "metadata": {
      "needs_background": "light"
     },
     "output_type": "display_data"
    }
   ],
   "source": [
    "plt.hist(ratio_prob, bins=100)\n",
    "plt.show()"
   ]
  },
  {
   "cell_type": "code",
   "execution_count": 16,
   "metadata": {},
   "outputs": [
    {
     "data": {
      "image/png": "[encoded data removed]",
      "text/plain": [
       "<Figure size 432x288 with 1 Axes>"
      ]
     },
     "metadata": {
      "needs_background": "light"
     },
     "output_type": "display_data"
    }
   ],
   "source": [
    "plt.hist(np.log10(ratio), bins=100)\n",
    "plt.show()"
   ]
  },
  {
   "cell_type": "code",
   "execution_count": 17,
   "metadata": {},
   "outputs": [
    {
     "data": {
      "image/png": "[encoded data removed]",
      "text/plain": [
       "<Figure size 432x288 with 1 Axes>"
      ]
     },
     "metadata": {
      "needs_background": "light"
     },
     "output_type": "display_data"
    }
   ],
   "source": [
    "plt.hist(np.log10(ratio_prob), bins=100)\n",
    "plt.show()"
   ]
  },
  {
   "cell_type": "markdown",
   "metadata": {},
   "source": [
    "## Check delta_E_pred vs delta_E_real"
   ]
  },
  {
   "cell_type": "code",
   "execution_count": 18,
   "metadata": {},
   "outputs": [],
   "source": [
    "losses = [\n",
    "    (\"MSE\", mean_squared_error),\n",
    "    (\"MAE\", mean_absolute_error),\n",
    "    (\"MAPE\", mean_absolute_percentage_error),\n",
    "    (\"Custom MAPE\", lambda a, b: custom_mape(a, b, True)),\n",
    "    (\n",
    "        \"50%-APE\",\n",
    "        lambda a, b: percentile_absolute_percentage_error(\n",
    "            a, b, 50\n",
    "        ),\n",
    "    ),\n",
    "    (\n",
    "        \"90%-APE\",\n",
    "        lambda a, b: percentile_absolute_percentage_error(\n",
    "            a, b, 90\n",
    "        ),\n",
    "    ),\n",
    "]"
   ]
  },
  {
   "cell_type": "code",
   "execution_count": 19,
   "metadata": {},
   "outputs": [
    {
     "name": "stdout",
     "output_type": "stream",
     "text": [
      "delta_E_pred vs delta_E_real\n",
      "MSE loss: 1.8805E-04\n",
      "MAE loss: 5.0747E-03\n",
      "MAPE loss: 6.0169E+00\n",
      "Custom MAPE loss: 7.1804E+00\n",
      "50%-APE loss: 7.0862E-01\n",
      "90%-APE loss: 1.9087E+00\n"
     ]
    }
   ],
   "source": [
    "print(\"delta_E_pred vs delta_E_real\")\n",
    "for loss_name, loss_fn in losses:\n",
    "    print(f\"{loss_name} loss: {loss_fn(full_df['delta_E_real'], full_df['delta_E_pred']):.4E}\")"
   ]
  },
  {
   "cell_type": "code",
   "execution_count": 20,
   "metadata": {},
   "outputs": [
    {
     "data": {
      "text/plain": [
       "<matplotlib.collections.PathCollection at 0x7fbe0c859e20>"
      ]
     },
     "execution_count": 20,
     "metadata": {},
     "output_type": "execute_result"
    },
    {
     "data": {
      "image/png": "[encoded data removed]",
      "text/plain": [
       "<Figure size 432x288 with 1 Axes>"
      ]
     },
     "metadata": {
      "needs_background": "light"
     },
     "output_type": "display_data"
    }
   ],
   "source": [
    "plt.xlabel(\"Actual values\")\n",
    "plt.ylabel(\"Predicted values\")\n",
    "plt.title(f\"R^2={r2_score(full_df['delta_E_real'], full_df['delta_E_pred']):.2f}\")\n",
    "plt.scatter(full_df['delta_E_real'], full_df['delta_E_pred'])"
   ]
  },
  {
   "cell_type": "code",
   "execution_count": 21,
   "metadata": {},
   "outputs": [
    {
     "name": "stdout",
     "output_type": "stream",
     "text": [
      "log10_delta_E_pred vs log10_delta_E_real\n",
      "MSE loss: 1.0864E+00\n",
      "MAE loss: 6.8014E-01\n",
      "MAPE loss: 2.4055E-01\n",
      "Custom MAPE loss: 3.3749E-01\n",
      "50%-APE loss: 1.2188E-01\n",
      "90%-APE loss: 5.7902E-01\n"
     ]
    }
   ],
   "source": [
    "print(\"log10_delta_E_pred vs log10_delta_E_real\")\n",
    "for loss_name, loss_fn in losses:\n",
    "    print(f\"{loss_name} loss: {loss_fn(np.log10(full_df['delta_E_real']), np.log10(full_df['delta_E_pred'])):.4E}\")"
   ]
  },
  {
   "cell_type": "code",
   "execution_count": 22,
   "metadata": {},
   "outputs": [
    {
     "data": {
      "text/plain": [
       "<matplotlib.collections.PathCollection at 0x7fbe0c7bb0d0>"
      ]
     },
     "execution_count": 22,
     "metadata": {},
     "output_type": "execute_result"
    },
    {
     "data": {
      "image/png": "[encoded data removed]",
      "text/plain": [
       "<Figure size 432x288 with 1 Axes>"
      ]
     },
     "metadata": {
      "needs_background": "light"
     },
     "output_type": "display_data"
    }
   ],
   "source": [
    "plt.xlabel(\"Actual values\")\n",
    "plt.ylabel(\"Predicted values\")\n",
    "plt.title(f\"R^2={r2_score(np.log10(full_df['delta_E_real']), np.log10(full_df['delta_E_pred'])):.2f}\")\n",
    "plt.scatter(np.log10(full_df['delta_E_real']), np.log10(full_df['delta_E_pred']))"
   ]
  },
  {
   "cell_type": "markdown",
   "metadata": {},
   "source": [
    "## Check sim_time_pred vs sim_time_real"
   ]
  },
  {
   "cell_type": "code",
   "execution_count": 23,
   "metadata": {},
   "outputs": [
    {
     "name": "stdout",
     "output_type": "stream",
     "text": [
      "sime_time_pred vs sim_time_real\n",
      "MSE loss: 3.2334E+09\n",
      "MAE loss: 2.4901E+04\n",
      "MAPE loss: 3.9318E-01\n",
      "Custom MAPE loss: 7.6035E-01\n",
      "50%-APE loss: 2.8405E-01\n",
      "90%-APE loss: 7.0172E-01\n"
     ]
    }
   ],
   "source": [
    "print(\"sime_time_pred vs sim_time_real\")\n",
    "for loss_name, loss_fn in losses:\n",
    "    print(f\"{loss_name} loss: {loss_fn(full_df['sim_time_real'], full_df['sim_time_pred']):.4E}\")"
   ]
  },
  {
   "cell_type": "code",
   "execution_count": 24,
   "metadata": {},
   "outputs": [
    {
     "data": {
      "text/plain": [
       "<matplotlib.collections.PathCollection at 0x7fbe0c832d00>"
      ]
     },
     "execution_count": 24,
     "metadata": {},
     "output_type": "execute_result"
    },
    {
     "data": {
      "image/png": "[encoded data removed]",
      "text/plain": [
       "<Figure size 432x288 with 1 Axes>"
      ]
     },
     "metadata": {
      "needs_background": "light"
     },
     "output_type": "display_data"
    }
   ],
   "source": [
    "plt.xlabel(\"Actual values\")\n",
    "plt.ylabel(\"Predicted values\")\n",
    "plt.title(f\"R^2={r2_score(full_df['sim_time_real'], full_df['sim_time_pred']):.2f}\")\n",
    "plt.scatter(full_df['sim_time_real'], full_df['sim_time_pred'])"
   ]
  },
  {
   "cell_type": "code",
   "execution_count": 25,
   "metadata": {},
   "outputs": [
    {
     "name": "stdout",
     "output_type": "stream",
     "text": [
      "log10_sime_time_pred vs log10_sim_time_real\n",
      "MSE loss: 9.9684E-02\n",
      "MAE loss: 2.0941E-01\n",
      "MAPE loss: 5.3847E-02\n",
      "Custom MAPE loss: 2.2309E-01\n",
      "50%-APE loss: 2.8062E-02\n",
      "90%-APE loss: 1.3560E-01\n"
     ]
    }
   ],
   "source": [
    "print(\"log10_sime_time_pred vs log10_sim_time_real\")\n",
    "for loss_name, loss_fn in losses:\n",
    "    print(f\"{loss_name} loss: {loss_fn(np.log10(full_df['sim_time_real']), np.log10(full_df['sim_time_pred'])):.4E}\")"
   ]
  },
  {
   "cell_type": "code",
   "execution_count": 26,
   "metadata": {},
   "outputs": [
    {
     "data": {
      "text/plain": [
       "<matplotlib.collections.PathCollection at 0x7fbe0caf12e0>"
      ]
     },
     "execution_count": 26,
     "metadata": {},
     "output_type": "execute_result"
    },
    {
     "data": {
      "image/png": "[encoded data removed]",
      "text/plain": [
       "<Figure size 432x288 with 1 Axes>"
      ]
     },
     "metadata": {
      "needs_background": "light"
     },
     "output_type": "display_data"
    }
   ],
   "source": [
    "plt.xlabel(\"Actual values\")\n",
    "plt.ylabel(\"Predicted values\")\n",
    "plt.title(f\"R^2={r2_score(np.log10(full_df['sim_time_real']), np.log10(full_df['sim_time_pred'])):.2f}\")\n",
    "plt.scatter(np.log10(full_df['sim_time_real']), np.log10(full_df['sim_time_pred']))"
   ]
  }
 ],
 "metadata": {
  "interpreter": {
   "hash": "31f2aee4e71d21fbe5cf8b01ff0e069b9275f58929596ceb00d14d90e3e16cd6"
  },
  "kernelspec": {
   "display_name": "Python 3.8.10 64-bit",
   "language": "python",
   "name": "python3"
  },
  "language_info": {
   "codemirror_mode": {
    "name": "ipython",
    "version": 3
   },
   "file_extension": ".py",
   "mimetype": "text/x-python",
   "name": "python",
   "nbconvert_exporter": "python",
   "pygments_lexer": "ipython3",
   "version": "3.8.10"
  },
  "orig_nbformat": 4
 },
 "nbformat": 4,
 "nbformat_minor": 2
}
